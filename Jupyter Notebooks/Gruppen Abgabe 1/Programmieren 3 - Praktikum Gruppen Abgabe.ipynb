{
 "cells": [
  {
   "cell_type": "markdown",
   "metadata": {},
   "source": [
    "## Programmier Praktikum \n",
    "## Gruppen Abgabe\n"
   ]
  },
  {
   "cell_type": "markdown",
   "metadata": {},
   "source": [
    "**Aufgabe A1**\n"
   ]
  },
  {
   "cell_type": "markdown",
   "metadata": {},
   "source": [
    "a) Leider ist es uns nicht möglich nur mit einer DIN A4 Seite langen Angabe  \n",
    "alle Anforderungen nachzukommen und alle Wünsche perfekt umzusetzen.  \n",
    "Dies liegt leider in der Natur des Menschen, das es immer wieder zu  \n",
    "Missverständnissen kommen kann. Daher sind wir darauf angewießen,  \n",
    "um einerseit Ihre Wünsche bestmöglich nachzukommen, als auch um ihre  \n",
    "Kostbare Zeit sowie ihr hochgeschätztes Geld nicht unnötig zu verschwenden,  \n",
    "Nachfragen zu stellen. Ich hoffe das dies in unseren gegenseitigen Interressen  \n",
    "möglich ist."
   ]
  },
  {
   "cell_type": "markdown",
   "metadata": {},
   "source": [
    "b) Anforderungen\n",
    "* Parallelisiertes und verteiltes Rechnen\n",
    "    * Durch parallelität soll es möglich sein, eine Rechenaufgabe aufzuteilen,  \n",
    "    damit auf Mehrkernsystemen sämtliche Kerne eigenständig der ihr zugeteilte  \n",
    "    Aufgabe zu berechnen. Dies soll die Gesamtrechenzeit verringern.\n",
    "    \n",
    "    \n",
    "* Grafische Benutzerschnittstelle\n",
    "    * Eine Grafische Benutzerschnittstelle auch GUI genannt, ist eine Schnittstelle  \n",
    "    zwischen Computer(Anwendung) und dem Benutzer. Dabei behandelt sie nur die  \n",
    "    optischen Interaktionen mit dem Benutzer.\n",
    "    \n",
    "    \n",
    "* Physikalische Simulation von Körpern im Raum\n",
    "    * Rechnerische Simulation von Gravition die mehere Körper in einen geschlossen  \n",
    "    System aufeinander ausüben\n",
    "    \n",
    "    \n",
    "* Ausnutzung der gegebenen Ressourcen (CPU-Kerne)\n",
    "    * Dadurch soll die Rechenzeit maximal möglich reduziert werden, und dabei alle  \n",
    "    möglichen Ressourcen komplett ausgenutzt werden. Währendessen muss sichergestellt  \n",
    "    werden, das es zu keinen Rechenfehler oder abweichenden Simulationen kommt.\n",
    "\n",
    "\n",
    "* 3D-Animation\n",
    "    * Die Simulation soll in einen drei Dimensionalen virtuellen Raum optisch Dargestellt werden.\n",
    "    \n",
    "    \n",
    "* Dokumentierung\n",
    "    * Die gesamte Software soll für die späteren möglichen Wartungs- oder Erweiterungs  \n",
    "    Aufgaben dokumentiert werden, damit dies zukünftigen externen Personen ermöglicht  \n",
    "    an dem Projekt weiter zu arbeiten.\n",
    "    \n",
    "    \n",
    "* Tests\n",
    "    * Durch Tests sollen mögliche Fehler und Bugs frühzeitig gefunden und  \n",
    "    behoben werden könne, sodass die Endsoftware frei von jenen ist.\n"
   ]
  },
  {
   "cell_type": "markdown",
   "metadata": {},
   "source": [
    "c) Die Aufgabenstellung ist deutlich kontreter gestellt als es in der Realität üblich ist "
   ]
  },
  {
   "cell_type": "markdown",
   "metadata": {},
   "source": [
    "d) Offene Fragen\n",
    "* Was ist mit verfügbaren Rechnern gemeint? (OS, ....)\n",
    "* Programme für parallelisierung?\n",
    "* Aussehen des Interfaces? Zielgruppe? Notwendige Parameter?\n",
    "* Welche Daten sind wichtig? Wieviele Körper?  \n",
    "    (besser spezifizieren, genauere Angaben)\n",
    "\n",
    "\n",
    "* Zufällige Verteilung? Was und wie?\n",
    "* Was Passiert wenn die selbe Position gewürfelt wird?\n",
    "\n",
    "\n",
    "* Initialisation in stabile Konfiguration? (Wie?)\n",
    "* Änderung der Rechnerkonfiguration während der Simulation?\n",
    "    HotPlug der Rechner Ja/Nein?\n",
    "\n",
    "\n",
    "* Wie genau Dokumentation?\n",
    "    * Notebooks -> html?\n",
    "    * pdf für externe Dokumente?\n",
    "    \n",
    "    \n",
    "* Test Umgebung?\n",
    "* Soll der Endkunde die Tests selber dürchführen?"
   ]
  },
  {
   "cell_type": "markdown",
   "metadata": {},
   "source": [
    "e) Wenn die vorhergehenden Teilaufgaben nicht richtig bearbeitet werden,  \n",
    "führt dies unweigerlich dazu, dass die Aufgabenstellung nicht korrekt  \n",
    "erfasst wird und das dann als konsequenz daraus eine vollständige  \n",
    "und richtige Abarbeitung sehr unwahrscheinlich wird. Ebenfalls laufen  \n",
    "wir dann als Gruppe Gefahr das Praktikum nicht mit den notwendigen  \n",
    "Qualitätsanspruchen abzuschließen. "
   ]
  },
  {
   "cell_type": "markdown",
   "metadata": {},
   "source": [
    "**Aufgabe A2**\n"
   ]
  },
  {
   "cell_type": "markdown",
   "metadata": {},
   "source": [
    "a) Physikalische Größen\n",
    "\n",
    "*  v = Geschwindigkeit meist in Meter pro Sekunde \t\t\t\tm / s\n",
    "\n",
    "*  a = Beschleunigung = Geschwindigkeit geteilt durch Zeit \t\t\tm / s²\n",
    "\n",
    "*  F = Kraft = m (Masse) * a (Beschleunigung) in Newton\t\t\t\t(kg*m) / s²\n",
    "\n",
    "*  t = Zeit\t\tin Sekunden\t\ts\n",
    "\n",
    "Punkt über einer Größe bedeutet erste Ableitung des Wertes nach t (zeit)  \n",
    "Zwei Punkte -> zweite Ableitung  \n",
    "Dreieck = Delta = unterschied von nachher – vorher  \n",
    "\n",
    "  * G = Universelle Gravitationskonstante\n",
    "  * g = Erdbeschleunigung 9,81 m / s²\n",
    "  * N = Newton = (kg *m) / s²\n",
    "  * Nm = Newton Meter = (kg * m / s²) * m"
   ]
  },
  {
   "cell_type": "markdown",
   "metadata": {},
   "source": [
    "b)   Weil es gerichtete Größen sind (richtungsweisend, vektoriell)  "
   ]
  },
  {
   "cell_type": "markdown",
   "metadata": {},
   "source": [
    "c)  Kräfte in der schiefen Ebene\n",
    "\n",
    "* |Fboden | = |Fn |\n",
    "\n",
    "* Fh = Hangabtriebskraft\n",
    "\n",
    "* Fg = Gewichtskraft wirkt immer gerade nach unten zum Zentrum der Erde\n",
    "\n",
    "<img src=\"files/hangabtriebskraft.gif\">"
   ]
  },
  {
   "cell_type": "markdown",
   "metadata": {},
   "source": [
    "**Aufgabe A3**"
   ]
  },
  {
   "cell_type": "markdown",
   "metadata": {},
   "source": [
    "a) Daten über unseres Sonnensystem\n",
    "\n",
    "| Objekt       | Masse (kg)      | Radius (km)   | Geschw. (km/s) | Bahn (km)      |\n",
    "|--------------|----------------:|--------------:|---------------:|---------------:|\n",
    "| Sonne        | 1,9889 x 10^30  |    696.321,00 |              - |              - |\n",
    "| Merkur       | 3,3022 x 10^23  |      2.439,76 |        47,8725 |     57.909.175 |\n",
    "| Venus        | 4,8685 x 10^24  |      6.051,59 |        35,0214 |    108.208.930 |\n",
    "| Erde         | 5,9737 x 10^24  |      6.378,15 |        29,7859 |    149.597.890 |\n",
    "| Mars         | 6,4185 x 10^23  |      3.397,00 |        24,1309 |    227.936.640 |\n",
    "| Jupiter      | 1,8987 x 10^27  |     71.492,68 |        13,0697 |    778.412.020 |\n",
    "| Saturn       | 5,6851 x 10^26  |     60.267,14 |         9,6724 |  1.426.725.400 |\n",
    "| Uranus       | 8,6849 x 10^25  |     25.559,00 |         6,8352 |  2.870.972.200 |\n",
    "| Neptun       | 1,0244 x 10^26  |     24.764,00 |         5,4778 |  4.498.252.900 |"
   ]
  },
  {
   "cell_type": "markdown",
   "metadata": {},
   "source": [
    "c) Skizze von der Bahn Sonne und Erde\n",
    "\n",
    "<img src=\"files/SkizzeErdeSonne.jpg\">"
   ]
  },
  {
   "cell_type": "markdown",
   "metadata": {},
   "source": [
    "d) Die Distanz der Erde zur Sonne zusammen mit der Geschwindigkeit  \n",
    "mit der Sie sich bewegt, sorgt dafür das die Zentrifugalkraft r genau  \n",
    "so groß ist wie die Zentripetalkraft g und damit bleibt sie stationär auf ihrer Bahn.\n"
   ]
  },
  {
   "cell_type": "markdown",
   "metadata": {},
   "source": [
    "**Aufgabe A4**"
   ]
  },
  {
   "cell_type": "markdown",
   "metadata": {},
   "source": [
    "a)\n",
    "  Die Schrittgröße in der Simulation ist das dt, also der Unterschied  \n",
    "  zwischen zwei Zeitpunkten. Wenn dt klein genug ist, kann man ausgehend  \n",
    "  von der Startposition und der Startgeschwindigkeit eines Planeten  \n",
    "  (die gegeben sein müssen), die nächste Position berechnen.  \n",
    "  Das macht man häufig hintereinander, um so eine flüssige Bewegung zu erzielen.  \n",
    "  Dabei ist zu beachten, dass nach jeder Positionsänderung sich auch der  \n",
    "  Geschwindigkeits- + Beschleunigungsvektor ändert und neu berechnet werden muss."
   ]
  },
  {
   "cell_type": "markdown",
   "metadata": {},
   "source": [
    "b) angepasste Formel\n",
    "\n",
    "$$ \\vec{r}^{\\,} (t+\\Delta t)\\approx\\vec{r}^{\\,}(t)+\\Delta t\\cdot\\frac{M-m_i}{M}\\cdot\\sqrt{\\frac{G\\cdot M}{|{\\vec{r_i}^{\\,} - \\vec{r_{s,i}}^{\\,}}|}}+\\frac{\\Delta t^2} {2} \\cdot \\vec{a}^{\\,}(t)$$\n",
    "\n",
    "\n",
    "$$ wobei\\:\\vec{r_{s,i}}^{\\,}\\:mit\\:(5)\\:berechnet\\:wird$$ "
   ]
  },
  {
   "cell_type": "markdown",
   "metadata": {},
   "source": [
    "c)\n",
    "In dem man dt = t2 – t1 in weitere Teile zerlegt,  \n",
    "also beispielsweise bei t1 = 0 und t2 = 10  \n",
    "zehn Berechnungen mit jeweils dt = 1."
   ]
  },
  {
   "cell_type": "markdown",
   "metadata": {},
   "source": [
    "d) Visualisierung\n",
    "\n",
    "<img src=\"files/Berechnungsablauf.png\">"
   ]
  },
  {
   "cell_type": "markdown",
   "metadata": {},
   "source": [
    "e)\n",
    "Das dt muss für eine Berechenbarkeit in ertragbarer Zeit immer noch  \n",
    "vergleichsweise groß gewählt werden, was zu Ungenauigkeiten führt.  \n",
    "Außerdem müsste man alle Bewegungen parallel berechnen anstatt nacheinander,  \n",
    "was zu weiteren Abweichungen führt.\n"
   ]
  },
  {
   "cell_type": "markdown",
   "metadata": {},
   "source": [
    "f) Die Vektoren für Geschwindigkeit etc. sind nur für genau diesen Moment korrekt.  \n",
    "Bewegt sich der Körper auch nur ein pm, müssten die Vektoren angepasst werden,  \n",
    "was aber aus praktischen Gründen nicht geht. Je größer dt, desto größer die Verspätung  \n",
    "für die Neuberechnung, desto größer die Rechenungenauigkeit."
   ]
  }
 ],
 "metadata": {
  "kernelspec": {
   "display_name": "Python [conda root]",
   "language": "python",
   "name": "conda-root-py"
  },
  "language_info": {
   "codemirror_mode": {
    "name": "ipython",
    "version": 3
   },
   "file_extension": ".py",
   "mimetype": "text/x-python",
   "name": "python",
   "nbconvert_exporter": "python",
   "pygments_lexer": "ipython3",
   "version": "3.6.3"
  },
  "latex_envs": {
   "LaTeX_envs_menu_present": true,
   "autocomplete": true,
   "bibliofile": "biblio.bib",
   "cite_by": "apalike",
   "current_citInitial": 1,
   "eqLabelWithNumbers": true,
   "eqNumInitial": 1,
   "hotkeys": {
    "equation": "Ctrl-E",
    "itemize": "Ctrl-I"
   },
   "labels_anchors": false,
   "latex_user_defs": false,
   "report_style_numbering": false,
   "user_envs_cfg": false
  }
 },
 "nbformat": 4,
 "nbformat_minor": 2
}
