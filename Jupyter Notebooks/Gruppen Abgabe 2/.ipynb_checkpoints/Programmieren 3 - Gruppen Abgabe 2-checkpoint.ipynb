{
 "cells": [
  {
   "cell_type": "markdown",
   "metadata": {},
   "source": [
    "## Programmier 3 Praktikum \n",
    "## Gruppen Abgabe 2\n"
   ]
  },
  {
   "cell_type": "markdown",
   "metadata": {},
   "source": [
    "**Offene Fragen*\n",
    "\n",
    "* A5a, A5b,  "
   ]
  },
  {
   "cell_type": "markdown",
   "metadata": {},
   "source": [
    "**Aufgabe A5**\n"
   ]
  },
  {
   "cell_type": "markdown",
   "metadata": {},
   "source": [
    "e) Offene Fragen an den Kunden\n",
    "\n",
    "* "
   ]
  },
  {
   "cell_type": "markdown",
   "metadata": {},
   "source": [
    "**Aufgabe A6**\n"
   ]
  },
  {
   "cell_type": "markdown",
   "metadata": {},
   "source": [
    "a)  Tabelle mit vor und Nachteilen\n",
    "\n",
    "| Pro                                               | Con                                     |\n",
    "|:-------------------------------------------------:|:---------------------------------------:|\n",
    "| Grobe Abschätzung mögicher Problemherde           | Man Weiß nicht was man testet           |\n",
    "| Genauere Auseinandersetzung mit der Architektur   | Kostet Zeit die woanders fehlt          |"
   ]
  },
  {
   "cell_type": "markdown",
   "metadata": {},
   "source": [
    "b) Liste mit Testfällen für das Physikalische System\n",
    "\n",
    "* Gesamt Impuls muss nach jeder Bewegung gleich bleiben\n",
    "* Masse darf nicht negativ bleiben\n",
    "* Positionen dürfen nicht identisch sein\n",
    "* Neue Geschwindigkeit muss gleich sein über die Positionsänderung durch Zeit\n",
    "  und alte Geschwindikeit  plus Beschleunigung durch Delta T"
   ]
  },
  {
   "cell_type": "markdown",
   "metadata": {},
   "source": [
    "d) Testfälle fürs Gesamtsystem\n",
    "\n",
    "* PingTest an alle Systeme\n",
    "* Testberechung an alle Teilsystem (zur bestimmung der Korrektheit)\n"
   ]
  },
  {
   "cell_type": "markdown",
   "metadata": {},
   "source": [
    "**Aufgabe A7**\n"
   ]
  },
  {
   "cell_type": "markdown",
   "metadata": {},
   "source": [
    "**Aufgabe A8**"
   ]
  },
  {
   "cell_type": "code",
   "execution_count": null,
   "metadata": {
    "collapsed": true
   },
   "outputs": [],
   "source": []
  }
 ],
 "metadata": {
  "kernelspec": {
   "display_name": "Python [conda root]",
   "language": "python",
   "name": "conda-root-py"
  },
  "language_info": {
   "codemirror_mode": {
    "name": "ipython",
    "version": 3
   },
   "file_extension": ".py",
   "mimetype": "text/x-python",
   "name": "python",
   "nbconvert_exporter": "python",
   "pygments_lexer": "ipython3",
   "version": "3.6.0"
  },
  "latex_envs": {
   "LaTeX_envs_menu_present": true,
   "autocomplete": true,
   "bibliofile": "biblio.bib",
   "cite_by": "apalike",
   "current_citInitial": 1,
   "eqLabelWithNumbers": true,
   "eqNumInitial": 1,
   "hotkeys": {
    "equation": "Ctrl-E",
    "itemize": "Ctrl-I"
   },
   "labels_anchors": false,
   "latex_user_defs": false,
   "report_style_numbering": false,
   "user_envs_cfg": false
  }
 },
 "nbformat": 4,
 "nbformat_minor": 2
}
