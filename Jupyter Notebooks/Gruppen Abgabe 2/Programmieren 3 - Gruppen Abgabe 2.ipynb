{
 "cells": [
  {
   "cell_type": "markdown",
   "metadata": {},
   "source": [
    "## Programmier 3 Praktikum \n",
    "## Gruppen Abgabe 2\n"
   ]
  },
  {
   "cell_type": "markdown",
   "metadata": {},
   "source": [
    "**Offene Fragen*\n",
    "\n",
    "Aktuell keine"
   ]
  },
  {
   "cell_type": "markdown",
   "metadata": {},
   "source": [
    "**Aufgabe A5**\n"
   ]
  },
  {
   "cell_type": "markdown",
   "metadata": {},
   "source": [
    "a) Siehe Skizzen"
   ]
  },
  {
   "cell_type": "markdown",
   "metadata": {},
   "source": [
    "b)\n",
    "\n",
    "| Vorschlag                       | Pro                                  | Kontra             |\n",
    "|:-------------------------------:|:------------------------------------:|:------------------:|\n",
    "| Planeten als Liste|- Direktzugriff| - Identifizierung?|\n",
    "|                                 | - Schlank                            |                    |\n",
    "|                                 | - Ales an einem Ort                  |                    |\n",
    "|                                 | - Datensätze könen leicht manipuliert werden                  |                 |\n",
    "| Planeten als Objekt realisieren | - Funktionen können mit Daten verbunden                 |                    |\n",
    "|                                 | - Sauberer Code                      | - Mehr Speicher    |                   \n",
    "\n"
   ]
  },
  {
   "cell_type": "markdown",
   "metadata": {},
   "source": [
    "c) <img src=\"files/a5c.png\">"
   ]
  },
  {
   "cell_type": "markdown",
   "metadata": {},
   "source": [
    "d) Es ist unter umständen nicht direkt ersichtlich welcher Ansatz zum gewünschten Ergebniss führt.\n",
    "   Eine parallele Verfolgung meherer Ansätze kann zur Erkenntnis führen, welche der Ansätze sich dann schlussendlich als fruchtbar herausstellen. "
   ]
  },
  {
   "cell_type": "markdown",
   "metadata": {},
   "source": [
    "e) Offene Fragen an den Kunden\n",
    "\n",
    "* Siehe A-1-d in Programmieren 3 - Gruppen Abgabe 1"
   ]
  },
  {
   "cell_type": "markdown",
   "metadata": {},
   "source": [
    "**Aufgabe A6**\n"
   ]
  },
  {
   "cell_type": "markdown",
   "metadata": {},
   "source": [
    "a)  Tabelle mit vor und Nachteilen\n",
    "\n",
    "| Pro                                               | Con                                     |\n",
    "|:-------------------------------------------------:|:---------------------------------------:|\n",
    "| Grobe Abschätzung möglicher Problemherde          | Man weiß nicht was man testet           |\n",
    "| Genauere Auseinandersetzung mit der Architektur   | Kostet Zeit die woanders fehlt          |\n",
    "| Feste Sachen (bsp. Physik) können sicher am Anfang getestet werden | Es sind nicht alle Testfälle bekannt |\n",
    "| Es zwingt zu frühen Überlegungen| Es können sich Spezifikationen ändern|\n",
    "| | Verlangsamen Entwicklung |\n",
    "\n",
    "Fazit: first make it run then make it fast"
   ]
  },
  {
   "cell_type": "markdown",
   "metadata": {},
   "source": [
    "b) Liste mit Testfällen für das Physikalische System\n",
    "\n",
    "* Gesamt Impuls muss nach jeder Bewegung gleich bleiben\n",
    "* Masse darf nicht negativ sein\n",
    "* Positionen dürfen nicht identisch sein\n",
    "* Neue Geschwindigkeit muss gleich sein über die Positionsänderung durch Zeit\n",
    "  und alte Geschwindikeit  plus Beschleunigung durch Delta T"
   ]
  },
  {
   "cell_type": "markdown",
   "metadata": {},
   "source": [
    "c) Sollten alle Anforderungen abdecken"
   ]
  },
  {
   "cell_type": "markdown",
   "metadata": {},
   "source": [
    "d) Testfälle fürs Gesamtsystem\n",
    "\n",
    "* PingTest an alle Systeme\n",
    "* Testberechung an alle Teilsystem (zur bestimmung der Korrektheit)\n",
    "* Korrekte Berechung aller Formeln\n",
    "* Ob die selbe Berechnung am jeden PC das selbe Ergebnis\n"
   ]
  },
  {
   "cell_type": "markdown",
   "metadata": {},
   "source": [
    "**Aufgabe A7**\n"
   ]
  },
  {
   "cell_type": "markdown",
   "metadata": {},
   "source": [
    "a)"
   ]
  },
  {
   "cell_type": "markdown",
   "metadata": {},
   "source": [
    "b)"
   ]
  },
  {
   "cell_type": "markdown",
   "metadata": {},
   "source": [
    "c) Die von uns durchgeführten Test geben Rückschlüsse auf die Implementierung dadurch, dass es Anhand der Fälle die durch die Tests abgedeckt werden, sofort ersichtlich wird, an welchen Stellen der Code Schwachstellen oder Engstellen aufgewiesen hat und diese erkannt worden sind und entsprechend behoben wurden. Dadurch lässt sich durch geschicktes Lesen die Qualität der Implementierung erahnen "
   ]
  },
  {
   "cell_type": "markdown",
   "metadata": {},
   "source": [
    "**Aufgabe A8**"
   ]
  },
  {
   "cell_type": "markdown",
   "metadata": {
    "collapsed": true
   },
   "source": [
    "a)"
   ]
  },
  {
   "cell_type": "markdown",
   "metadata": {},
   "source": [
    "b)"
   ]
  },
  {
   "cell_type": "markdown",
   "metadata": {},
   "source": [
    "c) "
   ]
  },
  {
   "cell_type": "markdown",
   "metadata": {},
   "source": [
    "d)"
   ]
  }
 ],
 "metadata": {
  "kernelspec": {
   "display_name": "Python [conda root]",
   "language": "python",
   "name": "conda-root-py"
  },
  "language_info": {
   "codemirror_mode": {
    "name": "ipython",
    "version": 3
   },
   "file_extension": ".py",
   "mimetype": "text/x-python",
   "name": "python",
   "nbconvert_exporter": "python",
   "pygments_lexer": "ipython3",
   "version": "3.6.0"
  },
  "latex_envs": {
   "LaTeX_envs_menu_present": true,
   "autocomplete": true,
   "bibliofile": "biblio.bib",
   "cite_by": "apalike",
   "current_citInitial": 1,
   "eqLabelWithNumbers": true,
   "eqNumInitial": 1,
   "hotkeys": {
    "equation": "Ctrl-E",
    "itemize": "Ctrl-I"
   },
   "labels_anchors": false,
   "latex_user_defs": false,
   "report_style_numbering": false,
   "user_envs_cfg": false
  }
 },
 "nbformat": 4,
 "nbformat_minor": 2
}
