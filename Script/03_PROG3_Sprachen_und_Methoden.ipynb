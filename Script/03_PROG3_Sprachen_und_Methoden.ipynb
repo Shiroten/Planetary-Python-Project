{
 "cells": [
  {
   "cell_type": "markdown",
   "metadata": {
    "slideshow": {
     "slide_type": "slide"
    }
   },
   "source": [
    "\n",
    "Programmieren 3 - Sprachen und Methoden\n",
    "\n",
    "Peter Rösch, Fakultät für Informatik\n",
    "\n",
    "Hochschule Augsburg, Winter 2017/2018"
   ]
  },
  {
   "cell_type": "markdown",
   "metadata": {
    "slideshow": {
     "slide_type": "slide"
    }
   },
   "source": [
    "# Nachträge und Ergänzungen"
   ]
  },
  {
   "cell_type": "markdown",
   "metadata": {
    "slideshow": {
     "slide_type": "subslide"
    }
   },
   "source": [
    "## Organisation"
   ]
  },
  {
   "cell_type": "markdown",
   "metadata": {},
   "source": [
    "Vom 01.11.2017 bis zum 22.11. wird Ihr Dozent vertreten durch Herrn Seifert (Vorlesungen) und Herrn Lüder (Praktika). Um dies zu ermöglichen, müssen folgende Verlegungen in dieser Zeit vorgenommen werden:\n",
    "\n",
    "Dienstag: Die Gruppen werden um einen Block vorverlegt, also \n",
    "\n",
    "**Gruppen 1-3:** Beginn um 08:00 Uhr statt um 09:50 Uhr\n",
    "\n",
    "**Gruppen 4-6:** Beginn um 09:50 Uhr statt um 11:20 Uhr"
   ]
  },
  {
   "cell_type": "markdown",
   "metadata": {
    "slideshow": {
     "slide_type": "subslide"
    }
   },
   "source": [
    "## Übungen: Hilfestellung"
   ]
  },
  {
   "cell_type": "markdown",
   "metadata": {},
   "source": [
    "Um Nachteile für Studierende zu vermeiden, die wegen Krankheit nicht an den Übungen teilnehmen konnten, hier wichtige Ergebnisse unserer Diskussionen bezüglich des Handlungsreisenden:\n",
    "\n",
    "1. **Visualisierung des Problems:** Es ist hilfreich, die Problemstellung als Baum darzustellen. Oben befindet sich die Stadt, an der die Rundreise beginnt und darunter jewels die Städte, die noch nicht besucht worden sind. Bei vier Städten A, B, C, D und Start bei A sieht das als ASCII-Visualsierung so aus:\n",
    "\n",
    "                  A\n",
    "                / | \\\n",
    "               /  |  \\ \n",
    "              /   |   \\    \n",
    "             /    |    \\\n",
    "            /     |     \\\n",
    "          B       C       D\n",
    "         / \\     / \\     / \\\n",
    "        C   D   B   D   B   C\n",
    "        |   |   |   |   |   |\n",
    "        D   C   D   B   C   B\n",
    "1. **Rekursion:** Es gibt zwei wichtige Fragen, die geklärt sein müssen, damit eine rekursive Funktion erstellt werden kann:\n",
    "   1. Parameter, die die Funktion beim rekursiven Aufruf an sich selbst übergibt: In diesem Fall können die Städte, die schon besucht wurden sowie die Städte, die noch besucht werden müssen, übergeben werden.\n",
    "   1. Abbruchbedingung: Wenn keine Städte mehr zu besuchen sind, ruft sich die Funktion nicht mehr selbst auf.\n",
    "   \n",
    "Der kürzeste bisher gefundenen Rundweg sowie dessen Länge können in Variablen außerhalb der rekursiven Funktion gespeichert werden oder als Parameter übergeben werden."
   ]
  },
  {
   "cell_type": "markdown",
   "metadata": {
    "slideshow": {
     "slide_type": "subslide"
    }
   },
   "source": [
    "## pyBox: *sshfs*"
   ]
  },
  {
   "cell_type": "markdown",
   "metadata": {},
   "source": [
    "Das Paket *sshfs* wurde bei der Installation versehentlich vergessen. Sie können das Paket wie folgt nachinstallieren:\n",
    "\n",
    "    sudo apt-get install sshfs"
   ]
  },
  {
   "cell_type": "markdown",
   "metadata": {
    "slideshow": {
     "slide_type": "subslide"
    }
   },
   "source": [
    "## *if \\_\\_name\\_\\_ == '\\_\\_main\\_\\_'*:"
   ]
  },
  {
   "cell_type": "markdown",
   "metadata": {},
   "source": [
    "Dieses Konstrukt sorgt dafür, dass Code nur beim direkten Starten eines Moduls mit dem Interpreter ausgeführt wird, nicht aber beim *import* des Moduls."
   ]
  },
  {
   "cell_type": "markdown",
   "metadata": {
    "slideshow": {
     "slide_type": "subslide"
    }
   },
   "source": [
    "## Run-Optionen in *spyder*"
   ]
  },
  {
   "cell_type": "markdown",
   "metadata": {},
   "source": [
    "Wenn Sie Ihre Python-Programme in dem Interpreter ausführen, in dem auch *spyder* selbst läuft, kann es zu Problemen insbesondere bei der Eingabe mit *input* kommen. Im Menü *Tools -> Preferences -> Run* können Sie die Default-Einstellung auf *Execute in new dedicated Python console* umstellen. Alternativ können Sie vor dem Start des Programms diese Einstellung über das Menü *Run -> Configure* (oder die Taste F6) vornehmen."
   ]
  },
  {
   "cell_type": "markdown",
   "metadata": {
    "slideshow": {
     "slide_type": "subslide"
    }
   },
   "source": [
    "## *pylint*-Warnung wg. globaler Variablen"
   ]
  },
  {
   "cell_type": "markdown",
   "metadata": {},
   "source": [
    "Folgendes Progamm führt bei der statischen Code-Analyse in Spyder zu folgender Warnung\n",
    "\n",
    "*invalid constant name meine_liste*:"
   ]
  },
  {
   "cell_type": "code",
   "execution_count": null,
   "metadata": {
    "collapsed": true
   },
   "outputs": [],
   "source": [
    "\"\"\" Demo-Programm \"\"\"\n",
    "\n",
    "if __name__ == '__main__':\n",
    "    meine_liste = [1, 2, 3, 4]\n",
    "    print(meine_liste[1:])"
   ]
  },
  {
   "cell_type": "markdown",
   "metadata": {},
   "source": [
    "Der Grund ist, dass *pylint* für globale Variable Großbuchstaben erwartet."
   ]
  },
  {
   "cell_type": "markdown",
   "metadata": {
    "slideshow": {
     "slide_type": "subslide"
    }
   },
   "source": [
    "### Lösung"
   ]
  },
  {
   "cell_type": "markdown",
   "metadata": {},
   "source": [
    "Einführung einer Funktion, so dass die Variablen nicht mehr global sind:"
   ]
  },
  {
   "cell_type": "code",
   "execution_count": null,
   "metadata": {
    "collapsed": true
   },
   "outputs": [],
   "source": [
    "\"\"\" Demo-Programm \"\"\"\n",
    "\n",
    "\n",
    "def main():\n",
    "    \"\"\" main-Funktion\"\"\"\n",
    "    meine_liste = [1, 2, 3, 4]\n",
    "    print(meine_liste[1:])\n",
    "\n",
    "if __name__ == '__main__':\n",
    "    main()"
   ]
  },
  {
   "cell_type": "markdown",
   "metadata": {
    "slideshow": {
     "slide_type": "slide"
    }
   },
   "source": [
    "# Ziele"
   ]
  },
  {
   "cell_type": "markdown",
   "metadata": {},
   "source": [
    "* Sie haben ein Gefühl für die direkte Programmierung eines [einfachen Rechners](http://www.cs.columbia.edu/~sedwards/apple2fpga/Apple-II.jpg) mit aus heutiger Sicht rustikalen Werkzeugen.\n",
    "* Sie kennen die grundlegenden Unterschiede zwischen Maschensprache, Assembler, Apple-Basic, UCSD-Pascal, C, C++ und Python."
   ]
  },
  {
   "cell_type": "markdown",
   "metadata": {
    "slideshow": {
     "slide_type": "slide"
    }
   },
   "source": [
    "# Maschinensprache und Assembler"
   ]
  },
  {
   "cell_type": "markdown",
   "metadata": {
    "slideshow": {
     "slide_type": "subslide"
    }
   },
   "source": [
    "## Quellen und Ergänzungen"
   ]
  },
  {
   "cell_type": "markdown",
   "metadata": {},
   "source": [
    "Ein Blockdiagramm des 6502-Prozessors finden Sie [hier](http://commons.wikimedia.org/wiki/File:6502-architecture.svg).\n",
    "\n",
    "Tabellen mit den Assembler-Befehlen und Opcodes sind [hier](http://www.llx.com/~nparker/a2/opcodes.html) aufgeführt.\n",
    "\n",
    "* [AppleII: Speicher-Bereiche](http://www.kreativekorp.com/miscpages/a2info/memorymap.shtml)\n",
    "* [AppleII: Assembler-Programmierung](http://www.appleoldies.ca/anix/Using-6502-Assembly-Language-by-Randy-Hyde.pdf)"
   ]
  },
  {
   "cell_type": "markdown",
   "metadata": {
    "slideshow": {
     "slide_type": "subslide"
    }
   },
   "source": [
    "Hier einige interessante AppleII-ROM-Routinen:\n",
    "\n",
    "* FAD7 (-1321) Ausgabe aller CPU-Register.\n",
    "* FC58 (-936)  Löschen des Bildschirms.\n",
    "* FDED (-531)  Ausgabe des Zeichens, dessen Bildschirm-Code sich im Akkumulator befindet."
   ]
  },
  {
   "cell_type": "markdown",
   "metadata": {
    "slideshow": {
     "slide_type": "subslide"
    }
   },
   "source": [
    "## Direkte Manipulation des Speicherinhalts"
   ]
  },
  {
   "cell_type": "code",
   "execution_count": null,
   "metadata": {
    "slideshow": {
     "slide_type": "fragment"
    }
   },
   "outputs": [],
   "source": [
    "# Python als Taschenrechner ...\n",
    "# Umrechung Hexadezimal-> Dezimal\n",
    "print('0xFC58 = ', 0xFC58)\n",
    "# Umrechnung Hexadizimal -> 16Bit-Dezimal\n",
    "print ('0xFC58 = ', 0xFC58 - 0x10000)"
   ]
  },
  {
   "cell_type": "code",
   "execution_count": null,
   "metadata": {
    "slideshow": {
     "slide_type": "subslide"
    }
   },
   "outputs": [],
   "source": [
    "for c in 'PROG3':\n",
    "    print(hex(ord(c)).upper(), end=' ')"
   ]
  },
  {
   "cell_type": "markdown",
   "metadata": {
    "slideshow": {
     "slide_type": "subslide"
    }
   },
   "source": [
    "Die ASCII-Hexadezimal-Sequenz, die *PROG3* entspricht ist also *50 52 4F 47 33*"
   ]
  },
  {
   "cell_type": "code",
   "execution_count": null,
   "metadata": {
    "slideshow": {
     "slide_type": "subslide"
    }
   },
   "outputs": [],
   "source": [
    "# Bildschirm-Codes\n",
    "for c in 'PROG3':\n",
    "    print(hex(ord(c)+0x80).upper(), end=' ')"
   ]
  },
  {
   "cell_type": "markdown",
   "metadata": {},
   "source": [
    "Die Bildschirm-Codes sind um 0x80 versetzt, also *D0 D2 CF C7 B3*."
   ]
  },
  {
   "cell_type": "markdown",
   "metadata": {
    "slideshow": {
     "slide_type": "subslide"
    }
   },
   "source": [
    "Wir nutzen den Emulator [linapple](http://linapple.sourceforge.net), um Experimente durchzuführen. Für Windows gibt es [AppleWin](https://github.com/AppleWin)."
   ]
  },
  {
   "cell_type": "markdown",
   "metadata": {
    "slideshow": {
     "slide_type": "subslide"
    }
   },
   "source": [
    "## Symbolischer Assembler"
   ]
  },
  {
   "cell_type": "markdown",
   "metadata": {
    "slideshow": {
     "slide_type": "fragment"
    }
   },
   "source": [
    "Einen Online-6502-Emulator mit anspruchsvollen Beispielen finden Sie [hier](http://www.6502asm.com).\n",
    "\n",
    "Gegenüber der direkten Eingabe von Maschinen-Code bietet *LISA* folgende Vorteile:\n",
    "\n",
    "* Symbolische Namen für Variablen und Befehle.\n",
    "* Speichern und Laden von Programmen (Diskette).\n",
    "* Editor ..."
   ]
  },
  {
   "cell_type": "markdown",
   "metadata": {
    "slideshow": {
     "slide_type": "subslide"
    }
   },
   "source": [
    "Für den LISA-Assembler sieht ein Programm zur Ausgabe der Zeichenkette \"PROG3\" so aus:"
   ]
  },
  {
   "cell_type": "raw",
   "metadata": {},
   "source": [
    "         ORG $300\n",
    "COUT     EQU $FDED\n",
    "         LDX #$0\n",
    "LOOP     LDA MSG,X\n",
    "         BEQ DONE\n",
    "         JSR COUT\n",
    "         INX \n",
    "         JMP LOOP\n",
    "DONE     RTS \n",
    "MSG      ASC \"PROG3\"\n",
    "         HEX 8D\n",
    "         HEX 00\n",
    "         END"
   ]
  },
  {
   "cell_type": "raw",
   "metadata": {},
   "source": [
    "         ORG $300    ;DAS PROGRAMM IST 38 BYTE GROSS\n",
    "TEX      EQU $538    ;ADRESSE IM TEXT-BILDSCHIRM-SPEICHER\n",
    "         JSR $FC58   ;CLEARSCREEN\n",
    "         LDA #$B0    ;'0'\n",
    "         LDX #$0A    ;10 STELLEN\n",
    "FUELL    STA TEX,X   ;FUELLEN MIT '0'\n",
    "         DEX         ;X UM EINS VERRINGERN\n",
    "         BNE FUELL\n",
    "         LDA #$B9    ;'9'\n",
    "RECHTS   LDX #$0A\n",
    "HOCHZ    CMP TEX,X   ;VERGLEICH MIT DEM AKKUMULATOR-INHALT\n",
    "         BEQ IST9    ;BRANCH IF EQUAL \n",
    "         INC TEX,X   ;UM 1 ERHOEHEN\n",
    "         JMP RECHTS  ;UNBEDINGTER SPRUNG\n",
    "IST9     LDA #$B0\n",
    "         STA TEX,X\n",
    "         LDA #$B9\n",
    "         DEX \n",
    "         JMP HOCHZ\n",
    "         END "
   ]
  },
  {
   "cell_type": "markdown",
   "metadata": {
    "slideshow": {
     "slide_type": "slide"
    }
   },
   "source": [
    "# Basic und Pascal"
   ]
  },
  {
   "cell_type": "markdown",
   "metadata": {
    "slideshow": {
     "slide_type": "skip"
    }
   },
   "source": [
    "## Quellen und Ergänzungen"
   ]
  },
  {
   "cell_type": "markdown",
   "metadata": {},
   "source": [
    "Ein Online-Buch zu [Applesoft BASIC](https://images.duckduckgo.com/iu/?u=http%3A%2F%2Fecx.images-amazon.com%2Fimages%2FI%2F41wpy8vsFYL._SY344_BO1%2C204%2C203%2C200_.jpg&f=1) mit einer Anleitung finden Sie [hier](http://apple2online.com/web_documents/apple_iie_programmer__s_manual.pdf).\n",
    "\n",
    "Falls Sie sich für die interne Darstellung von BASIC-Programmen interessieren, schauen Sie doch einfach in diesem [wiki](http://justsolve.archiveteam.org/wiki/Applesoft_BASIC_tokenized_file) nach.\n",
    "\n",
    "Eine Vorlesung zu UCSD-Pascal finden Sie [hier](http://ssc.bibalex.org/viewer/detail.jsf;jsessionid=223B165E7C418E861A68EF780E460887?lid=4BFBF6236CB2075480E45EBC77C7961A&aid=2F96A3A57955C2A4307695F4D2C7D21D&category=79D6B2C2C62F4A26B1A959FC887C550D&sort=1&page=1\n",
    ").\n",
    "\n",
    "Das Applesoft-Handbuch von 1977 finden Sie [hier](http://apple2online.com/web_documents/applesoft_basic_language_reference_manual__1977_.pdf)."
   ]
  },
  {
   "cell_type": "markdown",
   "metadata": {
    "slideshow": {
     "slide_type": "subslide"
    }
   },
   "source": [
    "Folgende Eigenschaften der Sprachen sind interessant:\n",
    "\n",
    "**Applesoft Basic:**\n",
    "\n",
    "* Befehle werden in Tokens umgewandelt und von einem Interpreter ausgeführt.\n",
    "* Es gibt Float-Arithmetik mit trigonometrischen Funktionen etc.\n",
    "* Eine Fehlerbehandlung mit *ONERR ... GOTO* ist möglich.\n",
    "* Unterprogramme können mit *GOSUB* aufgerufen werden.\n",
    "\n",
    "**Pascal:**\n",
    "\n",
    "* Eigene Datentypen können z.B. mit *RECORD* definiert werden.\n",
    "* Es gibt *FUNCTION* und *PROCEDURE*.\n",
    "* Es gibt Mengen (SET)."
   ]
  },
  {
   "cell_type": "markdown",
   "metadata": {
    "slideshow": {
     "slide_type": "subslide"
    }
   },
   "source": [
    "## BASIC - Demo"
   ]
  },
  {
   "cell_type": "raw",
   "metadata": {},
   "source": [
    "A$=\"HALLO \"\n",
    "B$=\"PROG3!\"\n",
    "PRINT A$ + B$\n",
    "A%=12.3\n",
    "PRINT A%\n",
    "A=2.13\n",
    "PRINT SIN(A)"
   ]
  },
  {
   "cell_type": "markdown",
   "metadata": {},
   "source": [
    "Der Datentyp wird über den Variablennamen codiert."
   ]
  },
  {
   "cell_type": "raw",
   "metadata": {},
   "source": [
    "DADA=33\n",
    "DAHEIM=44\n",
    "PRINT DADA\n",
    "PRINT DASGIBTSNICHT"
   ]
  },
  {
   "cell_type": "markdown",
   "metadata": {},
   "source": [
    "Die ersten beiden Buchstaben definieren den Variablennamen."
   ]
  },
  {
   "cell_type": "raw",
   "metadata": {},
   "source": [
    "HGR\n",
    "HPLOT 0,0 TO 100,100"
   ]
  },
  {
   "cell_type": "raw",
   "metadata": {},
   "source": [
    "10 HGR2\n",
    "20 FOR X = 0 TO 279 STEP 10\n",
    "30 HPLOT X,0 TO 279-X,191\n",
    "40 NEXT X\n",
    "50 END\n",
    "RUN\n",
    "TEXT"
   ]
  },
  {
   "cell_type": "raw",
   "metadata": {},
   "source": [
    " 10   INPUT \"DIE GROESSTMOEGLICHE ZAHL IST: \";A\n",
    " 20   PRINT \n",
    " 30   PRINT \"ERRATEN SIE DIE ZAHL ZWISCHEN 0 UND \";A\n",
    " 40   PRINT \n",
    " 50   PRINT \"IHR VORSCHLAG\"\n",
    " 60   N =  INT (A *  RND (1))\n",
    " 70   I = 0\n",
    " 80   I = I + 1\n",
    " 90   INPUT X\n",
    " 100  IF X = N THEN  GOTO 140\n",
    " 110  IF X < N THEN  PRINT \"ZU KLEIN ...\"\n",
    " 120  IF X > N THEN  PRINT \"ZU GROSS ...\"\n",
    " 130  GOTO 80\n",
    " 140  PRINT \"SIE HABEN DIE ZAHL IN \";I;\" VERSUCHEN GEFUNDEN\"\n",
    " 150  END "
   ]
  },
  {
   "cell_type": "markdown",
   "metadata": {},
   "source": [
    "Mit dem Befehl *TRACE* kann man erreichen, dass die Nummern der ausgeführten Zeilen ausgegeben werden."
   ]
  },
  {
   "cell_type": "markdown",
   "metadata": {
    "slideshow": {
     "slide_type": "subslide"
    }
   },
   "source": [
    "## UCSD-Pascal - Einführung"
   ]
  },
  {
   "cell_type": "markdown",
   "metadata": {},
   "source": [
    "[UCSD-Pascal](https://en.wikipedia.org/wiki/UCSD_Pascal) wurde von [Niklaus Wirth](https://en.wikipedia.org/wiki/Niklaus_Wirth) erfunden und setzte früh auf das Prinzip der virtuellen Maschine. Der P-Code-Interpreter lief auf verschiedenen Systemen und war für Rechner mit 64 kByte Speicher optimiert. Der plattformunabhängige Ansatz hat Gemeinsamkeiten mit Java.\n",
    "\n",
    "Insbesondere die Möglichkeiten, Funktionen und Prozeduren zu implementieren, Daten in *records* und größere Aufgaben in *Units* zu strukturieren, vermieden den in Basic nicht unüblichen \"Spaghetti-Code\"."
   ]
  },
  {
   "cell_type": "markdown",
   "metadata": {
    "slideshow": {
     "slide_type": "subslide"
    }
   },
   "source": [
    "## USCD-Pascal - Demo"
   ]
  },
  {
   "cell_type": "markdown",
   "metadata": {},
   "source": [
    "[UCSD-Pascal auf AppleII-Rechnern](https://en.wikipedia.org/wiki/Apple_Pascal) wurde ab 1980 an vielen Schulen für Programmierübungen eingesetzt. Da das System nicht auf eine 140k-Diskette passte, mußte zum Compilieren die Diskette gewechselt werden ..."
   ]
  },
  {
   "cell_type": "markdown",
   "metadata": {
    "slideshow": {
     "slide_type": "subslide"
    }
   },
   "source": [
    "    PROGRAM HELLO;\n",
    "        BEGIN\n",
    "                WRITELN('HELLO');\n",
    "        END."
   ]
  },
  {
   "cell_type": "markdown",
   "metadata": {
    "slideshow": {
     "slide_type": "subslide"
    }
   },
   "source": [
    "    PROGRAM QTAB;\n",
    "    VAR  ANFANG,ENDE,I,QADRZAHL:INTEGER;\n",
    "                       ANTWORT :CHAR;\n",
    "       BEGIN\n",
    "       ANTWORT:='J';\n",
    "       WHILE (ANTWORT<>'N')DO\n",
    "          BEGIN\n",
    "          WRITELN;\n",
    "          WRITE('ANFANGSZAHL:');\n",
    "          READLN(ANFANG);\n",
    "          WRITE('ENDZAHL:');\n",
    "          READLN(ENDE);\n",
    "          WRITELN;\n",
    "          IF ANFANG<ENDE THEN\n",
    "             BEGIN\n",
    "             WRITELN(' ':4,'ZAHL',' ':4,'QUADRATZAHL');\n",
    "             FOR I:=ANFANG TO ENDE DO\n",
    "                BEGIN\n",
    "                QADRZAHL:=I*I;\n",
    "                WRITELN(I:8,QADRZAHL:12)\n",
    "                END;\n",
    "             WRITELN;WRITELN\n",
    "             END;\n",
    "          WRITE ('NOCHMAL? J/N  ');\n",
    "          READLN(ANTWORT)\n",
    "          END \n",
    "       END."
   ]
  },
  {
   "cell_type": "markdown",
   "metadata": {
    "slideshow": {
     "slide_type": "subslide"
    }
   },
   "source": [
    "Über die Bibliothek *Turtlegraphics* konnten auch hochaufgelöste (280x192 Pixel) Grafiken ausgegeben. werden. Beispiel: *FUNKTION.CODE*."
   ]
  },
  {
   "cell_type": "markdown",
   "metadata": {
    "slideshow": {
     "slide_type": "slide"
    }
   },
   "source": [
    "# C und C++"
   ]
  },
  {
   "cell_type": "markdown",
   "metadata": {},
   "source": [
    "Im Gegensatz zu Basic und UCSD-Pascal wird vom Compiler direkt ausführbarer Code erzeugt.\n",
    "\n",
    "Quellen und Ergänzungen:\n",
    "\n",
    "**C:**\n",
    "\n",
    "* Es gibt Funktionen mit (ANSI C) und ohne (Kernighan/Ritchie C) Typ-Überprüfung.\n",
    "* Eigene Datentypen können als *struct* definiert werden."
   ]
  },
  {
   "cell_type": "markdown",
   "metadata": {
    "slideshow": {
     "slide_type": "subslide"
    }
   },
   "source": [
    "**C++:**\n",
    "\n",
    "* Die *Standard Template Library* stellt fortgeschrittene Datentypen wie Listen, Dictionaries etc. zur Verfügung.\n",
    "* ANSI C - Code kann auch mit dem C++-Compiler übersetzt werden."
   ]
  },
  {
   "cell_type": "markdown",
   "metadata": {
    "slideshow": {
     "slide_type": "subslide"
    }
   },
   "source": [
    "## 6.1 C(++) - Demo"
   ]
  },
  {
   "cell_type": "code",
   "execution_count": null,
   "metadata": {},
   "outputs": [],
   "source": [
    "%%file hello.c\n",
    "#include <stdio.h>\n",
    "\n",
    "int main(int argc, char **argv){\n",
    "    printf(\"Hallo Prog3\\n\");\n",
    "}"
   ]
  },
  {
   "cell_type": "code",
   "execution_count": null,
   "metadata": {
    "slideshow": {
     "slide_type": "fragment"
    }
   },
   "outputs": [],
   "source": [
    "# Aufruf des Compilers\n",
    "!gcc hello.c -o hello\n",
    "!./hello"
   ]
  },
  {
   "cell_type": "markdown",
   "metadata": {
    "slideshow": {
     "slide_type": "subslide"
    }
   },
   "source": [
    "Durch Verwendung von Zeigern können Deklarationen recht unübersichtlich werden. Beispiel: Dynamische Erzeugung eines zweidimensionalen Arrays mit ANSI C."
   ]
  },
  {
   "cell_type": "code",
   "execution_count": null,
   "metadata": {
    "slideshow": {
     "slide_type": "subslide"
    }
   },
   "outputs": [],
   "source": [
    "%%file pointers.c\n",
    "#include <stdio.h>\n",
    "#include <stdlib.h>\n",
    "\n",
    "/* Allozieren und initialisieren einer zweidimensionalen Feldvariablen */\n",
    "float **table_2d(int nr_of_rows, int row_len, float *fill_value){\n",
    "    int row_counter, index;\n",
    "    float **table=(float**)malloc(sizeof(float *) * nr_of_rows);\n",
    "    for (row_counter=0; row_counter<nr_of_rows; row_counter++){\n",
    "        table[row_counter] = (float*)malloc(sizeof(float) * row_len);\n",
    "        for (index=0; index<row_len; index++)\n",
    "            table[row_counter][index] = *fill_value;\n",
    "    }\n",
    "    return table;\n",
    "}\n",
    "                                \n",
    "/* Freigeben des allozierten Speichers */ \n",
    "void cleanup(float **table, int nr_of_rows){\n",
    "    int row_counter;\n",
    "    for (row_counter=0; row_counter<nr_of_rows; row_counter++)\n",
    "        free(table[row_counter]);\n",
    "    free(table);\n",
    "}                                                            "
   ]
  },
  {
   "cell_type": "code",
   "execution_count": null,
   "metadata": {
    "slideshow": {
     "slide_type": "subslide"
    }
   },
   "outputs": [],
   "source": [
    "%%file main.c\n",
    "#include <stdio.h>\n",
    "#include <stdlib.h>\n",
    "\n",
    "/* table_2d: Funktion, \n",
    "       die einen Zeiger auf ein Array von Zeigern auf float-Zahlen zurückgibt\n",
    "       und folgende Argumente bekommt: int, int, Zeiger auf float\n",
    "    */\n",
    "float **(table_2d)(int, int, float*);\n",
    "void cleanup(float **table, int nr_of_rows);\n",
    "\n",
    "/* Hauptprogramm */\n",
    "int main(int argc, char** argv){\n",
    "    float **(*function_ptr)(int, int, float*) = &table_2d;\n",
    "    int nr_of_rows = 87;\n",
    "    float fill_value = 12.34;\n",
    "    float **my_table = (* function_ptr)(nr_of_rows, 12, &fill_value);\n",
    "    printf(\"my_table[1][1]: %f\", my_table[1][1]);\n",
    "    cleanup(my_table, nr_of_rows);\n",
    "}"
   ]
  },
  {
   "cell_type": "code",
   "execution_count": null,
   "metadata": {},
   "outputs": [],
   "source": [
    "# Aufruf des Compilers\n",
    "!gcc -c pointers.c \n",
    "!gcc -c main.c\n",
    "!gcc -o pointer_demo pointers.o main.o\n",
    "!./pointer_demo "
   ]
  },
  {
   "cell_type": "markdown",
   "metadata": {
    "slideshow": {
     "slide_type": "subslide"
    }
   },
   "source": [
    "[C++](https://isocpp.org) von [Bjarne Stroustrup](http://www.stroustrup.com) erlaubt die Verwendung von Klassen und das Überladen von Operatoren."
   ]
  },
  {
   "cell_type": "code",
   "execution_count": null,
   "metadata": {
    "slideshow": {
     "slide_type": "subslide"
    }
   },
   "outputs": [],
   "source": [
    "%%file koordTest.cpp\n",
    "\n",
    "#include <iostream>\n",
    "\n",
    "class Koordinate{\n",
    "   private:\n",
    "       float x,y;\n",
    "   public:\n",
    "       Koordinate(float xInitial = 0, float yInitial = 0){\n",
    "           this->x = xInitial;\n",
    "           this->y = yInitial;\n",
    "       }\n",
    "       Koordinate operator+(const Koordinate &k2){\n",
    "           return Koordinate(this->x+k2.x, this->y+k2.y);\n",
    "       }\n",
    "       void ausgabe(){\n",
    "           std::cout << this->x << \", \" << this->y << std::endl;\n",
    "       }\n",
    "};\n",
    "\n",
    "int main(){\n",
    "    Koordinate k1(1, 3), k2(3.4, 4.4);\n",
    "    Koordinate sumK = k1 + k2;\n",
    "    sumK.ausgabe();\n",
    "    return 0;\n",
    "}"
   ]
  },
  {
   "cell_type": "code",
   "execution_count": null,
   "metadata": {
    "slideshow": {
     "slide_type": "subslide"
    }
   },
   "outputs": [],
   "source": [
    "!g++ koordTest.cpp -o koordTest\n",
    "!./koordTest"
   ]
  },
  {
   "cell_type": "markdown",
   "metadata": {
    "slideshow": {
     "slide_type": "subslide"
    }
   },
   "source": [
    "Um generisch zu programmieren, verwendet man in C Makros (Text-Ersetzung!)."
   ]
  },
  {
   "cell_type": "code",
   "execution_count": null,
   "metadata": {},
   "outputs": [],
   "source": [
    "%%file maxTest.c\n",
    "\n",
    "#include <stdio.h>\n",
    "\n",
    "#define MAX(A, B) (((A) > (B)) ? (A) : (B))\n",
    "\n",
    "int main(int argc, char **argv){\n",
    "    printf(\"max(3,4): %d\\n\", MAX(3,4));\n",
    "    printf(\"max('a', 'z'): '%c'\\n\", MAX('a', 'z'));\n",
    "}"
   ]
  },
  {
   "cell_type": "code",
   "execution_count": null,
   "metadata": {
    "slideshow": {
     "slide_type": "subslide"
    }
   },
   "outputs": [],
   "source": [
    "!gcc maxTest.c -o maxTest\n",
    "!./maxTest"
   ]
  },
  {
   "cell_type": "markdown",
   "metadata": {
    "slideshow": {
     "slide_type": "subslide"
    }
   },
   "source": [
    "Das geht in C++ deutlich eleganter durch die Verwendung von Templates."
   ]
  },
  {
   "cell_type": "code",
   "execution_count": null,
   "metadata": {
    "slideshow": {
     "slide_type": "subslide"
    }
   },
   "outputs": [],
   "source": [
    "%%file maxTemplate.cpp\n",
    "\n",
    "#include <iostream>\n",
    "\n",
    "template <class T> const T& myMax(const T &t1, const T &t2){\n",
    "    return t1 > t2 ? t1 : t2;\n",
    "}\n",
    "\n",
    "int main(int argc, char **argv){\n",
    "    std::cout << \"max(3, 4): \" << myMax(3, 4) << std::endl;\n",
    "    std::cout << \"max('a', 'z'): '\" << myMax('a', 'z');\n",
    "    std::cout << \"'\" << std::endl; \n",
    "}"
   ]
  },
  {
   "cell_type": "code",
   "execution_count": null,
   "metadata": {
    "slideshow": {
     "slide_type": "slide"
    }
   },
   "outputs": [],
   "source": [
    "!g++ maxTemplate.cpp -o maxTemplate\n",
    "!./maxTemplate"
   ]
  },
  {
   "cell_type": "markdown",
   "metadata": {
    "slideshow": {
     "slide_type": "subslide"
    }
   },
   "source": [
    "## Exkurs: OpenGL Shading Language"
   ]
  },
  {
   "cell_type": "code",
   "execution_count": null,
   "metadata": {
    "collapsed": true,
    "slideshow": {
     "slide_type": "subslide"
    }
   },
   "outputs": [],
   "source": [
    "precision mediump float;\n",
    "varying vec2 textureCoordinate;\n",
    "uniform sampler2D appTexMapper;\n",
    "uniform float time;\n",
    "uniform vec2 textureMin, textureMax;\n",
    "void main(void) {\n",
    "    vec2 s = (textureCoordinate - textureMin) / \\\n",
    "             (textureMax - textureMin) - 0.5;\n",
    "    float r = length(s);\n",
    "    float rotAngle = 6.0 * 3.1415926 * time * r;\n",
    "    float sinAngle = sin(rotAngle);\n",
    "    float cosAngle = cos(rotAngle);\n",
    "    vec2 st; \n",
    "    st.x = s.x * cosAngle - s.y * sinAngle;\n",
    "    st.y = s.x * sinAngle + s.y * cosAngle;\n",
    "    vec2 rotatedTextureCoordinate = \n",
    "        (st + 0.5) * (textureMax - textureMin) + textureMin;\n",
    "    gl_FragColor = texture2D(appTexMapper, rotatedTextureCoordinate); }"
   ]
  },
  {
   "cell_type": "markdown",
   "metadata": {
    "slideshow": {
     "slide_type": "subslide"
    }
   },
   "source": [
    "Frage: An welche Programmiersprache erinnert Sie dieses Beispiel?"
   ]
  },
  {
   "cell_type": "markdown",
   "metadata": {
    "slideshow": {
     "slide_type": "subslide"
    }
   },
   "source": [
    "## Exkurs: OpenCL"
   ]
  },
  {
   "cell_type": "code",
   "execution_count": null,
   "metadata": {
    "collapsed": true
   },
   "outputs": [],
   "source": [
    " __kernel void poly_val(__global const float *input_array,\n",
    "        __global float *output_array, unsigned int N) {\n",
    "        int gid = get_global_id(0);\n",
    "        if (gid < N){\n",
    "            float x = input_array[gid];\n",
    "            output_array[gid] =  3 + 4*x + 5*x*x + 6*x*x*x;\n",
    "        }\n",
    "    }"
   ]
  },
  {
   "cell_type": "markdown",
   "metadata": {
    "slideshow": {
     "slide_type": "subslide"
    }
   },
   "source": [
    "Frage: An welche Programmiersprache erinnert Sie dieses Beispiel?"
   ]
  },
  {
   "cell_type": "markdown",
   "metadata": {
    "slideshow": {
     "slide_type": "subslide"
    }
   },
   "source": [
    "## 6.2 C/C++ - Aufgabe (freiwillig)"
   ]
  },
  {
   "cell_type": "markdown",
   "metadata": {},
   "source": [
    "1. Kommentieren Sie die oben angegebenen Beispiele und lassens Sie sich dabei ggf. von Kommilitonen oder vom Dozenten helfen.\n",
    "2. Welche Unterschiede zwischen Java und C++ fallen Ihnen auf?"
   ]
  },
  {
   "cell_type": "markdown",
   "metadata": {
    "slideshow": {
     "slide_type": "slide"
    }
   },
   "source": [
    "# 7. Python"
   ]
  },
  {
   "cell_type": "markdown",
   "metadata": {
    "slideshow": {
     "slide_type": "subslide"
    }
   },
   "source": [
    "Noch eine myMax-Funktion ..."
   ]
  },
  {
   "cell_type": "code",
   "execution_count": null,
   "metadata": {
    "slideshow": {
     "slide_type": "subslide"
    }
   },
   "outputs": [],
   "source": [
    "def myMax(a, b):\n",
    "    if a > b:\n",
    "        return a\n",
    "    else:\n",
    "        return b\n",
    "    \n",
    "print('myMax(3, 4):', myMax(3,4))\n",
    "print(\"myMax('a', 'z'):\", myMax('a', 'z'))"
   ]
  },
  {
   "cell_type": "markdown",
   "metadata": {
    "slideshow": {
     "slide_type": "subslide"
    }
   },
   "source": [
    "Koordinaten-Berechnung mit überladenem \"+\" in Python:"
   ]
  },
  {
   "cell_type": "code",
   "execution_count": null,
   "metadata": {
    "collapsed": true
   },
   "outputs": [],
   "source": [
    "class Koordinate:\n",
    "    # Klassenvariablen (static)\n",
    "    x_s, y_s = 17, 22\n",
    "    # Klassenmethode\n",
    "    @staticmethod\n",
    "    def print_static():\n",
    "        print(Koordinate.x_s, Koordinate.y_s)     \n",
    "    def __init__(self, x = 0.0, y = 0.0):\n",
    "        # Hier werden Objektvariablen angelegt\n",
    "        self.x, self.y = x, y\n",
    "    def __add__(self, k):\n",
    "        return Koordinate(self.x + k.x, self.y + k.y)\n",
    "    def __str__(self):\n",
    "        return '(' + str(self.x) + \", \" + str(self.y) + ')'"
   ]
  },
  {
   "cell_type": "code",
   "execution_count": null,
   "metadata": {},
   "outputs": [],
   "source": [
    "# Aufruf einer Klassenmethode ohne Instanz wie in Java\n",
    "Koordinate.print_static()"
   ]
  },
  {
   "cell_type": "code",
   "execution_count": null,
   "metadata": {
    "slideshow": {
     "slide_type": "subslide"
    }
   },
   "outputs": [],
   "source": [
    "k1 = Koordinate(1, 3)\n",
    "k2 = Koordinate(3.4, 4.4)\n",
    "print(k1 + k2)\n",
    "\n",
    "k1 = Koordinate('xA', 'yA')\n",
    "k2 = Koordinate('xB', 'yB')\n",
    "print(k1 + k2)"
   ]
  },
  {
   "cell_type": "markdown",
   "metadata": {
    "slideshow": {
     "slide_type": "subslide"
    }
   },
   "source": [
    "List comprehension:"
   ]
  },
  {
   "cell_type": "code",
   "execution_count": null,
   "metadata": {},
   "outputs": [],
   "source": [
    "l1 = [x*x for x in range(3, 22, 2)]\n",
    "print(l1)\n",
    "l2 = [x*x for x in range(3, 22, 2) if x*x % 3 == 0]\n",
    "print(l2)"
   ]
  },
  {
   "cell_type": "code",
   "execution_count": null,
   "metadata": {},
   "outputs": [],
   "source": [
    "[1, 2, 3] + [22, 33, 44]"
   ]
  },
  {
   "cell_type": "markdown",
   "metadata": {
    "slideshow": {
     "slide_type": "subslide"
    }
   },
   "source": [
    "Vorsicht: In *numpy* ist der Operator *+* als elementweise Addition definiert:"
   ]
  },
  {
   "cell_type": "code",
   "execution_count": null,
   "metadata": {
    "slideshow": {
     "slide_type": "fragment"
    }
   },
   "outputs": [],
   "source": [
    "import numpy as np\n",
    "a = np.array([1,2,3])\n",
    "b = np.array([4,5,6])\n",
    "a + b"
   ]
  },
  {
   "cell_type": "code",
   "execution_count": null,
   "metadata": {
    "collapsed": true,
    "slideshow": {
     "slide_type": "subslide"
    }
   },
   "outputs": [],
   "source": [
    "# Quicksort rekursiv\n",
    "def qsort(L):\n",
    "    if len( L ) <= 1:\n",
    "        return L\n",
    "    else:\n",
    "        return \\\n",
    "              qsort([x for x in L[1:] if x < L[0]]) \\\n",
    "            + [ L[0] ] \\\n",
    "            + qsort([y for y in L[1:] if y >= L[0]])"
   ]
  },
  {
   "cell_type": "code",
   "execution_count": null,
   "metadata": {
    "slideshow": {
     "slide_type": "fragment"
    }
   },
   "outputs": [],
   "source": [
    "print(qsort( [33, -23, 88, -9, 22, 113, 11 ]))\n",
    "print(qsort( [ 'Zitrone', 'Apfel', 'Banane', 'Birne', 'Aal' ]))"
   ]
  },
  {
   "cell_type": "markdown",
   "metadata": {
    "slideshow": {
     "slide_type": "subslide"
    }
   },
   "source": [
    "1. Wieso programmiert man in Python automatisch \"generisch\" und welche Chancen und Risiken sind damit verbunden?\n",
    "1. Welche Unterschiede zwischen den Python- und den C++-Programmen fallen Ihnen auf?"
   ]
  },
  {
   "cell_type": "markdown",
   "metadata": {
    "slideshow": {
     "slide_type": "slide"
    }
   },
   "source": [
    "# 8. Übungsaufgaben bis zum 26.10.2017"
   ]
  },
  {
   "cell_type": "code",
   "execution_count": null,
   "metadata": {
    "collapsed": true,
    "slideshow": {
     "slide_type": "fragment"
    }
   },
   "outputs": [],
   "source": [
    "staedte_positionen = ((0.010319427306382911, 0.8956251389386756), (0.6999898714299346, 0.42254500074835377), (0.4294574582950912, 0.4568408794115657), (0.6005454852683483, 0.9295407203370832), (0.9590226056623925, 0.581453646599427), (0.748521134122647, 0.5437775417153159), (0.7571232013282426, 0.606435031856663), (0.07528757443413125, 0.07854082131763074), (0.32346175150639334, 0.7291706487873425), (0.012935451483722882, 0.974440252089956), (0.7894689664351368, 0.8925464165283283), (0.5017081207027582, 0.2323298297211428), (0.5994368069089712, 0.006438246252584379), (0.3471372841416518, 0.32362936726486546), (0.9080568556459205, 0.5872162265716462), (0.008216651916432838, 0.5605251786730867), (0.12281649843134745, 0.778836327426156), (0.9698199622470612, 0.9108771425774694), (0.22977122891732482, 0.9692739885317619), (0.8192293086323663, 0.5857981607663957), (0.1422079724040628, 0.8147259475583606), (0.6706795717064135, 0.591561956032189), (0.15756919328106178, 0.6331745919782176), (0.9932745190952539, 0.20429268341528184), (0.21104352892679712, 0.8836996377783977), (0.15162951778287448, 0.43829883402923786), (0.1014198097226855, 0.5877946138306056), (0.8961534561384676, 0.6498866051905969), (0.02348788064910401, 0.2555771312427847), (0.7629752603198586, 0.031097354437254032), (0.9202799257088203, 0.8545409146117934), (0.4740012769258859, 0.30554661789326976), (0.9662984341217945, 0.24235140218349704), (0.236385903920734, 0.8065137287975154), (0.7509340695304845, 0.9276718423781918), (0.891709366337186, 0.9691233497708065), (0.45766675798331646, 0.3966074453757069), (0.362463818656684, 0.629782983287922), (0.3895828182648007, 0.11182372435220689), (0.8007718207811885, 0.07083259575886258), (0.9395297121272306, 0.003549829042441055), (0.9990444201768337, 0.4816092706412669), (0.806664037655748, 0.45636915118812094), (0.7248316046403981, 0.4136143673445848), (0.9797254747122175, 0.5348075095243779), (0.832410347070477, 0.36236092065071435), (0.17697174259486892, 0.09903555437885947), (0.3320429025096797, 0.42538137689172295), (0.010390541304141299, 0.3196764197089256), (0.13647705960093703, 0.6166884292149969), (0.7413967117502017, 0.6758731780971651), (0.5057620560480408, 0.6176726900765315), (0.811221033004999, 0.15436803010778977), (0.5010541138760939, 0.35001152238091926), (0.9413826105193199, 0.9418596542666187), (0.891256361420491, 0.7886584654021789), (0.3676445849723219, 0.9387145658378656), (0.7976904766536591, 0.7297167662430665), (0.5966826978617474, 0.29179542156826277), (0.6209578021367281, 0.22193571777470145), (0.8298034730084203, 0.5164834220744453), (0.1974315640582841, 0.9764209254933037), (0.3181560706032852, 0.9659291942205317), (0.8665674546422951, 0.8281710981528015), (0.341232980616892, 0.5707946637100852), (0.8931358896561539, 0.40864805338293986), (0.26644032823825714, 0.9989727471390323), (0.3993087575662785, 0.009572468741341433), (0.7385521851703551, 0.8947961501854975), (0.3265958212912289, 0.12135269959328665), (0.33657186037515696, 0.04678149607307802), (0.6574688023519235, 0.14620381872693322), (0.9232073321379433, 0.464399378682132), (0.3350568606219765, 0.8140710044746052), (0.43439242705535963, 0.6850627844635814), (0.6748600302251079, 0.17179426903224415), (0.3257145924815924, 0.17892361406234325), (0.9843761318782708, 0.7246387654097534), (0.3302488609623919, 0.5461838792803725), (0.942182061647097, 0.271796972592925), (0.7992439374549364, 0.3344916623897427), (0.07722251160513627, 0.5998378921773792), (0.9551490162437984, 0.99084148343811), (0.2994585617190968, 0.8420506992016424), (0.692980959785355, 0.832838090803397), (0.31555831127132894, 0.06401272570899819), (0.02665227648457802, 0.5242147042171419), (0.1974784428862567, 0.9137326594564479), (0.8486377116437235, 0.773093204292392), (0.6588651068050204, 0.6191834372968826), (0.9294759207447961, 0.04471010558595201), (0.9407045003182903, 0.7240803846820537), (0.6814942236797052, 0.6579517970003296), (0.2956248273119104, 0.4141031496785965), (0.729642956744248, 0.18897087844791205), (0.6092213719795501, 0.12514914017649392), (0.7431271140678826, 0.12660475585183406), (0.9023640654012873, 0.21133242457776658), (0.3513947221768753, 0.10988741056845952), (0.7560785506387285, 0.1994584377393509))"
   ]
  },
  {
   "cell_type": "markdown",
   "metadata": {
    "slideshow": {
     "slide_type": "subslide"
    }
   },
   "source": [
    "1. Welche Trends können Sie in der Entwicklung von Programmiersprachen feststellen? (Die oben diskutierten Sprachen sollen als Orientierung dienen).\n",
    "1. Erstellen Sie eine rekursive Python-Funktion, die das Problem des Handlungsreisenden löst. Bibliotheksfunktionen, die Permutationen berechnen, sollen *nicht* verwendet werden. Beachten Sie, dass keine Heuristiken eingesetzt werden sollen. Vielmehr sind *alle möglichen Wege* zu vergleichen. Welche Weglänge berchnet Ihr Programm für den kürzesten Rundweg durch die ersten neun Städte, deren Positionen im Tupel *staedte_positionen* gegeben sind? (also für *staedte_positionen[:9]*)\n",
    "1. Implementieren Sie die Bestimmung von Pi nach Monte Carlo als Python-Funktion und überprüfen Sie die Plausibilität Ihrer Ergebnisse."
   ]
  },
  {
   "cell_type": "markdown",
   "metadata": {
    "slideshow": {
     "slide_type": "slide"
    }
   },
   "source": [
    "# 9. Überprüfung"
   ]
  },
  {
   "cell_type": "markdown",
   "metadata": {},
   "source": [
    "1. Würden Sie für ein großes Projekt ausschließlich Assembler verwenden? Begründen Sie Ihre Antwort.\n",
    "1. In welchen Fällen sollte man *list comprehensions* verwenden, in welchen Fällen besser nicht?"
   ]
  }
 ],
 "metadata": {
  "celltoolbar": "Slideshow",
  "kernelspec": {
   "display_name": "Python [default]",
   "language": "python",
   "name": "python3"
  },
  "language_info": {
   "codemirror_mode": {
    "name": "ipython",
    "version": 3
   },
   "file_extension": ".py",
   "mimetype": "text/x-python",
   "name": "python",
   "nbconvert_exporter": "python",
   "pygments_lexer": "ipython3",
   "version": "3.6.2"
  },
  "latex_envs": {
   "LaTeX_envs_menu_present": true,
   "autocomplete": true,
   "bibliofile": "biblio.bib",
   "cite_by": "apalike",
   "current_citInitial": 1.0,
   "eqLabelWithNumbers": true,
   "eqNumInitial": 1.0,
   "hotkeys": {
    "equation": "Ctrl-E",
    "itemize": "Ctrl-I"
   },
   "labels_anchors": false,
   "latex_user_defs": false,
   "report_style_numbering": false,
   "user_envs_cfg": false
  }
 },
 "nbformat": 4,
 "nbformat_minor": 1
}
