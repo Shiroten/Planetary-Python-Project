{
 "cells": [
  {
   "cell_type": "markdown",
   "metadata": {
    "slideshow": {
     "slide_type": "slide"
    }
   },
   "source": [
    "Programmieren 3 - Programmierparadigmen\n",
    "\n",
    "Erich Seifert, Peter Rösch, Fakultät für Informatik \n",
    "\n",
    "Hochschule Augsburg, 2017/2018"
   ]
  },
  {
   "cell_type": "code",
   "execution_count": null,
   "metadata": {
    "collapsed": true,
    "slideshow": {
     "slide_type": "subslide"
    }
   },
   "outputs": [],
   "source": [
    "import numpy as np\n",
    "import matplotlib.pyplot as plt\n",
    "%matplotlib inline"
   ]
  },
  {
   "cell_type": "code",
   "execution_count": null,
   "metadata": {
    "collapsed": true,
    "slideshow": {
     "slide_type": "subslide"
    }
   },
   "outputs": [],
   "source": [
    "class ExpressionPrinter():\n",
    "    \"\"\"\n",
    "        output an expression and the \n",
    "        corresponding evaluation result\n",
    "    \"\"\"\n",
    "    def __init__(self):\n",
    "        self.counter = 1\n",
    "    def output(self, expr):\n",
    "        \"\"\"\n",
    "          print the \"line number\", the expression\n",
    "          and the evaulation result\n",
    "          Args:\n",
    "              expr: expression\n",
    "        \"\"\"\n",
    "        print('#', self.counter, ':', \n",
    "              expr, '->', eval(expr))\n",
    "        self.counter += 1\n",
    "p = ExpressionPrinter()"
   ]
  },
  {
   "cell_type": "markdown",
   "metadata": {
    "slideshow": {
     "slide_type": "slide"
    }
   },
   "source": [
    "# Programmierparadigmen-Einführung"
   ]
  },
  {
   "cell_type": "markdown",
   "metadata": {},
   "source": [
    "Laut Brockhaus ist ein Paradigma ein *Beispiel, Muster* und ein Programmierparadigma ist \"das grundlegende Konzept, das einer Programmiermethodik beziehungsweise einer Programmiersprache zugrunde liegt\".\n",
    "\n",
    "Es gibt unterschiedliche Meinungen darüber, welche Programmierparadigmen es eigentlich gibt. So ist auch der entsprechende [Wikipedia-Artikel](http://de.wikipedia.org/wiki/Programmierparadigma) eher unübersichtlich."
   ]
  },
  {
   "cell_type": "markdown",
   "metadata": {
    "slideshow": {
     "slide_type": "subslide"
    }
   },
   "source": [
    "Die [Enzyklopädie der Wirtschaftsinformatik](http://www.enzyklopaedie-der-wirtschaftsinformatik.de/wi-enzyklopaedie/lexikon/technologien-methoden/Sprache/Programmiersprache/Paradigma) bezeichnet die folgenden vier Paradigmen als grundlegend:\n",
    "\n",
    "* Logische Programmierung\n",
    "* Funktionale Programmierung\n",
    "* Imperative Programmierung\n",
    "* Objektorientierte Programmierung"
   ]
  },
  {
   "cell_type": "markdown",
   "metadata": {
    "slideshow": {
     "slide_type": "subslide"
    }
   },
   "source": [
    "[Andere Darstellungen](http://de.wikipedia.org/wiki/Prozedurale_Programmierung) ordnen die objektorientierte Programmierung der imperativen Programmierung zu und nehmen folgende Klassifikation vor:\n",
    "\n",
    "* Deklarative Programmierung\n",
    "    * Logische Programmierung\n",
    "    * Funktionale Programmierung\n",
    "* Imperative Programmierung\n",
    "    * Prozedurale Programmeriung\n",
    "    * Objektorientierte Programmierung"
   ]
  },
  {
   "cell_type": "markdown",
   "metadata": {
    "slideshow": {
     "slide_type": "subslide"
    }
   },
   "source": [
    "Bis auf die logische Programmierung können alle gennante Paradigmen ohne Zusatzpakete mit Python umgesetzt werden. \n",
    "\n",
    "Jupyter Notebooks unterstützen ansatzweise die [literate Programmierung](http://de.wikipedia.org/wiki/Literate_programming). Die deklarativen Programmierung in Python ist mit dem Paket [pydatalog](https://sites.google.com/site/pydatalog) möglich."
   ]
  },
  {
   "cell_type": "markdown",
   "metadata": {
    "slideshow": {
     "slide_type": "slide"
    }
   },
   "source": [
    "## Logische Programmierung"
   ]
  },
  {
   "cell_type": "markdown",
   "metadata": {},
   "source": [
    "Die Quelle zu diesem Abschnitt finden Sie [hier](http://www.enzyklopaedie-der-wirtschaftsinformatik.de/wi-enzyklopaedie/lexikon/technologien-methoden/Sprache/Programmiersprache/Paradigma).\n",
    "\n",
    "Ein wichtiger Vertreter der Programmiersprachen, die logische Programmierung unterstützen, ist [Prolog](http://www.cse.unsw.edu.au/~billw/cs9414/notes/prolog/intro.html). Es wird nicht der *Weg* beschrieben, wie ein Problem gelöst wird, sondern es werden die Eigenschaften beschrieben, die eine Lösung erfüllen muß (deklarative Programmierung). Antworten werden durch systematisches Ausprobieren gefunden."
   ]
  },
  {
   "cell_type": "markdown",
   "metadata": {
    "slideshow": {
     "slide_type": "subslide"
    }
   },
   "source": [
    "Aus dem Inhalt der folgenden Zelle kann das Prolog-System zum Beispiel die Frage beantworten, ob *adam* der *grossvater* von *ulrike* ist. Das Beispiel stammt von [hier](http://de.wikipedia.org/wiki/Prolog_%28Programmiersprache%29)."
   ]
  },
  {
   "cell_type": "code",
   "execution_count": null,
   "metadata": {
    "collapsed": true,
    "slideshow": {
     "slide_type": "subslide"
    }
   },
   "outputs": [],
   "source": [
    "%%file /tmp/familie.pl\n",
    "mann(adam).\n",
    "mann(tobias).\n",
    "mann(frank).\n",
    "frau(eva).\n",
    "frau(daniela).\n",
    "frau(ulrike).\n",
    "vater(adam,tobias).\n",
    "vater(tobias,frank).\n",
    "vater(tobias,ulrike).\n",
    "mutter(eva,tobias).\n",
    "mutter(daniela,frank).\n",
    "mutter(daniela,ulrike).\n",
    "ehepaar(daniela, tobias).\n",
    "ehepaar(eva, adam).\n",
    "grossvater(X, Y) :- vater(X,Z), vater(Z,Y).\n",
    "grossvater(X, Y) :- vater(X,Z), mutter(Z,Y).\n",
    "ehepaar(X, Y) :- ehepaar(Y, X)."
   ]
  },
  {
   "cell_type": "markdown",
   "metadata": {
    "slideshow": {
     "slide_type": "subslide"
    }
   },
   "source": [
    "### Logische Programmierung - Demo"
   ]
  },
  {
   "cell_type": "markdown",
   "metadata": {
    "slideshow": {
     "slide_type": "subslide"
    }
   },
   "source": [
    "1. Führen Sie die oben gegebene Zelle aus, so dass die Datei \"/tmp/familie.pl\" entsteht.\n",
    "1. Geben Sie in einem Terminal (M2.02 oder VirtualBox) diese Befehle ein \n",
    "        swipl\n",
    "        ['familie.pl'].\n",
    "        listing.\n",
    "        grossvater(adam, ulrike).\n",
    "    (Punkte am Zeilende nicht vergessen ...) und führen Sie eigene Experimente durch.\n",
    "1. Ergänzen Sie das Prolog-Programm, so dass überprüft werden kann, ob *eva* die *grossmutter* von *frank* ist."
   ]
  },
  {
   "cell_type": "markdown",
   "metadata": {
    "slideshow": {
     "slide_type": "subslide"
    }
   },
   "source": [
    "    # Ausgabe im Terminal (ohne listing.):\n",
    "    ?- ['familie.pl'].\n",
    "    % familie.pl compiled 0.00 sec, 4,232 bytes\n",
    "    true.\n",
    "    ?- grossvater(adam, ulrike).\n",
    "    true ."
   ]
  },
  {
   "cell_type": "markdown",
   "metadata": {},
   "source": [
    "Es gibt eine Bibliothek zur deklarativen Programmierung in Python, [pydatalog](https://sites.google.com/site/pydatalog)."
   ]
  },
  {
   "cell_type": "markdown",
   "metadata": {
    "slideshow": {
     "slide_type": "slide"
    }
   },
   "source": [
    "## Literate Programmierung"
   ]
  },
  {
   "cell_type": "markdown",
   "metadata": {},
   "source": [
    "Diese Methode wurde von [Donald E. Knuth](https://en.wikipedia.org/wiki/Donald_Knuth#The_Art_of_Computer_Programming_.28TAOCP.29), dem Autoren von $\\TeX$ eingeführt. Eine Einführung in die Grundideen findet sich [hier](https://de.wikipedia.org/wiki/Literate_programming). "
   ]
  },
  {
   "cell_type": "markdown",
   "metadata": {
    "slideshow": {
     "slide_type": "subslide"
    }
   },
   "source": [
    "Der [Wikipedia-Artikel](https://de.wikipedia.org/wiki/Literate_programming) betont, dass die Lesbarkeit des Computerprogramms für Menschen im Vordergrund steht und dass sich Source-Code und Dokumentation in einem Dokument befinden. D. Knuth hat spezielle Werkzeuge entwickelt, die den Code von der Dokumentation trennen und dann übersetzen. Der englische [Wikipedia-Artikel](http://en.wikipedia.org/wiki/Literate_programming) enthält das folgende Beispiel:\n",
    "    \n",
    "    "
   ]
  },
  {
   "cell_type": "raw",
   "metadata": {
    "slideshow": {
     "slide_type": "subslide"
    }
   },
   "source": [
    "The purpose of wc is to count lines, words, and/or characters in a list of files. The number of lines in a file is ......../more explanations/\n",
    "\n",
    "Here, then, is an overview of the file wc.c that is defined by the noweb program wc.nw:\n",
    "    <<*>>=\n",
    "    <<Header files to include>>\n",
    "    <<Definitions>>\n",
    "    <<Global variables>>\n",
    "    <<Functions>>\n",
    "    <<The main program>>\n",
    "    @\n",
    " \n",
    "We must include the standard I/O definitions, since we want to send formatted output\n",
    "to stdout and stderr.\n",
    "    <<Header files to include>>=\n",
    "    #include <stdio.h>\n",
    "    @"
   ]
  },
  {
   "cell_type": "markdown",
   "metadata": {
    "slideshow": {
     "slide_type": "subslide"
    }
   },
   "source": [
    "        \n",
    "Wie zu erkennen ist, werden die Werkzeuge *noweb* verwendet, um z.B. den Platzhalter\n",
    "\n",
    "    <<Header files to include>> \n",
    "\n",
    "durch den C-Code \n",
    "\n",
    "    #include <stdio.h>\n",
    "\n",
    "zu ersetzen."
   ]
  },
  {
   "cell_type": "markdown",
   "metadata": {
    "slideshow": {
     "slide_type": "subslide"
    }
   },
   "source": [
    "### Literate Programmierung-Fragen"
   ]
  },
  {
   "cell_type": "markdown",
   "metadata": {},
   "source": [
    "1. Welche Vorteile bietet die literate Programmierung?\n",
    "1. Welche Funktionalität des Jupyter Notebooks kann dafür eingesetzt werden, um den Code für Menschen besser verständlich zu machen?\n",
    "1. Wo kann diese Methode aus Ihrer Sicht sinnvoll angewendet werden?"
   ]
  },
  {
   "cell_type": "markdown",
   "metadata": {
    "slideshow": {
     "slide_type": "slide"
    }
   },
   "source": [
    "# Imperative Programmierung"
   ]
  },
  {
   "cell_type": "markdown",
   "metadata": {},
   "source": [
    "Prof. Dr. Uwe Kastens schreibt in der [Enzyklopädie der Wirtschaftsinformatik](http://www.enzyklopaedie-der-wirtschaftsinformatik.de/wi-enzyklopaedie/lexikon/technologien-methoden/Sprache/Programmiersprache/Paradigma):\n",
    "\n",
    ">Ein Prozessor führt eine verzweigte Folge von Instruktionen aus, die Daten im Speicher verändern. ... Parametrisierte Funktionen werden verwendet, um  Berechnungen zu abstrahieren und an verschiedenen Stellen im Programm aufzurufen. ... Die meisten objektorientierten Sprachen bauen auf den Konstrukten der imperativen Sprachen auf."
   ]
  },
  {
   "cell_type": "markdown",
   "metadata": {
    "slideshow": {
     "slide_type": "subslide"
    }
   },
   "source": [
    "Python erlaubt sowohl die direkte Ausführung von Befehlen im Interpreter oder aus Skripten als auch die Definition von Funktionen und Modulen zur Strukturierung der Funktionalität."
   ]
  },
  {
   "cell_type": "markdown",
   "metadata": {
    "slideshow": {
     "slide_type": "subslide"
    }
   },
   "source": [
    "## Zuweisungen"
   ]
  },
  {
   "cell_type": "markdown",
   "metadata": {},
   "source": [
    "Im [Python-Tutorial](http://docs.python.org/3.2/tutorial/classes.html) heißt es:\n",
    "\n",
    "Assignments do not copy data, they just bind names to objects.\n",
    "\n",
    "Durch eine Zuweisung werden also keine Objekte verändert, sondern es werden neue *Verknüpfungen* geschaffen. Insbesondere [gilt](http://www.spontaneoussymmetry.com/blog/archives/438):\n",
    "\n",
    "Eine Zuweisung kann niemals das ändern, was rechts vom Gleichheitszeichen steht.\n",
    "    \n",
    "Daraus ergeben sich Folgerungen, die anfänglich verwirrend wirken."
   ]
  },
  {
   "cell_type": "markdown",
   "metadata": {
    "slideshow": {
     "slide_type": "subslide"
    }
   },
   "source": [
    "Es gibt es in Python unveränderliche (immutable) Objekte wie *int, float, bool, string, float, tuple und frozenset* sowie veränderliche (mutable) Objekte wie *list, dict und set*.  "
   ]
  },
  {
   "cell_type": "code",
   "execution_count": null,
   "metadata": {
    "collapsed": true,
    "slideshow": {
     "slide_type": "subslide"
    }
   },
   "outputs": [],
   "source": [
    "a = 32\n",
    "b = a\n",
    "p.output('a == b')\n",
    "p.output('a is b')\n",
    "b = b + 10\n",
    "p.output('b')\n",
    "p.output('a == b')\n",
    "c = 32\n",
    "p.output('c is a')"
   ]
  },
  {
   "cell_type": "code",
   "execution_count": null,
   "metadata": {
    "collapsed": true,
    "slideshow": {
     "slide_type": "subslide"
    }
   },
   "outputs": [],
   "source": [
    "la = [1, 2]\n",
    "lb = la\n",
    "p.output('la == lb')\n",
    "p.output('la is lb')\n",
    "lb.append(3)\n",
    "print('-- append')\n",
    "p.output('la')\n",
    "p.output('la == lb')\n",
    "p.output('la is lb')"
   ]
  },
  {
   "cell_type": "code",
   "execution_count": null,
   "metadata": {
    "collapsed": true,
    "slideshow": {
     "slide_type": "subslide"
    }
   },
   "outputs": [],
   "source": [
    "la = la + [4]\n",
    "print('-- add')\n",
    "p.output('la')\n",
    "p.output('lb')\n",
    "lc = [1, 2, 3, 4]\n",
    "print('-- lc')\n",
    "p.output('la == lc')\n",
    "p.output('la is lc')"
   ]
  },
  {
   "cell_type": "code",
   "execution_count": null,
   "metadata": {
    "collapsed": true,
    "slideshow": {
     "slide_type": "subslide"
    }
   },
   "outputs": [],
   "source": [
    "s1 = 'einString'\n",
    "s2 = 'einString'\n",
    "p.output('s1 is s2')\n",
    "s2 = s2 + ' !!'\n",
    "p.output('s1')\n",
    "p.output('s2')\n",
    "s3 = s1\n",
    "p.output('s1 is s3')\n",
    "s1 += ' geändert'\n",
    "p.output('s1')\n",
    "p.output('s3')"
   ]
  },
  {
   "cell_type": "markdown",
   "metadata": {
    "slideshow": {
     "slide_type": "slide"
    }
   },
   "source": [
    "## Funktions-Parameter"
   ]
  },
  {
   "cell_type": "markdown",
   "metadata": {},
   "source": [
    "Auch bei Funktions-Parametern müssen die Prinzipien aus dem vorhergehenden Abschnitt beachtet werden:"
   ]
  },
  {
   "cell_type": "code",
   "execution_count": null,
   "metadata": {
    "collapsed": true,
    "slideshow": {
     "slide_type": "subslide"
    }
   },
   "outputs": [],
   "source": [
    "def listF1(l):\n",
    "    l.append('das kommt von listF1')\n",
    "    \n",
    "def listF2(l):\n",
    "    l = l + ['das kommt von listF2']\n",
    "    \n",
    "l1 = [1, 2, 3]\n",
    "l2 = l1[:]\n",
    "listF1(l1)\n",
    "p.output('l1')\n",
    "listF2(l2)\n",
    "p.output('l2')"
   ]
  },
  {
   "cell_type": "markdown",
   "metadata": {
    "slideshow": {
     "slide_type": "subslide"
    }
   },
   "source": [
    "## Gültigkeitsbereiche"
   ]
  },
  {
   "cell_type": "code",
   "execution_count": null,
   "metadata": {
    "collapsed": true,
    "slideshow": {
     "slide_type": "subslide"
    }
   },
   "outputs": [],
   "source": [
    "a = 33\n",
    "def f1():\n",
    "    a=44\n",
    "    return a + 2\n",
    "def f2():\n",
    "    global a\n",
    "    a = a + 2\n",
    "    return a\n",
    "p.output('a, f1(), a')\n",
    "p.output('a, f2(), a')"
   ]
  },
  {
   "cell_type": "code",
   "execution_count": null,
   "metadata": {
    "collapsed": true,
    "slideshow": {
     "slide_type": "subslide"
    }
   },
   "outputs": [],
   "source": [
    "# nonlocal. \n",
    "a = 33\n",
    "def f1():\n",
    "    def f2():\n",
    "        #global a\n",
    "        nonlocal a\n",
    "        a = a + 2\n",
    "    a=44\n",
    "    f2()\n",
    "    return a\n",
    "p.output('a, f1(), a')"
   ]
  },
  {
   "cell_type": "markdown",
   "metadata": {
    "slideshow": {
     "slide_type": "fragment"
    }
   },
   "source": [
    "Sollte man Ihrer Meinung nach *nonlocal* verwenden oder eher vermeiden?"
   ]
  },
  {
   "cell_type": "markdown",
   "metadata": {
    "slideshow": {
     "slide_type": "slide"
    }
   },
   "source": [
    "## Module"
   ]
  },
  {
   "cell_type": "code",
   "execution_count": null,
   "metadata": {
    "slideshow": {
     "slide_type": "subslide"
    }
   },
   "outputs": [],
   "source": [
    "%%file /tmp/myModule.py\n",
    "\n",
    "\"\"\" Dieses Modul dient als Beispiel fuer \n",
    "    die Lehrveranstaltung Programmieren 3 \"\"\"\n",
    "\n",
    "inkrement = 1\n",
    "\n",
    "def eineFunktion(x):\n",
    "    \"\"\" Diese Funktion berechnet x + inkrement\n",
    "        Args: x Die zu inkrementierende Zahl\n",
    "        Return: x + inkrement\n",
    "    \"\"\"\n",
    "    return x + inkrement\n",
    "\n",
    "if __name__ == '__main__':\n",
    "    print('das ist das Beispiel-Modul')\n",
    "    print('eineFunktion(3):', eineFunktion(3))\n",
    "else:\n",
    "    print('\\nModul wurde importiert\\n')"
   ]
  },
  {
   "cell_type": "code",
   "execution_count": null,
   "metadata": {
    "collapsed": true,
    "slideshow": {
     "slide_type": "subslide"
    }
   },
   "outputs": [],
   "source": [
    "import sys, imp\n",
    "sys.path.append('/tmp')\n",
    "inkrement = 33\n",
    "import myModule\n",
    "# Neu-Laden des Moduls erzwingen\n",
    "imp.reload(myModule)\n",
    "p.output('myModule.inkrement, inkrement')\n",
    "from myModule import inkrement\n",
    "p.output('myModule.inkrement, inkrement')\n",
    "p.output('myModule.eineFunktion(38)')\n",
    "help(myModule)\n",
    "dir(myModule)"
   ]
  },
  {
   "cell_type": "code",
   "execution_count": null,
   "metadata": {
    "slideshow": {
     "slide_type": "subslide"
    }
   },
   "outputs": [],
   "source": [
    "%run /tmp/myModule.py"
   ]
  },
  {
   "cell_type": "markdown",
   "metadata": {},
   "source": [
    "##  Imperative Programmierung - Aufgaben"
   ]
  },
  {
   "cell_type": "markdown",
   "metadata": {},
   "source": [
    "1. Experimentieren Sie mit den oben angegebenen Programmen, notieren Sie offene Fragen und holen Sie sich bei Bedarf Unterstützung vom Dozenten.\n",
    "1. Die [prozedurale Programmierung](http://de.wikipedia.org/wiki/Prozedurale_Programmierung) erweitert das imperative Konzept um Möglichkeiten, Software zu strukturieren. Welche der für den AppleII vorgestellten Programmiersprachen unterstützt prozedurale Programmierung?"
   ]
  },
  {
   "cell_type": "markdown",
   "metadata": {
    "slideshow": {
     "slide_type": "slide"
    }
   },
   "source": [
    "# Funktionale Programmierung"
   ]
  },
  {
   "cell_type": "markdown",
   "metadata": {},
   "source": [
    "Im Gegensatz zur imperativen Programmierung wird bei der funktionalen Programmierung kein Ablauf mit Verzweigungen, Zuweisungen etc. formuliert, sondern das Problem wird anhand von Funktionen beschrieben."
   ]
  },
  {
   "cell_type": "markdown",
   "metadata": {
    "slideshow": {
     "slide_type": "subslide"
    }
   },
   "source": [
    "In ihrer reinen Form unterstützt die funktionale Programmierung keine Zustandsvariablen, d.h. der Rückgabewerte einer Funktion hängt *nur* von den übergebenen Parametern ab, nicht jedoch von der \"Vorgeschichte\" der Anwendung. Dieser Verzicht auf einen \"Zustand\" (oder auf \"Nebeneffekte\") erschwert z.B. den Umgang mit Benutzer-Eingaben immens (warum?), so dass rein funktionale Sprachen auf Hilfskonstrukte zurückgreifen müssen, um Ein- Ausgabe-Operationen zu ermöglichen. Eine ausführlichere Diskussion findet sich im entsprechenden [Wikipedia-Artikel](http://de.wikipedia.org/wiki/Funktionale_Programmierung)."
   ]
  },
  {
   "cell_type": "markdown",
   "metadata": {
    "slideshow": {
     "slide_type": "subslide"
    }
   },
   "source": [
    "Python als multi-Paradigmensprache erlaubt die Verwendung von Konstrukten aus der Funktonalen Programmierung, wie in [diesem HOWTO](http://docs.python.org/3.6/howto/functional.html) nachzulesen ist. Im Gegensatz zu den rein funktionalen Sprachen kann man jedoch in Python für jeden Teil der Anwendung das passende Paradigma verwenden und ist nicht dazu gezwungen, die \"reine Lehre\" so zu verbiegen, dass relevante Aufgabenstellungen (wie z.B. die Interaktion mit einem Benutzer) gelöst werden können. Die folgende Diskussion konzentriert sich auf die Sprache Python, wobei viele der folgenden Beispiele aus dem schon erwähnten [HOWTO](http://docs.python.org/3.6/howto/functional.html) stammen."
   ]
  },
  {
   "cell_type": "markdown",
   "metadata": {
    "slideshow": {
     "slide_type": "subslide"
    }
   },
   "source": [
    "## Rekursion statt Schleifen"
   ]
  },
  {
   "cell_type": "markdown",
   "metadata": {},
   "source": [
    "Klassische Schleifen sind mit Zuweisungen an lokale Variablen verbunden und haben daher Nebeneffekte. Daher werden in der funktionalen Programmierung Schleifen durch Rekursion ersetzt. Als weiteres Beispiel für rekursive Funktionen wird hier der quicksort-Algorithmus wiederholt:"
   ]
  },
  {
   "cell_type": "code",
   "execution_count": null,
   "metadata": {
    "slideshow": {
     "slide_type": "subslide"
    }
   },
   "outputs": [],
   "source": [
    "# quicksort rekursiv und generisch in Python\n",
    "def qsort(l):\n",
    "    if len(l) <= 1:\n",
    "        return l \n",
    "    else:\n",
    "        return \\\n",
    "            qsort([ x for x in l[1:] if x < l[0]]) \\\n",
    "            + [l[0]] \\\n",
    "            + qsort([ y for y in l[1:] if y >= l[0]])\n",
    "\n",
    "if __name__ == '__main__':\n",
    "    p.output('qsort([11, 3, 88, -9, 22, -113])')\n",
    "    p.output('qsort([1.4, 1e30, -1.3e17, 2.11])')\n",
    "    p.output(\"qsort([ 'Birne', 'Apfel', 'Kiwi' ])\")"
   ]
  },
  {
   "cell_type": "code",
   "execution_count": null,
   "metadata": {
    "collapsed": true
   },
   "outputs": [],
   "source": [
    "# %load /tmp/QuickSort.java\n",
    "/* QuickSort rekursiv und generisch in Java\n",
    "    Quelle: http://en.literateprograms.org/Quicksort_(Java) */\n",
    "\n",
    "public class QuickSort {\n",
    "\n",
    "    static <T extends Comparable<? super T>> void quicksort(T[] array) {\n",
    "        quicksort(array, 0, array.length - 1);\n",
    "    }\n",
    "\n",
    "    static <T extends Comparable<? super T>> void quicksort(T[] array,\n",
    "            int left0, int right0) {\n",
    "        int left, right;\n",
    "        T pivot, temp;\n",
    "        left = left0;\n",
    "        right = right0 + 1;\n",
    "\n",
    "        pivot = array[left0];\n",
    "        do {\n",
    "            do\n",
    "                left++;\n",
    "            while (left <= right0 && array[left].compareTo(pivot) < 0);\n",
    "            do\n",
    "                right--;\n",
    "            while (array[right].compareTo(pivot) > 0);\n",
    "\n",
    "            if (left < right) {\n",
    "                temp = array[left];\n",
    "                array[left] = array[right];\n",
    "                array[right] = temp;\n",
    "            }\n",
    "        } while (left <= right);\n",
    "\n",
    "        temp = array[left0];\n",
    "        array[left0] = array[right];\n",
    "        array[right] = temp;\n",
    "\n",
    "        if (left0 < right)\n",
    "            quicksort(array, left0, right);\n",
    "        if (left < right0)\n",
    "            quicksort(array, left, right0);\n",
    "    }\n",
    "\n",
    "    public void integerSorting() {\n",
    "        System.out.println(\"integerSorting:\");\n",
    "        Integer[] array = new Integer[] { 5, 3, 4, 2, 1 };\n",
    "        quicksort(array);\n",
    "        for (int i = 0; i < array.length; i++)\n",
    "            System.out.println(\"  \" + array[i]);\n",
    "\n",
    "    }\n",
    "\n",
    "    public void floatSorting() {\n",
    "        System.out.println(\"floatSorting:\");\n",
    "        Float[] array = new Float[] { 1.8F, 3.6F, 4F, 5F, 2F };\n",
    "        quicksort(array);\n",
    "        for (int i = 0; i < array.length; i++)\n",
    "            System.out.println(\"  \" + array[i]);\n",
    "    }\n",
    "\n",
    "    public void stringSorting() {\n",
    "        System.out.println(\"stringSorting:\");\n",
    "        String[] array = new String[] { \"Batman\", \"Spiderman\", \"Anthony\",\n",
    "                \"Zoolander\" };\n",
    "        quicksort(array);\n",
    "        for (int i = 0; i < array.length; i++)\n",
    "            System.out.println(\"  \" + array[i]);\n",
    "    }\n",
    "\n",
    "    public static void main(String args[]) {\n",
    "        QuickSort aQuickSort = new QuickSort();\n",
    "        aQuickSort.integerSorting();\n",
    "        aQuickSort.floatSorting();\n",
    "        aQuickSort.stringSorting();\n",
    "    }\n",
    "}\n"
   ]
  },
  {
   "cell_type": "code",
   "execution_count": null,
   "metadata": {
    "collapsed": true,
    "slideshow": {
     "slide_type": "subslide"
    }
   },
   "outputs": [],
   "source": [
    "!javac /tmp/QuickSort.java\n",
    "!cd /tmp; java QuickSort"
   ]
  },
  {
   "cell_type": "markdown",
   "metadata": {
    "slideshow": {
     "slide_type": "subslide"
    }
   },
   "source": [
    "1. Was sind die Abbruchbedingungen der Rekursion und was wird an die nächste Stufe der Rekursion übergeben?\n",
    "1. Vergleichen Sie die Vor- und Nachteile der Python- und Java-Implementierung."
   ]
  },
  {
   "cell_type": "markdown",
   "metadata": {
    "slideshow": {
     "slide_type": "subslide"
    }
   },
   "source": [
    "## Iteratoren"
   ]
  },
  {
   "cell_type": "markdown",
   "metadata": {},
   "source": [
    "*for*-Schleifen in Python iterieren über ein Objekt und basieren nicht auf der Veränderung einer lokalen Variablen (Index). "
   ]
  },
  {
   "cell_type": "code",
   "execution_count": null,
   "metadata": {},
   "outputs": [],
   "source": [
    "l = ['eins', 'zwei', 'drei']\n",
    "for s in iter(l):\n",
    "    print(s)\n",
    "#\n",
    "# als Abkuerzung geht auch\n",
    "for s in l:\n",
    "    print(s)"
   ]
  },
  {
   "cell_type": "markdown",
   "metadata": {
    "slideshow": {
     "slide_type": "subslide"
    }
   },
   "source": [
    "Falls der Index benötigt wird, verwendet man *enumerate*:"
   ]
  },
  {
   "cell_type": "code",
   "execution_count": null,
   "metadata": {
    "collapsed": true
   },
   "outputs": [],
   "source": [
    "for index, s in enumerate(l):\n",
    "    print(index, ':', s)"
   ]
  },
  {
   "cell_type": "markdown",
   "metadata": {
    "slideshow": {
     "slide_type": "slide"
    }
   },
   "source": [
    "Ein Iterator über eine assoziative Liste iteriert über die Schlüssel:"
   ]
  },
  {
   "cell_type": "code",
   "execution_count": null,
   "metadata": {
    "collapsed": true
   },
   "outputs": [],
   "source": [
    "d = {1:'one', 2:'two', 3:'three', 4:'four'}\n",
    "for k in d:\n",
    "    print(k, d[k])"
   ]
  },
  {
   "cell_type": "markdown",
   "metadata": {
    "slideshow": {
     "slide_type": "subslide"
    }
   },
   "source": [
    "Sie können auch eigene Iteratoren schreiben, die die Methoden *__iter__* und *__next__* implementieren "
   ]
  },
  {
   "cell_type": "code",
   "execution_count": null,
   "metadata": {
    "slideshow": {
     "slide_type": "subslide"
    }
   },
   "outputs": [],
   "source": [
    "import random\n",
    "class RandomIterator:\n",
    "    def __init__(self, l):\n",
    "        self.__l = l[:] \n",
    "        random.shuffle(self.__l)\n",
    "        self.__iterator = iter(self.__l)\n",
    "    def __iter__(self):\n",
    "        return self\n",
    "    def __next__(self):\n",
    "        return next(self.__iterator)\n",
    "    \n",
    "rIt = RandomIterator(list(range(1, 10)))\n",
    "for i in rIt:\n",
    "    print(i, end=' ')"
   ]
  },
  {
   "cell_type": "markdown",
   "metadata": {
    "slideshow": {
     "slide_type": "subslide"
    }
   },
   "source": [
    "## Generatoren und List Comprehensions"
   ]
  },
  {
   "cell_type": "markdown",
   "metadata": {},
   "source": [
    "Generatoren und List Comprehensions stammen aus der Sprache *Haskell* und erzeugen Sequenzen von Werten, wobei List Comprehensions die Werte \"auf Vorrat\" berechnen und speichern, während Generatoren die Werte bei Bedarf erzeugen."
   ]
  },
  {
   "cell_type": "code",
   "execution_count": null,
   "metadata": {
    "collapsed": true,
    "slideshow": {
     "slide_type": "subslide"
    }
   },
   "outputs": [],
   "source": [
    "import tracemalloc\n",
    "\n",
    "N = 100000\n",
    "tracemalloc.start()\n",
    "snapshot1 = tracemalloc.take_snapshot()\n",
    "squareList = [ x*x for x in range(1, N+1) ]\n",
    "snapshot2 = tracemalloc.take_snapshot()\n",
    "squareGenerator = ( x * x for x in range(1, N+1) )\n",
    "snapshot3 = tracemalloc.take_snapshot()\n",
    "diffStats_12 = snapshot2.compare_to(snapshot1, 'lineno')\n",
    "diffStats_23 = snapshot3.compare_to(snapshot2, 'lineno')\n",
    "\n",
    "print('squareList:', diffStats_12[0])\n",
    "print('squareGenerator:', diffStats_23[0])\n",
    "\n",
    "tracemalloc.stop()"
   ]
  },
  {
   "cell_type": "markdown",
   "metadata": {
    "slideshow": {
     "slide_type": "subslide"
    }
   },
   "source": [
    "Seit Python 2.5 kann man auch Werte an den Generator [senden](http://docs.python.org/3.4/howto/functional.html):"
   ]
  },
  {
   "cell_type": "code",
   "execution_count": null,
   "metadata": {
    "collapsed": true,
    "slideshow": {
     "slide_type": "subslide"
    }
   },
   "outputs": [],
   "source": [
    "def zaehler(N):\n",
    "    aktuellerStand = 0\n",
    "    while(aktuellerStand) < N:\n",
    "        wert = (yield aktuellerStand)\n",
    "        if wert is not None:\n",
    "            aktuellerStand = wert\n",
    "        else:\n",
    "            aktuellerStand += 1\n",
    "            \n",
    "it = zaehler(10)\n",
    "print(next(it))\n",
    "print(next(it))\n",
    "it.send(8)\n",
    "print(next(it))"
   ]
  },
  {
   "cell_type": "markdown",
   "metadata": {
    "slideshow": {
     "slide_type": "slide"
    }
   },
   "source": [
    "## map und filter"
   ]
  },
  {
   "cell_type": "markdown",
   "metadata": {},
   "source": [
    "Es kommt häufig vor, dass eine Funktion auf mehrere Argumente angewendet werden soll. Dazu braucht man keine Schleifen:"
   ]
  },
  {
   "cell_type": "code",
   "execution_count": null,
   "metadata": {
    "collapsed": true,
    "slideshow": {
     "slide_type": "subslide"
    }
   },
   "outputs": [],
   "source": [
    "import math\n",
    "l = [0.1, 0.2, 0.3]\n",
    "sinL = list(map(math.sin, l))\n",
    "p.output('l')\n",
    "p.output('sinL')"
   ]
  },
  {
   "cell_type": "markdown",
   "metadata": {
    "slideshow": {
     "slide_type": "subslide"
    }
   },
   "source": [
    "Auch die Auswahl von Elementen, die eine bestimmte Bedingung erfüllen, geht ohne Schleife:"
   ]
  },
  {
   "cell_type": "code",
   "execution_count": null,
   "metadata": {},
   "outputs": [],
   "source": [
    "def durchDreiTeilbar(i):\n",
    "    return i % 3 == 0\n",
    "\n",
    "ql = [i*i for i in range(1, 10)]\n",
    "ql3 = list(filter(durchDreiTeilbar, ql))\n",
    "p.output('ql')\n",
    "p.output('ql3')"
   ]
  },
  {
   "cell_type": "markdown",
   "metadata": {
    "slideshow": {
     "slide_type": "subslide"
    }
   },
   "source": [
    "1. Warum ist es seit Python3 notwendig, die Ergebnisse von *map* und *filter* explizit in eine Liste umzuwandeln?\n",
    "1. Warum benötigen *map* und *filter* weniger Rechenzeit als eine Schleife?"
   ]
  },
  {
   "cell_type": "markdown",
   "metadata": {
    "slideshow": {
     "slide_type": "subslide"
    }
   },
   "source": [
    "## Das Modul *itertools*"
   ]
  },
  {
   "cell_type": "markdown",
   "metadata": {},
   "source": [
    "Dieses Paket stellt nützliche Iteratoren zur Verfügung und erlaubt die Kombination von Iteratoren. Details finden Sie im [HOWTO](http://docs.python.org/3.6/howto/functional.html)."
   ]
  },
  {
   "cell_type": "code",
   "execution_count": null,
   "metadata": {
    "collapsed": true,
    "slideshow": {
     "slide_type": "subslide"
    }
   },
   "outputs": [],
   "source": [
    "import itertools\n",
    "endlose_wiederholung = itertools.cycle(['a', 'b', 'c', 'd',])\n",
    "not_bremse = 20\n",
    "for c in endlose_wiederholung:\n",
    "    if not_bremse == 0:\n",
    "        break\n",
    "    else:\n",
    "        print(c, end = ' ')\n",
    "        not_bremse -= 1                                 "
   ]
  },
  {
   "cell_type": "code",
   "execution_count": null,
   "metadata": {
    "collapsed": true,
    "slideshow": {
     "slide_type": "subslide"
    }
   },
   "outputs": [],
   "source": [
    "immer_das_gleiche = itertools.repeat('abc', 10)\n",
    "for s in immer_das_gleiche:\n",
    "    print(s, end = ' ')"
   ]
  },
  {
   "cell_type": "code",
   "execution_count": null,
   "metadata": {
    "collapsed": true,
    "slideshow": {
     "slide_type": "subslide"
    }
   },
   "outputs": [],
   "source": [
    "kette = itertools.chain([1, 2, 3], ('a', 'b', 'c'))\n",
    "for k in kette:\n",
    "    print(k, end=' ')   "
   ]
  },
  {
   "cell_type": "code",
   "execution_count": null,
   "metadata": {
    "collapsed": true,
    "slideshow": {
     "slide_type": "subslide"
    }
   },
   "outputs": [],
   "source": [
    "zahlen = range(20)\n",
    "gerade_8_bis_16 = itertools.islice(zahlen, 8, 17, 2)\n",
    "for i in gerade_8_bis_16:\n",
    "    print(i, end=' ')"
   ]
  },
  {
   "cell_type": "markdown",
   "metadata": {},
   "source": [
    "1. Schauen Sie sich die noch nicht besprochenen Funktionen des Pakets *itertools* im [HOWTO](http://docs.python.org/3.4/howto/functional.html) an.\n",
    "1. Welchen Vorteile bietet die Verwendung von *itertools* gegenüber der Verwendung von Schleifen?"
   ]
  },
  {
   "cell_type": "markdown",
   "metadata": {
    "slideshow": {
     "slide_type": "subslide"
    }
   },
   "source": [
    "## Das Modul *functools*"
   ]
  },
  {
   "cell_type": "markdown",
   "metadata": {},
   "source": [
    "Dieses Modul enthält Funktionen höherer Ordnung, also Funktionen, die auf Funktionen angewendet werden und Funktionen zurückgeben. *functools.partial* erlaubte es zum Beispiel, eine Funktion zu erzeugen, die eine andere Funktion aufruft und dabei bestimmte Argumente mit vorgegebenen Werten füllt."
   ]
  },
  {
   "cell_type": "code",
   "execution_count": null,
   "metadata": {
    "slideshow": {
     "slide_type": "subslide"
    }
   },
   "outputs": [],
   "source": [
    "import functools\n",
    "\n",
    "def adress_ausgabe(vorname, nachname, strasse, hausnummer, \n",
    "                  postleitzahl, stadt, land):\n",
    "    print(vorname, nachname)\n",
    "    print(strasse, hausnummer)\n",
    "    print(postleitzahl, stadt)\n",
    "    print(land)\n",
    "    \n",
    "adress_ausgabe_augsburg_city = functools.partial(adress_ausgabe,\n",
    "                                               postleitzahl=86161,\n",
    "                                               stadt='Augsburg',\n",
    "                                               land='Deutschland')\n",
    "    \n",
    "adress_ausgabe('Erika', 'Mustermann', 'Musterstrasse', 7, \n",
    "                   86161, 'Augsburg', 'Deutschland')\n",
    "print()\n",
    "adress_ausgabe_augsburg_city('Erika', 'Mustermann',\n",
    "                             'Musterstrasse', 7)"
   ]
  },
  {
   "cell_type": "markdown",
   "metadata": {
    "slideshow": {
     "slide_type": "subslide"
    }
   },
   "source": [
    "Eine wichtige Funktion für die funktionale Programierung ist *reduce*. *reduce* wendet eine Funktion, die zwei Parameter benötigt, auf die Elemente einer Liste an, wobei das Ergebnis des vorhergehenden Schritts für den nächsten Schritt verwende wird. Beispiel:\n",
    "    functools.reduce(func, (A, B, C, D)) -> func(func(func(A, B), C), D)\n",
    "In Kombination mit dem Modul *operator* kann man so zum Beispiel den Mittelwert einer Zahlenfolge bestimmen:"
   ]
  },
  {
   "cell_type": "code",
   "execution_count": null,
   "metadata": {
    "collapsed": true,
    "slideshow": {
     "slide_type": "subslide"
    }
   },
   "outputs": [],
   "source": [
    "import functools, operator\n",
    "sequence = range(1, 100)\n",
    "avg = functools.reduce(operator.add, sequence) / len(sequence)\n",
    "print(avg)"
   ]
  },
  {
   "cell_type": "markdown",
   "metadata": {
    "slideshow": {
     "slide_type": "subslide"
    }
   },
   "source": [
    "## Anonyme Funktionen: *lambda*"
   ]
  },
  {
   "cell_type": "markdown",
   "metadata": {},
   "source": [
    "Insbesondere bei der Verwendung des *functools*-Moduls werden oft \"Einweg-Funktionen\" benötigt, die nur als Argument für andere Funktionen. Um die Definition solcher anonymen Funktionen zu vereinfachen, gibt es *lambda*:"
   ]
  },
  {
   "cell_type": "code",
   "execution_count": null,
   "metadata": {
    "collapsed": true,
    "slideshow": {
     "slide_type": "subslide"
    }
   },
   "outputs": [],
   "source": [
    "ql = [i*i for i in range(1, 10)]\n",
    "ql3 = list(filter(lambda x : x % 3 == 0, ql))\n",
    "p.output('ql')\n",
    "p.output('ql3')\n",
    "sequence = range(1, 100)\n",
    "avg = functools.reduce(lambda a, b : a + b, sequence) \\\n",
    "    / len(sequence)\n",
    "p.output('avg')"
   ]
  },
  {
   "cell_type": "markdown",
   "metadata": {
    "slideshow": {
     "slide_type": "subslide"
    }
   },
   "source": [
    "## Funktionale Programmierung - Fragen"
   ]
  },
  {
   "cell_type": "markdown",
   "metadata": {},
   "source": [
    "1. Warum ist es schwierig, in einer rein funktionalen Programmiersprache ein Programm zu entwickeln, das kontinuierlich die Uhrzeit auf dem Bildschirm ausgibt?\n",
    "1. In welchen Situationen ist es sinnvoll, das funktionale Paradigma anzuwenden? (Liste)\n"
   ]
  },
  {
   "cell_type": "markdown",
   "metadata": {
    "slideshow": {
     "slide_type": "subslide"
    }
   },
   "source": [
    "# 5. Objektorientierte Programmierung"
   ]
  },
  {
   "cell_type": "markdown",
   "metadata": {},
   "source": [
    "Im Gegensatz zur funktionalen Programmierung ist der **Zustand** von Objekten, der durch den Aufruf von **Methoden** geändert werden kann, ein zentrales Element der objektorientierten Programmierung. Aus Sicht der rein funktionalen Programmierung lebt die objektorientierte Programmierung also von \"Nebeneffekten\"."
   ]
  },
  {
   "cell_type": "markdown",
   "metadata": {
    "slideshow": {
     "slide_type": "subslide"
    }
   },
   "source": [
    "Gegenüber der prozeduralen Vorgehensweise bietet die Vereinigung von Funktionalität (Methoden) und Daten (Attribute) Potential, für die Erstellung wiederverwendbarer Klassen, die bestimmte Aufgaben erfüllen ohne ihre interne Funktionsweise zu offenbaren."
   ]
  },
  {
   "cell_type": "markdown",
   "metadata": {
    "slideshow": {
     "slide_type": "subslide"
    }
   },
   "source": [
    "In Python kann die objektorientierter Programmierung mit der dynamischen Typisierung kombiniert werden.\n",
    "\n",
    "Die folgenden Beispiele stammen teilweise aus dem Buch \"Expert Python Programming\" von Tarek Ziadé (Safari Books)."
   ]
  },
  {
   "cell_type": "markdown",
   "metadata": {
    "slideshow": {
     "slide_type": "subslide"
    }
   },
   "source": [
    "## Vererbung"
   ]
  },
  {
   "cell_type": "markdown",
   "metadata": {},
   "source": [
    "Wenn Sie eine Klasse erstellen wollen, die sich wie eine erweiterte Liste verhält, ist es sinnvoll, von der vorhanden Klasse *list* abzuleiten:"
   ]
  },
  {
   "cell_type": "code",
   "execution_count": null,
   "metadata": {
    "collapsed": true,
    "slideshow": {
     "slide_type": "subslide"
    }
   },
   "outputs": [],
   "source": [
    "class folder(list):\n",
    "    def __init__(self, name):\n",
    "        self.name = name\n",
    "        list.__init__(self)\n",
    "    def __str__(self):\n",
    "        answer = 'I am the ' + self.name + ' folder:\\n'\n",
    "        for el in self:\n",
    "            answer += el + '\\n'\n",
    "        return answer\n",
    "            \n",
    "f = folder('secret')\n",
    "f.append('photos')\n",
    "f.append('music')\n",
    "f.append('letters')\n",
    "print(f)\n",
    "f[0:2]"
   ]
  },
  {
   "cell_type": "markdown",
   "metadata": {
    "slideshow": {
     "slide_type": "subslide"
    }
   },
   "source": [
    "Warum sollte man Mehrfachvererbung vermeiden, obwohl Python diese erlaubt?"
   ]
  },
  {
   "cell_type": "markdown",
   "metadata": {
    "slideshow": {
     "slide_type": "subslide"
    }
   },
   "source": [
    "## Kapselung"
   ]
  },
  {
   "cell_type": "markdown",
   "metadata": {},
   "source": [
    "Als Wiederholung soll an die wichtige Technik der *properties* erinnert werden:"
   ]
  },
  {
   "cell_type": "code",
   "execution_count": null,
   "metadata": {
    "collapsed": true,
    "slideshow": {
     "slide_type": "subslide"
    }
   },
   "outputs": [],
   "source": [
    "class GetSetDemonstrator(object):\n",
    "    def __init__(self):\n",
    "        self.__geheim = 42   \n",
    "    @property\n",
    "    def geheim(self):\n",
    "        print('getter-Aufruf')\n",
    "        return self.__geheim    \n",
    "    @geheim.setter\n",
    "    def geheim(self, value):\n",
    "        if value < 100:\n",
    "            print('setze Wert auf', value)\n",
    "            self.__geheim = value\n",
    "        else:\n",
    "            print('Wert zu gross')\n",
    "            \n",
    "d = GetSetDemonstrator()\n",
    "print(d.geheim)\n",
    "d.geheim = 50\n",
    "d.geheim = 123"
   ]
  },
  {
   "cell_type": "markdown",
   "metadata": {
    "slideshow": {
     "slide_type": "subslide"
    }
   },
   "source": [
    "## Dynamische Erweiterung"
   ]
  },
  {
   "cell_type": "code",
   "execution_count": null,
   "metadata": {
    "collapsed": true
   },
   "outputs": [],
   "source": [
    "d = GetSetDemonstrator()\n",
    "d.neuesAttribut = 'dynamischErweitert'\n",
    "print(d.neuesAttribut)"
   ]
  },
  {
   "cell_type": "markdown",
   "metadata": {
    "slideshow": {
     "slide_type": "fragment"
    }
   },
   "source": [
    "Welche Gefahren ergeben sich durch die Möglichkeit, Klassen dynamisch zu erweitern?"
   ]
  },
  {
   "cell_type": "markdown",
   "metadata": {
    "slideshow": {
     "slide_type": "subslide"
    }
   },
   "source": [
    "Mit \\_\\_slots\\_\\_ können Sie verhindern, dass Ihre Objekte dynamisch erweitert werden:"
   ]
  },
  {
   "cell_type": "code",
   "execution_count": null,
   "metadata": {
    "collapsed": true
   },
   "outputs": [],
   "source": [
    "class X(object):\n",
    "    __slots__ = ('attr1', 'attr2')\n",
    "    def __init__(self, a1=1, a2=0):\n",
    "        self.attr1 = a1\n",
    "        self.attr2 = a2\n",
    "\n",
    "einX = X(a2 = 43)\n",
    "einX.attr2 = 77\n",
    "print(einX.attr1, einX.attr2)\n",
    "# folgende Zeile resultiert jetzt in einer Fehlermeldung\n",
    "# einX.neuesAttribut = 'dynamischErweitert'"
   ]
  },
  {
   "cell_type": "markdown",
   "metadata": {
    "slideshow": {
     "slide_type": "subslide"
    }
   },
   "source": [
    "## Objektorientierte Programmierung - Fragen"
   ]
  },
  {
   "cell_type": "markdown",
   "metadata": {},
   "source": [
    "1. Welche Chancen und welche Gefahren ergeben sich aus der dynamischen Typisierung?\n",
    "1. Warum ist es wichtig, Code-Teile, in denen Objekte dynamisch erweitert werden, gut zu kommentieren?"
   ]
  },
  {
   "cell_type": "markdown",
   "metadata": {
    "slideshow": {
     "slide_type": "slide"
    }
   },
   "source": [
    "# 6. Übungsaufgaben, Abgabe bis 23.11.2017"
   ]
  },
  {
   "cell_type": "markdown",
   "metadata": {},
   "source": [
    "1. Experimentieren Sie mit den funktionalen Konstukten, die Python zur Verfügung steht, um folgende Aufgaben ohne die Verwendung von *numpy* zu lösen. Versuchen Sie dabei Schleifen möglichst zu vermeiden:\n",
    "     1. Erzeugung einer Wertetabelle für die Funktion $y(x) = \\cos(x)\\, e^{-x^2}$ für den Wertebereic $x = [0:7]$\n",
    "     1. Re-Implementierung der Funktion *max* für Listen unter Verwendung von *reduce*.\n",
    "1. In den 60er Jahren des letzten Jahrhunderts wurde der Begriff [\"Softwarekrise\"](https://de.wikipedia.org/wiki/Softwarekrise) geprägt. \n",
    "    1. Welche Maßnahmen sollen helfen, um diese Krise zu überwinden? \n",
    "    1. Glauben Sie, dass die Softwarekrise bald überstanden sein wird?  \n",
    "1. Nutzen Sie die in Listing 1 angegebene Funktion, um den von Ihrem TSP-Programm gefundenen kürzesten Weg grafisch auszugeben.\n",
    "1. Das Ergebnis, das Ihre Pi-Bestimmung nach Monte Carlo liefert, hängt stark vom verwendeten Zufallsgenerator ab.\n",
    "    1. Implementieren Sie einen eigenen Generator für Zufallszahlen in Python. Verwenden Sie dafür einen [linearen Kongruenzgenerator](http://de.wikipedia.org/wiki/Kongruenzgenerator). Geeignete Einstellungen für die Parameter finden Sie in einer Tabelle auf [dieser Seite](http://en.wikipedia.org/wiki/Linear_congruential_generator). \n",
    "    1. Vergleichen Sie die Geschwindigkeit mit dem in der Python-Bibliothek vorhandenen Verfahren. Wie ändert sich die Genauigkeit Ihrer $\\pi$-Berechnung, wenn Sie ihren eigenen Generator verwenden? (Experiment)\n",
    "  "
   ]
  },
  {
   "cell_type": "markdown",
   "metadata": {
    "slideshow": {
     "slide_type": "slide"
    }
   },
   "source": [
    "## Listing 1"
   ]
  },
  {
   "cell_type": "code",
   "execution_count": null,
   "metadata": {
    "collapsed": true
   },
   "outputs": [],
   "source": [
    "staedte_positionen = ((0.010319427306382911, 0.8956251389386756), (0.6999898714299346, 0.42254500074835377), (0.4294574582950912, 0.4568408794115657), (0.6005454852683483, 0.9295407203370832), (0.9590226056623925, 0.581453646599427), (0.748521134122647, 0.5437775417153159), (0.7571232013282426, 0.606435031856663), (0.07528757443413125, 0.07854082131763074), (0.32346175150639334, 0.7291706487873425), (0.012935451483722882, 0.974440252089956), (0.7894689664351368, 0.8925464165283283), (0.5017081207027582, 0.2323298297211428), (0.5994368069089712, 0.006438246252584379), (0.3471372841416518, 0.32362936726486546), (0.9080568556459205, 0.5872162265716462), (0.008216651916432838, 0.5605251786730867), (0.12281649843134745, 0.778836327426156), (0.9698199622470612, 0.9108771425774694), (0.22977122891732482, 0.9692739885317619), (0.8192293086323663, 0.5857981607663957), (0.1422079724040628, 0.8147259475583606), (0.6706795717064135, 0.591561956032189), (0.15756919328106178, 0.6331745919782176), (0.9932745190952539, 0.20429268341528184), (0.21104352892679712, 0.8836996377783977), (0.15162951778287448, 0.43829883402923786), (0.1014198097226855, 0.5877946138306056), (0.8961534561384676, 0.6498866051905969), (0.02348788064910401, 0.2555771312427847), (0.7629752603198586, 0.031097354437254032), (0.9202799257088203, 0.8545409146117934), (0.4740012769258859, 0.30554661789326976), (0.9662984341217945, 0.24235140218349704), (0.236385903920734, 0.8065137287975154), (0.7509340695304845, 0.9276718423781918), (0.891709366337186, 0.9691233497708065), (0.45766675798331646, 0.3966074453757069), (0.362463818656684, 0.629782983287922), (0.3895828182648007, 0.11182372435220689), (0.8007718207811885, 0.07083259575886258), (0.9395297121272306, 0.003549829042441055), (0.9990444201768337, 0.4816092706412669), (0.806664037655748, 0.45636915118812094), (0.7248316046403981, 0.4136143673445848), (0.9797254747122175, 0.5348075095243779), (0.832410347070477, 0.36236092065071435), (0.17697174259486892, 0.09903555437885947), (0.3320429025096797, 0.42538137689172295), (0.010390541304141299, 0.3196764197089256), (0.13647705960093703, 0.6166884292149969), (0.7413967117502017, 0.6758731780971651), (0.5057620560480408, 0.6176726900765315), (0.811221033004999, 0.15436803010778977), (0.5010541138760939, 0.35001152238091926), (0.9413826105193199, 0.9418596542666187), (0.891256361420491, 0.7886584654021789), (0.3676445849723219, 0.9387145658378656), (0.7976904766536591, 0.7297167662430665), (0.5966826978617474, 0.29179542156826277), (0.6209578021367281, 0.22193571777470145), (0.8298034730084203, 0.5164834220744453), (0.1974315640582841, 0.9764209254933037), (0.3181560706032852, 0.9659291942205317), (0.8665674546422951, 0.8281710981528015), (0.341232980616892, 0.5707946637100852), (0.8931358896561539, 0.40864805338293986), (0.26644032823825714, 0.9989727471390323), (0.3993087575662785, 0.009572468741341433), (0.7385521851703551, 0.8947961501854975), (0.3265958212912289, 0.12135269959328665), (0.33657186037515696, 0.04678149607307802), (0.6574688023519235, 0.14620381872693322), (0.9232073321379433, 0.464399378682132), (0.3350568606219765, 0.8140710044746052), (0.43439242705535963, 0.6850627844635814), (0.6748600302251079, 0.17179426903224415), (0.3257145924815924, 0.17892361406234325), (0.9843761318782708, 0.7246387654097534), (0.3302488609623919, 0.5461838792803725), (0.942182061647097, 0.271796972592925), (0.7992439374549364, 0.3344916623897427), (0.07722251160513627, 0.5998378921773792), (0.9551490162437984, 0.99084148343811), (0.2994585617190968, 0.8420506992016424), (0.692980959785355, 0.832838090803397), (0.31555831127132894, 0.06401272570899819), (0.02665227648457802, 0.5242147042171419), (0.1974784428862567, 0.9137326594564479), (0.8486377116437235, 0.773093204292392), (0.6588651068050204, 0.6191834372968826), (0.9294759207447961, 0.04471010558595201), (0.9407045003182903, 0.7240803846820537), (0.6814942236797052, 0.6579517970003296), (0.2956248273119104, 0.4141031496785965), (0.729642956744248, 0.18897087844791205), (0.6092213719795501, 0.12514914017649392), (0.7431271140678826, 0.12660475585183406), (0.9023640654012873, 0.21133242457776658), (0.3513947221768753, 0.10988741056845952), (0.7560785506387285, 0.1994584377393509))"
   ]
  },
  {
   "cell_type": "code",
   "execution_count": null,
   "metadata": {
    "collapsed": true
   },
   "outputs": [],
   "source": [
    "%matplotlib inline\n",
    "def pfad_ausgabe(path):\n",
    "    pointArray = np.array(path)\n",
    "    plt.plot(pointArray[0,0], pointArray[0,1], 'ro')\n",
    "    plt.plot(pointArray[1:-1,0], pointArray[1:-1,1], 'bo')\n",
    "    plt.plot(pointArray[:,0], pointArray[:,1], '-k')\n",
    "    plt.yticks(())\n",
    "    plt.xticks(())\n",
    "    plt.show()"
   ]
  },
  {
   "cell_type": "code",
   "execution_count": null,
   "metadata": {
    "collapsed": true
   },
   "outputs": [],
   "source": [
    "pfad_ausgabe(list(staedte_positionen[0:10]) + [staedte_positionen[0]])"
   ]
  },
  {
   "cell_type": "markdown",
   "metadata": {},
   "source": [
    "# Überprüfung"
   ]
  },
  {
   "cell_type": "markdown",
   "metadata": {
    "slideshow": {
     "slide_type": "slide"
    }
   },
   "source": [
    "1. Warum unterstützen die meisten in der Praxis verwendeten Programmiersprachen mehrere Programmierparadigmen? (maximal drei Sätze)\n",
    "1. Warum lassen sich rein funktional erstellte Programme gut parallelisieren? (maximal drei Sätze)"
   ]
  }
 ],
 "metadata": {
  "celltoolbar": "Slideshow",
  "kernelspec": {
   "display_name": "Python [default]",
   "language": "python",
   "name": "python3"
  },
  "language_info": {
   "codemirror_mode": {
    "name": "ipython",
    "version": 3
   },
   "file_extension": ".py",
   "mimetype": "text/x-python",
   "name": "python",
   "nbconvert_exporter": "python",
   "pygments_lexer": "ipython3",
   "version": "3.6.2"
  },
  "latex_envs": {
   "LaTeX_envs_menu_present": true,
   "autocomplete": true,
   "bibliofile": "biblio.bib",
   "cite_by": "apalike",
   "current_citInitial": 1,
   "eqLabelWithNumbers": true,
   "eqNumInitial": 1,
   "hotkeys": {
    "equation": "Ctrl-E",
    "itemize": "Ctrl-I"
   },
   "labels_anchors": false,
   "latex_user_defs": false,
   "report_style_numbering": false,
   "user_envs_cfg": false
  }
 },
 "nbformat": 4,
 "nbformat_minor": 1
}
