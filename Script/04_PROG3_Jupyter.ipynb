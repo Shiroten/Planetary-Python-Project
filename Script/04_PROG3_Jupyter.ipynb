{
 "cells": [
  {
   "cell_type": "markdown",
   "metadata": {
    "slideshow": {
     "slide_type": "slide"
    }
   },
   "source": [
    "Programmieren 3 - Jupyter-Notebooks\n",
    "\n",
    "Peter Rösch\n",
    "\n",
    "Fakultät für Informatik, Hochschule Augsburg\n",
    "\n",
    "Winter 2017/2018"
   ]
  },
  {
   "cell_type": "markdown",
   "metadata": {
    "slideshow": {
     "slide_type": "slide"
    }
   },
   "source": [
    "# Inhalte"
   ]
  },
  {
   "cell_type": "markdown",
   "metadata": {},
   "source": [
    "* Python-Konstrukte: Vertiefung.\n",
    "* Kennenlernen der Jupyter-Notebooks."
   ]
  },
  {
   "cell_type": "markdown",
   "metadata": {
    "slideshow": {
     "slide_type": "slide"
    }
   },
   "source": [
    "# Nachträge und Ergänzungen"
   ]
  },
  {
   "cell_type": "markdown",
   "metadata": {
    "slideshow": {
     "slide_type": "subslide"
    }
   },
   "source": [
    "## Nachinstallation - Virtuelle Maschine"
   ]
  },
  {
   "cell_type": "markdown",
   "metadata": {},
   "source": [
    "Folgende Befehle sollten zur Aktualisierung/Erweiterung der VM ausgeführt werden:\n",
    "\n",
    "    sudo su\n",
    "    source /opt/anaconda/setupAnaconda\n",
    "    conda install -y numexpr coverage nose \n",
    "    conda install -y -c conda-forge ipywidgets\n",
    "    pip install mypy\n",
    "    jupyter nbextension enable --py --sys-prefix widgetsnbextension \n",
    "    conda clean -a -y\n",
    "    exit\n",
    "    jupyter nbextension enable --py widgetsnbextension --user"
   ]
  },
  {
   "cell_type": "markdown",
   "metadata": {
    "slideshow": {
     "slide_type": "subslide"
    }
   },
   "source": [
    "## Nachinstallation - Labore"
   ]
  },
  {
   "cell_type": "markdown",
   "metadata": {},
   "source": [
    "Im Labor müssen sie folgenden Befehl von einem Terminal aus eingeben:\n",
    "\n",
    "    \n",
    "    jupyter nbextension enable --py widgetsnbextension --user"
   ]
  },
  {
   "cell_type": "markdown",
   "metadata": {
    "slideshow": {
     "slide_type": "subslide"
    }
   },
   "source": [
    "## Starten von spyder im Labor"
   ]
  },
  {
   "cell_type": "markdown",
   "metadata": {},
   "source": [
    "Die Icons im Anwendungsmenü auf den Labor-Rechnern sind mit der Debian-Version von *spyder* verknüpft. Die für uns richtige Version starten Sie durch Eingaben von *spyder* in einem Terminal. Dazu muss *anaconda* vorn im Suchpfad stehen, siehe Anleitung in Moodle."
   ]
  },
  {
   "cell_type": "markdown",
   "metadata": {
    "slideshow": {
     "slide_type": "subslide"
    }
   },
   "source": [
    "## Pylint und nicht genutzte Zählvariable"
   ]
  },
  {
   "cell_type": "markdown",
   "metadata": {},
   "source": [
    "Zugriff zu den von der Bibliothek abonnierten elektronischen Medien erhalten Sie über folgenden [Link](https://www.hs-augsburg.de/bibliothek/Datenbanken-A-Z.html)."
   ]
  },
  {
   "cell_type": "markdown",
   "metadata": {},
   "source": [
    "Wird das Ergebnis der Iteration in einer Schleife nicht genutzt, so gibt es Punktabzug von *pylint*.\n",
    "\n",
    "**Lösung:** Nennen Sie die Variable \"_\""
   ]
  },
  {
   "cell_type": "markdown",
   "metadata": {
    "slideshow": {
     "slide_type": "subslide"
    }
   },
   "source": [
    "    # Version mit pylint-Meldung\n",
    "    for i in range(10):\n",
    "        print('Ausgabe ohne i')\n",
    "\n",
    "    # Version ohne Punktabzug\n",
    "    for _ in range(10):\n",
    "        print('Ausgabe ohne i')"
   ]
  },
  {
   "cell_type": "markdown",
   "metadata": {
    "slideshow": {
     "slide_type": "subslide"
    }
   },
   "source": [
    "## Pylint und die Bibliotheken *numpy* und *PyQt5*"
   ]
  },
  {
   "cell_type": "markdown",
   "metadata": {},
   "source": [
    "pylint hat Probleme, bestimmte externe Bibliotheken, die sich dynamisch initialisieren, zu finden, so dass es insbesondere bei *numpy* und *PyQt5* (wird nächste Woche benötigt) unbegründete Fehlermeldungen gibt. \n",
    "\n",
    "**Lösung:** Erstellen Sie eine Datei ~/.pylintrc mit folgenden Inhalt:\n",
    "\n",
    "    [MASTER]\n",
    "        extension-pkg-whitelist=PyQt5\n",
    "    [TYPECHECK]\n",
    "        ignored-modules = numpy"
   ]
  },
  {
   "cell_type": "markdown",
   "metadata": {
    "slideshow": {
     "slide_type": "slide"
    }
   },
   "source": [
    "# Ausgabe von Ausdrücken und Ergebnissen"
   ]
  },
  {
   "cell_type": "code",
   "execution_count": null,
   "metadata": {
    "collapsed": true,
    "slideshow": {
     "slide_type": "subslide"
    }
   },
   "outputs": [],
   "source": [
    "class ExpressionPrinter:\n",
    "    \"\"\"\n",
    "        output an expression and the \n",
    "        corresponding evaluation result\n",
    "    \"\"\"\n",
    "    def __init__(self):\n",
    "        self.counter = 1\n",
    "    def output(self, expr):\n",
    "        \"\"\"\n",
    "          print ID, expression and result\n",
    "          Args:\n",
    "              expr expression\n",
    "        \"\"\"\n",
    "        print('#', self.counter, ':', \n",
    "              expr, '->', eval(expr))\n",
    "        self.counter += 1\n",
    "# create instance\n",
    "p = ExpressionPrinter()"
   ]
  },
  {
   "cell_type": "markdown",
   "metadata": {
    "slideshow": {
     "slide_type": "slide"
    }
   },
   "source": [
    "# Daten Speichern"
   ]
  },
  {
   "cell_type": "markdown",
   "metadata": {
    "slideshow": {
     "slide_type": "subslide"
    }
   },
   "source": [
    "## Speichern-Quellen und Ergänzungen"
   ]
  },
  {
   "cell_type": "markdown",
   "metadata": {},
   "source": [
    "Die offizielle Quelle ist die [Python-Dokumentation](http://docs.python.org/3.6/library/stdtypes.html).\n",
    "\n",
    "Das [Python-Tuturial](https://docs.python.org/3/tutorial/index.html) beschäftigt sich auch mit Datentypen.\n",
    "\n",
    "Eine gute Einführung bietet auch [*Dive into Python 3*](http://www.diveintopython3.net)."
   ]
  },
  {
   "cell_type": "markdown",
   "metadata": {
    "slideshow": {
     "slide_type": "subslide"
    }
   },
   "source": [
    "## Objekt-Referenzen"
   ]
  },
  {
   "cell_type": "code",
   "execution_count": null,
   "metadata": {},
   "outputs": [],
   "source": [
    "l1 = [1, 2, 3, 4]\n",
    "l2 = l1\n",
    "p.output('l1 == l2')\n",
    "p.output('l1 is l2')\n",
    "l3 = l1[:]\n",
    "p.output('l1 == l3')\n",
    "p.output('l1 is l3')"
   ]
  },
  {
   "cell_type": "markdown",
   "metadata": {
    "slideshow": {
     "slide_type": "subslide"
    }
   },
   "source": [
    "*==* vergleicht den Inhalt der Listen, *is* vergleicht die identität der Objekte."
   ]
  },
  {
   "cell_type": "markdown",
   "metadata": {
    "slideshow": {
     "slide_type": "subslide"
    }
   },
   "source": [
    "## Typ-Überprüfung in Python 3"
   ]
  },
  {
   "cell_type": "markdown",
   "metadata": {},
   "source": [
    "Quelle: [medium.com](https://medium.com/@ageitgey/learn-how-to-use-static-type-checking-in-python-3-6-in-10-minutes-12c86d72677b). Die Typ-Überprüfung wird **nicht** durch den Python-Interpreter, sondern durch einen Typ-Checker (z.B. mypy) durchgeführt."
   ]
  },
  {
   "cell_type": "code",
   "execution_count": null,
   "metadata": {
    "slideshow": {
     "slide_type": "subslide"
    }
   },
   "outputs": [],
   "source": [
    "%%file /tmp/int_sum.py\n",
    "def int_sum(a: int, b: int) -> int:\n",
    "    return a + b\n",
    "\n",
    "print(int_sum(3, 4))\n",
    "print(int_sum(\"a\", \"b\"))"
   ]
  },
  {
   "cell_type": "code",
   "execution_count": null,
   "metadata": {
    "slideshow": {
     "slide_type": "subslide"
    }
   },
   "outputs": [],
   "source": [
    "# Python bleibt weiterhin dynamisch typisiert\n",
    "!python3 /tmp/int_sum.py"
   ]
  },
  {
   "cell_type": "code",
   "execution_count": null,
   "metadata": {
    "slideshow": {
     "slide_type": "fragment"
    }
   },
   "outputs": [],
   "source": [
    "# mypy findet Verstoesse gegen die Typ-Vorschlaege\n",
    "!mypy /tmp/int_sum.py"
   ]
  },
  {
   "cell_type": "markdown",
   "metadata": {
    "slideshow": {
     "slide_type": "subslide"
    }
   },
   "source": [
    "## Boolsche Variablen"
   ]
  },
  {
   "cell_type": "code",
   "execution_count": null,
   "metadata": {},
   "outputs": [],
   "source": [
    "p.output('3*3 == 9')\n",
    "# Oder-Verknuepfung\n",
    "a = None\n",
    "l = []\n",
    "p.output('a or 42, l or [1,2,3]')\n",
    "# \n",
    "p.output('type(a==3)')"
   ]
  },
  {
   "cell_type": "markdown",
   "metadata": {
    "slideshow": {
     "slide_type": "fragment"
    }
   },
   "source": [
    "Sollte man  die mit *Oder-Verknuepfung* vorgestellte Methode verwenden?"
   ]
  },
  {
   "cell_type": "markdown",
   "metadata": {
    "slideshow": {
     "slide_type": "subslide"
    }
   },
   "source": [
    "## Zahlen"
   ]
  },
  {
   "cell_type": "code",
   "execution_count": null,
   "metadata": {},
   "outputs": [],
   "source": [
    "# Division\n",
    "p.output('3 / 4')\n",
    "p.output('3 // 4')\n",
    "# ganze Zahlen\n",
    "import sys\n",
    "p.output('type(3*3)')\n",
    "p.output('17**33')\n",
    "p.output('type(17**42)')"
   ]
  },
  {
   "cell_type": "markdown",
   "metadata": {
    "slideshow": {
     "slide_type": "subslide"
    }
   },
   "source": [
    "**Vorsicht:** In Python Version 2 ist die Division von Integer-Objekten anders definiert!"
   ]
  },
  {
   "cell_type": "code",
   "execution_count": null,
   "metadata": {},
   "outputs": [],
   "source": [
    "%%python2\n",
    "\n",
    "print \"6/2:\", 6/2\n",
    "print \"3/2:\", 3/2"
   ]
  },
  {
   "cell_type": "code",
   "execution_count": null,
   "metadata": {
    "slideshow": {
     "slide_type": "subslide"
    }
   },
   "outputs": [],
   "source": [
    "# float\n",
    "import math\n",
    "zahl_pi = math.pi\n",
    "p.output('math.cos(2 * zahl_pi)')\n",
    "# complex\n",
    "import cmath\n",
    "c = 1 + 3j\n",
    "p.output('type(c)')\n",
    "p.output('cmath.cos(c)')"
   ]
  },
  {
   "cell_type": "code",
   "execution_count": null,
   "metadata": {
    "slideshow": {
     "slide_type": "subslide"
    }
   },
   "outputs": [],
   "source": [
    "# fractions\n",
    "import fractions\n",
    "fr1 = fractions.Fraction(2, 3)\n",
    "fr2 = fractions.Fraction(7, 17)\n",
    "p.output(\"fr1 * fr2\")\n",
    "p.output(\"fr1 + fr2\")\n",
    "fr3 = fractions.Fraction(7, 21)\n",
    "p.output(\"fr3\")\n",
    "p.output(\"float(fr2)\")"
   ]
  },
  {
   "cell_type": "markdown",
   "metadata": {
    "slideshow": {
     "slide_type": "subslide"
    }
   },
   "source": [
    "## Tupel, Listen und Strings"
   ]
  },
  {
   "cell_type": "code",
   "execution_count": null,
   "metadata": {},
   "outputs": [],
   "source": [
    "# Tupel\n",
    "t1 = (0, 1, 2, 3, 4, 5, 'Ende')\n",
    "p.output('t1[2]')\n",
    "p.output('t1[0:3]')\n",
    "p.output('t1[3:]')\n",
    "p.output('t1[-3:]')\n",
    "p.output('(3, 4, 5) > (3, 3, 9)')\n",
    "p.output('3 in t1')"
   ]
  },
  {
   "cell_type": "code",
   "execution_count": null,
   "metadata": {
    "slideshow": {
     "slide_type": "subslide"
    }
   },
   "outputs": [],
   "source": [
    "# Named Tuple\n",
    "import collections\n",
    "Automobil_tuple = collections.namedtuple(\n",
    "    'Automobil', 'marke, modell, leergewicht_kg, leistung_PS, farbe')\n",
    "kaefer = Automobil_tuple(marke='VW', modell='Kaefer', \n",
    "                         leergewicht_kg=730, \n",
    "                         leistung_PS=30, farbe='schwarz')\n",
    "print(kaefer)\n",
    "p.output('kaefer.leergewicht_kg')"
   ]
  },
  {
   "cell_type": "markdown",
   "metadata": {},
   "source": [
    "Frage: In welchen Fällen ist der Einsatz dieses Datentyps sinnvoll?"
   ]
  },
  {
   "cell_type": "code",
   "execution_count": null,
   "metadata": {
    "slideshow": {
     "slide_type": "subslide"
    }
   },
   "outputs": [],
   "source": [
    "# Listen\n",
    "import math\n",
    "l = [1, 2.2, 'a', 'b']\n",
    "l.append(math.cos)\n",
    "p.output('l[-1](math.pi)')\n",
    "p.output('l')\n",
    "l2 = ['0', '-1', '-2', '-3']\n",
    "p.output('list(zip(l[:2], l2[:2]))')\n",
    "l2[1:3]=[]\n",
    "p.output('l2')"
   ]
  },
  {
   "cell_type": "code",
   "execution_count": null,
   "metadata": {
    "slideshow": {
     "slide_type": "subslide"
    }
   },
   "outputs": [],
   "source": [
    "# Strings\n",
    "s = 'Das_ist_ein_String'\n",
    "p.output('s[::2]')\n",
    "p.output(\"s.replace('a', 'ie')\")\n",
    "rs = r'C:\\myDir\\newFile'\n",
    "p.output(\"'ist' in s\")\n",
    "p.output('s.lower()')\n",
    "p.output(\"s.count('i')\")"
   ]
  },
  {
   "cell_type": "code",
   "execution_count": null,
   "metadata": {
    "slideshow": {
     "slide_type": "subslide"
    }
   },
   "outputs": [],
   "source": [
    "# Formatierte Ausgabe\n",
    "p.output(\"'%s hat %s aufgegessen' % ('Ernie', 'die Kekse')\")\n",
    "p.output(\"'{0} hat {1} aufgegessen'.format('Ernie', 'die Kekse')\")\n",
    "p.output(\"'{p} hat {f} aufgegessen'.format(f='die Kekse', p='Ernie')\")"
   ]
  },
  {
   "cell_type": "markdown",
   "metadata": {
    "slideshow": {
     "slide_type": "subslide"
    }
   },
   "source": [
    "Seit Python Version 3 werden Strings im Unicode-Format repräsentiert. Welche Vorteile bringt dies mit sich?"
   ]
  },
  {
   "cell_type": "code",
   "execution_count": null,
   "metadata": {
    "slideshow": {
     "slide_type": "subslide"
    }
   },
   "outputs": [],
   "source": [
    "# byte arrays\n",
    "b = b'Das ist ein Byte-Array'\n",
    "p.output('type(b)')\n",
    "s = 'Ein String'\n",
    "b2 = s.encode(encoding='utf-8')\n",
    "p.output('b2')"
   ]
  },
  {
   "cell_type": "markdown",
   "metadata": {
    "slideshow": {
     "slide_type": "fragment"
    }
   },
   "source": [
    "Wann werden Byte-Arrays verwendet?"
   ]
  },
  {
   "cell_type": "markdown",
   "metadata": {
    "slideshow": {
     "slide_type": "subslide"
    }
   },
   "source": [
    "## Assoziative Listen (dictionaries)"
   ]
  },
  {
   "cell_type": "code",
   "execution_count": null,
   "metadata": {},
   "outputs": [],
   "source": [
    "d = {'Haus':'house', 'Maus':'mouse', 'Auto':'car', 'Bild':'picture'}\n",
    "p.output(\"d['Maus']\")\n",
    "p.output(\"d.keys()\")\n",
    "l=list(d.keys())\n",
    "l.sort()\n",
    "p.output(\"l\")"
   ]
  },
  {
   "cell_type": "code",
   "execution_count": null,
   "metadata": {
    "slideshow": {
     "slide_type": "subslide"
    }
   },
   "outputs": [],
   "source": [
    "# Ersatz fuer switch / case\n",
    "import math\n",
    "d2 = {'s':math.sin, 'c':math.cos, 't':math.tan}\n",
    "p.output(\"d2['c'](math.pi)\")\n",
    "p.output('\"t\" in d2')"
   ]
  },
  {
   "cell_type": "code",
   "execution_count": null,
   "metadata": {
    "slideshow": {
     "slide_type": "subslide"
    }
   },
   "outputs": [],
   "source": [
    "'d2' in locals()"
   ]
  },
  {
   "cell_type": "markdown",
   "metadata": {
    "slideshow": {
     "slide_type": "fragment"
    }
   },
   "source": [
    "Frage: Was bedeutet diese Zeile?"
   ]
  },
  {
   "cell_type": "code",
   "execution_count": null,
   "metadata": {
    "slideshow": {
     "slide_type": "subslide"
    }
   },
   "outputs": [],
   "source": [
    "# ordered dicts\n",
    "import collections\n",
    "od_d = collections.OrderedDict(sorted(d.items(), \n",
    "                                key = lambda t : t[0]))\n",
    "print(od_d)\n",
    "od_e = collections.OrderedDict(sorted(d.items(), \n",
    "                                key = lambda t : t[1]))\n",
    "print(od_e)"
   ]
  },
  {
   "cell_type": "markdown",
   "metadata": {
    "slideshow": {
     "slide_type": "fragment"
    }
   },
   "source": [
    "Frage: Wozu benötigt man *ordered dicts*?"
   ]
  },
  {
   "cell_type": "markdown",
   "metadata": {
    "slideshow": {
     "slide_type": "subslide"
    }
   },
   "source": [
    "## Mengen"
   ]
  },
  {
   "cell_type": "code",
   "execution_count": null,
   "metadata": {},
   "outputs": [],
   "source": [
    "l = [1, 2, 99, 36, 3, 5, 3, 1, 7, 64]\n",
    "s = set(l)\n",
    "p.output('s')\n",
    "s2 = set([i*i for i in range(5,9)])\n",
    "p.output('s.intersection(s2)')\n",
    "p.output('s.difference(s2)')\n",
    "p.output('s.union(s2)')"
   ]
  },
  {
   "cell_type": "markdown",
   "metadata": {
    "slideshow": {
     "slide_type": "subslide"
    }
   },
   "source": [
    "## Persistenz"
   ]
  },
  {
   "cell_type": "code",
   "execution_count": null,
   "metadata": {
    "collapsed": true
   },
   "outputs": [],
   "source": [
    "out_file = open('test_file.txt', 'w')\n",
    "out_file.write('Datei-Inhalt\\nZeile2')\n",
    "out_file.close()"
   ]
  },
  {
   "cell_type": "code",
   "execution_count": null,
   "metadata": {
    "slideshow": {
     "slide_type": "fragment"
    }
   },
   "outputs": [],
   "source": [
    "!cat test_file.txt"
   ]
  },
  {
   "cell_type": "code",
   "execution_count": null,
   "metadata": {
    "collapsed": true,
    "slideshow": {
     "slide_type": "subslide"
    }
   },
   "outputs": [],
   "source": [
    "# Alternative\n",
    "with open('test_file_2.txt', 'w') as out_file:\n",
    "    out_file.write('Datei-Inhalt 2\\nZeile2')"
   ]
  },
  {
   "cell_type": "code",
   "execution_count": null,
   "metadata": {
    "slideshow": {
     "slide_type": "fragment"
    }
   },
   "outputs": [],
   "source": [
    "!cat test_file_2.txt"
   ]
  },
  {
   "cell_type": "code",
   "execution_count": null,
   "metadata": {
    "slideshow": {
     "slide_type": "subslide"
    }
   },
   "outputs": [],
   "source": [
    "l = ['a', 'abc', 'def', 'ENDE']\n",
    "d = {'a':0, 'b':1, 'c':2, 42:'answer'}\n",
    "import pickle\n",
    "with open('myVar.dump', 'wb') as outFile:\n",
    "    pickle.dump((l, d), outFile)\n",
    "del(l); del(d)\n",
    "with open('myVar.dump', 'rb') as inFile:\n",
    "    l, d = pickle.load(inFile)\n",
    "print(l)\n",
    "print(d)"
   ]
  },
  {
   "cell_type": "markdown",
   "metadata": {
    "slideshow": {
     "slide_type": "subslide"
    }
   },
   "source": [
    "## Lesen von Binärdateien"
   ]
  },
  {
   "cell_type": "markdown",
   "metadata": {},
   "source": [
    "Oft müssen Dateien eingelesen werden, die z.B. von C-Programmen binär abgespeichert wurden. Dafür eignet sich das Paket [array](https://docs.python.org/3.4/library/array.html)."
   ]
  },
  {
   "cell_type": "code",
   "execution_count": null,
   "metadata": {},
   "outputs": [],
   "source": [
    "%%file /tmp/pi_out.c\n",
    "\n",
    "#include <stdio.h>\n",
    "\n",
    "int main(){\n",
    "    FILE *out_file = fopen(\"/tmp/pi.dat\", \"wb\");\n",
    "    double pi = 3.141592654;\n",
    "    size_t double_size = sizeof(double);\n",
    "    fwrite(&pi, 1, double_size, out_file);\n",
    "    fclose(out_file);\n",
    "    return 0;\n",
    "}"
   ]
  },
  {
   "cell_type": "code",
   "execution_count": null,
   "metadata": {
    "collapsed": true
   },
   "outputs": [],
   "source": [
    "!gcc /tmp/pi_out.c -o /tmp/pi_out\n",
    "!/tmp/pi_out"
   ]
  },
  {
   "cell_type": "code",
   "execution_count": null,
   "metadata": {
    "slideshow": {
     "slide_type": "subslide"
    }
   },
   "outputs": [],
   "source": [
    "import array\n",
    "m_pi = array.array('d')\n",
    "with open('/tmp/pi.dat', 'rb') as in_file:\n",
    "    m_pi.fromfile(in_file, 1)\n",
    "print(m_pi)"
   ]
  },
  {
   "cell_type": "markdown",
   "metadata": {
    "slideshow": {
     "slide_type": "subslide"
    }
   },
   "source": [
    "## Konfigurations-Dateien"
   ]
  },
  {
   "cell_type": "code",
   "execution_count": null,
   "metadata": {},
   "outputs": [],
   "source": [
    "%%file example.ini\n",
    "# see http://docs.python.org/release/3.6.2/library/configparser.html\n",
    "[DEFAULT]\n",
    "    server_aliveInterval = 45\n",
    "    forward_x11 = yes\n",
    "    output_directory = /tmp/example_dir   \n",
    "[bitbucket.org]\n",
    "    user = hg\n",
    "[topsecret.server.com]\n",
    "    port = 50022\n",
    "    forward_x11 = no\n",
    "    output_file = ${DEFAULT:output_directory}/out_file   "
   ]
  },
  {
   "cell_type": "code",
   "execution_count": null,
   "metadata": {
    "slideshow": {
     "slide_type": "subslide"
    }
   },
   "outputs": [],
   "source": [
    "import time\n",
    "import configparser\n",
    "c = configparser.ConfigParser(\n",
    "        interpolation=configparser.ExtendedInterpolation())\n",
    "c.read_file(open('example.ini'))\n",
    "p.output('c.sections()')\n",
    "p.output(\"c['DEFAULT']['forward_x11']\")\n",
    "c.add_section('times')\n",
    "c['times']['start_time'] = time.asctime()\n",
    "with open('/tmp/example_results.ini', 'w') as out_file:\n",
    "    c.write(out_file)\n",
    "p.output(\"c['topsecret.server.com']['output_file']\")"
   ]
  },
  {
   "cell_type": "code",
   "execution_count": null,
   "metadata": {
    "collapsed": true,
    "slideshow": {
     "slide_type": "subslide"
    }
   },
   "outputs": [],
   "source": [
    "!cat '/tmp/example_results.ini'"
   ]
  },
  {
   "cell_type": "markdown",
   "metadata": {
    "slideshow": {
     "slide_type": "subslide"
    }
   },
   "source": [
    "* Welche Vorteile bieten Konfigurations-Dateien im Vergleich zur interaktiven Einstellung von Parametern?\n",
    "* Schauen Sie sich die fortgeschrittenen Optionen in der [Python-Dokumentation](http://docs.python.org/release/3.6.2/library/configparser.html) an. Interessant sind insbesondere die Möglichkeiten, die sich durch *BasicInterpolation* und *ExtendedInterpolation* ergeben."
   ]
  },
  {
   "cell_type": "markdown",
   "metadata": {
    "slideshow": {
     "slide_type": "slide"
    }
   },
   "source": [
    "# Programmieren"
   ]
  },
  {
   "cell_type": "markdown",
   "metadata": {
    "slideshow": {
     "slide_type": "subslide"
    }
   },
   "source": [
    "## Kontrollstrukturen"
   ]
  },
  {
   "cell_type": "code",
   "execution_count": null,
   "metadata": {},
   "outputs": [],
   "source": [
    "a = 33\n",
    "b = 44.3 + 3j\n",
    "if isinstance(a, int):\n",
    "    print('a referenziert ein int-Objekt')\n",
    "if isinstance(b, int):\n",
    "    print('b referenziert int-Objekt')\n",
    "elif isinstance(b, float):\n",
    "    print('b referenziert ein float-Objekt')\n",
    "else:\n",
    "    print('b referenziert weder ein int-', end='')\n",
    "    print('noch ein float-Objekt')"
   ]
  },
  {
   "cell_type": "markdown",
   "metadata": {
    "slideshow": {
     "slide_type": "fragment"
    }
   },
   "source": [
    "Frage: Wie passen *isinstance* und dynamische Typisierung zusammen?"
   ]
  },
  {
   "cell_type": "code",
   "execution_count": null,
   "metadata": {
    "slideshow": {
     "slide_type": "subslide"
    }
   },
   "outputs": [],
   "source": [
    "# While-Schleife\n",
    "a = 3\n",
    "do_break = False\n",
    "\n",
    "while a > 0:\n",
    "    print(a)\n",
    "    a -= 1\n",
    "    if a == 1 and do_break:\n",
    "        break;\n",
    "else:\n",
    "    print('Schleife normal beendet')"
   ]
  },
  {
   "cell_type": "markdown",
   "metadata": {
    "slideshow": {
     "slide_type": "fragment"
    }
   },
   "source": [
    "Was passiert wenn sie *do_break* auf *True* setzen?"
   ]
  },
  {
   "cell_type": "code",
   "execution_count": null,
   "metadata": {
    "slideshow": {
     "slide_type": "subslide"
    }
   },
   "outputs": [],
   "source": [
    "tier_liste = ['Affe', 'Krokodil', 'Elefant']\n",
    "# bitte so\n",
    "for tier in tier_liste:\n",
    "    print ('Ein', tier, 'ist ein Tier')"
   ]
  },
  {
   "cell_type": "code",
   "execution_count": null,
   "metadata": {
    "slideshow": {
     "slide_type": "fragment"
    }
   },
   "outputs": [],
   "source": [
    "# ... und nicht so\n",
    "for i in range(len(tier_liste)):\n",
    "    print('Ein', tier_liste[i], 'ist ein Tier')"
   ]
  },
  {
   "cell_type": "code",
   "execution_count": null,
   "metadata": {
    "slideshow": {
     "slide_type": "subslide"
    }
   },
   "outputs": [],
   "source": [
    "# Exceptions\n",
    "zaehler = 13\n",
    "nenner = 1\n",
    "try:\n",
    "    wert = zaehler / nenner\n",
    "except ZeroDivisionError:\n",
    "    print('Bitte nicht durch 0 teilen!')\n",
    "    wert = 1.0\n",
    "    print('    wert wurde auf 1 gesetzt')\n",
    "else:\n",
    "    print('alles OK, wert=', wert)\n",
    "finally:\n",
    "    print('jetzt wird aufgeraeumt ...')"
   ]
  },
  {
   "cell_type": "markdown",
   "metadata": {
    "slideshow": {
     "slide_type": "subslide"
    }
   },
   "source": [
    "## 4.2 Funktionen"
   ]
  },
  {
   "cell_type": "code",
   "execution_count": null,
   "metadata": {},
   "outputs": [],
   "source": [
    "def meine_funktion(vorname, nachname='Mustermann'):\n",
    "    print('Ihr Name ist:', vorname, nachname)\n",
    "    quersummen = [0, 0]\n",
    "    for c in vorname:\n",
    "        quersummen[0] += ord(c)\n",
    "    for c in nachname:\n",
    "        quersummen[1] += ord(c)\n",
    "    return quersummen\n",
    "\n",
    "print(\"Quersummen:\", meine_funktion(\"Eva\"))\n",
    "print(\"Quersummen:\", meine_funktion(\"Karl-Eduard\", \"Musterfrau\"))"
   ]
  },
  {
   "cell_type": "code",
   "execution_count": null,
   "metadata": {
    "slideshow": {
     "slide_type": "subslide"
    }
   },
   "outputs": [],
   "source": [
    "# Funktion mit beliebig vielen Argumenten\n",
    "\n",
    "def func(*args, **kwargs):\n",
    "    print('args:', args)\n",
    "    print('kwargs:', kwargs)\n",
    "    \n",
    "func(11, 22, 'hallo', [2, 3], n='prog3', pi=3.14)"
   ]
  },
  {
   "cell_type": "markdown",
   "metadata": {
    "slideshow": {
     "slide_type": "fragment"
    }
   },
   "source": [
    "Erklären Sie mit eigenen Worten die Funktion von *args* und *kwargs*."
   ]
  },
  {
   "cell_type": "markdown",
   "metadata": {
    "slideshow": {
     "slide_type": "subslide"
    }
   },
   "source": [
    "## Klassen"
   ]
  },
  {
   "cell_type": "code",
   "execution_count": null,
   "metadata": {
    "slideshow": {
     "slide_type": "subslide"
    }
   },
   "outputs": [],
   "source": [
    "class Koordinate:\n",
    "    def __init__(self, x = 0.0, y = 0.0):\n",
    "        self.x, self.y = x, y\n",
    "    def __add__(self, k):\n",
    "        return Koordinate(self.x + k.x, self.y + k.y)\n",
    "    def __str__(self):\n",
    "        return str(self.x) + \", \" + str(self.y)\n",
    "    \n",
    "k1 = Koordinate(1, 3)\n",
    "k2 = Koordinate(3.4, 4.4)\n",
    "p.output('k1 + k2')\n",
    "p.output('k1.__add__(k2)')\n",
    "p.output('Koordinate.__add__(k1, k2)')"
   ]
  },
  {
   "cell_type": "markdown",
   "metadata": {
    "slideshow": {
     "slide_type": "fragment"
    }
   },
   "source": [
    "Was ist der Unterschied zwischen den beiden Aufrufen der *__add__*-Methode?"
   ]
  },
  {
   "cell_type": "code",
   "execution_count": null,
   "metadata": {
    "slideshow": {
     "slide_type": "subslide"
    }
   },
   "outputs": [],
   "source": [
    "class Koordinate:\n",
    "    # statisches Attribut\n",
    "    nr_of_creations = 0\n",
    "    def __init__(self, x = 0.0, y = 0.0):\n",
    "        Koordinate.nr_of_creations += 1\n",
    "        self.x, self.y = x, y\n",
    "    def __add__(self, k):\n",
    "        return Koordinate(self.x + k.x, self.y + k.y)\n",
    "    # statische Methode\n",
    "    @staticmethod\n",
    "    def get_nr_of_creations():\n",
    "        return Koordinate.nr_of_creations\n",
    "    \n",
    "k1 = Koordinate(1, 3)\n",
    "k2 = Koordinate(3.4, 4.4)\n",
    "print('nrOfCreations:', Koordinate.get_nr_of_creations())"
   ]
  },
  {
   "cell_type": "markdown",
   "metadata": {
    "slideshow": {
     "slide_type": "fragment"
    }
   },
   "source": [
    "Konstrukte wie *@staticmethod* bezeichnet man als [decorator](https://docs.python.org/3/glossary.html)."
   ]
  },
  {
   "cell_type": "code",
   "execution_count": null,
   "metadata": {
    "collapsed": true,
    "slideshow": {
     "slide_type": "subslide"
    }
   },
   "outputs": [],
   "source": [
    "class GetSetDemonstrator:\n",
    "    def __init__(self):\n",
    "        # (fast) privates attribut\n",
    "        self.__geheim = 42   \n",
    "    @property\n",
    "    def geheim(self):\n",
    "        print('getter-Aufruf')\n",
    "        return self.__geheim    \n",
    "    @geheim.setter\n",
    "    def geheim(self, value):\n",
    "        if value < 100:\n",
    "            print('setze Wert auf', value)\n",
    "            self.__geheim = value\n",
    "        else:\n",
    "            print('Wert zu gross')"
   ]
  },
  {
   "cell_type": "markdown",
   "metadata": {
    "slideshow": {
     "slide_type": "fragment"
    }
   },
   "source": [
    "Hintergrundinformationen zu properties finden Sie [hier](http://www.python-course.eu/python3_properties.php)."
   ]
  },
  {
   "cell_type": "code",
   "execution_count": null,
   "metadata": {
    "slideshow": {
     "slide_type": "subslide"
    }
   },
   "outputs": [],
   "source": [
    "# using properties         \n",
    "d = GetSetDemonstrator()\n",
    "print(d.geheim)\n",
    "d.geheim = 50\n",
    "d.geheim = 123"
   ]
  },
  {
   "cell_type": "markdown",
   "metadata": {
    "slideshow": {
     "slide_type": "subslide"
    }
   },
   "source": [
    "*\\_\\_geheim* ist fast privat, aber eben nur fast ..."
   ]
  },
  {
   "cell_type": "code",
   "execution_count": null,
   "metadata": {
    "slideshow": {
     "slide_type": "fragment"
    }
   },
   "outputs": [],
   "source": [
    "d._GetSetDemonstrator__geheim"
   ]
  },
  {
   "cell_type": "markdown",
   "metadata": {
    "slideshow": {
     "slide_type": "fragment"
    }
   },
   "source": [
    "Frage: Was bedeutet der Begriff *name mangling*?"
   ]
  },
  {
   "cell_type": "markdown",
   "metadata": {
    "slideshow": {
     "slide_type": "subslide"
    }
   },
   "source": [
    "* Wie haben Sie *setter* in Java implementiert?\n",
    "* Verschaffen Sie sich einen Überblick über die Möglichkeiten, die Python-Klassen bieten, siehe z.B. die [Python Dokumentation](http://docs.python.org/release/3.6.2/tutorial/classes.html) oder geeignete Einträge in den Safari-Books."
   ]
  },
  {
   "cell_type": "markdown",
   "metadata": {
    "slideshow": {
     "slide_type": "slide"
    }
   },
   "source": [
    "## Generische Programmierung"
   ]
  },
  {
   "cell_type": "code",
   "execution_count": null,
   "metadata": {
    "slideshow": {
     "slide_type": "subslide"
    }
   },
   "outputs": [],
   "source": [
    "def myMax(a, b):\n",
    "    if a > b:\n",
    "        return a\n",
    "    else:\n",
    "        return b\n",
    "    \n",
    "('myMax(3, 4):')\n",
    "print(\"myMax('a', 'z'):\", myMax('a', 'z'))"
   ]
  },
  {
   "cell_type": "code",
   "execution_count": null,
   "metadata": {
    "slideshow": {
     "slide_type": "subslide"
    }
   },
   "outputs": [],
   "source": [
    "g1 = GetSetDemonstrator()\n",
    "g2 = GetSetDemonstrator()\n",
    "# folgende Zeile loest einen TypeError aus.\n",
    "# p.output('myMax(g1, g2)')"
   ]
  },
  {
   "cell_type": "code",
   "execution_count": null,
   "metadata": {
    "collapsed": true,
    "slideshow": {
     "slide_type": "subslide"
    }
   },
   "outputs": [],
   "source": [
    "import inspect\n",
    "\n",
    "def my_max_with_type_check(a, b):\n",
    "    if type(a) != type(b):\n",
    "        print('%s: types of objects must agree' \\\n",
    "              % (inspect.stack()[0][3], ))\n",
    "        return None\n",
    "    else:\n",
    "        try:\n",
    "            if a > b:\n",
    "                return a\n",
    "            else:\n",
    "                return b\n",
    "        except TypeError:\n",
    "            print('Types %s and %s can not be compared' \n",
    "                  % (a.__class__.__name__, b.__class__.__name__))\n",
    "            return None"
   ]
  },
  {
   "cell_type": "code",
   "execution_count": null,
   "metadata": {
    "slideshow": {
     "slide_type": "subslide"
    }
   },
   "outputs": [],
   "source": [
    "p.output(\"my_max_with_type_check('Adam', 'Eva')\")"
   ]
  },
  {
   "cell_type": "code",
   "execution_count": null,
   "metadata": {
    "slideshow": {
     "slide_type": "fragment"
    }
   },
   "outputs": [],
   "source": [
    "p.output('my_max_with_type_check(g1, 33)')"
   ]
  },
  {
   "cell_type": "markdown",
   "metadata": {
    "slideshow": {
     "slide_type": "fragment"
    }
   },
   "source": [
    "Die Bibliothek *inspect* enthält eine Reihe nützlicher Funktionen, siehe [hier](https://docs.python.org/3/library/inspect.html)."
   ]
  },
  {
   "cell_type": "markdown",
   "metadata": {
    "slideshow": {
     "slide_type": "fragment"
    }
   },
   "source": [
    "Frage: Welche Argumente sprechen für, welche gegen den Einsatz von *type checking* in Python?"
   ]
  },
  {
   "cell_type": "markdown",
   "metadata": {
    "slideshow": {
     "slide_type": "subslide"
    }
   },
   "source": [
    "## Generatoren"
   ]
  },
  {
   "cell_type": "code",
   "execution_count": null,
   "metadata": {
    "slideshow": {
     "slide_type": "subslide"
    }
   },
   "outputs": [],
   "source": [
    "def fib(N):\n",
    "    a, b = 0, 1\n",
    "    count = 1\n",
    "    yield a\n",
    "    while count < N:\n",
    "        yield b\n",
    "        a, b = b, a+b\n",
    "        count += 1\n",
    "\n",
    "fibonacciZahlen = fib(15)\n",
    "\n",
    "for i in fibonacciZahlen:\n",
    "    print(i, end=' ')"
   ]
  },
  {
   "cell_type": "markdown",
   "metadata": {
    "slideshow": {
     "slide_type": "fragment"
    }
   },
   "source": [
    "Frage: Wie können Sie einen Generator im Rahmen des Vokabel-Trainers einsetzen?"
   ]
  },
  {
   "cell_type": "code",
   "execution_count": null,
   "metadata": {
    "collapsed": true,
    "slideshow": {
     "slide_type": "subslide"
    }
   },
   "outputs": [],
   "source": [
    "import random\n",
    "\n",
    "def zufalls_schluessel(d, n):\n",
    "    \"\"\"\n",
    "        Zufaellige Auswahl von n Schluesseln aus dem dict d\n",
    "    \"\"\"\n",
    "    if (n > len(d)):\n",
    "        raise IndexError('Liste enthaelt nicht genuegend Elemente')\n",
    "    else:\n",
    "        k_list = list(d.keys())\n",
    "        random.shuffle(k_list)\n",
    "        for k in k_list[:n]:\n",
    "            yield k"
   ]
  },
  {
   "cell_type": "code",
   "execution_count": null,
   "metadata": {
    "slideshow": {
     "slide_type": "subslide"
    }
   },
   "outputs": [],
   "source": [
    "d = {'dog':'Hund', 'car':'Auto', 'nose':'Nase', 'small':'klein'}\n",
    "for z_k in zufalls_schluessel(d, 3):\n",
    "    print(z_k, d[z_k])"
   ]
  },
  {
   "cell_type": "markdown",
   "metadata": {
    "slideshow": {
     "slide_type": "slide"
    }
   },
   "source": [
    "## Metaprogrammierung"
   ]
  },
  {
   "cell_type": "code",
   "execution_count": null,
   "metadata": {
    "slideshow": {
     "slide_type": "subslide"
    }
   },
   "outputs": [],
   "source": [
    "def inkrement_funktion(inkrement):\n",
    "    def neue_funktion(x):\n",
    "        return x+inkrement\n",
    "    return neue_funktion\n",
    "\n",
    "i3 = inkrement_funktion(3)\n",
    "i5 = inkrement_funktion(5)\n",
    "p.output('i3(42)')\n",
    "p.output('i5(42)')"
   ]
  },
  {
   "cell_type": "code",
   "execution_count": null,
   "metadata": {
    "slideshow": {
     "slide_type": "subslide"
    }
   },
   "outputs": [],
   "source": [
    "def klassen_fabrik(funktion, definitions_bereich):\n",
    "    class NeueKlasse:\n",
    "        def __init__(self):\n",
    "            self.__funktion = funktion\n",
    "            self.__definitions_bereich = definitions_bereich\n",
    "        def berechne(self, x):\n",
    "            ergebnis = float('NaN')\n",
    "            if x < self.__definitions_bereich[0]:\n",
    "                print('Argument zu klein')\n",
    "            elif x > self.__definitions_bereich[1]:\n",
    "                print('Argument zu gross')\n",
    "            else:\n",
    "                ergebnis = self.__funktion(x)\n",
    "            return ergebnis\n",
    "    return NeueKlasse\n",
    "\n",
    "import math\n",
    "SinusKlasse = klassen_fabrik(math.sin, [-math.pi, math.pi])\n",
    "sinus_klassen_instanz = SinusKlasse()\n",
    "p.output('sinus_klassen_instanz.berechne(0.2)')\n",
    "p.output('sinus_klassen_instanz.berechne(10)')    "
   ]
  },
  {
   "cell_type": "markdown",
   "metadata": {
    "slideshow": {
     "slide_type": "subslide"
    }
   },
   "source": [
    "Frage: Welche Eigenschaften der Sprache Python erlauben es, die Funktionen *inkrementFunktion* und *klassenFabrik* zu implementieren."
   ]
  },
  {
   "cell_type": "code",
   "execution_count": null,
   "metadata": {
    "collapsed": true,
    "slideshow": {
     "slide_type": "subslide"
    }
   },
   "outputs": [],
   "source": [
    "import types\n",
    "\n",
    "def inkrementier_funktion(self):\n",
    "    self.alter += 1\n",
    "    \n",
    "def whoami():\n",
    "    print('Ich bin vom Typ Studentin')\n",
    "    \n",
    "student_objekt = type('Studentin', ( ), \n",
    "                      {'vorname' : 'Eva', \n",
    "                       'nachname' : 'Mustermann', 'alter' : 22,\n",
    "                       'whoami' : staticmethod(whoami)})\n",
    "                       \n",
    "student_objekt.ein_jahr_altern = \\\n",
    "    types.MethodType(inkrementier_funktion, student_objekt)"
   ]
  },
  {
   "cell_type": "code",
   "execution_count": null,
   "metadata": {
    "slideshow": {
     "slide_type": "subslide"
    }
   },
   "outputs": [],
   "source": [
    "student_objekt.whoami()\n",
    "print(student_objekt.vorname, student_objekt.alter)\n",
    "student_objekt.ein_jahr_altern()\n",
    "print(student_objekt.vorname, student_objekt.alter)"
   ]
  },
  {
   "cell_type": "markdown",
   "metadata": {
    "slideshow": {
     "slide_type": "fragment"
    }
   },
   "source": [
    "Frage: Warum sollten nur erfahrene Programmierer Metaprogrammierung einsetzen?"
   ]
  },
  {
   "cell_type": "markdown",
   "metadata": {
    "slideshow": {
     "slide_type": "slide"
    }
   },
   "source": [
    "# Werkzeuge"
   ]
  },
  {
   "cell_type": "markdown",
   "metadata": {},
   "source": [
    "Hinweise zur Benutzung des Python-Interpreters finden Sie [hier](http://docs.python.org/3.6/tutorial/interpreter.html).\n",
    "\n",
    "Die Dokumentation zum gvim-Editor finden Sie [hier](http://www.vim.org/docs.php).\n",
    "\n",
    "Auch emacs kann für Python eingesetzt werden, eine Zusammenfassung finden Sie [hier](http://www.emacswiki.org/emacs/PythonProgrammingInEmacs).\n",
    "\n",
    "Der Debugger pdb ist innerhalb der [Python-Dokumentation](http://docs.python.org/3.6/library/pdb.html) beschrieben.\n",
    "\n",
    "Die Dokumentation zu *idle* finden Sie [hier](http://docs.python.org/3.6/library/idle.html).\n",
    "\n",
    "Python-Pakete erzeugt und verwaltet man üblicherweise mit den [setuptools](https://setuptools.readthedocs.io/en/latest)."
   ]
  },
  {
   "cell_type": "markdown",
   "metadata": {
    "slideshow": {
     "slide_type": "subslide"
    }
   },
   "source": [
    "## Debugger"
   ]
  },
  {
   "cell_type": "code",
   "execution_count": null,
   "metadata": {
    "slideshow": {
     "slide_type": "subslide"
    }
   },
   "outputs": [],
   "source": [
    "def meine_funktion(a, b):\n",
    "    c = float('NaN');\n",
    "    try:,\n",
    "        c = a / b\n",
    "    except:\n",
    "        import pdb; pdb.set_trace()\n",
    "    return c\n",
    "\n",
    "if __name__ == '__main__':\n",
    "    print('meine_funktion(3, 0):', meine_funktion(3, 0))\n",
    "    # print('meine_funktion(7, 0):', meine_funktion(7, 0))"
   ]
  },
  {
   "cell_type": "markdown",
   "metadata": {
    "slideshow": {
     "slide_type": "subslide"
    }
   },
   "source": [
    "* Experimentieren Sie mit dem oben angegebenen Programm. Folgende *pdb*-Befehle könnten hilfreich sein: ? (Hilfe), l (list), c (continue)\n",
    "\n",
    "* Welche Vorteile bietet die hier angegebene Vorgehensweise im Vergleich zur Arbeit mit *breakpoints* bzw. dem interaktiven Springen von Zeile zu Zeile?"
   ]
  },
  {
   "cell_type": "markdown",
   "metadata": {
    "slideshow": {
     "slide_type": "subslide"
    }
   },
   "source": [
    "## Paket-Manager"
   ]
  },
  {
   "cell_type": "markdown",
   "metadata": {},
   "source": [
    "Mit dem Programm *conda* können Sie als Benutzer *root* oder mit *sudo* ein Paket *beispielPaket*, das Ihnen fehlt, wie folgt installieren:\n",
    "    \n",
    "    sudo conda install beispiel_paket\n",
    "    \n",
    "Pakete, die in der anaconda-Distribution nicht enthalten sind, können Sie auch mit *pip* installieren:\n",
    "\n",
    "    sudo pip install beispiel_paket"
   ]
  },
  {
   "cell_type": "markdown",
   "metadata": {},
   "source": [
    "Details zur Erstellung eigener Pakete finde Sie in dem Buch \"Python von Kopf bis Fuß\" (Safari) oder in der [Dokumentation](http://pythonhosted.org/an_example_pypi_project/setuptools.html)."
   ]
  },
  {
   "cell_type": "markdown",
   "metadata": {
    "slideshow": {
     "slide_type": "slide"
    }
   },
   "source": [
    "# 6. IPython und das Jupyter-Notebook"
   ]
  },
  {
   "cell_type": "markdown",
   "metadata": {},
   "source": [
    "Die primäre Informations-Quelle für IPythonist die [IPython-Homepage](http://ipython.org/).\n",
    "\n",
    "Informationen zum Projekt Jupyter finden Sie [hier](http://jupyter.org).\n",
    "\n",
    "Es gibt ein Buch \"Learning IPython for Interactive Computing and Data Visualization\" von Cyrille Rossant, das auch elektronisch verfügbar ist ([Safari Books](http://proquest.tech.safaribooksonline.de)).\n",
    "\n",
    "Falls Sie Notebooks veröffentlichen oder veröffentlichte Notebooks anschauen möchten, bietet sich der [Notebook Viewer](http://nbviewer.jupyter.org/) an."
   ]
  },
  {
   "cell_type": "markdown",
   "metadata": {
    "slideshow": {
     "slide_type": "subslide"
    }
   },
   "source": [
    "## System-Befehle"
   ]
  },
  {
   "cell_type": "code",
   "execution_count": null,
   "metadata": {
    "collapsed": true,
    "slideshow": {
     "slide_type": "subslide"
    }
   },
   "outputs": [],
   "source": [
    "# Windows-Version\n",
    "!cd\n",
    "my_dir = 'D:/cygwin/home'\n",
    "file_list = !dir $my_dir\n",
    "print(file_list)\n",
    "import os\n",
    "nr_of_py_files = 0\n",
    "for root, dirs, files in os.walk('d:/python34/lib'):\n",
    "    for name in files:\n",
    "        if name[-3:] == '.py':\n",
    "            nr_of_py_files += 1\n",
    "print('In d:/python34/lib gibt es {0} py-Dateien'.format(nr_of_py_files))"
   ]
  },
  {
   "cell_type": "code",
   "execution_count": null,
   "metadata": {
    "slideshow": {
     "slide_type": "subslide"
    }
   },
   "outputs": [],
   "source": [
    "# Linux-Version\n",
    "!pwd\n",
    "my_dir = '/usr/lib/python3'\n",
    "file_list = !ls $my_dir\n",
    "print(file_list)\n",
    "import os\n",
    "nr_of_py_files = 0\n",
    "for root, dirs, files in os.walk(my_dir):\n",
    "    for name in files:\n",
    "        if name[-3:] == '.py':\n",
    "            nr_of_py_files += 1\n",
    "print('In {d} gibt es {n} py-Dateien'.format(\n",
    "        d=my_dir, n=nr_of_py_files))"
   ]
  },
  {
   "cell_type": "markdown",
   "metadata": {
    "slideshow": {
     "slide_type": "subslide"
    }
   },
   "source": [
    "Sie können einige Befehle wie *ls, cd, pwd, mkdir, rmdir, ...* direkt eingeben. Für diese Befehle existieren Plattform-unabhängige *alias*-Verknüpfungen. Geben Sie in der Zelle unten *alias* ein, um sich eine Übersicht zu verschaffen."
   ]
  },
  {
   "cell_type": "markdown",
   "metadata": {
    "slideshow": {
     "slide_type": "subslide"
    }
   },
   "source": [
    "## History"
   ]
  },
  {
   "cell_type": "code",
   "execution_count": null,
   "metadata": {
    "slideshow": {
     "slide_type": "subslide"
    }
   },
   "outputs": [],
   "source": [
    "%history 1-2"
   ]
  },
  {
   "cell_type": "code",
   "execution_count": null,
   "metadata": {
    "collapsed": true,
    "slideshow": {
     "slide_type": "subslide"
    }
   },
   "outputs": [],
   "source": [
    "%save /tmp/start.py 1"
   ]
  },
  {
   "cell_type": "markdown",
   "metadata": {},
   "source": [
    "* Schauen Sie sich mit *%history?* die Hilfe zu diesem Befehl an.\n",
    "* Welche Anwendungen fallen Ihnen zu *%history, %save,* etc. ein?"
   ]
  },
  {
   "cell_type": "markdown",
   "metadata": {
    "slideshow": {
     "slide_type": "subslide"
    }
   },
   "source": [
    "## Tab"
   ]
  },
  {
   "cell_type": "code",
   "execution_count": null,
   "metadata": {
    "collapsed": true
   },
   "outputs": [],
   "source": [
    "l = [1, 2, 3, 4]"
   ]
  },
  {
   "cell_type": "markdown",
   "metadata": {},
   "source": [
    "Welche Methoden besitzt ein Dictionary?"
   ]
  },
  {
   "cell_type": "markdown",
   "metadata": {
    "slideshow": {
     "slide_type": "subslide"
    }
   },
   "source": [
    "### %run und %script"
   ]
  },
  {
   "cell_type": "code",
   "execution_count": null,
   "metadata": {},
   "outputs": [],
   "source": [
    "%%file /tmp/hello.py\n",
    "print(\"Hallo!\")"
   ]
  },
  {
   "cell_type": "code",
   "execution_count": null,
   "metadata": {},
   "outputs": [],
   "source": [
    "%run /tmp/hello"
   ]
  },
  {
   "cell_type": "code",
   "execution_count": null,
   "metadata": {
    "slideshow": {
     "slide_type": "subslide"
    }
   },
   "outputs": [],
   "source": [
    "%%bash\n",
    "echo \"hello from $BASH\"\n",
    "echo \"your home directory is $HOME\""
   ]
  },
  {
   "cell_type": "markdown",
   "metadata": {
    "slideshow": {
     "slide_type": "subslide"
    }
   },
   "source": [
    "## Notebook-Server"
   ]
  },
  {
   "cell_type": "markdown",
   "metadata": {},
   "source": [
    "Eine Anleitung zur Installation eines Notebook-Servers finden Sie [hier](http://jupyter-notebook.readthedocs.io/en/stable/public_server.html).\n",
    "\n",
    "Auf dem Notebook-Server können Sie mit jedem Gerät arbeiten, auf dem ein aktueller Web-Browser verfügbar ist. Eine Installation von Python auf diesem Gerät ist *nicht* nötig."
   ]
  },
  {
   "cell_type": "markdown",
   "metadata": {
    "slideshow": {
     "slide_type": "subslide"
    }
   },
   "source": [
    "## Magie"
   ]
  },
  {
   "cell_type": "code",
   "execution_count": null,
   "metadata": {
    "slideshow": {
     "slide_type": "subslide"
    }
   },
   "outputs": [],
   "source": [
    "%%timeit\n",
    "a = []\n",
    "for i in range(10000):\n",
    "    a.append(i)"
   ]
  },
  {
   "cell_type": "markdown",
   "metadata": {
    "slideshow": {
     "slide_type": "fragment"
    }
   },
   "source": [
    "Geben Sie *%magic* ein, um die Dokumentation zu den \"magischen\" Befehlen zu sehen."
   ]
  },
  {
   "cell_type": "markdown",
   "metadata": {
    "slideshow": {
     "slide_type": "subslide"
    }
   },
   "source": [
    "## Interaktion"
   ]
  },
  {
   "cell_type": "code",
   "execution_count": null,
   "metadata": {
    "collapsed": true,
    "slideshow": {
     "slide_type": "subslide"
    }
   },
   "outputs": [],
   "source": [
    "# Funktion zur Berechnung der Summe\n",
    "def summen_ausgabe(x, y):\n",
    "    print(x + y)"
   ]
  },
  {
   "cell_type": "code",
   "execution_count": null,
   "metadata": {
    "collapsed": true,
    "slideshow": {
     "slide_type": "subslide"
    }
   },
   "outputs": [],
   "source": [
    "from ipywidgets import interact"
   ]
  },
  {
   "cell_type": "code",
   "execution_count": null,
   "metadata": {
    "slideshow": {
     "slide_type": "fragment"
    }
   },
   "outputs": [],
   "source": [
    "interact(summen_ausgabe, x=(0, 10, 2), y=(-3.3, 10.2))"
   ]
  },
  {
   "cell_type": "code",
   "execution_count": null,
   "metadata": {
    "collapsed": true,
    "slideshow": {
     "slide_type": "subslide"
    }
   },
   "outputs": [],
   "source": [
    "def drink_auswahl(fruchtsaft, alkohol):\n",
    "    print('Sie haben ' + fruchtsaft + ' mit ' + alkohol + ' bestellt')"
   ]
  },
  {
   "cell_type": "code",
   "execution_count": null,
   "metadata": {
    "slideshow": {
     "slide_type": "fragment"
    }
   },
   "outputs": [],
   "source": [
    "interact(drink_auswahl, fruchtsaft = ['Orangensaft', 'Kirschsaft',\n",
    "                                      'Zitronensaft'],\n",
    "         alkohol=[u'Jägermeister', 'Gin', 'Wodka'])"
   ]
  },
  {
   "cell_type": "markdown",
   "metadata": {
    "slideshow": {
     "slide_type": "subslide"
    }
   },
   "source": [
    "## Einbinden von Grafiken"
   ]
  },
  {
   "cell_type": "code",
   "execution_count": null,
   "metadata": {
    "slideshow": {
     "slide_type": "subslide"
    }
   },
   "outputs": [],
   "source": [
    "%matplotlib inline\n",
    "import numpy as np\n",
    "import matplotlib.pyplot as plt\n",
    "x = np.arange(-5, 5, 0.05)\n",
    "y = np.sin(x)**2\n",
    "plt.title('Das ist der Sinus im Quadrat')\n",
    "plt.xlabel('x')\n",
    "plt.ylabel('$\\sin(x)^2$')\n",
    "plt.plot(x, y)"
   ]
  },
  {
   "cell_type": "markdown",
   "metadata": {
    "slideshow": {
     "slide_type": "slide"
    }
   },
   "source": [
    "# 7. Übungsaufgaben bis zum 09.11.2017"
   ]
  },
  {
   "cell_type": "markdown",
   "metadata": {},
   "source": [
    "1. Arbeiten Sie die einzelnen Kapitel des Notebooks gründlich durch und notieren Sie sich offene Fragen.\n",
    "1. Verbessern Sie Ihren Vokabeltrainer durch den Einsatz von Methoden aus diesem Notebook.\n",
    "1. Entwickeln Sie einen Prototypen für Ihre Gravitations-Simulation als IPython-Notebook. Das Notebook soll Formeln, Grafiken (2D-Bahnkurven) und erklärenden Text enthalten. Als Test bietet es sich an, die Bahn der Erde um die Sonne zu berechnen und die Ergebnisse mit der Realität zu vergleichen. Bezüglich der Datenstrukturen beachten Sie bitte den Hinweis in der Aufgabenstellung zum Semester-projekt (pdf-Dokument)."
   ]
  }
 ],
 "metadata": {
  "kernelspec": {
   "display_name": "Python [default]",
   "language": "python",
   "name": "python3"
  },
  "language_info": {
   "codemirror_mode": {
    "name": "ipython",
    "version": 3
   },
   "file_extension": ".py",
   "mimetype": "text/x-python",
   "name": "python",
   "nbconvert_exporter": "python",
   "pygments_lexer": "ipython3",
   "version": "3.6.2"
  },
  "latex_envs": {
   "LaTeX_envs_menu_present": true,
   "autocomplete": true,
   "bibliofile": "biblio.bib",
   "cite_by": "apalike",
   "current_citInitial": 1.0,
   "eqLabelWithNumbers": true,
   "eqNumInitial": 1.0,
   "hotkeys": {
    "equation": "Ctrl-E",
    "itemize": "Ctrl-I"
   },
   "labels_anchors": false,
   "latex_user_defs": false,
   "report_style_numbering": false,
   "user_envs_cfg": false
  }
 },
 "nbformat": 4,
 "nbformat_minor": 1
}
