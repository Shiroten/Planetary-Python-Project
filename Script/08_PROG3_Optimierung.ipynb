{
 "cells": [
  {
   "cell_type": "markdown",
   "metadata": {
    "slideshow": {
     "slide_type": "slide"
    }
   },
   "source": [
    "\n",
    "Programmieren 3 - Optimierung\n",
    "\n",
    "Peter Rösch, Fakultät für Informatik\n",
    "\n",
    "Hochschule Augsburg, 2016/2017"
   ]
  },
  {
   "cell_type": "markdown",
   "metadata": {
    "slideshow": {
     "slide_type": "slide"
    }
   },
   "source": [
    "# Nachträge und Ergänzungen"
   ]
  },
  {
   "cell_type": "markdown",
   "metadata": {
    "slideshow": {
     "slide_type": "slide"
    }
   },
   "source": [
    "# Problem des Handlungsreisenden (TSP)"
   ]
  },
  {
   "cell_type": "markdown",
   "metadata": {},
   "source": [
    "Die folgende Zelle enthält die bekannten Städte-Positionen."
   ]
  },
  {
   "cell_type": "code",
   "execution_count": 3,
   "metadata": {
    "collapsed": true
   },
   "outputs": [],
   "source": [
    "staedte_positionen = ((0.010319427306382911, 0.8956251389386756), (0.6999898714299346, 0.42254500074835377), (0.4294574582950912, 0.4568408794115657), (0.6005454852683483, 0.9295407203370832), (0.9590226056623925, 0.581453646599427), (0.748521134122647, 0.5437775417153159), (0.7571232013282426, 0.606435031856663), (0.07528757443413125, 0.07854082131763074), (0.32346175150639334, 0.7291706487873425), (0.012935451483722882, 0.974440252089956), (0.7894689664351368, 0.8925464165283283), (0.5017081207027582, 0.2323298297211428), (0.5994368069089712, 0.006438246252584379), (0.3471372841416518, 0.32362936726486546), (0.9080568556459205, 0.5872162265716462), (0.008216651916432838, 0.5605251786730867), (0.12281649843134745, 0.778836327426156), (0.9698199622470612, 0.9108771425774694), (0.22977122891732482, 0.9692739885317619), (0.8192293086323663, 0.5857981607663957), (0.1422079724040628, 0.8147259475583606), (0.6706795717064135, 0.591561956032189), (0.15756919328106178, 0.6331745919782176), (0.9932745190952539, 0.20429268341528184), (0.21104352892679712, 0.8836996377783977), (0.15162951778287448, 0.43829883402923786), (0.1014198097226855, 0.5877946138306056), (0.8961534561384676, 0.6498866051905969), (0.02348788064910401, 0.2555771312427847), (0.7629752603198586, 0.031097354437254032), (0.9202799257088203, 0.8545409146117934), (0.4740012769258859, 0.30554661789326976), (0.9662984341217945, 0.24235140218349704), (0.236385903920734, 0.8065137287975154), (0.7509340695304845, 0.9276718423781918), (0.891709366337186, 0.9691233497708065), (0.45766675798331646, 0.3966074453757069), (0.362463818656684, 0.629782983287922), (0.3895828182648007, 0.11182372435220689), (0.8007718207811885, 0.07083259575886258), (0.9395297121272306, 0.003549829042441055), (0.9990444201768337, 0.4816092706412669), (0.806664037655748, 0.45636915118812094), (0.7248316046403981, 0.4136143673445848), (0.9797254747122175, 0.5348075095243779), (0.832410347070477, 0.36236092065071435), (0.17697174259486892, 0.09903555437885947), (0.3320429025096797, 0.42538137689172295), (0.010390541304141299, 0.3196764197089256), (0.13647705960093703, 0.6166884292149969), (0.7413967117502017, 0.6758731780971651), (0.5057620560480408, 0.6176726900765315), (0.811221033004999, 0.15436803010778977), (0.5010541138760939, 0.35001152238091926), (0.9413826105193199, 0.9418596542666187), (0.891256361420491, 0.7886584654021789), (0.3676445849723219, 0.9387145658378656), (0.7976904766536591, 0.7297167662430665), (0.5966826978617474, 0.29179542156826277), (0.6209578021367281, 0.22193571777470145), (0.8298034730084203, 0.5164834220744453), (0.1974315640582841, 0.9764209254933037), (0.3181560706032852, 0.9659291942205317), (0.8665674546422951, 0.8281710981528015), (0.341232980616892, 0.5707946637100852), (0.8931358896561539, 0.40864805338293986), (0.26644032823825714, 0.9989727471390323), (0.3993087575662785, 0.009572468741341433), (0.7385521851703551, 0.8947961501854975), (0.3265958212912289, 0.12135269959328665), (0.33657186037515696, 0.04678149607307802), (0.6574688023519235, 0.14620381872693322), (0.9232073321379433, 0.464399378682132), (0.3350568606219765, 0.8140710044746052), (0.43439242705535963, 0.6850627844635814), (0.6748600302251079, 0.17179426903224415), (0.3257145924815924, 0.17892361406234325), (0.9843761318782708, 0.7246387654097534), (0.3302488609623919, 0.5461838792803725), (0.942182061647097, 0.271796972592925), (0.7992439374549364, 0.3344916623897427), (0.07722251160513627, 0.5998378921773792), (0.9551490162437984, 0.99084148343811), (0.2994585617190968, 0.8420506992016424), (0.692980959785355, 0.832838090803397), (0.31555831127132894, 0.06401272570899819), (0.02665227648457802, 0.5242147042171419), (0.1974784428862567, 0.9137326594564479), (0.8486377116437235, 0.773093204292392), (0.6588651068050204, 0.6191834372968826), (0.9294759207447961, 0.04471010558595201), (0.9407045003182903, 0.7240803846820537), (0.6814942236797052, 0.6579517970003296), (0.2956248273119104, 0.4141031496785965), (0.729642956744248, 0.18897087844791205), (0.6092213719795501, 0.12514914017649392), (0.7431271140678826, 0.12660475585183406), (0.9023640654012873, 0.21133242457776658), (0.3513947221768753, 0.10988741056845952), (0.7560785506387285, 0.1994584377393509))"
   ]
  },
  {
   "cell_type": "markdown",
   "metadata": {
    "slideshow": {
     "slide_type": "subslide"
    }
   },
   "source": [
    "Die euklidische Distanz zwischen zwei Positionen kann wie folgt berechnet werden:"
   ]
  },
  {
   "cell_type": "code",
   "execution_count": 4,
   "metadata": {
    "collapsed": true
   },
   "outputs": [],
   "source": [
    "import math"
   ]
  },
  {
   "cell_type": "code",
   "execution_count": 5,
   "metadata": {
    "collapsed": true,
    "slideshow": {
     "slide_type": "subslide"
    }
   },
   "outputs": [],
   "source": [
    "def distance(p1, p2):\n",
    "    \"\"\" Calculate the Euclidean distance betwen two 2D points\n",
    "        Arguments:\n",
    "            p1: first 2D point\n",
    "            p2: tuple or list with 2 entries\n",
    "            p2: second 2D point\n",
    "        Return:   distance\n",
    "    \"\"\"\n",
    "    delta_x = p2[0] - p1[0]\n",
    "    delta_y = p2[1] - p1[1]\n",
    "    return math.sqrt(delta_x * delta_x + delta_y * delta_y)"
   ]
  },
  {
   "cell_type": "code",
   "execution_count": 6,
   "metadata": {
    "slideshow": {
     "slide_type": "subslide"
    }
   },
   "outputs": [
    {
     "ename": "SyntaxError",
     "evalue": "invalid syntax (<ipython-input-6-ad49ff13ae7d>, line 12)",
     "output_type": "error",
     "traceback": [
      "\u001b[0;36m  File \u001b[0;32m\"<ipython-input-6-ad49ff13ae7d>\"\u001b[0;36m, line \u001b[0;32m12\u001b[0m\n\u001b[0;31m    return totalLenhttp://localhost:8888/notebooks/Planetary-Python-Project/Script/08_PROG3_Optimierung.ipynb#\u001b[0m\n\u001b[0m                       ^\u001b[0m\n\u001b[0;31mSyntaxError\u001b[0m\u001b[0;31m:\u001b[0m invalid syntax\n"
     ]
    }
   ],
   "source": [
    "def path_length(path):\n",
    "    \"\"\" Calculate the length of a 2D path.\n",
    "\n",
    "        Arguments:\n",
    "            path: tuple of 2D points defining a path\n",
    "        Return:\n",
    "            length of the path\n",
    "    \"\"\"\n",
    "    totalLen = 0.0\n",
    "    for i in range(1, len(path)):\n",
    "        totalLen += distance(path[i-1], path[i])\n",
    "    return totalLenhttp://localhost:8888/notebooks/Planetary-Python-Project/Script/08_PROG3_Optimierung.ipynb#"
   ]
  },
  {
   "cell_type": "code",
   "execution_count": 7,
   "metadata": {
    "collapsed": true,
    "slideshow": {
     "slide_type": "subslide"
    }
   },
   "outputs": [],
   "source": [
    "def shortest_closed_path(argument_tuple):\n",
    "    \"\"\"\n",
    "        Find the shortest closed path by brute force optimisation\n",
    "\n",
    "        Arguments:\n",
    "            argument_tuple containing the following entries:\n",
    "            path_completed: Fixed part of the path\n",
    "            path_ahead:     Varying part of the path\n",
    "            min_length:     Length of the shortest path found so far\n",
    "            min_path:       Current minimum length closed path\n",
    "    \"\"\"\n",
    "    path_completed, path_ahead = argument_tuple[:2]\n",
    "    \n",
    "    if len(argument_tuple) == 4:\n",
    "        min_length, min_path = argument_tuple[2:]\n",
    "    else:\n",
    "        min_length, min_path= None, None\n",
    "        \n",
    "        \n",
    "    if len(path_ahead) == 1:\n",
    "        # create a closed path by adding the starting point\n",
    "        total_path = path_completed + path_ahead + (path_completed[0], )\n",
    "        total_path_length = path_length(total_path)\n",
    "        if min_length == None or total_path_length < min_length:\n",
    "            min_length, min_path = total_path_length, total_path  \n",
    "    else:\n",
    "        # continue recursion\n",
    "        for i in range(len(path_ahead)):\n",
    "            min_length, min_path = \\\n",
    "                shortest_closed_path((path_completed + (path_ahead[i], ),\n",
    "                                       path_ahead[:i] + path_ahead[i+1:],\n",
    "                                       min_length, min_path))\n",
    "    return min_length, min_path"
   ]
  },
  {
   "cell_type": "code",
   "execution_count": null,
   "metadata": {
    "collapsed": true,
    "slideshow": {
     "slide_type": "subslide"
    }
   },
   "outputs": [],
   "source": [
    "import numpy\n",
    "import matplotlib.pyplot as plt\n",
    "%matplotlib inline"
   ]
  },
  {
   "cell_type": "code",
   "execution_count": null,
   "metadata": {
    "collapsed": true,
    "slideshow": {
     "slide_type": "subslide"
    }
   },
   "outputs": [],
   "source": [
    "def plot_closed_path(path):\n",
    "    point_array = numpy.array(path)\n",
    "    plt.plot(point_array[0,0], point_array[0,1], 'ro')\n",
    "    plt.plot(point_array[1:-1,0], point_array[1:-1,1], 'bo')\n",
    "    plt.plot(point_array[:,0], point_array[:,1], '-k')\n",
    "    plt.yticks(())\n",
    "    plt.xticks(())\n",
    "    plt.show()"
   ]
  },
  {
   "cell_type": "code",
   "execution_count": null,
   "metadata": {
    "collapsed": true,
    "slideshow": {
     "slide_type": "subslide"
    }
   },
   "outputs": [],
   "source": [
    "start_pos, nr_of_cities = 0, 9\n",
    "end_pos = start_pos + nr_of_cities\n",
    "\n",
    "result = shortest_closed_path(((staedte_positionen[start_pos], ), \n",
    "                            staedte_positionen[start_pos+1:end_pos]))\n",
    "plot_closed_path(result[1])\n",
    "print('Länge:', result[0])"
   ]
  },
  {
   "cell_type": "markdown",
   "metadata": {
    "slideshow": {
     "slide_type": "slide"
    }
   },
   "source": [
    "# Optimierung"
   ]
  },
  {
   "cell_type": "markdown",
   "metadata": {},
   "source": [
    "Literatur:\n",
    "   \n",
    "* Neal Ford: \"Produktiv programmieren\", O'Reilly, [eBook (Safari)](http://proquest.tech.safaribooksonline.de/book/software-engineering-and-development/9783897218864)\n",
    "* Tarek Ziadé: \"Expert Python Programming\", PACKT Publishing, [eBook (Safari)](http://proquest.tech.safaribooksonline.de/book/programming/python/9781847194947), Kap. 12\n",
    "* [Wikipedia](http://en.wikipedia.org/wiki/Program_optimization)"
   ]
  },
  {
   "cell_type": "markdown",
   "metadata": {
    "slideshow": {
     "slide_type": "slide"
    }
   },
   "source": [
    "# Systematische Optimierung - Werkzeuge"
   ]
  },
  {
   "cell_type": "markdown",
   "metadata": {},
   "source": [
    "Bei der Optimierung sollte man unbeding systematisch vorgehen und sich nicht auf das \"Bauchgefühl\" verlassen.\n",
    "\n",
    "Im Buch \"Programming in Python 3\" von Mark Summerfield ([eBook, Safari](http://proquest.tech.safaribooksonline.de/book/programming/python/9780321699909)) finden Sie einen interessanten Abschnitt zum Thema Profiling (Kap. 9)."
   ]
  },
  {
   "cell_type": "markdown",
   "metadata": {
    "slideshow": {
     "slide_type": "subslide"
    }
   },
   "source": [
    "Folgendes Programm berechnet den Mittelwert aus vielen Zufallszahlen, auf die die *sin*-Funktion angewendet wurde:"
   ]
  },
  {
   "cell_type": "code",
   "execution_count": 8,
   "metadata": {
    "collapsed": true
   },
   "outputs": [],
   "source": [
    "import random, math\n",
    "def zufalls_mittelwert_python(seed, n):\n",
    "    random.seed(seed)\n",
    "    sum=0.0\n",
    "    for i in range(n):\n",
    "        sum += math.sin(random.random())\n",
    "    return sum / n"
   ]
  },
  {
   "cell_type": "markdown",
   "metadata": {
    "slideshow": {
     "slide_type": "subslide"
    }
   },
   "source": [
    "Mit *timeit* kann die absolute Ausführungszeit bestimmt werden:"
   ]
  },
  {
   "cell_type": "code",
   "execution_count": 9,
   "metadata": {},
   "outputs": [
    {
     "name": "stdout",
     "output_type": "stream",
     "text": [
      "478 ms ± 2.72 ms per loop (mean ± std. dev. of 7 runs, 1 loop each)\n"
     ]
    }
   ],
   "source": [
    "%timeit zufalls_mittelwert_python(17635, 10**6)"
   ]
  },
  {
   "cell_type": "markdown",
   "metadata": {
    "slideshow": {
     "slide_type": "subslide"
    }
   },
   "source": [
    "Flaschenhälse ('Bottlenecks') oder 'hot spots' können mit einem profiler berechnet werden. Genaueres finden Sie in der [Dokumentation](http://docs.python.org/3.2/library/profile.html). IPython bietet das magische Kommando *%prun*, siehe "
   ]
  },
  {
   "cell_type": "code",
   "execution_count": 10,
   "metadata": {},
   "outputs": [
    {
     "name": "stdout",
     "output_type": "stream",
     "text": [
      " "
     ]
    }
   ],
   "source": [
    "%prun zufalls_mittelwert_python(17635, 10**5)"
   ]
  },
  {
   "cell_type": "markdown",
   "metadata": {
    "slideshow": {
     "slide_type": "subslide"
    }
   },
   "source": [
    "Das Modul  [*pprofile*](https://pypi.python.org/pypi/pprofile) erlaubt es, den Rechenaufwand einzelner Zeilen zu untersuchen. **Hinweis:** Die Ausgabe ist sehr umfangreich und kann über das Menü \"Cell -> Toggle Current Output\" unterdrückt werden."
   ]
  },
  {
   "cell_type": "code",
   "execution_count": null,
   "metadata": {
    "collapsed": true
   },
   "outputs": [],
   "source": [
    "import pprofile\n",
    "profiler = pprofile.Profile()\n",
    "with profiler:\n",
    "    zufalls_mittelwert_python(17635, 10**6)\n",
    "profiler.print_stats()"
   ]
  },
  {
   "cell_type": "markdown",
   "metadata": {
    "slideshow": {
     "slide_type": "subslide"
    }
   },
   "source": [
    "Die Erweiterung [*tracemalloc*](https://docs.python.org/3/library/tracemalloc.html) kann dazu verwende werden, die von den einzelnen Zeilen eines Programms allozierte oder freigegebene Menge an Hauptspeicher zu untersuchen:"
   ]
  },
  {
   "cell_type": "code",
   "execution_count": null,
   "metadata": {
    "collapsed": true,
    "slideshow": {
     "slide_type": "subslide"
    }
   },
   "outputs": [],
   "source": [
    "import tracemalloc\n",
    "\n",
    "def square_creator(N):\n",
    "    square_list = [ x*x for x in range(1, N+1) ]\n",
    "    square_generator = ( x * x for x in range(1, N+1) )\n",
    "    return square_list, square_generator\n",
    "\n",
    "if __name__ == '__main__':\n",
    "    tracemalloc.start()\n",
    "    snapshot1 = tracemalloc.take_snapshot()\n",
    "    l, g = square_creator(500000)\n",
    "    snapshot2 = tracemalloc.take_snapshot()\n",
    "    l=None\n",
    "    snapshot3 = tracemalloc.take_snapshot()\n",
    "    stats_2_1 = snapshot2.compare_to(snapshot1, 'lineno')\n",
    "    print(stats_2_1[0], end='\\n****\\n')\n",
    "    stats_3_2 = snapshot3.compare_to(snapshot2, 'lineno')\n",
    "    print(stats_3_2[0])"
   ]
  },
  {
   "cell_type": "markdown",
   "metadata": {
    "slideshow": {
     "slide_type": "slide"
    }
   },
   "source": [
    "# Optimierung - cython"
   ]
  },
  {
   "cell_type": "markdown",
   "metadata": {},
   "source": [
    "Als compilierte Sprache ist *C* in den meisten Fällen effizienter als Python. Mit dem Paket [*cython*](http://www.cython.org) können Sie Python-Code automatisch in C-Code umwandeln, compilieren und in Python einbinden lassen.\n",
    "\n",
    "Es ist auch möglich, existierende C-Bibliotheken von Python aus aufzurufen. Näheres finden Sie in der [Dokumentation zu ctypes](http://docs.python.org/3.2/library/ctypes.html?highlight=ctypes#ctypes).\n",
    "\n",
    "[Dieses Notebook](http://nbviewer.ipython.org/urls/raw.github.com/jrjohansson/scientific-python-lectures/master/Lecture-6A-Fortran-and-C.ipynb) zeigt, wie Sie auch Fortran-Code einbinden können.\n",
    "\n",
    "Wir konzentrieren uns auf *cython*. Durch die Erweiterung *cythonmagic* läßt sich cython-Code direkt und Plattform-unabhängig in Notebooks einbinden:"
   ]
  },
  {
   "cell_type": "code",
   "execution_count": 1,
   "metadata": {
    "collapsed": true,
    "slideshow": {
     "slide_type": "subslide"
    }
   },
   "outputs": [],
   "source": [
    "%load_ext Cython"
   ]
  },
  {
   "cell_type": "markdown",
   "metadata": {},
   "source": [
    "Im einfachsten Fall wird der Python-Code ohne Änderungen an *cython* übergeben."
   ]
  },
  {
   "cell_type": "code",
   "execution_count": 2,
   "metadata": {
    "collapsed": true,
    "slideshow": {
     "slide_type": "subslide"
    }
   },
   "outputs": [],
   "source": [
    "%%cython\n",
    "\n",
    "import random, math\n",
    "def zufalls_mittelwert_cython1(seed, n):\n",
    "    random.seed(seed)\n",
    "    sum=0.0\n",
    "    for i in range(n):\n",
    "        sum += math.sin(random.random())\n",
    "    return sum / n"
   ]
  },
  {
   "cell_type": "code",
   "execution_count": 3,
   "metadata": {
    "slideshow": {
     "slide_type": "subslide"
    }
   },
   "outputs": [
    {
     "name": "stdout",
     "output_type": "stream",
     "text": [
      "359 ms ± 48.1 ms per loop (mean ± std. dev. of 7 runs, 1 loop each)\n"
     ]
    }
   ],
   "source": [
    "%timeit zufalls_mittelwert_cython1(17635, 10**6)"
   ]
  },
  {
   "cell_type": "markdown",
   "metadata": {
    "slideshow": {
     "slide_type": "subslide"
    }
   },
   "source": [
    "Werden Datentypen angegeben, so kann der C-Compiler besser optimieren:"
   ]
  },
  {
   "cell_type": "code",
   "execution_count": 4,
   "metadata": {
    "collapsed": true
   },
   "outputs": [],
   "source": [
    "%%cython\n",
    "\n",
    "cimport cython\n",
    "import random, math\n",
    "\n",
    "# cython mit Typ-Angabe\n",
    "def zufalls_mittelwert_cython2(long seed, long n):\n",
    "    random.seed(seed)\n",
    "    cdef double sum=0.0\n",
    "    cdef long i\n",
    "    for i in range(n):\n",
    "        sum += math.sin(random.random())\n",
    "    return sum / n"
   ]
  },
  {
   "cell_type": "code",
   "execution_count": 5,
   "metadata": {
    "slideshow": {
     "slide_type": "subslide"
    }
   },
   "outputs": [
    {
     "name": "stdout",
     "output_type": "stream",
     "text": [
      "335 ms ± 36.8 ms per loop (mean ± std. dev. of 7 runs, 1 loop each)\n"
     ]
    }
   ],
   "source": [
    "%timeit zufalls_mittelwert_cython2(17635, 10**6)"
   ]
  },
  {
   "cell_type": "markdown",
   "metadata": {
    "slideshow": {
     "slide_type": "subslide"
    }
   },
   "source": [
    "Durch die Verwendung von Funktionen aus den C-Bibliotheken kann die Verarbeitungsgeschwindigkeit weiter erhöht werden:"
   ]
  },
  {
   "cell_type": "code",
   "execution_count": null,
   "metadata": {
    "collapsed": true,
    "slideshow": {
     "slide_type": "subslide"
    }
   },
   "outputs": [],
   "source": [
    "%%cython\n",
    "cimport cython\n",
    "\n",
    "# hier werden die Mathematik-Funktionen aus der\n",
    "# C-Bibliothek verwendet\n",
    "from libc.stdlib cimport rand, srand, RAND_MAX\n",
    "from libc.math cimport sin\n",
    "\n",
    "# cython mit Typ-Angabe\n",
    "@cython.cdivision(True)\n",
    "def zufalls_mittelwert_cython3(long seed, long n):\n",
    "    srand(seed)\n",
    "    cdef double sum=0.0\n",
    "    cdef long i\n",
    "    for i in range(n):\n",
    "        sum += sin(<double>rand() / RAND_MAX)\n",
    "    return sum / n"
   ]
  },
  {
   "cell_type": "code",
   "execution_count": null,
   "metadata": {
    "collapsed": true,
    "slideshow": {
     "slide_type": "subslide"
    }
   },
   "outputs": [],
   "source": [
    "%timeit zufalls_mittelwert_cython3(17635, 10**6)"
   ]
  },
  {
   "cell_type": "markdown",
   "metadata": {
    "slideshow": {
     "slide_type": "subslide"
    }
   },
   "source": [
    "## cython von der IDE aus verwenden"
   ]
  },
  {
   "cell_type": "code",
   "execution_count": 6,
   "metadata": {},
   "outputs": [
    {
     "ename": "FileExistsError",
     "evalue": "[Errno 17] File exists: '/tmp/cython_test'",
     "output_type": "error",
     "traceback": [
      "\u001b[0;31m---------------------------------------------------------------------------\u001b[0m",
      "\u001b[0;31mFileExistsError\u001b[0m                           Traceback (most recent call last)",
      "\u001b[0;32m<ipython-input-6-f7923362ef8e>\u001b[0m in \u001b[0;36m<module>\u001b[0;34m()\u001b[0m\n\u001b[1;32m      1\u001b[0m \u001b[0;32mimport\u001b[0m \u001b[0mos\u001b[0m\u001b[0;34m\u001b[0m\u001b[0m\n\u001b[0;32m----> 2\u001b[0;31m \u001b[0mos\u001b[0m\u001b[0;34m.\u001b[0m\u001b[0mmkdir\u001b[0m\u001b[0;34m(\u001b[0m\u001b[0;34m'/tmp/cython_test'\u001b[0m\u001b[0;34m)\u001b[0m\u001b[0;34m\u001b[0m\u001b[0m\n\u001b[0m",
      "\u001b[0;31mFileExistsError\u001b[0m: [Errno 17] File exists: '/tmp/cython_test'"
     ]
    }
   ],
   "source": [
    "import os\n",
    "os.mkdir('/tmp/cython_test')"
   ]
  },
  {
   "cell_type": "markdown",
   "metadata": {
    "slideshow": {
     "slide_type": "subslide"
    }
   },
   "source": [
    "Die Dateiendung, die für cython-Module verwendet wird, ist *pyx*."
   ]
  },
  {
   "cell_type": "code",
   "execution_count": 7,
   "metadata": {},
   "outputs": [
    {
     "name": "stdout",
     "output_type": "stream",
     "text": [
      "Writing /tmp/cython_test/my_cython_modul.pyx\n"
     ]
    }
   ],
   "source": [
    "%%file /tmp/cython_test/my_cython_modul.pyx\n",
    "\n",
    "cimport cython\n",
    "\n",
    "# hier werden die Mathematik-Funktionen aus der\n",
    "# C-Bibliothek verwendet\n",
    "from libc.stdlib cimport rand, srand, RAND_MAX\n",
    "from libc.math cimport sin\n",
    "\n",
    "# cython mit Typ-Angabe\n",
    "@cython.cdivision(True)\n",
    "def zufalls_mittelwert_cython3(long seed, long n):\n",
    "    srand(seed)\n",
    "    cdef double sum=0.0\n",
    "    cdef long i\n",
    "    for i in range(n):\n",
    "        sum += sin(<double>rand() / RAND_MAX)\n",
    "    return sum / n"
   ]
  },
  {
   "cell_type": "markdown",
   "metadata": {
    "slideshow": {
     "slide_type": "subslide"
    }
   },
   "source": [
    "Von Python aus kann das compilierte Modul importiert und die darin definierten Funktionen können genau wie Python-Funktionen verwendet werden."
   ]
  },
  {
   "cell_type": "code",
   "execution_count": 8,
   "metadata": {},
   "outputs": [
    {
     "name": "stdout",
     "output_type": "stream",
     "text": [
      "Writing /tmp/cython_test/test_zufalls_mittelwert.py\n"
     ]
    }
   ],
   "source": [
    "%%file /tmp/cython_test/test_zufalls_mittelwert.py\n",
    "\n",
    "from my_cython_modul import zufalls_mittelwert_cython3\n",
    "ergebnis = zufalls_mittelwert_cython3(1234545, 10000)\n",
    "print('ergebnis:', ergebnis)"
   ]
  },
  {
   "cell_type": "markdown",
   "metadata": {
    "slideshow": {
     "slide_type": "subslide"
    }
   },
   "source": [
    "Da das cython-Modul compiliert werden muss, benötigen wir eine Datei, die den Erstellungsprozess steuert. Diese Datei heißt *setup.py* und entspricht von der Funktion her einem *Makefile* oder einer Datei *build.xml* für ant."
   ]
  },
  {
   "cell_type": "code",
   "execution_count": 9,
   "metadata": {
    "slideshow": {
     "slide_type": "subslide"
    }
   },
   "outputs": [
    {
     "name": "stdout",
     "output_type": "stream",
     "text": [
      "Writing /tmp/cython_test/setup.py\n"
     ]
    }
   ],
   "source": [
    "%%file /tmp/cython_test/setup.py\n",
    "\n",
    "# Aufruf: python3 setup.py build_ext --inplace\n",
    "# Windows: zusaetzliche Option --compiler=mingw32\n",
    "from distutils.core import setup\n",
    "from distutils.extension import Extension\n",
    "from Cython.Distutils import build_ext\n",
    "\n",
    "ext_modules=[ Extension(\"my_cython_modul\", [\"my_cython_modul.pyx\"],\n",
    "        extra_compile_args=['-O3'], libraries=['m']) ]\n",
    "setup( name = 'cython demo',\n",
    "  cmdclass = {'build_ext': build_ext},\n",
    "  ext_modules = ext_modules)\n"
   ]
  },
  {
   "cell_type": "markdown",
   "metadata": {
    "slideshow": {
     "slide_type": "subslide"
    }
   },
   "source": [
    "Für Linux sieht ein Skript zur Compilation und zum Aufruf des Moduls wie folgt aus:"
   ]
  },
  {
   "cell_type": "code",
   "execution_count": 10,
   "metadata": {},
   "outputs": [
    {
     "name": "stdout",
     "output_type": "stream",
     "text": [
      "running build_ext\n",
      "cythoning my_cython_modul.pyx to my_cython_modul.c\n",
      "building 'my_cython_modul' extension\n",
      "creating build\n",
      "creating build/temp.linux-x86_64-3.6\n",
      "gcc -pthread -B /opt/anaconda/compiler_compat -Wl,--sysroot=/ -Wsign-compare -DNDEBUG -g -fwrapv -O3 -Wall -Wstrict-prototypes -fPIC -I/opt/anaconda/include/python3.6m -c my_cython_modul.c -o build/temp.linux-x86_64-3.6/my_cython_modul.o -O3\n",
      "gcc -pthread -shared -B /opt/anaconda/compiler_compat -L/opt/anaconda/lib -Wl,-rpath=/opt/anaconda/lib -Wl,--no-as-needed -Wl,--sysroot=/ build/temp.linux-x86_64-3.6/my_cython_modul.o -L/opt/anaconda/lib -lm -lpython3.6m -o /tmp/cython_test/my_cython_modul.cpython-36m-x86_64-linux-gnu.so\n",
      "ergebnis: 0.46041513766777864\n"
     ]
    }
   ],
   "source": [
    "%%bash\n",
    "cd /tmp/cython_test\n",
    "python3 setup.py build_ext --inplace\n",
    "python3 test_zufalls_mittelwert.py"
   ]
  },
  {
   "cell_type": "markdown",
   "metadata": {
    "slideshow": {
     "slide_type": "slide"
    }
   },
   "source": [
    "# Das Paket numpy"
   ]
  },
  {
   "cell_type": "markdown",
   "metadata": {},
   "source": [
    "Fragen:\n",
    " 1. Warum sind Python-Listen für effiziente numerische Berechnungen nicht gut geeignet?\n",
    " 1. Welche Eigenschaften sollte eine Datenstruktur für effiziente numerische Berechnungen besitzen?\n",
    " 1. Wie sollte eine Integration effizienter Numerik in Python aussehen?"
   ]
  },
  {
   "cell_type": "markdown",
   "metadata": {
    "slideshow": {
     "slide_type": "subslide"
    }
   },
   "source": [
    "## numpy - Grundlagen"
   ]
  },
  {
   "cell_type": "markdown",
   "metadata": {},
   "source": [
    "Quellen:\n",
    "  - [numpy home page](http://www.numpy.org)\n",
    "  - [numpy-Dokumentation](http://docs.scipy.org/doc)\n",
    "  - [numpy-Buch (pdf)](http://csc.ucdavis.edu/~chaos/courses/nlp/Software/NumPyBook.pdf)\n",
    "    "
   ]
  },
  {
   "cell_type": "code",
   "execution_count": 1,
   "metadata": {
    "collapsed": true,
    "slideshow": {
     "slide_type": "subslide"
    }
   },
   "outputs": [],
   "source": [
    "import math"
   ]
  },
  {
   "cell_type": "code",
   "execution_count": 2,
   "metadata": {
    "collapsed": true
   },
   "outputs": [],
   "source": [
    "# Anzahl der Berechnungen\n",
    "N = 10000"
   ]
  },
  {
   "cell_type": "code",
   "execution_count": 3,
   "metadata": {
    "slideshow": {
     "slide_type": "subslide"
    }
   },
   "outputs": [
    {
     "name": "stdout",
     "output_type": "stream",
     "text": [
      "6.1 ms ± 331 µs per loop (mean ± std. dev. of 7 runs, 100 loops each)\n"
     ]
    }
   ],
   "source": [
    "%%timeit\n",
    "l = [ math.sin(math.pi * i / N) for i in range(N) ]"
   ]
  },
  {
   "cell_type": "markdown",
   "metadata": {
    "slideshow": {
     "slide_type": "subslide"
    }
   },
   "source": [
    "Mit numpy-Arrays können Berechnungen wesentlich schneller durchgeführt werden:"
   ]
  },
  {
   "cell_type": "code",
   "execution_count": 4,
   "metadata": {
    "collapsed": true
   },
   "outputs": [],
   "source": [
    "import numpy"
   ]
  },
  {
   "cell_type": "code",
   "execution_count": 5,
   "metadata": {
    "slideshow": {
     "slide_type": "fragment"
    }
   },
   "outputs": [
    {
     "name": "stdout",
     "output_type": "stream",
     "text": [
      "456 µs ± 3.91 µs per loop (mean ± std. dev. of 7 runs, 1000 loops each)\n"
     ]
    }
   ],
   "source": [
    "%%timeit\n",
    "y = numpy.sin( numpy.arange(0, math.pi, math.pi / N) )"
   ]
  },
  {
   "cell_type": "markdown",
   "metadata": {
    "slideshow": {
     "slide_type": "subslide"
    }
   },
   "source": [
    "Im Gegensatz zu Python-Listen sind numpy-Arrays statisch, d.h. ihre Größe ändert sich nicht, und können nur Elemente des gleichen Typs (z.B. numpy.float32 oder numpy.float64) enthalten."
   ]
  },
  {
   "cell_type": "code",
   "execution_count": 6,
   "metadata": {},
   "outputs": [
    {
     "name": "stdout",
     "output_type": "stream",
     "text": [
      "shape: (1000,)\n",
      "type:  <class 'numpy.ndarray'>\n",
      "dtype:  float32\n"
     ]
    }
   ],
   "source": [
    "a = numpy.arange(0, 10, 0.01, dtype = numpy.float32)\n",
    "print('shape:', a.shape)\n",
    "print('type: ', type(a))\n",
    "print('dtype: ', a.dtype)"
   ]
  },
  {
   "cell_type": "markdown",
   "metadata": {
    "slideshow": {
     "slide_type": "subslide"
    }
   },
   "source": [
    "Numpy-Funktionen wirken *elementweise* auf numpy-Arrays."
   ]
  },
  {
   "cell_type": "code",
   "execution_count": 7,
   "metadata": {},
   "outputs": [
    {
     "name": "stdout",
     "output_type": "stream",
     "text": [
      "sin(x)**2: [ 0.   0.5  1.   0.5]\n",
      "Mittelwert von y: 0.5\n"
     ]
    }
   ],
   "source": [
    "x = numpy.arange(0, math.pi, math.pi/4)\n",
    "y = numpy.sin(x) ** 2\n",
    "print('sin(x)**2:', y)\n",
    "print('Mittelwert von y:', numpy.mean(y))"
   ]
  },
  {
   "cell_type": "markdown",
   "metadata": {
    "slideshow": {
     "slide_type": "subslide"
    }
   },
   "source": [
    "NumPy kann mit n-Dimensionalen Feldvariablen rechnen. Häufig verwendet werden Matrizen (dim=2). Bitte beachten Sie: \n",
    "\n",
    "Der Operator '\\*' bezeichnet die *elementweise* Multiplikation. Die Matrizen-Multiplikation heißt *numpy.dot* !"
   ]
  },
  {
   "cell_type": "code",
   "execution_count": null,
   "metadata": {
    "collapsed": true,
    "slideshow": {
     "slide_type": "subslide"
    }
   },
   "outputs": [],
   "source": [
    "matrix1 = numpy.random.normal(2, .1, size=(3, 5))\n",
    "matrix2 = numpy.random.normal(3, .2, size=(5, 2))\n",
    "print('matrix1:', matrix1)\n",
    "print('numpy.dot(matrix1, matrix2):\\n', numpy.dot(matrix1, matrix2))\n",
    "# Vorsicht, Reihenfolge! Die naechste Zeile gibt einen Fehler\n",
    "#print(numpy.dot(matrix2, matrix1))\n",
    "# Wenn man die Reihenfolge ändern will, muss man transponieren:\n",
    "print('numpy.dot(matrix2.T, matrix1.T):\\n', numpy.dot(matrix2.T, matrix1.T))"
   ]
  },
  {
   "cell_type": "markdown",
   "metadata": {
    "slideshow": {
     "slide_type": "subslide"
    }
   },
   "source": [
    "Matrizen können z.B. auch invertiert oder zerlegt werden. Die entsprechenden Funktionen finden sich im Paket *numpy.linalg*."
   ]
  },
  {
   "cell_type": "code",
   "execution_count": null,
   "metadata": {
    "collapsed": true
   },
   "outputs": [],
   "source": [
    "# Nur quadratische Matzizen können invertiert werden ...\n",
    "m1 = numpy.random.normal(1, .2, size = (4,4))\n",
    "m1Inv = numpy.linalg.inv(m1)\n",
    "print('numpy.dot(m1, m1Inv):\\n', numpy.dot(m1, m1Inv))"
   ]
  },
  {
   "cell_type": "code",
   "execution_count": null,
   "metadata": {
    "collapsed": true,
    "slideshow": {
     "slide_type": "subslide"
    }
   },
   "outputs": [],
   "source": [
    "# Singulaerwertzerlegung\n",
    "numpy.linalg.svd(m1[0:3, 0:3])"
   ]
  },
  {
   "cell_type": "markdown",
   "metadata": {
    "slideshow": {
     "slide_type": "subslide"
    }
   },
   "source": [
    "Die numpy-Syntax ist oft intuitiv fassbar:"
   ]
  },
  {
   "cell_type": "code",
   "execution_count": null,
   "metadata": {
    "collapsed": true,
    "scrolled": true
   },
   "outputs": [],
   "source": [
    "a = numpy.array([[1, 2, 3], [4, 5, 6], [7, 8, 9]], dtype = numpy.float64)\n",
    "print('a:\\n', a)\n",
    "b = a.copy()\n",
    "b[ b % 2 == 0 ] = 77\n",
    "print('b:\\n', b)\n",
    "c = numpy.where( a > 5, a / 2, a)\n",
    "print('c:', c)"
   ]
  },
  {
   "cell_type": "markdown",
   "metadata": {
    "slideshow": {
     "slide_type": "subslide"
    }
   },
   "source": [
    "Weitere Beispiele finden Sie im oben schon erwähnten Buch oder auf der [Homepage](http://www.numpy.org/)."
   ]
  },
  {
   "cell_type": "markdown",
   "metadata": {
    "slideshow": {
     "slide_type": "subslide"
    }
   },
   "source": [
    "## numpy und cython"
   ]
  },
  {
   "cell_type": "code",
   "execution_count": 11,
   "metadata": {
    "collapsed": true
   },
   "outputs": [],
   "source": [
    "import os\n",
    "os.mkdir('/tmp/numpy_cython')"
   ]
  },
  {
   "cell_type": "markdown",
   "metadata": {
    "slideshow": {
     "slide_type": "subslide"
    }
   },
   "source": [
    "Um *numpy* von cython aus nutzen zu können, müssen zusätzliche Pakete imporiert werden:"
   ]
  },
  {
   "cell_type": "code",
   "execution_count": 12,
   "metadata": {},
   "outputs": [
    {
     "name": "stdout",
     "output_type": "stream",
     "text": [
      "Writing /tmp/numpy_cython/numpy_cython.pyx\n"
     ]
    }
   ],
   "source": [
    "%%file /tmp/numpy_cython/numpy_cython.pyx\n",
    "\n",
    "import numpy\n",
    "cimport numpy\n",
    "cimport cython\n",
    "\n",
    "ctypedef numpy.float32_t dtype_t\n",
    "\n",
    "# disable array bounds checking\n",
    "# do this only if you are sure that your code works\n",
    "@cython.boundscheck(False)\n",
    "cpdef double cython_mean(numpy.ndarray[dtype_t, ndim=1] l):\n",
    "    cdef long i\n",
    "    cdef double accumulator = 0.0\n",
    "    cdef long N = len(l)\n",
    "\n",
    "    for i in range(N):\n",
    "        accumulator += l[i]\n",
    "    return accumulator / N"
   ]
  },
  {
   "cell_type": "markdown",
   "metadata": {
    "slideshow": {
     "slide_type": "subslide"
    }
   },
   "source": [
    "Nach dem Compilieren kann die Funktionalität des Moduls wieder direkte importiert werden: "
   ]
  },
  {
   "cell_type": "code",
   "execution_count": 13,
   "metadata": {},
   "outputs": [
    {
     "name": "stdout",
     "output_type": "stream",
     "text": [
      "Writing /tmp/numpy_cython/numpy_cython_test.py\n"
     ]
    }
   ],
   "source": [
    "%%file /tmp/numpy_cython/numpy_cython_test.py\n",
    "\n",
    "from __future__ import print_function\n",
    "\n",
    "import numpy\n",
    "from numpy_cython import cython_mean\n",
    "\n",
    "a = numpy.arange(1, 1000).astype(numpy.float32)\n",
    "print('average: ', cython_mean(a))\n"
   ]
  },
  {
   "cell_type": "markdown",
   "metadata": {
    "slideshow": {
     "slide_type": "subslide"
    }
   },
   "source": [
    "Die Datei *setup.py* muss um *numpy*-spezifische Einstellungen erweitert werden."
   ]
  },
  {
   "cell_type": "code",
   "execution_count": 14,
   "metadata": {},
   "outputs": [
    {
     "name": "stdout",
     "output_type": "stream",
     "text": [
      "Writing /tmp/numpy_cython/setup.py\n"
     ]
    }
   ],
   "source": [
    "%%file /tmp/numpy_cython/setup.py\n",
    "\n",
    "# Aufruf: python numpyCythonSetup.py build_ext --inplace\n",
    "# Windows: zusaetzliche Option --compiler=mingw32\n",
    "from distutils.core import setup\n",
    "from distutils.extension import Extension\n",
    "from Cython.Distutils import build_ext\n",
    "try:\n",
    "    from numpy.distutils.misc_util import get_numpy_include_dirs\n",
    "    numpy_include_dirs = get_numpy_include_dirs()\n",
    "except:\n",
    "    numpy_include_dirs = []\n",
    "ext_modules=[ Extension(\"numpy_cython\", [\"numpy_cython.pyx\"],\n",
    "        extra_compile_args=['-O3'],\n",
    "        include_dirs = numpy_include_dirs) ]\n",
    "setup( name = 'Cython with numpy',\n",
    "  cmdclass = {'build_ext': build_ext},\n",
    "  ext_modules = ext_modules)\n"
   ]
  },
  {
   "cell_type": "code",
   "execution_count": 15,
   "metadata": {
    "slideshow": {
     "slide_type": "subslide"
    }
   },
   "outputs": [
    {
     "name": "stdout",
     "output_type": "stream",
     "text": [
      "running build_ext\n",
      "cythoning numpy_cython.pyx to numpy_cython.c\n",
      "building 'numpy_cython' extension\n",
      "C compiler: gcc -pthread -B /opt/anaconda/compiler_compat -Wl,--sysroot=/ -Wsign-compare -DNDEBUG -g -fwrapv -O3 -Wall -Wstrict-prototypes -fPIC\n",
      "\n",
      "creating build\n",
      "creating build/temp.linux-x86_64-3.6\n",
      "compile options: '-I/opt/anaconda/lib/python3.6/site-packages/numpy/core/include -I/opt/anaconda/include/python3.6m -c'\n",
      "extra options: '-O3'\n",
      "gcc: numpy_cython.c\n",
      "In file included from /opt/anaconda/lib/python3.6/site-packages/numpy/core/include/numpy/ndarraytypes.h:1809:0,\n",
      "                 from /opt/anaconda/lib/python3.6/site-packages/numpy/core/include/numpy/ndarrayobject.h:18,\n",
      "                 from /opt/anaconda/lib/python3.6/site-packages/numpy/core/include/numpy/arrayobject.h:4,\n",
      "                 from numpy_cython.c:485:\n",
      "/opt/anaconda/lib/python3.6/site-packages/numpy/core/include/numpy/npy_1_7_deprecated_api.h:15:2: Warnung: #warning \"Using deprecated NumPy API, disable it by \" \"#defining NPY_NO_DEPRECATED_API NPY_1_7_API_VERSION\" [-Wcpp]\n",
      " #warning \"Using deprecated NumPy API, disable it by \" \\\n",
      "  ^~~~~~~\n",
      "gcc -pthread -shared -B /opt/anaconda/compiler_compat -L/opt/anaconda/lib -Wl,-rpath=/opt/anaconda/lib -Wl,--no-as-needed -Wl,--sysroot=/ build/temp.linux-x86_64-3.6/numpy_cython.o -L/opt/anaconda/lib -lpython3.6m -o /tmp/numpy_cython/numpy_cython.cpython-36m-x86_64-linux-gnu.so\n",
      "average:  500.0\n"
     ]
    }
   ],
   "source": [
    "%%bash\n",
    "cd /tmp/numpy_cython\n",
    "python3 setup.py build_ext --inplace\n",
    "python3 numpy_cython_test.py"
   ]
  },
  {
   "cell_type": "markdown",
   "metadata": {
    "slideshow": {
     "slide_type": "subslide"
    }
   },
   "source": [
    "## Optimierung - numexpr"
   ]
  },
  {
   "cell_type": "markdown",
   "metadata": {},
   "source": [
    "Das Paket [numexpr](https://github.com/pydata/numexpr) übersetzt *numpy*-Ausdrücke, die als Zeichenkette übergeben werden, in opcodes, die in einer virtuellen Maschine **parallelisiert** ausgeführt werden."
   ]
  },
  {
   "cell_type": "code",
   "execution_count": null,
   "metadata": {
    "collapsed": true
   },
   "outputs": [],
   "source": [
    "import numpy as np\n",
    "\n",
    "x = np.random.uniform(low=0, high=10, size=10**6)"
   ]
  },
  {
   "cell_type": "code",
   "execution_count": null,
   "metadata": {
    "collapsed": true
   },
   "outputs": [],
   "source": [
    "def test_function_numpy(a):\n",
    "    a = a + 3\n",
    "    b = np.sin(a) * a ** 2.3 + 3 * a\n",
    "    return b"
   ]
  },
  {
   "cell_type": "code",
   "execution_count": null,
   "metadata": {
    "collapsed": true
   },
   "outputs": [],
   "source": [
    "%timeit test_function_numpy(x)"
   ]
  },
  {
   "cell_type": "code",
   "execution_count": null,
   "metadata": {
    "collapsed": true
   },
   "outputs": [],
   "source": [
    "import numexpr\n",
    "\n",
    "def test_function_numexpr(a):\n",
    "    a = numexpr.evaluate('a + 3')\n",
    "    b = numexpr.evaluate('sin(a) * a ** 2.3 + 3 * a')\n",
    "    return b"
   ]
  },
  {
   "cell_type": "code",
   "execution_count": null,
   "metadata": {
    "collapsed": true
   },
   "outputs": [],
   "source": [
    "%timeit test_function_numexpr(x)"
   ]
  },
  {
   "cell_type": "markdown",
   "metadata": {
    "slideshow": {
     "slide_type": "subslide"
    }
   },
   "source": [
    "# Optimierung - numba"
   ]
  },
  {
   "cell_type": "markdown",
   "metadata": {},
   "source": [
    "Bei [*numba*](http://numba.pydata.org/) handelt es sich um einen 'Just-in-time-Compiler', der auf  [*llvm*](http://llvm.org) basiert. Numba bietet eine sehr gute Optimierung mit extrem wenig Aufwand."
   ]
  },
  {
   "cell_type": "code",
   "execution_count": 1,
   "metadata": {
    "collapsed": true,
    "slideshow": {
     "slide_type": "subslide"
    }
   },
   "outputs": [],
   "source": [
    "from numba import jit\n",
    "\n",
    "import random, math\n",
    "\n",
    "@jit\n",
    "def zufalls_mittelwert_numba(seed, n):\n",
    "    random.seed(seed)\n",
    "    sum=0.0\n",
    "    for i in range(n):\n",
    "        sum += math.sin(random.random())\n",
    "    return sum / n"
   ]
  },
  {
   "cell_type": "code",
   "execution_count": null,
   "metadata": {
    "slideshow": {
     "slide_type": "subslide"
    }
   },
   "outputs": [],
   "source": [
    "#zur Erinnerung:\n",
    "%timeit zufalls_mittelwert_python(17635, 10**6)"
   ]
  },
  {
   "cell_type": "code",
   "execution_count": null,
   "metadata": {
    "collapsed": true,
    "slideshow": {
     "slide_type": "fragment"
    }
   },
   "outputs": [],
   "source": [
    "#zur Erinnerung:\n",
    "%timeit zufalls_mittelwert_cython3(17635, 10**6)"
   ]
  },
  {
   "cell_type": "code",
   "execution_count": null,
   "metadata": {
    "collapsed": true,
    "slideshow": {
     "slide_type": "fragment"
    }
   },
   "outputs": [],
   "source": [
    "%timeit zufalls_mittelwert_numba(17635, 10**6)"
   ]
  },
  {
   "cell_type": "markdown",
   "metadata": {
    "slideshow": {
     "slide_type": "slide"
    }
   },
   "source": [
    "# Aufgaben bis 07.12.2017"
   ]
  },
  {
   "cell_type": "markdown",
   "metadata": {
    "slideshow": {
     "slide_type": "subslide"
    }
   },
   "source": [
    "## Aufgabe - Problem des Handlungsreisenden (TSP)"
   ]
  },
  {
   "cell_type": "markdown",
   "metadata": {},
   "source": [
    "Diskutieren Sie die oben angegebene Lösung mit Ihren Kommilitonen und stellen Sie sicher, dass Sie die Bedeutung jedes Schritts und jeder Zeile der Implementierung verstanden haben."
   ]
  },
  {
   "cell_type": "markdown",
   "metadata": {
    "slideshow": {
     "slide_type": "subslide"
    }
   },
   "source": [
    "## Aufgaben - Optimierung"
   ]
  },
  {
   "cell_type": "markdown",
   "metadata": {},
   "source": [
    "1. Messen Sie, welche Teile der vorgegebenen Lösung zum TSP wie viele Ressourcen benötigen.\n",
    "1. Führen Sie eine Optimierung einer rekursiven Implementierung zum TSP-Problem (entweder Ihre eigene oder die oben angegebene) durch und messen Sie die Geschwindigkeits-Steigerung, die Sie durch die Optimierung erreichen konnten. \n",
    "1. Warum könnte die Methode der [dynamische Programmierung](http://de.wikipedia.org/wiki/Dynamische_Programmierung) für das Problem des Handlungsreisenden sinnvoll eingesetzt werden? Bitte machen Sie sich zuerst Ihre eigenen Gedanken, bevor Sie bei Bedarf [hier](http://mchouza.wordpress.com/2010/11/21/solving-the-travelling-salesman-problem/) spicken ..."
   ]
  },
  {
   "cell_type": "markdown",
   "metadata": {
    "slideshow": {
     "slide_type": "subslide"
    }
   },
   "source": [
    "## Aufgaben - Optimierung - cython und numba"
   ]
  },
  {
   "cell_type": "markdown",
   "metadata": {},
   "source": [
    "1. Analysieren Sie Ihre Lösung zur Berechnung von $\\pi$ quantitativ bezüglich des Ressourcen-Verbrauchs.\n",
    "1. Welche Schlußfolgerungen zur Vorbereitung der Optimierung können Sie aus den Ergebnissen ziehen?\n",
    "1. Diskutieren Sie mit anderen Studierenden, wo die Grenzen der Optimierung mit *cython* liegen.\n",
    "1. Überlegen Sie sich basierend auf den Profiling-Ergebnissen, wie Sie Ihre $\\pi$-Berechnung mit *cython* beschleunigen können.\n",
    "1. Erstellen Sie eine mit *cython* optimierte Lösung Ihrer $\\pi$-Bestimmung und messen Sie den Beschleunigungs-Faktor, den Sie erreichen konnten.\n",
    "1. Verwenden Sie *numba*, um eine optimierte Version der $\\pi$-Berechnung zu erstellen, vergleichen Sie die Rechenzeit mit der Ihrer *cython*-Implementierung und erklären Sie Ihre Beobachtung."
   ]
  },
  {
   "cell_type": "markdown",
   "metadata": {
    "slideshow": {
     "slide_type": "slide"
    }
   },
   "source": [
    "# Überprüfung"
   ]
  },
  {
   "cell_type": "markdown",
   "metadata": {},
   "source": [
    "1. Was ist der unterschied zwischen *statistischem* und *deterministischem* Profiling?\n",
    "1. Nennen Sie zwei häufige Fehler, die im Zusammenhang mit Optimierung gemacht werden. (max. vier Sätze)"
   ]
  },
  {
   "cell_type": "markdown",
   "metadata": {},
   "source": [
    "# Parallelisierung - Vorschau"
   ]
  },
  {
   "cell_type": "markdown",
   "metadata": {},
   "source": [
    "Den erwähnten Artikel von H. Sutter mit dem Titel *The Free Lunch Is Over: A Fundamental Turn Toward Concurrency in Software* finden Sie [hier](http://www.gotw.ca/publications/concurrency-ddj.htm).\n",
    "\n",
    "Nach *Amdahls Gesetz* können in Sie in den [Safari-Books](http://proquest.tech.safaribooksonline.de) suchen oder im entsprechenden [Wikipedia-Artikel](http://de.wikipedia.org/wiki/Amdahlsches_Gesetz)."
   ]
  },
  {
   "cell_type": "markdown",
   "metadata": {},
   "source": [
    "Im Verzeichnis *monteCarloUnitSphereMulti* des svn-Repositories finden Sie eine Implementierung der Monte Carlo-Simulation in ANSI C, die POSIX-Threads zur Parallelisierung einsetzt. Zum Vergleich gibt es eine nicht parallelisierte Version unter *monteCarloUnitSphereSingle*. Die Programme erstellen Sie wie folgt:\n",
    "\n",
    "    cd monteCarloUnitSphereSingle\n",
    "    gcc -O3 -o monteCarloUnitSphereSingle monteCarloUnitSphereSingle.c -pthread -lm\n",
    "    time ./monteCarloUnitSphereSingle 10 10\n",
    "    cd monteCarloUnitSphereMulti\n",
    "    gcc -O3 -o monteCarloUnitSphereMulti monteCarloUnitSphereMulti.c -pthread -lm\n",
    "    time ./monteCarloUnitSphereMulti 10 10 4\n",
    "    \n",
    "Das letzte Argument beim Aufruf des Programms monteCarloUnitSphereMulti bezeichnet die Anzahl der Threads, die gestartet werden (in diesem Fall 4 Threads). Informationen zu POSIX Threads finden Sie zum Beispiel [hier](https://computing.llnl.gov/tutorials/pthreads)."
   ]
  },
  {
   "cell_type": "markdown",
   "metadata": {},
   "source": [
    "In einem Python-Programm können Prozesse, die eine bestimmte Funktion ausführen, direkt erzeugt und gestartet werden:"
   ]
  },
  {
   "cell_type": "code",
   "execution_count": null,
   "metadata": {
    "collapsed": true
   },
   "outputs": [],
   "source": [
    "import multiprocessing, os\n",
    "from time import sleep\n",
    "\n",
    "def function(name):\n",
    "    sleep(1)\n",
    "    print('pid:', os.getpid())\n",
    "    print('hello', name)\n",
    "    \n",
    "# Die folgende Zeile ist unter Windows unbedingt notwendig!\n",
    "if __name__ == '__main__':\n",
    "    print('main pid:', os.getpid())\n",
    "    p1 = multiprocessing.Process(target=function, args=('p1',))\n",
    "    p2 = multiprocessing.Process(target=function, args=('p2',))\n",
    "    p1.start()\n",
    "    p2.start()\n",
    "    p1.join()\n",
    "    p2.join()\n",
    "    print('done')"
   ]
  },
  {
   "cell_type": "markdown",
   "metadata": {},
   "source": [
    "Prozesse können über *pipes* miteinander kommunizieren."
   ]
  },
  {
   "cell_type": "code",
   "execution_count": null,
   "metadata": {
    "collapsed": true
   },
   "outputs": [],
   "source": [
    "import multiprocessing\n",
    "\n",
    "def f(p):\n",
    "    while True:\n",
    "        message = p.recv()\n",
    "        if message[0] == 'getLost':\n",
    "            p.send('finishing'); break\n",
    "        else:\n",
    "            p.send([message, 'received!'])\n",
    "\n",
    "if __name__ == '__main__':\n",
    "    myEnd, otherEnd = multiprocessing.Pipe()\n",
    "    process = multiprocessing.Process(target=f, args=(otherEnd,))\n",
    "    process.start()\n",
    "    for arg in ((1,2,3), ('hallo',), (3, 'test'), ('getLost',)):\n",
    "        myEnd.send(arg)\n",
    "        print(myEnd.recv())"
   ]
  },
  {
   "cell_type": "markdown",
   "metadata": {},
   "source": [
    "Die Anzahl der Prozesse, die gestartet wird, sollte von der Anzahl der vorhandenen CPU-Kerne abhängen:"
   ]
  },
  {
   "cell_type": "code",
   "execution_count": null,
   "metadata": {
    "collapsed": true
   },
   "outputs": [],
   "source": [
    "import multiprocessing\n",
    "import math\n",
    "nrOfCores = multiprocessing.cpu_count()\n",
    "print('nrOfCores:', nrOfCores)"
   ]
  },
  {
   "cell_type": "markdown",
   "metadata": {},
   "source": [
    "Das folgende Beispiel zeigt die parallelisierte Berechnung von Quadratzahlen."
   ]
  },
  {
   "cell_type": "code",
   "execution_count": null,
   "metadata": {
    "collapsed": true
   },
   "outputs": [],
   "source": [
    "def f(qIn, qOut):\n",
    "    while True:\n",
    "        x = qIn.get()\n",
    "        result = x*x\n",
    "        qOut.put(result)\n",
    "        qIn.task_done()\n",
    "\n",
    "if __name__ == '__main__':\n",
    "    argumentQueue = multiprocessing.JoinableQueue()\n",
    "    resultQueue = multiprocessing.Queue()\n",
    "    nrOfProcesses = multiprocessing.cpu_count()\n",
    "    processes = [multiprocessing.Process(\n",
    "                            target = f,\n",
    "                            args = (argumentQueue, resultQueue))\n",
    "                    for i in range(nrOfProcesses)]\n",
    "    for p in processes:\n",
    "        p.start()\n",
    "    for i in range(0, 100000):\n",
    "        argumentQueue.put(i)\n",
    "    argumentQueue.join()\n",
    "    for p in processes:\n",
    "        p.terminate()\n",
    "    for i in range(10):\n",
    "        print(resultQueue.get(), end=' ')"
   ]
  }
 ],
 "metadata": {
  "anaconda-cloud": {},
  "kernelspec": {
   "display_name": "Python 3",
   "language": "python",
   "name": "python3"
  },
  "language_info": {
   "codemirror_mode": {
    "name": "ipython",
    "version": 3
   },
   "file_extension": ".py",
   "mimetype": "text/x-python",
   "name": "python",
   "nbconvert_exporter": "python",
   "pygments_lexer": "ipython3",
   "version": "3.6.3"
  },
  "latex_envs": {
   "LaTeX_envs_menu_present": true,
   "autocomplete": true,
   "bibliofile": "biblio.bib",
   "cite_by": "apalike",
   "current_citInitial": 1,
   "eqLabelWithNumbers": true,
   "eqNumInitial": 1,
   "hotkeys": {
    "equation": "Ctrl-E",
    "itemize": "Ctrl-I"
   },
   "labels_anchors": false,
   "latex_user_defs": false,
   "report_style_numbering": false,
   "user_envs_cfg": false
  }
 },
 "nbformat": 4,
 "nbformat_minor": 1
}
