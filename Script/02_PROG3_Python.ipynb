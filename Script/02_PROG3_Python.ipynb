{
 "cells": [
  {
   "cell_type": "markdown",
   "metadata": {
    "slideshow": {
     "slide_type": "slide"
    }
   },
   "source": [
    "**Programmieren 3 - Python**\n",
    "\n",
    "**Peter Rösch, Fakultät für Informatik**\n",
    "\n",
    "**Hochschule Augsburg**\n",
    "\n",
    "**Winter 2017/2018**"
   ]
  },
  {
   "cell_type": "markdown",
   "metadata": {
    "collapsed": true,
    "slideshow": {
     "slide_type": "slide"
    }
   },
   "source": [
    "# Nachträge und Ergänzungen"
   ]
  },
  {
   "cell_type": "markdown",
   "metadata": {},
   "source": [
    "## Virtualbox:  *sudo*"
   ]
  },
  {
   "cell_type": "markdown",
   "metadata": {},
   "source": [
    "Sie können das System administrieren, auch ohne sich als *root* anzumelden. Geben Sie dazu z.B. folgendes ein:\n",
    "\n",
    "    sudo apt-get update\n",
    "    sudo apt-get safe-upgrade\n",
    "    \n",
    "Wenn Sie nach einem Passwort gefragt werden, geben Sie das Passwort von *pyoneer* ein.\n",
    "\n",
    "**Frage:** Welche Vorteile hat die Verwendung von *sudo* gegenüber einer Anmeldung als *root*?"
   ]
  },
  {
   "cell_type": "markdown",
   "metadata": {
    "slideshow": {
     "slide_type": "subslide"
    }
   },
   "source": [
    "Falls Sie Anaconda-Pakete (Platzhalter XXX) installieren wollen, gehen Sie wie folgt vor:\n",
    "    \n",
    "    su\n",
    "    ...\n",
    "    source /opt/anaconda/setupAnaconda\n",
    "    conda install XXX\n",
    "    conda update XXX"
   ]
  },
  {
   "cell_type": "markdown",
   "metadata": {
    "slideshow": {
     "slide_type": "slide"
    }
   },
   "source": [
    "# Python - Überblick"
   ]
  },
  {
   "cell_type": "markdown",
   "metadata": {
    "slideshow": {}
   },
   "source": [
    "Quellen:\n",
    " - Buch [Python 3 intensiv-Kurs](http://link.springer.com/book/10.1007/978-3-642-04377-2)\n",
    " - Dokumentation: https://www.python.org/doc\n",
    " - [Reference Card](http://perso.limsi.fr/pointal/_media/python:cours:mementopython3-v1.0.5a-english.pdf)\n",
    " - Safari Books (intern oder VPN): http://proquest.tech.safaribooksonline.de\n",
    " - [A Byte of Python](http://www.swaroopch.com/notes/python)"
   ]
  },
  {
   "cell_type": "markdown",
   "metadata": {
    "slideshow": {
     "slide_type": "slide"
    }
   },
   "source": [
    "# Datentypen - Objektorientierung pur ..."
   ]
  },
  {
   "cell_type": "markdown",
   "metadata": {
    "slideshow": {}
   },
   "source": [
    "- Der Ausdruck *a = 3* bindet den Namen *a* an ein Objekte vom Typ *int*.\n",
    "- Der Typ des Objekts ist nicht mit *a* verknüpft.\n",
    "- Zuweisungen kopieren keine Werte, sondern Referenzen.\n",
    "- *b = a* erzeugt eine weitere Referenz auf das oben erzeugte *int*-Objekt.\n",
    "\n",
    "Frage: Wie sieht das in Java aus?"
   ]
  },
  {
   "cell_type": "markdown",
   "metadata": {
    "slideshow": {
     "slide_type": "slide"
    }
   },
   "source": [
    "## Boolsche Variablen"
   ]
  },
  {
   "cell_type": "code",
   "execution_count": null,
   "metadata": {
    "collapsed": true,
    "slideshow": {
     "slide_type": "-"
    }
   },
   "outputs": [],
   "source": [
    "bool_var = 3 + 4 == 7\n",
    "print(bool_var)"
   ]
  },
  {
   "cell_type": "code",
   "execution_count": null,
   "metadata": {
    "collapsed": true,
    "slideshow": {}
   },
   "outputs": [],
   "source": [
    "bool_var2 = 3 + 4 == 7 and 9 * 8 == 71 or 3 * 3 == 8\n",
    "print(bool_var2)"
   ]
  },
  {
   "cell_type": "markdown",
   "metadata": {
    "slideshow": {
     "slide_type": "fragment"
    }
   },
   "source": [
    "Intern werden True und False durch 1 und 0 repräsentiert.\n",
    "\n",
    "Frage: warum sollte man diese Tatsache **nicht** für Berechnungen verwenden?"
   ]
  },
  {
   "cell_type": "markdown",
   "metadata": {
    "slideshow": {
     "slide_type": "subslide"
    }
   },
   "source": [
    "### Ganze Zahlen: int"
   ]
  },
  {
   "cell_type": "code",
   "execution_count": null,
   "metadata": {
    "collapsed": true,
    "slideshow": {}
   },
   "outputs": [],
   "source": [
    "# a ist eine Referenz auf ein int-Objekt\n",
    "a = 33\n",
    "print(type(a))"
   ]
  },
  {
   "cell_type": "code",
   "execution_count": null,
   "metadata": {
    "collapsed": true,
    "slideshow": {
     "slide_type": "fragment"
    }
   },
   "outputs": [],
   "source": [
    "# 5 Methoden von a\n",
    "print(dir(a)[:5])"
   ]
  },
  {
   "cell_type": "code",
   "execution_count": null,
   "metadata": {
    "collapsed": true,
    "slideshow": {
     "slide_type": "fragment"
    }
   },
   "outputs": [],
   "source": [
    "# Operatoren sind Abkuerzungen\n",
    "print(a.__add__(9)) # Alternative: print(a + 9)"
   ]
  },
  {
   "cell_type": "markdown",
   "metadata": {
    "slideshow": {
     "slide_type": "subslide"
    }
   },
   "source": [
    "### Gleitkommazahlen: float (entspricht double in C)"
   ]
  },
  {
   "cell_type": "code",
   "execution_count": null,
   "metadata": {
    "collapsed": true,
    "slideshow": {}
   },
   "outputs": [],
   "source": [
    "# Mathematik-Standardbibliothek\n",
    "import math\n",
    "f = 0.33\n",
    "sf = math.sin(f)\n",
    "print(sf)"
   ]
  },
  {
   "cell_type": "code",
   "execution_count": null,
   "metadata": {
    "collapsed": true,
    "slideshow": {
     "slide_type": "subslide"
    }
   },
   "outputs": [],
   "source": [
    "# formatierte Ausgabe, neuer Stil\n",
    "print('f mit drei Nachkommastellen: {:.3f}'.format(sf))\n",
    "#\n",
    "# formatierte Ausgabe, C-Stil\n",
    "print('f mit drei Nachkommastellen: %.3f' % (sf, ))"
   ]
  },
  {
   "cell_type": "markdown",
   "metadata": {
    "slideshow": {
     "slide_type": "subslide"
    }
   },
   "source": [
    "### Komplexe Zahlen: complex"
   ]
  },
  {
   "cell_type": "code",
   "execution_count": null,
   "metadata": {
    "collapsed": true,
    "slideshow": {}
   },
   "outputs": [],
   "source": [
    "# Standardbibliothek fuer komplexe Zahlen\n",
    "import cmath\n",
    "c = 0.33+2.3j\n",
    "sc = cmath.sin(c)\n",
    "print(sc)"
   ]
  },
  {
   "cell_type": "code",
   "execution_count": null,
   "metadata": {
    "collapsed": true,
    "slideshow": {
     "slide_type": "subslide"
    }
   },
   "outputs": [],
   "source": [
    "# Formatierte Ausgabe\n",
    "print('Hier der Sinus von {1:.3f}: {0:.3f}'.format(sc, c))"
   ]
  },
  {
   "cell_type": "markdown",
   "metadata": {
    "slideshow": {
     "slide_type": "slide"
    }
   },
   "source": [
    "## Sequenzen"
   ]
  },
  {
   "cell_type": "markdown",
   "metadata": {
    "slideshow": {}
   },
   "source": [
    "- Sequenzen sind aus Objekt-Referenzen zusammengesetzt.\n",
    "- Der Zugriff erfolgt über einen Index.\n",
    "- Es gibt Methoden, die für alle Sequenzen definiert sind.\n",
    "- Oft können Schleifen durch besser lesbare Konstrukte ersetzt werden."
   ]
  },
  {
   "cell_type": "markdown",
   "metadata": {
    "slideshow": {
     "slide_type": "subslide"
    }
   },
   "source": [
    "### Tupel (tuple)"
   ]
  },
  {
   "cell_type": "code",
   "execution_count": null,
   "metadata": {
    "collapsed": true,
    "slideshow": {}
   },
   "outputs": [],
   "source": [
    "# Definition eines Tupels, das an\n",
    "# den Namen t gebunden ist\n",
    "t = (0, 1, 2, 3, 4)"
   ]
  },
  {
   "cell_type": "code",
   "execution_count": null,
   "metadata": {
    "collapsed": true,
    "slideshow": {
     "slide_type": "fragment"
    }
   },
   "outputs": [],
   "source": [
    "# Zugriff auf einen Eintrag\n",
    "print(t[2])"
   ]
  },
  {
   "cell_type": "code",
   "execution_count": null,
   "metadata": {
    "collapsed": true,
    "slideshow": {
     "slide_type": "fragment"
    }
   },
   "outputs": [],
   "source": [
    "# Slicing: Zugriff auf einen Abschnitt\n",
    "# 0 bis ausschliesslich 3\n",
    "print(t[0:3])"
   ]
  },
  {
   "cell_type": "code",
   "execution_count": null,
   "metadata": {
    "collapsed": true,
    "slideshow": {
     "slide_type": "subslide"
    }
   },
   "outputs": [],
   "source": [
    "# Zaehlung vom Ende her: negative indizes\n",
    "print(t[-3:])"
   ]
  },
  {
   "cell_type": "code",
   "execution_count": null,
   "metadata": {
    "collapsed": true,
    "slideshow": {
     "slide_type": "fragment"
    }
   },
   "outputs": [],
   "source": [
    "# Tupel sind nicht veraenderbar\n",
    "# Das gibt eine Fehlermeldung!\n",
    "# t[1] = 44"
   ]
  },
  {
   "cell_type": "markdown",
   "metadata": {
    "slideshow": {
     "slide_type": "subslide"
    }
   },
   "source": [
    "### Listen (list)"
   ]
  },
  {
   "cell_type": "code",
   "execution_count": null,
   "metadata": {
    "collapsed": true,
    "slideshow": {}
   },
   "outputs": [],
   "source": [
    "# Definition einer Liste\n",
    "l = [0, 1, 2, 3, 4]\n",
    "print(l)"
   ]
  },
  {
   "cell_type": "code",
   "execution_count": null,
   "metadata": {
    "collapsed": true,
    "slideshow": {
     "slide_type": "fragment"
    }
   },
   "outputs": [],
   "source": [
    "# Ueberladene Operatoren\n",
    "l = l + [33, 22, 11]\n",
    "print(l)\n",
    "print (2 * l)"
   ]
  },
  {
   "cell_type": "code",
   "execution_count": null,
   "metadata": {
    "collapsed": true,
    "slideshow": {
     "slide_type": "subslide"
    }
   },
   "outputs": [],
   "source": [
    "# Vermeidung von Schleifen\n",
    "print(33 in l)"
   ]
  },
  {
   "cell_type": "code",
   "execution_count": null,
   "metadata": {
    "collapsed": true,
    "slideshow": {
     "slide_type": "fragment"
    }
   },
   "outputs": [],
   "source": [
    "# sortieren\n",
    "print(sorted(l))"
   ]
  },
  {
   "cell_type": "code",
   "execution_count": null,
   "metadata": {
    "collapsed": true,
    "slideshow": {
     "slide_type": "fragment"
    }
   },
   "outputs": [],
   "source": [
    "# einfuegen\n",
    "l.insert(2, [44, 98])\n",
    "print(l)"
   ]
  },
  {
   "cell_type": "markdown",
   "metadata": {},
   "source": [
    "Frage: Beschreiben Sie das Ergebnis der *insert*-Anweisung."
   ]
  },
  {
   "cell_type": "code",
   "execution_count": null,
   "metadata": {
    "collapsed": true,
    "slideshow": {
     "slide_type": "subslide"
    }
   },
   "outputs": [],
   "source": [
    "# Mischen verschiedener Datentypen\n",
    "import math\n",
    "l = [1,2,3,'a','b','c',math.sin]\n",
    "print(l)"
   ]
  },
  {
   "cell_type": "code",
   "execution_count": null,
   "metadata": {
    "collapsed": true,
    "slideshow": {
     "slide_type": "fragment"
    }
   },
   "outputs": [],
   "source": [
    "# Aufruf def Funktion l[6] (math.sin ...)\n",
    "l[6](2.2)"
   ]
  },
  {
   "cell_type": "markdown",
   "metadata": {
    "slideshow": {
     "slide_type": "subslide"
    }
   },
   "source": [
    "### Ausblick: Numpy-Arrays"
   ]
  },
  {
   "cell_type": "code",
   "execution_count": null,
   "metadata": {
    "collapsed": true,
    "slideshow": {
     "slide_type": "fragment"
    }
   },
   "outputs": [],
   "source": [
    "import numpy as np\n",
    "l1 = [1.1, 2.2, 3.2]\n",
    "v1 = np.array(l1, dtype=np.float32)\n",
    "v2 = np.array((9.9, 8.8, 7.7), dtype=np.float16)\n",
    "print('v1:', v1, '\\nv2:', v2)\n",
    "print('v1+v2:', v1+v2, \"\\nv1 v2:\", np.dot(v1, v2))"
   ]
  },
  {
   "cell_type": "markdown",
   "metadata": {
    "slideshow": {
     "slide_type": "fragment"
    }
   },
   "source": [
    "Fragen:\n",
    "1. Erklären Sie die Ausgabe\n",
    "2. Können *numpy-Arrays* für die Implementierung der Gravitations-Simulation nützlich sein?"
   ]
  },
  {
   "cell_type": "markdown",
   "metadata": {
    "slideshow": {
     "slide_type": "subslide"
    }
   },
   "source": [
    "### Strings"
   ]
  },
  {
   "cell_type": "code",
   "execution_count": null,
   "metadata": {
    "collapsed": true
   },
   "outputs": [],
   "source": [
    "s = 'Eine Zeichenkette'\n",
    "s2 = \"Eine 'ganz besondere' Zeichenkette\"\n",
    "print(s2)"
   ]
  },
  {
   "cell_type": "code",
   "execution_count": null,
   "metadata": {
    "collapsed": true,
    "slideshow": {
     "slide_type": "fragment"
    }
   },
   "outputs": [],
   "source": [
    "print('bes' in s2)"
   ]
  },
  {
   "cell_type": "markdown",
   "metadata": {
    "slideshow": {
     "slide_type": "subslide"
    }
   },
   "source": [
    "Frage: Wie werden Sie die Endung (z.b. '.txt') eines Dateinames los?"
   ]
  },
  {
   "cell_type": "code",
   "execution_count": null,
   "metadata": {
    "collapsed": true,
    "slideshow": {
     "slide_type": "fragment"
    }
   },
   "outputs": [],
   "source": [
    "datei_name = 'eine_datei.txt'\n",
    "print(datei_name[:-4])"
   ]
  },
  {
   "cell_type": "markdown",
   "metadata": {
    "slideshow": {
     "slide_type": "subslide"
    }
   },
   "source": [
    "### Assoziative Listen (dict)"
   ]
  },
  {
   "cell_type": "code",
   "execution_count": null,
   "metadata": {
    "collapsed": true,
    "slideshow": {}
   },
   "outputs": [],
   "source": [
    "# Erzeugung einer assoziativen Liste\n",
    "d = { 'Haus':'House', 'Katze':'Cat', 'Nase':'Nose'}"
   ]
  },
  {
   "cell_type": "code",
   "execution_count": null,
   "metadata": {
    "collapsed": true,
    "slideshow": {
     "slide_type": "fragment"
    }
   },
   "outputs": [],
   "source": [
    "# Zugriff auf Eintraege:\n",
    "print(d['Haus'])"
   ]
  },
  {
   "cell_type": "code",
   "execution_count": null,
   "metadata": {
    "collapsed": true,
    "slideshow": {
     "slide_type": "fragment"
    }
   },
   "outputs": [],
   "source": [
    "# Erweiterung\n",
    "d['Bier'] = 'Beer'\n",
    "print('Bier' in d)"
   ]
  },
  {
   "cell_type": "code",
   "execution_count": null,
   "metadata": {
    "collapsed": true,
    "slideshow": {
     "slide_type": "subslide"
    }
   },
   "outputs": [],
   "source": [
    "# Ausgabe der Schluessel\n",
    "print(d.keys())"
   ]
  },
  {
   "cell_type": "markdown",
   "metadata": {
    "slideshow": {
     "slide_type": "subslide"
    }
   },
   "source": [
    "Definierte Namen werden in dictionaries verwaltet, die mit *dir* zugreifbar sind:"
   ]
  },
  {
   "cell_type": "code",
   "execution_count": null,
   "metadata": {
    "collapsed": true,
    "slideshow": {}
   },
   "outputs": [],
   "source": [
    "import math\n",
    "print('sin' in dir(math))"
   ]
  },
  {
   "cell_type": "markdown",
   "metadata": {
    "slideshow": {
     "slide_type": "subslide"
    }
   },
   "source": [
    "### Mengen (set)"
   ]
  },
  {
   "cell_type": "code",
   "execution_count": null,
   "metadata": {
    "collapsed": true,
    "slideshow": {}
   },
   "outputs": [],
   "source": [
    "# Erzeugung einer Menge\n",
    "s = {3, 4, 5, 33, 55, 55, 55, 99}\n",
    "print(s)"
   ]
  },
  {
   "cell_type": "markdown",
   "metadata": {
    "slideshow": {}
   },
   "source": [
    "Frage: Was fällt Ihnen am Ergebnis auf?"
   ]
  },
  {
   "cell_type": "markdown",
   "metadata": {
    "slideshow": {
     "slide_type": "subslide"
    }
   },
   "source": [
    "Wie können Sie doppelte Einträge aus einer Liste entfernen?"
   ]
  },
  {
   "cell_type": "code",
   "execution_count": null,
   "metadata": {
    "collapsed": true,
    "slideshow": {}
   },
   "outputs": [],
   "source": [
    "l = 2 * [99, 3, 4, 5, 6, 7, 8, 8, 8, 3]\n",
    "print('Die Zahl 8 kommt in l', l.count(8), 'mal vor')"
   ]
  },
  {
   "cell_type": "code",
   "execution_count": null,
   "metadata": {
    "collapsed": true,
    "slideshow": {
     "slide_type": "fragment"
    }
   },
   "outputs": [],
   "source": [
    "l2 = list(set(l))\n",
    "print(l2)\n",
    "print('Die Zahl 8 kommt in l2', l2.count(8), 'mal vor')"
   ]
  },
  {
   "cell_type": "markdown",
   "metadata": {
    "slideshow": {
     "slide_type": "subslide"
    }
   },
   "source": [
    "**Vorsicht**: Weder *set* noch *dict* garantieren eine bestimmte Reihenfolge der Einträge!\n",
    "\n",
    "Es gibt jedoch die Klasse *collections.OrderedDict*.\n",
    "\n",
    "Frage: Was bedeutet das für das *slicing*?"
   ]
  },
  {
   "cell_type": "markdown",
   "metadata": {
    "slideshow": {
     "slide_type": "slide"
    }
   },
   "source": [
    "## Generatoren"
   ]
  },
  {
   "cell_type": "markdown",
   "metadata": {
    "slideshow": {}
   },
   "source": [
    "Ein Generator ist ein iterierbares Objekt, das die Daten nicht vorhält, sondern erst bei Bedarf produziert."
   ]
  },
  {
   "cell_type": "code",
   "execution_count": null,
   "metadata": {
    "collapsed": true,
    "slideshow": {}
   },
   "outputs": [],
   "source": [
    "# Zahlen von 0 bis 3 (ausschliesslich 3!)\n",
    "r1 = range(3)\n",
    "print(r1)"
   ]
  },
  {
   "cell_type": "code",
   "execution_count": null,
   "metadata": {
    "collapsed": true
   },
   "outputs": [],
   "source": [
    "print(list(r1))"
   ]
  },
  {
   "cell_type": "code",
   "execution_count": null,
   "metadata": {
    "collapsed": true,
    "slideshow": {
     "slide_type": "subslide"
    }
   },
   "outputs": [],
   "source": [
    "# Zahlen von 2 bis 23 (ausschliesslich), Schrittweite 3\n",
    "r2 = range(2, 23, 3)\n",
    "print(list(r2))"
   ]
  },
  {
   "cell_type": "code",
   "execution_count": null,
   "metadata": {
    "collapsed": true,
    "slideshow": {
     "slide_type": "fragment"
    }
   },
   "outputs": [],
   "source": [
    "list(range(100, 1, -10))"
   ]
  },
  {
   "cell_type": "markdown",
   "metadata": {},
   "source": [
    "Durch die Verwendung des Schlüsselworts *yield* können Sie selbst Generatoren schreiben (später)."
   ]
  },
  {
   "cell_type": "markdown",
   "metadata": {
    "slideshow": {
     "slide_type": "fragment"
    }
   },
   "source": [
    "**Vorsicht:** Die Python2-Version von *range* generiert eine Liste.\n",
    "\n",
    "Frage: Warum wurde dieses Verhalten in Python 3 geändert?"
   ]
  },
  {
   "cell_type": "markdown",
   "metadata": {
    "slideshow": {
     "slide_type": "slide"
    }
   },
   "source": [
    "# Kontrollstrukturen"
   ]
  },
  {
   "cell_type": "code",
   "execution_count": null,
   "metadata": {
    "collapsed": true
   },
   "outputs": [],
   "source": [
    "# if und else\n",
    "a = 33\n",
    "if a > 20:\n",
    "    print('a ist groesser als 20')\n",
    "elif a < 0:\n",
    "    print('a ist kleiner als 0')\n",
    "else:\n",
    "    print('a liegt zwischen 0 und 20')"
   ]
  },
  {
   "cell_type": "code",
   "execution_count": null,
   "metadata": {
    "collapsed": true,
    "slideshow": {
     "slide_type": "subslide"
    }
   },
   "outputs": [],
   "source": [
    "# while-Schleife\n",
    "a = 33\n",
    "while a > 31:\n",
    "    print(a)\n",
    "    a -= 1\n",
    "else:\n",
    "    print('Schleife ohne break beendet')"
   ]
  },
  {
   "cell_type": "markdown",
   "metadata": {
    "slideshow": {
     "slide_type": "subslide"
    }
   },
   "source": [
    "For-Schleifen in Python iterieren immer über ein iterierbares Objekt."
   ]
  },
  {
   "cell_type": "code",
   "execution_count": null,
   "metadata": {
    "collapsed": true,
    "slideshow": {}
   },
   "outputs": [],
   "source": [
    "# for-Schleife (Tupel)\n",
    "t = (2, 44, 14)\n",
    "for n in t:\n",
    "    print(n, end=' ')"
   ]
  },
  {
   "cell_type": "code",
   "execution_count": null,
   "metadata": {
    "collapsed": true
   },
   "outputs": [],
   "source": [
    "# for-Schleife (Generator)\n",
    "for n in range(2, 6, 2):\n",
    "    print(n, end=' ')"
   ]
  },
  {
   "cell_type": "code",
   "execution_count": null,
   "metadata": {
    "collapsed": true,
    "slideshow": {
     "slide_type": "subslide"
    }
   },
   "outputs": [],
   "source": [
    "# exceptions\n",
    "d = 33\n",
    "a = int(input('a:'))\n",
    "try:\n",
    "    ergebnis = d / a\n",
    "except ZeroDivisionError:\n",
    "    print('na, na, na!')\n",
    "else:\n",
    "    print('Ergebnis: %.2f' % (ergebnis, ))\n",
    "finally:\n",
    "    print('Jetzt wird aufgeräumt')"
   ]
  },
  {
   "cell_type": "markdown",
   "metadata": {
    "slideshow": {
     "slide_type": "subslide"
    }
   },
   "source": [
    "# Funktionen"
   ]
  },
  {
   "cell_type": "code",
   "execution_count": null,
   "metadata": {
    "collapsed": true
   },
   "outputs": [],
   "source": [
    "def addiere_zwei_delta(i, delta):\n",
    "    \"\"\"\n",
    "    Addieren von 2 * delta auf das von i referenzierte Objekt\n",
    "    \n",
    "    Args:\n",
    "        i: Objekt, das veraendert werden soll\n",
    "        delta: wird auf i addiert        \n",
    "    Returns:\n",
    "        Ergebnis von i + 2 * delta        \n",
    "    Examples:\n",
    "        >>> addiere_zwei_delta(3, 1)\n",
    "        5\n",
    "        >>> addiere_zwei_delta('Guten', ' Tag')\n",
    "        'Guten Tag Tag'\n",
    "    \"\"\"\n",
    "    return i + 2 * delta"
   ]
  },
  {
   "cell_type": "code",
   "execution_count": null,
   "metadata": {
    "collapsed": true,
    "slideshow": {
     "slide_type": "subslide"
    }
   },
   "outputs": [],
   "source": [
    "addiere_zwei_delta?"
   ]
  },
  {
   "cell_type": "code",
   "execution_count": null,
   "metadata": {
    "collapsed": true,
    "slideshow": {
     "slide_type": "subslide"
    }
   },
   "outputs": [],
   "source": [
    "# Aufruf\n",
    "print(addiere_zwei_delta(3, 4))"
   ]
  },
  {
   "cell_type": "code",
   "execution_count": null,
   "metadata": {
    "collapsed": true,
    "slideshow": {
     "slide_type": "fragment"
    }
   },
   "outputs": [],
   "source": [
    "# Verwendung der Parameternamen\n",
    "print(addiere_zwei_delta(delta = 4, i = 3))"
   ]
  },
  {
   "cell_type": "code",
   "execution_count": null,
   "metadata": {
    "collapsed": true,
    "slideshow": {
     "slide_type": "subslide"
    }
   },
   "outputs": [],
   "source": [
    "# Neue Version mit Default-Parameter\n",
    "def addiere_zwei_delta_d(i, delta=1):\n",
    "    return i + 2 * delta"
   ]
  },
  {
   "cell_type": "code",
   "execution_count": null,
   "metadata": {
    "collapsed": true,
    "slideshow": {
     "slide_type": "fragment"
    }
   },
   "outputs": [],
   "source": [
    "print(addiere_zwei_delta_d(33))"
   ]
  },
  {
   "cell_type": "code",
   "execution_count": null,
   "metadata": {
    "collapsed": true,
    "slideshow": {
     "slide_type": "fragment"
    }
   },
   "outputs": [],
   "source": [
    "print(addiere_zwei_delta_d(33, 5))"
   ]
  },
  {
   "cell_type": "code",
   "execution_count": null,
   "metadata": {
    "collapsed": true
   },
   "outputs": [],
   "source": []
  },
  {
   "cell_type": "markdown",
   "metadata": {
    "slideshow": {
     "slide_type": "slide"
    }
   },
   "source": [
    "# Klassen"
   ]
  },
  {
   "cell_type": "code",
   "execution_count": null,
   "metadata": {
    "collapsed": true
   },
   "outputs": [],
   "source": [
    "class MeineKlasse(object):\n",
    "    # Konstruktor\n",
    "    def __init__(self, anfangs_wert):\n",
    "        self.attribut = anfangs_wert\n",
    "    # Methode\n",
    "    def erhoehe_attribut(self, delta):\n",
    "        self.attribut += delta"
   ]
  },
  {
   "cell_type": "code",
   "execution_count": null,
   "metadata": {
    "collapsed": true,
    "slideshow": {
     "slide_type": "subslide"
    }
   },
   "outputs": [],
   "source": [
    "# Nutzung der Klasse\n",
    "ein_objekt = MeineKlasse(77)\n",
    "print(ein_objekt.attribut)\n",
    "ein_objekt.erhoehe_attribut(22)\n",
    "print(ein_objekt.attribut)"
   ]
  },
  {
   "cell_type": "markdown",
   "metadata": {
    "slideshow": {
     "slide_type": "slide"
    }
   },
   "source": [
    "# Module und Pakete"
   ]
  },
  {
   "cell_type": "markdown",
   "metadata": {
    "slideshow": {
     "slide_type": "subslide"
    }
   },
   "source": [
    "## Import"
   ]
  },
  {
   "cell_type": "code",
   "execution_count": null,
   "metadata": {
    "collapsed": true,
    "slideshow": {
     "slide_type": "subslide"
    }
   },
   "outputs": [],
   "source": [
    "# 1. Empfohlene Methode\n",
    "import math\n",
    "print(math.sin(1.3))"
   ]
  },
  {
   "cell_type": "code",
   "execution_count": null,
   "metadata": {
    "collapsed": true,
    "slideshow": {
     "slide_type": "fragment"
    }
   },
   "outputs": [],
   "source": [
    "# 2. Problematischer Ansatz\n",
    "from math import sin\n",
    "print(sin(1.3))"
   ]
  },
  {
   "cell_type": "code",
   "execution_count": null,
   "metadata": {
    "collapsed": true,
    "slideshow": {
     "slide_type": "fragment"
    }
   },
   "outputs": [],
   "source": [
    "# 3. So bitte auf gar keinen Fall\n",
    "from math import *\n",
    "print(sin(1.3))"
   ]
  },
  {
   "cell_type": "raw",
   "metadata": {},
   "source": [
    "Frage: Warum sind die Ansätze 2 und 3 problematisch?"
   ]
  },
  {
   "cell_type": "markdown",
   "metadata": {
    "slideshow": {
     "slide_type": "subslide"
    }
   },
   "source": [
    "## Von wo werden die Module imporiert?"
   ]
  },
  {
   "cell_type": "markdown",
   "metadata": {},
   "source": [
    "- In dem Verzeichnis, von dem aus der Interpreter aufgerufen wurde.\n",
    "- In den Verzeichnissen, die sich im *PYTHONPATH* befinden (Umgebungsvariable).\n",
    "- In den Verzeichnissen, die sich in der Liste *sys.path* befinden."
   ]
  },
  {
   "cell_type": "code",
   "execution_count": null,
   "metadata": {
    "collapsed": true,
    "slideshow": {
     "slide_type": "fragment"
    }
   },
   "outputs": [],
   "source": [
    "import sys\n",
    "sys.path.append('/home/meine_pakete')\n",
    "# windows, raw string\n",
    "# sys.path.append(r'c:\\home\\neue_pakete')\n",
    "# import mein_paket"
   ]
  },
  {
   "cell_type": "markdown",
   "metadata": {
    "slideshow": {
     "slide_type": "subslide"
    }
   },
   "source": [
    "## \\_\\_init\\_\\_.py"
   ]
  },
  {
   "cell_type": "markdown",
   "metadata": {
    "slideshow": {
     "slide_type": "slide"
    }
   },
   "source": [
    "- Wenn sich eine Datei mit dem Namen *\\_\\_init\\_\\_.py* in einem Verzeichnis befindet, handelt es sich um ein Paket.\n",
    "- Die Datei *\\_\\_init\\_\\_.py* wird beim *import* des Pakets ausgeführt.\n",
    "- Jedes Unterverzeichnis (bzw. Unterpaket) enthält eine eigene Datei *\\_\\_init\\_\\_.py*."
   ]
  },
  {
   "cell_type": "code",
   "execution_count": null,
   "metadata": {
    "collapsed": true
   },
   "outputs": [],
   "source": [
    "# Beispiel fuer eine Datei __init__.py\n",
    "from __future__ import print_function, division\n",
    "# from . import unterpaket_1\n",
    "# from . import unterpaket_2\n",
    "# ...\n",
    "__version__ = '3.4.1'"
   ]
  },
  {
   "cell_type": "markdown",
   "metadata": {
    "slideshow": {
     "slide_type": "slide"
    }
   },
   "source": [
    "# spyder3"
   ]
  },
  {
   "cell_type": "markdown",
   "metadata": {},
   "source": [
    "- [Dokumentation](http://pythonhosted.org/spyder)\n",
    "- Ressourcenschonende Entwicklungsumgebung.\n",
    "- Eingebener Code kann mit *pylint* überprüft werden.\n",
    "- Zur Optimierung steht ein Profiler zur Verfügung.\n",
    "- Der Debugger *pdb* kann entweder direkt oder über eine grafische Schnittstellte verwendet werden."
   ]
  },
  {
   "cell_type": "markdown",
   "metadata": {
    "slideshow": {
     "slide_type": "subslide"
    }
   },
   "source": [
    "# Dokumentation mit sphinx"
   ]
  },
  {
   "cell_type": "markdown",
   "metadata": {},
   "source": [
    "- [Homepage](http://sphinx-doc.org)\n",
    "- In Verbindung mit dem Werkzeug *napoleon* kann sphinx aus Docstrings von Klassen und Funktionen automatisch Dokumentation erzeugen.\n",
    "- *sphinx* beherrscht verschiedene Ausgabe-Formate (*html, pdf, ePub*, ...)"
   ]
  },
  {
   "cell_type": "markdown",
   "metadata": {
    "slideshow": {
     "slide_type": "slide"
    }
   },
   "source": [
    "# Pylint"
   ]
  },
  {
   "cell_type": "markdown",
   "metadata": {},
   "source": [
    "*pylint* führt eine statische Analyse des Source-Codes durch, findet Fehler und gibt verschiedene Warnungen aus. Einstellungen befinden sich in der Datei *.pylintrc* im *home*-Verzeichnis.\n",
    "\n",
    "Details finden Sie auf der [Homepage](http://www.pylint.org).\n",
    "\n",
    "Wir verwenden den [Google Python Style Guide](https://google.github.io/styleguide/pyguide.html) für unsere Projekte."
   ]
  },
  {
   "cell_type": "markdown",
   "metadata": {
    "slideshow": {
     "slide_type": "slide"
    }
   },
   "source": [
    "# Übungsaufgaben  (Abgabe spätestens am 19.10.2017)"
   ]
  },
  {
   "cell_type": "markdown",
   "metadata": {},
   "source": [
    "## Aufgabe 1"
   ]
  },
  {
   "cell_type": "markdown",
   "metadata": {},
   "source": [
    "Verwenden Sie das Beispiel ''package_example'' (Moodle, unter Beispielprogramme), um folgende Techniken zu verstehen und praktisch durchzuführen:\n",
    "\n",
    "1. Import eines Projekts in *spyder*.\n",
    "1. Erzeugung von Dokumentation mit *sphinx* (siehe Datei README).\n",
    "1. Verwendung von Pylint.\n",
    "1. Import des Moduls, Experimente mit *\\_\\_init\\_\\_.py*"
   ]
  },
  {
   "cell_type": "markdown",
   "metadata": {},
   "source": [
    "## Aufgabe 2"
   ]
  },
  {
   "cell_type": "markdown",
   "metadata": {
    "slideshow": {}
   },
   "source": [
    "Sie sollen eine Python-Klasse VokabelTrainer zum Einüben englischer Vokabeln entwickeln, wobei die Fähigkeit des Schüers trainiert werden soll, deutsche Begriffe für englische Worte zu finden. Folgende Anforderungen sind dabei zu erfüllen:\n",
    "\n",
    "- Iniitialisiert wird die Klasse vom aufrufenden Code mit einer nicht leeren assoziativen Liste (dict).\n",
    "- Die Methode hinzufuegen erlaubt es, das Trainings-Vokabular um ein neues Wort-Paar zu erweitern.\n",
    "- Das eigentliche Training erfolgt mit der Methode trainieren, die als Parameter die Anzahl der Fragen erhält, die gestellt werden sollen.\n",
    "- Der Benutzer erhält nach jedem deutschen Wort, das er zu einem vom System zuf ̈llig aus der assoziativen Liste ausgewählten und gefragten englischen Wort eingibt, eine direkte Rückmeldung, ob die Antwort richtig oder falsch ist, wobei es nicht auf Groß- und Kleinschreibung ankommt.\n",
    "- Die Methode zuruecksetzen startet eine neue Trainingseinheit, die aus mehreren Durchgängen der trainieren-Methode bestehen kann.\n",
    "- Im Rahmen einer solchen Trainingseinheit kann es passieren, dass ein englisches Wort mehrfach abgefragt wird.\n",
    "- Die Methode ergebnisAusgabe gibt die Anzahl der richtigen und falschen Antworten bezogen auf die aktuelle Trainingseinheit aus.\n",
    "\n",
    "\n",
    " 1. Geben Sie die Ein- und Ausgaben einer interaktiven Sitzung an, in der die Klasse VokabelTrainer mit drei Wortpaaren Ihrer Wahl getestet wird.\n",
    " 1. Es sollen alle Methoden der Klasse getestet werden.\n",
    " 1. Geben Sie Python-Code an, der die Klasse VokabelTrainer entsprechend der Anforderungen implementiert. \n",
    " \n",
    "Vergessen Sie nicht, Ihre Klasse durch aussagekräftige Docstrings zu dokumentieren."
   ]
  },
  {
   "cell_type": "code",
   "execution_count": null,
   "metadata": {
    "collapsed": true,
    "slideshow": {
     "slide_type": "subslide"
    }
   },
   "outputs": [],
   "source": [
    "# Hinweise\n",
    "import random\n",
    "v = {1:'eins', 2:'zwei', 11:'elf'}\n",
    "print(v.keys())\n",
    "print('BUCHSTABEN'.lower())"
   ]
  },
  {
   "cell_type": "code",
   "execution_count": null,
   "metadata": {
    "collapsed": true,
    "slideshow": {
     "slide_type": "fragment"
    }
   },
   "outputs": [],
   "source": [
    "a = input('Bitte a hier eingeben: ')\n",
    "print(a)"
   ]
  },
  {
   "cell_type": "code",
   "execution_count": null,
   "metadata": {
    "collapsed": true,
    "slideshow": {
     "slide_type": "fragment"
    }
   },
   "outputs": [],
   "source": [
    "help(random.choice)\n"
   ]
  },
  {
   "cell_type": "markdown",
   "metadata": {},
   "source": [
    "## Aufgabe 3"
   ]
  },
  {
   "cell_type": "markdown",
   "metadata": {},
   "source": [
    "Überlegen Sie sich zusammen mit den anderen Mitgliedern Ihres Teams eine sinnvolle Datei-Struktur für Ihr Projekt und erstellen Sie ein geeignetes Repository mit einem Versionsverwaltungs-Werkzug Ihrer Wahl."
   ]
  }
 ],
 "metadata": {
  "kernelspec": {
   "display_name": "Python 3",
   "language": "python",
   "name": "python3"
  },
  "language_info": {
   "codemirror_mode": {
    "name": "ipython",
    "version": 3
   },
   "file_extension": ".py",
   "mimetype": "text/x-python",
   "name": "python",
   "nbconvert_exporter": "python",
   "pygments_lexer": "ipython3",
   "version": "3.6.0"
  },
  "latex_envs": {
   "LaTeX_envs_menu_present": true,
   "autocomplete": true,
   "bibliofile": "biblio.bib",
   "cite_by": "apalike",
   "current_citInitial": 1,
   "eqLabelWithNumbers": true,
   "eqNumInitial": 1,
   "hotkeys": {
    "equation": "Ctrl-E",
    "itemize": "Ctrl-I"
   },
   "labels_anchors": false,
   "latex_user_defs": false,
   "report_style_numbering": false,
   "user_envs_cfg": false
  }
 },
 "nbformat": 4,
 "nbformat_minor": 1
}
