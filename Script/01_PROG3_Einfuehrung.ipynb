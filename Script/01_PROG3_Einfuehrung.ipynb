{
 "cells": [
  {
   "cell_type": "markdown",
   "metadata": {
    "slideshow": {
     "slide_type": "slide"
    }
   },
   "source": [
    "**Programmieren 3 - Einführung**\n",
    "\n",
    "**Peter Rösch, Fakultät für Informatik**\n",
    "\n",
    "**Hochschule Augsburg**\n",
    "\n",
    "**Winter 2017/2018**"
   ]
  },
  {
   "cell_type": "markdown",
   "metadata": {
    "slideshow": {
     "slide_type": "slide"
    }
   },
   "source": [
    "# Ziele heute"
   ]
  },
  {
   "cell_type": "markdown",
   "metadata": {
    "slideshow": {
     "slide_type": "fragment"
    }
   },
   "source": [
    "\\begin{itemize}\n",
    "\\item Sie sind neugierig darauf, was in Programmieren 3 so alles passieren wird.\n",
    "\\item Sie verstehen die Struktur der Veranstaltung.\n",
    "\\item Sie kennen die organisatorischen Details zu Vorlesungen, Übungen und Prüfung. \n",
    "\\item Sie verstehen die Grundlagen der Beispiele, die Sie durch dieses Semester begleiten werden.\n",
    "\\end{itemize}"
   ]
  },
  {
   "cell_type": "markdown",
   "metadata": {
    "slideshow": {
     "slide_type": "slide"
    }
   },
   "source": [
    "# Einführung"
   ]
  },
  {
   "cell_type": "markdown",
   "metadata": {
    "slideshow": {
     "slide_type": "subslide"
    }
   },
   "source": [
    "## Shift happens"
   ]
  },
  {
   "cell_type": "markdown",
   "metadata": {},
   "source": [
    "Wir betrachten die Folien 23-25 der folgenden Präsentation: http://www.slideshare.net/jbrenman/shift-happens-33834\n",
    "\\begin{enumerate}\n",
    "    \\item Welche Inhalte Ihres Studiums werden im Jahr 2040 noch aktuell sein?\n",
    "    \\item Was ist der Unterschied zwischen \"Bildung\" und \"Ausbildung\"?\n",
    "    \\item Was wünschen Sie sich von \"Programmieren 3\" und was befürchten Sie?\n",
    "\\end{enumerate}"
   ]
  },
  {
   "cell_type": "markdown",
   "metadata": {
    "slideshow": {
     "slide_type": "subslide"
    }
   },
   "source": [
    "## IAB-Kurzbericht"
   ]
  },
  {
   "cell_type": "markdown",
   "metadata": {},
   "source": [
    "Es gibt einen sehr interessanten [IAB-Kurzbericht](http://iab.de/194/section.aspx/Publikation/k170601j02), der sich mit den Einkommen von Hochschulabsolvenen auseinandersetzt.\n",
    "\n",
    "\\begin{enumerate}\n",
    "    \\item Warum ist das Gehalt von Master/Diplom-Absolventen Ihrer Meinung nach meist höher als das von Bachelor-Absolventen?\n",
    "    \\item Welche Fähigkeiten sind hilfreich, um später als Experte arbeiten zu können und auch entsprechend bezahlt zu werden?\n",
    "\\end{enumerate}"
   ]
  },
  {
   "cell_type": "markdown",
   "metadata": {
    "slideshow": {
     "slide_type": "subslide"
    }
   },
   "source": [
    "## Kurzvorstellung des Dozenten"
   ]
  },
  {
   "cell_type": "markdown",
   "metadata": {},
   "source": [
    "Vor beruflichen Veränderungen ist niemand sicher ..."
   ]
  },
  {
   "cell_type": "markdown",
   "metadata": {
    "slideshow": {
     "slide_type": "subslide"
    }
   },
   "source": [
    "## Interaktive Softwareentwicklung"
   ]
  },
  {
   "cell_type": "markdown",
   "metadata": {},
   "source": [
    "Die Art der Interaktion mit Rechnern hat sich seit [1950](https://en.wikipedia.org/wiki/IBM_650#/media/File:IBM_650_at_Texas_A%26M.jpg) geändert.\n",
    "\n",
    "Auch [Datenträger](https://en.wikipedia.org/wiki/Punched_card#/media/File:FortranCardPROJ039.agr.jpg) und und deren [Kapazitäten](https://commons.wikimedia.org/wiki/File:IBM_card_storage.NARA.jpg) haben sich weiterentwickelt.\n",
    "\n",
    "[Mobile Eingabegeräte](https://en.wikipedia.org/wiki/Punched_card#/media/File:IBM_Port-A-Punch.jpg) gab es schon relativ früh."
   ]
  },
  {
   "cell_type": "markdown",
   "metadata": {
    "slideshow": {
     "slide_type": "fragment"
    }
   },
   "source": [
    "**Frage:** Was verstehen Sie unter \"interaktiver Softwareentwicklung\"?"
   ]
  },
  {
   "cell_type": "markdown",
   "metadata": {
    "slideshow": {
     "slide_type": "subslide"
    }
   },
   "source": [
    "## Werkzeuge in dieser Veranstaltung"
   ]
  },
  {
   "cell_type": "markdown",
   "metadata": {},
   "source": [
    "1. [Jupyter Notebooks](http://www.jupyter.org)\n",
    "1. [Spyder IDE](https://github.com/spyder-ide/spyder) ([Online-Dokumentation](http://pythonhosted.org/spyder/))\n",
    "1. [VirtualBox](http://www.virtualbox.org) mit einer virtuellen Maschine ([Debian](http://www.debian.org/) \"Jessie\")\n",
    "1. [Moodle](https://moodle.hs-augsburg.de)"
   ]
  },
  {
   "cell_type": "markdown",
   "metadata": {
    "slideshow": {
     "slide_type": "slide"
    }
   },
   "source": [
    "# Appetithäppchen"
   ]
  },
  {
   "cell_type": "markdown",
   "metadata": {
    "slideshow": {
     "slide_type": "subslide"
    }
   },
   "source": [
    "## Python-Homepage"
   ]
  },
  {
   "cell_type": "markdown",
   "metadata": {},
   "source": [
    "Die Python-Homepage finden Sie unter http://www.python.org\n",
    "\n"
   ]
  },
  {
   "cell_type": "markdown",
   "metadata": {
    "slideshow": {
     "slide_type": "subslide"
    }
   },
   "source": [
    "## Markdown-Zelle"
   ]
  },
  {
   "cell_type": "markdown",
   "metadata": {},
   "source": [
    "Den Source-Code der Zelle können Sie sich durch Doppelklick ansehen.\n",
    "\n",
    "Die Zelle enthält Text, einen Link zur [Hochschul-Seite](http://www.hs-augsburg.de) sowie eine Formel \n",
    "\n",
    "$$\\int_{-\\infty}^{\\infty}{e^{-x^2} dx} = \\sqrt{\\pi}$$"
   ]
  },
  {
   "cell_type": "markdown",
   "metadata": {
    "slideshow": {
     "slide_type": "subslide"
    }
   },
   "source": [
    "Aufzählungen:\n",
    "\n",
    "\\begin{enumerate}\n",
    "\\item eins\n",
    "    \\begin{enumerate}\n",
    "    \\item einsEins\n",
    "    \\item einsZwei\n",
    "    \\end{enumerate}\n",
    "\\item zwei\n",
    "\\end{enumerate}\n",
    "\n",
    "\\begin{itemize}\n",
    "\\item erster Punkt\n",
    "    \\begin{itemize}\n",
    "        \\item erster Unterpunkt\n",
    "     \\end{itemize}\n",
    "\\item zweiter Punkt\n",
    "\\end{itemize}"
   ]
  },
  {
   "cell_type": "markdown",
   "metadata": {
    "slideshow": {
     "slide_type": "subslide"
    }
   },
   "source": [
    "Zur Unterteilung von Zellen können Linien verwendet werden.\n",
    "***\n",
    "Bilder können über eine URL eingebunden werden:\n",
    "\n",
    "![Alt text](https://www.hs-augsburg.de/frontend/img/HSA_Logo_horizontal.svg)\n",
    "\n",
    "Formeln werden in $\\LaTeX$-Syntax eingegeben:\n",
    "$$ \\int_{-\\infty}^{\\infty}{e^{-x^2}dx} = \\sqrt{\\pi}$$\n",
    "\n",
    "\n",
    "Es gibt **fett** oder *kursiv* gedruckten Text."
   ]
  },
  {
   "cell_type": "code",
   "execution_count": null,
   "metadata": {
    "collapsed": true,
    "slideshow": {
     "slide_type": "subslide"
    }
   },
   "outputs": [],
   "source": [
    "# Das ist eine Code-Zelle. \n",
    "# Der enthaltene Python-Code wird mit shift-Enter \n",
    "#    oder control-Enter ausgefuehrt\n",
    "\n",
    "a = 42\n",
    "print( a * 112)"
   ]
  },
  {
   "cell_type": "code",
   "execution_count": null,
   "metadata": {
    "collapsed": true,
    "slideshow": {
     "slide_type": "subslide"
    }
   },
   "outputs": [],
   "source": [
    "# Die Dokumentation zu einem Objekt kann mit\n",
    "# ? angezeigt werden\n",
    "import math\n",
    "math.sin?"
   ]
  },
  {
   "cell_type": "markdown",
   "metadata": {
    "slideshow": {
     "slide_type": "slide"
    }
   },
   "source": [
    "# Organisation"
   ]
  },
  {
   "cell_type": "markdown",
   "metadata": {},
   "source": [
    "* In [Moodle](https://moodle.hs-augsburg.de/mod/page/view.php?id=21646) finden Sie die Regelungen zur Prüfungszulassung.\n",
    "* Fragen können Sie jederzeit stellen.\n",
    "* Sie können und sollen aus meiner Sicht Einfluß auf den Verlauf der Veranstaltung nehmen.\n",
    "* Notebooks sind nicht statisch, sondern dynamisch - Interaktion und spontane Beispiele sind möglich."
   ]
  },
  {
   "cell_type": "markdown",
   "metadata": {
    "slideshow": {
     "slide_type": "subslide"
    }
   },
   "source": [
    "## Fragen"
   ]
  },
  {
   "cell_type": "markdown",
   "metadata": {},
   "source": [
    "\\begin{enumerate}\n",
    "\\item Welche offenen Fragen gibt es bezüglich der Moodle-Inhalte?\n",
    "\\item Welche Fähigkeiten werden Sie für die Projektarbeit im nächsten Semester benötigen?\n",
    "\\end{enumerate}"
   ]
  },
  {
   "cell_type": "markdown",
   "metadata": {
    "slideshow": {
     "slide_type": "slide"
    }
   },
   "source": [
    "# Python"
   ]
  },
  {
   "cell_type": "markdown",
   "metadata": {},
   "source": [
    "Fragen:\n",
    "\n",
    "1. [Wer](https://gvanrossum.github.io//images/DO6GvRhi.gif) hat's erfunden?\n",
    "1. Wo kommt der [Name](http://assets1.ignimgs.com/2006/04/12/monty-pythons-flying-circus-terry-jones-personal-best-20060412031845982-1466160.jpg) dieser Programmiersprache her? \n",
    "1. Was wissen Sie schon über Python?\n",
    "1. Was bedeutet [Batteries Included](http://slideplayer.com/slide/5364276/17/images/2/Introduction+to+Python.jpg) im Zusammenhang mit Python?"
   ]
  },
  {
   "cell_type": "markdown",
   "metadata": {
    "slideshow": {
     "slide_type": "subslide"
    }
   },
   "source": [
    "## Quellen und Ergänzungen"
   ]
  },
  {
   "cell_type": "markdown",
   "metadata": {},
   "source": [
    "Einen Artikel zur Verwendung von IPython in der Lehre finden Sie unter https://us.pycon.org/2013/schedule/presentation/122\n",
    "\n",
    "Eine sehr unterhaltsame Präsentation \"Why I love Python\" gibt es hier: http://www.slideshare.net/didip/why-i-love-python"
   ]
  },
  {
   "cell_type": "markdown",
   "metadata": {
    "slideshow": {
     "slide_type": "subslide"
    }
   },
   "source": [
    "## (I)Python"
   ]
  },
  {
   "cell_type": "markdown",
   "metadata": {},
   "source": [
    "Die folgenden Zellen erzeugen eine Datei und geben diese dann zeilenweise aus"
   ]
  },
  {
   "cell_type": "code",
   "execution_count": null,
   "metadata": {
    "collapsed": true,
    "slideshow": {
     "slide_type": "subslide"
    }
   },
   "outputs": [],
   "source": [
    "%%file test.txt\n",
    "Das ist ein Test (erste Zeile).\n",
    "Das ist die zweite Zeile, auf die eine Leerzeile folgt.\n",
    "\n",
    "Ende."
   ]
  },
  {
   "cell_type": "code",
   "execution_count": null,
   "metadata": {
    "collapsed": true,
    "slideshow": {
     "slide_type": "subslide"
    }
   },
   "outputs": [],
   "source": [
    "with open('test.txt') as in_file:\n",
    "    for line in in_file:\n",
    "        print(line, end='')"
   ]
  },
  {
   "cell_type": "markdown",
   "metadata": {
    "slideshow": {
     "slide_type": "fragment"
    }
   },
   "source": [
    "\\begin{enumerate}\n",
    "\\item Wie sieht ein Java-Programm mit der gleichen Funktionalität aus?\n",
    "\\item Diskutieren Sie die Unterschiede zwischen dem Java- und dem Python-Programm mit Ihren Kommilitonen.\n",
    "\\end{enumerate}"
   ]
  },
  {
   "cell_type": "markdown",
   "metadata": {
    "slideshow": {
     "slide_type": "subslide"
    }
   },
   "source": [
    "## Objektorientierung und dynamische (**aber starke**) Typisierung"
   ]
  },
  {
   "cell_type": "code",
   "execution_count": null,
   "metadata": {
    "collapsed": true
   },
   "outputs": [],
   "source": [
    "a = 35\n",
    "print(type(a))"
   ]
  },
  {
   "cell_type": "markdown",
   "metadata": {},
   "source": [
    "Die Methoden eines Objekts werden im Notebook durch Betägigung der Tabulator-Taste angezeigt:"
   ]
  },
  {
   "cell_type": "code",
   "execution_count": null,
   "metadata": {
    "collapsed": true
   },
   "outputs": [],
   "source": [
    "a."
   ]
  },
  {
   "cell_type": "code",
   "execution_count": null,
   "metadata": {
    "collapsed": true
   },
   "outputs": [],
   "source": [
    "b = 'Python'\n",
    "print(type(b))\n",
    "print(a+b)"
   ]
  },
  {
   "cell_type": "markdown",
   "metadata": {
    "slideshow": {
     "slide_type": "subslide"
    }
   },
   "source": [
    "## Python: Philosophie"
   ]
  },
  {
   "cell_type": "code",
   "execution_count": null,
   "metadata": {
    "collapsed": true
   },
   "outputs": [],
   "source": [
    "import this"
   ]
  },
  {
   "cell_type": "markdown",
   "metadata": {
    "slideshow": {
     "slide_type": "slide"
    }
   },
   "source": [
    "# Handlungsreisende und Kanonen"
   ]
  },
  {
   "cell_type": "markdown",
   "metadata": {},
   "source": [
    "Zwei überschaubare Aufgaben werden im Verlauf der Vorlesung von unterschiedlichen Seiten beleuchtet. "
   ]
  },
  {
   "cell_type": "markdown",
   "metadata": {
    "slideshow": {
     "slide_type": "subslide"
    }
   },
   "source": [
    "## Problem des Handlungsreisenden"
   ]
  },
  {
   "cell_type": "markdown",
   "metadata": {},
   "source": [
    "Gegeben sind $N$ Orte mit den zweidimensionale Positionen\n",
    "$(x_1, y_1), (x_2, y_2), \\; \\dots\\; (x_N, y_N)$. Gesucht ist der kürzeste Rundweg, der alle Orte miteinander verbindet. Anschaulich kann man sich die Orte als Städte vorstellen. Ein Handlungsreisender möchte jede Stadt genau einmal besuchen, wobei die Reise an dem Ort enden soll,\n",
    "an dem sie begonnen hat und die insgesamt zurückzulegende Strecke möglichst kurz sein soll.\n",
    "\n",
    "Bitte beachten Sie, dass der Algorithmus von Dijkstra auch ein Problem löst, aber nicht dieses ...\n",
    "\n",
    "Weitere Details finden Sie z.B. im entsprechenden Wikipedia-Eintrag unter http://de.wikipedia.org/wiki/Problem_des_Handlungsreisenden"
   ]
  },
  {
   "cell_type": "markdown",
   "metadata": {
    "slideshow": {
     "slide_type": "subslide"
    }
   },
   "source": [
    "## $\\pi$ nach Monte Carlo"
   ]
  },
  {
   "cell_type": "markdown",
   "metadata": {},
   "source": [
    "Monte-Carlo Simulationen benutzen Zufallszahlen, um eine große Zahl von Experimenten durchzuführen. In unserem Fall soll aus den Ergebnissen der Experimente die Zahl $\\pi$ bestimmt werden. Dazu werden viele Paare von Zufallszahlen $(x_i, y_i), \\; i = 1 \\dots N,\\; x_i, y_i \\in [-1, 1]$ bestimmt. Jedes Paar wird als zweidimensionale Position interpretiert und es wird festgestellt, ob diese Position innerhalb des Einheitskreises liegt oder nicht. "
   ]
  },
  {
   "cell_type": "markdown",
   "metadata": {
    "slideshow": {
     "slide_type": "subslide"
    }
   },
   "source": [
    "So ergibt sich die Anzahl von Punkten $N_{\\rm Treffer}$, die innerhalb des Einheitskreises liegen. Das Verhältnis von Treffern zu Gesamtversuchen entspricht dem Verhältnis der Flächen von Einheitskreis und Quadrat mit der Kantenlänge 2, es gilt\n",
    "also\n",
    "$$\n",
    "\\frac{N_{\\rm Treffer}}{N} = \\frac{F_{\\rm Kreis}}{F_{\\rm Quadrat}} = \\frac{\\pi}{4}\n",
    "$$\n",
    "\n",
    "Ein Skizze für den Viertelkreis finden Sie bei Wikipedia: http://de.wikipedia.org/wiki/Monte-Carlo-Simulation"
   ]
  },
  {
   "cell_type": "markdown",
   "metadata": {
    "slideshow": {
     "slide_type": "slide"
    }
   },
   "source": [
    "## Beispiele - Frage"
   ]
  },
  {
   "cell_type": "markdown",
   "metadata": {},
   "source": [
    "Nehmen Sie an, ein Programm, das das TSP (\"Travelling Salesman Problem\") \"naiv\" löst, also alle Möglichkeiten durchprobiert, benötigt 1 Sekunde, um den kürzesten Rundweg durch 10 Städte zu finden. Wie lange braucht das Programm, um den kürzesten Rundweg durch 20 Städte zu finden?"
   ]
  },
  {
   "cell_type": "markdown",
   "metadata": {
    "slideshow": {
     "slide_type": "slide"
    }
   },
   "source": [
    "## Semester-Projekt"
   ]
  },
  {
   "cell_type": "markdown",
   "metadata": {},
   "source": [
    "Die Aufgabenstellung finden Sie im [Moodle-System](https://moodle.hs-augsburg.de/mod/resource/view.php?id=21649)\n",
    "\n",
    "Lernziele:\n",
    "1. Einarbeitung in die mathematische Beschreibung eines Problems.\n",
    "1. Methodik zur systematischen Erstellung optimierter Software aus einer theoretischen Darstellung.\n",
    "1. Teamarbeit (Gruppen aus fünf Studierenden]).\n",
    "1. Eigenverantwortliches Experimentieren."
   ]
  },
  {
   "cell_type": "markdown",
   "metadata": {
    "slideshow": {
     "slide_type": "slide"
    }
   },
   "source": [
    "# Übungsaufgaben, Abgabe/Vorführung spätestens am 12.10.2017"
   ]
  },
  {
   "cell_type": "markdown",
   "metadata": {},
   "source": [
    "\\begin{enumerate}\n",
    "\\item Falls Sie IPython-Notebooks auf Ihrem eigenen Rechner verwenden wollen, installieren Sie die virtuelle Maschine. Unterstützung erhalten Sie vom Dozenten.\n",
    "\\item Erzeugen Sie eine Code-Zelle, geben Sie *import this* ein und diskutieren Sie die Ausgabe mit Ihren Kommilitonen.\n",
    "\\item Geben Sie einen Algorithmus in Pseudo-Code an, der $\\pi$ mit der Monte Carlo-Methode bestimmt.\n",
    "item Geben Sie einen Algorithmus in Pseudo-Code an, der das Problem des Handlungsreisenden naiv (d.h. rekursiv ohne Optimierungen) löst.\n",
    "\\end{enumerate}"
   ]
  },
  {
   "cell_type": "markdown",
   "metadata": {
    "slideshow": {
     "slide_type": "slide"
    }
   },
   "source": [
    "# Überprüfung"
   ]
  },
  {
   "cell_type": "markdown",
   "metadata": {},
   "source": [
    "\\begin{enumerate}\n",
    "\\item Erklären Sie, was \"dynamische Typisierung\" bedeutet.\n",
    "\\item Wie viele Lochkarten würden Sie benötigen, um den aktuellen Inhalt Ihres USB-Sticks zu speichern? (Hinweis: Ein Karton enthält 2000 Lochkarten, auf eine Palette passen 45 Kartons, siehe http://en.wikipedia.org/wiki/File:IBM_card_storage.NARA.jpg).\n",
    "\\end{enumerate}"
   ]
  }
 ],
 "metadata": {
  "kernelspec": {
   "display_name": "Python [conda root]",
   "language": "python",
   "name": "conda-root-py"
  },
  "language_info": {
   "codemirror_mode": {
    "name": "ipython",
    "version": 3
   },
   "file_extension": ".py",
   "mimetype": "text/x-python",
   "name": "python",
   "nbconvert_exporter": "python",
   "pygments_lexer": "ipython3",
   "version": "3.6.3"
  },
  "latex_envs": {
   "LaTeX_envs_menu_present": true,
   "autocomplete": true,
   "bibliofile": "biblio.bib",
   "cite_by": "apalike",
   "current_citInitial": 1.0,
   "eqLabelWithNumbers": true,
   "eqNumInitial": 1.0,
   "hotkeys": {
    "equation": "Ctrl-E",
    "itemize": "Ctrl-I"
   },
   "labels_anchors": false,
   "latex_user_defs": false,
   "report_style_numbering": false,
   "user_envs_cfg": false
  }
 },
 "nbformat": 4,
 "nbformat_minor": 1
}
