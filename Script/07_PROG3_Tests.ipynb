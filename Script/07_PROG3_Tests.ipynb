{
 "cells": [
  {
   "cell_type": "markdown",
   "metadata": {
    "slideshow": {
     "slide_type": "slide"
    }
   },
   "source": [
    "Programmieren 3 - Testen\n",
    "\n",
    "Erich Seifert, Peter Rösch, Fakultät für Informatik\n",
    "\n",
    "Hochschule Augsburg, 2017/2018"
   ]
  },
  {
   "cell_type": "markdown",
   "metadata": {
    "slideshow": {
     "slide_type": "slide"
    }
   },
   "source": [
    "# Nachträge und Ergänzungen"
   ]
  },
  {
   "cell_type": "markdown",
   "metadata": {
    "slideshow": {
     "slide_type": "subslide"
    }
   },
   "source": [
    "## Generatoren und zip"
   ]
  },
  {
   "cell_type": "markdown",
   "metadata": {},
   "source": [
    "In Python3 erzeugt *zip* keine Liste, sondern ein Objekt vom Typ *zip*. "
   ]
  },
  {
   "cell_type": "code",
   "execution_count": null,
   "metadata": {
    "collapsed": true
   },
   "outputs": [],
   "source": [
    "def einmaleins_generator_endlich(k, n):\n",
    "    for i in range(1, n+1):\n",
    "        yield i * k"
   ]
  },
  {
   "cell_type": "code",
   "execution_count": null,
   "metadata": {
    "collapsed": true,
    "slideshow": {
     "slide_type": "fragment"
    }
   },
   "outputs": [],
   "source": [
    "result_1 = zip(einmaleins_generator_endlich(2, 10), \n",
    "               einmaleins_generator_endlich(7, 10))"
   ]
  },
  {
   "cell_type": "code",
   "execution_count": null,
   "metadata": {
    "collapsed": true,
    "slideshow": {
     "slide_type": "fragment"
    }
   },
   "outputs": [],
   "source": [
    "list(result_1)"
   ]
  },
  {
   "cell_type": "code",
   "execution_count": null,
   "metadata": {
    "collapsed": true,
    "slideshow": {
     "slide_type": "subslide"
    }
   },
   "outputs": [],
   "source": [
    "def einmaleins_generator_unendlich(k):\n",
    "    vielfaches = 0\n",
    "    while True:\n",
    "        vielfaches += k\n",
    "        yield vielfaches"
   ]
  },
  {
   "cell_type": "code",
   "execution_count": null,
   "metadata": {
    "collapsed": true,
    "slideshow": {
     "slide_type": "fragment"
    }
   },
   "outputs": [],
   "source": [
    "result_2 = zip(einmaleins_generator_unendlich(2), \n",
    "               einmaleins_generator_unendlich(7))"
   ]
  },
  {
   "cell_type": "markdown",
   "metadata": {
    "slideshow": {
     "slide_type": "fragment"
    }
   },
   "source": [
    "Frage: Warum ist es keine Idee, *result_2* in eine Liste umzuwandeln?"
   ]
  },
  {
   "cell_type": "code",
   "execution_count": null,
   "metadata": {
    "collapsed": true,
    "slideshow": {
     "slide_type": "fragment"
    }
   },
   "outputs": [],
   "source": [
    "l = []\n",
    "for _ in range(10):\n",
    "    l.append(next(result_2))\n",
    "print(l)"
   ]
  },
  {
   "cell_type": "markdown",
   "metadata": {
    "slideshow": {
     "slide_type": "subslide"
    }
   },
   "source": [
    "## TSP - Alternativer Ansatz mit einem Permutations-Generator"
   ]
  },
  {
   "cell_type": "markdown",
   "metadata": {
    "slideshow": {
     "slide_type": "fragment"
    }
   },
   "source": [
    "Idee: Ein Generator erzeugt alle Permutationen einer Sequenz.\n",
    "    \n",
    "Quelle: http://code.activestate.com/recipes/252178"
   ]
  },
  {
   "cell_type": "code",
   "execution_count": null,
   "metadata": {
    "collapsed": true,
    "slideshow": {
     "slide_type": "subslide"
    }
   },
   "outputs": [],
   "source": [
    "def all_perms(seq):\n",
    "    if len(seq) <= 1: \n",
    "        yield seq\n",
    "    else:\n",
    "        for i in range(len(seq)):\n",
    "            for p in all_perms(seq[:i] + seq[i+1:]):\n",
    "                yield seq[i:i+1] + p"
   ]
  },
  {
   "cell_type": "code",
   "execution_count": null,
   "metadata": {
    "collapsed": true,
    "slideshow": {
     "slide_type": "subslide"
    }
   },
   "outputs": [],
   "source": [
    "# Frage: Warum wird der Ausdruck seq[i:i+1] benutzt\n",
    "l=[1,2,3]\n",
    "print(type(l[0]))\n",
    "print(type(l[0:1]))"
   ]
  },
  {
   "cell_type": "code",
   "execution_count": null,
   "metadata": {
    "collapsed": true,
    "slideshow": {
     "slide_type": "fragment"
    }
   },
   "outputs": [],
   "source": [
    "for p in all_perms([1, 2, 3, 4]):\n",
    "    print(p)"
   ]
  },
  {
   "cell_type": "markdown",
   "metadata": {
    "slideshow": {
     "slide_type": "slide"
    }
   },
   "source": [
    "# Verwendete Komponenten"
   ]
  },
  {
   "cell_type": "markdown",
   "metadata": {},
   "source": [
    "Die folgenden speziellen Pakete werden benötigt:\n",
    "\n",
    "    nose\n",
    "    coverage\n",
    "    \n",
    "**Hinweis:** Für den Benutzer *pyoneer* der virtuellen Maschine *pyBox* sind diese Pakete bereits installiert und korrekt konfiguriert."
   ]
  },
  {
   "cell_type": "markdown",
   "metadata": {
    "slideshow": {
     "slide_type": "slide"
    }
   },
   "source": [
    "# Quellen"
   ]
  },
  {
   "cell_type": "markdown",
   "metadata": {},
   "source": [
    "* Steve Mc Connell: \"Code Complete\", Microsoft Press, [eBook (Safari)](http://proquest.tech.safaribooksonline.de/book/software-engineering-and-development/9783860635933)\n",
    "* Dan Pilone, Russ Miles: \"Softwareentwicklung von Kopf bis Fuß\", O'Reilly, [eBook (Safari)](http://proquest.tech.safaribooksonline.de/book/software-engineering-and-development/9783897218628)\n",
    "* Dusty Phillips: \"Python 3 Object Oriented Programming\", PACKT Publishing, [eBook (Safari)](http://proquest.tech.safaribooksonline.de/book/programming/python/9781849511261)\n",
    "* Tarek Ziadé: \"Expert Python Programming\", PACKT Publishing, [eBook (Safari)](http://proquest.tech.safaribooksonline.de/book/programming/python/9781847194947)"
   ]
  },
  {
   "cell_type": "markdown",
   "metadata": {
    "slideshow": {
     "slide_type": "slide"
    }
   },
   "source": [
    "# Testumgebungen schaffen mit *conda create*"
   ]
  },
  {
   "cell_type": "markdown",
   "metadata": {
    "slideshow": {
     "slide_type": "subslide"
    }
   },
   "source": [
    "**Situation:** Oft sind auf unterschiedlichen Systemen unterschiedliche Python-Versionen sowie unterschiedliche Versionen von Erweiterungspaketen installiert."
   ]
  },
  {
   "cell_type": "markdown",
   "metadata": {
    "slideshow": {
     "slide_type": "fragment"
    }
   },
   "source": [
    "**Frage:** Wie können Sie vorgehen, um Software für bestimmte Zielsysteme auf Ihrem Rechner zu testen?"
   ]
  },
  {
   "cell_type": "markdown",
   "metadata": {
    "slideshow": {
     "slide_type": "fragment"
    }
   },
   "source": [
    "**Möglickeit:** Erstellen unterschiedlicher Umgebungen (*conda create*), siehe [Dokumentation](https://docs.anaconda.com/docs_oss/conda/commands/conda-create)."
   ]
  },
  {
   "cell_type": "markdown",
   "metadata": {
    "slideshow": {
     "slide_type": "subslide"
    }
   },
   "source": [
    "## Python-Umgebung für Tests oder Experimente "
   ]
  },
  {
   "cell_type": "markdown",
   "metadata": {},
   "source": [
    "Eine neue Umgebung *myPy27* mit python 2.7 und ipython erstellen Sie mit\n",
    "\n",
    "    conda create -n myPy27 python=2.7 ipython\n",
    "    \n",
    "Anschließend können Sie die neue Umgebung aktivieren ...\n",
    "\n",
    "    source activate myPy27\n",
    "    \n",
    "und Zusatzpakete lokal installieren\n",
    "\n",
    "    conda install sympy\n",
    "    \n",
    "Um wieder zur Standard-Installation zurückzukehren verwenden Sie den Befehl\n",
    "\n",
    "    source deactivate\n",
    "    \n",
    "Sobald Ihre Experimente beendet sind, können Sie die Umgebung wieder löschen mit\n",
    "\n",
    "    conda remove -n myPy27 --all"
   ]
  },
  {
   "cell_type": "markdown",
   "metadata": {
    "slideshow": {
     "slide_type": "slide"
    }
   },
   "source": [
    "# Testen - Einführung"
   ]
  },
  {
   "cell_type": "markdown",
   "metadata": {},
   "source": [
    "## Motivation und Realität"
   ]
  },
  {
   "cell_type": "markdown",
   "metadata": {},
   "source": [
    "Frage: Was hat [dieses Bild](http://www.carlagoldenwellness.com/wp-content/uploads/2012/08/bananastages.jpg) mit Tests zu tun?"
   ]
  },
  {
   "cell_type": "markdown",
   "metadata": {},
   "source": [
    "Es gibt eine Menge gute Argumente dafür, Software zu testen. \n",
    "\n",
    "**Aufgabe:** Stellen Sie zwei Listen zusammen: \n",
    "\n",
    "1. Gründe, warum systematische Tests in jedem Software-Projekt durchgeführt werden sollten.\n",
    "1. Gründe, warum dies in der Praxis oft nicht geschieht.\n",
    "1. Konkrete Beispiele, bei denen der Verzicht auf Tests unangenehme Konsequenzen hatte.\n",
    "\n",
    "Die oben angegebenen Quellen können für diese Aufgabe sehr hilfreich sein, insbesondere das Buch \"Code Complete\"."
   ]
  },
  {
   "cell_type": "markdown",
   "metadata": {
    "slideshow": {
     "slide_type": "slide"
    }
   },
   "source": [
    "## Test Driven Development (TDD)"
   ]
  },
  {
   "cell_type": "markdown",
   "metadata": {},
   "source": [
    "**Aufgabenstellung zu einem Getränkeautomaten:**\n",
    "\n",
    "Sobald Sie eine passende Münze in einen Getränke-Automaten werfen und die Auswahl-Taste drücken, wird eine Flasche Mineralwasser oder Limonade (je nach Auswahl) ausgegeben. Eine nicht passende Münze wird beim Drücken des Auswahl-Knopfs an Sie zurückgegeben. Nach Ausgabe des Getränks wartet der Automat auf eine neue Münze.\n",
    "\n",
    "**Frage:** können Sie aus dieser Spezifikation Tests ableiten?"
   ]
  },
  {
   "cell_type": "markdown",
   "metadata": {
    "slideshow": {
     "slide_type": "subslide"
    }
   },
   "source": [
    "## Test-Skript"
   ]
  },
  {
   "cell_type": "markdown",
   "metadata": {},
   "source": [
    "Um ein Test-Skript erstellen zu können, müssen die Schnittstellen geklärt sein:"
   ]
  },
  {
   "cell_type": "markdown",
   "metadata": {
    "collapsed": true
   },
   "source": [
    "    import getraenkeAutomat\n",
    "\n",
    "    # Instanz erzeugen\n",
    "    g = GetraenkeAutomat()\n",
    "    # Die richtige Münze einwerfen\n",
    "    g.eingabe('50Cent')\n",
    "    # Getränk wählen\n",
    "    g.auswahl('Limonade')"
   ]
  },
  {
   "cell_type": "markdown",
   "metadata": {
    "slideshow": {
     "slide_type": "slide"
    }
   },
   "source": [
    "**Fragen:** \n",
    "\n",
    "1. Welche Punkte, die in der Aufgabenstellung offen geblieben sind, werden durch dieses Test-Skript geklärt?\n",
    "1. Welche Fragen sind weiterhin offen (Liste)?"
   ]
  },
  {
   "cell_type": "markdown",
   "metadata": {
    "slideshow": {
     "slide_type": "slide"
    }
   },
   "source": [
    "## Doctests"
   ]
  },
  {
   "cell_type": "markdown",
   "metadata": {},
   "source": [
    "Oft läßt sich die Funktionalität einer Funktion, einer Klasse oder eines Moduls gut anhand eines Tutorials erklären, das auch Beispiele enthält. "
   ]
  },
  {
   "cell_type": "markdown",
   "metadata": {
    "slideshow": {
     "slide_type": "slide"
    }
   },
   "source": [
    "## 5.5 Der Getränkeautomat - Tutorial"
   ]
  },
  {
   "cell_type": "markdown",
   "metadata": {},
   "source": [
    "> Sobald Sie eine passende Münze in einen Getränke-Automaten werfen und die Auswahl-Taste drücken, wird eine Flasche Mineralwasser oder Limonade  (je nach Auswahl) ausgegeben.\n",
    "\n",
    "> Nach Ausgabe des Getränks wartet der Automat auf eine neue Münze."
   ]
  },
  {
   "cell_type": "markdown",
   "metadata": {
    "slideshow": {
     "slide_type": "subslide"
    }
   },
   "source": [
    "Zunächst muss das Modul importiert und dann eine Instanz erzeugt werden:\n",
    "    >>> from meineAutomaten import Getraenkeautomat\n",
    "    >>> g = Getraenkeautomat()\n",
    "\n",
    "Anschließend kann der aktuelle Zustand und die verfügbaren Befehle ausgegeben werden:\n",
    "    >>> g.zustandsAusgabe()\n",
    "    Zustand:  Anfang\n",
    "    Befehle:  ['50Cent', '1Cent', '2Cent', '5Cent', '10Cent', '20Cent', '1Euro', '2Euro', 'beenden']"
   ]
  },
  {
   "cell_type": "markdown",
   "metadata": {
    "slideshow": {
     "slide_type": "subslide"
    }
   },
   "source": [
    "    \n",
    "Ein Getränk kostet 50 Cent:\n",
    "    >>> g.eingabe('50Cent')\n",
    "    Ausgabe: Bitte wählen\n",
    "    >>> g.zustandsAusgabe()\n",
    "    Zustand:  Auswahl\n",
    "    Befehle:  ['Limonade', 'Mineralwasser', 'beenden']"
   ]
  },
  {
   "cell_type": "markdown",
   "metadata": {
    "slideshow": {
     "slide_type": "slide"
    }
   },
   "source": [
    "    \n",
    "Wir wollen Limonade:\n",
    "    >>> g.eingabe('Limonade')\n",
    "    Ausgabe: Bitte Limonade entnehmen\n",
    "\n",
    "In welchem Zustand ist der Automat jetzt?\n",
    "    >>> g.zustandsAusgabe()\n",
    "    Zustand:  Anfang\n",
    "    Befehle:  ['50Cent', '1Cent', '2Cent', '5Cent', '10Cent', '20Cent', '1Euro', '2Euro', 'beenden']"
   ]
  },
  {
   "cell_type": "markdown",
   "metadata": {
    "slideshow": {
     "slide_type": "subslide"
    }
   },
   "source": [
    "> Eine nicht passende Münze wird beim Drücken des \n",
    "Auswahl-Knopfs an Sie zurückgegeben.\n",
    "\n",
    "Was passiert, wenn wir 10 Cent einwerfen?\n",
    "    >>> g.eingabe('10Cent')\n",
    "    Ausgabe: eingabeSpeichern\n",
    "    >>> g.zustandsAusgabe()\n",
    "    Zustand:  falscheMünze\n",
    "    Befehle:  ['Limonade', 'Mineralwasser', 'beenden']\n",
    "    >>> g.eingabe('Limonade')\n",
    "    Ausgabe: 10Cent\n",
    "    >>> g.zustandsAusgabe()\n",
    "    Zustand:  Anfang\n",
    "    Befehle:  ['50Cent', '1Cent', '2Cent', '5Cent', '10Cent', '20Cent', '1Euro', '2Euro', 'beenden']"
   ]
  },
  {
   "cell_type": "markdown",
   "metadata": {
    "slideshow": {
     "slide_type": "subslide"
    }
   },
   "source": [
    "Welche Details zur Spezifikation können Sie aus dem Tutorial ableiten?"
   ]
  },
  {
   "cell_type": "markdown",
   "metadata": {
    "slideshow": {
     "slide_type": "subslide"
    }
   },
   "source": [
    "Das Modul *doctest* erlaubt es, Test-Anweisungen in Kommentaren zu finden und auszuführen:"
   ]
  },
  {
   "cell_type": "code",
   "execution_count": null,
   "metadata": {
    "collapsed": true,
    "slideshow": {
     "slide_type": "subslide"
    }
   },
   "outputs": [],
   "source": [
    "import math\n",
    "def verdopplungs_funktion(x):\n",
    "    \"\"\" Diese Funktion gibt das mit zwei multiplizierte Argument zurück\n",
    "        @arg x Referenz auf das zu verdoppelnde Objekt\n",
    "        @return 2 * x\n",
    "        \n",
    "        >>> [ verdopplungs_funktion(i) for i in [1, 2, 'na'] ]\n",
    "        [2, 4, 'nana']\n",
    "        >>> verdopplungs_funktion(math.sin) #doctest: +IGNORE_EXCEPTION_DETAIL\n",
    "        Traceback (most recent call last):\n",
    "        TypeError: \n",
    "    \"\"\"\n",
    "    return 2 * x\n",
    "\n",
    "if __name__ == \"__main__\":\n",
    "    import doctest\n",
    "    doctest.testmod() "
   ]
  },
  {
   "cell_type": "markdown",
   "metadata": {
    "slideshow": {
     "slide_type": "subslide"
    }
   },
   "source": [
    "Falls keine Fehler auftreten, wird nichts ausgegeben.\n",
    "\n",
    "**Aufgabe:** Experimentieren Sie mit dem oben gegebenen Beispiel und finden sie heraus, was passiert, wenn Sie folgende Zeile in den doctest einbauen:\n",
    "    >>> verdopplungsFunktion([1, 2, 3])\n",
    "    [1, 2, 3, 1, 2, 4]"
   ]
  },
  {
   "cell_type": "markdown",
   "metadata": {
    "slideshow": {
     "slide_type": "subslide"
    }
   },
   "source": [
    "Auch die Tests, die im Tutorial für den Getränkeautomaten enthalten sind, können ausgeführt werden. Falls sich das Tutorial unter dem Namen *tutorial.txt* im Verzeichnis */tmp* befindet und das Modul *meineAutomaten* importiert werden kann, liefert folgendes Skript genau dann keine Ausgabe, wenn alle Tests die erwartete Ausgabe produzieren:\n",
    "\n",
    "    import doctest, os\n",
    "    os.chdir('/tmp')\n",
    "    doctest.testfile('tutorial.txt')"
   ]
  },
  {
   "cell_type": "markdown",
   "metadata": {
    "slideshow": {
     "slide_type": "slide"
    }
   },
   "source": [
    "# 6. Unittests mit Python"
   ]
  },
  {
   "cell_type": "markdown",
   "metadata": {
    "slideshow": {
     "slide_type": "subslide"
    }
   },
   "source": [
    "## 6.1 Unittests - Idee"
   ]
  },
  {
   "cell_type": "markdown",
   "metadata": {},
   "source": [
    "Eine Beschreibung der Unittest-Methodik finden Sie in den oben genannten Quellen oder auf den Seiten von [Wikipedia](http://de.wikipedia.org/wiki/Unit_test). \n",
    "\n",
    "**Fragen:**\n",
    "\n",
    "1. Welche Voraussetzungen müssen erfüllt sein, damit Unittests funktionieren?\n",
    "1. Was ist eine \"Unit\"?"
   ]
  },
  {
   "cell_type": "markdown",
   "metadata": {
    "slideshow": {
     "slide_type": "subslide"
    }
   },
   "source": [
    "## Unit-Tests mit Python"
   ]
  },
  {
   "cell_type": "markdown",
   "metadata": {},
   "source": [
    "Folgende Klasse, die besonders leicht zu testen ist, dient als Beispiel für Unittests:"
   ]
  },
  {
   "cell_type": "code",
   "execution_count": null,
   "metadata": {
    "collapsed": true,
    "slideshow": {
     "slide_type": "subslide"
    }
   },
   "outputs": [],
   "source": [
    "from __future__ import division\n",
    "\n",
    "class ZahlenManipulator(object):\n",
    "    \n",
    "    def __init__(self, w=None):\n",
    "        self.__wert  = w\n",
    "    \n",
    "    def get_wert(self):\n",
    "        return self.__wert\n",
    "    \n",
    "    def set_wert(self, w):\n",
    "        self.__wert = w\n",
    "        \n",
    "    def addieren(self, a):\n",
    "        self.__wert += a\n",
    "    \n",
    "    def subtrahieren(self, a):\n",
    "        self.__wert -= a\n",
    "        \n",
    "    def dividieren(self, a):\n",
    "        self.__wert /= a\n",
    "    \n",
    "    def multiplizieren(self, a):\n",
    "        self.__wert *= a"
   ]
  },
  {
   "cell_type": "markdown",
   "metadata": {
    "slideshow": {
     "slide_type": "subslide"
    }
   },
   "source": [
    "Eine von *unittest.TestCase* abgeleitete Klasse definiert die Test-Methoden, deren Namen mit *test_* beginnen:"
   ]
  },
  {
   "cell_type": "code",
   "execution_count": null,
   "metadata": {
    "collapsed": true
   },
   "outputs": [],
   "source": [
    "import unittest\n",
    "\n",
    "class ZahlenManipulatorTest(unittest.TestCase):\n",
    "    \n",
    "    def setUp(self):\n",
    "        self.__zahlenManipulator = ZahlenManipulator()\n",
    "        \n",
    "    def test_addieren(self):\n",
    "        self.__zahlenManipulator.set_wert(38)\n",
    "        self.__zahlenManipulator.addieren(4)\n",
    "        self.assertEqual(self.__zahlenManipulator.get_wert(), 42)\n",
    "\n",
    "    def test_division_multiplikation(self):\n",
    "        self.__zahlenManipulator.set_wert(1)\n",
    "        self.__zahlenManipulator.dividieren(4012)\n",
    "        self.__zahlenManipulator.multiplizieren(8024)\n",
    "        # warum geht folgender Test schief?\n",
    "        self.assertEqual(self.__zahlenManipulator.get_wert(), 2)\n",
    "        # so geht's\n",
    "        self.assertAlmostEqual(self.__zahlenManipulator.get_wert(), 2)"
   ]
  },
  {
   "cell_type": "markdown",
   "metadata": {
    "slideshow": {
     "slide_type": "subslide"
    }
   },
   "source": [
    "Die Test-Methoden werden in einer test-Suite zusammengefaßt und anschließend ausgeführt:"
   ]
  },
  {
   "cell_type": "code",
   "execution_count": null,
   "metadata": {
    "collapsed": true
   },
   "outputs": [],
   "source": [
    "import unittest\n",
    "suite = unittest.TestLoader().loadTestsFromTestCase(ZahlenManipulatorTest)\n",
    "unittest.TextTestRunner(verbosity=1).run(suite)"
   ]
  },
  {
   "cell_type": "markdown",
   "metadata": {
    "slideshow": {
     "slide_type": "subslide"
    }
   },
   "source": [
    "**Aufgaben:**\n",
    "\n",
    "1. Begründen Sie, warum einer der oben definierten Tests nicht erfolgreich ist und korrigieren Sie die Klasse TestZahlenManipulator so, dass alle Tests erfolgreich verlaufen. Hinweis: es muss nur die letzte Zeile geändert werden.\n",
    "1. Verschaffen Sie sich einen Überblick über das Paket *unittest* in der [Python-Dokumentation](http://docs.python.org/3.2/library/unittest.html)."
   ]
  },
  {
   "cell_type": "markdown",
   "metadata": {
    "slideshow": {
     "slide_type": "subslide"
    }
   },
   "source": [
    "## Fakes und Mocks"
   ]
  },
  {
   "cell_type": "markdown",
   "metadata": {},
   "source": [
    "Folgende Funktion nutzt zwar die Klasse *ZahlenManipulator*, soll aber unabhängig von dieser Klasse getestet werden. "
   ]
  },
  {
   "cell_type": "code",
   "execution_count": null,
   "metadata": {
    "collapsed": true,
    "slideshow": {
     "slide_type": "subslide"
    }
   },
   "outputs": [],
   "source": [
    "def werte_tabellen_generator(anfangs_wert, argument, schritt_zahl, operation):\n",
    "    z_m = ZahlenManipulator(anfangs_wert)\n",
    "    operatoren_verzeichnis = {\n",
    "                             '+' : z_m.addieren,\n",
    "                             '-' : z_m.subtrahieren,\n",
    "                             '*' : z_m.multiplizieren,\n",
    "                             '/' : z_m.dividieren\n",
    "                             }\n",
    "    if operation not in operatoren_verzeichnis:\n",
    "        print(\"Fehler: illegale Operation\", operation)\n",
    "    else:\n",
    "        methode = operatoren_verzeichnis[operation]\n",
    "        for i in range(schritt_zahl):\n",
    "            methode(argument)\n",
    "            yield z_m.get_wert()    "
   ]
  },
  {
   "cell_type": "markdown",
   "metadata": {
    "slideshow": {
     "slide_type": "subslide"
    }
   },
   "source": [
    "Hier ist eine Test-Klasse für das unittest-Framework:"
   ]
  },
  {
   "cell_type": "code",
   "execution_count": null,
   "metadata": {
    "collapsed": true
   },
   "outputs": [],
   "source": [
    "import unittest\n",
    "class WerteTabellenGeneratorTest(unittest.TestCase):\n",
    "    def setUp(self):\n",
    "        self.__werte_tabellen_generator = \\\n",
    "            werte_tabellen_generator(0, 1, 5, '+')\n",
    "            \n",
    "    def test_additions_sequenz(self):\n",
    "        self.assertEqual(list(self.__werte_tabellen_generator),\n",
    "                         [1, 2, 3, 4, 5])"
   ]
  },
  {
   "cell_type": "markdown",
   "metadata": {
    "slideshow": {
     "slide_type": "subslide"
    }
   },
   "source": [
    "Wir nehmen an, dass es die Klasse ZahlenManipulator (noch) nicht gibt."
   ]
  },
  {
   "cell_type": "code",
   "execution_count": null,
   "metadata": {
    "collapsed": true,
    "slideshow": {
     "slide_type": "subslide"
    }
   },
   "outputs": [],
   "source": [
    "del ZahlenManipulator"
   ]
  },
  {
   "cell_type": "markdown",
   "metadata": {},
   "source": [
    "Der Test kann jetzt nicht funktionieren:"
   ]
  },
  {
   "cell_type": "code",
   "execution_count": null,
   "metadata": {
    "collapsed": true,
    "slideshow": {
     "slide_type": "subslide"
    }
   },
   "outputs": [],
   "source": [
    "if __name__ == '__main__':\n",
    "    suite = unittest.TestLoader().loadTestsFromTestCase(\n",
    "                                    WerteTabellenGeneratorTest)\n",
    "    unittest.TextTestRunner(verbosity=1).run(suite)"
   ]
  },
  {
   "cell_type": "markdown",
   "metadata": {
    "slideshow": {
     "slide_type": "subslide"
    }
   },
   "source": [
    "Um den Test ohne *ZahlenManipulator* durchführen zu können, kann ein Mock-Objekt verwendet werden:"
   ]
  },
  {
   "cell_type": "code",
   "execution_count": null,
   "metadata": {
    "collapsed": true,
    "slideshow": {
     "slide_type": "fragment"
    }
   },
   "outputs": [],
   "source": [
    "from unittest import mock\n",
    "with mock.MagicMock() as ZahlenManipulator:\n",
    "    z = ZahlenManipulator()\n",
    "    z.get_wert.side_effect = [1, 2, 3, 4, 5]\n",
    "    suite = unittest.TestLoader().loadTestsFromTestCase(\n",
    "                                    WerteTabellenGeneratorTest)\n",
    "    unittest.TextTestRunner(verbosity=1).run(suite)\n",
    "    assert len(z.get_wert.mock_calls) == 5"
   ]
  },
  {
   "cell_type": "markdown",
   "metadata": {},
   "source": [
    "**Frage:** Welche Funktion hat Zeile 8? Die [Dokumentation zu *mock*](https://docs.python.org/3/library/unittest.mock-examples.html) ist hilfreich, um die Funktion des Pakets zu verstehen."
   ]
  },
  {
   "cell_type": "markdown",
   "metadata": {
    "slideshow": {
     "slide_type": "subslide"
    }
   },
   "source": [
    "Manchmal möchte man zu Testzwecken auch Funktionen der Standard-Bibliothek \"patchen\":"
   ]
  },
  {
   "cell_type": "code",
   "execution_count": null,
   "metadata": {
    "collapsed": true,
    "slideshow": {
     "slide_type": "fragment"
    }
   },
   "outputs": [],
   "source": [
    "import time\n",
    "from unittest import mock\n",
    "print('Aktuelle Zeit 1:', time.asctime())\n",
    "with mock.patch('time.asctime') as tMock:\n",
    "    tMock.return_value = 'Tue Nov 19 14:33:32 2013'\n",
    "    print('Aktuelle Zeit 2:', time.asctime())\n",
    "time.sleep(1)\n",
    "print('Aktuelle Zeit 3:', time.asctime())"
   ]
  },
  {
   "cell_type": "markdown",
   "metadata": {},
   "source": [
    "**Aufgabe:** Erklären Sie das oben angegebene Beispiel Zeile für Zeile."
   ]
  },
  {
   "cell_type": "markdown",
   "metadata": {
    "slideshow": {
     "slide_type": "subslide"
    }
   },
   "source": [
    "## Unit-Tests - Aufgaben"
   ]
  },
  {
   "cell_type": "markdown",
   "metadata": {},
   "source": [
    "1. Wo liegen die Grenzen von Unittests?\n",
    "1. Beschreiben Sie kurz, wozu Mock-Objekte im Kontext von Unittests eingesetzt werden können."
   ]
  },
  {
   "cell_type": "markdown",
   "metadata": {
    "slideshow": {
     "slide_type": "subslide"
    }
   },
   "source": [
    "# Automatisiert Testen mit nose"
   ]
  },
  {
   "cell_type": "markdown",
   "metadata": {
    "slideshow": {
     "slide_type": "subslide"
    }
   },
   "source": [
    "## nose-Einführung"
   ]
  },
  {
   "cell_type": "markdown",
   "metadata": {},
   "source": [
    "Die Dokumentation zu nose finden Sie [hier](http://nose.readthedocs.org/en/latest/). "
   ]
  },
  {
   "cell_type": "markdown",
   "metadata": {},
   "source": [
    "## nose-Beispiel"
   ]
  },
  {
   "cell_type": "markdown",
   "metadata": {},
   "source": [
    "Das folgende Beispiel packt einige der bisher diskutierten Module in eine Verzeichnis-Struktur. Damit *nose* ein Verzeichnis betrachtet, muss eine Datei *\\_\\_init\\_\\_.py* vorhanden sein."
   ]
  },
  {
   "cell_type": "code",
   "execution_count": null,
   "metadata": {
    "collapsed": true
   },
   "outputs": [],
   "source": [
    "import os\n",
    "\n",
    "dir_tuple = (\n",
    "    '/tmp/noseTests/my_package',\n",
    "    '/tmp/noseTests/test_my_package',\n",
    "    '/tmp/noseTests/tutorials'\n",
    ")\n",
    "\n",
    "for n in dir_tuple:\n",
    "    os.makedirs(n)\n",
    "    with open(n + os.sep + '__init__.py', 'w') as f:\n",
    "        f.write(' ')"
   ]
  },
  {
   "cell_type": "code",
   "execution_count": null,
   "metadata": {
    "collapsed": true
   },
   "outputs": [],
   "source": [
    "%%file /tmp/noseTests/__init__.py\n",
    "\n",
    "def setUpPackage():\n",
    "    pass\n",
    "    \n",
    "def tearDownPackage():\n",
    "    pass"
   ]
  },
  {
   "cell_type": "code",
   "execution_count": null,
   "metadata": {
    "collapsed": true,
    "slideshow": {
     "slide_type": "subslide"
    }
   },
   "outputs": [],
   "source": [
    "%%file /tmp/noseTests/my_package/verdopplung.py\n",
    "\n",
    "# -*- coding: utf-8 -*-\n",
    "import math\n",
    "def verdopplungs_funktion(x):\n",
    "    \"\"\" Diese Funktion gibt das mit zwei multiplizierte Argument zurück\n",
    "        @arg x Referenz auf das zu verdoppelnde Objekt\n",
    "        @return 2 * x\n",
    "        \n",
    "        >>> [ verdopplungs_funktion(i) for i in [1, 2, 'na'] ]\n",
    "        [2, 4, 'nana']\n",
    "        >>> verdopplungs_funktion(math.sin) #doctest: +IGNORE_EXCEPTION_DETAIL\n",
    "        Traceback (most recent call last):\n",
    "        TypeError: \n",
    "    \"\"\"\n",
    "    return 2 * x\n",
    "\n",
    "if __name__ == \"__main__\":\n",
    "    import doctest\n",
    "    doctest.testmod() "
   ]
  },
  {
   "cell_type": "code",
   "execution_count": null,
   "metadata": {
    "collapsed": true,
    "slideshow": {
     "slide_type": "subslide"
    }
   },
   "outputs": [],
   "source": [
    "%%file /tmp/noseTests/my_package/manipulatoren.py\n",
    "\n",
    "from __future__ import division\n",
    "\n",
    "class ZahlenManipulator(object):\n",
    "    \n",
    "    def __init__(self, w=None):\n",
    "        self.__wert  = w\n",
    "    \n",
    "    def get_wert(self):\n",
    "        return self.__wert\n",
    "    \n",
    "    def set_wert(self, w):\n",
    "        self.__wert = w\n",
    "        \n",
    "    def addieren(self, a):\n",
    "        self.__wert += a\n",
    "    \n",
    "    def subtrahieren(self, a):\n",
    "        self.__wert -= a\n",
    "        \n",
    "    def dividieren(self, a):\n",
    "        self.__wert /= a\n",
    "    \n",
    "    def multiplizieren(self, a):\n",
    "        self.__wert *= a"
   ]
  },
  {
   "cell_type": "code",
   "execution_count": null,
   "metadata": {
    "collapsed": true,
    "slideshow": {
     "slide_type": "subslide"
    }
   },
   "outputs": [],
   "source": [
    "%%file /tmp/noseTests/test_my_package/test_manipulatoren.py\n",
    "\n",
    "from my_package.manipulatoren import ZahlenManipulator\n",
    "import unittest\n",
    "\n",
    "class ZahlenManipulatorTest(unittest.TestCase):\n",
    "    \n",
    "    def setUp(self):\n",
    "        self.__zahlenManipulator = ZahlenManipulator()\n",
    "        \n",
    "    def test_addieren(self):\n",
    "        self.__zahlenManipulator.set_wert(38)\n",
    "        self.__zahlenManipulator.addieren(4)\n",
    "        self.assertEqual(self.__zahlenManipulator.get_wert(), 42)\n",
    "\n",
    "    def test_division_multiplikation(self):\n",
    "        self.__zahlenManipulator.set_wert(1)\n",
    "        self.__zahlenManipulator.dividieren(3)\n",
    "        self.__zahlenManipulator.multiplizieren(3)\n",
    "        self.assertEqual(self.__zahlenManipulator.get_wert(), 1)"
   ]
  },
  {
   "cell_type": "code",
   "execution_count": null,
   "metadata": {
    "collapsed": true,
    "slideshow": {
     "slide_type": "subslide"
    }
   },
   "outputs": [],
   "source": [
    "%%file /tmp/noseTests/my_package/generatoren.py\n",
    "from my_package.manipulatoren import ZahlenManipulator\n",
    "\n",
    "def werte_tabellen_generator(anfangs_wert, argument, schritt_zahl, operation):\n",
    "    z_m = ZahlenManipulator(anfangs_wert)\n",
    "    operatoren_verzeichnis = {\n",
    "                             '+' : z_m.addieren,\n",
    "                             '-' : z_m.subtrahieren,\n",
    "                             '*' : z_m.multiplizieren,\n",
    "                             '/' : z_m.dividieren\n",
    "                             }\n",
    "    if operation not in operatoren_verzeichnis:\n",
    "        print(\"Fehler: illegale Operation\", operation)\n",
    "    else:\n",
    "        methode = operatoren_verzeichnis[operation]\n",
    "        for i in range(schritt_zahl):\n",
    "            methode(argument)\n",
    "            yield z_m.get_wert()    "
   ]
  },
  {
   "cell_type": "code",
   "execution_count": null,
   "metadata": {
    "collapsed": true,
    "slideshow": {
     "slide_type": "subslide"
    }
   },
   "outputs": [],
   "source": [
    "%%file /tmp/noseTests/test_my_package/test_generatoren.py\n",
    "\n",
    "from my_package.generatoren import werte_tabellen_generator\n",
    "\n",
    "import unittest\n",
    "class Test_werte_tabellen_generator(unittest.TestCase):\n",
    "    def setUp(self):\n",
    "        self.__werte_tabellen_generator = \\\n",
    "            werte_tabellen_generator(0, 1, 5, '+')\n",
    "            \n",
    "    def test_additions_sequenz(self):\n",
    "        self.assertEqual(list(self.__werte_tabellen_generator),\n",
    "                         [1, 2, 3, 4, 5])"
   ]
  },
  {
   "cell_type": "code",
   "execution_count": null,
   "metadata": {
    "collapsed": true,
    "slideshow": {
     "slide_type": "subslide"
    }
   },
   "outputs": [],
   "source": [
    "%%file /tmp/noseTests/tutorials/manipulatoren_tutorial.py\n",
    "\n",
    "# -*- coding: utf-8 -*-\n",
    "\n",
    "\"\"\"\n",
    "Zunächst muss das Paket importiert werden:\n",
    ">>> from my_package.manipulatoren import ZahlenManipulator\n",
    "\n",
    "Wir müssen eine Instanz erzeugen:\n",
    ">>> zahlenManipulator = ZahlenManipulator()\n",
    "        \n",
    "Dann können wir einen Wert setzen und um vier erhöhen:\n",
    ">>> zahlenManipulator.set_wert(38)\n",
    ">>> zahlenManipulator.addieren(4)\n",
    "\n",
    "Das Ergebnis kann nun ausgelesen werden:\n",
    "\n",
    ">>> zahlenManipulator.get_wert()\n",
    "42\n",
    "\"\"\""
   ]
  },
  {
   "cell_type": "code",
   "execution_count": null,
   "metadata": {
    "collapsed": true,
    "slideshow": {
     "slide_type": "subslide"
    }
   },
   "outputs": [],
   "source": [
    "%%script bash\n",
    "\n",
    "cd /tmp/noseTests\n",
    "export PYTHONPATH=\"/tmp/noseTests:$PYTHON_PATH\"\n",
    "nosetests  -v --with-doctest --exe"
   ]
  },
  {
   "cell_type": "markdown",
   "metadata": {
    "slideshow": {
     "slide_type": "subslide"
    }
   },
   "source": [
    "## coverage"
   ]
  },
  {
   "cell_type": "markdown",
   "metadata": {},
   "source": [
    "*nose* nutzt das Paket coverage, um die Testabdeckung zu bestimmen, die Dokumentation finden Sie [hier](http://nedbatchelder.com/code/coverage):"
   ]
  },
  {
   "cell_type": "code",
   "execution_count": null,
   "metadata": {
    "collapsed": true,
    "slideshow": {
     "slide_type": "subslide"
    }
   },
   "outputs": [],
   "source": [
    "%%script bash\n",
    "\n",
    "cd /tmp/noseTests\n",
    "export PYTHONPATH=\"/tmp/noseTests:$PYTHON_PATH\"\n",
    "nosetests -v --with-doctest --with-coverage --exe"
   ]
  },
  {
   "cell_type": "markdown",
   "metadata": {},
   "source": [
    "Um die Abdeckung von Verzweigungen zu visualisieren, beherrscht *coverage* html-Ausgabe. In folgendem Beispiel wird auch die Abdeckung bei Verzweigungen untersucht (Option *--cover-branches*):"
   ]
  },
  {
   "cell_type": "code",
   "execution_count": null,
   "metadata": {
    "collapsed": true,
    "slideshow": {
     "slide_type": "subslide"
    }
   },
   "outputs": [],
   "source": [
    "%%script bash\n",
    "\n",
    "cd /tmp/noseTests\n",
    "rm -fr .cover\n",
    "export PYTHONPATH=\"/tmp/noseTests:$PYTHON_PATH\"\n",
    "nosetests -v --with-doctest --with-coverage --cover-branches  --cover-html --exe"
   ]
  },
  {
   "cell_type": "markdown",
   "metadata": {},
   "source": [
    "Um das Ergebnis zu visualisieren, öffnen Sie '/tmp/noseTests/cover/index.html' in einem neuen Browser-Tab."
   ]
  },
  {
   "cell_type": "markdown",
   "metadata": {},
   "source": [
    "**Aufgabe:** Modifizieren Sie die Tests so, dass eine Abdeckung von 100 Prozent erreicht wird."
   ]
  },
  {
   "cell_type": "markdown",
   "metadata": {
    "slideshow": {
     "slide_type": "slide"
    }
   },
   "source": [
    "## Automatisches Testen - Aufgaben"
   ]
  },
  {
   "cell_type": "markdown",
   "metadata": {},
   "source": [
    "1. Welche Gründe sprechen dafür, im Rahmen Ihrer Projektarbeit ein System einzusetzen, das automatisierte Tests erlaubt?\n",
    "1. Was sind Regressionstests und warum sind automatisierte Tests dafür relevant?"
   ]
  },
  {
   "cell_type": "markdown",
   "metadata": {
    "slideshow": {
     "slide_type": "slide"
    }
   },
   "source": [
    "# Testen von grafischen Benutzerschnittstellen"
   ]
  },
  {
   "cell_type": "markdown",
   "metadata": {},
   "source": [
    "## 8.1 GUI-Tests - Einführung"
   ]
  },
  {
   "cell_type": "markdown",
   "metadata": {},
   "source": [
    "Dieses Video wirbt für ein intelligentes GUI-Test-System:"
   ]
  },
  {
   "cell_type": "code",
   "execution_count": null,
   "metadata": {
    "collapsed": true
   },
   "outputs": [],
   "source": [
    "from IPython.lib.display import YouTubeVideo\n",
    "from IPython.core.display import display\n",
    "vid = YouTubeVideo('qsh4zWa6bE8')\n",
    "display(vid)"
   ]
  },
  {
   "cell_type": "markdown",
   "metadata": {
    "slideshow": {
     "slide_type": "subslide"
    }
   },
   "source": [
    "## PyQt und QTest"
   ]
  },
  {
   "cell_type": "markdown",
   "metadata": {},
   "source": [
    "Wir verwenden ein bekanntes Beispiel vom GUI-Notebook:"
   ]
  },
  {
   "cell_type": "code",
   "execution_count": null,
   "metadata": {
    "collapsed": true
   },
   "outputs": [],
   "source": [
    "%gui\n",
    "%gui qt5"
   ]
  },
  {
   "cell_type": "markdown",
   "metadata": {},
   "source": [
    "Führen Sie die nächste Zelle aus, und lassen Sie den *QDialog* geöffnet."
   ]
  },
  {
   "cell_type": "code",
   "execution_count": null,
   "metadata": {
    "collapsed": true,
    "slideshow": {
     "slide_type": "subslide"
    }
   },
   "outputs": [],
   "source": [
    "from PyQt5 import QtWidgets, QtGui, uic\n",
    "\n",
    "class UiDemo(QtWidgets.QDialog):\n",
    "    # constructor\n",
    "    def __init__(self):\n",
    "        QtWidgets.QDialog.__init__(self)\n",
    "\n",
    "        # load and show the user interface from Designer.\n",
    "        self.ui = uic.loadUi('qtDemo.ui')\n",
    "        self.ui.show()\n",
    "\n",
    "        # Connect up the button.\n",
    "        self.ui.myPushButton.clicked.connect(self.printLcdNumber)\n",
    "\n",
    "    # own function to print a number\n",
    "    def printLcdNumber(self):\n",
    "        number = self.ui.myHorizontalSlider.value()\n",
    "        print('number: ', number)\n",
    "\n",
    "uiDemo = UiDemo()"
   ]
  },
  {
   "cell_type": "markdown",
   "metadata": {
    "slideshow": {
     "slide_type": "subslide"
    }
   },
   "source": [
    "Das Objekt *uiDemo* kann vom Notebook aus direkt für Test-Zwecker verwendet werden:"
   ]
  },
  {
   "cell_type": "code",
   "execution_count": null,
   "metadata": {
    "collapsed": true
   },
   "outputs": [],
   "source": [
    "uiDemo.ui.myHorizontalSlider.setValue(22)\n",
    "uiDemo.update()\n",
    "assert(uiDemo.ui.myLcdNumber.value() == 22)\n",
    "uiDemo.ui.myPushButton.click()\n",
    "#app.closeAllWindows()"
   ]
  },
  {
   "cell_type": "markdown",
   "metadata": {
    "slideshow": {
     "slide_type": "subslide"
    }
   },
   "source": [
    "Außerhalb des Notebooks kann das Paket *QTest* für Unittests verwendet werden:"
   ]
  },
  {
   "cell_type": "code",
   "execution_count": null,
   "metadata": {
    "collapsed": true,
    "scrolled": true,
    "slideshow": {
     "slide_type": "subslide"
    }
   },
   "outputs": [],
   "source": [
    "import unittest\n",
    "from PyQt5.QtTest import QTest\n",
    "from PyQt5 import QtCore\n",
    "from PyQt5.QtCore import Qt\n",
    "\n",
    "class UiDemoTest(unittest.TestCase):\n",
    "    \n",
    "    def setUp(self):\n",
    "        self.app = QtCore.QCoreApplication.instance()\n",
    "        if self.app is None:\n",
    "            self.app = QtGui.QApplication([])\n",
    "        self.uiDemo = UiDemo()\n",
    "        \n",
    "    def test_sliderEffect(self):\n",
    "        self.uiDemo.ui.myHorizontalSlider.setValue(13)\n",
    "        self.assertEqual(self.uiDemo.ui.myLcdNumber.value(), 13)\n",
    "        \n",
    "    def test_buttonPress(self):\n",
    "        QTest.mouseClick(self.uiDemo.ui.myPushButton, Qt.LeftButton)\n",
    "        \n",
    "    def tearDown(self):\n",
    "        self.app.closeAllWindows()\n",
    "        \n",
    "if __name__ == \"__main__\": \n",
    "    suite = unittest.TestLoader().loadTestsFromTestCase(UiDemoTest)\n",
    "    unittest.TextTestRunner(verbosity=1).run(suite)"
   ]
  },
  {
   "cell_type": "markdown",
   "metadata": {
    "slideshow": {
     "slide_type": "slide"
    }
   },
   "source": [
    "Mit *QTest* können nicht nur Maus-Klicks, sondern auch z.B. Tastatur-Eingaben in Text-Felder simuliert werden.\n",
    "\n",
    "Ein ausführlicheres Beispiel (PyQt Version 4) finden Sie [hier](http://www.voom.net/pyqt-qtest-example)."
   ]
  },
  {
   "cell_type": "markdown",
   "metadata": {
    "slideshow": {
     "slide_type": "subslide"
    }
   },
   "source": [
    "## Gui-Tests: Aufgaben (freiwillig)"
   ]
  },
  {
   "cell_type": "markdown",
   "metadata": {},
   "source": [
    "1. Welche Vorteile hat die Verwendung von *QTest* im Vergleich zu \"capture-replay\"-Werkzeugen für GUI-Tests? (Liste)\n",
    "1. Sollte der Entwickler, der die grafische Benutzerschnittstelle implemetiert hat, oder eine andere Person die Test-Skripte für die GUI schreiben? (Begründung) "
   ]
  },
  {
   "cell_type": "markdown",
   "metadata": {
    "slideshow": {
     "slide_type": "slide"
    }
   },
   "source": [
    "# 9. Übungsaufgaben, Abgabe bis 30.11.2017"
   ]
  },
  {
   "cell_type": "markdown",
   "metadata": {},
   "source": [
    "1. Informieren Sie sich über die Details des Moduls *doctests*. Eine gute Darstellung finden Sie in der [Python-Dokumentation](http://docs.python.org/3.4/library/doctest.html#module-doctest).\n",
    "1. Diskutieren Sie mit Ihren Kommilitonen, warum viele Entwickler-Teams inzwischen die Tests schon vor der Implementierung des Codes erstellen.\n",
    "1. Wie sehen Sie das Zusammenspiel von *doctests* und formaler Spezifikation?\n",
    "1. Implementieren Sie einen Getränke-Automaten, so dass er die im Kapitel \"Doctests\" gegebenen Tests erfüllt.\n",
    "1. Erstellen Sie zusätlich Unittests für Ihren Automaten und stellen Sie sicher, daß *nose* sowohl für die Doctests als auch für die Unittests eingesetzt werden kann.\n",
    "1. Überlegen Sie sich eine Situation, in der ein Einsatz eines Mock-Objekts für Ihre Gravitations-Simulation sinnvoll sein kann, erstellen Sie dieses Mock-Objekt und ein Skript, das die Anwendung des Mock-Objekts anschaulich demonstriert. Vergessen Sie nicht, Kommentare einzufügen."
   ]
  },
  {
   "cell_type": "markdown",
   "metadata": {
    "slideshow": {
     "slide_type": "slide"
    }
   },
   "source": [
    "# 10. Überprüfung"
   ]
  },
  {
   "cell_type": "markdown",
   "metadata": {},
   "source": [
    "1. Wo liegen die Grenzen für die Anwendbarkeit von Mock-Objekten?\n",
    "1. Sollten Unittests auf der Schnittstelle oder auf der Funktionsweise von Klassen und Funktionen basieren? (Begründung, ca. zwei Sätze) "
   ]
  }
 ],
 "metadata": {
  "celltoolbar": "Slideshow",
  "kernelspec": {
   "display_name": "Python 3",
   "language": "python",
   "name": "python3"
  },
  "language_info": {
   "codemirror_mode": {
    "name": "ipython",
    "version": 3
   },
   "file_extension": ".py",
   "mimetype": "text/x-python",
   "name": "python",
   "nbconvert_exporter": "python",
   "pygments_lexer": "ipython3",
   "version": "3.6.3"
  },
  "latex_envs": {
   "LaTeX_envs_menu_present": true,
   "autocomplete": true,
   "bibliofile": "biblio.bib",
   "cite_by": "apalike",
   "current_citInitial": 1,
   "eqLabelWithNumbers": true,
   "eqNumInitial": 1,
   "hotkeys": {
    "equation": "Ctrl-E",
    "itemize": "Ctrl-I"
   },
   "labels_anchors": false,
   "latex_user_defs": false,
   "report_style_numbering": false,
   "user_envs_cfg": false
  }
 },
 "nbformat": 4,
 "nbformat_minor": 1
}
