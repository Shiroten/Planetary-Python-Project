{
 "cells": [
  {
   "cell_type": "markdown",
   "metadata": {
    "slideshow": {
     "slide_type": "slide"
    }
   },
   "source": [
    "Programmieren 3 - Wissenschaftliche Anwendungen\n",
    "\n",
    "Peter Rösch, Fakultät für Informatik\n",
    "\n",
    "Hochschule Augsburg, 2017 / 2018"
   ]
  },
  {
   "cell_type": "markdown",
   "metadata": {},
   "source": [
    "# Nachträge und Ergänzungen"
   ]
  },
  {
   "cell_type": "markdown",
   "metadata": {},
   "source": [
    "## Umlaute und Leerzeichen in Pfadnamen "
   ]
  },
  {
   "cell_type": "markdown",
   "metadata": {},
   "source": [
    "Obwohl moderne Betriebssysteme Umlaute und Leerzeichen in Verzeichnis- und Dateinamen erlauben, \"stolpern\" viele Kommandozeilen-Werkzeuge (z.B. der Compiler *gcc*)) über diese Zeichen.\n",
    "\n",
    "**Empfehlung:** Umlaute und Leerzeichen in Datei- und Verzeichnisnamen vermeiden."
   ]
  },
  {
   "cell_type": "markdown",
   "metadata": {},
   "source": [
    "## TSP mit dynamischer Programmierung"
   ]
  },
  {
   "cell_type": "markdown",
   "metadata": {},
   "source": [
    "Der Algorithmus stammt von [dieser Web-Seite](https://mchouza.wordpress.com/2010/11/21/solving-the-travelling-salesman-problem)."
   ]
  },
  {
   "cell_type": "code",
   "execution_count": null,
   "metadata": {
    "collapsed": true
   },
   "outputs": [],
   "source": [
    "staedte_positionen = ((0.010319427306382911, 0.8956251389386756), (0.6999898714299346, 0.42254500074835377), (0.4294574582950912, 0.4568408794115657), (0.6005454852683483, 0.9295407203370832), (0.9590226056623925, 0.581453646599427), (0.748521134122647, 0.5437775417153159), (0.7571232013282426, 0.606435031856663), (0.07528757443413125, 0.07854082131763074), (0.32346175150639334, 0.7291706487873425), (0.012935451483722882, 0.974440252089956), (0.7894689664351368, 0.8925464165283283), (0.5017081207027582, 0.2323298297211428), (0.5994368069089712, 0.006438246252584379), (0.3471372841416518, 0.32362936726486546), (0.9080568556459205, 0.5872162265716462), (0.008216651916432838, 0.5605251786730867), (0.12281649843134745, 0.778836327426156), (0.9698199622470612, 0.9108771425774694), (0.22977122891732482, 0.9692739885317619), (0.8192293086323663, 0.5857981607663957), (0.1422079724040628, 0.8147259475583606), (0.6706795717064135, 0.591561956032189), (0.15756919328106178, 0.6331745919782176), (0.9932745190952539, 0.20429268341528184), (0.21104352892679712, 0.8836996377783977), (0.15162951778287448, 0.43829883402923786), (0.1014198097226855, 0.5877946138306056), (0.8961534561384676, 0.6498866051905969), (0.02348788064910401, 0.2555771312427847), (0.7629752603198586, 0.031097354437254032), (0.9202799257088203, 0.8545409146117934), (0.4740012769258859, 0.30554661789326976), (0.9662984341217945, 0.24235140218349704), (0.236385903920734, 0.8065137287975154), (0.7509340695304845, 0.9276718423781918), (0.891709366337186, 0.9691233497708065), (0.45766675798331646, 0.3966074453757069), (0.362463818656684, 0.629782983287922), (0.3895828182648007, 0.11182372435220689), (0.8007718207811885, 0.07083259575886258), (0.9395297121272306, 0.003549829042441055), (0.9990444201768337, 0.4816092706412669), (0.806664037655748, 0.45636915118812094), (0.7248316046403981, 0.4136143673445848), (0.9797254747122175, 0.5348075095243779), (0.832410347070477, 0.36236092065071435), (0.17697174259486892, 0.09903555437885947), (0.3320429025096797, 0.42538137689172295), (0.010390541304141299, 0.3196764197089256), (0.13647705960093703, 0.6166884292149969), (0.7413967117502017, 0.6758731780971651), (0.5057620560480408, 0.6176726900765315), (0.811221033004999, 0.15436803010778977), (0.5010541138760939, 0.35001152238091926), (0.9413826105193199, 0.9418596542666187), (0.891256361420491, 0.7886584654021789), (0.3676445849723219, 0.9387145658378656), (0.7976904766536591, 0.7297167662430665), (0.5966826978617474, 0.29179542156826277), (0.6209578021367281, 0.22193571777470145), (0.8298034730084203, 0.5164834220744453), (0.1974315640582841, 0.9764209254933037), (0.3181560706032852, 0.9659291942205317), (0.8665674546422951, 0.8281710981528015), (0.341232980616892, 0.5707946637100852), (0.8931358896561539, 0.40864805338293986), (0.26644032823825714, 0.9989727471390323), (0.3993087575662785, 0.009572468741341433), (0.7385521851703551, 0.8947961501854975), (0.3265958212912289, 0.12135269959328665), (0.33657186037515696, 0.04678149607307802), (0.6574688023519235, 0.14620381872693322), (0.9232073321379433, 0.464399378682132), (0.3350568606219765, 0.8140710044746052), (0.43439242705535963, 0.6850627844635814), (0.6748600302251079, 0.17179426903224415), (0.3257145924815924, 0.17892361406234325), (0.9843761318782708, 0.7246387654097534), (0.3302488609623919, 0.5461838792803725), (0.942182061647097, 0.271796972592925), (0.7992439374549364, 0.3344916623897427), (0.07722251160513627, 0.5998378921773792), (0.9551490162437984, 0.99084148343811), (0.2994585617190968, 0.8420506992016424), (0.692980959785355, 0.832838090803397), (0.31555831127132894, 0.06401272570899819), (0.02665227648457802, 0.5242147042171419), (0.1974784428862567, 0.9137326594564479), (0.8486377116437235, 0.773093204292392), (0.6588651068050204, 0.6191834372968826), (0.9294759207447961, 0.04471010558595201), (0.9407045003182903, 0.7240803846820537), (0.6814942236797052, 0.6579517970003296), (0.2956248273119104, 0.4141031496785965), (0.729642956744248, 0.18897087844791205), (0.6092213719795501, 0.12514914017649392), (0.7431271140678826, 0.12660475585183406), (0.9023640654012873, 0.21133242457776658), (0.3513947221768753, 0.10988741056845952), (0.7560785506387285, 0.1994584377393509))"
   ]
  },
  {
   "cell_type": "code",
   "execution_count": null,
   "metadata": {
    "collapsed": true
   },
   "outputs": [],
   "source": [
    "import numpy as np\n",
    "import matplotlib.pyplot as plt\n",
    "%matplotlib inline\n",
    "from TSP import distance, plot_closed_path"
   ]
  },
  {
   "cell_type": "code",
   "execution_count": null,
   "metadata": {
    "collapsed": true
   },
   "outputs": [],
   "source": [
    "def create_distance_table(pointList):\n",
    "    return [[ distance(i, k) for i in pointList ] for k in pointList ]"
   ]
  },
  {
   "cell_type": "code",
   "execution_count": null,
   "metadata": {},
   "outputs": [],
   "source": [
    "nr_of_cities = 9\n",
    "distance_tab = create_distance_table(staedte_positionen[: nr_of_cities ])"
   ]
  },
  {
   "cell_type": "code",
   "execution_count": null,
   "metadata": {
    "collapsed": true
   },
   "outputs": [],
   "source": [
    "calculations = 0\n",
    "lookups = 0"
   ]
  },
  {
   "cell_type": "code",
   "execution_count": null,
   "metadata": {
    "collapsed": true
   },
   "outputs": [],
   "source": [
    "def minimum_path_length(point_set, target_point, \n",
    "                        distance_tab, length_memory=None):\n",
    "    \n",
    "    global calculations, lookups\n",
    "    \n",
    "    if length_memory is None:\n",
    "        length_memory = dict()\n",
    "        \n",
    "    key = (frozenset(point_set), target_point)\n",
    "    if key in length_memory:\n",
    "        lookups += 1\n",
    "        return length_memory[key]\n",
    "    else:\n",
    "        if point_set:\n",
    "            result = min( distance_tab[target_point][p_index] + \n",
    "                           minimum_path_length(\n",
    "                                    point_set - set([p_index]),\n",
    "                                    p_index, distance_tab, \n",
    "                                    length_memory) \n",
    "                           for p_index in point_set)\n",
    "        else:\n",
    "            result = distance_tab[target_point][0]\n",
    "        length_memory[key] = result\n",
    "        calculations += 1\n",
    "        return result"
   ]
  },
  {
   "cell_type": "code",
   "execution_count": null,
   "metadata": {},
   "outputs": [],
   "source": [
    "minimum_path_length(frozenset(range(1, nr_of_cities)), \n",
    "                    0, distance_tab)"
   ]
  },
  {
   "cell_type": "code",
   "execution_count": null,
   "metadata": {},
   "outputs": [],
   "source": [
    "%%timeit\n",
    "minimum_path_length(frozenset(range(1, nr_of_cities)), \n",
    "                    0, distance_tab)"
   ]
  },
  {
   "cell_type": "code",
   "execution_count": null,
   "metadata": {
    "collapsed": true
   },
   "outputs": [],
   "source": [
    "def minimum_path(point_set, target_index, distance_tab, path_memory):\n",
    "    \n",
    "    key = (point_set, target_index)\n",
    "    if key in path_memory:        \n",
    "        return path_memory[key]\n",
    "    else:\n",
    "        if point_set:\n",
    "            result = min( (distance_tab[p_index][target_index] + \n",
    "                           minimum_path(point_set - set([p_index]), \n",
    "                                        p_index, \n",
    "                                        distance_tab, path_memory)[0], \n",
    "                           p_index)\n",
    "                         for p_index in point_set)\n",
    "        else:\n",
    "            result = (distance_tab[0][target_index], 0)\n",
    "        path_memory[key] = result\n",
    "        return result\n",
    "\n",
    "def salesman_dynamic(start_index, nr_of_cities, staedte_positionen):\n",
    "    distance_tab = create_distance_table(\n",
    "                staedte_positionen[start_index : start_index + nr_of_cities ])\n",
    "   \n",
    "    point_set = frozenset(range(1, nr_of_cities))\n",
    "    \n",
    "    shortest_path = []\n",
    "    target_index = 0\n",
    "    min_len = None\n",
    "    path_memory = dict()\n",
    "    \n",
    "    while True:\n",
    "        result = minimum_path(point_set, target_index, \n",
    "                              distance_tab, path_memory)\n",
    "        if min_len is None:\n",
    "            min_len = result[0]\n",
    "        target_index = result[1]\n",
    "        shortest_path = [target_index] + shortest_path\n",
    "        point_set = point_set - frozenset([target_index])\n",
    "        if target_index == 0:\n",
    "            break;\n",
    "    shortest_path = shortest_path + [0]   \n",
    "    shortest_path_positions = [ staedte_positionen[i] \n",
    "                               for i in shortest_path ]\n",
    "    return (min_len, shortest_path_positions)"
   ]
  },
  {
   "cell_type": "code",
   "execution_count": null,
   "metadata": {},
   "outputs": [],
   "source": [
    "salesman_dynamic(0, 9, staedte_positionen)"
   ]
  },
  {
   "cell_type": "code",
   "execution_count": null,
   "metadata": {
    "collapsed": true
   },
   "outputs": [],
   "source": [
    "nr_of_cities = 17"
   ]
  },
  {
   "cell_type": "code",
   "execution_count": null,
   "metadata": {},
   "outputs": [],
   "source": [
    "%%timeit\n",
    "salesman_dynamic(0, nr_of_cities, staedte_positionen)"
   ]
  },
  {
   "cell_type": "code",
   "execution_count": null,
   "metadata": {},
   "outputs": [],
   "source": [
    "path = salesman_dynamic(0, nr_of_cities, staedte_positionen)[1]\n",
    "plot_closed_path(path)"
   ]
  },
  {
   "cell_type": "code",
   "execution_count": null,
   "metadata": {
    "collapsed": true
   },
   "outputs": [],
   "source": [
    "def op_ratio(n):\n",
    "    op_naive = math.factorial(n-1)\n",
    "    op_dynamic = n * 2**n\n",
    "    return op_naive / op_dynamic"
   ]
  },
  {
   "cell_type": "code",
   "execution_count": null,
   "metadata": {},
   "outputs": [],
   "source": [
    "op_ratio(16)"
   ]
  },
  {
   "cell_type": "code",
   "execution_count": null,
   "metadata": {},
   "outputs": [],
   "source": [
    "plt.figure(figsize=(9, 9))\n",
    "x = list(range(3, 21))\n",
    "y = list(map(op_ratio, x))\n",
    "plt.semilogy()\n",
    "plt.plot(x, y)"
   ]
  },
  {
   "cell_type": "markdown",
   "metadata": {
    "slideshow": {
     "slide_type": "subslide"
    }
   },
   "source": [
    "# Aktuelles Buch zu wissenschaftlichen Anwendungen mit Python"
   ]
  },
  {
   "cell_type": "markdown",
   "metadata": {},
   "source": [
    "Viele Beispiele zur Verwendung von IPython für wissenschaftliche Anwendungen finden Sie in folgendem Buch von Cyrille Rossant:  [IPython Interactive Computing and Visualization Cookbook](http://ipython-books.github.io/cookbook). Sie können das Buch über die Bibliothek online lesen, hier ist der [Link](http://proquest.tech.safaribooksonline.de/book/programming/python/9781783284818)."
   ]
  },
  {
   "cell_type": "markdown",
   "metadata": {
    "slideshow": {
     "slide_type": "slide"
    }
   },
   "source": [
    "# Symbolische Berechnungen mit sympy"
   ]
  },
  {
   "cell_type": "markdown",
   "metadata": {},
   "source": [
    "Weitergehende Informationen zu sympy finden Sie auf der [Homepage](http://sympy.org/en/index.html).\n",
    "\n",
    "Zunächst müssen die Symbole festgelegt werden, mit denen sympy rechnen soll:"
   ]
  },
  {
   "cell_type": "code",
   "execution_count": null,
   "metadata": {
    "collapsed": true,
    "slideshow": {
     "slide_type": "subslide"
    }
   },
   "outputs": [],
   "source": [
    "import sympy\n",
    "sympy.init_printing(use_latex = True)\n",
    "x, y, z = sympy.symbols(\"x y z\")\n",
    "k, m, n = sympy.symbols(\"k m n\", integer=True)\n",
    "f, g, h = map(sympy.Function, 'fgh')"
   ]
  },
  {
   "cell_type": "markdown",
   "metadata": {
    "slideshow": {
     "slide_type": "subslide"
    }
   },
   "source": [
    "Mit diesen Symbolen können dann Ausdrücke formuliert werden:"
   ]
  },
  {
   "cell_type": "code",
   "execution_count": null,
   "metadata": {},
   "outputs": [],
   "source": [
    "eq = ((x-y)**3 * (x+1)**2)\n",
    "eq"
   ]
  },
  {
   "cell_type": "markdown",
   "metadata": {
    "slideshow": {
     "slide_type": "subslide"
    }
   },
   "source": [
    "Der Ausdruck oben kann jetzt ausmultipliziert werden:"
   ]
  },
  {
   "cell_type": "code",
   "execution_count": null,
   "metadata": {},
   "outputs": [],
   "source": [
    "sympy.expand(eq)"
   ]
  },
  {
   "cell_type": "markdown",
   "metadata": {
    "slideshow": {
     "slide_type": "subslide"
    }
   },
   "source": [
    "Sympy löst Integrale symbolisch:"
   ]
  },
  {
   "cell_type": "code",
   "execution_count": null,
   "metadata": {},
   "outputs": [],
   "source": [
    "f = sympy.cos(x)**3\n",
    "sympy.Integral(f, x)"
   ]
  },
  {
   "cell_type": "code",
   "execution_count": null,
   "metadata": {
    "slideshow": {
     "slide_type": "subslide"
    }
   },
   "outputs": [],
   "source": [
    "g = sympy.integrate(f, x)\n",
    "g"
   ]
  },
  {
   "cell_type": "markdown",
   "metadata": {
    "slideshow": {
     "slide_type": "subslide"
    }
   },
   "source": [
    "Probe:"
   ]
  },
  {
   "cell_type": "code",
   "execution_count": null,
   "metadata": {},
   "outputs": [],
   "source": [
    "h = sympy.diff(g, x)\n",
    "h"
   ]
  },
  {
   "cell_type": "markdown",
   "metadata": {
    "slideshow": {
     "slide_type": "subslide"
    }
   },
   "source": [
    "Ist das wirklich die ursprüngliche Funktion *f* ?"
   ]
  },
  {
   "cell_type": "code",
   "execution_count": null,
   "metadata": {},
   "outputs": [],
   "source": [
    "sympy.simplify(h)"
   ]
  },
  {
   "cell_type": "markdown",
   "metadata": {
    "slideshow": {
     "slide_type": "subslide"
    }
   },
   "source": [
    "Sympy kann auch Differentialgleichungen lösen:"
   ]
  },
  {
   "cell_type": "code",
   "execution_count": null,
   "metadata": {},
   "outputs": [],
   "source": [
    "# f muss neu initialisiert werden\n",
    "f = sympy.Function('f')\n",
    "eqn = sympy.Eq(sympy.Derivative(f(x),x,x) + 9*f(x), 1)\n",
    "# Anzeige von Formeln mit display\n",
    "from IPython.display import display\n",
    "display(eqn)\n",
    "# Berechnen und Anziegen der Loesung\n",
    "sympy.dsolve(eqn, f(x))"
   ]
  },
  {
   "cell_type": "markdown",
   "metadata": {
    "slideshow": {
     "slide_type": "subslide"
    }
   },
   "source": [
    "python kann mit beliebiger Genauigkeit rechnen:"
   ]
  },
  {
   "cell_type": "code",
   "execution_count": null,
   "metadata": {},
   "outputs": [],
   "source": [
    "import mpmath\n",
    "# 60 Stellen\n",
    "mpmath.mp.dps = 60\n",
    "print(mpmath.asin(1.0)*2)"
   ]
  },
  {
   "cell_type": "markdown",
   "metadata": {
    "slideshow": {
     "slide_type": "slide"
    }
   },
   "source": [
    "# Interpolation"
   ]
  },
  {
   "cell_type": "markdown",
   "metadata": {},
   "source": [
    "Interpolationsmethoden erlauben es, Werte, zwischen bekannten Messwerten liegen, unter Verwendung eines bestimmten Modells zu 'raten'."
   ]
  },
  {
   "cell_type": "code",
   "execution_count": null,
   "metadata": {
    "collapsed": true
   },
   "outputs": [],
   "source": [
    "import numpy as np\n",
    "import matplotlib.pyplot as plt\n",
    "%matplotlib inline"
   ]
  },
  {
   "cell_type": "code",
   "execution_count": null,
   "metadata": {
    "slideshow": {
     "slide_type": "subslide"
    }
   },
   "outputs": [],
   "source": [
    "N=16\n",
    "np.random.seed(2019)\n",
    "s = np.cumsum(np.random.uniform(-1, 1, N))\n",
    "x = range(0, N)"
   ]
  },
  {
   "cell_type": "code",
   "execution_count": null,
   "metadata": {
    "slideshow": {
     "slide_type": "subslide"
    }
   },
   "outputs": [],
   "source": [
    "from scipy import interpolate\n",
    "f = interpolate.interp1d(x, s, kind='cubic')\n",
    "xN = np.arange(0, N-1, .01)\n",
    "yN = f(xN)\n",
    "plt.plot(x, s, 'ro')\n",
    "plt.plot(xN, yN)"
   ]
  },
  {
   "cell_type": "markdown",
   "metadata": {
    "slideshow": {
     "slide_type": "slide"
    }
   },
   "source": [
    "# Digitale Bildverarbeitung"
   ]
  },
  {
   "cell_type": "markdown",
   "metadata": {},
   "source": [
    "Die Python Imaging Library (PIL) erlaubt es auf einfache Art und Weise, Bilder zu laden, zu manipulieren und anzuzeigen:"
   ]
  },
  {
   "cell_type": "code",
   "execution_count": null,
   "metadata": {
    "collapsed": true,
    "slideshow": {
     "slide_type": "subslide"
    }
   },
   "outputs": [],
   "source": [
    "import math\n",
    "%matplotlib inline\n",
    "from PIL import Image, ImageFilter"
   ]
  },
  {
   "cell_type": "code",
   "execution_count": null,
   "metadata": {
    "slideshow": {
     "slide_type": "subslide"
    }
   },
   "outputs": [],
   "source": [
    "im = Image.open('cameraman.png')\n",
    "plt.imshow(im, cmap=plt.cm.gray)"
   ]
  },
  {
   "cell_type": "code",
   "execution_count": null,
   "metadata": {
    "slideshow": {
     "slide_type": "subslide"
    }
   },
   "outputs": [],
   "source": [
    "outIm = im.rotate(-45).filter(ImageFilter.BLUR)\n",
    "plt.imshow(outIm, cmap=plt.cm.gray)"
   ]
  },
  {
   "cell_type": "markdown",
   "metadata": {
    "slideshow": {
     "slide_type": "subslide"
    }
   },
   "source": [
    "Bilder können in numpy-Arrays umgewandelt werden:"
   ]
  },
  {
   "cell_type": "code",
   "execution_count": null,
   "metadata": {},
   "outputs": [],
   "source": [
    "a = np.asarray(im, dtype=np.ubyte)\n",
    "# Schwellwert\n",
    "b = np.where( a < 100, 1, 0)\n",
    "plt.imshow(b, cmap=plt.cm.gray)"
   ]
  },
  {
   "cell_type": "markdown",
   "metadata": {
    "slideshow": {
     "slide_type": "subslide"
    }
   },
   "source": [
    "Das Paket *scipy.ndimage* gibt dem Entwickler mehr Kontrolle darüber, was passiert und enthält fortgeschrittene Bildverarbeitungs-Methoden wie z.B. Morphologie:"
   ]
  },
  {
   "cell_type": "code",
   "execution_count": null,
   "metadata": {
    "collapsed": true
   },
   "outputs": [],
   "source": [
    "import scipy.ndimage"
   ]
  },
  {
   "cell_type": "code",
   "execution_count": null,
   "metadata": {
    "slideshow": {
     "slide_type": "subslide"
    }
   },
   "outputs": [],
   "source": [
    "c = scipy.ndimage.binary_opening(b)\n",
    "plt.imshow(c, cmap=plt.cm.gray)"
   ]
  },
  {
   "cell_type": "markdown",
   "metadata": {
    "slideshow": {
     "slide_type": "subslide"
    }
   },
   "source": [
    "Die Anwendung einer Filter-Maske nennt man Faltung ('convolution'). Beispiel: Box-Filter:"
   ]
  },
  {
   "cell_type": "code",
   "execution_count": null,
   "metadata": {},
   "outputs": [],
   "source": [
    "boxFilter = np.ones(shape=(5,5))\n",
    "boxFilter /= np.sum(boxFilter)\n",
    "print('box filter:\\n', boxFilter)\n",
    "aSmoothed = scipy.ndimage.convolve(a, boxFilter)\n",
    "plt.imshow(aSmoothed, cmap=plt.cm.gray)"
   ]
  },
  {
   "cell_type": "code",
   "execution_count": null,
   "metadata": {
    "slideshow": {
     "slide_type": "subslide"
    }
   },
   "outputs": [],
   "source": [
    "import matplotlib.pyplot as plt\n",
    "%matplotlib inline\n",
    "\n",
    "from skimage import data, filters\n",
    "\n",
    "im = data.camera()\n",
    "edges = filters.sobel(im)\n",
    "plt.imshow(edges, cmap=plt.cm.gray, origin='upper')"
   ]
  },
  {
   "cell_type": "markdown",
   "metadata": {
    "slideshow": {
     "slide_type": "subslide"
    }
   },
   "source": [
    "Das Paket *OpenCV* bietet hoch optimierte Funktionen aus dem Bereich Computer Vision und erlaubt auf einfache Art und Weise den Zugriff auf Kameras. Schließen Sie eine Kamera an und starten Sie das Beispiel mit \n",
    "\n",
    "    cd /tmp\n",
    "    python3 cv_demo.py"
   ]
  },
  {
   "cell_type": "code",
   "execution_count": null,
   "metadata": {},
   "outputs": [],
   "source": [
    "%%file /tmp/cv_demo.py\n",
    "import cv2\n",
    "cap = cv2.VideoCapture(0); FPS = 25\n",
    "while( cv2.waitKey(1000 // FPS) & 0xff != ord('q')):\n",
    "    success, frame = cap.read()\n",
    "    if success:\n",
    "        cv2.imshow('Orignal',frame)\n",
    "        grey = cv2.cvtColor(frame, cv2.COLOR_BGR2GRAY)\n",
    "        ret, thresh = cv2.threshold(grey, 120, 255,\n",
    "            cv2.THRESH_BINARY_INV)\n",
    "        cv2.imshow('Result', thresh)\n",
    "cap.release()\n",
    "cv2.destroyAllWindows()"
   ]
  },
  {
   "cell_type": "markdown",
   "metadata": {
    "slideshow": {
     "slide_type": "slide"
    }
   },
   "source": [
    "# Visualisierung"
   ]
  },
  {
   "cell_type": "markdown",
   "metadata": {
    "slideshow": {
     "slide_type": "subslide"
    }
   },
   "source": [
    "## 2D-Plots"
   ]
  },
  {
   "cell_type": "markdown",
   "metadata": {},
   "source": [
    "Funktionsplots lassen sich recht einfach mit *matplotlib* erstellen:"
   ]
  },
  {
   "cell_type": "code",
   "execution_count": null,
   "metadata": {
    "slideshow": {
     "slide_type": "subslide"
    }
   },
   "outputs": [],
   "source": [
    "x = np.arange(-2 * math.pi, 2 * math.pi, .01, \n",
    "                 dtype = np.float32)\n",
    "y = np.cos(x)\n",
    "plt.xlim(-2*math.pi, 2*math.pi)\n",
    "plt.plot(x,y)"
   ]
  },
  {
   "cell_type": "markdown",
   "metadata": {
    "slideshow": {
     "slide_type": "subslide"
    }
   },
   "source": [
    "Das Grauwert-Histogramm des Bildes von oben sieht so aus: "
   ]
  },
  {
   "cell_type": "code",
   "execution_count": null,
   "metadata": {},
   "outputs": [],
   "source": [
    "im = Image.open('cameraman.png')\n",
    "a = np.asarray(im, dtype = np.float32)\n",
    "h = plt.hist(a.flatten(), bins=25)"
   ]
  },
  {
   "cell_type": "markdown",
   "metadata": {
    "slideshow": {
     "slide_type": "subslide"
    }
   },
   "source": [
    "Oft möchte man die Grafiken ausführlich beschriften:"
   ]
  },
  {
   "cell_type": "code",
   "execution_count": null,
   "metadata": {},
   "outputs": [],
   "source": [
    "import matplotlib\n",
    "matplotlib.rcParams.update({'font.size': 18, 'font.family': 'serif'})\n",
    "fig, ax = plt.subplots()\n",
    "ax.plot(x, x**2, label=r\"$y = \\alpha^2$\")\n",
    "ax.plot(x, x**3, label=r\"$y = \\alpha^3$\")\n",
    "ax.set_xlabel(r'$\\alpha$')\n",
    "ax.set_ylabel(r'$y$')\n",
    "ax.set_title('Formeln in Beschriftungen')\n",
    "ax.legend(loc=4); # lower right corner"
   ]
  },
  {
   "cell_type": "markdown",
   "metadata": {
    "slideshow": {
     "slide_type": "subslide"
    }
   },
   "source": [
    "Es ist einfach möglich, das Spektrum eines Signals auszugeben."
   ]
  },
  {
   "cell_type": "code",
   "execution_count": null,
   "metadata": {},
   "outputs": [],
   "source": [
    "x_min, x_max, x_step = -30.0, 30.0, 0.1\n",
    "x = np.arange(x_min, x_max, x_step)\n",
    "y = np.sin(x) / x\n",
    "plt.plot(x, y)\n",
    "plt.title('$\\sin(x) / x$')"
   ]
  },
  {
   "cell_type": "code",
   "execution_count": null,
   "metadata": {
    "slideshow": {
     "slide_type": "subslide"
    }
   },
   "outputs": [],
   "source": [
    "M = len(x)\n",
    "f_min, f_max = -1.0 / (2 * x_step), 1.0 / (2 * x_step)\n",
    "f_step = 1.0 / (x_step * M)\n",
    "X = np.arange(f_min, f_max, f_step)\n",
    "Y = np.abs(np.fft.fftshift(np.fft.fft(y))) ** 2.0\n",
    "plt.plot(X,Y)\n",
    "plt.title('Power-Spectrum')"
   ]
  },
  {
   "cell_type": "markdown",
   "metadata": {
    "slideshow": {
     "slide_type": "subslide"
    }
   },
   "source": [
    "Weitere interessante Beispiele für die Verwendung von pylab / matplotlib finden Sie unter [gallery](http://matplotlib.org/gallery.html) auf der [Homepage](http://matplotlib.org/). Der Source-Code für die Beispiele ist ebenfalls verfügbar, so dass sich die Gallery sehr gut als \"Kopiervorlage\" eignet."
   ]
  },
  {
   "cell_type": "markdown",
   "metadata": {
    "slideshow": {
     "slide_type": "subslide"
    }
   },
   "source": [
    "##  Surface-Plots"
   ]
  },
  {
   "cell_type": "markdown",
   "metadata": {},
   "source": [
    "Das folgende Beispiel stammt aus der gallery, und zwar von [hier](http://matplotlib.org/examples/mplot3d/surface3d_radial_demo.html). Start wieder mit \n",
    "\n",
    "    cd /tmp\n",
    "    python3 surface_plot.py"
   ]
  },
  {
   "cell_type": "code",
   "execution_count": null,
   "metadata": {
    "slideshow": {
     "slide_type": "subslide"
    }
   },
   "outputs": [],
   "source": [
    "%%file /tmp/surface_plot.py\n",
    "# create supporting points in polar coordinates\n",
    "import numpy as np\n",
    "import matplotlib.pyplot as plt\n",
    "import matplotlib\n",
    "from mpl_toolkits.mplot3d import Axes3D\n",
    "r = np.linspace(0,1.25,50)\n",
    "p = np.linspace(0,2*np.pi,50)\n",
    "R,P = np.meshgrid(r,p)\n",
    "# transform them to cartesian system\n",
    "X,Y = R*np.cos(P),R*np.sin(P)\n",
    "Z = ((R**2 - 1)**2)\n",
    "fig = plt.figure()\n",
    "ax = Axes3D(fig)\n",
    "ax.set_zlim3d(0, 1)\n",
    "ax.plot_surface(X, Y, Z, rstride=1, cstride=1, cmap=matplotlib.cm.YlGnBu_r)\n",
    "plt.show()"
   ]
  },
  {
   "cell_type": "markdown",
   "metadata": {},
   "source": [
    "Hier ein etwas komplexeres Beispiel, das 2D- und 3D-Plots mischt ..."
   ]
  },
  {
   "cell_type": "code",
   "execution_count": null,
   "metadata": {
    "slideshow": {
     "slide_type": "subslide"
    }
   },
   "outputs": [],
   "source": [
    "# Mischen von 2D- und 3D-Grafiken mit unterschiedlichen Breiten\n",
    "# http://matplotlib.org/1.3.1/users/gridspec.html\n",
    "\n",
    "import matplotlib.gridspec as gridspec\n",
    "from mpl_toolkits.mplot3d import Axes3D\n",
    "%matplotlib inline\n",
    "\n",
    "def fn(t):\n",
    "    s1 = np.cos(2*np.pi*t)\n",
    "    e1 = np.exp(-t)\n",
    "    return np.multiply(s1,e1)\n",
    "\n",
    "f = plt.figure()\n",
    "\n",
    "gs = gridspec.GridSpec(2, 2,\n",
    "                       width_ratios=[1,2],\n",
    "                       height_ratios=[3,1]\n",
    "                       )\n",
    "\n",
    "widePlot = plt.subplot(gs[0,:])\n",
    "for tl in widePlot.get_xticklabels() + widePlot.get_yticklabels():\n",
    "            tl.set_visible(False)\n",
    "ax2 = Axes3D(f, widePlot.get_position())\n",
    "X = np.arange(-5, 5, 0.25)\n",
    "xlen = len(X)\n",
    "Y = np.arange(-5, 5, 0.25)\n",
    "ylen = len(Y)\n",
    "X, Y = np.meshgrid(X, Y)\n",
    "R = np.sqrt(X**2 + Y**2)\n",
    "Z = np.sin(R)\n",
    "surf = ax2.plot_surface(X, Y, Z, rstride=1, cstride=1,\n",
    "        linewidth=0, antialiased=True)\n",
    "ax2.set_zlim3d(-1, 1)\n",
    "\n",
    "plt.tick_params(\\\n",
    "    axis='y',          # changes apply to the x-axis\n",
    "    which='both',      # both major and minor ticks are affected\n",
    "    bottom='off',      # ticks along the bottom edge are off\n",
    "    top='off',         # ticks along the top edge are off\n",
    "    labelbottom='off') # labels along the bottom edge are off\n",
    "\n",
    "ax3 = plt.subplot(gs[2])\n",
    "t1 = np.arange(0.0, 5.0, 0.1)\n",
    "t2 = np.arange(0.0, 5.0, 0.02)\n",
    "t3 = np.arange(0.0, 2.0, 0.01)\n",
    "\n",
    "l = ax3.plot(t1, fn(t1), 'bo',\n",
    "            t2, fn(t2), 'k--', markerfacecolor='green')\n",
    "ax3.grid(True)\n",
    "ax3.set_ylabel('fn')\n",
    "\n",
    "ax4 = plt.subplot(gs[3])\n",
    "x = np.arange(-10, 10, 0.1)\n",
    "ax4.plot(x, np.sin(x))\n",
    "\n",
    "ax3.tick_params(\\\n",
    "    axis='y',          # changes apply to the y-axis\n",
    "    which='both',      # both major and minor ticks are affected\n",
    "    left='off',      # ticks along the left edge are off\n",
    "    right='off',         # ticks along the right edge are off\n",
    "    labelleft='off') # labels along the left edge are off\n",
    "\n",
    "ax4.tick_params(\\\n",
    "    axis='y',          # changes apply to the y-axis\n",
    "    which='both',      # both major and minor ticks are affected\n",
    "    left='off',      # ticks along the left edge are off\n",
    "    right='off',         # ticks along the rifht edge are off\n",
    "    labelleft='off') # labels along the left edge are off"
   ]
  },
  {
   "cell_type": "markdown",
   "metadata": {
    "slideshow": {
     "slide_type": "slide"
    }
   },
   "source": [
    "# Anpassung eines Modells an Daten"
   ]
  },
  {
   "cell_type": "markdown",
   "metadata": {},
   "source": [
    "In vielen Fällen können Daten durch Polynome angenähert werden."
   ]
  },
  {
   "cell_type": "code",
   "execution_count": null,
   "metadata": {
    "slideshow": {
     "slide_type": "subslide"
    }
   },
   "outputs": [],
   "source": [
    "data = np.loadtxt('polynomial.dat')\n",
    "plt.plot(data[:,0], data[:,1], 'r.')"
   ]
  },
  {
   "cell_type": "code",
   "execution_count": null,
   "metadata": {
    "slideshow": {
     "slide_type": "subslide"
    }
   },
   "outputs": [],
   "source": [
    "x = data[:,0]\n",
    "y = data[:,1]\n",
    "\n",
    "coeffs = np.polyfit(x, y, 3)\n",
    "print('parameters:', coeffs)\n",
    "plt.plot(x,y, '+')\n",
    "plt.plot(x, np.polyval(coeffs, x))\n",
    "plt.show()\n"
   ]
  },
  {
   "cell_type": "markdown",
   "metadata": {
    "slideshow": {
     "slide_type": "subslide"
    }
   },
   "source": [
    "Falls die Funktion nicht linear bezüglich der Parameter ist, muss ein iteratives Verfahren zur Anpassung verwendet werden. Meist wird die Methode von [Levenberg-Marquardt](http://ananth.in/docs/lmtut.pdf) verwendet."
   ]
  },
  {
   "cell_type": "code",
   "execution_count": null,
   "metadata": {
    "slideshow": {
     "slide_type": "subslide"
    }
   },
   "outputs": [],
   "source": [
    "def func(x, a, b, c):                                                       \n",
    "    return a*np.exp(-b*x) + c                                            \n",
    "\n",
    "x = np.linspace(0,4,50)                                                  \n",
    "y = func(x, 2.5, 1.3, 0.5)                                                  \n",
    "yn = y + 0.02*np.random.normal(size=len(x))\n",
    "plt.plot(x, y)\n",
    "plt.plot(x, yn, 'ro')"
   ]
  },
  {
   "cell_type": "code",
   "execution_count": null,
   "metadata": {},
   "outputs": [],
   "source": [
    "from scipy.optimize import curve_fit\n",
    "popt, pcov = curve_fit(func, x, yn)                                         \n",
    "print(popt)\n",
    "print(pcov)"
   ]
  },
  {
   "cell_type": "code",
   "execution_count": null,
   "metadata": {
    "scrolled": true
   },
   "outputs": [],
   "source": [
    "y_fit = func(x, popt[0], popt[1], popt[2])\n",
    "plt.plot(x, y_fit)\n",
    "plt.plot(x, yn, 'ro')"
   ]
  },
  {
   "cell_type": "markdown",
   "metadata": {
    "slideshow": {
     "slide_type": "subslide"
    }
   },
   "source": [
    "# VTK und ParaView"
   ]
  },
  {
   "cell_type": "markdown",
   "metadata": {},
   "source": [
    "Das Vizualization Toolkit ([VTK](http://www.vtk.org)) kann von Python aus benutzt werden. VTK erlaubt die Darstellung von Skalar-, Vektor- und Tensordaten und unterstützt auch die stereoskopische Ausgabe auf 3D-Monitoren und auf der \"Powerwall\" in M2.01. \n",
    "\n",
    "Beispiele finden Sie in der [VTK-Galerie](http://www.vtk.org/VTK/project/imagegallery.php).\n",
    "\n",
    "Sie können die Visualisierungs-Pipeline auch interaktiv mit [ParaView](http://paraview.org) erstellen und\n",
    "dann z.B. als Python-Code exportieren."
   ]
  },
  {
   "cell_type": "markdown",
   "metadata": {
    "slideshow": {
     "slide_type": "slide"
    }
   },
   "source": [
    "# Verarbeitung tabellarischer Daten mit pandas"
   ]
  },
  {
   "cell_type": "markdown",
   "metadata": {},
   "source": [
    "Das Beispiel im Notebook *pandas.ipynb* stammt von Cyrille Rossant."
   ]
  },
  {
   "cell_type": "markdown",
   "metadata": {},
   "source": [
    "# Aufgaben bis 11.01.2018"
   ]
  },
  {
   "cell_type": "markdown",
   "metadata": {},
   "source": [
    "## Numerische und symbolische Berechnungen - Aufgaben"
   ]
  },
  {
   "cell_type": "markdown",
   "metadata": {},
   "source": [
    "1. Arbeiten Sie die oben gegebenen Beispiele nochmals durch und klären Sie offene Fragen mit dem Dozenten.\n",
    "1. **Freiwillig:** Welche Möglichkeit gibt es, die \"optimalen\" Parameter einer *allgemeinen* Kurve, z.B. $$y_i = a  \\cos(b x_i) \\; e^{-x_i^2}$$ aus einem Satz von Meßwerten zu bestimmen? \n",
    "1. Finden Sie heraus, ob *sympy* eine der fortgeschrittenen Aufgaben aus Ihrer Mathematik-Vorlesung lösen kann.\n",
    "1. Experimentieren Sie mit [sympy gamma](http://www.sympygamma.com). Sind die angegebenen Lösungswege für Sie nachvollziehbar?"
   ]
  },
  {
   "cell_type": "markdown",
   "metadata": {
    "slideshow": {
     "slide_type": "subslide"
    }
   },
   "source": [
    "## Digitale Bildverarbeitung - Aufgaben"
   ]
  },
  {
   "cell_type": "markdown",
   "metadata": {},
   "source": [
    "1. Suchen Sie sich interessante Funktionen der PIL-Bibliothek und experimentieren Sie mit den Monochrom-Bildern, die Sie im Verzeichnis */GB/images2D* finden.\n",
    "1. Ist es sinnvoll, Bildverarbeitungs-Operationen zu parallelisieren oder zu verteilen? Diskutieren Sie mit anderen Studierenden die besonderen Herausforderungen bei der Parallelisierung und Verteilung von Bildverarbeitungs-Operationen."
   ]
  },
  {
   "cell_type": "markdown",
   "metadata": {
    "slideshow": {
     "slide_type": "subslide"
    }
   },
   "source": [
    "## Visualisierung - Aufgaben"
   ]
  },
  {
   "cell_type": "markdown",
   "metadata": {},
   "source": [
    "\n",
    "1. Verschaffen Sie sich anhander der [matplotlib gallery](http://matplotlib.org/gallery.html) einen Überblick über die Möglichkeiten, die das Paket *matplotlib* (bzw. *pylab*) bietet.\n",
    "1. $im_1, im_2$ und $im_3$ sind drei gleich große Grauwert-Bilder Ihrer Wahl. Stellen Sie den gewichteten Mittelwert $0.2 im_1 + 0.3 im_2 + 0.5 im_3$ grafisch dar.\n"
   ]
  },
  {
   "cell_type": "markdown",
   "metadata": {},
   "source": [
    "# Überprüfung"
   ]
  },
  {
   "cell_type": "markdown",
   "metadata": {},
   "source": [
    "1. Warum sind Python-Listen für numerische Berechnungen nicht sonderlich effizient? (max. zwei Sätze)\n",
    "1. Welche Vorteile hat es, Bild-Daten als *numpy*-Arrays zu repräsentieren?\n",
    "1. Erklären Sie kurz den Begriff \"Symbolische Berechnungen\" in Bezug auf das Paket *sympy*. (max. drei Sätze)"
   ]
  }
 ],
 "metadata": {
  "anaconda-cloud": {},
  "kernelspec": {
   "display_name": "Python [conda root]",
   "language": "python",
   "name": "conda-root-py"
  },
  "language_info": {
   "codemirror_mode": {
    "name": "ipython",
    "version": 3
   },
   "file_extension": ".py",
   "mimetype": "text/x-python",
   "name": "python",
   "nbconvert_exporter": "python",
   "pygments_lexer": "ipython3",
   "version": "3.6.2"
  },
  "latex_envs": {
   "LaTeX_envs_menu_present": true,
   "autocomplete": true,
   "bibliofile": "biblio.bib",
   "cite_by": "apalike",
   "current_citInitial": 1,
   "eqLabelWithNumbers": true,
   "eqNumInitial": 1,
   "hotkeys": {
    "equation": "Ctrl-E",
    "itemize": "Ctrl-I"
   },
   "labels_anchors": false,
   "latex_user_defs": false,
   "report_style_numbering": false,
   "user_envs_cfg": false
  }
 },
 "nbformat": 4,
 "nbformat_minor": 1
}
