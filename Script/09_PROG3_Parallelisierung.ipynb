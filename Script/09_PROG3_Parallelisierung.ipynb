{
 "cells": [
  {
   "cell_type": "markdown",
   "metadata": {
    "slideshow": {
     "slide_type": "slide"
    }
   },
   "source": [
    "Programmieren 3 - Parallelisierung\n",
    "\n",
    "Peter Rösch, Fakultät für Informatik\n",
    "\n",
    "Hochschule Augsburg, 2017/2018"
   ]
  },
  {
   "cell_type": "markdown",
   "metadata": {
    "slideshow": {
     "slide_type": "slide"
    }
   },
   "source": [
    "# TSP - Implementierung"
   ]
  },
  {
   "cell_type": "markdown",
   "metadata": {},
   "source": [
    "Die Implementierung des TSP-Verfahrens steht als Modul zur Verfügung."
   ]
  },
  {
   "cell_type": "code",
   "execution_count": 14,
   "metadata": {
    "slideshow": {
     "slide_type": "subslide"
    }
   },
   "outputs": [
    {
     "ename": "ModuleNotFoundError",
     "evalue": "No module named 'TSP'",
     "output_type": "error",
     "traceback": [
      "\u001b[0;31m---------------------------------------------------------------------------\u001b[0m",
      "\u001b[0;31mModuleNotFoundError\u001b[0m                       Traceback (most recent call last)",
      "\u001b[0;32m<ipython-input-14-bab4877bf912>\u001b[0m in \u001b[0;36m<module>\u001b[0;34m()\u001b[0m\n\u001b[0;32m----> 1\u001b[0;31m \u001b[0;32mimport\u001b[0m \u001b[0mTSP\u001b[0m\u001b[0;34m\u001b[0m\u001b[0m\n\u001b[0m\u001b[1;32m      2\u001b[0m \u001b[0mget_ipython\u001b[0m\u001b[0;34m(\u001b[0m\u001b[0;34m)\u001b[0m\u001b[0;34m.\u001b[0m\u001b[0mmagic\u001b[0m\u001b[0;34m(\u001b[0m\u001b[0;34m'matplotlib inline'\u001b[0m\u001b[0;34m)\u001b[0m\u001b[0;34m\u001b[0m\u001b[0m\n",
      "\u001b[0;31mModuleNotFoundError\u001b[0m: No module named 'TSP'"
     ]
    }
   ],
   "source": [
    "import TSP\n",
    "%matplotlib inline"
   ]
  },
  {
   "cell_type": "code",
   "execution_count": 15,
   "metadata": {},
   "outputs": [
    {
     "ename": "NameError",
     "evalue": "name 'TSP' is not defined",
     "output_type": "error",
     "traceback": [
      "\u001b[0;31m---------------------------------------------------------------------------\u001b[0m",
      "\u001b[0;31mNameError\u001b[0m                                 Traceback (most recent call last)",
      "\u001b[0;32m<ipython-input-15-e1e143d0f68c>\u001b[0m in \u001b[0;36m<module>\u001b[0;34m()\u001b[0m\n\u001b[1;32m      2\u001b[0m \u001b[0mend_pos\u001b[0m \u001b[0;34m=\u001b[0m \u001b[0mstart_pos\u001b[0m \u001b[0;34m+\u001b[0m \u001b[0mnr_of_cities\u001b[0m\u001b[0;34m\u001b[0m\u001b[0m\n\u001b[1;32m      3\u001b[0m \u001b[0;34m\u001b[0m\u001b[0m\n\u001b[0;32m----> 4\u001b[0;31m result = TSP.shortest_closed_path(((TSP.staedte_positionen[start_pos], ), \n\u001b[0m\u001b[1;32m      5\u001b[0m                             TSP.staedte_positionen[start_pos+1:end_pos]))\n\u001b[1;32m      6\u001b[0m \u001b[0mTSP\u001b[0m\u001b[0;34m.\u001b[0m\u001b[0mplot_closed_path\u001b[0m\u001b[0;34m(\u001b[0m\u001b[0mresult\u001b[0m\u001b[0;34m[\u001b[0m\u001b[0;36m1\u001b[0m\u001b[0;34m]\u001b[0m\u001b[0;34m)\u001b[0m\u001b[0;34m\u001b[0m\u001b[0m\n",
      "\u001b[0;31mNameError\u001b[0m: name 'TSP' is not defined"
     ]
    }
   ],
   "source": [
    "start_pos, nr_of_cities = 0, 9\n",
    "end_pos = start_pos + nr_of_cities\n",
    "\n",
    "result = TSP.shortest_closed_path(((TSP.staedte_positionen[start_pos], ), \n",
    "                            TSP.staedte_positionen[start_pos+1:end_pos]))\n",
    "TSP.plot_closed_path(result[1])\n",
    "print('Länge:', result[0])"
   ]
  },
  {
   "cell_type": "markdown",
   "metadata": {
    "slideshow": {
     "slide_type": "slide"
    }
   },
   "source": [
    "# Parallelisierung - Einführung"
   ]
  },
  {
   "cell_type": "markdown",
   "metadata": {},
   "source": [
    "Einen Artikel von H. Sutter mit dem Titel *The Free Lunch Is Over: A Fundamental Turn Toward Concurrency in Software* finden Sie [hier](http://www.gotw.ca/publications/concurrency-ddj.htm).\n",
    "\n",
    "Nach *Amdahls Gesetz* können in Sie in den [Safari-Books](http://proquest.tech.safaribooksonline.de) suchen oder im entsprechenden [Wikipedia-Artikel](http://de.wikipedia.org/wiki/Amdahlsches_Gesetz)."
   ]
  },
  {
   "cell_type": "markdown",
   "metadata": {
    "slideshow": {
     "slide_type": "slide"
    }
   },
   "source": [
    "# Threads und Prozesse"
   ]
  },
  {
   "cell_type": "markdown",
   "metadata": {},
   "source": [
    "* Was hat [dieses Bild](https://www.schick-seitenblicke.at/en/wp-content/uploads/sites/2/2012/11/MG_1422_kompr.jpg) mit Threads und Prozessen zu tun? Ein eher technisches Bild finden Sie [hier](http://www.fmc-modeling.org/category/projects/apache/amp/images/11-OS_Concepts/processes+threads_BD.gif).\n",
    "\n",
    "* Welche Auswirkungen kaben die Unterschiede zwischen Threads und Prozessen auf die Programmierung?\n",
    "\n",
    "* Was bedeutet die Abkürzung [GIL](https://wiki.python.org/moin/GlobalInterpreterLock)?\n",
    "\n",
    "* Haben Sie schon einmal mit [Posix Threads](https://computing.llnl.gov/tutorials/pthreads) gearbeitet?"
   ]
  },
  {
   "cell_type": "markdown",
   "metadata": {
    "slideshow": {
     "slide_type": "subslide"
    }
   },
   "source": [
    "Im Archiv [pi_monte_carlo_ANSI_C.tar.bz2](https://moodle.hs-augsburg.de/pluginfile.php/47010/mod_folder/content/0/pi_monte_carlo_ANSI_C.tar.bz2?forcedownload=1) (Moodle) finden Sie eine Implementierung der Monte Carlo-Simulation in ANSI C, die POSIX-Threads zur Parallelisierung einsetzt. Zum Vergleich gibt es eine nicht parallelisierte Version unter *monteCarloUnitSphereSingle*. Die Programme erstellen Sie wie folgt:\n",
    "\n",
    "    cd monteCarloUnitSphereSingle\n",
    "    gcc -O3 -o monteCarloUnitSphereSingle monteCarloUnitSphereSingle.c -pthread -lm\n",
    "    time ./monteCarloUnitSphereSingle 10 10\n",
    "    cd monteCarloUnitSphereMulti\n",
    "    gcc -O3 -o monteCarloUnitSphereMulti monteCarloUnitSphereMulti.c -pthread -lm\n",
    "    time ./monteCarloUnitSphereMulti 10 10 4\n",
    "    \n",
    "Das letzte Argument beim Aufruf des Programms monteCarloUnitSphereMulti bezeichnet die Anzahl der Threads, die gestartet werden (in diesem Fall 4 Threads)."
   ]
  },
  {
   "cell_type": "markdown",
   "metadata": {
    "slideshow": {
     "slide_type": "subslide"
    }
   },
   "source": [
    "In einem Python-Programm können Prozesse, die eine bestimmte Funktion ausführen, direkt erzeugt und gestartet werden. Dazu verwenden wir das sehr mächtige Paket [multiprocessing](https://docs.python.org/3.6/library/multiprocessing.html)."
   ]
  },
  {
   "cell_type": "code",
   "execution_count": 8,
   "metadata": {},
   "outputs": [
    {
     "name": "stdout",
     "output_type": "stream",
     "text": [
      "main pid: 9132\n",
      "pid: 9502\n",
      "hello p1\n",
      "pid: 9503\n",
      "hello p2\n",
      "done\n"
     ]
    }
   ],
   "source": [
    "import multiprocessing, os\n",
    "from time import sleep\n",
    "\n",
    "def function(name):\n",
    "    sleep(1)\n",
    "    print('pid:', os.getpid())\n",
    "    print('hello', name)\n",
    "    \n",
    "# Die folgende Zeile ist unter Windows unbedingt notwendig!\n",
    "if __name__ == '__main__':\n",
    "    print('main pid:', os.getpid())\n",
    "    p1 = multiprocessing.Process(target=function, args=('p1',))\n",
    "    p2 = multiprocessing.Process(target=function, args=('p2',))\n",
    "    p1.start()\n",
    "    p2.start()\n",
    "    p1.join()\n",
    "    p2.join()\n",
    "    print('done')"
   ]
  },
  {
   "cell_type": "markdown",
   "metadata": {
    "slideshow": {
     "slide_type": "subslide"
    }
   },
   "source": [
    "Prozesse können über *pipes* miteinander kommunizieren."
   ]
  },
  {
   "cell_type": "code",
   "execution_count": 9,
   "metadata": {},
   "outputs": [
    {
     "name": "stdout",
     "output_type": "stream",
     "text": [
      "[(1, 2, 3), 'received!']\n",
      "[('hallo',), 'received!']\n",
      "[(3, 'test'), 'received!']\n",
      "finishing\n"
     ]
    }
   ],
   "source": [
    "import multiprocessing\n",
    "\n",
    "def f(p):\n",
    "    while True:\n",
    "        message = p.recv()\n",
    "        if message[0] == 'getLost':\n",
    "            p.send('finishing'); break\n",
    "        else:\n",
    "            p.send([message, 'received!'])\n",
    "\n",
    "if __name__ == '__main__':\n",
    "    myEnd, otherEnd = multiprocessing.Pipe()\n",
    "    process = multiprocessing.Process(target=f, args=(otherEnd,))\n",
    "    process.start()\n",
    "    for arg in ((1,2,3), ('hallo',), (3, 'test'), ('getLost',)):\n",
    "        myEnd.send(arg)\n",
    "        print(myEnd.recv())"
   ]
  },
  {
   "cell_type": "markdown",
   "metadata": {
    "slideshow": {
     "slide_type": "subslide"
    }
   },
   "source": [
    "# Das Modul multiprocessing - Details"
   ]
  },
  {
   "cell_type": "markdown",
   "metadata": {},
   "source": [
    "Die Anzahl der Prozesse, die gestartet wird, sollte von der Anzahl der vorhandenen CPU-Kerne abhängen:"
   ]
  },
  {
   "cell_type": "code",
   "execution_count": 10,
   "metadata": {},
   "outputs": [
    {
     "name": "stdout",
     "output_type": "stream",
     "text": [
      "nrOfCores: 4\n"
     ]
    }
   ],
   "source": [
    "import multiprocessing\n",
    "import math\n",
    "nrOfCores = multiprocessing.cpu_count()\n",
    "print('nrOfCores:', nrOfCores)"
   ]
  },
  {
   "cell_type": "markdown",
   "metadata": {
    "slideshow": {
     "slide_type": "slide"
    }
   },
   "source": [
    "Was hat [dieses Bild](https://colourbox.com/preview/2836733-pile-of-pancakes-with-an-oil-slice-on-a-round-plate.jpg) mit der parallelisierten Abarbeitung von Aufgaben zu tun?"
   ]
  },
  {
   "cell_type": "markdown",
   "metadata": {
    "slideshow": {
     "slide_type": "subslide"
    }
   },
   "source": [
    "Das folgende Beispiel zeigt die parallelisierte Berechnung von Quadratzahlen."
   ]
  },
  {
   "cell_type": "code",
   "execution_count": 11,
   "metadata": {},
   "outputs": [
    {
     "name": "stdout",
     "output_type": "stream",
     "text": [
      "0 1 4 9 16 25 36 49 64 81 "
     ]
    }
   ],
   "source": [
    "def f(qIn, qOut):\n",
    "    while True:\n",
    "        x = qIn.get()\n",
    "        result = x*x\n",
    "        qOut.put(result)\n",
    "        qIn.task_done()\n",
    "\n",
    "if __name__ == '__main__':\n",
    "    argumentQueue = multiprocessing.JoinableQueue()\n",
    "    resultQueue = multiprocessing.Queue()\n",
    "    nrOfProcesses = multiprocessing.cpu_count()\n",
    "    processes = [multiprocessing.Process(\n",
    "                            target = f,\n",
    "                            args = (argumentQueue, resultQueue))\n",
    "                    for i in range(nrOfProcesses)]\n",
    "    for i in range(0, 10):\n",
    "        argumentQueue.put(i)\n",
    "    for p in processes:\n",
    "        p.start()  \n",
    "    argumentQueue.join()\n",
    "    for p in processes:\n",
    "        p.terminate()\n",
    "    for i in range(10):\n",
    "        print(resultQueue.get(), end=' ')"
   ]
  },
  {
   "cell_type": "markdown",
   "metadata": {
    "slideshow": {
     "slide_type": "subslide"
    }
   },
   "source": [
    "Wie können wir den TSP-Algorithmus nach diesem Muster parallelisieren?"
   ]
  },
  {
   "cell_type": "markdown",
   "metadata": {
    "slideshow": {
     "slide_type": "subslide"
    }
   },
   "source": [
    "Um den TSP so zu parallelisieren, muss zunächst eine Liste mit Argumenten erstellt werden, die die Teilaufgaben definiert:"
   ]
  },
  {
   "cell_type": "code",
   "execution_count": 12,
   "metadata": {
    "collapsed": true
   },
   "outputs": [],
   "source": [
    "def create_argument_list(path_completed, path_ahead, r_depth, l):\n",
    "    if len(path_completed) == r_depth:\n",
    "        l.append((path_completed, path_ahead))\n",
    "    else:\n",
    "        for i in range(len(path_ahead)):\n",
    "            create_argument_list(path_completed + (path_ahead[i],) , \n",
    "                                path_ahead[:i] + path_ahead[i+1:],\n",
    "                                r_depth, l)"
   ]
  },
  {
   "cell_type": "markdown",
   "metadata": {
    "slideshow": {
     "slide_type": "subslide"
    }
   },
   "source": [
    "Vorbereitungen für die parallelisierte Berechnung des Rundwegs durch *nr_of_cities* Städte:"
   ]
  },
  {
   "cell_type": "code",
   "execution_count": 13,
   "metadata": {},
   "outputs": [
    {
     "ename": "NameError",
     "evalue": "name 'TSP' is not defined",
     "output_type": "error",
     "traceback": [
      "\u001b[0;31m---------------------------------------------------------------------------\u001b[0m",
      "\u001b[0;31mNameError\u001b[0m                                 Traceback (most recent call last)",
      "\u001b[0;32m<ipython-input-13-7246d776fa48>\u001b[0m in \u001b[0;36m<module>\u001b[0;34m()\u001b[0m\n\u001b[1;32m      2\u001b[0m \u001b[0mr_depth\u001b[0m \u001b[0;34m=\u001b[0m \u001b[0;36m2\u001b[0m\u001b[0;34m\u001b[0m\u001b[0m\n\u001b[1;32m      3\u001b[0m \u001b[0ml\u001b[0m \u001b[0;34m=\u001b[0m \u001b[0;34m[\u001b[0m\u001b[0;34m]\u001b[0m\u001b[0;34m\u001b[0m\u001b[0m\n\u001b[0;32m----> 4\u001b[0;31m create_argument_list((TSP.staedte_positionen[0], ), \n\u001b[0m\u001b[1;32m      5\u001b[0m             TSP.staedte_positionen[1:nr_of_cities], r_depth, l)\n",
      "\u001b[0;31mNameError\u001b[0m: name 'TSP' is not defined"
     ]
    }
   ],
   "source": [
    "nr_of_cities = 10\n",
    "r_depth = 2\n",
    "l = []\n",
    "create_argument_list((TSP.staedte_positionen[0], ), \n",
    "            TSP.staedte_positionen[1:nr_of_cities], r_depth, l)"
   ]
  },
  {
   "cell_type": "code",
   "execution_count": null,
   "metadata": {
    "collapsed": true
   },
   "outputs": [],
   "source": [
    "l[:2]"
   ]
  },
  {
   "cell_type": "markdown",
   "metadata": {
    "slideshow": {
     "slide_type": "subslide"
    }
   },
   "source": [
    "Die Worker-Funktion:"
   ]
  },
  {
   "cell_type": "code",
   "execution_count": null,
   "metadata": {
    "collapsed": true
   },
   "outputs": [],
   "source": [
    "import TSP\n",
    "def worker_TSP(q_in, q_out):\n",
    "    while True:\n",
    "        arguments = q_in.get()\n",
    "        result = TSP.shortest_closed_path(arguments)\n",
    "        q_out.put(result)\n",
    "        q_in.task_done()"
   ]
  },
  {
   "cell_type": "markdown",
   "metadata": {
    "slideshow": {
     "slide_type": "subslide"
    }
   },
   "source": [
    "Berechnung unter Verwendung von *Queues*:"
   ]
  },
  {
   "cell_type": "code",
   "execution_count": 16,
   "metadata": {},
   "outputs": [
    {
     "ename": "NameError",
     "evalue": "name 'worker_TSP' is not defined",
     "output_type": "error",
     "traceback": [
      "\u001b[0;31m---------------------------------------------------------------------------\u001b[0m",
      "\u001b[0;31mNameError\u001b[0m                                 Traceback (most recent call last)",
      "\u001b[0;32m<ipython-input-16-dffc01c869e1>\u001b[0m in \u001b[0;36m<module>\u001b[0;34m()\u001b[0m\n\u001b[0;32m----> 1\u001b[0;31m \u001b[0mget_ipython\u001b[0m\u001b[0;34m(\u001b[0m\u001b[0;34m)\u001b[0m\u001b[0;34m.\u001b[0m\u001b[0mrun_cell_magic\u001b[0m\u001b[0;34m(\u001b[0m\u001b[0;34m'timeit'\u001b[0m\u001b[0;34m,\u001b[0m \u001b[0;34m''\u001b[0m\u001b[0;34m,\u001b[0m \u001b[0;34m'in_queue = multiprocessing.JoinableQueue()\\nresult_queue = multiprocessing.Queue()\\n\\nprocesses = []\\nfor i in range(nrOfCores):\\n    p = multiprocessing.Process(target = worker_TSP, \\n                                args = (in_queue, result_queue))\\n    processes.append(p)\\n    p.start()\\n    \\nfor parameter_set in l:\\n    in_queue.put(parameter_set)\\n    \\nimport time\\n\\nin_queue.join()\\n\\nresult_list = []\\nwhile not result_queue.empty():\\n    result_list.append(result_queue.get())\\n\\nmin_path = min(result_list)\\n\\nfor p in processes:\\n    p.terminate()'\u001b[0m\u001b[0;34m)\u001b[0m\u001b[0;34m\u001b[0m\u001b[0m\n\u001b[0m",
      "\u001b[0;32m/opt/anaconda/lib/python3.6/site-packages/IPython/core/interactiveshell.py\u001b[0m in \u001b[0;36mrun_cell_magic\u001b[0;34m(self, magic_name, line, cell)\u001b[0m\n\u001b[1;32m   2101\u001b[0m             \u001b[0mmagic_arg_s\u001b[0m \u001b[0;34m=\u001b[0m \u001b[0mself\u001b[0m\u001b[0;34m.\u001b[0m\u001b[0mvar_expand\u001b[0m\u001b[0;34m(\u001b[0m\u001b[0mline\u001b[0m\u001b[0;34m,\u001b[0m \u001b[0mstack_depth\u001b[0m\u001b[0;34m)\u001b[0m\u001b[0;34m\u001b[0m\u001b[0m\n\u001b[1;32m   2102\u001b[0m             \u001b[0;32mwith\u001b[0m \u001b[0mself\u001b[0m\u001b[0;34m.\u001b[0m\u001b[0mbuiltin_trap\u001b[0m\u001b[0;34m:\u001b[0m\u001b[0;34m\u001b[0m\u001b[0m\n\u001b[0;32m-> 2103\u001b[0;31m                 \u001b[0mresult\u001b[0m \u001b[0;34m=\u001b[0m \u001b[0mfn\u001b[0m\u001b[0;34m(\u001b[0m\u001b[0mmagic_arg_s\u001b[0m\u001b[0;34m,\u001b[0m \u001b[0mcell\u001b[0m\u001b[0;34m)\u001b[0m\u001b[0;34m\u001b[0m\u001b[0m\n\u001b[0m\u001b[1;32m   2104\u001b[0m             \u001b[0;32mreturn\u001b[0m \u001b[0mresult\u001b[0m\u001b[0;34m\u001b[0m\u001b[0m\n\u001b[1;32m   2105\u001b[0m \u001b[0;34m\u001b[0m\u001b[0m\n",
      "\u001b[0;32m<decorator-gen-61>\u001b[0m in \u001b[0;36mtimeit\u001b[0;34m(self, line, cell)\u001b[0m\n",
      "\u001b[0;32m/opt/anaconda/lib/python3.6/site-packages/IPython/core/magic.py\u001b[0m in \u001b[0;36m<lambda>\u001b[0;34m(f, *a, **k)\u001b[0m\n\u001b[1;32m    185\u001b[0m     \u001b[0;31m# but it's overkill for just that one bit of state.\u001b[0m\u001b[0;34m\u001b[0m\u001b[0;34m\u001b[0m\u001b[0m\n\u001b[1;32m    186\u001b[0m     \u001b[0;32mdef\u001b[0m \u001b[0mmagic_deco\u001b[0m\u001b[0;34m(\u001b[0m\u001b[0marg\u001b[0m\u001b[0;34m)\u001b[0m\u001b[0;34m:\u001b[0m\u001b[0;34m\u001b[0m\u001b[0m\n\u001b[0;32m--> 187\u001b[0;31m         \u001b[0mcall\u001b[0m \u001b[0;34m=\u001b[0m \u001b[0;32mlambda\u001b[0m \u001b[0mf\u001b[0m\u001b[0;34m,\u001b[0m \u001b[0;34m*\u001b[0m\u001b[0ma\u001b[0m\u001b[0;34m,\u001b[0m \u001b[0;34m**\u001b[0m\u001b[0mk\u001b[0m\u001b[0;34m:\u001b[0m \u001b[0mf\u001b[0m\u001b[0;34m(\u001b[0m\u001b[0;34m*\u001b[0m\u001b[0ma\u001b[0m\u001b[0;34m,\u001b[0m \u001b[0;34m**\u001b[0m\u001b[0mk\u001b[0m\u001b[0;34m)\u001b[0m\u001b[0;34m\u001b[0m\u001b[0m\n\u001b[0m\u001b[1;32m    188\u001b[0m \u001b[0;34m\u001b[0m\u001b[0m\n\u001b[1;32m    189\u001b[0m         \u001b[0;32mif\u001b[0m \u001b[0mcallable\u001b[0m\u001b[0;34m(\u001b[0m\u001b[0marg\u001b[0m\u001b[0;34m)\u001b[0m\u001b[0;34m:\u001b[0m\u001b[0;34m\u001b[0m\u001b[0m\n",
      "\u001b[0;32m/opt/anaconda/lib/python3.6/site-packages/IPython/core/magics/execution.py\u001b[0m in \u001b[0;36mtimeit\u001b[0;34m(self, line, cell)\u001b[0m\n\u001b[1;32m   1078\u001b[0m             \u001b[0;32mfor\u001b[0m \u001b[0mindex\u001b[0m \u001b[0;32min\u001b[0m \u001b[0mrange\u001b[0m\u001b[0;34m(\u001b[0m\u001b[0;36m0\u001b[0m\u001b[0;34m,\u001b[0m \u001b[0;36m10\u001b[0m\u001b[0;34m)\u001b[0m\u001b[0;34m:\u001b[0m\u001b[0;34m\u001b[0m\u001b[0m\n\u001b[1;32m   1079\u001b[0m                 \u001b[0mnumber\u001b[0m \u001b[0;34m=\u001b[0m \u001b[0;36m10\u001b[0m \u001b[0;34m**\u001b[0m \u001b[0mindex\u001b[0m\u001b[0;34m\u001b[0m\u001b[0m\n\u001b[0;32m-> 1080\u001b[0;31m                 \u001b[0mtime_number\u001b[0m \u001b[0;34m=\u001b[0m \u001b[0mtimer\u001b[0m\u001b[0;34m.\u001b[0m\u001b[0mtimeit\u001b[0m\u001b[0;34m(\u001b[0m\u001b[0mnumber\u001b[0m\u001b[0;34m)\u001b[0m\u001b[0;34m\u001b[0m\u001b[0m\n\u001b[0m\u001b[1;32m   1081\u001b[0m                 \u001b[0;32mif\u001b[0m \u001b[0mtime_number\u001b[0m \u001b[0;34m>=\u001b[0m \u001b[0;36m0.2\u001b[0m\u001b[0;34m:\u001b[0m\u001b[0;34m\u001b[0m\u001b[0m\n\u001b[1;32m   1082\u001b[0m                     \u001b[0;32mbreak\u001b[0m\u001b[0;34m\u001b[0m\u001b[0m\n",
      "\u001b[0;32m/opt/anaconda/lib/python3.6/site-packages/IPython/core/magics/execution.py\u001b[0m in \u001b[0;36mtimeit\u001b[0;34m(self, number)\u001b[0m\n\u001b[1;32m    158\u001b[0m         \u001b[0mgc\u001b[0m\u001b[0;34m.\u001b[0m\u001b[0mdisable\u001b[0m\u001b[0;34m(\u001b[0m\u001b[0;34m)\u001b[0m\u001b[0;34m\u001b[0m\u001b[0m\n\u001b[1;32m    159\u001b[0m         \u001b[0;32mtry\u001b[0m\u001b[0;34m:\u001b[0m\u001b[0;34m\u001b[0m\u001b[0m\n\u001b[0;32m--> 160\u001b[0;31m             \u001b[0mtiming\u001b[0m \u001b[0;34m=\u001b[0m \u001b[0mself\u001b[0m\u001b[0;34m.\u001b[0m\u001b[0minner\u001b[0m\u001b[0;34m(\u001b[0m\u001b[0mit\u001b[0m\u001b[0;34m,\u001b[0m \u001b[0mself\u001b[0m\u001b[0;34m.\u001b[0m\u001b[0mtimer\u001b[0m\u001b[0;34m)\u001b[0m\u001b[0;34m\u001b[0m\u001b[0m\n\u001b[0m\u001b[1;32m    161\u001b[0m         \u001b[0;32mfinally\u001b[0m\u001b[0;34m:\u001b[0m\u001b[0;34m\u001b[0m\u001b[0m\n\u001b[1;32m    162\u001b[0m             \u001b[0;32mif\u001b[0m \u001b[0mgcold\u001b[0m\u001b[0;34m:\u001b[0m\u001b[0;34m\u001b[0m\u001b[0m\n",
      "\u001b[0;32m<magic-timeit>\u001b[0m in \u001b[0;36minner\u001b[0;34m(_it, _timer)\u001b[0m\n",
      "\u001b[0;31mNameError\u001b[0m: name 'worker_TSP' is not defined"
     ]
    }
   ],
   "source": [
    "%%timeit\n",
    "in_queue = multiprocessing.JoinableQueue()\n",
    "result_queue = multiprocessing.Queue()\n",
    "\n",
    "processes = []\n",
    "for i in range(nrOfCores):\n",
    "    p = multiprocessing.Process(target = worker_TSP, \n",
    "                                args = (in_queue, result_queue))\n",
    "    processes.append(p)\n",
    "    p.start()\n",
    "    \n",
    "for parameter_set in l:\n",
    "    in_queue.put(parameter_set)\n",
    "    \n",
    "import time\n",
    "\n",
    "in_queue.join()\n",
    "\n",
    "result_list = []\n",
    "while not result_queue.empty():\n",
    "    result_list.append(result_queue.get())\n",
    "\n",
    "min_path = min(result_list)\n",
    "\n",
    "for p in processes:\n",
    "    p.terminate()"
   ]
  },
  {
   "cell_type": "markdown",
   "metadata": {
    "slideshow": {
     "slide_type": "subslide"
    }
   },
   "source": [
    "Was vermuten Sie hinter dem Begriff [Worker Pool](http://www.slate.com/content/dam/slate/blogs/quora/2016/07/09/is_it_better_to_be_a_worker_bee_or_a_killer_bee_on_the_job/51341806-top-view-of-worker-bees-that-were-breed-by-self-taught.jpg.CROP.promo-xlarge2.jpg)?"
   ]
  },
  {
   "cell_type": "markdown",
   "metadata": {
    "slideshow": {
     "slide_type": "subslide"
    }
   },
   "source": [
    "Wieso ist der Befehl *map* für die Parallelisierung auf Prozess-Ebene sehr hilfreich?\n",
    "\n",
    "Nicht-parallele Version:"
   ]
  },
  {
   "cell_type": "code",
   "execution_count": null,
   "metadata": {
    "collapsed": true
   },
   "outputs": [],
   "source": [
    "%%timeit\n",
    "l2 = map(TSP.shortest_closed_path, l)\n",
    "resultSerial = min(l2)"
   ]
  },
  {
   "cell_type": "markdown",
   "metadata": {
    "slideshow": {
     "slide_type": "subslide"
    }
   },
   "source": [
    "Parallelisierte Version:"
   ]
  },
  {
   "cell_type": "code",
   "execution_count": null,
   "metadata": {
    "collapsed": true
   },
   "outputs": [],
   "source": [
    "%%timeit\n",
    "process_pool = multiprocessing.Pool(processes = nrOfCores)\n",
    "l2 = process_pool.map(TSP.shortest_closed_path, l)\n",
    "result_parallel = min(l2)\n",
    "process_pool.close()"
   ]
  },
  {
   "cell_type": "markdown",
   "metadata": {
    "slideshow": {
     "slide_type": "slide"
    }
   },
   "source": [
    "# Parallelisierung mit cython"
   ]
  },
  {
   "cell_type": "markdown",
   "metadata": {},
   "source": [
    "Das Modul [cython.parallel](http://docs.cython.org/en/stable/src/userguide/parallelism.html) erlaubt es, Cython-Code auf Thread-Ebene unter Verwendung von [OpenMP](http://www.openmp.org) zu parallelisieren."
   ]
  },
  {
   "cell_type": "markdown",
   "metadata": {
    "slideshow": {
     "slide_type": "fragment"
    }
   },
   "source": [
    "Erzeugung eines *numpy*-Arrays mit normalverteilten Zufallszahlen:"
   ]
  },
  {
   "cell_type": "code",
   "execution_count": 18,
   "metadata": {},
   "outputs": [
    {
     "name": "stdout",
     "output_type": "stream",
     "text": [
      "[ 0.67808509  2.26245785  1.77031088  2.30269146  1.90278184  3.32278061\n",
      "  2.81304121  4.01733303  2.60229015  4.23303556  2.93380141  1.36059141\n",
      "  2.85492468  4.17061663  3.50028014  4.45299864  4.55685139  2.69826555\n",
      "  2.10380983  3.05415988  1.88407469  2.5271914   3.60594797  2.03425741\n",
      "  3.67130113  2.82632184  0.35877532  3.91592336  4.44053698  2.43572187\n",
      "  1.43417394  2.4175787   3.01955271  3.39910412  3.87356043  3.40315509\n",
      "  3.16599631  2.51127458  4.94244337  3.02683735  4.04959059  3.75405383\n",
      "  3.87275052  1.14496994  3.5744288   3.66430736  3.24305558  5.38732672\n",
      "  3.73515844  2.64402485  3.1958456   3.64789915  2.8476522   3.96234226\n",
      "  3.32760596  1.47751915  2.76228833  3.59641957  1.54070079  2.84361458\n",
      "  2.94997692  2.14912748  4.04789734  4.53435898  1.89449537  1.97235942\n",
      "  1.826792    1.679474    1.72242129  3.10266662  2.22718716  4.57028008\n",
      "  2.76453495  2.10406518  3.67459536  3.49633145  2.84275317  3.85656977\n",
      "  2.49903345  2.91341352  2.7345829   3.93405151  4.55648947  3.19194269\n",
      "  4.06991911  2.99250865  2.99026251  2.72069979  4.03879309  3.43631315\n",
      "  3.0056076   2.18437457  3.57015371  1.52030122  4.19671202  1.88238728\n",
      "  2.76887512  5.09282541  4.54319763  2.70838857]\n",
      "<class 'numpy.ndarray'>\n"
     ]
    }
   ],
   "source": [
    "import numpy\n",
    "nrOfListEntries = 10**2\n",
    "a = numpy.random.normal(3, 1, size = nrOfListEntries).astype(numpy.float32)\n",
    "print(a)\n",
    "print(type(a))\n"
   ]
  },
  {
   "cell_type": "markdown",
   "metadata": {
    "slideshow": {
     "slide_type": "subslide"
    }
   },
   "source": [
    "Berechnung von Mittelwert und Standardabweichung in Python:"
   ]
  },
  {
   "cell_type": "code",
   "execution_count": 3,
   "metadata": {
    "collapsed": true
   },
   "outputs": [],
   "source": [
    "import numpy\n",
    "from math import sqrt\n",
    "\n",
    "def python_stat(l):\n",
    "    \"\"\"\n",
    "    calculate mean and standard deviation of data stored in a list\n",
    "    using pure python functions.\n",
    "    Args:\n",
    "        l list containing numbers\n",
    "    Returns:\n",
    "       (mean, standardDeviation) tuple\n",
    "    \"\"\"\n",
    "    accumulator = 0.0\n",
    "    N = len(l)\n",
    "    for x in l:\n",
    "        accumulator += x\n",
    "    average = accumulator / N\n",
    "    accumulator = 0.0\n",
    "    for x in l:\n",
    "        tmp = x - average\n",
    "        accumulator += tmp * tmp\n",
    "    standard_deviation = sqrt(accumulator / (N - 1))\n",
    "    return (average, standard_deviation)"
   ]
  },
  {
   "cell_type": "code",
   "execution_count": 4,
   "metadata": {
    "slideshow": {
     "slide_type": "subslide"
    }
   },
   "outputs": [
    {
     "name": "stdout",
     "output_type": "stream",
     "text": [
      "81.8 µs ± 8.36 µs per loop (mean ± std. dev. of 7 runs, 10000 loops each)\n",
      "(2.9430011034011843, 0.9874729459370226)\n"
     ]
    }
   ],
   "source": [
    "%timeit python_stat(a)\n",
    "print(python_stat(a))"
   ]
  },
  {
   "cell_type": "markdown",
   "metadata": {
    "slideshow": {
     "slide_type": "subslide"
    }
   },
   "source": [
    "Jetzt mit *cython* und *numpy*, siehe http://www.numpy.org."
   ]
  },
  {
   "cell_type": "code",
   "execution_count": 2,
   "metadata": {
    "collapsed": true
   },
   "outputs": [],
   "source": [
    "%load_ext Cython"
   ]
  },
  {
   "cell_type": "code",
   "execution_count": 3,
   "metadata": {
    "collapsed": true,
    "slideshow": {
     "slide_type": "subslide"
    }
   },
   "outputs": [],
   "source": [
    "%%cython \n",
    "\n",
    "\"\"\"\n",
    "Implementation of mean and standard deviation calculation using\n",
    "cython\n",
    "\"\"\"\n",
    "#from __future__ import with_statement\n",
    "import numpy\n",
    "cimport numpy\n",
    "cimport cython\n",
    "from libc.math cimport sqrt\n",
    "\n",
    "ctypedef numpy.float32_t dtype_t\n",
    "\n",
    "@cython.boundscheck(False)\n",
    "@cython.cdivision(True)\n",
    "cpdef numpy.ndarray[dtype_t, ndim=1] cython_stat(\n",
    "        numpy.ndarray[dtype_t, ndim=1] l):\n",
    "    \"\"\"\n",
    "    calculate mean and standard deviation of data stored in a list\n",
    "    using cython parallel.\n",
    "    Args:\n",
    "        l numpy array containing numbers\n",
    "    Returns:\n",
    "        list [mean, standardDeviation] \n",
    "    \"\"\"\n",
    "    cdef double average, standard_deviation, tmp\n",
    "    cdef double accumulator = 0.0\n",
    "    cdef long N, i\n",
    "\n",
    "    N = len(l)\n",
    "    for i in range(N):\n",
    "        accumulator += l[i]\n",
    "    average = accumulator / N\n",
    "    accumulator = 0.0\n",
    "    for i in range(N):\n",
    "        tmp = l[i] - average\n",
    "        accumulator += tmp * tmp\n",
    "    standard_deviation = sqrt(accumulator / (N - 1))\n",
    "\n",
    "    result = numpy.array((average, standard_deviation), numpy.float32)\n",
    "    return result"
   ]
  },
  {
   "cell_type": "code",
   "execution_count": 5,
   "metadata": {
    "slideshow": {
     "slide_type": "subslide"
    }
   },
   "outputs": [
    {
     "name": "stderr",
     "output_type": "stream",
     "text": [
      "\n",
      "Error compiling Cython file:\n",
      "------------------------------------------------------------\n",
      "...\n",
      "\n",
      "%timeit cython_stat(a)\n",
      "^\n",
      "------------------------------------------------------------\n",
      "\n",
      "/home/shiroten/.cache/ipython/cython/_cython_magic_e149687ad4c06557551a5ff6bcaadbba.pyx:2:0: Expected an identifier or literal\n"
     ]
    }
   ],
   "source": [
    "%timeit cython_stat(a)\n",
    "print(cython_stat(a))"
   ]
  },
  {
   "cell_type": "markdown",
   "metadata": {
    "slideshow": {
     "slide_type": "subslide"
    }
   },
   "source": [
    "Eine kleine Änderung und das Programm nutzt Threads zur Parallelisierung:"
   ]
  },
  {
   "cell_type": "code",
   "execution_count": 8,
   "metadata": {
    "collapsed": true
   },
   "outputs": [],
   "source": [
    "%%cython -f -c-fopenmp --link-args=-fopenmp\n",
    "\n",
    "\"\"\"\n",
    "Implementation of mean and standard deviation calculation using\n",
    "cython.parallel\n",
    "\"\"\"\n",
    "#from __future__ import with_statement\n",
    "\n",
    "from cython.parallel import prange\n",
    "import numpy\n",
    "cimport numpy\n",
    "cimport cython\n",
    "from libc.math cimport sqrt\n",
    "\n",
    "ctypedef numpy.float32_t dtype_t\n",
    "\n",
    "@cython.boundscheck(False)\n",
    "@cython.cdivision(True)\n",
    "cpdef numpy.ndarray[dtype_t, ndim=1] cython_stat_parallel(\n",
    "        numpy.ndarray[dtype_t, ndim=1] l):\n",
    "    \"\"\"\n",
    "    calculate mean and standard deviation of data stored in a list\n",
    "    using cython parallel.\n",
    "    Args:\n",
    "        l numpy array containing numbers\n",
    "    Returns:\n",
    "        list [mean, standardDeviation] \n",
    "    \"\"\"\n",
    "    cdef double average, standard_deviation, tmp\n",
    "    cdef double accumulator = 0.0\n",
    "    cdef long N, i\n",
    "\n",
    "    N = len(l)\n",
    "    for i in prange(N, nogil=True):\n",
    "        accumulator += l[i]\n",
    "    average = accumulator / N\n",
    "    accumulator = 0.0\n",
    "    for i in prange(N, nogil=True):\n",
    "        tmp = l[i] - average\n",
    "        accumulator += tmp * tmp\n",
    "    standard_deviation = sqrt(accumulator / (N - 1))\n",
    "\n",
    "    result = numpy.array((average, standard_deviation), numpy.float32)\n",
    "    return result"
   ]
  },
  {
   "cell_type": "code",
   "execution_count": 9,
   "metadata": {
    "slideshow": {
     "slide_type": "subslide"
    }
   },
   "outputs": [
    {
     "name": "stdout",
     "output_type": "stream",
     "text": [
      "24.6 µs ± 12.9 µs per loop (mean ± std. dev. of 7 runs, 10000 loops each)\n",
      "[ 2.94300103  0.98747295]\n"
     ]
    }
   ],
   "source": [
    "%timeit cython_stat_parallel(a)\n",
    "print(cython_stat_parallel(a))"
   ]
  },
  {
   "cell_type": "markdown",
   "metadata": {},
   "source": [
    "# Aufgaben, Abgabe bis 14.12.2017"
   ]
  },
  {
   "cell_type": "markdown",
   "metadata": {},
   "source": [
    "## Einführung"
   ]
  },
  {
   "cell_type": "markdown",
   "metadata": {},
   "source": [
    "1. Finden Sie heraus, welche Studierenden in Ihrem Team bereits parallelisierte Anwendungen eingesetzt haben und wie diese Anwendungen heißen.\n",
    "1. Warum werden heute nicht alle Anwendungen grundsätzlich so programmiert, dass sie mehrer Prozessor-Kerne unterstützen?\n",
    "1. Moderne Grafikkarten besitzen tausende von leistungsfähigen Rechen-Einheiten. Warum stattet man Rechner immer noch mit Prozessoren aus, statt die Grafikkarten für alle Anwendungen einzusetzen?\n",
    "1. Welche Beschleunigung durch Parallelisierung erwarten Sie sich für die TSP-Implementierung? (Schätzung mit Begründung)"
   ]
  },
  {
   "cell_type": "markdown",
   "metadata": {},
   "source": [
    "## Threads und Prozesse"
   ]
  },
  {
   "cell_type": "markdown",
   "metadata": {},
   "source": [
    "1. **Freiwillig:** Schauen Sie sich die gegebenen C-Programme genauer an und finden Sie heraus, wie die Synchronisation stattfindet. Eine Recherche in Fachbüchern oder dem Internet kann dabei hilfreich sein.\n",
    "1. **Freiwillig:** Compilieren und starten Sie die C-Programme und analysieren Sie die Ausgabe des Programms auf einem der Rechner im Labor M3.03. Was bedeuten die Begriffe *real, user* und *sys* und wie erklären Sie sich die Unterschiede zwischen den verschiedenen Implementierung bezüglich der Ausgaben von *time*?\n",
    "1. Können Sie sich bei dem Beispiel zur Erzeugung von Prozessen darauf verlassen, dass \"hello p1\" *vor* \"hello p2\" ausgegeben wird? (Begründung)\n",
    "1. Beschreiben Sie (Text, Skizze), wie man die rekursive TSP-Implementierung unter Verwendung von Prozessen und *Pipes* parallelisieren könnte. Wäre diese Implementierung ihrer Meinung nach schlechter oder besser zu verstehen als die ANSI-C-Programme?"
   ]
  },
  {
   "cell_type": "markdown",
   "metadata": {},
   "source": [
    "## Das Module multiprocessing"
   ]
  },
  {
   "cell_type": "markdown",
   "metadata": {},
   "source": [
    "1. Arbeiten Sie die vorgegebenen Beispiele nochmals durch und stellen Sie ggf. Fragen an den Dozenten.\n",
    "1. Starten Sie die parallelisierten TSP-Berechnungen auf einem Rechner im Labor M2.02 und vergleichen Sie die Rechenzeiten mit der der nicht parallelisierten Version.\n",
    "1. Warum wird die Aufgabe nicht in genau so viele Teilaufgaben unterteilt wie man CPU-Kerne hat?\n",
    "1. Was bewirkt der Befehl *inQueue.join()*?\n",
    "1. Erstellen Sie zwei parallelisierte Implementierung ihrer $\\pi$-Bistimmung nach Monte Carlo, wovon eine auf *map* und eine auf *Queues* basiert. Vergleichen Sie die Rechenzeiten mit denen ihrer bisherigen Version. Wurden Ihre Erwartungen bezüglich der Beschleunigung erfüllt?"
   ]
  },
  {
   "cell_type": "markdown",
   "metadata": {},
   "source": [
    "## Parallelisierung mit cython"
   ]
  },
  {
   "cell_type": "markdown",
   "metadata": {},
   "source": [
    "1. Was leistet OpenMP (siehe [hier](http://www.openmp.org/resources/tutorials-articles))?\n",
    "1. Welche Unterschiede gibt es zwischen der Parallelisierung mit *multiprocessing* und der Parallelisierung mit *cython* und *OpenMP*?\n",
    "1. Analysieren Sie die oben angegebene Beispiele und stellen Sie ggf. Fragen an den Dozenten.\n",
    "1. Ergänzen Sie die vorgegebenen Beispiele so, dass auch die Schiefe (skewness) und die Wölbung (kurtosis) einer Menge von Zufallszahlen, die einem *numpy*-Array gespeichert sind, mit *cython* berechnet werden. Welche Beschleunigung durch Parallelisierung konnten Sie erreichen?"
   ]
  },
  {
   "cell_type": "markdown",
   "metadata": {},
   "source": [
    "# Überprüfung"
   ]
  },
  {
   "cell_type": "markdown",
   "metadata": {},
   "source": [
    "1. Was bedeutet *Synchronisation* im Zusammenhang mit der Parallelisierung von Computerprogrammen? (max. vier Sätze)\n",
    "1. Erklären Sie die wesentlichen Unterschiede zwischen Prozessen und Threads. (max. vier Sätze)\n",
    "1. Nennen Sie zwei wichtige Gründe, warum die parallelisierte Version eines Programms auf einem Rechner mit N Prozessor-Kernen in der Regel nicht um einen Faktor N schneller läuft. (ca. zwei Sätze)"
   ]
  }
 ],
 "metadata": {
  "celltoolbar": "Slideshow",
  "kernelspec": {
   "display_name": "Python 3",
   "language": "python",
   "name": "python3"
  },
  "language_info": {
   "codemirror_mode": {
    "name": "ipython",
    "version": 3
   },
   "file_extension": ".py",
   "mimetype": "text/x-python",
   "name": "python",
   "nbconvert_exporter": "python",
   "pygments_lexer": "ipython3",
   "version": "3.6.3"
  },
  "latex_envs": {
   "LaTeX_envs_menu_present": true,
   "autocomplete": true,
   "bibliofile": "biblio.bib",
   "cite_by": "apalike",
   "current_citInitial": 1,
   "eqLabelWithNumbers": true,
   "eqNumInitial": 1,
   "hotkeys": {
    "equation": "Ctrl-E",
    "itemize": "Ctrl-I"
   },
   "labels_anchors": false,
   "latex_user_defs": false,
   "report_style_numbering": false,
   "user_envs_cfg": false
  }
 },
 "nbformat": 4,
 "nbformat_minor": 1
}
