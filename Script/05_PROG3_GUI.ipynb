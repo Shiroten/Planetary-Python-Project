{
 "cells": [
  {
   "cell_type": "markdown",
   "metadata": {
    "slideshow": {
     "slide_type": "slide"
    }
   },
   "source": [
    "Programmieren 3 - Grafische Benutzerschnittstellen\n",
    "\n",
    "Peter Rösch, Fakultät für Informatik\n",
    "\n",
    "Hochschule Augsburg, 2017/2018"
   ]
  },
  {
   "cell_type": "code",
   "execution_count": null,
   "metadata": {
    "collapsed": true,
    "slideshow": {
     "slide_type": "subslide"
    }
   },
   "outputs": [],
   "source": [
    "# Speichern des urspruenglichen Verzeichnisses\n",
    "%bookmark myNotebookDirectory"
   ]
  },
  {
   "cell_type": "markdown",
   "metadata": {
    "slideshow": {
     "slide_type": "subslide"
    }
   },
   "source": [
    "# Lernziele"
   ]
  },
  {
   "cell_type": "markdown",
   "metadata": {},
   "source": [
    "* Studierende kennen die Grundprinzipien Grafischer Benutzerschnittstellen.\n",
    "* Die Teilnehmen können ihre Kenntnisse in Swing auf die Python-Implementierung Jython übertragen.\n",
    "* Teilnehmer(innen) können anspruchsvolle GUI-Anwendungen mit dem Qt Designer, PyQt5 und Python interaktiv erstellen und vom IPython-Notebook aus nutzen.\n",
    "* Das vorgegebene Beispiel *galaxy_renderer* kann von Studierenden für das Semester-Projekt verwendet und ggf. modifiziert werden."
   ]
  },
  {
   "cell_type": "markdown",
   "metadata": {
    "slideshow": {
     "slide_type": "slide"
    }
   },
   "source": [
    "# Einführung und Wiederholung"
   ]
  },
  {
   "cell_type": "markdown",
   "metadata": {},
   "source": [
    "Die Geschichte der Grafischen Benutzerschnittstellen begann in den sechziger Jahren des letzten Jahrhunderts. Zusammenfassungen finden sich bei [Wikipedia](http://en.wikipedia.org/wiki/History_of_the_graphical_user_interface) sowie [hier](http://www.sitepoint.com/real-history-gui). Bemerkenswert ist, dass der erste [Prototyp einer Computer-Maus](http://www.macworld.com/article/1137400/mouse40.html) schon 1963 entstand.\n",
    "\n",
    "Zentral für die GUI-Programmierung ist die Behandlung von Ereignissen ([Events](http://en.wikipedia.org/wiki/Event_%28computing%29)), die vom Benutzer durch Eingaben mit Maus, Tastatur etc. ausgelöst werden. Verschiedene GUI-Toolkits setzen unterschiedliche Mechanismen ein, um diese Ereignisse zu verarbeiten. \n",
    "\n",
    "Ausgehend vom bereits bekannten *ActionListener*-Interfaces (Java) wird der *Signal/Slot*-Mechanismus [PyQt](http://www.riverbankcomputing.com/software/pyqt/intro) eingeführt. Der letzte Abschnitt nutzt dann [Callback-Funktionen](http://en.wikipedia.org/wiki/Callback_%28computer_programming%29) im Zusammenhang mit [tkinter](https://wiki.python.org/moin/TkInter) und [freeglut](http://freeglut.sourceforge.net/)."
   ]
  },
  {
   "cell_type": "markdown",
   "metadata": {
    "slideshow": {
     "slide_type": "slide"
    }
   },
   "source": [
    "# Prototypen-Entwicklung mit IPython - Schiefer Wurf"
   ]
  },
  {
   "cell_type": "markdown",
   "metadata": {},
   "source": [
    "Es wirkt die Gewichtskraft in negative z-Richtung\n",
    "$$F_z = -m g, \\; g = 9.81 \\frac{m}{s^2}$$\n",
    "Daraus ergibt sich die Beschleunigung in $z$-Richtung\n",
    "$$a_z = -g$$, also\n",
    "$$\\vec{a} = \\left( \\begin{array}{c} 0 \\\\ 0 \\\\ -g \\end{array}\\right)$$"
   ]
  },
  {
   "cell_type": "markdown",
   "metadata": {
    "slideshow": {
     "slide_type": "subslide"
    }
   },
   "source": [
    "Die Bewegung findet in einer Ebene statt. Entscheidung: Wir betrachten die $xz$-Ebene.\n",
    "Vorgegeben ist eine Anfangsgeschwindigkeit $|v_0|$, ein Startwinkel $\\alpha$ und ein Startpunkt $\\vec{x}_0$\n",
    "Daraus folgt:\n",
    "$$\\vec{v_0} = \\left( \\begin{array}{c} v_0 \\cos(\\alpha) \\\\ 0 \\\\ v_0 \\sin(\\alpha) \\end{array}\\right)$$\n",
    "Iteration:\n",
    "$$\\vec{x}_{n+1} = \\vec{x}_n + \\vec{v} \\, \\Delta t + \\vec{a} \\, \\frac{\\Delta t^2}{2}$$\n",
    "$$\\vec{v}_{n+1} = \\vec{v}_n +  \\vec{a} \\, \\Delta t$$"
   ]
  },
  {
   "cell_type": "code",
   "execution_count": null,
   "metadata": {
    "collapsed": true,
    "slideshow": {
     "slide_type": "subslide"
    }
   },
   "outputs": [],
   "source": [
    "# Prototyp\n",
    "import numpy as np\n",
    "import math\n",
    "import matplotlib.pyplot as plt\n",
    "%matplotlib inline\n",
    "#\n",
    "# Start\n",
    "x0 = np.array([20, 0, 10], np.float32)\n",
    "v0_abs = 20\n",
    "alpha = 45\n",
    "#alpha = 0\n",
    "alpha_rad = math.radians(alpha)\n",
    "g = -9.81\n",
    "a = np.array([0, 0, g], np.float32)\n",
    "delta_t = 0.01\n",
    "x = x0.copy()\n",
    "v = np.array([v0_abs*math.cos(alpha_rad), 0, \n",
    "              v0_abs*math.sin(alpha_rad)],\n",
    "              np.float32)"
   ]
  },
  {
   "cell_type": "code",
   "execution_count": null,
   "metadata": {
    "slideshow": {
     "slide_type": "subslide"
    }
   },
   "outputs": [],
   "source": [
    "#\n",
    "# Liste fuer die Zwischenpositionen\n",
    "pos_list = []\n",
    "#\n",
    "# Berechnung\n",
    "while x[2] >= 0.0:\n",
    "    x = x + v * delta_t +  a * delta_t**2 / 2\n",
    "    v = v + a * delta_t\n",
    "    pos_list.append(x)\n",
    "#\n",
    "# Anzeige\n",
    "plt.plot([x[0] for x in pos_list], [x[2] for x in pos_list])"
   ]
  },
  {
   "cell_type": "markdown",
   "metadata": {
    "slideshow": {
     "slide_type": "slide"
    }
   },
   "source": [
    "# Java und Swing"
   ]
  },
  {
   "cell_type": "code",
   "execution_count": null,
   "metadata": {
    "slideshow": {
     "slide_type": "subslide"
    }
   },
   "outputs": [],
   "source": [
    "%%file /tmp/Farbwechsel.java\n",
    "/* Quelle: H. Herold, B. Lurz, J. Wohlrab:\n",
    "        Grundlagen der Informatik, Pearson 2012,\n",
    "        Listing 7.17\n",
    "*/\n",
    "import java.awt.*;\n",
    "import java.awt.event.*; // fuer Ereignisse\n",
    "import javax.swing.*;\n",
    "\n",
    "public class Farbwechsel extends JFrame {\n",
    "   private Container c; // Container fuer Button\n",
    "   private JButton button;\n",
    "\n",
    "   public Farbwechsel(String titel) {\n",
    "      super(titel);\n",
    "      c = getContentPane(); // Container erzeugen\n",
    "\n",
    "      // 1. Button erzeugen\n",
    "      button = new JButton(\"Hintergrundfarbe wechseln\");\n",
    "      c.add(button, BorderLayout.NORTH); // Button oben anordnen\n",
    "\n",
    "      // 2. Listener fuer Events dem Button zuteilen\n",
    "      ButtonListener horcher = new ButtonListener();\n",
    "      button.addActionListener(horcher);\n",
    "   }\n",
    "   // Innere Listener-Klasse\n",
    "   class ButtonListener implements ActionListener {\n",
    "      public void actionPerformed(ActionEvent e) {\n",
    "         float rot   = (float) Math.random(); // Zufallszahl aus Intervall [0,1)\n",
    "         float gruen = (float) Math.random(); // Zufallszahl aus Intervall [0,1)\n",
    "         float blau  = (float) Math.random(); // Zufallszahl aus Intervall [0,1)\n",
    "         Color rgb = new Color(rot, gruen, blau);\n",
    "         c.setBackground(rgb);\n",
    "      }\n",
    "   }\n",
    "   public static void main(String[] args) {\n",
    "      Farbwechsel f = new Farbwechsel(\"Fenster mit Button\");\n",
    "      f.setSize(300, 200);\n",
    "      f.setVisible(true);\n",
    "      // Programm nun mit Mausklick auf Schliessen-Button beendbar\n",
    "      f.setDefaultCloseOperation(JFrame.EXIT_ON_CLOSE);\n",
    "   }\n",
    "}\n"
   ]
  },
  {
   "cell_type": "code",
   "execution_count": null,
   "metadata": {
    "slideshow": {
     "slide_type": "subslide"
    }
   },
   "outputs": [],
   "source": [
    "%%bash\n",
    "cd /tmp\n",
    "javac Farbwechsel.java\n",
    "java Farbwechsel"
   ]
  },
  {
   "cell_type": "markdown",
   "metadata": {
    "slideshow": {
     "slide_type": "subslide"
    }
   },
   "source": [
    "Swing wird zunehmend von [JavaFX](https://docs.oracle.com/javase/8/javafx/get-started-tutorial/jfx-overview.htm) abgelöst. Eine Zusammenstellung der Vorteile von JavaFX im Vergleich zu Swing finden Sie [hier](http://docs.oracle.com/javafx/2/swing/overview.htm#CJAHBAHA), Fachbücher in elektronischer Form können Sie über die [Safari Books](http://proquest.tech.safaribooksonline.de/search?q=javaFX) lesen."
   ]
  },
  {
   "cell_type": "markdown",
   "metadata": {
    "slideshow": {
     "slide_type": "subslide"
    }
   },
   "source": [
    "## Java und Swing - Aufgaben (freiwillig)"
   ]
  },
  {
   "cell_type": "markdown",
   "metadata": {},
   "source": [
    "1. Definieren Sie kurz die Begriffe *Interface* und *ActionListener* bezogen auf Java und Swing. (jeweils zwei Sätze)\n",
    "1. Analysieren Sie die Anwendung und stellen Sie sicher, dass Sie die einzelnen Zeilen verstehen. Erkundigen Sie sich ggf. beim Dozenten."
   ]
  },
  {
   "cell_type": "markdown",
   "metadata": {
    "slideshow": {
     "slide_type": "subslide"
    }
   },
   "source": [
    "## Jython und Swing"
   ]
  },
  {
   "cell_type": "markdown",
   "metadata": {
    "slideshow": {
     "slide_type": "subslide"
    }
   },
   "source": [
    "### Einführung in Jython"
   ]
  },
  {
   "cell_type": "markdown",
   "metadata": {},
   "source": [
    "[Jython](http://jython.org) ist eine Implementierung des Python-Interpreters in Java. Da *Jython* ein ganz normales Java-Programm ist, können Java-Klassen importiert und interaktiv genutzt werden."
   ]
  },
  {
   "cell_type": "code",
   "execution_count": null,
   "metadata": {
    "slideshow": {
     "slide_type": "subslide"
    }
   },
   "outputs": [],
   "source": [
    "%%file /tmp/Calculator.java\n",
    "public class Calculator{\n",
    "\n",
    "    private int geheim;\n",
    "\n",
    "    public int addInt(int a, int b){\n",
    "        return a+b;\n",
    "    }\n",
    "    public Calculator(){\n",
    "        this.geheim=33;\n",
    "    }\n",
    "    public String toString(){\n",
    "        return \"Calculator, geheim: \" + Integer.toString(this.geheim);\n",
    "    }\n",
    "}\n"
   ]
  },
  {
   "cell_type": "code",
   "execution_count": null,
   "metadata": {
    "slideshow": {
     "slide_type": "subslide"
    }
   },
   "outputs": [],
   "source": [
    "!javac /tmp/Calculator.java\n",
    "%cd /tmp"
   ]
  },
  {
   "cell_type": "code",
   "execution_count": null,
   "metadata": {
    "slideshow": {
     "slide_type": "fragment"
    }
   },
   "outputs": [],
   "source": [
    "%%script jython\n",
    "import Calculator\n",
    "c = Calculator()\n",
    "print(c.addInt(3, 4))\n",
    "print(c)"
   ]
  },
  {
   "cell_type": "markdown",
   "metadata": {
    "slideshow": {
     "slide_type": "subslide"
    }
   },
   "source": [
    "**Aufgabe (freiwillig):** Geben Sie in einem Terminal-Fenseter Ihrer virtuellen Maschine die Befehle\n",
    "\n",
    "    cd /tmp\n",
    "    jython \n",
    "\n",
    "ein, nachdem Sie die Quelldatei *Calculator.java* in */tmp* gespeichert und mit *javac* compiliert haben. Importieren Sie die Klasse und führen Sie interaktive Experimente durch (siehe oben)."
   ]
  },
  {
   "cell_type": "markdown",
   "metadata": {
    "slideshow": {
     "slide_type": "subslide"
    }
   },
   "source": [
    "## Swing"
   ]
  },
  {
   "cell_type": "code",
   "execution_count": null,
   "metadata": {},
   "outputs": [],
   "source": [
    "%%file /tmp/Farbwechsel.py\n",
    "from java.lang import Math, System\n",
    "from javax.swing import JFrame, JButton\n",
    "from java.awt import BorderLayout, Color\n",
    "\n",
    "class Farbwechsel(JFrame):\n",
    "    \n",
    "    def __init__(self, title, **kwd):\n",
    "        JFrame.__init__(self, title, **kwd)\n",
    "        button = JButton('Hintergrundfarbe wechseln',\n",
    "            actionPerformed = self.zufaelligEinfaerben)\n",
    "        self.contentPane.add(button, BorderLayout.NORTH)\n",
    "\n",
    "    def zufaelligEinfaerben(self, evt):\n",
    "        rot, gruen, blau = Math.random(), Math.random(), Math.random()\n",
    "        rgb = Color(rot, gruen, blau)\n",
    "        self.contentPane.setBackground(rgb)\n",
    "\n",
    "if __name__ == '__main__':\n",
    "    f = Farbwechsel('Farbwechsel', \n",
    "                    windowClosing = lambda event: System.exit(0),\n",
    "                    size=(300, 200))\n",
    "    f.setVisible(True)"
   ]
  },
  {
   "cell_type": "code",
   "execution_count": null,
   "metadata": {
    "collapsed": true,
    "slideshow": {
     "slide_type": "subslide"
    }
   },
   "outputs": [],
   "source": [
    "%%bash\n",
    "cd /tmp\n",
    "jython Farbwechsel.py"
   ]
  },
  {
   "cell_type": "markdown",
   "metadata": {
    "slideshow": {
     "slide_type": "subslide"
    }
   },
   "source": [
    "## Jython und Swing - Aufgaben (freiwillig)"
   ]
  },
  {
   "cell_type": "markdown",
   "metadata": {},
   "source": [
    "1. Vergleichen Sie den Jython- mit dem Java-Source-Code und diskutieren Sie die Unterschiede mit Ihren Kommilitonen.\n",
    "1. Welche Anwendungsmöglichkeiten für Jython sehen Sie? (siehe auch [hier](https://wiki.python.org/jython/JythonUsers))."
   ]
  },
  {
   "cell_type": "markdown",
   "metadata": {
    "slideshow": {
     "slide_type": "slide"
    }
   },
   "source": [
    "# Qt mit Python"
   ]
  },
  {
   "cell_type": "markdown",
   "metadata": {
    "slideshow": {
     "slide_type": "subslide"
    }
   },
   "source": [
    "## Qt - Grundlagen"
   ]
  },
  {
   "cell_type": "markdown",
   "metadata": {},
   "source": [
    "Die Verarbeitung von Ereignissen in Qt basiert auf dem [Signal-Slot-Konzept](http://de.wikipedia.org/wiki/Signal-Slot-Konzept), wobei die Kern-Funktionalität in C++ implementiert ist. Das Paket [PyQt](http://www.riverbankcomputing.com/software/pyqt/intro) erlaubt die Nutzung der Qt-Software von Python aus. Eine sehr gute Einführung bietet das Buch [Rapid GUI Programming with Python and Qt](http://www.qtrac.eu/pyqtbook.html) von Mark Summerfield, das auch über die [Safari-Books](http://proquest.tech.safaribooksonline.de/book/programming/python/9780132354189) verfügbar ist.\n",
    "\n",
    "Qt lässt sich von unterschiedlichen [Programmiersprachen](http://en.wikipedia.org/wiki/List_of_language_bindings_for_Qt_5) aus nutzen und funktioniert auf vielen Plattformen."
   ]
  },
  {
   "cell_type": "markdown",
   "metadata": {
    "slideshow": {
     "slide_type": "subslide"
    }
   },
   "source": [
    "## PyQt5"
   ]
  },
  {
   "cell_type": "markdown",
   "metadata": {},
   "source": [
    "Die Integration von PyQt in IPython-Notebooks geschieht über die \"magische Funktion\" *%gui qt5*, wie in der [Dokumentation](http://ipython.readthedocs.io/en/stable/config/eventloops.html) nachzulesen ist. "
   ]
  },
  {
   "cell_type": "code",
   "execution_count": null,
   "metadata": {
    "slideshow": {
     "slide_type": "subslide"
    }
   },
   "outputs": [],
   "source": [
    "%gui\n",
    "%gui qt5\n",
    "# zurueck ins Notebook-Verzeichnis\n",
    "#  ansonsten wird die Datei exit.png nicht gefunden\n",
    "%cd -b myNotebookDirectory"
   ]
  },
  {
   "cell_type": "markdown",
   "metadata": {},
   "source": [
    "Das folgende Beispiel enthält viele wiederverwendbare \"Bausteine\":"
   ]
  },
  {
   "cell_type": "code",
   "execution_count": null,
   "metadata": {
    "collapsed": true,
    "slideshow": {
     "slide_type": "subslide"
    }
   },
   "outputs": [],
   "source": [
    "from PyQt5 import QtWidgets, QtCore\n",
    "\n",
    "\n",
    "class QuitButton(QtWidgets.QWidget):\n",
    "\n",
    "    def __init__(self, parent=None):\n",
    "        super(QuitButton, self).__init__(parent)\n",
    "        self.setGeometry(300, 300, 250, 150)\n",
    "        self.setWindowTitle('Icon')\n",
    "\n",
    "        self.quit = QtWidgets.QPushButton('Quit', self)\n",
    "        self.quit.setGeometry(10, 10, 60, 35)\n",
    "        self.quit.clicked.connect(self.close)\n",
    "        \n",
    "qb = QuitButton()\n",
    "qb.show()"
   ]
  },
  {
   "cell_type": "markdown",
   "metadata": {
    "slideshow": {
     "slide_type": "fragment"
    }
   },
   "source": [
    "Außer der *QWidget*-Klasse gibt es weitere vordefinierte Elemente, die als Basis für eigene Anwendungen verwendet werden können. Beispiel: *QMainWindow*"
   ]
  },
  {
   "cell_type": "code",
   "execution_count": null,
   "metadata": {
    "collapsed": true,
    "slideshow": {
     "slide_type": "subslide"
    }
   },
   "outputs": [],
   "source": [
    "# source: http://zetcode.com/gui/pyqt5/menustoolbars/\n",
    "from PyQt5 import QtWidgets, QtGui\n",
    "\n",
    "class MainWindow(QtWidgets.QMainWindow):\n",
    "    \"\"\"\n",
    "        MainWindows with symbol, tooltip etc.\n",
    "    \"\"\"\n",
    "    def __init__(self):\n",
    "        QtWidgets.QMainWindow.__init__(self)\n",
    "\n",
    "        self.resize(350, 250)\n",
    "        self.setWindowTitle('MainWindow')\n",
    "        textEdit = QtWidgets.QTextEdit()\n",
    "        self.setCentralWidget(textEdit)\n",
    "        exit = QtWidgets.QAction(\n",
    "            QtGui.QIcon('exit.png'), '&Exit', self)\n",
    "        exit.setShortcut('Ctrl+Q')\n",
    "        exit.setStatusTip('Exit application')\n",
    "        exit.triggered.connect(self.close)\n",
    "        self.statusBar()\n",
    "        menubar = self.menuBar()\n",
    "        file = menubar.addMenu('&File')\n",
    "        file.addAction(exit)\n",
    "        toolbar = self.addToolBar('Exit')\n",
    "        toolbar.addAction(exit)\n",
    "main = MainWindow()\n",
    "main.show()"
   ]
  },
  {
   "cell_type": "markdown",
   "metadata": {
    "slideshow": {
     "slide_type": "subslide"
    }
   },
   "source": [
    "**Aufgaben (empfohlen):** \n",
    "\n",
    "1. Experimentieren Sie mit den Interaktions-Möglichkeiten, die Ihnen die Klasse MainWindow bietet und schauen Sie die Befehle, die unklar sind, in der [Dokumentation](http://pyqt.sourceforge.net/Docs/PyQt5) nach.\n",
    "1. Ergänzen Sie das Beispiel um einen Menü-Punkt Ihrer Wahl."
   ]
  },
  {
   "cell_type": "markdown",
   "metadata": {
    "slideshow": {
     "slide_type": "subslide"
    }
   },
   "source": [
    "Widgets können durch *Signals* und *Slots* miteinander verbunden werden:"
   ]
  },
  {
   "cell_type": "code",
   "execution_count": null,
   "metadata": {
    "collapsed": true,
    "slideshow": {
     "slide_type": "subslide"
    }
   },
   "outputs": [],
   "source": [
    "import sys\n",
    "from PyQt5 import QtGui, QtWidgets, QtCore\n",
    "class SigSlot(QtWidgets.QDialog):\n",
    "    def __init__(self, parent=None):\n",
    "        QtWidgets.QDialog.__init__(self)\n",
    "        self.setWindowTitle('signal & slot')\n",
    "        self.dial = QtWidgets.QDial()\n",
    "        self.dial.setNotchesVisible(True)        \n",
    "        self.spinbox = QtWidgets.QSpinBox()\n",
    "        self.layout = QtWidgets.QHBoxLayout()\n",
    "        self.layout.addWidget(self.dial)\n",
    "        self.layout.addWidget(self.spinbox)\n",
    "        self.setLayout(self.layout)\n",
    "        self.dial.valueChanged.connect(self.spinbox.setValue)\n",
    "        self.spinbox.valueChanged.connect(self.dial.setValue)\n",
    "\n",
    "qb = SigSlot()\n",
    "qb.show()"
   ]
  },
  {
   "cell_type": "markdown",
   "metadata": {
    "slideshow": {
     "slide_type": "subslide"
    }
   },
   "source": [
    "Mit Signals und Slots können auch eigene Funktionen und Methoden mit Bedienelementen verknüpft werden."
   ]
  },
  {
   "cell_type": "code",
   "execution_count": null,
   "metadata": {
    "slideshow": {
     "slide_type": "subslide"
    }
   },
   "outputs": [],
   "source": [
    "from PyQt5 import QtWidgets\n",
    "\n",
    "class MoinButton(QtWidgets.QWidget):\n",
    "\n",
    "    def __init__(self, parent=None):\n",
    "        QtWidgets.QWidget.__init__(self)\n",
    "        self.setGeometry(300, 300, 250, 150)\n",
    "        self.setWindowTitle('Moin')\n",
    "        self.moinButton = QtWidgets.QPushButton('Moin', self)\n",
    "        self.moinButton.setGeometry(100, 10, 60, 35)\n",
    "        self.moinButton.clicked.connect(MoinButton.moin)\n",
    "\n",
    "    @staticmethod\n",
    "    def moin():\n",
    "        print('MoinMoin')\n",
    "\n",
    "qb = MoinButton()\n",
    "qb.show()"
   ]
  },
  {
   "cell_type": "markdown",
   "metadata": {
    "slideshow": {
     "slide_type": "subslide"
    }
   },
   "source": [
    "**Aufgaben (empfohlen):**\n",
    "\n",
    "1. Verschaffen Sie sich einen Überblick über [dieses Tutorial](http://zetcode.com/gui/pyqt5).\n",
    "1. Ergänzen Sie die Klasse *SigSlot* um einen Schieberegler, der mit den anderen Elementen gekoppelt ist. Sobald Sie die Einstellung eines Elements modifizieren, sollen sich die anderen beiden Elemente anpassen.\n",
    "1. Visualisieren Sie die Beziehungen zwischen den Widgets in der von Ihnen ergänzten Anwendung (Papier / Bleistift)."
   ]
  },
  {
   "cell_type": "markdown",
   "metadata": {
    "slideshow": {
     "slide_type": "slide"
    }
   },
   "source": [
    "## PyQt4"
   ]
  },
  {
   "cell_type": "markdown",
   "metadata": {
    "slideshow": {
     "slide_type": "subslide"
    }
   },
   "source": [
    "Die Unterschiede zwischen *PyQt4* und *PyQt5* sind [hier](http://pyqt.sourceforge.net/Docs/PyQt5/pyqt4_differences.html) zusammengestellt."
   ]
  },
  {
   "cell_type": "markdown",
   "metadata": {
    "slideshow": {
     "slide_type": "slide"
    }
   },
   "source": [
    "# Der Qt-Designer"
   ]
  },
  {
   "cell_type": "markdown",
   "metadata": {
    "slideshow": {
     "slide_type": "subslide"
    }
   },
   "source": [
    "## Erstellung einer GUI"
   ]
  },
  {
   "cell_type": "markdown",
   "metadata": {},
   "source": [
    "Das Programm *designer* erlaubt es Ihnen, grafische Benutzerschnittstellen interaktiv zu erstellen und zu modifizieren.\n",
    "\n",
    "**Aufgaben:**\n",
    "\n",
    "1. Verschaffen Sie sich einen Überblick über die [Dokumentation des Qt-Designers](http://pyqt.sourceforge.net/Docs/PyQt5/designer.html).\n",
    "1. Welche wichtigen Gründe gibt es dafür, Benutzeroberflächen mit dem Designer zu entwerfen anstatt sie im Programm-Code zu definieren?"
   ]
  },
  {
   "cell_type": "markdown",
   "metadata": {
    "slideshow": {
     "slide_type": "subslide"
    }
   },
   "source": [
    "## Einbindung in eine Python-Anwendung"
   ]
  },
  {
   "cell_type": "markdown",
   "metadata": {},
   "source": [
    "Folgende Applikation lädt eine mit dem Designer erstellte ui-Datei und nutzt die Signal/Slot-Verbindungen, die im Designer definiert wurden."
   ]
  },
  {
   "cell_type": "code",
   "execution_count": null,
   "metadata": {
    "collapsed": true,
    "slideshow": {
     "slide_type": "subslide"
    }
   },
   "outputs": [],
   "source": [
    "from PyQt5 import QtWidgets, QtGui, uic\n",
    "\n",
    "class UiDemo(QtWidgets.QDialog):\n",
    "    # constructor\n",
    "    def __init__(self):\n",
    "        QtWidgets.QDialog.__init__(self)\n",
    "        # load and show the user interface created with the designer.\n",
    "        self.ui = uic.loadUi('qtDemo.ui')\n",
    "        self.ui.show()\n",
    "\n",
    "uiDemo = UiDemo()"
   ]
  },
  {
   "cell_type": "markdown",
   "metadata": {
    "slideshow": {
     "slide_type": "subslide"
    }
   },
   "source": [
    "Das nächste Beispiel verbindet eine selbst definierte Methode mit einem Button-Signal:"
   ]
  },
  {
   "cell_type": "code",
   "execution_count": null,
   "metadata": {
    "slideshow": {
     "slide_type": "subslide"
    }
   },
   "outputs": [],
   "source": [
    "from PyQt5 import QtWidgets, QtGui, uic\n",
    "\n",
    "class UiDemo(QtWidgets.QDialog):\n",
    "    # constructor\n",
    "    def __init__(self):\n",
    "        QtWidgets.QDialog.__init__(self)\n",
    "\n",
    "        # load and show the user interface from Designer.\n",
    "        self.ui = uic.loadUi('qtDemo.ui')\n",
    "        self.ui.show()\n",
    "\n",
    "        # Connect up the button.\n",
    "        self.ui.myPushButton.clicked.connect(self.printLcdNumber)\n",
    "\n",
    "    # own function to print a number\n",
    "    def printLcdNumber(self):\n",
    "        number = self.ui.myHorizontalSlider.value()\n",
    "        print('number: ', number)\n",
    "\n",
    "uiDemo = UiDemo()"
   ]
  },
  {
   "cell_type": "markdown",
   "metadata": {
    "slideshow": {
     "slide_type": "subslide"
    }
   },
   "source": [
    "Mit der Bibliothek *matplotlib* können Funktionsgraphen in PyQt-Anwendungen eingebunden werden: "
   ]
  },
  {
   "cell_type": "code",
   "execution_count": null,
   "metadata": {
    "collapsed": true,
    "slideshow": {
     "slide_type": "subslide"
    }
   },
   "outputs": [],
   "source": [
    "from PyQt5 import QtWidgets, uic\n",
    "from numpy import arange, sin, cos, pi\n",
    "from matplotlib.backends.backend_qt5agg import FigureCanvasQTAgg \\\n",
    "    as FigureCanvas\n",
    "from matplotlib.figure import Figure\n",
    "\n",
    "class MatplotlibDemo(QtWidgets.QMainWindow):\n",
    "    \n",
    "    def __init__(self):\n",
    "        QtWidgets.QMainWindow.__init__(self)\n",
    "        self.ui = uic.loadUi('matplotlib_demo.ui')\n",
    "        self.fig = Figure(figsize=(5, 4), dpi=100)\n",
    "        self.figureCanvas = FigureCanvas(self.fig)\n",
    "        self.figureCanvas.setParent(self.ui.drawWidget)\n",
    "        \n",
    "        self.axes = self.fig.add_subplot(111)\n",
    "        self.figureCanvas.setSizePolicy(QtWidgets.QSizePolicy.Expanding,\n",
    "                                   QtWidgets.QSizePolicy.Expanding)\n",
    "        self.figureCanvas.updateGeometry()\n",
    "        self.ui.show()\n",
    "        self.__zeichneFunktion(lambda x : 0 * x)\n",
    "        self.ui.sinusKnopf.clicked.connect(self.zeichneSinus)\n",
    "        self.ui.cosinusKnopf.clicked.connect(self.zeichneCosinus)\n",
    "        self.ui.sincKnopf.clicked.connect(self.zeichneSinc)\n",
    "        \n",
    "    def __zeichneFunktion(self, f, yGrenzen = (-1.2, 1.2)):\n",
    "        xGrenzen = (-5 * pi, 5 * pi)\n",
    "        x = arange(xGrenzen[0], xGrenzen[1], .01)\n",
    "        self.axes.clear()\n",
    "        self.axes.plot(x, f(x))\n",
    "        self.axes.set_xlim(xGrenzen)\n",
    "        self.axes.set_ylim(yGrenzen)\n",
    "        self.figureCanvas.draw()\n",
    "        \n",
    "    def zeichneSinus(self):\n",
    "        self.ui.statusZeile.showMessage('Sinus-Kurve')\n",
    "        self.__zeichneFunktion(sin)\n",
    "        \n",
    "    def zeichneCosinus(self):\n",
    "        self.ui.statusZeile.showMessage('Cosinus-Kurve')\n",
    "        self.__zeichneFunktion(cos)\n",
    "        \n",
    "    def zeichneSinc(self):\n",
    "        self.ui.statusZeile.showMessage('Sinc-Kurve, sin(x)/x')\n",
    "        self.__zeichneFunktion(lambda x : sin(x) / x, \n",
    "                               yGrenzen=(-0.3, 1.1))\n",
    "            \n",
    "matplotlibDemo = MatplotlibDemo()"
   ]
  },
  {
   "cell_type": "markdown",
   "metadata": {
    "slideshow": {
     "slide_type": "subslide"
    }
   },
   "source": [
    "**Aufgaben (emfohlen):**\n",
    "\n",
    "1. Greifen Sie von einer Zelle des IPython-Notebooks auf Methoden des Objekts *uiDemo* zu, während die Anwendung läuft.\n",
    "1. Ergänzen Sie die Benutzeroberfläche *qtDemo* im Designer um einen Button, der die Anwendung beendet.\n",
    "1. Experimentieren Sie mit der Klasse *MatplotlibDemo*."
   ]
  },
  {
   "cell_type": "markdown",
   "metadata": {
    "slideshow": {
     "slide_type": "subslide"
    }
   },
   "source": [
    "## PyQt5 in Spyder - bitte beachten"
   ]
  },
  {
   "cell_type": "markdown",
   "metadata": {},
   "source": [
    "Da *spyder* auf Qt5 basiert, kommen sich die Qt-Event-Loops von Anwendung und *spyder* in die Quere. \n",
    "\n",
    "Daher gilt:\n",
    "Qt-Anwendungen von *spyder* aus nur im externen Terminal starten, also mit der run-Einstellung **Execute in an external system terminal**."
   ]
  },
  {
   "cell_type": "markdown",
   "metadata": {
    "slideshow": {
     "slide_type": "slide"
    }
   },
   "source": [
    "# Tkinter mit Python"
   ]
  },
  {
   "cell_type": "markdown",
   "metadata": {},
   "source": [
    "## Tkinter - Grundlagen"
   ]
  },
  {
   "cell_type": "markdown",
   "metadata": {},
   "source": [
    "Tkinter ist Teil der Python-Standard-Distribution und nutzt callback-Funktionen, um Widgets mit Ereignissen zu verbinden. Ein Tutorial finden Sie [hier](http://zetcode.com/gui/tkinter/). "
   ]
  },
  {
   "cell_type": "code",
   "execution_count": null,
   "metadata": {
    "slideshow": {
     "slide_type": "subslide"
    }
   },
   "outputs": [],
   "source": [
    "%%file /tmp/calc.py\n",
    "import tkinter\n",
    "from tkinter import W, E, N, S\n",
    "from tkinter import ttk\n",
    "\n",
    "def calculate(*args):\n",
    "    try:\n",
    "        value = float(feet.get())\n",
    "        meters.set((0.3048 * value * 10000.0 + 0.5)/10000.0)\n",
    "    except ValueError:\n",
    "        pass\n",
    "    \n",
    "root = tkinter.Tk()\n",
    "root.title(\"Feet to Meters\")\n",
    "\n",
    "mainframe = ttk.Frame(root, padding=\"3 3 12 12\")\n",
    "mainframe.grid(column=0, row=0, sticky=(N, W, E, S))\n",
    "mainframe.columnconfigure(0, weight=1)\n",
    "mainframe.rowconfigure(0, weight=1)\n",
    "\n",
    "feet = tkinter.StringVar()\n",
    "meters = tkinter.StringVar()\n",
    "\n",
    "feet_entry = ttk.Entry(mainframe, width=7, textvariable=feet)\n",
    "feet_entry.grid(column=2, row=1, sticky=(W, E))\n",
    "\n",
    "ttk.Label(mainframe, textvariable=meters).grid(\n",
    "                                    column=2, row=2, sticky=(W, E))\n",
    "ttk.Button(mainframe, text=\"Calculate\", command=calculate).grid(\n",
    "                                    column=3, row=3, sticky=W)\n",
    "\n",
    "ttk.Label(mainframe, text=\"feet\").grid(column=3, row=1, sticky=W)\n",
    "ttk.Label(mainframe, text=\"is equivalent to\").grid(column=1,\n",
    "                                                   row=2, sticky=E)\n",
    "ttk.Label(mainframe, text=\"meters\").grid(column=3, row=2, sticky=W)\n",
    "\n",
    "for child in mainframe.winfo_children(): child.grid_configure(\n",
    "                                                    padx=5, pady=5)\n",
    "\n",
    "feet_entry.focus()\n",
    "root.bind('<Return>', calculate)\n",
    "\n",
    "root.mainloop()"
   ]
  },
  {
   "cell_type": "code",
   "execution_count": null,
   "metadata": {
    "collapsed": true,
    "slideshow": {
     "slide_type": "subslide"
    }
   },
   "outputs": [],
   "source": [
    "%%bash\n",
    "python /tmp/calc.py"
   ]
  },
  {
   "cell_type": "markdown",
   "metadata": {},
   "source": [
    "**Aufgaben (freiwillig):**\n",
    "\n",
    "1. Schauen Sie sich das [Tkinter-Tutorial](http://www.tkdocs.com/tutorial/index.html) an und verschaffen Sie sich einen Überblick über die Widgets, die Tkinter zur Verfügung stellt.\n",
    "1. Vergleichen Sie die Vor- und Nachteile von tkinter und PyQt5 (Tabelle)."
   ]
  },
  {
   "cell_type": "markdown",
   "metadata": {
    "slideshow": {
     "slide_type": "slide"
    }
   },
   "source": [
    "# 3D-Visualisierung für die Simulation"
   ]
  },
  {
   "cell_type": "markdown",
   "metadata": {
    "collapsed": true
   },
   "source": [
    "## Ziele"
   ]
  },
  {
   "cell_type": "markdown",
   "metadata": {},
   "source": [
    "* Animierte 3D-Ausgabe beleuchteter Kugeln.\n",
    "* Einfache Anbindung an verschiedene Gravitations-Simulationen.\n",
    "* Plattformunabhängigkeit.\n",
    "* Integration in den Designer."
   ]
  },
  {
   "cell_type": "markdown",
   "metadata": {
    "slideshow": {
     "slide_type": "subslide"
    }
   },
   "source": [
    "## OpenGL und PyQt"
   ]
  },
  {
   "cell_type": "markdown",
   "metadata": {},
   "source": [
    "Leider wurde PyQt5 für anaconda ohne OpenGL-Support compiliert. Daher kann das in den letzten Jahren verwendete *GalaxyWidget* nicht weiter verwendet werden und wurde durch eine Lösung ersetzt, die auf [PyOpenGL](http://pyopengl.sourceforge.net) und [Pipes](https://docs.python.org/3.6/library/multiprocessing.html#multiprocessing.Pipe) basiert."
   ]
  },
  {
   "cell_type": "markdown",
   "metadata": {
    "slideshow": {
     "slide_type": "subslide"
    }
   },
   "source": [
    "Fragen:\n",
    "1. Was verbirgt sich hinter dem Begriff *Event Loop*?\n",
    "1. Wie kann man zwei Bibliotheken (PyQt5 und glut), die jeweils einen eigenen Event Loop haben, kombinieren?\n",
    "1. Was bedeutet der Begriff *Pipe*?\n",
    "\n",
    "Das Beispiel *galaxy_renderer* zeigt einen möglichen Aufbau für Ihre Simulation (Tafel/Rechner)."
   ]
  },
  {
   "cell_type": "markdown",
   "metadata": {
    "slideshow": {
     "slide_type": "subslide"
    }
   },
   "source": [
    "## Struktur der Anwendung"
   ]
  },
  {
   "cell_type": "markdown",
   "metadata": {},
   "source": [
    "Die auf OpenGL basierende Visualisierung läuft in einem eigenen Prozess mit *glut*-Event-Loop. Aktuelle Daten (Positionen und Radien von Körpern) erhält der Prozess über eine Pipe, die periodisch gelesen wird (*glutIdleFunc*). \n",
    "\n",
    "Um eine Verbindung zwischen zwei Prozessen über eine Pipe herzustellen, werden die beiden Prozesse von einem dritten Prozess aus gestartet, wobei die beiden \"Enden\" der Pipe in diesem dritten Prozess erstellt und an die beiden anderen Prozesse (Simulation und Visualisierung) übergeben werden."
   ]
  },
  {
   "cell_type": "markdown",
   "metadata": {
    "slideshow": {
     "slide_type": "slide"
    }
   },
   "source": [
    "## PyOpenGL für die Darstellung"
   ]
  },
  {
   "cell_type": "markdown",
   "metadata": {
    "collapsed": true,
    "slideshow": {
     "slide_type": "-"
    }
   },
   "source": [
    "    self.mouse_interactor.apply_transformation()\n",
    "    for body_index in range(self.bodies.shape[0]):\n",
    "        body = self.bodies[body_index, :]\n",
    "        GL.glPushMatrix()\n",
    "        GL.glTranslatef(body[0], body[1], body[2])\n",
    "        GL.glScalef(body[3], body[3], body[3])\n",
    "        GL.glCallList(self.sphere)\n",
    "        GL.glPopMatrix()\n",
    "    GLUT.glutSwapBuffers()"
   ]
  },
  {
   "cell_type": "markdown",
   "metadata": {
    "slideshow": {
     "slide_type": "subslide"
    }
   },
   "source": [
    "## Maus-Interaktion über glut"
   ]
  },
  {
   "cell_type": "markdown",
   "metadata": {},
   "source": [
    "    delta_x = x_pos - self.old_mouse_pos[0]\n",
    "    delta_y = y_pos - self.old_mouse_pos[1]\n",
    "    if self.mouse_button_pressed == GLUT.GLUT_RIGHT_BUTTON:\n",
    "        trans_x = delta_x * self.scaling_factor_translation\n",
    "        trans_y = delta_y * self.scaling_factor_translation\n",
    "        self.translation_matrix.add_translation(trans_x, -trans_y, 0)"
   ]
  },
  {
   "cell_type": "markdown",
   "metadata": {
    "slideshow": {
     "slide_type": "subslide"
    }
   },
   "source": [
    "    elif self.mouse_button_pressed == GLUT.GLUT_LEFT_BUTTON:\n",
    "        rot_y = delta_x * self.scaling_factor_rotation\n",
    "        self.rotation_matrix.add_rotation(rot_y, 0, 1, 0)\n",
    "        rot_x = delta_y * self.scaling_factor_rotation\n",
    "        self.rotation_matrix.add_rotation(rot_x, 1, 0, 0)\n",
    "    else:\n",
    "        trans_z = delta_y * self.scaling_factor_translation\n",
    "        self.translation_matrix.add_translation(0, 0, trans_z)\n",
    "    self.old_mouse_pos[0], self.old_mouse_pos[1] = x_pos, y_pos\n",
    "    GLUT.glutPostRedisplay()"
   ]
  },
  {
   "cell_type": "markdown",
   "metadata": {
    "slideshow": {
     "slide_type": "subslide"
    }
   },
   "source": [
    "## Einbinden der eigenen Simulation - Hinweise"
   ]
  },
  {
   "cell_type": "markdown",
   "metadata": {
    "slideshow": {
     "slide_type": "subslide"
    }
   },
   "source": [
    "1. Die Visualisierung stellt den Raumbereich im Würfel mit den Eckpunkten $(-1, 1, 1)$ und $(1, 1, 1)$ dar. **Frage:** Was bedeutet das für die Simulation?\n",
    "1. Die Maus-Interaktion funktioniert wie folgt:\n",
    "    * Linke Taste: Rotation\n",
    "    * Mittlere Taste: Zoom\n",
    "    * Rechte Taste: Verschiebung\n",
    "1. Die beiden Skripte *simulation_starter.py* und *simulation_gui.py* zeigen Ihnen, wie Simulation und Visualisierung von der Kommandozeile bzw. von einer PyQt5-Anwendung aus gestartet werden können. **Frage:** Welche Möglichkeiten gibt es, die Einstellungen von der grafischen Benutzerschnittstelle zur Simulation bzw. zur Visualisierung zu übertragen? "
   ]
  },
  {
   "cell_type": "markdown",
   "metadata": {
    "slideshow": {
     "slide_type": "slide"
    }
   },
   "source": [
    "# Übungsaufgaben, Abgabe bis 16.11.2017"
   ]
  },
  {
   "cell_type": "markdown",
   "metadata": {},
   "source": [
    "1. Führen Sie Experimente mit der Anwendung *galaxy_renderer* durch.\n",
    "    1. Wie können Sie die Visualisierung in Ihre Gravitations-Simulation einbinden?\n",
    "    1. Welche Bedeutung haben die Konstanten *_CAMERA_POSITION* und *_LIGHT_POSITION*?\n",
    "    1. Klären Sie offene Fragen mit dem Dozenten.\n",
    "1. Welche Struktur sollten PyQt-Anwendung haben, damit eine Umstellung auf ein anderes GUI-Toolkit (z.B. *gtk*) mit wenig Aufwand möglich ist? (Skizze, Papier/Bleistift)\n",
    "1. Erstellen Sie mit dem Designer und PyQt5 eine beeindruckende Demo-Anwendung, die viele unterschiedliche Qt-Widgets nutzt."
   ]
  },
  {
   "cell_type": "markdown",
   "metadata": {
    "slideshow": {
     "slide_type": "subslide"
    }
   },
   "source": [
    "# Überprüfung"
   ]
  },
  {
   "cell_type": "markdown",
   "metadata": {},
   "source": [
    "1. Erklären Sie den Unterschied zwischen \"Callback-Funktionen\" und dem \"Signal / Slot\"-Mechanismus. (max. vier Sätze)\n",
    "1. Welche Vorteile bietet die Kombination von IPython-Notebooks und PyQt5 für die interaktive Software-Entwicklung? (max. zwei Sätze)"
   ]
  }
 ],
 "metadata": {
  "celltoolbar": "Slideshow",
  "kernelspec": {
   "display_name": "Python [default]",
   "language": "python",
   "name": "python3"
  },
  "language_info": {
   "codemirror_mode": {
    "name": "ipython",
    "version": 3
   },
   "file_extension": ".py",
   "mimetype": "text/x-python",
   "name": "python",
   "nbconvert_exporter": "python",
   "pygments_lexer": "ipython3",
   "version": "3.6.2"
  },
  "latex_envs": {
   "LaTeX_envs_menu_present": true,
   "autocomplete": true,
   "bibliofile": "biblio.bib",
   "cite_by": "apalike",
   "current_citInitial": 1,
   "eqLabelWithNumbers": true,
   "eqNumInitial": 1,
   "hotkeys": {
    "equation": "Ctrl-E",
    "itemize": "Ctrl-I"
   },
   "labels_anchors": false,
   "latex_user_defs": false,
   "report_style_numbering": false,
   "user_envs_cfg": false
  }
 },
 "nbformat": 4,
 "nbformat_minor": 1
}
