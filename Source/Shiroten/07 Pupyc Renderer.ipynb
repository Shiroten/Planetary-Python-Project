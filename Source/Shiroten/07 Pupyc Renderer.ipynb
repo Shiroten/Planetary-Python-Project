{
 "cells": [
  {
   "cell_type": "code",
   "execution_count": null,
   "metadata": {
    "collapsed": true
   },
   "outputs": [],
   "source": [
    "import ospubyc_renderer_temp\n",
    "os.mkdir('./')"
   ]
  },
  {
   "cell_type": "code",
   "execution_count": 23,
   "metadata": {},
   "outputs": [
    {
     "name": "stdout",
     "output_type": "stream",
     "text": [
      "Overwriting ./pubyc_renderer_temp/abstand.pxd\n"
     ]
    }
   ],
   "source": [
    "%%file ./pubyc_renderer_temp/abstand.pxd\n",
    "cdef void Abstand (double [:, :], double[:], int, int) nogil"
   ]
  },
  {
   "cell_type": "code",
   "execution_count": 24,
   "metadata": {},
   "outputs": [
    {
     "name": "stdout",
     "output_type": "stream",
     "text": [
      "Overwriting ./pubyc_renderer_temp/abstand.pyx\n"
     ]
    }
   ],
   "source": [
    "%%file ./pubyc_renderer_temp/abstand.pyx\n",
    "cimport cython\n",
    "#Abstands Funktion\n",
    "#Abstand_Sonne = position[1] - position[0]\n",
    "\n",
    "@cython.boundscheck(False)\n",
    "@cython.cdivision(True)\n",
    "cdef void Abstand (double [:, :] position_view , double[:] result ,int head, int tail) nogil:   \n",
    "    result[0] = position_view[head][0] - position_view[tail][0]\n",
    "    result[1] = position_view[head][1] - position_view[tail][1]\n",
    "    result[2] = position_view[head][2] - position_view[tail][2]"
   ]
  },
  {
   "cell_type": "code",
   "execution_count": 25,
   "metadata": {},
   "outputs": [
    {
     "name": "stdout",
     "output_type": "stream",
     "text": [
      "Overwriting ./pubyc_renderer_temp/betrag.pxd\n"
     ]
    }
   ],
   "source": [
    "%%file ./pubyc_renderer_temp/betrag.pxd\n",
    "cdef void Betrag (double [:], double[:]) nogil"
   ]
  },
  {
   "cell_type": "code",
   "execution_count": 26,
   "metadata": {},
   "outputs": [
    {
     "name": "stdout",
     "output_type": "stream",
     "text": [
      "Overwriting ./pubyc_renderer_temp/betrag.pyx\n"
     ]
    }
   ],
   "source": [
    "%%file ./pubyc_renderer_temp/betrag.pyx\n",
    "cimport cython\n",
    "from libc.math cimport sqrt\n",
    "\n",
    "\n",
    "#Betrags Funktion\n",
    "#Betrag_Erde  = sqrt( Abstand_Erde**2 + Abstand_Erde**2 + Abstand_Erde**2)\n",
    "@cython.boundscheck(False)\n",
    "@cython.cdivision(True)\n",
    "cdef void Betrag (double [:] abstand_view , double[:] result) nogil:\n",
    "    result[0] = sqrt(abstand_view[0]**2 + abstand_view[1]**2 + abstand_view[2]**2)"
   ]
  },
  {
   "cell_type": "code",
   "execution_count": 27,
   "metadata": {},
   "outputs": [
    {
     "name": "stdout",
     "output_type": "stream",
     "text": [
      "Overwriting ./pubyc_renderer_temp/kraft.pxd\n"
     ]
    }
   ],
   "source": [
    "%%file ./pubyc_renderer_temp/kraft.pxd\n",
    "cdef void Kraft (double [:], double [:],  double [:], int, int, double[:]) nogil"
   ]
  },
  {
   "cell_type": "code",
   "execution_count": 28,
   "metadata": {},
   "outputs": [
    {
     "name": "stdout",
     "output_type": "stream",
     "text": [
      "Overwriting ./pubyc_renderer_temp/kraft.pyx\n"
     ]
    }
   ],
   "source": [
    "%%file ./pubyc_renderer_temp/kraft.pyx\n",
    "cimport cython\n",
    "\n",
    "#Kraft Funktion\n",
    "#Kraft_Erde = G * (masse_erde * masse_sonne / (Betrag_Erde  ** 3)) * Abstand_Erde\n",
    "@cython.boundscheck(False)\n",
    "@cython.cdivision(True)\n",
    "cdef void Kraft (double [:] masse_view, double [:] abstand_view,  double [:] Betrag, \\\n",
    "                  int head, int tail, double[:] result) nogil:\n",
    "    \n",
    "    cdef double g1 = 6.672\n",
    "    cdef double g2 = 10\n",
    "    cdef double g3 = -11\n",
    "    \n",
    "    cdef double G = g1 * g2 ** g3\n",
    "    cdef double betrag = Betrag[0] ** 3\n",
    "\n",
    "    cdef double masse_multyply = masse_view[head] * masse_view[tail]\n",
    "    \n",
    "    result[0] = G * (masse_multyply / betrag) * abstand_view[0]\n",
    "    result[1] = G * (masse_multyply / betrag) * abstand_view[1]\n",
    "    result[2] = G * (masse_multyply / betrag) * abstand_view[2]"
   ]
  },
  {
   "cell_type": "code",
   "execution_count": 29,
   "metadata": {},
   "outputs": [
    {
     "name": "stdout",
     "output_type": "stream",
     "text": [
      "Overwriting ./pubyc_renderer_temp/beschleunigung.pxd\n"
     ]
    }
   ],
   "source": [
    "%%file ./pubyc_renderer_temp/beschleunigung.pxd\n",
    "cdef void Beschleunigung (double [:], double [:], int, double[:]) nogil"
   ]
  },
  {
   "cell_type": "code",
   "execution_count": 30,
   "metadata": {},
   "outputs": [
    {
     "name": "stdout",
     "output_type": "stream",
     "text": [
      "Overwriting ./pubyc_renderer_temp/beschleunigung.pyx\n"
     ]
    }
   ],
   "source": [
    "%%file ./pubyc_renderer_temp/beschleunigung.pyx\n",
    "cimport cython\n",
    "\n",
    "#Beschleunigungs Funktion\n",
    "#Beschleunigung_Erde  = Kraft_Erde  / masse\n",
    "@cython.boundscheck(False)\n",
    "@cython.cdivision(True)\n",
    "cdef void Beschleunigung (double [:] kraft_view , double [:] masse_view, int massen_index, double[:] result) nogil:\n",
    "    cdef float G = 6.672 * 10 ** -11\n",
    "    result[0] = kraft_view[0]  / masse_view[massen_index]\n",
    "    result[1] = kraft_view[1]  / masse_view[massen_index]\n",
    "    result[2] = kraft_view[2]  / masse_view[massen_index]"
   ]
  },
  {
   "cell_type": "code",
   "execution_count": 31,
   "metadata": {},
   "outputs": [
    {
     "name": "stdout",
     "output_type": "stream",
     "text": [
      "Overwriting ./pubyc_renderer_temp/update_position.pxd\n"
     ]
    }
   ],
   "source": [
    "%%file ./pubyc_renderer_temp/update_position.pxd\n",
    "cdef void update_position (double [:, :], double [:, :], double [:, :],double [:], double, int) nogil"
   ]
  },
  {
   "cell_type": "code",
   "execution_count": 32,
   "metadata": {},
   "outputs": [
    {
     "name": "stdout",
     "output_type": "stream",
     "text": [
      "Overwriting ./pubyc_renderer_temp/update_position.pyx\n"
     ]
    }
   ],
   "source": [
    "%%file ./pubyc_renderer_temp/update_position.pyx\n",
    "cimport cython\n",
    "\n",
    "#Positions Aktualliersierung\n",
    "#position = position + dt * geschwindigkeit  + ((dt ** 2) / 2) * Beschleunigung_Erde\n",
    "@cython.boundscheck(False)\n",
    "@cython.cdivision(True)\n",
    "cdef void update_position (double [:, :] position_view , double [:, :] new_postion_view, \\\n",
    "                   double [:, :] speed_view, double [:] beschleunigung_view, \\\n",
    "                        double dt, int planet_index) nogil:\n",
    "    \n",
    "    new_postion_view[planet_index][0] = position_view[planet_index][0]  + dt * speed_view[planet_index][0] \\\n",
    "                                                + ((dt ** 2) / 2) * beschleunigung_view[0]\n",
    "        \n",
    "    new_postion_view[planet_index][1] = position_view[planet_index][1]  + dt * speed_view[planet_index][1] \\\n",
    "                                                + ((dt ** 2) / 2) * beschleunigung_view[1]\n",
    "        \n",
    "    new_postion_view[planet_index][2] = position_view[planet_index][2]  + dt * speed_view[planet_index][2] \\\n",
    "                                                + ((dt ** 2) / 2) * beschleunigung_view[2]"
   ]
  },
  {
   "cell_type": "code",
   "execution_count": 33,
   "metadata": {},
   "outputs": [
    {
     "name": "stdout",
     "output_type": "stream",
     "text": [
      "Overwriting ./pubyc_renderer_temp/update_speed.pxd\n"
     ]
    }
   ],
   "source": [
    "%%file ./pubyc_renderer_temp/update_speed.pxd\n",
    "cdef void update_speed (double [:, :], double [:, :], double [:], double, int) nogil"
   ]
  },
  {
   "cell_type": "code",
   "execution_count": 34,
   "metadata": {},
   "outputs": [
    {
     "name": "stdout",
     "output_type": "stream",
     "text": [
      "Overwriting ./pubyc_renderer_temp/update_speed.pyx\n"
     ]
    }
   ],
   "source": [
    "%%file ./pubyc_renderer_temp/update_speed.pyx\n",
    "cimport cython\n",
    "\n",
    "#Geschwindigkeits Aktuallisierung\n",
    "#geschwindigkeit[0][0]  += dt * Beschleunigung_Erde[0]\n",
    "@cython.boundscheck(False)\n",
    "@cython.cdivision(True)\n",
    "cdef void update_speed (double [:, :] speed_view, double [:, :] new_speed_view, \\\n",
    "                        double [:] beschleunigung_view, double dt ,int planet_index) nogil:\n",
    "    new_speed_view[planet_index][0] = speed_view[planet_index][0] + dt * beschleunigung_view[0]\n",
    "    new_speed_view[planet_index][1] = speed_view[planet_index][1] + dt * beschleunigung_view[1]\n",
    "    new_speed_view[planet_index][2] = speed_view[planet_index][2] + dt * beschleunigung_view[2]"
   ]
  },
  {
   "cell_type": "code",
   "execution_count": 35,
   "metadata": {},
   "outputs": [
    {
     "name": "stdout",
     "output_type": "stream",
     "text": [
      "Overwriting ./pubyc_renderer_temp/loop.pyx\n"
     ]
    }
   ],
   "source": [
    "%%file ./pubyc_renderer_temp/loop.pyx\n",
    "from cython.parallel import prange\n",
    "from abstand cimport Abstand\n",
    "from betrag cimport Betrag\n",
    "from kraft cimport Kraft\n",
    "from beschleunigung cimport Beschleunigung\n",
    "from update_position cimport update_position\n",
    "from update_speed cimport update_speed\n",
    "import numpy as np\n",
    "cimport cython\n",
    "\n",
    "@cython.boundscheck(False)\n",
    "cpdef Loop (_args_dt, position, speed, masse):\n",
    "    \n",
    "    #Umwandlung in MemoryView\n",
    "    cdef double [:, :] position_view = position\n",
    "    cdef double [:, :] speed_view = speed\n",
    "    cdef double [:, :] new_position_view = position\n",
    "    cdef double [:, :] new_speed_view = speed \n",
    "    cdef double [:] masse_view = masse\n",
    "\n",
    "    #Statische Variable\n",
    "    cdef int dt = _args_dt\n",
    "    cdef int number_planets = len(position)\n",
    "    cdef int i, current_planet, planet\n",
    "    \n",
    "    #Temporaere MemoryView zum ZwischenSpeichern\n",
    "    cdef double [:] distance = np.array([0,0,0],  dtype=np.float64)\n",
    "    cdef double [:] magnitude = np.array([0],  dtype=np.float64)\n",
    "    cdef double [:] single_force = np.array([0,0,0],  dtype=np.float64)\n",
    "    cdef double [:] all_force = np.array([0,0,0],  dtype=np.float64)\n",
    "    cdef double [:] acceleration = np.array([0,0,0],  dtype=np.float64)\n",
    "    \n",
    "    for current_planet in prange (number_planets, nogil=True):\n",
    "\n",
    "        all_force[0] = 0\n",
    "        all_force[1] = 0\n",
    "        all_force[2] = 0\n",
    "\n",
    "        for planet in prange(number_planets):                \n",
    "            if (planet != current_planet):\n",
    "                Abstand(position_view, distance, planet, current_planet)\n",
    "                Betrag(distance, magnitude)\n",
    "                Kraft(masse_view, distance, magnitude, planet, current_planet, single_force)\n",
    "                all_force[0] += single_force[0]\n",
    "                all_force[1] += single_force[1]\n",
    "                all_force[2] += single_force[2]\n",
    "\n",
    "        Beschleunigung(all_force, masse_view, current_planet, acceleration)\n",
    "        update_position(position_view, new_position_view, speed_view, acceleration, dt, current_planet) \n",
    "        update_speed(speed_view , new_speed_view, acceleration, dt, current_planet)          \n",
    "\n",
    "    position_view = new_position_view\n",
    "    speed_view = new_speed_view\n",
    "    \n",
    "    position = np.asarray(position_view)\n",
    "    speed = np.asarray(speed_view)\n"
   ]
  },
  {
   "cell_type": "code",
   "execution_count": 36,
   "metadata": {},
   "outputs": [
    {
     "name": "stdout",
     "output_type": "stream",
     "text": [
      "Overwriting ./pubyc_renderer_temp/setup.py\n"
     ]
    }
   ],
   "source": [
    "%%file ./pubyc_renderer_temp/setup.py\n",
    "\n",
    "\n",
    "# Aufruf: python3 setup.py build_ext --inplace\n",
    "# Windows: zusaetzliche Option --compiler=mingw32\n",
    "from distutils.core import setup\n",
    "from distutils.extension import Extension\n",
    "from Cython.Distutils import build_ext\n",
    "import numpy\n",
    "\n",
    "\n",
    "ext_modules=[ Extension(\"abstand\", [\"abstand.pyx\"],\n",
    "        extra_compile_args=['-O3'], libraries=['m']),\n",
    "             Extension(\"betrag\", [\"betrag.pyx\"],\n",
    "        extra_compile_args=['-O3'], libraries=['m']),\n",
    "              Extension(\"kraft\", [\"kraft.pyx\"],\n",
    "        extra_compile_args=['-O3'], libraries=['m']),\n",
    "             Extension(\"beschleunigung\", [\"beschleunigung.pyx\"],\n",
    "        extra_compile_args=['-O3'], libraries=['m']),\n",
    "             Extension(\"update_position\", [\"update_position.pyx\"],\n",
    "        extra_compile_args=['-O3'], libraries=['m']),\n",
    "             Extension(\"update_speed\", [\"update_speed.pyx\"],\n",
    "        extra_compile_args=['-O3'], libraries=['m']),\n",
    "             Extension(\"loop\", [\"loop.pyx\"],\n",
    "        extra_compile_args=['-O3'], libraries=['m'])\n",
    "        \n",
    "        #Maybe needed\n",
    "        #extra_compile_args=['-O3'], libraries=['m'],\n",
    "        #include_dirs=[numpy.get_include()]),\n",
    "]\n",
    "             \n",
    "setup( name = 'cython demo',\n",
    "  cmdclass = {'build_ext': build_ext},\n",
    "  ext_modules = ext_modules,\n",
    "     include_dirs=[numpy.get_include()])\n",
    "\n"
   ]
  },
  {
   "cell_type": "markdown",
   "metadata": {},
   "source": [
    "## Compile Cython"
   ]
  },
  {
   "cell_type": "code",
   "execution_count": 37,
   "metadata": {
    "scrolled": false
   },
   "outputs": [
    {
     "name": "stdout",
     "output_type": "stream",
     "text": [
      "running build_ext\n",
      "cythoning abstand.pyx to abstand.c\n",
      "building 'abstand' extension\n",
      "gcc -pthread -B /opt/anaconda/compiler_compat -Wl,--sysroot=/ -Wsign-compare -DNDEBUG -g -fwrapv -O3 -Wall -Wstrict-prototypes -fPIC -I/opt/anaconda/lib/python3.6/site-packages/numpy/core/include -I/opt/anaconda/include/python3.6m -c abstand.c -o build/temp.linux-x86_64-3.6/abstand.o -O3\n",
      "gcc -pthread -shared -B /opt/anaconda/compiler_compat -L/opt/anaconda/lib -Wl,-rpath=/opt/anaconda/lib -Wl,--no-as-needed -Wl,--sysroot=/ build/temp.linux-x86_64-3.6/abstand.o -L/opt/anaconda/lib -lm -lpython3.6m -o /home/shiroten/Nextcloud/Studium Dokumente/Aktuelles Semester/Rösch - Programmieren 3/Planetary-Python-Project/Source/Shiroten/pubyc_renderer_temp/abstand.cpython-36m-x86_64-linux-gnu.so\n",
      "cythoning betrag.pyx to betrag.c\n",
      "building 'betrag' extension\n",
      "gcc -pthread -B /opt/anaconda/compiler_compat -Wl,--sysroot=/ -Wsign-compare -DNDEBUG -g -fwrapv -O3 -Wall -Wstrict-prototypes -fPIC -I/opt/anaconda/lib/python3.6/site-packages/numpy/core/include -I/opt/anaconda/include/python3.6m -c betrag.c -o build/temp.linux-x86_64-3.6/betrag.o -O3\n",
      "gcc -pthread -shared -B /opt/anaconda/compiler_compat -L/opt/anaconda/lib -Wl,-rpath=/opt/anaconda/lib -Wl,--no-as-needed -Wl,--sysroot=/ build/temp.linux-x86_64-3.6/betrag.o -L/opt/anaconda/lib -lm -lpython3.6m -o /home/shiroten/Nextcloud/Studium Dokumente/Aktuelles Semester/Rösch - Programmieren 3/Planetary-Python-Project/Source/Shiroten/pubyc_renderer_temp/betrag.cpython-36m-x86_64-linux-gnu.so\n",
      "cythoning kraft.pyx to kraft.c\n",
      "building 'kraft' extension\n",
      "gcc -pthread -B /opt/anaconda/compiler_compat -Wl,--sysroot=/ -Wsign-compare -DNDEBUG -g -fwrapv -O3 -Wall -Wstrict-prototypes -fPIC -I/opt/anaconda/lib/python3.6/site-packages/numpy/core/include -I/opt/anaconda/include/python3.6m -c kraft.c -o build/temp.linux-x86_64-3.6/kraft.o -O3\n",
      "gcc -pthread -shared -B /opt/anaconda/compiler_compat -L/opt/anaconda/lib -Wl,-rpath=/opt/anaconda/lib -Wl,--no-as-needed -Wl,--sysroot=/ build/temp.linux-x86_64-3.6/kraft.o -L/opt/anaconda/lib -lm -lpython3.6m -o /home/shiroten/Nextcloud/Studium Dokumente/Aktuelles Semester/Rösch - Programmieren 3/Planetary-Python-Project/Source/Shiroten/pubyc_renderer_temp/kraft.cpython-36m-x86_64-linux-gnu.so\n",
      "cythoning beschleunigung.pyx to beschleunigung.c\n",
      "building 'beschleunigung' extension\n",
      "gcc -pthread -B /opt/anaconda/compiler_compat -Wl,--sysroot=/ -Wsign-compare -DNDEBUG -g -fwrapv -O3 -Wall -Wstrict-prototypes -fPIC -I/opt/anaconda/lib/python3.6/site-packages/numpy/core/include -I/opt/anaconda/include/python3.6m -c beschleunigung.c -o build/temp.linux-x86_64-3.6/beschleunigung.o -O3\n",
      "gcc -pthread -shared -B /opt/anaconda/compiler_compat -L/opt/anaconda/lib -Wl,-rpath=/opt/anaconda/lib -Wl,--no-as-needed -Wl,--sysroot=/ build/temp.linux-x86_64-3.6/beschleunigung.o -L/opt/anaconda/lib -lm -lpython3.6m -o /home/shiroten/Nextcloud/Studium Dokumente/Aktuelles Semester/Rösch - Programmieren 3/Planetary-Python-Project/Source/Shiroten/pubyc_renderer_temp/beschleunigung.cpython-36m-x86_64-linux-gnu.so\n",
      "cythoning update_position.pyx to update_position.c\n",
      "building 'update_position' extension\n",
      "gcc -pthread -B /opt/anaconda/compiler_compat -Wl,--sysroot=/ -Wsign-compare -DNDEBUG -g -fwrapv -O3 -Wall -Wstrict-prototypes -fPIC -I/opt/anaconda/lib/python3.6/site-packages/numpy/core/include -I/opt/anaconda/include/python3.6m -c update_position.c -o build/temp.linux-x86_64-3.6/update_position.o -O3\n",
      "gcc -pthread -shared -B /opt/anaconda/compiler_compat -L/opt/anaconda/lib -Wl,-rpath=/opt/anaconda/lib -Wl,--no-as-needed -Wl,--sysroot=/ build/temp.linux-x86_64-3.6/update_position.o -L/opt/anaconda/lib -lm -lpython3.6m -o /home/shiroten/Nextcloud/Studium Dokumente/Aktuelles Semester/Rösch - Programmieren 3/Planetary-Python-Project/Source/Shiroten/pubyc_renderer_temp/update_position.cpython-36m-x86_64-linux-gnu.so\n",
      "cythoning update_speed.pyx to update_speed.c\n",
      "building 'update_speed' extension\n",
      "gcc -pthread -B /opt/anaconda/compiler_compat -Wl,--sysroot=/ -Wsign-compare -DNDEBUG -g -fwrapv -O3 -Wall -Wstrict-prototypes -fPIC -I/opt/anaconda/lib/python3.6/site-packages/numpy/core/include -I/opt/anaconda/include/python3.6m -c update_speed.c -o build/temp.linux-x86_64-3.6/update_speed.o -O3\n",
      "gcc -pthread -shared -B /opt/anaconda/compiler_compat -L/opt/anaconda/lib -Wl,-rpath=/opt/anaconda/lib -Wl,--no-as-needed -Wl,--sysroot=/ build/temp.linux-x86_64-3.6/update_speed.o -L/opt/anaconda/lib -lm -lpython3.6m -o /home/shiroten/Nextcloud/Studium Dokumente/Aktuelles Semester/Rösch - Programmieren 3/Planetary-Python-Project/Source/Shiroten/pubyc_renderer_temp/update_speed.cpython-36m-x86_64-linux-gnu.so\n",
      "cythoning loop.pyx to loop.c\n",
      "building 'loop' extension\n",
      "gcc -pthread -B /opt/anaconda/compiler_compat -Wl,--sysroot=/ -Wsign-compare -DNDEBUG -g -fwrapv -O3 -Wall -Wstrict-prototypes -fPIC -I/opt/anaconda/lib/python3.6/site-packages/numpy/core/include -I/opt/anaconda/include/python3.6m -c loop.c -o build/temp.linux-x86_64-3.6/loop.o -O3\n",
      "gcc -pthread -shared -B /opt/anaconda/compiler_compat -L/opt/anaconda/lib -Wl,-rpath=/opt/anaconda/lib -Wl,--no-as-needed -Wl,--sysroot=/ build/temp.linux-x86_64-3.6/loop.o -L/opt/anaconda/lib -lm -lpython3.6m -o /home/shiroten/Nextcloud/Studium Dokumente/Aktuelles Semester/Rösch - Programmieren 3/Planetary-Python-Project/Source/Shiroten/pubyc_renderer_temp/loop.cpython-36m-x86_64-linux-gnu.so\n"
     ]
    }
   ],
   "source": [
    "%%bash\n",
    "cd ./pubyc_renderer_temp\n",
    "#Compilen\n",
    "python3 setup.py build_ext --inplace"
   ]
  },
  {
   "cell_type": "markdown",
   "metadata": {},
   "source": [
    "## Start in Juypter"
   ]
  },
  {
   "cell_type": "code",
   "execution_count": 38,
   "metadata": {},
   "outputs": [
    {
     "name": "stdout",
     "output_type": "stream",
     "text": [
      "The Cython extension is already loaded. To reload it, use:\n",
      "  %reload_ext Cython\n"
     ]
    }
   ],
   "source": [
    "%load_ext Cython"
   ]
  },
  {
   "cell_type": "code",
   "execution_count": 39,
   "metadata": {
    "collapsed": true
   },
   "outputs": [],
   "source": [
    "#Sonnesystem\n",
    "\n",
    "python_position = [\n",
    "    #\"Sun\"\n",
    "    [0, 0, 0],     \n",
    "    #\"Mercury\"\n",
    "    [57_909_175_000, 0, 0], \n",
    "    #\"Venus\"\n",
    "    [108_208_930_000, 0, 0],    \n",
    "    #\"Earth\"\n",
    "    [149_597_890_000, 0, 0],    \n",
    "    #\"Moon\"\n",
    "    [149_597_890_000, 384_400_000, 0],    \n",
    "    #\"Mars\"\n",
    "    [227_936_640_000, 0, 0],    \n",
    "    #\"Jupiter\"\n",
    "    [778_412_020_000, 0, 0],    \n",
    "    #\"Saturn\"\n",
    "    [1_426_725_400_000, 0, 0],    \n",
    "    #\"Uranus\"\n",
    "    [2_870_972_200_000, 0, 0],    \n",
    "    #\"Neptune\"\n",
    "    [4_498_252_900_000, 0, 0]\n",
    "]\n",
    "\n",
    "python_speed = [\n",
    "    #\"Sun\"\n",
    "    [0, 0, 0],     \n",
    "    #\"Mercury\"\n",
    "    [0, 47_872, 0], \n",
    "    #\"Venus\"\n",
    "    [0, 35_021, 0],    \n",
    "    #\"Earth\"\n",
    "    [0, 29_786, 0],    \n",
    "    #\"Moon\"\n",
    "    [-1_022, 0, 0],    \n",
    "    #\"Mars\"\n",
    "    [0, 24_131, 0],    \n",
    "    #\"Jupiter\"\n",
    "    [0, 13_069, 0],    \n",
    "    #\"Saturn\"\n",
    "    [0, 9_672, 0],    \n",
    "    #\"Uranus\"\n",
    "    [0, 6_835, 0],    \n",
    "    #\"Neptune\"\n",
    "    [0, 5_477, 0]\n",
    "]\n",
    "\n",
    "python_masse = [\n",
    "    #\"Sun\"\n",
    "    1.9889 * 10 ** 30,     \n",
    "    #\"Mercury\"\n",
    "    3.3022 * 10 ** 23, \n",
    "    #\"Venus\"\n",
    "    4.8685 * 10 ** 24,    \n",
    "    #\"Earth\"\n",
    "    5.97219 * 10 ** 24,    \n",
    "    #\"Moon\"\n",
    "    7.34767309 * 10 ** 22,    \n",
    "    #\"Mars\"\n",
    "    6.4185 * 10 ** 23,    \n",
    "    #\"Jupiter\"\n",
    "    1.8987 * 10 ** 27,    \n",
    "    #\"Saturn\"\n",
    "    5.6851 * 10 ** 26,    \n",
    "    #\"Uranus\"\n",
    "    8.6849 * 10 ** 25,    \n",
    "    #\"Neptune\"\n",
    "    1.0244 * 10 ** 26\n",
    "]"
   ]
  },
  {
   "cell_type": "code",
   "execution_count": 40,
   "metadata": {
    "collapsed": true
   },
   "outputs": [],
   "source": [
    "import os\n",
    "import sys\n",
    "module_path = os.path.abspath(os.path.join('..'))\n",
    "if module_path not in sys.path:\n",
    "    sys.path.append(\"./pubyc_renderer_temp\")\n",
    "\n",
    "from loop import Loop\n",
    "import matplotlib.pyplot as plt\n",
    "import numpy as np\n",
    "\n",
    "plot_list = []\n",
    "dt = 60 * 60 * 24 \n",
    "year = 60 * 60 * 24 * 365 * 165\n",
    "iteration = (int)(year / dt)\n",
    "\n",
    "position = np.array(python_position, dtype=np.float64)\n",
    "speed = np.array(python_speed,dtype=np.float64)\n",
    "masse = np.array(python_masse,dtype=np.float64)\n",
    "\n",
    "for i in range(iteration):\n",
    "    Loop(dt, position, speed, masse)\n",
    "    pos_list_entry = []\n",
    "    for list_index in range(len(python_position)):\n",
    "        pos_list_entry.append(np.array((position[list_index][0], position[list_index][1],\\\n",
    "        position[list_index][2]), np.float64))\n",
    "        \n",
    "    plot_list.append(np.array(pos_list_entry, np.float64))"
   ]
  },
  {
   "cell_type": "code",
   "execution_count": 21,
   "metadata": {},
   "outputs": [
    {
     "data": {
      "image/png": "[encoded data removed]",
      "text/plain": [
       "<matplotlib.figure.Figure at 0x7ff767aca4e0>"
      ]
     },
     "metadata": {},
     "output_type": "display_data"
    },
    {
     "data": {
      "image/png": "[encoded data removed]",
      "text/plain": [
       "<matplotlib.figure.Figure at 0x7ff760776550>"
      ]
     },
     "metadata": {},
     "output_type": "display_data"
    },
    {
     "data": {
      "image/png": "[encoded data removed]",
      "text/plain": [
       "<matplotlib.figure.Figure at 0x7ff767aca668>"
      ]
     },
     "metadata": {},
     "output_type": "display_data"
    },
    {
     "data": {
      "image/png": "[encoded data removed]",
      "text/plain": [
       "<matplotlib.figure.Figure at 0x7ff760375400>"
      ]
     },
     "metadata": {},
     "output_type": "display_data"
    },
    {
     "data": {
      "image/png": "[encoded data removed]",
      "text/plain": [
       "<matplotlib.figure.Figure at 0x7ff760828b00>"
      ]
     },
     "metadata": {},
     "output_type": "display_data"
    },
    {
     "data": {
      "image/png": "[encoded data removed]",
      "text/plain": [
       "<matplotlib.figure.Figure at 0x7ff760903828>"
      ]
     },
     "metadata": {},
     "output_type": "display_data"
    },
    {
     "data": {
      "image/png": "[encoded data removed]",
      "text/plain": [
       "<matplotlib.figure.Figure at 0x7ff7607d2518>"
      ]
     },
     "metadata": {},
     "output_type": "display_data"
    },
    {
     "ename": "KeyboardInterrupt",
     "evalue": "",
     "output_type": "error",
     "traceback": [
      "\u001b[0;31m---------------------------------------------------------------------\u001b[0m",
      "\u001b[0;31mKeyboardInterrupt\u001b[0m                   Traceback (most recent call last)",
      "\u001b[0;32m<ipython-input-21-a1182335b016>\u001b[0m in \u001b[0;36m<module>\u001b[0;34m()\u001b[0m\n\u001b[1;32m     35\u001b[0m \u001b[0;34m\u001b[0m\u001b[0m\n\u001b[1;32m     36\u001b[0m \u001b[0mplt\u001b[0m\u001b[0;34m.\u001b[0m\u001b[0msubplot\u001b[0m\u001b[0;34m(\u001b[0m\u001b[0;36m111\u001b[0m\u001b[0;34m)\u001b[0m\u001b[0;34m\u001b[0m\u001b[0m\n\u001b[0;32m---> 37\u001b[0;31m \u001b[0mplt\u001b[0m\u001b[0;34m.\u001b[0m\u001b[0mplot\u001b[0m\u001b[0;34m(\u001b[0m\u001b[0;34m[\u001b[0m\u001b[0mx\u001b[0m\u001b[0;34m[\u001b[0m\u001b[0;36m7\u001b[0m\u001b[0;34m]\u001b[0m\u001b[0;34m[\u001b[0m\u001b[0;36m0\u001b[0m\u001b[0;34m]\u001b[0m \u001b[0;32mfor\u001b[0m \u001b[0mx\u001b[0m \u001b[0;32min\u001b[0m \u001b[0mplot_list\u001b[0m\u001b[0;34m]\u001b[0m\u001b[0;34m,\u001b[0m \u001b[0;34m[\u001b[0m\u001b[0mx\u001b[0m\u001b[0;34m[\u001b[0m\u001b[0;36m7\u001b[0m\u001b[0;34m]\u001b[0m\u001b[0;34m[\u001b[0m\u001b[0;36m1\u001b[0m\u001b[0;34m]\u001b[0m \u001b[0;32mfor\u001b[0m \u001b[0mx\u001b[0m \u001b[0;32min\u001b[0m \u001b[0mplot_list\u001b[0m\u001b[0;34m]\u001b[0m\u001b[0;34m,\u001b[0m \u001b[0mlabel\u001b[0m\u001b[0;34m=\u001b[0m\u001b[0;34m\"Saturn\"\u001b[0m\u001b[0;34m)\u001b[0m\u001b[0;34m\u001b[0m\u001b[0m\n\u001b[0m\u001b[1;32m     38\u001b[0m \u001b[0mplt\u001b[0m\u001b[0;34m.\u001b[0m\u001b[0mlegend\u001b[0m\u001b[0;34m(\u001b[0m\u001b[0mbbox_to_anchor\u001b[0m\u001b[0;34m=\u001b[0m\u001b[0;34m(\u001b[0m\u001b[0;36m1.05\u001b[0m\u001b[0;34m,\u001b[0m \u001b[0;36m1\u001b[0m\u001b[0;34m)\u001b[0m\u001b[0;34m,\u001b[0m \u001b[0mloc\u001b[0m\u001b[0;34m=\u001b[0m\u001b[0;36m2\u001b[0m\u001b[0;34m,\u001b[0m \u001b[0mborderaxespad\u001b[0m\u001b[0;34m=\u001b[0m\u001b[0;36m0.\u001b[0m\u001b[0;34m)\u001b[0m\u001b[0;34m\u001b[0m\u001b[0m\n\u001b[1;32m     39\u001b[0m \u001b[0mplt\u001b[0m\u001b[0;34m.\u001b[0m\u001b[0mshow\u001b[0m\u001b[0;34m(\u001b[0m\u001b[0;34m)\u001b[0m\u001b[0;34m\u001b[0m\u001b[0m\n",
      "\u001b[0;32m<ipython-input-21-a1182335b016>\u001b[0m in \u001b[0;36m<listcomp>\u001b[0;34m(.0)\u001b[0m\n\u001b[1;32m     35\u001b[0m \u001b[0;34m\u001b[0m\u001b[0m\n\u001b[1;32m     36\u001b[0m \u001b[0mplt\u001b[0m\u001b[0;34m.\u001b[0m\u001b[0msubplot\u001b[0m\u001b[0;34m(\u001b[0m\u001b[0;36m111\u001b[0m\u001b[0;34m)\u001b[0m\u001b[0;34m\u001b[0m\u001b[0m\n\u001b[0;32m---> 37\u001b[0;31m \u001b[0mplt\u001b[0m\u001b[0;34m.\u001b[0m\u001b[0mplot\u001b[0m\u001b[0;34m(\u001b[0m\u001b[0;34m[\u001b[0m\u001b[0mx\u001b[0m\u001b[0;34m[\u001b[0m\u001b[0;36m7\u001b[0m\u001b[0;34m]\u001b[0m\u001b[0;34m[\u001b[0m\u001b[0;36m0\u001b[0m\u001b[0;34m]\u001b[0m \u001b[0;32mfor\u001b[0m \u001b[0mx\u001b[0m \u001b[0;32min\u001b[0m \u001b[0mplot_list\u001b[0m\u001b[0;34m]\u001b[0m\u001b[0;34m,\u001b[0m \u001b[0;34m[\u001b[0m\u001b[0mx\u001b[0m\u001b[0;34m[\u001b[0m\u001b[0;36m7\u001b[0m\u001b[0;34m]\u001b[0m\u001b[0;34m[\u001b[0m\u001b[0;36m1\u001b[0m\u001b[0;34m]\u001b[0m \u001b[0;32mfor\u001b[0m \u001b[0mx\u001b[0m \u001b[0;32min\u001b[0m \u001b[0mplot_list\u001b[0m\u001b[0;34m]\u001b[0m\u001b[0;34m,\u001b[0m \u001b[0mlabel\u001b[0m\u001b[0;34m=\u001b[0m\u001b[0;34m\"Saturn\"\u001b[0m\u001b[0;34m)\u001b[0m\u001b[0;34m\u001b[0m\u001b[0m\n\u001b[0m\u001b[1;32m     38\u001b[0m \u001b[0mplt\u001b[0m\u001b[0;34m.\u001b[0m\u001b[0mlegend\u001b[0m\u001b[0;34m(\u001b[0m\u001b[0mbbox_to_anchor\u001b[0m\u001b[0;34m=\u001b[0m\u001b[0;34m(\u001b[0m\u001b[0;36m1.05\u001b[0m\u001b[0;34m,\u001b[0m \u001b[0;36m1\u001b[0m\u001b[0;34m)\u001b[0m\u001b[0;34m,\u001b[0m \u001b[0mloc\u001b[0m\u001b[0;34m=\u001b[0m\u001b[0;36m2\u001b[0m\u001b[0;34m,\u001b[0m \u001b[0mborderaxespad\u001b[0m\u001b[0;34m=\u001b[0m\u001b[0;36m0.\u001b[0m\u001b[0;34m)\u001b[0m\u001b[0;34m\u001b[0m\u001b[0m\n\u001b[1;32m     39\u001b[0m \u001b[0mplt\u001b[0m\u001b[0;34m.\u001b[0m\u001b[0mshow\u001b[0m\u001b[0;34m(\u001b[0m\u001b[0;34m)\u001b[0m\u001b[0;34m\u001b[0m\u001b[0m\n",
      "\u001b[0;31mKeyboardInterrupt\u001b[0m: "
     ]
    }
   ],
   "source": [
    "plt.subplot(111)\n",
    "plt.plot([x[0][0] for x in plot_list], [x[0][1] for x in plot_list], label=\"Sun\")\n",
    "plt.legend(bbox_to_anchor=(1.05, 1), loc=2, borderaxespad=0.)\n",
    "plt.show()\n",
    "\n",
    "plt.subplot(111)\n",
    "plt.plot([x[1][0] for x in plot_list], [x[1][1] for x in plot_list], label=\"Mercury\")\n",
    "plt.legend(bbox_to_anchor=(1.05, 1), loc=2, borderaxespad=0.)\n",
    "plt.show()\n",
    "\n",
    "plt.subplot(111)\n",
    "plt.plot([x[2][0] for x in plot_list], [x[2][1] for x in plot_list], label=\"Venus\")\n",
    "plt.legend(bbox_to_anchor=(1.05, 1), loc=2, borderaxespad=0.)\n",
    "plt.show()\n",
    "\n",
    "plt.subplot(111)\n",
    "plt.plot([x[3][0] for x in plot_list], [x[3][1] for x in plot_list], label=\"Earth\")\n",
    "plt.legend(bbox_to_anchor=(1.05, 1), loc=2, borderaxespad=0.)\n",
    "plt.show()\n",
    "\n",
    "plt.subplot(111)\n",
    "plt.plot([x[4][0] for x in plot_list], [x[4][1] for x in plot_list], label=\"Moon\")\n",
    "plt.legend(bbox_to_anchor=(1.05, 1), loc=2, borderaxespad=0.)\n",
    "plt.show()\n",
    "\n",
    "plt.subplot(111)\n",
    "plt.plot([x[5][0] for x in plot_list], [x[5][1] for x in plot_list], label=\"Mars\")\n",
    "plt.legend(bbox_to_anchor=(1.05, 1), loc=2, borderaxespad=0.)\n",
    "plt.show()\n",
    "\n",
    "plt.subplot(111)\n",
    "plt.plot([x[6][0] for x in plot_list], [x[6][1] for x in plot_list], label=\"Jupiter\")\n",
    "plt.legend(bbox_to_anchor=(1.05, 1), loc=2, borderaxespad=0.)\n",
    "plt.show()\n",
    "\n",
    "plt.subplot(111)\n",
    "plt.plot([x[7][0] for x in plot_list], [x[7][1] for x in plot_list], label=\"Saturn\")\n",
    "plt.legend(bbox_to_anchor=(1.05, 1), loc=2, borderaxespad=0.)\n",
    "plt.show()\n",
    "\n",
    "plt.subplot(111)\n",
    "plt.plot([x[8][0] for x in plot_list], [x[8][1] for x in plot_list], label=\"Uranus\")\n",
    "plt.legend(bbox_to_anchor=(1.05, 1), loc=2, borderaxespad=0.)\n",
    "plt.show()\n",
    "\n",
    "plt.subplot(111)\n",
    "plt.plot([x[9][0] for x in plot_list], [x[9][1] for x in plot_list], label=\"Neptune\")\n",
    "plt.legend(bbox_to_anchor=(1.05, 1), loc=2, borderaxespad=0.)\n",
    "plt.show()\n",
    "\n",
    "print(\"plot_list_length\", len(plot_list))\n",
    "for _ in range (20):\n",
    "    print(plot_list[_])"
   ]
  },
  {
   "cell_type": "markdown",
   "metadata": {},
   "source": [
    "## Galaxy Renderer"
   ]
  },
  {
   "cell_type": "code",
   "execution_count": null,
   "metadata": {},
   "outputs": [],
   "source": [
    "%%file ./pubyc_renderer_temp/galaxy_renderer.py\n",
    "\"\"\"\n",
    "OpenGL output for gravity simulation\n",
    "\"\"\"\n",
    "#\n",
    "# Copyright (C) 2017  \"Peter Roesch\" <Peter.Roesch@fh-augsburg.de>\n",
    "#\n",
    "# This program is free software; you can redistribute it and/or\n",
    "# modify it under the terms of the GNU General Public License\n",
    "# as published by the Free Software Foundation; either version 3\n",
    "# of the License, or (at your option) any later version.\n",
    "#\n",
    "# This program is distributed in the hope that it will be useful,\n",
    "# but WITHOUT ANY WARRANTY; without even the implied warranty of\n",
    "# MERCHANTABILITY or FITNESS FOR A PARTICULAR PURPOSE.  See the\n",
    "# GNU General Public License for more details.\n",
    "#\n",
    "# You should have received a copy of the GNU General Public License\n",
    "# along with this program; if not, write to the Free Software\n",
    "# Foundation, Inc., 59 Temple Place - Suite 330, Boston, MA  02111-1307, USA.\n",
    "# or open http://www.fsf.org/licensing/licenses/gpl.html\n",
    "#\n",
    "import sys\n",
    "import time\n",
    "\n",
    "try:\n",
    "    from OpenGL import GLUT\n",
    "    from OpenGL import GL\n",
    "    from OpenGL import GLU\n",
    "except ImportError:\n",
    "    print(' Error: Software not installed properly !!')\n",
    "    sys.exit()\n",
    "\n",
    "from mouse_interactor import MouseInteractor\n",
    "from simulation_constants import END_MESSAGE\n",
    "\n",
    "# initial window parameters\n",
    "_WINDOW_SIZE = (512, 512)\n",
    "_WINDOW_POSITION = (100, 100)\n",
    "_LIGHT_POSITION = (2, 2, 3)\n",
    "_CAMERA_POSITION = (0, 0, 22)\n",
    "\n",
    "\n",
    "class GalaxyRenderer:\n",
    "    \"\"\"\n",
    "        Class containing OpenGL code\n",
    "    \"\"\"\n",
    "\n",
    "    def __init__(self, render_pipe, fps):\n",
    "        self.render_pipe = render_pipe\n",
    "        self.fps = fps\n",
    "        self.bodies = None\n",
    "        self.do_exit = False\n",
    "        self.sphere = None\n",
    "        self.init_glut()\n",
    "        self.init_gl()\n",
    "        self.mouse_interactor = MouseInteractor(0.01, 1)\n",
    "        self.mouse_interactor.register_callbacks()\n",
    "\n",
    "    def init_glut(self):\n",
    "        \"\"\"\n",
    "            Set up window and main callback functions\n",
    "        \"\"\"\n",
    "        GLUT.glutInit(['Galaxy Renderer'])\n",
    "        GLUT.glutInitDisplayMode(GLUT.GLUT_DOUBLE | GLUT.GLUT_RGB)\n",
    "        GLUT.glutInitWindowSize(_WINDOW_SIZE[0], _WINDOW_SIZE[1])\n",
    "        GLUT.glutInitWindowPosition(_WINDOW_POSITION[0], _WINDOW_POSITION[1])\n",
    "        GLUT.glutCreateWindow(str.encode(\"Galaxy Renderer\"))\n",
    "        GLUT.glutDisplayFunc(self.render)\n",
    "        GLUT.glutIdleFunc(self.update_positions)\n",
    "\n",
    "    def init_gl(self):\n",
    "        \"\"\"\n",
    "            Initialise OpenGL settings\n",
    "        \"\"\"\n",
    "        self.sphere = GL.glGenLists(1)\n",
    "        GL.glNewList(self.sphere, GL.GL_COMPILE)\n",
    "        quad_obj = GLU.gluNewQuadric()\n",
    "        GLU.gluQuadricDrawStyle(quad_obj, GLU.GLU_FILL)\n",
    "        GLU.gluQuadricNormals(quad_obj, GLU.GLU_SMOOTH)\n",
    "        GLU.gluSphere(quad_obj, 1, 32, 32)\n",
    "        GL.glEndList()\n",
    "        GL.glShadeModel(GL.GL_SMOOTH)\n",
    "        GL.glEnable(GL.GL_DEPTH_TEST)\n",
    "        GL.glEnable(GL.GL_CULL_FACE)\n",
    "        GL.glEnable(GL.GL_LIGHTING)\n",
    "        # make sure normal vectors of scaled spheres are normalised\n",
    "        GL.glEnable(GL.GL_NORMALIZE)\n",
    "        GL.glEnable(GL.GL_LIGHT0)\n",
    "        light_pos = list(_LIGHT_POSITION) + [1]\n",
    "        GL.glLightfv(GL.GL_LIGHT0, GL.GL_POSITION, light_pos)\n",
    "        GL.glLightfv(GL.GL_LIGHT0, GL.GL_AMBIENT, [0.0, 0.0, 1.0, 1.0])\n",
    "        GL.glLightfv(GL.GL_LIGHT0, GL.GL_DIFFUSE, [1.0, 0.0, 0.0, 1.0])\n",
    "        GL.glLightfv(GL.GL_LIGHT0, GL.GL_SPECULAR, [1.0, 1.0, 1.0, 1.0])\n",
    "        GL.glMaterialfv(GL.GL_FRONT, GL.GL_AMBIENT, [0.5, .2, .2, 1])\n",
    "        GL.glMaterialfv(GL.GL_FRONT, GL.GL_DIFFUSE, [0.7, 0.7, 0.7, 1])\n",
    "        GL.glMaterialfv(GL.GL_FRONT, GL.GL_SPECULAR, [0.1, 0.1, 0.1, 1])\n",
    "        GL.glMaterialf(GL.GL_FRONT, GL.GL_SHININESS, 2)\n",
    "        GL.glMatrixMode(GL.GL_PROJECTION)\n",
    "        GL.glLoadIdentity()\n",
    "        GLU.gluPerspective(60, 1, .01, 100)\n",
    "        GL.glMatrixMode(GL.GL_MODELVIEW)\n",
    "\n",
    "    def render(self):\n",
    "        \"\"\"\n",
    "            Render the scene using the sphere display list\n",
    "        \"\"\"\n",
    "        if self.do_exit:\n",
    "            print('renderer exiting ...')\n",
    "            # glut event loop needs hard exit ...\n",
    "            sys.exit(0)\n",
    "        if self.bodies is None:\n",
    "            time.sleep(1 / self.fps)\n",
    "            return\n",
    "        GL.glClear(GL.GL_COLOR_BUFFER_BIT | GL.GL_DEPTH_BUFFER_BIT)\n",
    "        GL.glMatrixMode(GL.GL_PROJECTION)\n",
    "        GL.glLoadIdentity()\n",
    "        x_size = GLUT.glutGet(GLUT.GLUT_WINDOW_WIDTH)\n",
    "        y_size = GLUT.glutGet(GLUT.GLUT_WINDOW_HEIGHT)\n",
    "        GLU.gluPerspective(60, float(x_size) / float(y_size), 0.01, 100)\n",
    "        GL.glMatrixMode(GL.GL_MODELVIEW)\n",
    "        GL.glLoadIdentity()\n",
    "        GL.glTranslatef(-_CAMERA_POSITION[0],\n",
    "                        -_CAMERA_POSITION[1],\n",
    "                        -_CAMERA_POSITION[2])\n",
    "        self.mouse_interactor.apply_transformation()\n",
    "        for body_index in range(self.bodies.shape[0]):\n",
    "            body = self.bodies[body_index, :]\n",
    "            GL.glPushMatrix()\n",
    "            GL.glTranslatef(body[0], body[1], body[2])\n",
    "            GL.glScalef(body[3], body[3], body[3])\n",
    "            GL.glCallList(self.sphere)\n",
    "            GL.glPopMatrix()\n",
    "        GLUT.glutSwapBuffers()\n",
    "\n",
    "    @staticmethod\n",
    "    def start():\n",
    "        \"\"\"\n",
    "            Start the GLUT event loop.\n",
    "        \"\"\"\n",
    "        GLUT.glutMainLoop()\n",
    "\n",
    "    def update_positions(self):\n",
    "        \"\"\"\n",
    "            Read new object positions from pipe.\n",
    "        \"\"\"\n",
    "        if self.render_pipe.poll():\n",
    "            pipe_input = self.render_pipe.recv()\n",
    "            if isinstance(pipe_input, str) and pipe_input == END_MESSAGE:\n",
    "                self.do_exit = True\n",
    "            else:\n",
    "                self.bodies = pipe_input\n",
    "                GLUT.glutPostRedisplay()\n",
    "        else:\n",
    "            time.sleep(1 / self.fps)\n",
    "\n",
    "\n",
    "def startup(render_pipe, fps):\n",
    "    \"\"\"\n",
    "        Create GalaxyRenderer instance and start rendering\n",
    "\n",
    "        Args:\n",
    "            render_pipe (multiprocessing.Pipe): Pipe to read positions from\n",
    "            fps (float): Number of frames per second\n",
    "    \"\"\"\n",
    "    print('creating renderer')\n",
    "    galaxy_renderer = GalaxyRenderer(render_pipe, fps)\n",
    "    print('starting renderer')\n",
    "    galaxy_renderer.start()\n",
    "    print('done')"
   ]
  },
  {
   "cell_type": "code",
   "execution_count": null,
   "metadata": {},
   "outputs": [],
   "source": [
    "%%file ./pubyc_renderer_temp/simulation.py\n",
    "\n",
    "import sys\n",
    "from loop import Loop\n",
    "from simulation_constants import END_MESSAGE\n",
    "import numpy as np\n",
    "import math\n",
    "import time\n",
    "\n",
    "def startup(sim_pipe):\n",
    "    #Sonnesystem\n",
    "    python_position = [\n",
    "        #\"Sun\"\n",
    "        [0, 0, 0],     \n",
    "        #\"Mercury\"\n",
    "        [57_909_175_000, 0, 0], \n",
    "        #\"Venus\"\n",
    "        [108_208_930_000, 0, 0],    \n",
    "        #\"Earth\"\n",
    "        [149_597_890_000, 0, 0],    \n",
    "        #\"Moon\"\n",
    "        [149_597_890_000, 384_400_000, 0],    \n",
    "        #\"Mars\"\n",
    "        [227_936_640_000, 0, 0],    \n",
    "        #\"Jupiter\"\n",
    "        [778_412_020_000, 0, 0],    \n",
    "        #\"Saturn\"\n",
    "        [1_426_725_400_000, 0, 0],    \n",
    "        #\"Uranus\"\n",
    "        [2_870_972_200_000, 0, 0],    \n",
    "        #\"Neptune\"\n",
    "        [4_498_252_900_000, 0, 0]\n",
    "    ]\n",
    "\n",
    "    python_speed = [\n",
    "        #\"Sun\"\n",
    "        [0, 0, 0],     \n",
    "        #\"Mercury\"\n",
    "        [0, 47_872, 0], \n",
    "        #\"Venus\"\n",
    "        [0, 35_021, 0],    \n",
    "        #\"Earth\"\n",
    "        [0, 29_786, 0],    \n",
    "        #\"Moon\"\n",
    "        [-1_022, 0, 0],    \n",
    "        #\"Mars\"\n",
    "        [0, 24_131, 0],    \n",
    "        #\"Jupiter\"\n",
    "        [0, 13_069, 0],    \n",
    "        #\"Saturn\"\n",
    "        [0, 9_672, 0],    \n",
    "        #\"Uranus\"\n",
    "        [0, 6_835, 0],    \n",
    "        #\"Neptune\"\n",
    "        [0, 5_477, 0]\n",
    "    ]\n",
    "\n",
    "    python_masse = [\n",
    "        #\"Sun\"\n",
    "        1.9889 * 10 ** 30,     \n",
    "        #\"Mercury\"\n",
    "        3.3022 * 10 ** 23, \n",
    "        #\"Venus\"\n",
    "        4.8685 * 10 ** 24,    \n",
    "        #\"Earth\"\n",
    "        5.97219 * 10 ** 24,    \n",
    "        #\"Moon\"\n",
    "        7.34767309 * 10 ** 22,    \n",
    "        #\"Mars\"\n",
    "        6.4185 * 10 ** 23,    \n",
    "        #\"Jupiter\"\n",
    "        1.8987 * 10 ** 27,    \n",
    "        #\"Saturn\"\n",
    "        5.6851 * 10 ** 26,    \n",
    "        #\"Uranus\"\n",
    "        8.6849 * 10 ** 25,    \n",
    "        #\"Neptune\"\n",
    "        1.0244 * 10 ** 26\n",
    "    ]\n",
    "\n",
    "    FACTOR = 0.1\n",
    "    radius =  [\n",
    "        0.25 * FACTOR,\n",
    "        0.02 * FACTOR,\n",
    "        0.06 * FACTOR,\n",
    "        0.06 * FACTOR,\n",
    "        0.01 * FACTOR,\n",
    "        0.03 * FACTOR,\n",
    "        0.18 * FACTOR,\n",
    "        0.15 * FACTOR,\n",
    "        0.1 * FACTOR,\n",
    "        0.1 * FACTOR\n",
    "    ]\n",
    "    \n",
    "    position = np.array(python_position, dtype=np.float64)\n",
    "    speed = np.array(python_speed,dtype=np.float64)\n",
    "    masse = np.array(python_masse,dtype=np.float64)\n",
    "    dt = 60 * 60 / 4\n",
    "\n",
    "    while True:\n",
    "        if sim_pipe.poll():\n",
    "            message = sim_pipe.recv()\n",
    "            if isinstance(message, str) and message == END_MESSAGE:\n",
    "                print('simulation exiting ...')\n",
    "                sys.exit(0)\n",
    "        for i in range (24 * 7):\n",
    "            Loop(dt, position, speed, masse)\n",
    "\n",
    "        body_array = np.zeros((len(position), 4), dtype=np.float64)\n",
    "        normalization = -11\n",
    "        \n",
    "        for body_index in range(len(python_position)):\n",
    "            body_array[body_index][0] = position[body_index][0] / 4_498_252_900_000\n",
    "            body_array[body_index][1] = position[body_index][1] / 4_498_252_900_000\n",
    "            body_array[body_index][2] = position[body_index][2] / 4_498_252_900_000\n",
    "            body_array[body_index][3] = radius[body_index]\n",
    "            \n",
    "        #print(body_array)            \n",
    "        time.sleep(1/60)\n",
    "\n",
    "        sim_pipe.send(body_array)"
   ]
  },
  {
   "cell_type": "code",
   "execution_count": null,
   "metadata": {
    "collapsed": true
   },
   "outputs": [],
   "source": []
  }
 ],
 "metadata": {
  "kernelspec": {
   "display_name": "Python 3",
   "language": "python",
   "name": "python3"
  },
  "language_info": {
   "codemirror_mode": {
    "name": "ipython",
    "version": 3
   },
   "file_extension": ".py",
   "mimetype": "text/x-python",
   "name": "python",
   "nbconvert_exporter": "python",
   "pygments_lexer": "ipython3",
   "version": "3.6.3"
  },
  "latex_envs": {
   "LaTeX_envs_menu_present": true,
   "autocomplete": true,
   "bibliofile": "biblio.bib",
   "cite_by": "apalike",
   "current_citInitial": 1,
   "eqLabelWithNumbers": true,
   "eqNumInitial": 1,
   "hotkeys": {
    "equation": "Ctrl-E",
    "itemize": "Ctrl-I"
   },
   "labels_anchors": false,
   "latex_user_defs": false,
   "report_style_numbering": false,
   "user_envs_cfg": false
  }
 },
 "nbformat": 4,
 "nbformat_minor": 2
}
