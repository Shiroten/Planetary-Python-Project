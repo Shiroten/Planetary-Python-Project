{
 "cells": [
  {
   "cell_type": "code",
   "execution_count": 1,
   "metadata": {
    "collapsed": true
   },
   "outputs": [],
   "source": [
    "%%bash\n",
    "rm -R ./cython_galaxy_extended_single_step"
   ]
  },
  {
   "cell_type": "code",
   "execution_count": 2,
   "metadata": {
    "collapsed": true
   },
   "outputs": [],
   "source": [
    "import os\n",
    "os.mkdir('./cython_galaxy_extended_single_step')"
   ]
  },
  {
   "cell_type": "code",
   "execution_count": 3,
   "metadata": {},
   "outputs": [
    {
     "name": "stdout",
     "output_type": "stream",
     "text": [
      "Writing ./cython_galaxy_extended_single_step/abstand.pxd\n"
     ]
    }
   ],
   "source": [
    "%%file ./cython_galaxy_extended_single_step/abstand.pxd\n",
    "cdef void Abstand (double [:, :], double[:, :], int, int) nogil"
   ]
  },
  {
   "cell_type": "code",
   "execution_count": 4,
   "metadata": {},
   "outputs": [
    {
     "name": "stdout",
     "output_type": "stream",
     "text": [
      "Writing ./cython_galaxy_extended_single_step/abstand.pyx\n"
     ]
    }
   ],
   "source": [
    "%%file ./cython_galaxy_extended_single_step/abstand.pyx\n",
    "cimport cython\n",
    "#Abstands Funktion\n",
    "#Abstand_Sonne = position[1] - position[0]\n",
    "\n",
    "@cython.boundscheck(False)\n",
    "@cython.cdivision(True)\n",
    "cdef void Abstand (double [:, :] position_view , double[:, :] temp_view, int head, int tail) nogil:  \n",
    "    \n",
    "    #index distance 0\n",
    "    temp_view[0][0] = position_view[head][0] - position_view[tail][0]\n",
    "    temp_view[0][1] = position_view[head][1] - position_view[tail][1]\n",
    "    temp_view[0][2] = position_view[head][2] - position_view[tail][2]"
   ]
  },
  {
   "cell_type": "code",
   "execution_count": 5,
   "metadata": {},
   "outputs": [
    {
     "name": "stdout",
     "output_type": "stream",
     "text": [
      "Writing ./cython_galaxy_extended_single_step/betrag.pxd\n"
     ]
    }
   ],
   "source": [
    "%%file ./cython_galaxy_extended_single_step/betrag.pxd\n",
    "cdef void Betrag (double[:, :]) nogil"
   ]
  },
  {
   "cell_type": "code",
   "execution_count": 6,
   "metadata": {},
   "outputs": [
    {
     "name": "stdout",
     "output_type": "stream",
     "text": [
      "Writing ./cython_galaxy_extended_single_step/betrag.pyx\n"
     ]
    }
   ],
   "source": [
    "%%file ./cython_galaxy_extended_single_step/betrag.pyx\n",
    "cimport cython\n",
    "from libc.math cimport sqrt\n",
    "\n",
    "\n",
    "#Betrags Funktion\n",
    "#Betrag_Erde  = sqrt( Abstand_Erde**2 + Abstand_Erde**2 + Abstand_Erde**2)\n",
    "@cython.boundscheck(False)\n",
    "@cython.cdivision(True)\n",
    "cdef void Betrag (double [:, :] temp_view) nogil:\n",
    "    \n",
    "    #index magnitude 1\n",
    "    temp_view[1][0] = sqrt(temp_view[0][0]**2 + temp_view[0][1]**2 + temp_view[0][2]**2)"
   ]
  },
  {
   "cell_type": "code",
   "execution_count": 7,
   "metadata": {},
   "outputs": [
    {
     "name": "stdout",
     "output_type": "stream",
     "text": [
      "Writing ./cython_galaxy_extended_single_step/kraft.pxd\n"
     ]
    }
   ],
   "source": [
    "%%file ./cython_galaxy_extended_single_step/kraft.pxd\n",
    "cdef void Kraft (double [:], int, int, double[:, :]) nogil"
   ]
  },
  {
   "cell_type": "code",
   "execution_count": 8,
   "metadata": {},
   "outputs": [
    {
     "name": "stdout",
     "output_type": "stream",
     "text": [
      "Writing ./cython_galaxy_extended_single_step/kraft.pyx\n"
     ]
    }
   ],
   "source": [
    "%%file ./cython_galaxy_extended_single_step/kraft.pyx\n",
    "cimport cython\n",
    "\n",
    "#Kraft Funktion\n",
    "#Kraft_Erde = G * (masse_erde * masse_sonne / (Betrag_Erde  ** 3)) * Abstand_Erde\n",
    "@cython.boundscheck(False)\n",
    "@cython.cdivision(True)\n",
    "cdef void Kraft (double [:] masse_view, int head, int tail, double[:, :] temp_view) nogil:\n",
    "    \n",
    "    cdef double g1 = 6.672\n",
    "    cdef double g2 = 10\n",
    "    cdef double g3 = -11\n",
    "    \n",
    "    cdef double G = g1 * g2 ** g3\n",
    "    \n",
    "    #index magnitude 1\n",
    "    cdef double betrag = temp_view[1][0] ** 3\n",
    "\n",
    "    cdef double masse_multyply = masse_view[head] * masse_view[tail]\n",
    "    \n",
    "    #index distance 0\n",
    "    #index single_force 2\n",
    "    temp_view[2][0] = G * (masse_multyply / betrag) * temp_view[0][0]\n",
    "    temp_view[2][1] = G * (masse_multyply / betrag) * temp_view[0][1]\n",
    "    temp_view[2][2] = G * (masse_multyply / betrag) * temp_view[0][2]"
   ]
  },
  {
   "cell_type": "code",
   "execution_count": 9,
   "metadata": {},
   "outputs": [
    {
     "name": "stdout",
     "output_type": "stream",
     "text": [
      "Writing ./cython_galaxy_extended_single_step/beschleunigung.pxd\n"
     ]
    }
   ],
   "source": [
    "%%file ./cython_galaxy_extended_single_step/beschleunigung.pxd\n",
    "cdef void Beschleunigung (double [:], int, double[:, :]) nogil"
   ]
  },
  {
   "cell_type": "code",
   "execution_count": 10,
   "metadata": {},
   "outputs": [
    {
     "name": "stdout",
     "output_type": "stream",
     "text": [
      "Writing ./cython_galaxy_extended_single_step/beschleunigung.pyx\n"
     ]
    }
   ],
   "source": [
    "%%file ./cython_galaxy_extended_single_step/beschleunigung.pyx\n",
    "cimport cython\n",
    "\n",
    "#Beschleunigungs Funktion\n",
    "#Beschleunigung_Erde  = Kraft_Erde  / masse\n",
    "@cython.boundscheck(False)\n",
    "@cython.cdivision(True)\n",
    "cdef void Beschleunigung (double [:] masse_view, int massen_index, double[:, :] temp_view) nogil:\n",
    "    cdef float G = 6.672 * 10 ** -11\n",
    "    \n",
    "    #index single_force 2\n",
    "    #index acceleration 4\n",
    "    temp_view[4][0] = temp_view[2][0]  / masse_view[massen_index]\n",
    "    temp_view[4][1] = temp_view[2][1]  / masse_view[massen_index]\n",
    "    temp_view[4][2] = temp_view[2][2]  / masse_view[massen_index]"
   ]
  },
  {
   "cell_type": "code",
   "execution_count": 11,
   "metadata": {},
   "outputs": [
    {
     "name": "stdout",
     "output_type": "stream",
     "text": [
      "Writing ./cython_galaxy_extended_single_step/update_position.pxd\n"
     ]
    }
   ],
   "source": [
    "%%file ./cython_galaxy_extended_single_step/update_position.pxd\n",
    "cdef void update_position (double [:, :], double [:, :], double [:, :], double [:, :], double, int) nogil"
   ]
  },
  {
   "cell_type": "code",
   "execution_count": 12,
   "metadata": {},
   "outputs": [
    {
     "name": "stdout",
     "output_type": "stream",
     "text": [
      "Writing ./cython_galaxy_extended_single_step/update_position.pyx\n"
     ]
    }
   ],
   "source": [
    "%%file ./cython_galaxy_extended_single_step/update_position.pyx\n",
    "cimport cython\n",
    "\n",
    "#Positions Aktualliersierung\n",
    "#position = position + dt * geschwindigkeit  + ((dt ** 2) / 2) * Beschleunigung_Erde\n",
    "@cython.boundscheck(False)\n",
    "@cython.cdivision(True)\n",
    "cdef void update_position (double [:, :] position_view , double [:, :] new_postion_view, \\\n",
    "                   double [:, :] speed_view, double [:, :] temp_view, \\\n",
    "                        double dt, int planet_index) nogil:\n",
    "    \n",
    "    #index acceleration 4\n",
    "    new_postion_view[planet_index][0] = position_view[planet_index][0]  + dt * speed_view[planet_index][0] \\\n",
    "                                                + ((dt ** 2) / 2) * temp_view[4][0]\n",
    "        \n",
    "    new_postion_view[planet_index][1] = position_view[planet_index][1]  + dt * speed_view[planet_index][1] \\\n",
    "                                                + ((dt ** 2) / 2) * temp_view[4][1]\n",
    "        \n",
    "    new_postion_view[planet_index][2] = position_view[planet_index][2]  + dt * speed_view[planet_index][2] \\\n",
    "                                                + ((dt ** 2) / 2) * temp_view[4][2]"
   ]
  },
  {
   "cell_type": "code",
   "execution_count": 13,
   "metadata": {},
   "outputs": [
    {
     "name": "stdout",
     "output_type": "stream",
     "text": [
      "Writing ./cython_galaxy_extended_single_step/update_speed.pxd\n"
     ]
    }
   ],
   "source": [
    "%%file ./cython_galaxy_extended_single_step/update_speed.pxd\n",
    "cdef void update_speed (double [:, :], double [:, :], double [:, :], double, int) nogil"
   ]
  },
  {
   "cell_type": "code",
   "execution_count": 14,
   "metadata": {},
   "outputs": [
    {
     "name": "stdout",
     "output_type": "stream",
     "text": [
      "Writing ./cython_galaxy_extended_single_step/update_speed.pyx\n"
     ]
    }
   ],
   "source": [
    "%%file ./cython_galaxy_extended_single_step/update_speed.pyx\n",
    "cimport cython\n",
    "\n",
    "#Geschwindigkeits Aktuallisierung\n",
    "#geschwindigkeit[0][0]  += dt * Beschleunigung_Erde[0]\n",
    "@cython.boundscheck(False)\n",
    "@cython.cdivision(True)\n",
    "cdef void update_speed (double [:, :] speed_view, double [:, :] new_speed_view, \\\n",
    "                        double [:, :] temp_view, double dt ,int planet_index) nogil:\n",
    "    \n",
    "    #index acceleration 4\n",
    "    new_speed_view[planet_index][0] = speed_view[planet_index][0] + dt * temp_view[4][0]\n",
    "    new_speed_view[planet_index][1] = speed_view[planet_index][1] + dt * temp_view[4][1]\n",
    "    new_speed_view[planet_index][2] = speed_view[planet_index][2] + dt * temp_view[4][2]"
   ]
  },
  {
   "cell_type": "code",
   "execution_count": 15,
   "metadata": {},
   "outputs": [
    {
     "name": "stdout",
     "output_type": "stream",
     "text": [
      "Writing ./cython_galaxy_extended_single_step/calculate_step.pxd\n"
     ]
    }
   ],
   "source": [
    "%%file ./cython_galaxy_extended_single_step/calculate_step.pxd\n",
    "cpdef void calculate_step(double [:, :], double [:, :], double [:, :], double [:, :], \\\n",
    "                          double [:], double [:, :], double, int, int, int)"
   ]
  },
  {
   "cell_type": "code",
   "execution_count": 16,
   "metadata": {},
   "outputs": [
    {
     "name": "stdout",
     "output_type": "stream",
     "text": [
      "Writing ./cython_galaxy_extended_single_step/calculate_step.pyx\n"
     ]
    }
   ],
   "source": [
    "%%file ./cython_galaxy_extended_single_step/calculate_step.pyx\n",
    "from cython.parallel import prange\n",
    "from abstand cimport Abstand\n",
    "from betrag cimport Betrag\n",
    "from kraft cimport Kraft\n",
    "from beschleunigung cimport Beschleunigung\n",
    "from update_position cimport update_position\n",
    "from update_speed cimport update_speed\n",
    "import numpy as np\n",
    "cimport cython\n",
    "\n",
    "@cython.boundscheck(False)\n",
    "cpdef void calculate_step(double [:, :] position_view, double [:, :] speed_view, \\\n",
    "                          double [:, :] new_position_view, double [:, :] new_speed_view, \\\n",
    "                          double [:] masse_view, double [:, :] temp_view, \\\n",
    "                          double dt, int target_planet, int upper, int lower):\n",
    "\n",
    "    #Statische Variable\n",
    "    cdef int planet\n",
    "    \n",
    "    #index distance 0\n",
    "    #index magnitude 1\n",
    "    #index single_force 2\n",
    "    #index all_force 3\n",
    "    #index acceleration 4\n",
    "    \n",
    "    temp_view[3][0] = 0\n",
    "    temp_view[3][1] = 0\n",
    "    temp_view[3][2] = 0\n",
    "    \n",
    "    for planet in prange(lower, upper, nogil=True):      \n",
    "        if (planet != target_planet):\n",
    "            Abstand(position_view, temp_view, planet, target_planet)              \n",
    "            Betrag(temp_view)\n",
    "            Kraft(masse_view, planet, target_planet, temp_view)\n",
    "            temp_view[3][0] += temp_view[2][0]\n",
    "            temp_view[3][1] += temp_view[2][1]\n",
    "            temp_view[3][2] += temp_view[2][2]\n",
    "            \n",
    "    Beschleunigung(masse_view, target_planet, temp_view)\n",
    "    update_position(position_view, new_position_view, speed_view, temp_view, dt, target_planet) \n",
    "    update_speed(speed_view , new_speed_view, temp_view, dt, target_planet)   "
   ]
  },
  {
   "cell_type": "code",
   "execution_count": 17,
   "metadata": {},
   "outputs": [
    {
     "name": "stdout",
     "output_type": "stream",
     "text": [
      "Writing ./cython_galaxy_extended_single_step/loop.pyx\n"
     ]
    }
   ],
   "source": [
    "%%file ./cython_galaxy_extended_single_step/loop.pyx\n",
    "from calculate_step cimport calculate_step\n",
    "from calculate_step import calculate_step\n",
    "import numpy as np\n",
    "cimport cython\n",
    "\n",
    "@cython.boundscheck(False)\n",
    "cpdef Loop (args_dt, args_iteration, python_position, python_speed, python_masse, pos_list):\n",
    "    \n",
    "    #Umwandeln in Numpy Arrays\n",
    "    position = np.array(python_position, dtype=np.float64)\n",
    "    speed = np.array(python_speed, dtype=np.float64)\n",
    "    masse = np.array(python_masse, dtype=np.float64)\n",
    "\n",
    "    #Umwandlung in MemoryView\n",
    "    cdef double [:, :] position_view = position\n",
    "    cdef double [:, :] speed_view = speed\n",
    "    cdef double [:, :] new_position_view = position\n",
    "    cdef double [:, :] new_speed_view = speed \n",
    "    cdef double [:] masse_view = masse\n",
    "\n",
    "    #Statische Variable\n",
    "    cdef double dt = args_dt\n",
    "    cdef int number_planets = len(python_position)\n",
    "    cdef int i, current_planet, list_index\n",
    "    cdef int iteration = args_iteration\n",
    "    \n",
    "    #Dynamische Variable\n",
    "    cdef double [:, :]  temp_view = np.arange(15, dtype=np.dtype(\"d\")).reshape((5, 3))\n",
    "            \n",
    "    for i in range (iteration): \n",
    "        for current_planet in range (number_planets):\n",
    "            calculate_step(position_view, speed_view, new_position_view, \\\n",
    "            new_speed_view, masse_view, temp_view, dt, current_planet, number_planets, 0)\n",
    "        \n",
    "        position_view = new_position_view\n",
    "        speed_view = new_speed_view\n",
    "        \n",
    "        pos_list_entry = []\n",
    "        for list_index in range(number_planets):\n",
    "            pos_list_entry.append(np.array((position_view[list_index][0], position_view[list_index][1],\\\n",
    "            position_view[list_index][2]), np.float64))\n",
    "        \n",
    "        pos_list.append(np.array(pos_list_entry, np.float64))"
   ]
  },
  {
   "cell_type": "code",
   "execution_count": 18,
   "metadata": {},
   "outputs": [
    {
     "name": "stdout",
     "output_type": "stream",
     "text": [
      "Writing ./cython_galaxy_extended_single_step/setup.py\n"
     ]
    }
   ],
   "source": [
    "%%file ./cython_galaxy_extended_single_step/setup.py\n",
    "\n",
    "\n",
    "# Aufruf: python3 setup.py build_ext --inplace\n",
    "# Windows: zusaetzliche Option --compiler=mingw32\n",
    "from distutils.core import setup\n",
    "from distutils.extension import Extension\n",
    "from Cython.Distutils import build_ext\n",
    "import numpy\n",
    "\n",
    "\n",
    "ext_modules=[ Extension(\"abstand\", [\"abstand.pyx\"],\n",
    "                extra_compile_args=['-O3'], libraries=['m']),\n",
    "             \n",
    "             Extension(\"betrag\", [\"betrag.pyx\"],\n",
    "                extra_compile_args=['-O3'], libraries=['m']),\n",
    "             \n",
    "              Extension(\"kraft\", [\"kraft.pyx\"],\n",
    "                extra_compile_args=['-O3'], libraries=['m']),\n",
    "             \n",
    "             Extension(\"beschleunigung\", [\"beschleunigung.pyx\"],\n",
    "                extra_compile_args=['-O3'], libraries=['m']),\n",
    "             \n",
    "             Extension(\"update_position\", [\"update_position.pyx\"],\n",
    "                extra_compile_args=['-O3'], libraries=['m']),\n",
    "             \n",
    "             Extension(\"update_speed\", [\"update_speed.pyx\"],\n",
    "                extra_compile_args=['-O3'], libraries=['m']),\n",
    "             \n",
    "             Extension(\"calculate_step\", [\"calculate_step.pyx\"],\n",
    "                extra_compile_args=['-O3', '-fopenmp'], libraries=['m'],\n",
    "                extra_link_args=['-fopenmp'],),\n",
    "             \n",
    "             Extension(\"loop\", [\"loop.pyx\"],\n",
    "                extra_compile_args=['-O3'], libraries=['m'])\n",
    "        \n",
    "        #Maybe needed\n",
    "        #extra_compile_args=['-O3'], libraries=['m'],\n",
    "        #include_dirs=[numpy.get_include()]),\n",
    "]\n",
    "             \n",
    "setup( name = 'cython demo',\n",
    "  cmdclass = {'build_ext': build_ext},\n",
    "  ext_modules = ext_modules,\n",
    "     include_dirs=[numpy.get_include()])\n",
    "\n"
   ]
  },
  {
   "cell_type": "markdown",
   "metadata": {},
   "source": [
    "## Compile Cython"
   ]
  },
  {
   "cell_type": "code",
   "execution_count": 19,
   "metadata": {
    "scrolled": false
   },
   "outputs": [
    {
     "name": "stdout",
     "output_type": "stream",
     "text": [
      "running build_ext\n",
      "cythoning abstand.pyx to abstand.c\n",
      "building 'abstand' extension\n",
      "creating build\n",
      "creating build/temp.linux-x86_64-3.6\n",
      "gcc -pthread -B /opt/anaconda/compiler_compat -Wl,--sysroot=/ -Wsign-compare -DNDEBUG -g -fwrapv -O3 -Wall -Wstrict-prototypes -fPIC -I/opt/anaconda/lib/python3.6/site-packages/numpy/core/include -I/opt/anaconda/include/python3.6m -c abstand.c -o build/temp.linux-x86_64-3.6/abstand.o -O3\n",
      "gcc -pthread -shared -B /opt/anaconda/compiler_compat -L/opt/anaconda/lib -Wl,-rpath=/opt/anaconda/lib -Wl,--no-as-needed -Wl,--sysroot=/ build/temp.linux-x86_64-3.6/abstand.o -L/opt/anaconda/lib -lm -lpython3.6m -o /home/shiroten/Nextcloud/Studium Dokumente/Aktuelles Semester/Rösch - Programmieren 3/Planetary-Python-Project/Source/Shiroten/cython_galaxy_extended_single_step/abstand.cpython-36m-x86_64-linux-gnu.so\n",
      "cythoning betrag.pyx to betrag.c\n",
      "building 'betrag' extension\n",
      "gcc -pthread -B /opt/anaconda/compiler_compat -Wl,--sysroot=/ -Wsign-compare -DNDEBUG -g -fwrapv -O3 -Wall -Wstrict-prototypes -fPIC -I/opt/anaconda/lib/python3.6/site-packages/numpy/core/include -I/opt/anaconda/include/python3.6m -c betrag.c -o build/temp.linux-x86_64-3.6/betrag.o -O3\n",
      "gcc -pthread -shared -B /opt/anaconda/compiler_compat -L/opt/anaconda/lib -Wl,-rpath=/opt/anaconda/lib -Wl,--no-as-needed -Wl,--sysroot=/ build/temp.linux-x86_64-3.6/betrag.o -L/opt/anaconda/lib -lm -lpython3.6m -o /home/shiroten/Nextcloud/Studium Dokumente/Aktuelles Semester/Rösch - Programmieren 3/Planetary-Python-Project/Source/Shiroten/cython_galaxy_extended_single_step/betrag.cpython-36m-x86_64-linux-gnu.so\n",
      "cythoning kraft.pyx to kraft.c\n",
      "building 'kraft' extension\n",
      "gcc -pthread -B /opt/anaconda/compiler_compat -Wl,--sysroot=/ -Wsign-compare -DNDEBUG -g -fwrapv -O3 -Wall -Wstrict-prototypes -fPIC -I/opt/anaconda/lib/python3.6/site-packages/numpy/core/include -I/opt/anaconda/include/python3.6m -c kraft.c -o build/temp.linux-x86_64-3.6/kraft.o -O3\n",
      "gcc -pthread -shared -B /opt/anaconda/compiler_compat -L/opt/anaconda/lib -Wl,-rpath=/opt/anaconda/lib -Wl,--no-as-needed -Wl,--sysroot=/ build/temp.linux-x86_64-3.6/kraft.o -L/opt/anaconda/lib -lm -lpython3.6m -o /home/shiroten/Nextcloud/Studium Dokumente/Aktuelles Semester/Rösch - Programmieren 3/Planetary-Python-Project/Source/Shiroten/cython_galaxy_extended_single_step/kraft.cpython-36m-x86_64-linux-gnu.so\n",
      "cythoning beschleunigung.pyx to beschleunigung.c\n",
      "building 'beschleunigung' extension\n",
      "gcc -pthread -B /opt/anaconda/compiler_compat -Wl,--sysroot=/ -Wsign-compare -DNDEBUG -g -fwrapv -O3 -Wall -Wstrict-prototypes -fPIC -I/opt/anaconda/lib/python3.6/site-packages/numpy/core/include -I/opt/anaconda/include/python3.6m -c beschleunigung.c -o build/temp.linux-x86_64-3.6/beschleunigung.o -O3\n",
      "gcc -pthread -shared -B /opt/anaconda/compiler_compat -L/opt/anaconda/lib -Wl,-rpath=/opt/anaconda/lib -Wl,--no-as-needed -Wl,--sysroot=/ build/temp.linux-x86_64-3.6/beschleunigung.o -L/opt/anaconda/lib -lm -lpython3.6m -o /home/shiroten/Nextcloud/Studium Dokumente/Aktuelles Semester/Rösch - Programmieren 3/Planetary-Python-Project/Source/Shiroten/cython_galaxy_extended_single_step/beschleunigung.cpython-36m-x86_64-linux-gnu.so\n",
      "cythoning update_position.pyx to update_position.c\n",
      "building 'update_position' extension\n",
      "gcc -pthread -B /opt/anaconda/compiler_compat -Wl,--sysroot=/ -Wsign-compare -DNDEBUG -g -fwrapv -O3 -Wall -Wstrict-prototypes -fPIC -I/opt/anaconda/lib/python3.6/site-packages/numpy/core/include -I/opt/anaconda/include/python3.6m -c update_position.c -o build/temp.linux-x86_64-3.6/update_position.o -O3\n",
      "gcc -pthread -shared -B /opt/anaconda/compiler_compat -L/opt/anaconda/lib -Wl,-rpath=/opt/anaconda/lib -Wl,--no-as-needed -Wl,--sysroot=/ build/temp.linux-x86_64-3.6/update_position.o -L/opt/anaconda/lib -lm -lpython3.6m -o /home/shiroten/Nextcloud/Studium Dokumente/Aktuelles Semester/Rösch - Programmieren 3/Planetary-Python-Project/Source/Shiroten/cython_galaxy_extended_single_step/update_position.cpython-36m-x86_64-linux-gnu.so\n",
      "cythoning update_speed.pyx to update_speed.c\n",
      "building 'update_speed' extension\n",
      "gcc -pthread -B /opt/anaconda/compiler_compat -Wl,--sysroot=/ -Wsign-compare -DNDEBUG -g -fwrapv -O3 -Wall -Wstrict-prototypes -fPIC -I/opt/anaconda/lib/python3.6/site-packages/numpy/core/include -I/opt/anaconda/include/python3.6m -c update_speed.c -o build/temp.linux-x86_64-3.6/update_speed.o -O3\n",
      "gcc -pthread -shared -B /opt/anaconda/compiler_compat -L/opt/anaconda/lib -Wl,-rpath=/opt/anaconda/lib -Wl,--no-as-needed -Wl,--sysroot=/ build/temp.linux-x86_64-3.6/update_speed.o -L/opt/anaconda/lib -lm -lpython3.6m -o /home/shiroten/Nextcloud/Studium Dokumente/Aktuelles Semester/Rösch - Programmieren 3/Planetary-Python-Project/Source/Shiroten/cython_galaxy_extended_single_step/update_speed.cpython-36m-x86_64-linux-gnu.so\n",
      "cythoning calculate_step.pyx to calculate_step.c\n",
      "building 'calculate_step' extension\n",
      "gcc -pthread -B /opt/anaconda/compiler_compat -Wl,--sysroot=/ -Wsign-compare -DNDEBUG -g -fwrapv -O3 -Wall -Wstrict-prototypes -fPIC -I/opt/anaconda/lib/python3.6/site-packages/numpy/core/include -I/opt/anaconda/include/python3.6m -c calculate_step.c -o build/temp.linux-x86_64-3.6/calculate_step.o -O3 -fopenmp\n",
      "gcc -pthread -shared -B /opt/anaconda/compiler_compat -L/opt/anaconda/lib -Wl,-rpath=/opt/anaconda/lib -Wl,--no-as-needed -Wl,--sysroot=/ build/temp.linux-x86_64-3.6/calculate_step.o -L/opt/anaconda/lib -lm -lpython3.6m -o /home/shiroten/Nextcloud/Studium Dokumente/Aktuelles Semester/Rösch - Programmieren 3/Planetary-Python-Project/Source/Shiroten/cython_galaxy_extended_single_step/calculate_step.cpython-36m-x86_64-linux-gnu.so -fopenmp\n",
      "cythoning loop.pyx to loop.c\n",
      "building 'loop' extension\n",
      "gcc -pthread -B /opt/anaconda/compiler_compat -Wl,--sysroot=/ -Wsign-compare -DNDEBUG -g -fwrapv -O3 -Wall -Wstrict-prototypes -fPIC -I/opt/anaconda/lib/python3.6/site-packages/numpy/core/include -I/opt/anaconda/include/python3.6m -c loop.c -o build/temp.linux-x86_64-3.6/loop.o -O3\n",
      "gcc -pthread -shared -B /opt/anaconda/compiler_compat -L/opt/anaconda/lib -Wl,-rpath=/opt/anaconda/lib -Wl,--no-as-needed -Wl,--sysroot=/ build/temp.linux-x86_64-3.6/loop.o -L/opt/anaconda/lib -lm -lpython3.6m -o /home/shiroten/Nextcloud/Studium Dokumente/Aktuelles Semester/Rösch - Programmieren 3/Planetary-Python-Project/Source/Shiroten/cython_galaxy_extended_single_step/loop.cpython-36m-x86_64-linux-gnu.so\n"
     ]
    }
   ],
   "source": [
    "%%bash\n",
    "cd ./cython_galaxy_extended_single_step\n",
    "#Compilen\n",
    "python3 setup.py build_ext --inplace"
   ]
  },
  {
   "cell_type": "markdown",
   "metadata": {},
   "source": [
    "## Start in Juypter"
   ]
  },
  {
   "cell_type": "code",
   "execution_count": 20,
   "metadata": {
    "collapsed": true
   },
   "outputs": [],
   "source": [
    "%load_ext Cython"
   ]
  },
  {
   "cell_type": "code",
   "execution_count": 34,
   "metadata": {
    "collapsed": true
   },
   "outputs": [],
   "source": [
    "#Sonnesystem\n",
    "\n",
    "python_position = [\n",
    "    #\"Sun\"\n",
    "    [0, 0, 0],     \n",
    "    #\"Mercury\"\n",
    "    [57_909_175_000, 0, 0], \n",
    "    #\"Venus\"\n",
    "    [108_208_930_000, 0, 0],    \n",
    "    #\"Earth\"\n",
    "    [149_597_890_000, 0, 0],    \n",
    "    #\"Moon\"\n",
    "    [149_597_890_000, 384_400_000, 0],    \n",
    "    #\"Mars\"\n",
    "    [227_936_640_000, 0, 0],    \n",
    "    #\"Jupiter\"\n",
    "    [778_412_020_000, 0, 0],    \n",
    "    #\"Saturn\"\n",
    "    [1_426_725_400_000, 0, 0],    \n",
    "    #\"Uranus\"\n",
    "    [2_870_972_200_000, 0, 0],    \n",
    "    #\"Neptune\"\n",
    "    [4_498_252_900_000, 0, 0]\n",
    "]\n",
    "\n",
    "python_geschwindigkeit = [\n",
    "    #\"Sun\"\n",
    "    [0, 0, 0],     \n",
    "    #\"Mercury\"\n",
    "    [0, 47_872, 0], \n",
    "    #\"Venus\"\n",
    "    [0, 35_021, 0],    \n",
    "    #\"Earth\"\n",
    "    [0, 29_786, 0],    \n",
    "    #\"Moon\"\n",
    "    [-1_022, 0, 0],    \n",
    "    #\"Mars\"\n",
    "    [0, 24_131, 0],    \n",
    "    #\"Jupiter\"\n",
    "    [0, 13_069, 0],    \n",
    "    #\"Saturn\"\n",
    "    [0, 9_672, 0],    \n",
    "    #\"Uranus\"\n",
    "    [0, 6_835, 0],    \n",
    "    #\"Neptune\"\n",
    "    [0, 5_477, 0]\n",
    "]\n",
    "\n",
    "python_masse = [\n",
    "    #\"Sun\"\n",
    "    1.9889 * 10 ** 30,     \n",
    "    #\"Mercury\"\n",
    "    3.3022 * 10 ** 23, \n",
    "    #\"Venus\"\n",
    "    4.8685 * 10 ** 24,    \n",
    "    #\"Earth\"\n",
    "    5.97219 * 10 ** 24,    \n",
    "    #\"Moon\"\n",
    "    7.34767309 * 10 ** 22,    \n",
    "    #\"Mars\"\n",
    "    6.4185 * 10 ** 23,    \n",
    "    #\"Jupiter\"\n",
    "    1.8987 * 10 ** 27,    \n",
    "    #\"Saturn\"\n",
    "    5.6851 * 10 ** 26,    \n",
    "    #\"Uranus\"\n",
    "    8.6849 * 10 ** 25,    \n",
    "    #\"Neptune\"\n",
    "    1.0244 * 10 ** 26\n",
    "]"
   ]
  },
  {
   "cell_type": "code",
   "execution_count": 31,
   "metadata": {
    "collapsed": true
   },
   "outputs": [],
   "source": [
    "#Erde und Sonne alleine\n",
    "\n",
    "python_position = [\n",
    "    #\"Sun\"\n",
    "    [0, 0, 0],       \n",
    "    #\"Earth\"\n",
    "    [149_597_890_000, 0, 0]\n",
    "]\n",
    "\n",
    "python_geschwindigkeit = [\n",
    "    #\"Sun\"\n",
    "    [0, 0, 0],      \n",
    "    #\"Earth\"\n",
    "    [0, 29_786, 0]   \n",
    "]\n",
    "\n",
    "python_masse = [\n",
    "    #\"Sun\"\n",
    "    1.9889 * 10 ** 30,     \n",
    "    #\"Earth\"\n",
    "    5.97219 * 10 ** 24\n",
    "]"
   ]
  },
  {
   "cell_type": "code",
   "execution_count": 35,
   "metadata": {
    "collapsed": true
   },
   "outputs": [],
   "source": [
    "import os\n",
    "import sys\n",
    "module_path = os.path.abspath(os.path.join('..'))\n",
    "if module_path not in sys.path:\n",
    "    sys.path.append(\"./cython_galaxy_extended_single_step\")\n",
    "\n",
    "from loop import Loop\n",
    "import matplotlib.pyplot as plt\n",
    "\n",
    "plot_list = []\n",
    "year = 60 * 60 * 24 * 365 * 5\n",
    "dt = 60 * 60\n",
    "iteration = year / dt\n",
    "Loop(dt, iteration, python_position, python_geschwindigkeit, python_masse, plot_list)"
   ]
  },
  {
   "cell_type": "code",
   "execution_count": 38,
   "metadata": {},
   "outputs": [
    {
     "data": {
      "image/png": "[encoded data removed]",
      "text/plain": [
       "<matplotlib.figure.Figure at 0x7f6161649748>"
      ]
     },
     "metadata": {},
     "output_type": "display_data"
    },
    {
     "data": {
      "image/png": "[encoded data removed]",
      "text/plain": [
       "<matplotlib.figure.Figure at 0x7f61619365f8>"
      ]
     },
     "metadata": {},
     "output_type": "display_data"
    },
    {
     "data": {
      "image/png": "[encoded data removed]",
      "text/plain": [
       "<matplotlib.figure.Figure at 0x7f61759dedd8>"
      ]
     },
     "metadata": {},
     "output_type": "display_data"
    },
    {
     "data": {
      "image/png": "[encoded data removed]",
      "text/plain": [
       "<matplotlib.figure.Figure at 0x7f616198b748>"
      ]
     },
     "metadata": {},
     "output_type": "display_data"
    },
    {
     "data": {
      "image/png": "[encoded data removed]",
      "text/plain": [
       "<matplotlib.figure.Figure at 0x7f6161618f98>"
      ]
     },
     "metadata": {},
     "output_type": "display_data"
    },
    {
     "data": {
      "image/png": "[encoded data removed]",
      "text/plain": [
       "<matplotlib.figure.Figure at 0x7f6161736c88>"
      ]
     },
     "metadata": {},
     "output_type": "display_data"
    },
    {
     "data": {
      "image/png": "[encoded data removed]",
      "text/plain": [
       "<matplotlib.figure.Figure at 0x7f61618c1e80>"
      ]
     },
     "metadata": {},
     "output_type": "display_data"
    },
    {
     "data": {
      "image/png": "[encoded data removed]",
      "text/plain": [
       "<matplotlib.figure.Figure at 0x7f6161736a90>"
      ]
     },
     "metadata": {},
     "output_type": "display_data"
    },
    {
     "data": {
      "image/png": "[encoded data removed]",
      "text/plain": [
       "<matplotlib.figure.Figure at 0x7f6161936080>"
      ]
     },
     "metadata": {},
     "output_type": "display_data"
    },
    {
     "data": {
      "image/png": "[encoded data removed]",
      "text/plain": [
       "<matplotlib.figure.Figure at 0x7f616176c6a0>"
      ]
     },
     "metadata": {},
     "output_type": "display_data"
    },
    {
     "name": "stdout",
     "output_type": "stream",
     "text": [
      "plot_list_length 43800\n",
      "[ 0.12075034  0.          0.        ]\n",
      "[  4.83001364e-01   2.94690924e-06   0.00000000e+00]\n",
      "[  9.71343891e-01   1.29119949e-05   0.00000000e+00]\n",
      "[  1.47036874e+00   3.30552417e-05   0.00000000e+00]\n",
      "[  1.98007590e+00   6.74478956e-05   0.00000000e+00]\n",
      "[  2.50046535e+00   1.20161184e-04   0.00000000e+00]\n",
      "[  3.03153706e+00   1.95266310e-04   0.00000000e+00]\n",
      "[  3.57329102e+00   2.96834447e-04   0.00000000e+00]\n",
      "[  4.12572718e+00   4.28936735e-04   0.00000000e+00]\n",
      "[  4.68884551e+00   5.95644274e-04   0.00000000e+00]\n",
      "[  5.26264596e+00   8.01028117e-04   0.00000000e+00]\n",
      "[  5.84712850e+00   1.04915927e-03   0.00000000e+00]\n",
      "[  6.44229307e+00   1.34410868e-03   0.00000000e+00]\n",
      "[  7.04813960e+00   1.68994723e-03   0.00000000e+00]\n",
      "[  7.66466806e+00   2.09074574e-03   0.00000000e+00]\n",
      "[  8.29187836e+00   2.55057497e-03   0.00000000e+00]\n",
      "[  8.92977043e+00   3.07350558e-03   0.00000000e+00]\n",
      "[  9.57834422e+00   3.66360815e-03   0.00000000e+00]\n",
      "[  1.02375996e+01   4.32495320e-03   0.00000000e+00]\n",
      "[  1.09075366e+01   5.06161113e-03   0.00000000e+00]\n",
      "[  1.15881550e+01   5.87765225e-03   0.00000000e+00]\n",
      "[  1.22794547e+01   6.77714676e-03   0.00000000e+00]\n",
      "[  1.29814357e+01   7.76416477e-03   0.00000000e+00]\n",
      "[  1.36940979e+01   8.84277624e-03   0.00000000e+00]\n",
      "[  1.44174411e+01   1.00170511e-02   0.00000000e+00]\n",
      "[  1.51514653e+01   1.12910589e-02   0.00000000e+00]\n",
      "[  1.58961703e+01   1.26688695e-02   0.00000000e+00]\n",
      "[  1.66515560e+01   1.41545522e-02   0.00000000e+00]\n",
      "[  1.74176223e+01   1.57521764e-02   0.00000000e+00]\n",
      "[  1.81943690e+01   1.74658113e-02   0.00000000e+00]\n",
      "[ 18.98179603   0.01929953   0.        ]\n",
      "[ 19.77990323   0.02125739   0.        ]\n",
      "[ 20.58869047   0.02334347   0.        ]\n",
      "[ 21.40815758   0.02556184   0.        ]\n",
      "[ 22.23830441   0.02791656   0.        ]\n",
      "[ 23.07913082   0.0304117    0.        ]\n",
      "[ 23.93063663   0.03305133   0.        ]\n",
      "[ 24.79282167   0.03583952   0.        ]\n",
      "[ 25.66568578   0.03878034   0.        ]\n",
      "[ 26.54922878   0.04187785   0.        ]\n",
      "[ 27.44345049   0.04513612   0.        ]\n",
      "[ 28.34835071   0.04855922   0.        ]\n",
      "[ 29.26392927   0.05215121   0.        ]\n",
      "[ 30.19018596   0.05591617   0.        ]\n",
      "[ 31.12712058   0.05985815   0.        ]\n",
      "[ 32.07473294   0.06398122   0.        ]\n",
      "[ 33.03302281   0.06828946   0.        ]\n",
      "[ 34.00198999   0.07278692   0.        ]\n",
      "[ 34.98163426   0.07747767   0.        ]\n",
      "[ 35.9719554    0.08236577   0.        ]\n"
     ]
    }
   ],
   "source": [
    "plt.subplot(111)\n",
    "plt.plot([x[0][0] for x in plot_list], [x[0][1] for x in plot_list], label=\"Sun\")\n",
    "plt.legend(bbox_to_anchor=(1.05, 1), loc=2, borderaxespad=0.)\n",
    "plt.show()\n",
    "\n",
    "plt.subplot(111)\n",
    "plt.plot([x[1][0] for x in plot_list], [x[1][1] for x in plot_list], label=\"Mercury\")\n",
    "plt.legend(bbox_to_anchor=(1.05, 1), loc=2, borderaxespad=0.)\n",
    "plt.show()\n",
    "\n",
    "plt.subplot(111)\n",
    "plt.plot([x[2][0] for x in plot_list], [x[2][1] for x in plot_list], label=\"Venus\")\n",
    "plt.legend(bbox_to_anchor=(1.05, 1), loc=2, borderaxespad=0.)\n",
    "plt.show()\n",
    "\n",
    "plt.subplot(111)\n",
    "plt.plot([x[3][0] for x in plot_list], [x[3][1] for x in plot_list], label=\"Earth\")\n",
    "plt.legend(bbox_to_anchor=(1.05, 1), loc=2, borderaxespad=0.)\n",
    "plt.show()\n",
    "\n",
    "plt.subplot(111)\n",
    "plt.plot([x[4][0] for x in plot_list], [x[4][1] for x in plot_list], label=\"Moon\")\n",
    "plt.legend(bbox_to_anchor=(1.05, 1), loc=2, borderaxespad=0.)\n",
    "plt.show()\n",
    "\n",
    "plt.subplot(111)\n",
    "plt.plot([x[5][0] for x in plot_list], [x[5][1] for x in plot_list], label=\"Mars\")\n",
    "plt.legend(bbox_to_anchor=(1.05, 1), loc=2, borderaxespad=0.)\n",
    "plt.show()\n",
    "\n",
    "plt.subplot(111)\n",
    "plt.plot([x[6][0] for x in plot_list], [x[6][1] for x in plot_list], label=\"Jupiter\")\n",
    "plt.legend(bbox_to_anchor=(1.05, 1), loc=2, borderaxespad=0.)\n",
    "plt.show()\n",
    "\n",
    "plt.subplot(111)\n",
    "plt.plot([x[7][0] for x in plot_list], [x[7][1] for x in plot_list], label=\"Saturn\")\n",
    "plt.legend(bbox_to_anchor=(1.05, 1), loc=2, borderaxespad=0.)\n",
    "plt.show()\n",
    "\n",
    "plt.subplot(111)\n",
    "plt.plot([x[8][0] for x in plot_list], [x[8][1] for x in plot_list], label=\"Uranus\")\n",
    "plt.legend(bbox_to_anchor=(1.05, 1), loc=2, borderaxespad=0.)\n",
    "plt.show()\n",
    "\n",
    "plt.subplot(111)\n",
    "plt.plot([x[9][0] for x in plot_list], [x[9][1] for x in plot_list], label=\"Neptune\")\n",
    "plt.legend(bbox_to_anchor=(1.05, 1), loc=2, borderaxespad=0.)\n",
    "plt.show()\n",
    "\n",
    "print(\"plot_list_length\", len(plot_list))\n",
    "for _ in range (50):\n",
    "    print(plot_list[_][0])"
   ]
  },
  {
   "cell_type": "markdown",
   "metadata": {},
   "source": [
    "## Start as File"
   ]
  },
  {
   "cell_type": "code",
   "execution_count": null,
   "metadata": {
    "collapsed": true
   },
   "outputs": [],
   "source": [
    "%%file ./cython_galaxy_extended_single_step/start.py\n",
    "from loop import Loop\n",
    "import matplotlib.pyplot as plt\n",
    "\n",
    "#Sonnesystem\n",
    "\n",
    "python_position = [\n",
    "    #\"Sun\"\n",
    "    [0, 0, 0],     \n",
    "    #\"Mercury\"\n",
    "    [57_909_175_000, 0, 0], \n",
    "    #\"Venus\"\n",
    "    [108_208_930_000, 0, 0],    \n",
    "    #\"Earth\"\n",
    "    [149_597_890_000, 0, 0],    \n",
    "    #\"Moon\"\n",
    "    [149_597_890_000, 384_400_000, 0],    \n",
    "    #\"Mars\"\n",
    "    [227_936_640_000, 0, 0],    \n",
    "    #\"Jupiter\"\n",
    "    [778_412_020_000, 0, 0],    \n",
    "    #\"Saturn\"\n",
    "    [1_426_725_400_000, 0, 0],    \n",
    "    #\"Uranus\"\n",
    "    [2_870_972_200_000, 0, 0],    \n",
    "    #\"Neptune\"\n",
    "    [4_498_252_900_000, 0, 0]\n",
    "]\n",
    "\n",
    "python_geschwindigkeit = [\n",
    "    #\"Sun\"\n",
    "    [0, 0, 0],     \n",
    "    #\"Mercury\"\n",
    "    [0, 47_872, 0], \n",
    "    #\"Venus\"\n",
    "    [0, 35_021, 0],    \n",
    "    #\"Earth\"\n",
    "    [0, 29_786, 0],    \n",
    "    #\"Moon\"\n",
    "    [-1_022, 0, 0],    \n",
    "    #\"Mars\"\n",
    "    [0, 24_131, 0],    \n",
    "    #\"Jupiter\"\n",
    "    [0, 13_069, 0],    \n",
    "    #\"Saturn\"\n",
    "    [0, 9_672, 0],    \n",
    "    #\"Uranus\"\n",
    "    [0, 6_835, 0],    \n",
    "    #\"Neptune\"\n",
    "    [0, 5_477, 0]\n",
    "]\n",
    "\n",
    "python_masse = [\n",
    "    #\"Sun\"\n",
    "    1.9889 * 10 ** 30,     \n",
    "    #\"Mercury\"\n",
    "    3.3022 * 10 ** 23, \n",
    "    #\"Venus\"\n",
    "    4.8685 * 10 ** 24,    \n",
    "    #\"Earth\"\n",
    "    5.97219 * 10 ** 24,    \n",
    "    #\"Moon\"\n",
    "    7.34767309 * 10 ** 22,    \n",
    "    #\"Mars\"\n",
    "    6.4185 * 10 ** 23,    \n",
    "    #\"Jupiter\"\n",
    "    1.8987 * 10 ** 27,    \n",
    "    #\"Saturn\"\n",
    "    5.6851 * 10 ** 26,    \n",
    "    #\"Uranus\"\n",
    "    8.6849 * 10 ** 25,    \n",
    "    #\"Neptune\"\n",
    "    1.0244 * 10 ** 26\n",
    "]\n",
    "\n",
    "plot_list = []\n",
    "iteration = 60 * 24 * 365 * 2\n",
    "Loop(iteration, python_position, python_geschwindigkeit, python_masse, plot_list)\n",
    "\n",
    "plt.subplot(111)\n",
    "plt.plot([x[0][0] for x in plot_list], [x[0][1] for x in plot_list], label=\"Sun\")\n",
    "plt.legend(bbox_to_anchor=(1.05, 1), loc=2, borderaxespad=0.)\n",
    "plt.show()\n",
    "\n",
    "plt.subplot(111)\n",
    "plt.plot([x[1][0] for x in plot_list], [x[1][1] for x in plot_list], label=\"Mercury\")\n",
    "plt.legend(bbox_to_anchor=(1.05, 1), loc=2, borderaxespad=0.)\n",
    "plt.show()\n",
    "\n",
    "plt.subplot(111)\n",
    "plt.plot([x[2][0] for x in plot_list], [x[2][1] for x in plot_list], label=\"Venus\")\n",
    "plt.legend(bbox_to_anchor=(1.05, 1), loc=2, borderaxespad=0.)\n",
    "plt.show()\n",
    "\n",
    "plt.subplot(111)\n",
    "plt.plot([x[3][0] for x in plot_list], [x[3][1] for x in plot_list], label=\"Earth\")\n",
    "plt.legend(bbox_to_anchor=(1.05, 1), loc=2, borderaxespad=0.)\n",
    "plt.show()\n",
    "\n",
    "plt.subplot(111)\n",
    "plt.plot([x[4][0] for x in plot_list], [x[4][1] for x in plot_list], label=\"Moon\")\n",
    "plt.legend(bbox_to_anchor=(1.05, 1), loc=2, borderaxespad=0.)\n",
    "plt.show()\n",
    "\n",
    "plt.subplot(111)\n",
    "plt.plot([x[5][0] for x in plot_list], [x[5][1] for x in plot_list], label=\"Mars\")\n",
    "plt.legend(bbox_to_anchor=(1.05, 1), loc=2, borderaxespad=0.)\n",
    "plt.show()\n",
    "\n",
    "plt.subplot(111)\n",
    "plt.plot([x[6][0] for x in plot_list], [x[6][1] for x in plot_list], label=\"Jupiter\")\n",
    "plt.legend(bbox_to_anchor=(1.05, 1), loc=2, borderaxespad=0.)\n",
    "plt.show()\n",
    "\n",
    "plt.subplot(111)\n",
    "plt.plot([x[7][0] for x in plot_list], [x[7][1] for x in plot_list], label=\"Saturn\")\n",
    "plt.legend(bbox_to_anchor=(1.05, 1), loc=2, borderaxespad=0.)\n",
    "plt.show()\n",
    "\n",
    "plt.subplot(111)\n",
    "plt.plot([x[8][0] for x in plot_list], [x[8][1] for x in plot_list], label=\"Uranus\")\n",
    "plt.legend(bbox_to_anchor=(1.05, 1), loc=2, borderaxespad=0.)\n",
    "plt.show()\n",
    "\n",
    "plt.subplot(111)\n",
    "plt.plot([x[9][0] for x in plot_list], [x[9][1] for x in plot_list], label=\"Neptune\")\n",
    "plt.legend(bbox_to_anchor=(1.05, 1), loc=2, borderaxespad=0.)\n",
    "plt.show()\n",
    "\n",
    "print(\"plot_list_length\", len(plot_list))\n",
    "for _ in range (40):\n",
    "    print(plot_list[_])"
   ]
  },
  {
   "cell_type": "code",
   "execution_count": null,
   "metadata": {
    "collapsed": true
   },
   "outputs": [],
   "source": [
    "%%bash\n",
    "cd cython_galaxy_extended_single_step\n",
    "python3 start.py"
   ]
  }
 ],
 "metadata": {
  "kernelspec": {
   "display_name": "Python 3",
   "language": "python",
   "name": "python3"
  },
  "language_info": {
   "codemirror_mode": {
    "name": "ipython",
    "version": 3
   },
   "file_extension": ".py",
   "mimetype": "text/x-python",
   "name": "python",
   "nbconvert_exporter": "python",
   "pygments_lexer": "ipython3",
   "version": "3.6.3"
  },
  "latex_envs": {
   "LaTeX_envs_menu_present": true,
   "autocomplete": true,
   "bibliofile": "biblio.bib",
   "cite_by": "apalike",
   "current_citInitial": 1,
   "eqLabelWithNumbers": true,
   "eqNumInitial": 1,
   "hotkeys": {
    "equation": "Ctrl-E",
    "itemize": "Ctrl-I"
   },
   "labels_anchors": false,
   "latex_user_defs": false,
   "report_style_numbering": false,
   "user_envs_cfg": false
  }
 },
 "nbformat": 4,
 "nbformat_minor": 2
}
