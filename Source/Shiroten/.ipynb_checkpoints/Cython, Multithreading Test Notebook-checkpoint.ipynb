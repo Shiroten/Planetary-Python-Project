{
 "cells": [
  {
   "cell_type": "markdown",
   "metadata": {},
   "source": [
    "## Todo"
   ]
  },
  {
   "cell_type": "markdown",
   "metadata": {},
   "source": [
    "ArrayListe als Cython/Numpy erstellen:\n",
    "mit 5 Listen\n",
    "\n",
    "position, gesch, masse, pos_neu, geschw_neu\n",
    "\n",
    "\n",
    "\n",
    "methoden als nogil funktionen umschreiben\n",
    "\n",
    "\n",
    "\n",
    "\n",
    "\n"
   ]
  },
  {
   "cell_type": "markdown",
   "metadata": {},
   "source": [
    "queue implementieren\n",
    "\n",
    "multiprocessor code schreiben\n",
    "\n",
    "worker pool nutzen"
   ]
  },
  {
   "cell_type": "code",
   "execution_count": null,
   "metadata": {
    "collapsed": true
   },
   "outputs": [],
   "source": [
    "#Beispiel Listen zum Testen\n",
    "\n",
    "python_position = [[149_597_890_000, 0,0], [0,0,0]]\n",
    "python_geschwindigkeit = [[0, 29.786 * 10**3,0], [0,0,0]]\n",
    "python_masse = [[5.97219 * 10 ** 24], [1.9889 * 10 ** 30]]\n",
    "python_position_neu = []\n",
    "python_geschwindigkeit_neu = []\n",
    "python_position_list = []"
   ]
  },
  {
   "cell_type": "code",
   "execution_count": null,
   "metadata": {},
   "outputs": [],
   "source": [
    "%load_ext Cython"
   ]
  },
  {
   "cell_type": "code",
   "execution_count": null,
   "metadata": {
    "collapsed": true
   },
   "outputs": [],
   "source": [
    "#Umwandlung aus Python Listen in Numpy Arrays\n",
    "\n",
    "import numpy as np\n",
    "position = np.array(python_position, dtype=np.float32)\n",
    "geschwindigkeit = np.array(python_geschwindigkeit,dtype=np.float32)\n",
    "masse = np.array(python_masse,dtype=np.float32)\n",
    "position_neu = np.array(python_position_neu ,dtype=np.float32)\n",
    "geschwindigkeit_neu = np.ndarray(python_geschwindigkeit_neu ,dtype=np.float32)"
   ]
  },
  {
   "cell_type": "markdown",
   "metadata": {},
   "source": [
    "## Einzelne Cython Module"
   ]
  },
  {
   "cell_type": "code",
   "execution_count": 8,
   "metadata": {},
   "outputs": [
    {
     "ename": "FileExistsError",
     "evalue": "[Errno 17] File exists: '/tmp/cython_galaxy'",
     "output_type": "error",
     "traceback": [
      "\u001b[0;31m---------------------------------------------------------------------------\u001b[0m",
      "\u001b[0;31mFileExistsError\u001b[0m                           Traceback (most recent call last)",
      "\u001b[0;32m<ipython-input-8-b5458978800b>\u001b[0m in \u001b[0;36m<module>\u001b[0;34m()\u001b[0m\n\u001b[1;32m      1\u001b[0m \u001b[0;32mimport\u001b[0m \u001b[0mos\u001b[0m\u001b[0;34m\u001b[0m\u001b[0m\n\u001b[0;32m----> 2\u001b[0;31m \u001b[0mos\u001b[0m\u001b[0;34m.\u001b[0m\u001b[0mmkdir\u001b[0m\u001b[0;34m(\u001b[0m\u001b[0;34m'/tmp/cython_galaxy'\u001b[0m\u001b[0;34m)\u001b[0m\u001b[0;34m\u001b[0m\u001b[0m\n\u001b[0m",
      "\u001b[0;31mFileExistsError\u001b[0m: [Errno 17] File exists: '/tmp/cython_galaxy'"
     ]
    }
   ],
   "source": [
    "import os\n",
    "os.mkdir('/tmp/cython_galaxy')"
   ]
  },
  {
   "cell_type": "code",
   "execution_count": 49,
   "metadata": {},
   "outputs": [
    {
     "name": "stdout",
     "output_type": "stream",
     "text": [
      "Overwriting /tmp/cython_galaxy/abstand.pyx\n"
     ]
    }
   ],
   "source": [
    "%%file /tmp/cython_galaxy/abstand.pyx\n",
    "cimport cython\n",
    "#Abstands Funktion\n",
    "#Abstand_Sonne = position[1] - position[0]\n",
    "\n",
    "@cython.boundscheck(False)\n",
    "@cython.cdivision(True)\n",
    "cpdef void Abstand (float [:, :] position_view , float[:] result ,int first, int second) nogil:   \n",
    "    result[0] = position_view[first][0] - position_view[second][0]\n",
    "    result[1] = position_view[first][1] - position_view[second][1]\n",
    "    result[2] = position_view[first][2] - position_view[second][2]"
   ]
  },
  {
   "cell_type": "code",
   "execution_count": 50,
   "metadata": {},
   "outputs": [
    {
     "name": "stdout",
     "output_type": "stream",
     "text": [
      "Overwriting /tmp/cython_galaxy/betrag.pyx\n"
     ]
    }
   ],
   "source": [
    "%%file /tmp/cython_galaxy/betrag.pyx\n",
    "cimport cython\n",
    "from libc.math cimport sqrt\n",
    "\n",
    "\n",
    "#Betrags Funktion\n",
    "#Betrag_Erde  = sqrt( Abstand_Erde**2 + Abstand_Erde**2 + Abstand_Erde**2)\n",
    "@cython.boundscheck(False)\n",
    "@cython.cdivision(True)\n",
    "cpdef void Betrag (float [:] abstand_view , float[:] result) nogil:\n",
    "    result[0] = sqrt(abstand_view[0]**2 + abstand_view[1]**2 + abstand_view[2]**2)"
   ]
  },
  {
   "cell_type": "code",
   "execution_count": 51,
   "metadata": {},
   "outputs": [
    {
     "name": "stdout",
     "output_type": "stream",
     "text": [
      "Overwriting /tmp/cython_galaxy/kraft.pyx\n"
     ]
    }
   ],
   "source": [
    "%%file /tmp/cython_galaxy/kraft.pyx\n",
    "cimport cython\n",
    "\n",
    "#Kraft Funktion\n",
    "#Kraft_Erde = G * (masse_erde * masse_sonne / (Betrag_Erde  ** 3)) * Abstand_Erde\n",
    "@cython.boundscheck(False)\n",
    "@cython.cdivision(True)\n",
    "cpdef void Kraft (float [:] masse_view , float [:, :] abstand_view,  float Betrag\\\n",
    "                   ,int first_planet, int second_planet, float[:] result) nogil:\n",
    "    cdef float G = 6.672 * 10 ** -11\n",
    "    result[0] = G * (masse_view[first_planet] * masse_view[second_planet] / (Betrag  ** 3)) * abstand_view[0]\n",
    "    result[1] = G * (masse_view[first_planet] * masse_view[second_planet] / (Betrag  ** 3)) * abstand_view[1]\n",
    "    result[2] = G * (masse_view[first_planet] * masse_view[second_planet] / (Betrag  ** 3)) * abstand_view[2]"
   ]
  },
  {
   "cell_type": "code",
   "execution_count": 52,
   "metadata": {},
   "outputs": [
    {
     "name": "stdout",
     "output_type": "stream",
     "text": [
      "Overwriting /tmp/cython_galaxy/beschleunigung.pyx\n"
     ]
    }
   ],
   "source": [
    "%%file /tmp/cython_galaxy/beschleunigung.pyx\n",
    "cimport cython\n",
    "\n",
    "#Beschleunigungs Funktion\n",
    "#Beschleunigung_Erde  = Kraft_Erde  / masse\n",
    "@cython.boundscheck(False)\n",
    "@cython.cdivision(True)\n",
    "cpdef void Beschleunigung (float [:] kraft_view , float [:] masse_view, int massen_index, float[:] result) nogil:\n",
    "    cdef float G = 6.672 * 10 ** -11\n",
    "    result[0] = kraft_view[0]  / masse_view[massen_index]\n",
    "    result[1] = kraft_view[1]  / masse_view[massen_index]\n",
    "    result[2] = kraft_view[2]  / masse_view[massen_index]"
   ]
  },
  {
   "cell_type": "code",
   "execution_count": 53,
   "metadata": {},
   "outputs": [
    {
     "name": "stdout",
     "output_type": "stream",
     "text": [
      "Overwriting /tmp/cython_galaxy/positions_aktualliersierung.pyx\n"
     ]
    }
   ],
   "source": [
    "%%file /tmp/cython_galaxy/positions_aktualliersierung.pyx\n",
    "cimport cython\n",
    "\n",
    "#Positions Aktualliersierung\n",
    "#position = position + dt * geschwindigkeit  + ((dt ** 2) / 2) * Beschleunigung_Erde\n",
    "@cython.boundscheck(False)\n",
    "@cython.cdivision(True)\n",
    "cpdef void Positions_aktualliersierung (float [:, :] position_view , float [:, :] geschwindigkeit_view, \\\n",
    "                   float [:] beschleunigung_view, float dt, int planet_index) nogil:\n",
    "    \n",
    "    position_view[planet_index][0] = position_view[planet_index][0]  + dt * geschwindigkeit_view[planet_index][0] \\\n",
    "                                                + ((dt ** 2) / 2) * beschleunigung_view[0]\n",
    "        \n",
    "    position_view[planet_index][1] = position_view[planet_index][1]  + dt * geschwindigkeit_view[planet_index][1] \\\n",
    "                                                + ((dt ** 2) / 2) * beschleunigung_view[0]\n",
    "        \n",
    "    position_view[planet_index][2] = position_view[planet_index][2]  + dt * geschwindigkeit_view[planet_index][2] \\\n",
    "                                                + ((dt ** 2) / 2) * beschleunigung_view[0]"
   ]
  },
  {
   "cell_type": "code",
   "execution_count": 54,
   "metadata": {},
   "outputs": [
    {
     "name": "stdout",
     "output_type": "stream",
     "text": [
      "Overwriting /tmp/cython_galaxy/geschwindigkeit_aktualliersierung.pyx\n"
     ]
    }
   ],
   "source": [
    "%%file /tmp/cython_galaxy/geschwindigkeit_aktualliersierung.pyx\n",
    "cimport cython\n",
    "\n",
    "#Geschwindigkeits Aktuallisierung\n",
    "#geschwindigkeit[0][0]  += dt * Beschleunigung_Erde[0]\n",
    "@cython.boundscheck(False)\n",
    "@cython.cdivision(True)\n",
    "cpdef void Geschwindigkeit_aktualliersierung (float [:, :] geschwindigkeit_view , float [:] beschleunigung_view, \\\n",
    "                   float dt ,int planet_index) nogil:\n",
    "    geschwindigkeit_view[planet_index][0] = geschwindigkeit_view[planet_index][0] + dt * beschleunigung_view[0]\n",
    "    geschwindigkeit_view[planet_index][1] = geschwindigkeit_view[planet_index][1] + dt * beschleunigung_view[1]\n",
    "    geschwindigkeit_view[planet_index][2] = geschwindigkeit_view[planet_index][2] + dt * beschleunigung_view[2]"
   ]
  },
  {
   "cell_type": "code",
   "execution_count": 110,
   "metadata": {},
   "outputs": [
    {
     "name": "stdout",
     "output_type": "stream",
     "text": [
      "Overwriting /tmp/cython_galaxy/loop.pyx\n"
     ]
    }
   ],
   "source": [
    "%%file /tmp/cython_galaxy/loop.pyx\n",
    "from cython.parallel import prange\n",
    "from abstand import Abstand\n",
    "from betrag import Betrag\n",
    "from kraft import Kraft\n",
    "from beschleunigung import Beschleunigung\n",
    "from positions_aktualliersierung import Positions_aktualliersierung\n",
    "from geschwindigkeit_aktualliersierung import Geschwindigkeit_aktualliersierung\n",
    "import numpy as np\n",
    "cimport cython\n",
    "\n",
    "def Loop (pos_list):\n",
    "    python_position = [[149_597_890_000, 0,0], [0,0,0]]\n",
    "    python_geschwindigkeit = [[0, 29.786 * 10**3,0], [0,0,0]]\n",
    "    python_masse = [[5.97219 * 10 ** 24], [1.9889 * 10 ** 30]]\n",
    "    python_position_neu = []\n",
    "    python_geschwindigkeit_neu = []\n",
    "    python_position_list = []\n",
    "\n",
    "    position = np.array(python_position, dtype=np.float32)\n",
    "    geschwindigkeit = np.array(python_geschwindigkeit,dtype=np.float32)\n",
    "    masse = np.array(python_masse,dtype=np.float32)\n",
    "    position_neu = np.array(python_position_neu ,dtype=np.float32)\n",
    "    geschwindigkeit_neu = np.ndarray(python_geschwindigkeit_neu ,dtype=np.float32)\n",
    "\n",
    "    cdef float [:, :] position_view = position\n",
    "    cdef float [:, :] geschwindigkeit_view = geschwindigkeit\n",
    "    cdef float [:] masse_view = masse\n",
    "    \n",
    "    cdef int dt = 60\n",
    "    cdef long Jahr = 360 * 24 * 60\n",
    "    cdef int i\n",
    "    \n",
    "    cdef float [:] Abstand_Erde = np.array([0,0,0],  dtype=np.float32)\n",
    "    cdef float [:] Abstand_Sonne = np.array([0,0,0],  dtype=np.float32)\n",
    "    cdef float [:] Betrag_Erde = np.array([0],  dtype=np.float32)\n",
    "    cdef float [:] Betrag_Sonne = np.array([0],  dtype=np.float32) \n",
    "    cdef float [:] Kraft_Erde = np.array([0,0,0],  dtype=np.float32)\n",
    "    cdef float [:] Kraft_Sonne = np.array([0,0,0],  dtype=np.float32)  \n",
    "    cdef float [:] Beschleunigung_Erde = np.array([0,0,0],  dtype=np.float32)\n",
    "    cdef float [:] Beschleunigung_Sonne = np.array([0,0,0],  dtype=np.float32)\n",
    "    \n",
    "    cpdef int Erde_index = 0\n",
    "    cpdef int Sonne_index = 0\n",
    "\n",
    "    for i in range (Jahr, nogil=False): \n",
    "\n",
    "\n",
    "        ## Ausrechnen\n",
    "        # Erde = 0, Sonne = 1\n",
    "        Abstand(position_view, Abstand_Erde ,0, 1)\n",
    "        Abstand(position_view, Abstand_Sonne ,1, 0)\n",
    "  \n",
    "        Betrag(Abstand_Erde , Betrag_Erde)\n",
    "        Betrag(Abstand_Sonne , Betrag_Sonne)\n",
    "\n",
    "        Kraft(masse_view ,Abstand_Erde, Betrag_Erde ,0, 1, Kraft_Erde)\n",
    "        Kraft(masse_view ,Abstand_Sonne, Betrag_Sonne ,0, 1, Kraft_Sonne)\n",
    "\n",
    "        Beschleunigung(Kraft_Erde , masse_view, 0, Beschleunigung_Erde)\n",
    "        Beschleunigung(Kraft_Sonne , masse_view, 1, Beschleunigung_Sonne)\n",
    "\n",
    "\n",
    "        ## Aktualisieren        \n",
    "        Positions_aktualliersierung (position_view, geschwindigkeit_view, Beschleunigung_Erde,\\\n",
    "                                     dt, Erde_index)\n",
    "        Geschwindigkeit_aktualliersierung (geschwindigkeit ,Beschleunigung_Erde, \\\n",
    "                       dt ,Erde_index)\n",
    "        \n",
    "        Positions_aktualliersierung (position_view, geschwindigkeit_view, Beschleunigung_Sonne,\\\n",
    "                                     dt, Sonne_index)\n",
    "        Geschwindigkeit_aktualliersierung (geschwindigkeit ,Beschleunigung_Erde, \\\n",
    "                       dt ,Sonne_index)\n",
    "\n",
    "        pos_list.append(position[Erde_index])"
   ]
  },
  {
   "cell_type": "code",
   "execution_count": 111,
   "metadata": {},
   "outputs": [
    {
     "name": "stdout",
     "output_type": "stream",
     "text": [
      "Overwriting /tmp/cython_galaxy/setup.py\n"
     ]
    }
   ],
   "source": [
    "%%file /tmp/cython_galaxy/setup.py\n",
    "\n",
    "\n",
    "# Aufruf: python3 setup.py build_ext --inplace\n",
    "# Windows: zusaetzliche Option --compiler=mingw32\n",
    "from distutils.core import setup\n",
    "from distutils.extension import Extension\n",
    "from Cython.Distutils import build_ext\n",
    "import numpy\n",
    "\n",
    "ext_modules=[ Extension(\"abstand\", [\"abstand.pyx\"],\n",
    "        extra_compile_args=['-O3'], libraries=['m']),\n",
    "              Extension(\"betrag\", [\"betrag.pyx\"],\n",
    "        #extra_compile_args=['-O3'], libraries=['m'],\n",
    "        extra_compile_args=['-O3'], libraries=['m']),\n",
    "            #include_dirs=[numpy.get_include()]),\n",
    "             Extension(\"beschleunigung\", [\"beschleunigung.pyx\"],\n",
    "        extra_compile_args=['-O3'], libraries=['m']),\n",
    "             Extension(\"positions_aktualliersierung\", [\"positions_aktualliersierung.pyx\"],\n",
    "        extra_compile_args=['-O3'], libraries=['m']),\n",
    "             Extension(\"geschwindigkeit_aktualliersierung\", [\"geschwindigkeit_aktualliersierung.pyx\"],\n",
    "        extra_compile_args=['-O3'], libraries=['m']),\n",
    "             Extension(\"loop\", [\"loop.pyx\"],\n",
    "        extra_compile_args=['-O3'], libraries=['m'])\n",
    "]\n",
    "             \n",
    "setup( name = 'cython demo',\n",
    "  cmdclass = {'build_ext': build_ext},\n",
    "  ext_modules = ext_modules)\n",
    "\n"
   ]
  },
  {
   "cell_type": "code",
   "execution_count": 112,
   "metadata": {},
   "outputs": [
    {
     "name": "stdout",
     "output_type": "stream",
     "text": [
      "running build_ext\n",
      "skipping 'abstand.c' Cython extension (up-to-date)\n",
      "skipping 'betrag.c' Cython extension (up-to-date)\n",
      "skipping 'beschleunigung.c' Cython extension (up-to-date)\n",
      "skipping 'positions_aktualliersierung.c' Cython extension (up-to-date)\n",
      "skipping 'geschwindigkeit_aktualliersierung.c' Cython extension (up-to-date)\n",
      "cythoning loop.pyx to loop.c\n",
      "building 'loop' extension\n",
      "gcc -pthread -B /opt/anaconda/compiler_compat -Wl,--sysroot=/ -Wsign-compare -DNDEBUG -g -fwrapv -O3 -Wall -Wstrict-prototypes -fPIC -I/opt/anaconda/include/python3.6m -c loop.c -o build/temp.linux-x86_64-3.6/loop.o -O3\n",
      "gcc -pthread -shared -B /opt/anaconda/compiler_compat -L/opt/anaconda/lib -Wl,-rpath=/opt/anaconda/lib -Wl,--no-as-needed -Wl,--sysroot=/ build/temp.linux-x86_64-3.6/loop.o -L/opt/anaconda/lib -lm -lpython3.6m -o /tmp/cython_galaxy/loop.cpython-36m-x86_64-linux-gnu.so\n"
     ]
    }
   ],
   "source": [
    "%%bash\n",
    "cd /tmp/cython_galaxy\n",
    "python3 setup.py build_ext --inplace"
   ]
  },
  {
   "cell_type": "code",
   "execution_count": 115,
   "metadata": {},
   "outputs": [
    {
     "name": "stdout",
     "output_type": "stream",
     "text": [
      "Overwriting /tmp/cython_galaxy/start.py\n"
     ]
    }
   ],
   "source": [
    "%%file /tmp/cython_galaxy/start.py\n",
    "\n",
    "from loop import Loop\n",
    "Loop(python_position_list)"
   ]
  },
  {
   "cell_type": "code",
   "execution_count": 116,
   "metadata": {},
   "outputs": [
    {
     "name": "stderr",
     "output_type": "stream",
     "text": [
      "Traceback (most recent call last):\n",
      "  File \"start.py\", line 2, in <module>\n",
      "    from loop import Loop\n",
      "  File \"loop.pyx\", line 4, in init loop\n",
      "    from kraft import Kraft\n",
      "ModuleNotFoundError: No module named 'kraft'\n"
     ]
    }
   ],
   "source": [
    "%%bash\n",
    "cd /tmp/cython_galaxy\n",
    "python3 start.py"
   ]
  },
  {
   "cell_type": "code",
   "execution_count": null,
   "metadata": {
    "collapsed": true
   },
   "outputs": [],
   "source": [
    "%timeit Kraft_Berechnung()"
   ]
  },
  {
   "cell_type": "code",
   "execution_count": null,
   "metadata": {
    "collapsed": true
   },
   "outputs": [],
   "source": [
    "import matplotlib.pyplot as plt\n",
    "%matplotlib inline"
   ]
  },
  {
   "cell_type": "code",
   "execution_count": null,
   "metadata": {
    "collapsed": true
   },
   "outputs": [],
   "source": [
    "import matplotlib.pyplot as plt\n",
    "\n",
    "plt.plot([x[0] for x in pos_list], [x[1] for x in pos_list])\n",
    "plt.show()"
   ]
  },
  {
   "cell_type": "markdown",
   "metadata": {},
   "source": [
    "## Cython Test"
   ]
  },
  {
   "cell_type": "code",
   "execution_count": null,
   "metadata": {
    "collapsed": true
   },
   "outputs": [],
   "source": [
    "%timeit Kraft_Berechnung()"
   ]
  },
  {
   "cell_type": "markdown",
   "metadata": {},
   "source": [
    "## Versuch vom 30.11.2017\n",
    "\n"
   ]
  },
  {
   "cell_type": "markdown",
   "metadata": {},
   "source": [
    "python listen von zb geschwindigkeit...\n",
    "\n",
    "umwandeln in numpy.array oder numpy.ndarray ?\n",
    "\n",
    "übergeben an die cython funktion (nogil)\n",
    "\n",
    "zugriff innerhalb der cython funktion (memoryview?)\n",
    "\n"
   ]
  },
  {
   "cell_type": "markdown",
   "metadata": {},
   "source": [
    "## Erster Numpy Test mit Listen als numpy Array"
   ]
  },
  {
   "cell_type": "code",
   "execution_count": null,
   "metadata": {},
   "outputs": [],
   "source": [
    "import numpy as np\n",
    "planet_position = [[149_597_890_000, 0,0], [0,0,0], [1,1,1]]\n",
    "position = np.array(planet_position,  dtype=np.float32)\n",
    "\n",
    "print (position)\n",
    "print()\n",
    "print(position[0][0])\n"
   ]
  },
  {
   "cell_type": "markdown",
   "metadata": {},
   "source": [
    "## Memory View Beispiel"
   ]
  },
  {
   "cell_type": "code",
   "execution_count": null,
   "metadata": {},
   "outputs": [],
   "source": [
    "%load_ext Cython"
   ]
  },
  {
   "cell_type": "code",
   "execution_count": null,
   "metadata": {},
   "outputs": [],
   "source": [
    "%%cython -f -c-fopenmp --link-args=-fopenmp\n",
    "\n",
    "import numpy as np\n",
    "\n",
    "narr = np.arange(9, dtype=np.dtype(\"d\")).reshape((3, 3))\n",
    "cdef double [:, :] narr_view = narr\n",
    "\n",
    "print (narr)\n",
    "print (narr_view)\n",
    "print (narr_view[2][2])"
   ]
  },
  {
   "cell_type": "markdown",
   "metadata": {},
   "source": [
    "## Memory View Beispiel Test Umbau"
   ]
  },
  {
   "cell_type": "code",
   "execution_count": null,
   "metadata": {},
   "outputs": [],
   "source": [
    "%%cython -f -c-fopenmp --link-args=-fopenmp\n",
    "\n",
    "import numpy as np\n",
    "\n",
    "planet_position = [[149_597_890_000, 0,0], [0,0,0], [1,1,1]]\n",
    "position = np.array(planet_position,  dtype=np.float32)\n",
    "cdef float [:, :] position_view = position\n",
    "print (position)\n",
    "print (position_view)\n",
    "print (position_view[0][0])\n",
    "print (position_view[2][2])\n",
    "\n",
    "position_view[2][2] = 5\n",
    "print (position_view[2][2])"
   ]
  },
  {
   "cell_type": "markdown",
   "metadata": {},
   "source": [
    "## Erfolgreicher NoGil Test mit Memory View"
   ]
  },
  {
   "cell_type": "code",
   "execution_count": null,
   "metadata": {
    "scrolled": true
   },
   "outputs": [],
   "source": [
    "%%cython -f -c-fopenmp --link-args=-fopenmp\n",
    "\n",
    "import numpy as np\n",
    "cimport numpy as cnp\n",
    "cimport cython\n",
    "ctypedef cnp.float32_t dtype_t\n",
    "\n",
    "@cython.boundscheck(False)\n",
    "@cython.cdivision(True)\n",
    "cpdef void Abstand (float [:, :] position_view , float[:] result ,int first, int second) nogil:   \n",
    "    result[0] = position_view[first][0] - position_view[second][0]\n",
    "    result[1] = position_view[first][1] - position_view[second][1]\n",
    "    result[2] = position_view[first][2] - position_view[second][2]\n",
    "\n",
    "planet_position = [[149_597_890_000, 0,0], [0,0,0], [1,1,1]]\n",
    "position = np.array(planet_position,  dtype=np.float32)\n",
    "cdef float [:, :] position_view = position\n",
    "cdef float [:] result1 = np.array([0,0,0],  dtype=np.float32)\n",
    "cdef float [:] result2 = np.array([0,0,0],  dtype=np.float32)\n",
    "\n",
    "Abstand(position_view, result1, 0, 1)\n",
    "position_view_result1 = np.asarray(result1)\n",
    "\n",
    "Abstand(position_view, result2, 1, 0)\n",
    "position_view_result2 = np.asarray(result2)\n",
    "\n",
    "print (position_view_result1)\n",
    "print (position_view_result2)"
   ]
  },
  {
   "cell_type": "markdown",
   "metadata": {},
   "source": [
    "## Build Test"
   ]
  },
  {
   "cell_type": "code",
   "execution_count": 1,
   "metadata": {},
   "outputs": [
    {
     "ename": "FileExistsError",
     "evalue": "[Errno 17] File exists: '/tmp/cython_galaxy_einzel_build'",
     "output_type": "error",
     "traceback": [
      "\u001b[0;31m---------------------------------------------------------------------------\u001b[0m",
      "\u001b[0;31mFileExistsError\u001b[0m                           Traceback (most recent call last)",
      "\u001b[0;32m<ipython-input-1-2c8080c38bc0>\u001b[0m in \u001b[0;36m<module>\u001b[0;34m()\u001b[0m\n\u001b[1;32m      1\u001b[0m \u001b[0;32mimport\u001b[0m \u001b[0mos\u001b[0m\u001b[0;34m\u001b[0m\u001b[0m\n\u001b[0;32m----> 2\u001b[0;31m \u001b[0mos\u001b[0m\u001b[0;34m.\u001b[0m\u001b[0mmkdir\u001b[0m\u001b[0;34m(\u001b[0m\u001b[0;34m'/tmp/cython_galaxy_einzel_build'\u001b[0m\u001b[0;34m)\u001b[0m\u001b[0;34m\u001b[0m\u001b[0m\n\u001b[0m",
      "\u001b[0;31mFileExistsError\u001b[0m: [Errno 17] File exists: '/tmp/cython_galaxy_einzel_build'"
     ]
    }
   ],
   "source": [
    "import os\n",
    "os.mkdir('/tmp/cython_galaxy_einzel_build')"
   ]
  },
  {
   "cell_type": "code",
   "execution_count": 122,
   "metadata": {},
   "outputs": [
    {
     "name": "stdout",
     "output_type": "stream",
     "text": [
      "Overwriting /tmp/cython_galaxy_einzel_build/abstand.pyx\n"
     ]
    }
   ],
   "source": [
    "%%file /tmp/cython_galaxy_einzel_build/abstand.pyx\n",
    "#Abstands Funktion\n",
    "#Abstand_Sonne[0] = position[1][0] - position[0][0]\n",
    "cimport cython\n",
    "\n",
    "@cython.boundscheck(False)\n",
    "@cython.cdivision(True)\n",
    "cpdef void Abstand (float [:, :] position_view , float[:] result ,int first, int second) nogil:   \n",
    "    result[0] = position_view[first][0] - position_view[second][0]\n",
    "    result[1] = position_view[first][1] - position_view[second][1]\n",
    "    result[2] = position_view[first][2] - position_view[second][2]"
   ]
  },
  {
   "cell_type": "code",
   "execution_count": 123,
   "metadata": {},
   "outputs": [
    {
     "name": "stdout",
     "output_type": "stream",
     "text": [
      "Overwriting /tmp/cython_galaxy_einzel_build/abstand_test.pyx\n"
     ]
    }
   ],
   "source": [
    "%%file /tmp/cython_galaxy_einzel_build/abstand_test.pyx\n",
    "\n",
    "import numpy as np\n",
    "from abstand import Abstand \n",
    "cimport numpy as cnp\n",
    "cimport cython\n",
    "ctypedef cnp.float32_t dtype_t\n",
    "\n",
    "def test():\n",
    "    planet_position = [[149_597_890_000, 0,0], [0,0,0], [1,1,1]]\n",
    "    position = np.array(planet_position,  dtype=np.float32)\n",
    "    cdef float [:, :] position_view = position\n",
    "    cdef float [:] result1 = np.array([0,0,0],  dtype=np.float32)\n",
    "    cdef float [:] result2 = np.array([0,0,0],  dtype=np.float32)\n",
    "\n",
    "    Abstand(position_view, result1, 0, 1)\n",
    "    position_view_result1 = np.asarray(result1)\n",
    "\n",
    "    Abstand(position_view, result2, 1, 0)\n",
    "    position_view_result2 = np.asarray(result2)\n",
    "\n",
    "    print (position_view_result1)\n",
    "    print (position_view_result2)"
   ]
  },
  {
   "cell_type": "code",
   "execution_count": 124,
   "metadata": {},
   "outputs": [
    {
     "name": "stdout",
     "output_type": "stream",
     "text": [
      "Overwriting /tmp/cython_galaxy_einzel_build/start.py\n"
     ]
    }
   ],
   "source": [
    "%%file /tmp/cython_galaxy_einzel_build/start.py\n",
    "\n",
    "from abstand_test import test\n",
    "test()"
   ]
  },
  {
   "cell_type": "code",
   "execution_count": 125,
   "metadata": {},
   "outputs": [
    {
     "name": "stdout",
     "output_type": "stream",
     "text": [
      "Overwriting /tmp/cython_galaxy_einzel_build/setup.py\n"
     ]
    }
   ],
   "source": [
    "%%file /tmp/cython_galaxy_einzel_build/setup.py\n",
    "\n",
    "\n",
    "# Aufruf: python3 setup.py build_ext --inplace\n",
    "# Windows: zusaetzliche Option --compiler=mingw32\n",
    "from distutils.core import setup\n",
    "from distutils.extension import Extension\n",
    "from Cython.Distutils import build_ext\n",
    "import numpy\n",
    "\n",
    "ext_modules=[ Extension(\"abstand\", [\"abstand.pyx\"],\n",
    "        extra_compile_args=['-O3'], libraries=['m']),\n",
    "              Extension(\"abstand_test\", [\"abstand_test.pyx\"],\n",
    "        extra_compile_args=['-O3'], libraries=['m'],\n",
    "            include_dirs=[numpy.get_include()])\n",
    "            ]\n",
    "             \n",
    "setup( name = 'cython demo',\n",
    "  cmdclass = {'build_ext': build_ext},\n",
    "  ext_modules = ext_modules)\n"
   ]
  },
  {
   "cell_type": "markdown",
   "metadata": {},
   "source": [
    "## Build Script"
   ]
  },
  {
   "cell_type": "code",
   "execution_count": 126,
   "metadata": {
    "scrolled": true
   },
   "outputs": [
    {
     "name": "stdout",
     "output_type": "stream",
     "text": [
      "running build_ext\n",
      "cythoning abstand.pyx to abstand.c\n",
      "building 'abstand' extension\n",
      "gcc -pthread -B /opt/anaconda/compiler_compat -Wl,--sysroot=/ -Wsign-compare -DNDEBUG -g -fwrapv -O3 -Wall -Wstrict-prototypes -fPIC -I/opt/anaconda/include/python3.6m -c abstand.c -o build/temp.linux-x86_64-3.6/abstand.o -O3\n",
      "gcc -pthread -shared -B /opt/anaconda/compiler_compat -L/opt/anaconda/lib -Wl,-rpath=/opt/anaconda/lib -Wl,--no-as-needed -Wl,--sysroot=/ build/temp.linux-x86_64-3.6/abstand.o -L/opt/anaconda/lib -lm -lpython3.6m -o /tmp/cython_galaxy_einzel_build/abstand.cpython-36m-x86_64-linux-gnu.so\n",
      "cythoning abstand_test.pyx to abstand_test.c\n",
      "building 'abstand_test' extension\n",
      "gcc -pthread -B /opt/anaconda/compiler_compat -Wl,--sysroot=/ -Wsign-compare -DNDEBUG -g -fwrapv -O3 -Wall -Wstrict-prototypes -fPIC -I/opt/anaconda/lib/python3.6/site-packages/numpy/core/include -I/opt/anaconda/include/python3.6m -c abstand_test.c -o build/temp.linux-x86_64-3.6/abstand_test.o -O3\n",
      "gcc -pthread -shared -B /opt/anaconda/compiler_compat -L/opt/anaconda/lib -Wl,-rpath=/opt/anaconda/lib -Wl,--no-as-needed -Wl,--sysroot=/ build/temp.linux-x86_64-3.6/abstand_test.o -L/opt/anaconda/lib -lm -lpython3.6m -o /tmp/cython_galaxy_einzel_build/abstand_test.cpython-36m-x86_64-linux-gnu.so\n"
     ]
    },
    {
     "name": "stderr",
     "output_type": "stream",
     "text": [
      "In file included from /opt/anaconda/lib/python3.6/site-packages/numpy/core/include/numpy/ndarraytypes.h:1809:0,\n",
      "                 from /opt/anaconda/lib/python3.6/site-packages/numpy/core/include/numpy/ndarrayobject.h:18,\n",
      "                 from /opt/anaconda/lib/python3.6/site-packages/numpy/core/include/numpy/arrayobject.h:4,\n",
      "                 from abstand_test.c:485:\n",
      "/opt/anaconda/lib/python3.6/site-packages/numpy/core/include/numpy/npy_1_7_deprecated_api.h:15:2: Warnung: #warning \"Using deprecated NumPy API, disable it by \" \"#defining NPY_NO_DEPRECATED_API NPY_1_7_API_VERSION\" [-Wcpp]\n",
      " #warning \"Using deprecated NumPy API, disable it by \" \\\n",
      "  ^~~~~~~\n"
     ]
    }
   ],
   "source": [
    "%%bash\n",
    "cd /tmp/cython_galaxy_einzel_build\n",
    "python3 setup.py build_ext --inplace"
   ]
  },
  {
   "cell_type": "code",
   "execution_count": 128,
   "metadata": {},
   "outputs": [
    {
     "name": "stdout",
     "output_type": "stream",
     "text": [
      "[  1.49597897e+11   0.00000000e+00   0.00000000e+00]\n",
      "[ -1.49597897e+11   0.00000000e+00   0.00000000e+00]\n"
     ]
    }
   ],
   "source": [
    "%%bash\n",
    "cd /tmp/cython_galaxy_einzel_build\n",
    "python3 start.py"
   ]
  },
  {
   "cell_type": "code",
   "execution_count": null,
   "metadata": {
    "collapsed": true
   },
   "outputs": [],
   "source": []
  }
 ],
 "metadata": {
  "kernelspec": {
   "display_name": "Python 3",
   "language": "python",
   "name": "python3"
  },
  "language_info": {
   "codemirror_mode": {
    "name": "ipython",
    "version": 3
   },
   "file_extension": ".py",
   "mimetype": "text/x-python",
   "name": "python",
   "nbconvert_exporter": "python",
   "pygments_lexer": "ipython3",
   "version": "3.6.3"
  },
  "latex_envs": {
   "LaTeX_envs_menu_present": true,
   "autocomplete": true,
   "bibliofile": "biblio.bib",
   "cite_by": "apalike",
   "current_citInitial": 1,
   "eqLabelWithNumbers": true,
   "eqNumInitial": 1,
   "hotkeys": {
    "equation": "Ctrl-E",
    "itemize": "Ctrl-I"
   },
   "labels_anchors": false,
   "latex_user_defs": false,
   "report_style_numbering": false,
   "user_envs_cfg": false
  }
 },
 "nbformat": 4,
 "nbformat_minor": 2
}
