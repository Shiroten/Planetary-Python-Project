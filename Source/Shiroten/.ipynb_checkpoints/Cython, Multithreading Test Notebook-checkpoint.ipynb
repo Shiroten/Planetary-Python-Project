{
 "cells": [
  {
   "cell_type": "markdown",
   "metadata": {},
   "source": [
    "## Todo"
   ]
  },
  {
   "cell_type": "markdown",
   "metadata": {},
   "source": [
    "ArrayListe als Cython/Numpy erstellen:\n",
    "mit 5 Listen\n",
    "\n",
    "position, gesch, masse, pos_neu, geschw_neu\n",
    "\n",
    "\n",
    "\n",
    "methoden als nogil funktionen umschreiben\n",
    "\n",
    "\n",
    "\n",
    "\n",
    "\n"
   ]
  },
  {
   "cell_type": "markdown",
   "metadata": {},
   "source": [
    "queue implementieren\n",
    "\n",
    "multiprocessor code schreiben\n",
    "\n",
    "worker pool nutzen"
   ]
  },
  {
   "cell_type": "code",
   "execution_count": 1,
   "metadata": {
    "collapsed": true
   },
   "outputs": [],
   "source": [
    "#Beispiel Listen zum Testen\n",
    "\n",
    "python_position = [[149_597_890_000, 0,0], [0,0,0]]\n",
    "python_geschwindigkeit = [[0, 29.786 * 10**3,0], [0,0,0]]\n",
    "python_masse = [[5.97219 * 10 ** 24], [1.9889 * 10 ** 30]]\n",
    "python_position_neu = []\n",
    "python_geschwindigkeit_neu = []\n",
    "python_position_list = []"
   ]
  },
  {
   "cell_type": "code",
   "execution_count": 2,
   "metadata": {},
   "outputs": [],
   "source": [
    "%load_ext Cython"
   ]
  },
  {
   "cell_type": "code",
   "execution_count": 3,
   "metadata": {
    "collapsed": true
   },
   "outputs": [],
   "source": [
    "#Umwandlung aus Python Listen in Numpy Arrays\n",
    "\n",
    "import numpy as np\n",
    "position = np.array(python_position, dtype=np.float32)\n",
    "geschwindigkeit = np.array(python_geschwindigkeit,dtype=np.float32)\n",
    "masse = np.array(python_masse,dtype=np.float32)\n",
    "position_neu = np.array(python_position_neu ,dtype=np.float32)\n",
    "geschwindigkeit_neu = np.ndarray(python_geschwindigkeit_neu ,dtype=np.float32)"
   ]
  },
  {
   "cell_type": "markdown",
   "metadata": {},
   "source": [
    "## Einzelne Cython Module"
   ]
  },
  {
   "cell_type": "code",
   "execution_count": 4,
   "metadata": {},
   "outputs": [
    {
     "ename": "FileExistsError",
     "evalue": "[Errno 17] File exists: '/tmp/cython_galaxy'",
     "output_type": "error",
     "traceback": [
      "\u001b[0;31m---------------------------------------------------------------------------\u001b[0m",
      "\u001b[0;31mFileExistsError\u001b[0m                           Traceback (most recent call last)",
      "\u001b[0;32m<ipython-input-4-b5458978800b>\u001b[0m in \u001b[0;36m<module>\u001b[0;34m()\u001b[0m\n\u001b[1;32m      1\u001b[0m \u001b[0;32mimport\u001b[0m \u001b[0mos\u001b[0m\u001b[0;34m\u001b[0m\u001b[0m\n\u001b[0;32m----> 2\u001b[0;31m \u001b[0mos\u001b[0m\u001b[0;34m.\u001b[0m\u001b[0mmkdir\u001b[0m\u001b[0;34m(\u001b[0m\u001b[0;34m'/tmp/cython_galaxy'\u001b[0m\u001b[0;34m)\u001b[0m\u001b[0;34m\u001b[0m\u001b[0m\n\u001b[0m",
      "\u001b[0;31mFileExistsError\u001b[0m: [Errno 17] File exists: '/tmp/cython_galaxy'"
     ]
    }
   ],
   "source": [
    "import os\n",
    "os.mkdir('/tmp/cython_galaxy')"
   ]
  },
  {
   "cell_type": "code",
   "execution_count": 5,
   "metadata": {},
   "outputs": [
    {
     "name": "stdout",
     "output_type": "stream",
     "text": [
      "Overwriting /tmp/cython_galaxy/abstand.pyx\n"
     ]
    }
   ],
   "source": [
    "%%file /tmp/cython_galaxy/abstand.pyx\n",
    "cimport cython\n",
    "#Abstands Funktion\n",
    "#Abstand_Sonne = position[1] - position[0]\n",
    "\n",
    "@cython.boundscheck(False)\n",
    "@cython.cdivision(True)\n",
    "cpdef void Abstand (double [:, :] position_view , double[:] result ,int first, int second) nogil:   \n",
    "    result[0] = position_view[first][0] - position_view[second][0]\n",
    "    result[1] = position_view[first][1] - position_view[second][1]\n",
    "    result[2] = position_view[first][2] - position_view[second][2]"
   ]
  },
  {
   "cell_type": "code",
   "execution_count": 6,
   "metadata": {},
   "outputs": [
    {
     "name": "stdout",
     "output_type": "stream",
     "text": [
      "Overwriting /tmp/cython_galaxy/betrag.pyx\n"
     ]
    }
   ],
   "source": [
    "%%file /tmp/cython_galaxy/betrag.pyx\n",
    "cimport cython\n",
    "from libc.math cimport sqrt\n",
    "\n",
    "\n",
    "#Betrags Funktion\n",
    "#Betrag_Erde  = sqrt( Abstand_Erde**2 + Abstand_Erde**2 + Abstand_Erde**2)\n",
    "@cython.boundscheck(False)\n",
    "@cython.cdivision(True)\n",
    "cpdef void Betrag (double [:] abstand_view , double[:] result) nogil:\n",
    "    result[0] = sqrt(abstand_view[0]**2 + abstand_view[1]**2 + abstand_view[2]**2)"
   ]
  },
  {
   "cell_type": "markdown",
   "metadata": {},
   "source": [
    "## Extrem komisches Verhalten"
   ]
  },
  {
   "cell_type": "code",
   "execution_count": 50,
   "metadata": {},
   "outputs": [],
   "source": [
    "%%cython\n",
    "\n",
    "#6.671999931335449\n",
    "#10.0\n",
    "#-11.0\n",
    "#6.671999758234293e-11\n",
    "#0.0\n",
    "#WTF?????\n",
    "cdef float g1 = 6.672\n",
    "cdef float g2 = 10\n",
    "cdef float g3 = -11\n",
    "cdef float g = g1 * g2 ** g3\n",
    "cdef float G = 6.672 * 10 ** -11\n",
    "\n",
    "print(g1)\n",
    "print(g2)\n",
    "print(g3)\n",
    "print(g)\n",
    "print(G)"
   ]
  },
  {
   "cell_type": "code",
   "execution_count": 51,
   "metadata": {},
   "outputs": [],
   "source": [
    "%%cython\n",
    "\n",
    "#('G', 6.671999758234293e-11)\n",
    "#('betrag', 3.347930846024836e+33)\n",
    "#('masse_view[first_planet]', 5.972189887017193e+24)\n",
    "#('masse_view[second_planet]', 1.9888999754506858e+30)\n",
    "#('abstand_view[0]', 149597896704.0)\n",
    "#('abstand_view[1]', 0.0)\n",
    "#('abstand_view[2]', 0.0)\n",
    "#('result[0]', inf)\n",
    "#('result[0]', inf)\n",
    "#('result[0]', inf)\n",
    "\n",
    "#result[1] = G * (masse_view[first_planet] * masse_view[second_planet] / betrag) * abstand_view[1]\n",
    "#result[2] = G * (masse_view[first_planet] * masse_view[second_planet] / betrag) * abstand_view[2]\n",
    "cdef float g1 = 6.672\n",
    "cdef float g2 = 10\n",
    "cdef float g3 = -11\n",
    "\n",
    "cdef float G = g1 * g2 ** g3\n",
    "cdef float betrag = 3.347930846024836e+33\n",
    "cdef float result\n",
    "\n",
    "result = G * (5.972189887017193e+24 * 1.9888999754506858e+30 / betrag) * 149597896704.0\n",
    "print(result)"
   ]
  },
  {
   "cell_type": "code",
   "execution_count": 52,
   "metadata": {},
   "outputs": [
    {
     "name": "stdout",
     "output_type": "stream",
     "text": [
      "Overwriting /tmp/cython_galaxy/kraft.pyx\n"
     ]
    }
   ],
   "source": [
    "%%file /tmp/cython_galaxy/kraft.pyx\n",
    "cimport cython\n",
    "\n",
    "#Kraft Funktion\n",
    "#Kraft_Erde = G * (masse_erde * masse_sonne / (Betrag_Erde  ** 3)) * Abstand_Erde\n",
    "@cython.boundscheck(False)\n",
    "@cython.cdivision(True)\n",
    "cpdef void Kraft (double [:] masse_view, double [:] abstand_view,  double [:] Betrag, \\\n",
    "                  int first_planet, int second_planet, double[:] result):\n",
    "    \n",
    "    cdef double g1 = 6.672\n",
    "    cdef double g2 = 10\n",
    "    cdef double g3 = -11\n",
    "    \n",
    "    cdef double G = g1 * g2 ** g3\n",
    "    cdef double betrag = Betrag[0] ** 3\n",
    "\n",
    "    cdef double masse_multyply = masse_view[first_planet] * masse_view[second_planet]\n",
    "    \n",
    "    result[0] = G * (masse_multyply / betrag) * abstand_view[0]\n",
    "    result[1] = G * (masse_multyply / betrag) * abstand_view[1]\n",
    "    result[2] = G * (masse_multyply / betrag) * abstand_view[2]"
   ]
  },
  {
   "cell_type": "code",
   "execution_count": 53,
   "metadata": {},
   "outputs": [
    {
     "name": "stdout",
     "output_type": "stream",
     "text": [
      "Overwriting /tmp/cython_galaxy/beschleunigung.pyx\n"
     ]
    }
   ],
   "source": [
    "%%file /tmp/cython_galaxy/beschleunigung.pyx\n",
    "cimport cython\n",
    "\n",
    "#Beschleunigungs Funktion\n",
    "#Beschleunigung_Erde  = Kraft_Erde  / masse\n",
    "@cython.boundscheck(False)\n",
    "@cython.cdivision(True)\n",
    "cpdef void Beschleunigung (double [:] kraft_view , double [:] masse_view, int massen_index, double[:] result) nogil:\n",
    "    cdef float G = 6.672 * 10 ** -11\n",
    "    result[0] = kraft_view[0]  / masse_view[massen_index]\n",
    "    result[1] = kraft_view[1]  / masse_view[massen_index]\n",
    "    result[2] = kraft_view[2]  / masse_view[massen_index]"
   ]
  },
  {
   "cell_type": "code",
   "execution_count": 54,
   "metadata": {},
   "outputs": [
    {
     "name": "stdout",
     "output_type": "stream",
     "text": [
      "Overwriting /tmp/cython_galaxy/positions_aktualliersierung.pyx\n"
     ]
    }
   ],
   "source": [
    "%%file /tmp/cython_galaxy/positions_aktualliersierung.pyx\n",
    "cimport cython\n",
    "\n",
    "#Positions Aktualliersierung\n",
    "#position = position + dt * geschwindigkeit  + ((dt ** 2) / 2) * Beschleunigung_Erde\n",
    "@cython.boundscheck(False)\n",
    "@cython.cdivision(True)\n",
    "cpdef void Positions_aktualliersierung (double [:, :] position_view , double [:, :] geschwindigkeit_view, \\\n",
    "                   double [:] beschleunigung_view, double dt, int planet_index) nogil:\n",
    "    \n",
    "    position_view[planet_index][0] = position_view[planet_index][0]  + dt * geschwindigkeit_view[planet_index][0] \\\n",
    "                                                + ((dt ** 2) / 2) * beschleunigung_view[0]\n",
    "        \n",
    "    position_view[planet_index][1] = position_view[planet_index][1]  + dt * geschwindigkeit_view[planet_index][1] \\\n",
    "                                                + ((dt ** 2) / 2) * beschleunigung_view[1]\n",
    "        \n",
    "    position_view[planet_index][2] = position_view[planet_index][2]  + dt * geschwindigkeit_view[planet_index][2] \\\n",
    "                                                + ((dt ** 2) / 2) * beschleunigung_view[2]"
   ]
  },
  {
   "cell_type": "code",
   "execution_count": 55,
   "metadata": {},
   "outputs": [
    {
     "name": "stdout",
     "output_type": "stream",
     "text": [
      "Overwriting /tmp/cython_galaxy/geschwindigkeit_aktualliersierung.pyx\n"
     ]
    }
   ],
   "source": [
    "%%file /tmp/cython_galaxy/geschwindigkeit_aktualliersierung.pyx\n",
    "cimport cython\n",
    "\n",
    "#Geschwindigkeits Aktuallisierung\n",
    "#geschwindigkeit[0][0]  += dt * Beschleunigung_Erde[0]\n",
    "@cython.boundscheck(False)\n",
    "@cython.cdivision(True)\n",
    "cpdef void Geschwindigkeit_aktualliersierung (double [:, :] geschwindigkeit_view , double [:] beschleunigung_view, \\\n",
    "                   double dt ,int planet_index) nogil:\n",
    "    geschwindigkeit_view[planet_index][0] = geschwindigkeit_view[planet_index][0] + dt * beschleunigung_view[0]\n",
    "    geschwindigkeit_view[planet_index][1] = geschwindigkeit_view[planet_index][1] + dt * beschleunigung_view[1]\n",
    "    geschwindigkeit_view[planet_index][2] = geschwindigkeit_view[planet_index][2] + dt * beschleunigung_view[2]"
   ]
  },
  {
   "cell_type": "code",
   "execution_count": 56,
   "metadata": {},
   "outputs": [
    {
     "name": "stdout",
     "output_type": "stream",
     "text": [
      "Overwriting /tmp/cython_galaxy/loop.pyx\n"
     ]
    }
   ],
   "source": [
    "%%file /tmp/cython_galaxy/loop.pyx\n",
    "from cython.parallel import prange\n",
    "from abstand import Abstand\n",
    "from betrag import Betrag\n",
    "from kraft import Kraft\n",
    "from beschleunigung import Beschleunigung\n",
    "from positions_aktualliersierung import Positions_aktualliersierung\n",
    "from geschwindigkeit_aktualliersierung import Geschwindigkeit_aktualliersierung\n",
    "import numpy as np\n",
    "cimport cython\n",
    "\n",
    "def Loop (pos_list):\n",
    "    python_position = [[149_597_890_000, 0,0], [0,0,0]]\n",
    "    python_geschwindigkeit = [[0, 29.786 * 10**3,0], [0,0,0]]\n",
    "    python_masse = [5.97219 * 10 ** 24, 1.9889 * 10 ** 30]\n",
    "    python_position_neu = []\n",
    "    python_geschwindigkeit_neu = []\n",
    "    python_position_list = []\n",
    "\n",
    "    position = np.array(python_position, dtype=np.float64)\n",
    "    geschwindigkeit = np.array(python_geschwindigkeit,dtype=np.float64)\n",
    "    masse = np.array(python_masse,dtype=np.float64)\n",
    "    position_neu = np.array(python_position_neu ,dtype=np.float64)\n",
    "    geschwindigkeit_neu = np.ndarray(python_geschwindigkeit_neu ,dtype=np.float64)\n",
    "\n",
    "    cdef double [:, :] position_view = position\n",
    "    cdef double [:, :] geschwindigkeit_view = geschwindigkeit\n",
    "    cdef double [:] masse_view = masse\n",
    "    \n",
    "    cdef int dt = 60\n",
    "    #cdef long Jahr = 360 * 24 * 60\n",
    "    cdef long Jahr = 360\n",
    "    cdef int i\n",
    "    cdef int debug = 0\n",
    "    \n",
    "    cdef double [:] Abstand_Erde = np.array([0,0,0],  dtype=np.float64)\n",
    "    cdef double [:] Abstand_Sonne = np.array([0,0,0],  dtype=np.float64)\n",
    "    cdef double [:] Betrag_Erde = np.array([0],  dtype=np.float64)\n",
    "    cdef double [:] Betrag_Sonne = np.array([0],  dtype=np.float64) \n",
    "    cdef double [:] Kraft_Erde = np.array([0,0,0],  dtype=np.float64)\n",
    "    cdef double [:] Kraft_Sonne = np.array([0,0,0],  dtype=np.float64)  \n",
    "    cdef double [:] Beschleunigung_Erde = np.array([0,0,0],  dtype=np.float64)\n",
    "    cdef double [:] Beschleunigung_Sonne = np.array([0,0,0],  dtype=np.float64)\n",
    "    \n",
    "    cpdef int Erde_index = 0\n",
    "    cpdef int Sonne_index = 0\n",
    "\n",
    "    #for i in prange (Jahr, nogil=True): \n",
    "    for i in range (Jahr): \n",
    "\n",
    "        ## Ausrechnen\n",
    "        # Erde = 0, Sonne = 1\n",
    "        Abstand(position_view, Abstand_Erde, 0, 1)\n",
    "        Abstand(position_view, Abstand_Sonne, 1, 0)\n",
    "        \n",
    "        if (i == 0 and debug):\n",
    "            print(Abstand_Erde[0])\n",
    "            print(Abstand_Erde[1])\n",
    "            print(Abstand_Erde[2])\n",
    "            print(\"Abstand\")\n",
    "  \n",
    "        Betrag(Abstand_Erde, Betrag_Erde)\n",
    "        Betrag(Abstand_Sonne, Betrag_Sonne)\n",
    "        \n",
    "        if (i == 0 and debug):\n",
    "            print(Betrag_Erde[0])\n",
    "            print(\"Betrag\")\n",
    "\n",
    "        Kraft(masse_view, Abstand_Erde, Betrag_Erde, 0, 1, Kraft_Erde)\n",
    "        Kraft(masse_view, Abstand_Sonne, Betrag_Sonne, 0, 1, Kraft_Sonne)\n",
    "        \n",
    "        if (i == 0 and debug):\n",
    "            print(Kraft_Erde[0])\n",
    "            print(Kraft_Erde[1])\n",
    "            print(Kraft_Erde[2])\n",
    "            print(\"Kraft\")\n",
    "\n",
    "        Beschleunigung(Kraft_Erde, masse_view, 0, Beschleunigung_Erde)\n",
    "        Beschleunigung(Kraft_Sonne, masse_view, 1, Beschleunigung_Sonne)\n",
    "        \n",
    "        if (i == 0 and debug):\n",
    "            print(Beschleunigung_Erde[0])\n",
    "            print(Beschleunigung_Erde[1])\n",
    "            print(Beschleunigung_Erde[2])\n",
    "            print(\"Beschleunigung\")\n",
    "\n",
    "\n",
    "        ## Aktualisieren        \n",
    "        Positions_aktualliersierung (position_view, geschwindigkeit_view, Beschleunigung_Erde,\\\n",
    "                                     dt, Erde_index)\n",
    "        Geschwindigkeit_aktualliersierung (geschwindigkeit_view ,Beschleunigung_Erde, \\\n",
    "                       dt ,Erde_index)\n",
    "        if (i == 0 and debug):\n",
    "            print(position_view[0][0])\n",
    "            print(position_view[0][1])\n",
    "            print(position_view[0][2])\n",
    "            print(\"Beschleunigung\")\n",
    "        \n",
    "        Positions_aktualliersierung (position_view, geschwindigkeit_view, Beschleunigung_Sonne,\\\n",
    "                                     dt, Sonne_index)\n",
    "        Geschwindigkeit_aktualliersierung (geschwindigkeit_view ,Beschleunigung_Erde, \\\n",
    "                       dt ,Sonne_index)\n",
    "        if (i == 0 and debug):\n",
    "            print(geschwindigkeit_view[0][0])\n",
    "            print(geschwindigkeit_view[0][1])\n",
    "            print(geschwindigkeit_view[0][2])\n",
    "            print(\"Beschleunigung\")\n",
    "\n",
    "        pos_list.append(position[Erde_index])"
   ]
  },
  {
   "cell_type": "code",
   "execution_count": 57,
   "metadata": {},
   "outputs": [
    {
     "name": "stdout",
     "output_type": "stream",
     "text": [
      "Overwriting /tmp/cython_galaxy/setup.py\n"
     ]
    }
   ],
   "source": [
    "%%file /tmp/cython_galaxy/setup.py\n",
    "\n",
    "\n",
    "# Aufruf: python3 setup.py build_ext --inplace\n",
    "# Windows: zusaetzliche Option --compiler=mingw32\n",
    "from distutils.core import setup\n",
    "from distutils.extension import Extension\n",
    "from Cython.Distutils import build_ext\n",
    "import numpy\n",
    "\n",
    "ext_modules=[ Extension(\"abstand\", [\"abstand.pyx\"],\n",
    "        extra_compile_args=['-O3'], libraries=['m']),\n",
    "             Extension(\"kraft\", [\"kraft.pyx\"],\n",
    "        extra_compile_args=['-O3'], libraries=['m']),\n",
    "              Extension(\"betrag\", [\"betrag.pyx\"],\n",
    "        #extra_compile_args=['-O3'], libraries=['m'],\n",
    "        extra_compile_args=['-O3'], libraries=['m']),\n",
    "            #include_dirs=[numpy.get_include()]),\n",
    "             Extension(\"beschleunigung\", [\"beschleunigung.pyx\"],\n",
    "        extra_compile_args=['-O3'], libraries=['m']),\n",
    "             Extension(\"positions_aktualliersierung\", [\"positions_aktualliersierung.pyx\"],\n",
    "        extra_compile_args=['-O3'], libraries=['m']),\n",
    "             Extension(\"geschwindigkeit_aktualliersierung\", [\"geschwindigkeit_aktualliersierung.pyx\"],\n",
    "        extra_compile_args=['-O3'], libraries=['m']),\n",
    "             Extension(\"loop\", [\"loop.pyx\"],\n",
    "        extra_compile_args=['-O3'], libraries=['m'])\n",
    "]\n",
    "             \n",
    "setup( name = 'cython demo',\n",
    "  cmdclass = {'build_ext': build_ext},\n",
    "  ext_modules = ext_modules)\n",
    "\n"
   ]
  },
  {
   "cell_type": "code",
   "execution_count": 58,
   "metadata": {},
   "outputs": [
    {
     "name": "stdout",
     "output_type": "stream",
     "text": [
      "running build_ext\n",
      "skipping 'abstand.c' Cython extension (up-to-date)\n",
      "cythoning kraft.pyx to kraft.c\n",
      "building 'kraft' extension\n",
      "gcc -pthread -B /opt/anaconda/compiler_compat -Wl,--sysroot=/ -Wsign-compare -DNDEBUG -g -fwrapv -O3 -Wall -Wstrict-prototypes -fPIC -I/opt/anaconda/include/python3.6m -c kraft.c -o build/temp.linux-x86_64-3.6/kraft.o -O3\n",
      "gcc -pthread -shared -B /opt/anaconda/compiler_compat -L/opt/anaconda/lib -Wl,-rpath=/opt/anaconda/lib -Wl,--no-as-needed -Wl,--sysroot=/ build/temp.linux-x86_64-3.6/kraft.o -L/opt/anaconda/lib -lm -lpython3.6m -o /tmp/cython_galaxy/kraft.cpython-36m-x86_64-linux-gnu.so\n",
      "skipping 'betrag.c' Cython extension (up-to-date)\n",
      "cythoning beschleunigung.pyx to beschleunigung.c\n",
      "building 'beschleunigung' extension\n",
      "gcc -pthread -B /opt/anaconda/compiler_compat -Wl,--sysroot=/ -Wsign-compare -DNDEBUG -g -fwrapv -O3 -Wall -Wstrict-prototypes -fPIC -I/opt/anaconda/include/python3.6m -c beschleunigung.c -o build/temp.linux-x86_64-3.6/beschleunigung.o -O3\n",
      "gcc -pthread -shared -B /opt/anaconda/compiler_compat -L/opt/anaconda/lib -Wl,-rpath=/opt/anaconda/lib -Wl,--no-as-needed -Wl,--sysroot=/ build/temp.linux-x86_64-3.6/beschleunigung.o -L/opt/anaconda/lib -lm -lpython3.6m -o /tmp/cython_galaxy/beschleunigung.cpython-36m-x86_64-linux-gnu.so\n",
      "cythoning positions_aktualliersierung.pyx to positions_aktualliersierung.c\n",
      "building 'positions_aktualliersierung' extension\n",
      "gcc -pthread -B /opt/anaconda/compiler_compat -Wl,--sysroot=/ -Wsign-compare -DNDEBUG -g -fwrapv -O3 -Wall -Wstrict-prototypes -fPIC -I/opt/anaconda/include/python3.6m -c positions_aktualliersierung.c -o build/temp.linux-x86_64-3.6/positions_aktualliersierung.o -O3\n",
      "gcc -pthread -shared -B /opt/anaconda/compiler_compat -L/opt/anaconda/lib -Wl,-rpath=/opt/anaconda/lib -Wl,--no-as-needed -Wl,--sysroot=/ build/temp.linux-x86_64-3.6/positions_aktualliersierung.o -L/opt/anaconda/lib -lm -lpython3.6m -o /tmp/cython_galaxy/positions_aktualliersierung.cpython-36m-x86_64-linux-gnu.so\n",
      "cythoning geschwindigkeit_aktualliersierung.pyx to geschwindigkeit_aktualliersierung.c\n",
      "building 'geschwindigkeit_aktualliersierung' extension\n",
      "gcc -pthread -B /opt/anaconda/compiler_compat -Wl,--sysroot=/ -Wsign-compare -DNDEBUG -g -fwrapv -O3 -Wall -Wstrict-prototypes -fPIC -I/opt/anaconda/include/python3.6m -c geschwindigkeit_aktualliersierung.c -o build/temp.linux-x86_64-3.6/geschwindigkeit_aktualliersierung.o -O3\n",
      "gcc -pthread -shared -B /opt/anaconda/compiler_compat -L/opt/anaconda/lib -Wl,-rpath=/opt/anaconda/lib -Wl,--no-as-needed -Wl,--sysroot=/ build/temp.linux-x86_64-3.6/geschwindigkeit_aktualliersierung.o -L/opt/anaconda/lib -lm -lpython3.6m -o /tmp/cython_galaxy/geschwindigkeit_aktualliersierung.cpython-36m-x86_64-linux-gnu.so\n",
      "cythoning loop.pyx to loop.c\n",
      "building 'loop' extension\n",
      "gcc -pthread -B /opt/anaconda/compiler_compat -Wl,--sysroot=/ -Wsign-compare -DNDEBUG -g -fwrapv -O3 -Wall -Wstrict-prototypes -fPIC -I/opt/anaconda/include/python3.6m -c loop.c -o build/temp.linux-x86_64-3.6/loop.o -O3\n",
      "gcc -pthread -shared -B /opt/anaconda/compiler_compat -L/opt/anaconda/lib -Wl,-rpath=/opt/anaconda/lib -Wl,--no-as-needed -Wl,--sysroot=/ build/temp.linux-x86_64-3.6/loop.o -L/opt/anaconda/lib -lm -lpython3.6m -o /tmp/cython_galaxy/loop.cpython-36m-x86_64-linux-gnu.so\n"
     ]
    }
   ],
   "source": [
    "%%bash\n",
    "cd /tmp/cython_galaxy\n",
    "python3 setup.py build_ext --inplace"
   ]
  },
  {
   "cell_type": "code",
   "execution_count": 59,
   "metadata": {},
   "outputs": [
    {
     "name": "stdout",
     "output_type": "stream",
     "text": [
      "Overwriting /tmp/cython_galaxy/start.py\n"
     ]
    }
   ],
   "source": [
    "%%file /tmp/cython_galaxy/start.py\n",
    "from loop import Loop\n",
    "import matplotlib.pyplot as plt\n",
    "\n",
    "python_position_list = []\n",
    "Loop(python_position_list)\n",
    "plt.plot([x[0] for x in python_position_list], [x[1] for x in python_position_list])\n",
    "plt.show()\n",
    "\n",
    "print(python_position_list)"
   ]
  },
  {
   "cell_type": "code",
   "execution_count": 60,
   "metadata": {},
   "outputs": [
    {
     "name": "stdout",
     "output_type": "stream",
     "text": [
      "<matplotlib.figure.Figure at 0x7f984ff82e10>\n",
      "[array([  1.49603419e+11,   1.28677098e+09,   0.00000000e+00]), array([  1.49603419e+11,   1.28677098e+09,   0.00000000e+00]), array([  1.49603419e+11,   1.28677098e+09,   0.00000000e+00]), array([  1.49603419e+11,   1.28677098e+09,   0.00000000e+00]), array([  1.49603419e+11,   1.28677098e+09,   0.00000000e+00]), array([  1.49603419e+11,   1.28677098e+09,   0.00000000e+00]), array([  1.49603419e+11,   1.28677098e+09,   0.00000000e+00]), array([  1.49603419e+11,   1.28677098e+09,   0.00000000e+00]), array([  1.49603419e+11,   1.28677098e+09,   0.00000000e+00]), array([  1.49603419e+11,   1.28677098e+09,   0.00000000e+00]), array([  1.49603419e+11,   1.28677098e+09,   0.00000000e+00]), array([  1.49603419e+11,   1.28677098e+09,   0.00000000e+00]), array([  1.49603419e+11,   1.28677098e+09,   0.00000000e+00]), array([  1.49603419e+11,   1.28677098e+09,   0.00000000e+00]), array([  1.49603419e+11,   1.28677098e+09,   0.00000000e+00]), array([  1.49603419e+11,   1.28677098e+09,   0.00000000e+00]), array([  1.49603419e+11,   1.28677098e+09,   0.00000000e+00]), array([  1.49603419e+11,   1.28677098e+09,   0.00000000e+00]), array([  1.49603419e+11,   1.28677098e+09,   0.00000000e+00]), array([  1.49603419e+11,   1.28677098e+09,   0.00000000e+00]), array([  1.49603419e+11,   1.28677098e+09,   0.00000000e+00]), array([  1.49603419e+11,   1.28677098e+09,   0.00000000e+00]), array([  1.49603419e+11,   1.28677098e+09,   0.00000000e+00]), array([  1.49603419e+11,   1.28677098e+09,   0.00000000e+00]), array([  1.49603419e+11,   1.28677098e+09,   0.00000000e+00]), array([  1.49603419e+11,   1.28677098e+09,   0.00000000e+00]), array([  1.49603419e+11,   1.28677098e+09,   0.00000000e+00]), array([  1.49603419e+11,   1.28677098e+09,   0.00000000e+00]), array([  1.49603419e+11,   1.28677098e+09,   0.00000000e+00]), array([  1.49603419e+11,   1.28677098e+09,   0.00000000e+00]), array([  1.49603419e+11,   1.28677098e+09,   0.00000000e+00]), array([  1.49603419e+11,   1.28677098e+09,   0.00000000e+00]), array([  1.49603419e+11,   1.28677098e+09,   0.00000000e+00]), array([  1.49603419e+11,   1.28677098e+09,   0.00000000e+00]), array([  1.49603419e+11,   1.28677098e+09,   0.00000000e+00]), array([  1.49603419e+11,   1.28677098e+09,   0.00000000e+00]), array([  1.49603419e+11,   1.28677098e+09,   0.00000000e+00]), array([  1.49603419e+11,   1.28677098e+09,   0.00000000e+00]), array([  1.49603419e+11,   1.28677098e+09,   0.00000000e+00]), array([  1.49603419e+11,   1.28677098e+09,   0.00000000e+00]), array([  1.49603419e+11,   1.28677098e+09,   0.00000000e+00]), array([  1.49603419e+11,   1.28677098e+09,   0.00000000e+00]), array([  1.49603419e+11,   1.28677098e+09,   0.00000000e+00]), array([  1.49603419e+11,   1.28677098e+09,   0.00000000e+00]), array([  1.49603419e+11,   1.28677098e+09,   0.00000000e+00]), array([  1.49603419e+11,   1.28677098e+09,   0.00000000e+00]), array([  1.49603419e+11,   1.28677098e+09,   0.00000000e+00]), array([  1.49603419e+11,   1.28677098e+09,   0.00000000e+00]), array([  1.49603419e+11,   1.28677098e+09,   0.00000000e+00]), array([  1.49603419e+11,   1.28677098e+09,   0.00000000e+00]), array([  1.49603419e+11,   1.28677098e+09,   0.00000000e+00]), array([  1.49603419e+11,   1.28677098e+09,   0.00000000e+00]), array([  1.49603419e+11,   1.28677098e+09,   0.00000000e+00]), array([  1.49603419e+11,   1.28677098e+09,   0.00000000e+00]), array([  1.49603419e+11,   1.28677098e+09,   0.00000000e+00]), array([  1.49603419e+11,   1.28677098e+09,   0.00000000e+00]), array([  1.49603419e+11,   1.28677098e+09,   0.00000000e+00]), array([  1.49603419e+11,   1.28677098e+09,   0.00000000e+00]), array([  1.49603419e+11,   1.28677098e+09,   0.00000000e+00]), array([  1.49603419e+11,   1.28677098e+09,   0.00000000e+00]), array([  1.49603419e+11,   1.28677098e+09,   0.00000000e+00]), array([  1.49603419e+11,   1.28677098e+09,   0.00000000e+00]), array([  1.49603419e+11,   1.28677098e+09,   0.00000000e+00]), array([  1.49603419e+11,   1.28677098e+09,   0.00000000e+00]), array([  1.49603419e+11,   1.28677098e+09,   0.00000000e+00]), array([  1.49603419e+11,   1.28677098e+09,   0.00000000e+00]), array([  1.49603419e+11,   1.28677098e+09,   0.00000000e+00]), array([  1.49603419e+11,   1.28677098e+09,   0.00000000e+00]), array([  1.49603419e+11,   1.28677098e+09,   0.00000000e+00]), array([  1.49603419e+11,   1.28677098e+09,   0.00000000e+00]), array([  1.49603419e+11,   1.28677098e+09,   0.00000000e+00]), array([  1.49603419e+11,   1.28677098e+09,   0.00000000e+00]), array([  1.49603419e+11,   1.28677098e+09,   0.00000000e+00]), array([  1.49603419e+11,   1.28677098e+09,   0.00000000e+00]), array([  1.49603419e+11,   1.28677098e+09,   0.00000000e+00]), array([  1.49603419e+11,   1.28677098e+09,   0.00000000e+00]), array([  1.49603419e+11,   1.28677098e+09,   0.00000000e+00]), array([  1.49603419e+11,   1.28677098e+09,   0.00000000e+00]), array([  1.49603419e+11,   1.28677098e+09,   0.00000000e+00]), array([  1.49603419e+11,   1.28677098e+09,   0.00000000e+00]), array([  1.49603419e+11,   1.28677098e+09,   0.00000000e+00]), array([  1.49603419e+11,   1.28677098e+09,   0.00000000e+00]), array([  1.49603419e+11,   1.28677098e+09,   0.00000000e+00]), array([  1.49603419e+11,   1.28677098e+09,   0.00000000e+00]), array([  1.49603419e+11,   1.28677098e+09,   0.00000000e+00]), array([  1.49603419e+11,   1.28677098e+09,   0.00000000e+00]), array([  1.49603419e+11,   1.28677098e+09,   0.00000000e+00]), array([  1.49603419e+11,   1.28677098e+09,   0.00000000e+00]), array([  1.49603419e+11,   1.28677098e+09,   0.00000000e+00]), array([  1.49603419e+11,   1.28677098e+09,   0.00000000e+00]), array([  1.49603419e+11,   1.28677098e+09,   0.00000000e+00]), array([  1.49603419e+11,   1.28677098e+09,   0.00000000e+00]), array([  1.49603419e+11,   1.28677098e+09,   0.00000000e+00]), array([  1.49603419e+11,   1.28677098e+09,   0.00000000e+00]), array([  1.49603419e+11,   1.28677098e+09,   0.00000000e+00]), array([  1.49603419e+11,   1.28677098e+09,   0.00000000e+00]), array([  1.49603419e+11,   1.28677098e+09,   0.00000000e+00]), array([  1.49603419e+11,   1.28677098e+09,   0.00000000e+00]), array([  1.49603419e+11,   1.28677098e+09,   0.00000000e+00]), array([  1.49603419e+11,   1.28677098e+09,   0.00000000e+00]), array([  1.49603419e+11,   1.28677098e+09,   0.00000000e+00]), array([  1.49603419e+11,   1.28677098e+09,   0.00000000e+00]), array([  1.49603419e+11,   1.28677098e+09,   0.00000000e+00]), array([  1.49603419e+11,   1.28677098e+09,   0.00000000e+00]), array([  1.49603419e+11,   1.28677098e+09,   0.00000000e+00]), array([  1.49603419e+11,   1.28677098e+09,   0.00000000e+00]), array([  1.49603419e+11,   1.28677098e+09,   0.00000000e+00]), array([  1.49603419e+11,   1.28677098e+09,   0.00000000e+00]), array([  1.49603419e+11,   1.28677098e+09,   0.00000000e+00]), array([  1.49603419e+11,   1.28677098e+09,   0.00000000e+00]), array([  1.49603419e+11,   1.28677098e+09,   0.00000000e+00]), array([  1.49603419e+11,   1.28677098e+09,   0.00000000e+00]), array([  1.49603419e+11,   1.28677098e+09,   0.00000000e+00]), array([  1.49603419e+11,   1.28677098e+09,   0.00000000e+00]), array([  1.49603419e+11,   1.28677098e+09,   0.00000000e+00]), array([  1.49603419e+11,   1.28677098e+09,   0.00000000e+00]), array([  1.49603419e+11,   1.28677098e+09,   0.00000000e+00]), array([  1.49603419e+11,   1.28677098e+09,   0.00000000e+00]), array([  1.49603419e+11,   1.28677098e+09,   0.00000000e+00]), array([  1.49603419e+11,   1.28677098e+09,   0.00000000e+00]), array([  1.49603419e+11,   1.28677098e+09,   0.00000000e+00]), array([  1.49603419e+11,   1.28677098e+09,   0.00000000e+00]), array([  1.49603419e+11,   1.28677098e+09,   0.00000000e+00]), array([  1.49603419e+11,   1.28677098e+09,   0.00000000e+00]), array([  1.49603419e+11,   1.28677098e+09,   0.00000000e+00]), array([  1.49603419e+11,   1.28677098e+09,   0.00000000e+00]), array([  1.49603419e+11,   1.28677098e+09,   0.00000000e+00]), array([  1.49603419e+11,   1.28677098e+09,   0.00000000e+00]), array([  1.49603419e+11,   1.28677098e+09,   0.00000000e+00]), array([  1.49603419e+11,   1.28677098e+09,   0.00000000e+00]), array([  1.49603419e+11,   1.28677098e+09,   0.00000000e+00]), array([  1.49603419e+11,   1.28677098e+09,   0.00000000e+00]), array([  1.49603419e+11,   1.28677098e+09,   0.00000000e+00]), array([  1.49603419e+11,   1.28677098e+09,   0.00000000e+00]), array([  1.49603419e+11,   1.28677098e+09,   0.00000000e+00]), array([  1.49603419e+11,   1.28677098e+09,   0.00000000e+00]), array([  1.49603419e+11,   1.28677098e+09,   0.00000000e+00]), array([  1.49603419e+11,   1.28677098e+09,   0.00000000e+00]), array([  1.49603419e+11,   1.28677098e+09,   0.00000000e+00]), array([  1.49603419e+11,   1.28677098e+09,   0.00000000e+00]), array([  1.49603419e+11,   1.28677098e+09,   0.00000000e+00]), array([  1.49603419e+11,   1.28677098e+09,   0.00000000e+00]), array([  1.49603419e+11,   1.28677098e+09,   0.00000000e+00]), array([  1.49603419e+11,   1.28677098e+09,   0.00000000e+00]), array([  1.49603419e+11,   1.28677098e+09,   0.00000000e+00]), array([  1.49603419e+11,   1.28677098e+09,   0.00000000e+00]), array([  1.49603419e+11,   1.28677098e+09,   0.00000000e+00]), array([  1.49603419e+11,   1.28677098e+09,   0.00000000e+00]), array([  1.49603419e+11,   1.28677098e+09,   0.00000000e+00]), array([  1.49603419e+11,   1.28677098e+09,   0.00000000e+00]), array([  1.49603419e+11,   1.28677098e+09,   0.00000000e+00]), array([  1.49603419e+11,   1.28677098e+09,   0.00000000e+00]), array([  1.49603419e+11,   1.28677098e+09,   0.00000000e+00]), array([  1.49603419e+11,   1.28677098e+09,   0.00000000e+00]), array([  1.49603419e+11,   1.28677098e+09,   0.00000000e+00]), array([  1.49603419e+11,   1.28677098e+09,   0.00000000e+00]), array([  1.49603419e+11,   1.28677098e+09,   0.00000000e+00]), array([  1.49603419e+11,   1.28677098e+09,   0.00000000e+00]), array([  1.49603419e+11,   1.28677098e+09,   0.00000000e+00]), array([  1.49603419e+11,   1.28677098e+09,   0.00000000e+00]), array([  1.49603419e+11,   1.28677098e+09,   0.00000000e+00]), array([  1.49603419e+11,   1.28677098e+09,   0.00000000e+00]), array([  1.49603419e+11,   1.28677098e+09,   0.00000000e+00]), array([  1.49603419e+11,   1.28677098e+09,   0.00000000e+00]), array([  1.49603419e+11,   1.28677098e+09,   0.00000000e+00]), array([  1.49603419e+11,   1.28677098e+09,   0.00000000e+00]), array([  1.49603419e+11,   1.28677098e+09,   0.00000000e+00]), array([  1.49603419e+11,   1.28677098e+09,   0.00000000e+00]), array([  1.49603419e+11,   1.28677098e+09,   0.00000000e+00]), array([  1.49603419e+11,   1.28677098e+09,   0.00000000e+00]), array([  1.49603419e+11,   1.28677098e+09,   0.00000000e+00]), array([  1.49603419e+11,   1.28677098e+09,   0.00000000e+00]), array([  1.49603419e+11,   1.28677098e+09,   0.00000000e+00]), array([  1.49603419e+11,   1.28677098e+09,   0.00000000e+00]), array([  1.49603419e+11,   1.28677098e+09,   0.00000000e+00]), array([  1.49603419e+11,   1.28677098e+09,   0.00000000e+00]), array([  1.49603419e+11,   1.28677098e+09,   0.00000000e+00]), array([  1.49603419e+11,   1.28677098e+09,   0.00000000e+00]), array([  1.49603419e+11,   1.28677098e+09,   0.00000000e+00]), array([  1.49603419e+11,   1.28677098e+09,   0.00000000e+00]), array([  1.49603419e+11,   1.28677098e+09,   0.00000000e+00]), array([  1.49603419e+11,   1.28677098e+09,   0.00000000e+00]), array([  1.49603419e+11,   1.28677098e+09,   0.00000000e+00]), array([  1.49603419e+11,   1.28677098e+09,   0.00000000e+00]), array([  1.49603419e+11,   1.28677098e+09,   0.00000000e+00]), array([  1.49603419e+11,   1.28677098e+09,   0.00000000e+00]), array([  1.49603419e+11,   1.28677098e+09,   0.00000000e+00]), array([  1.49603419e+11,   1.28677098e+09,   0.00000000e+00]), array([  1.49603419e+11,   1.28677098e+09,   0.00000000e+00]), array([  1.49603419e+11,   1.28677098e+09,   0.00000000e+00]), array([  1.49603419e+11,   1.28677098e+09,   0.00000000e+00]), array([  1.49603419e+11,   1.28677098e+09,   0.00000000e+00]), array([  1.49603419e+11,   1.28677098e+09,   0.00000000e+00]), array([  1.49603419e+11,   1.28677098e+09,   0.00000000e+00]), array([  1.49603419e+11,   1.28677098e+09,   0.00000000e+00]), array([  1.49603419e+11,   1.28677098e+09,   0.00000000e+00]), array([  1.49603419e+11,   1.28677098e+09,   0.00000000e+00]), array([  1.49603419e+11,   1.28677098e+09,   0.00000000e+00]), array([  1.49603419e+11,   1.28677098e+09,   0.00000000e+00]), array([  1.49603419e+11,   1.28677098e+09,   0.00000000e+00]), array([  1.49603419e+11,   1.28677098e+09,   0.00000000e+00]), array([  1.49603419e+11,   1.28677098e+09,   0.00000000e+00]), array([  1.49603419e+11,   1.28677098e+09,   0.00000000e+00]), array([  1.49603419e+11,   1.28677098e+09,   0.00000000e+00]), array([  1.49603419e+11,   1.28677098e+09,   0.00000000e+00]), array([  1.49603419e+11,   1.28677098e+09,   0.00000000e+00]), array([  1.49603419e+11,   1.28677098e+09,   0.00000000e+00]), array([  1.49603419e+11,   1.28677098e+09,   0.00000000e+00]), array([  1.49603419e+11,   1.28677098e+09,   0.00000000e+00]), array([  1.49603419e+11,   1.28677098e+09,   0.00000000e+00]), array([  1.49603419e+11,   1.28677098e+09,   0.00000000e+00]), array([  1.49603419e+11,   1.28677098e+09,   0.00000000e+00]), array([  1.49603419e+11,   1.28677098e+09,   0.00000000e+00]), array([  1.49603419e+11,   1.28677098e+09,   0.00000000e+00]), array([  1.49603419e+11,   1.28677098e+09,   0.00000000e+00]), array([  1.49603419e+11,   1.28677098e+09,   0.00000000e+00]), array([  1.49603419e+11,   1.28677098e+09,   0.00000000e+00]), array([  1.49603419e+11,   1.28677098e+09,   0.00000000e+00]), array([  1.49603419e+11,   1.28677098e+09,   0.00000000e+00]), array([  1.49603419e+11,   1.28677098e+09,   0.00000000e+00]), array([  1.49603419e+11,   1.28677098e+09,   0.00000000e+00]), array([  1.49603419e+11,   1.28677098e+09,   0.00000000e+00]), array([  1.49603419e+11,   1.28677098e+09,   0.00000000e+00]), array([  1.49603419e+11,   1.28677098e+09,   0.00000000e+00]), array([  1.49603419e+11,   1.28677098e+09,   0.00000000e+00]), array([  1.49603419e+11,   1.28677098e+09,   0.00000000e+00]), array([  1.49603419e+11,   1.28677098e+09,   0.00000000e+00]), array([  1.49603419e+11,   1.28677098e+09,   0.00000000e+00]), array([  1.49603419e+11,   1.28677098e+09,   0.00000000e+00]), array([  1.49603419e+11,   1.28677098e+09,   0.00000000e+00]), array([  1.49603419e+11,   1.28677098e+09,   0.00000000e+00]), array([  1.49603419e+11,   1.28677098e+09,   0.00000000e+00]), array([  1.49603419e+11,   1.28677098e+09,   0.00000000e+00]), array([  1.49603419e+11,   1.28677098e+09,   0.00000000e+00]), array([  1.49603419e+11,   1.28677098e+09,   0.00000000e+00]), array([  1.49603419e+11,   1.28677098e+09,   0.00000000e+00]), array([  1.49603419e+11,   1.28677098e+09,   0.00000000e+00]), array([  1.49603419e+11,   1.28677098e+09,   0.00000000e+00]), array([  1.49603419e+11,   1.28677098e+09,   0.00000000e+00]), array([  1.49603419e+11,   1.28677098e+09,   0.00000000e+00]), array([  1.49603419e+11,   1.28677098e+09,   0.00000000e+00]), array([  1.49603419e+11,   1.28677098e+09,   0.00000000e+00]), array([  1.49603419e+11,   1.28677098e+09,   0.00000000e+00]), array([  1.49603419e+11,   1.28677098e+09,   0.00000000e+00]), array([  1.49603419e+11,   1.28677098e+09,   0.00000000e+00]), array([  1.49603419e+11,   1.28677098e+09,   0.00000000e+00]), array([  1.49603419e+11,   1.28677098e+09,   0.00000000e+00]), array([  1.49603419e+11,   1.28677098e+09,   0.00000000e+00]), array([  1.49603419e+11,   1.28677098e+09,   0.00000000e+00]), array([  1.49603419e+11,   1.28677098e+09,   0.00000000e+00]), array([  1.49603419e+11,   1.28677098e+09,   0.00000000e+00]), array([  1.49603419e+11,   1.28677098e+09,   0.00000000e+00]), array([  1.49603419e+11,   1.28677098e+09,   0.00000000e+00]), array([  1.49603419e+11,   1.28677098e+09,   0.00000000e+00]), array([  1.49603419e+11,   1.28677098e+09,   0.00000000e+00]), array([  1.49603419e+11,   1.28677098e+09,   0.00000000e+00]), array([  1.49603419e+11,   1.28677098e+09,   0.00000000e+00]), array([  1.49603419e+11,   1.28677098e+09,   0.00000000e+00]), array([  1.49603419e+11,   1.28677098e+09,   0.00000000e+00]), array([  1.49603419e+11,   1.28677098e+09,   0.00000000e+00]), array([  1.49603419e+11,   1.28677098e+09,   0.00000000e+00]), array([  1.49603419e+11,   1.28677098e+09,   0.00000000e+00]), array([  1.49603419e+11,   1.28677098e+09,   0.00000000e+00]), array([  1.49603419e+11,   1.28677098e+09,   0.00000000e+00]), array([  1.49603419e+11,   1.28677098e+09,   0.00000000e+00]), array([  1.49603419e+11,   1.28677098e+09,   0.00000000e+00]), array([  1.49603419e+11,   1.28677098e+09,   0.00000000e+00]), array([  1.49603419e+11,   1.28677098e+09,   0.00000000e+00]), array([  1.49603419e+11,   1.28677098e+09,   0.00000000e+00]), array([  1.49603419e+11,   1.28677098e+09,   0.00000000e+00]), array([  1.49603419e+11,   1.28677098e+09,   0.00000000e+00]), array([  1.49603419e+11,   1.28677098e+09,   0.00000000e+00]), array([  1.49603419e+11,   1.28677098e+09,   0.00000000e+00]), array([  1.49603419e+11,   1.28677098e+09,   0.00000000e+00]), array([  1.49603419e+11,   1.28677098e+09,   0.00000000e+00]), array([  1.49603419e+11,   1.28677098e+09,   0.00000000e+00]), array([  1.49603419e+11,   1.28677098e+09,   0.00000000e+00]), array([  1.49603419e+11,   1.28677098e+09,   0.00000000e+00]), array([  1.49603419e+11,   1.28677098e+09,   0.00000000e+00]), array([  1.49603419e+11,   1.28677098e+09,   0.00000000e+00]), array([  1.49603419e+11,   1.28677098e+09,   0.00000000e+00]), array([  1.49603419e+11,   1.28677098e+09,   0.00000000e+00]), array([  1.49603419e+11,   1.28677098e+09,   0.00000000e+00]), array([  1.49603419e+11,   1.28677098e+09,   0.00000000e+00]), array([  1.49603419e+11,   1.28677098e+09,   0.00000000e+00]), array([  1.49603419e+11,   1.28677098e+09,   0.00000000e+00]), array([  1.49603419e+11,   1.28677098e+09,   0.00000000e+00]), array([  1.49603419e+11,   1.28677098e+09,   0.00000000e+00]), array([  1.49603419e+11,   1.28677098e+09,   0.00000000e+00]), array([  1.49603419e+11,   1.28677098e+09,   0.00000000e+00]), array([  1.49603419e+11,   1.28677098e+09,   0.00000000e+00]), array([  1.49603419e+11,   1.28677098e+09,   0.00000000e+00]), array([  1.49603419e+11,   1.28677098e+09,   0.00000000e+00]), array([  1.49603419e+11,   1.28677098e+09,   0.00000000e+00]), array([  1.49603419e+11,   1.28677098e+09,   0.00000000e+00]), array([  1.49603419e+11,   1.28677098e+09,   0.00000000e+00]), array([  1.49603419e+11,   1.28677098e+09,   0.00000000e+00]), array([  1.49603419e+11,   1.28677098e+09,   0.00000000e+00]), array([  1.49603419e+11,   1.28677098e+09,   0.00000000e+00]), array([  1.49603419e+11,   1.28677098e+09,   0.00000000e+00]), array([  1.49603419e+11,   1.28677098e+09,   0.00000000e+00]), array([  1.49603419e+11,   1.28677098e+09,   0.00000000e+00]), array([  1.49603419e+11,   1.28677098e+09,   0.00000000e+00]), array([  1.49603419e+11,   1.28677098e+09,   0.00000000e+00]), array([  1.49603419e+11,   1.28677098e+09,   0.00000000e+00]), array([  1.49603419e+11,   1.28677098e+09,   0.00000000e+00]), array([  1.49603419e+11,   1.28677098e+09,   0.00000000e+00]), array([  1.49603419e+11,   1.28677098e+09,   0.00000000e+00]), array([  1.49603419e+11,   1.28677098e+09,   0.00000000e+00]), array([  1.49603419e+11,   1.28677098e+09,   0.00000000e+00]), array([  1.49603419e+11,   1.28677098e+09,   0.00000000e+00]), array([  1.49603419e+11,   1.28677098e+09,   0.00000000e+00]), array([  1.49603419e+11,   1.28677098e+09,   0.00000000e+00]), array([  1.49603419e+11,   1.28677098e+09,   0.00000000e+00]), array([  1.49603419e+11,   1.28677098e+09,   0.00000000e+00]), array([  1.49603419e+11,   1.28677098e+09,   0.00000000e+00]), array([  1.49603419e+11,   1.28677098e+09,   0.00000000e+00]), array([  1.49603419e+11,   1.28677098e+09,   0.00000000e+00]), array([  1.49603419e+11,   1.28677098e+09,   0.00000000e+00]), array([  1.49603419e+11,   1.28677098e+09,   0.00000000e+00]), array([  1.49603419e+11,   1.28677098e+09,   0.00000000e+00]), array([  1.49603419e+11,   1.28677098e+09,   0.00000000e+00]), array([  1.49603419e+11,   1.28677098e+09,   0.00000000e+00]), array([  1.49603419e+11,   1.28677098e+09,   0.00000000e+00]), array([  1.49603419e+11,   1.28677098e+09,   0.00000000e+00]), array([  1.49603419e+11,   1.28677098e+09,   0.00000000e+00]), array([  1.49603419e+11,   1.28677098e+09,   0.00000000e+00]), array([  1.49603419e+11,   1.28677098e+09,   0.00000000e+00]), array([  1.49603419e+11,   1.28677098e+09,   0.00000000e+00]), array([  1.49603419e+11,   1.28677098e+09,   0.00000000e+00]), array([  1.49603419e+11,   1.28677098e+09,   0.00000000e+00]), array([  1.49603419e+11,   1.28677098e+09,   0.00000000e+00]), array([  1.49603419e+11,   1.28677098e+09,   0.00000000e+00]), array([  1.49603419e+11,   1.28677098e+09,   0.00000000e+00]), array([  1.49603419e+11,   1.28677098e+09,   0.00000000e+00]), array([  1.49603419e+11,   1.28677098e+09,   0.00000000e+00]), array([  1.49603419e+11,   1.28677098e+09,   0.00000000e+00]), array([  1.49603419e+11,   1.28677098e+09,   0.00000000e+00]), array([  1.49603419e+11,   1.28677098e+09,   0.00000000e+00]), array([  1.49603419e+11,   1.28677098e+09,   0.00000000e+00]), array([  1.49603419e+11,   1.28677098e+09,   0.00000000e+00]), array([  1.49603419e+11,   1.28677098e+09,   0.00000000e+00]), array([  1.49603419e+11,   1.28677098e+09,   0.00000000e+00]), array([  1.49603419e+11,   1.28677098e+09,   0.00000000e+00]), array([  1.49603419e+11,   1.28677098e+09,   0.00000000e+00]), array([  1.49603419e+11,   1.28677098e+09,   0.00000000e+00]), array([  1.49603419e+11,   1.28677098e+09,   0.00000000e+00]), array([  1.49603419e+11,   1.28677098e+09,   0.00000000e+00]), array([  1.49603419e+11,   1.28677098e+09,   0.00000000e+00]), array([  1.49603419e+11,   1.28677098e+09,   0.00000000e+00]), array([  1.49603419e+11,   1.28677098e+09,   0.00000000e+00]), array([  1.49603419e+11,   1.28677098e+09,   0.00000000e+00]), array([  1.49603419e+11,   1.28677098e+09,   0.00000000e+00]), array([  1.49603419e+11,   1.28677098e+09,   0.00000000e+00]), array([  1.49603419e+11,   1.28677098e+09,   0.00000000e+00]), array([  1.49603419e+11,   1.28677098e+09,   0.00000000e+00]), array([  1.49603419e+11,   1.28677098e+09,   0.00000000e+00]), array([  1.49603419e+11,   1.28677098e+09,   0.00000000e+00]), array([  1.49603419e+11,   1.28677098e+09,   0.00000000e+00]), array([  1.49603419e+11,   1.28677098e+09,   0.00000000e+00])]\n"
     ]
    }
   ],
   "source": [
    "%%bash\n",
    "cd /tmp/cython_galaxy\n",
    "python3 start.py"
   ]
  },
  {
   "cell_type": "markdown",
   "metadata": {},
   "source": [
    "## Cython Test"
   ]
  },
  {
   "cell_type": "markdown",
   "metadata": {},
   "source": [
    "## Versuch vom 30.11.2017\n",
    "\n"
   ]
  },
  {
   "cell_type": "markdown",
   "metadata": {},
   "source": [
    "python listen von zb geschwindigkeit...\n",
    "\n",
    "umwandeln in numpy.array oder numpy.ndarray ?\n",
    "\n",
    "übergeben an die cython funktion (nogil)\n",
    "\n",
    "zugriff innerhalb der cython funktion (memoryview?)\n",
    "\n"
   ]
  },
  {
   "cell_type": "markdown",
   "metadata": {},
   "source": [
    "## Erster Numpy Test mit Listen als numpy Array"
   ]
  },
  {
   "cell_type": "code",
   "execution_count": null,
   "metadata": {},
   "outputs": [],
   "source": [
    "import numpy as np\n",
    "planet_position = [[149_597_890_000, 0,0], [0,0,0], [1,1,1]]\n",
    "position = np.array(planet_position,  dtype=np.float32)\n",
    "\n",
    "print (position)\n",
    "print()\n",
    "print(position[0][0])\n"
   ]
  },
  {
   "cell_type": "markdown",
   "metadata": {},
   "source": [
    "## Memory View Beispiel"
   ]
  },
  {
   "cell_type": "code",
   "execution_count": null,
   "metadata": {},
   "outputs": [],
   "source": [
    "%load_ext Cython"
   ]
  },
  {
   "cell_type": "code",
   "execution_count": null,
   "metadata": {},
   "outputs": [],
   "source": [
    "%%cython -f -c-fopenmp --link-args=-fopenmp\n",
    "\n",
    "import numpy as np\n",
    "\n",
    "narr = np.arange(9, dtype=np.dtype(\"d\")).reshape((3, 3))\n",
    "cdef double [:, :] narr_view = narr\n",
    "\n",
    "print (narr)\n",
    "print (narr_view)\n",
    "print (narr_view[2][2])"
   ]
  },
  {
   "cell_type": "markdown",
   "metadata": {},
   "source": [
    "## Memory View Beispiel Test Umbau"
   ]
  },
  {
   "cell_type": "code",
   "execution_count": null,
   "metadata": {},
   "outputs": [],
   "source": [
    "%%cython -f -c-fopenmp --link-args=-fopenmp\n",
    "\n",
    "import numpy as np\n",
    "\n",
    "planet_position = [[149_597_890_000, 0,0], [0,0,0], [1,1,1]]\n",
    "position = np.array(planet_position,  dtype=np.float32)\n",
    "cdef float [:, :] position_view = position\n",
    "print (position)\n",
    "print (position_view)\n",
    "print (position_view[0][0])\n",
    "print (position_view[2][2])\n",
    "\n",
    "position_view[2][2] = 5\n",
    "print (position_view[2][2])"
   ]
  },
  {
   "cell_type": "markdown",
   "metadata": {},
   "source": [
    "## Erfolgreicher NoGil Test mit Memory View"
   ]
  },
  {
   "cell_type": "code",
   "execution_count": null,
   "metadata": {
    "scrolled": true
   },
   "outputs": [],
   "source": [
    "%%cython -f -c-fopenmp --link-args=-fopenmp\n",
    "\n",
    "import numpy as np\n",
    "cimport numpy as cnp\n",
    "cimport cython\n",
    "ctypedef cnp.float32_t dtype_t\n",
    "\n",
    "@cython.boundscheck(False)\n",
    "@cython.cdivision(True)\n",
    "cpdef void Abstand (float [:, :] position_view , float[:] result ,int first, int second) nogil:   \n",
    "    result[0] = position_view[first][0] - position_view[second][0]\n",
    "    result[1] = position_view[first][1] - position_view[second][1]\n",
    "    result[2] = position_view[first][2] - position_view[second][2]\n",
    "\n",
    "planet_position = [[149_597_890_000, 0,0], [0,0,0], [1,1,1]]\n",
    "position = np.array(planet_position,  dtype=np.float32)\n",
    "cdef float [:, :] position_view = position\n",
    "cdef float [:] result1 = np.array([0,0,0],  dtype=np.float32)\n",
    "cdef float [:] result2 = np.array([0,0,0],  dtype=np.float32)\n",
    "\n",
    "Abstand(position_view, result1, 0, 1)\n",
    "position_view_result1 = np.asarray(result1)\n",
    "\n",
    "Abstand(position_view, result2, 1, 0)\n",
    "position_view_result2 = np.asarray(result2)\n",
    "\n",
    "print (position_view_result1)\n",
    "print (position_view_result2)"
   ]
  },
  {
   "cell_type": "markdown",
   "metadata": {},
   "source": [
    "## Build Test"
   ]
  },
  {
   "cell_type": "code",
   "execution_count": null,
   "metadata": {},
   "outputs": [],
   "source": [
    "import os\n",
    "os.mkdir('/tmp/cython_galaxy_einzel_build')"
   ]
  },
  {
   "cell_type": "code",
   "execution_count": null,
   "metadata": {},
   "outputs": [],
   "source": [
    "%%file /tmp/cython_galaxy_einzel_build/abstand.pyx\n",
    "#Abstands Funktion\n",
    "#Abstand_Sonne[0] = position[1][0] - position[0][0]\n",
    "cimport cython\n",
    "\n",
    "@cython.boundscheck(False)\n",
    "@cython.cdivision(True)\n",
    "cpdef void Abstand (float [:, :] position_view , float[:] result ,int first, int second) nogil:   \n",
    "    result[0] = position_view[first][0] - position_view[second][0]\n",
    "    result[1] = position_view[first][1] - position_view[second][1]\n",
    "    result[2] = position_view[first][2] - position_view[second][2]"
   ]
  },
  {
   "cell_type": "code",
   "execution_count": null,
   "metadata": {},
   "outputs": [],
   "source": [
    "%%file /tmp/cython_galaxy_einzel_build/abstand_test.pyx\n",
    "\n",
    "import numpy as np\n",
    "from abstand import Abstand \n",
    "cimport numpy as cnp\n",
    "cimport cython\n",
    "ctypedef cnp.float32_t dtype_t\n",
    "\n",
    "def test():\n",
    "    planet_position = [[149_597_890_000, 0,0], [0,0,0], [1,1,1]]\n",
    "    position = np.array(planet_position,  dtype=np.float32)\n",
    "    cdef float [:, :] position_view = position\n",
    "    cdef float [:] result1 = np.array([0,0,0],  dtype=np.float32)\n",
    "    cdef float [:] result2 = np.array([0,0,0],  dtype=np.float32)\n",
    "\n",
    "    Abstand(position_view, result1, 0, 1)\n",
    "    position_view_result1 = np.asarray(result1)\n",
    "\n",
    "    Abstand(position_view, result2, 1, 0)\n",
    "    position_view_result2 = np.asarray(result2)\n",
    "\n",
    "    print (position_view_result1)\n",
    "    print (position_view_result2)"
   ]
  },
  {
   "cell_type": "code",
   "execution_count": null,
   "metadata": {},
   "outputs": [],
   "source": [
    "%%file /tmp/cython_galaxy_einzel_build/start.py\n",
    "\n",
    "from abstand_test import test\n",
    "test()"
   ]
  },
  {
   "cell_type": "code",
   "execution_count": null,
   "metadata": {},
   "outputs": [],
   "source": [
    "%%file /tmp/cython_galaxy_einzel_build/setup.py\n",
    "\n",
    "\n",
    "# Aufruf: python3 setup.py build_ext --inplace\n",
    "# Windows: zusaetzliche Option --compiler=mingw32\n",
    "from distutils.core import setup\n",
    "from distutils.extension import Extension\n",
    "from Cython.Distutils import build_ext\n",
    "import numpy\n",
    "\n",
    "ext_modules=[ Extension(\"abstand\", [\"abstand.pyx\"],\n",
    "        extra_compile_args=['-O3'], libraries=['m']),\n",
    "              Extension(\"abstand_test\", [\"abstand_test.pyx\"],\n",
    "        extra_compile_args=['-O3'], libraries=['m'],\n",
    "            include_dirs=[numpy.get_include()])\n",
    "            ]\n",
    "             \n",
    "setup( name = 'cython demo',\n",
    "  cmdclass = {'build_ext': build_ext},\n",
    "  ext_modules = ext_modules)\n"
   ]
  },
  {
   "cell_type": "markdown",
   "metadata": {},
   "source": [
    "## Build Script"
   ]
  },
  {
   "cell_type": "code",
   "execution_count": null,
   "metadata": {
    "scrolled": true
   },
   "outputs": [],
   "source": [
    "%%bash\n",
    "cd /tmp/cython_galaxy_einzel_build\n",
    "python3 setup.py build_ext --inplace"
   ]
  },
  {
   "cell_type": "code",
   "execution_count": null,
   "metadata": {},
   "outputs": [],
   "source": [
    "%%bash\n",
    "cd /tmp/cython_galaxy_einzel_build\n",
    "python3 start.py"
   ]
  },
  {
   "cell_type": "code",
   "execution_count": null,
   "metadata": {
    "collapsed": true
   },
   "outputs": [],
   "source": []
  }
 ],
 "metadata": {
  "kernelspec": {
   "display_name": "Python 3",
   "language": "python",
   "name": "python3"
  },
  "language_info": {
   "codemirror_mode": {
    "name": "ipython",
    "version": 3
   },
   "file_extension": ".py",
   "mimetype": "text/x-python",
   "name": "python",
   "nbconvert_exporter": "python",
   "pygments_lexer": "ipython3",
   "version": "3.6.3"
  },
  "latex_envs": {
   "LaTeX_envs_menu_present": true,
   "autocomplete": true,
   "bibliofile": "biblio.bib",
   "cite_by": "apalike",
   "current_citInitial": 1,
   "eqLabelWithNumbers": true,
   "eqNumInitial": 1,
   "hotkeys": {
    "equation": "Ctrl-E",
    "itemize": "Ctrl-I"
   },
   "labels_anchors": false,
   "latex_user_defs": false,
   "report_style_numbering": false,
   "user_envs_cfg": false
  }
 },
 "nbformat": 4,
 "nbformat_minor": 2
}
