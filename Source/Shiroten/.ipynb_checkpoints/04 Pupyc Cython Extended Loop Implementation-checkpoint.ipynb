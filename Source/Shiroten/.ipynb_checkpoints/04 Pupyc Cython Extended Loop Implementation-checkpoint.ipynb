{
 "cells": [
  {
   "cell_type": "code",
   "execution_count": 1,
   "metadata": {
    "collapsed": true
   },
   "outputs": [],
   "source": [
    "%%bash\n",
    "rm -R ./cython_galaxy_extended"
   ]
  },
  {
   "cell_type": "code",
   "execution_count": 2,
   "metadata": {},
   "outputs": [],
   "source": [
    "import os\n",
    "os.mkdir('./cython_galaxy_extended')"
   ]
  },
  {
   "cell_type": "code",
   "execution_count": 3,
   "metadata": {},
   "outputs": [
    {
     "name": "stdout",
     "output_type": "stream",
     "text": [
      "Writing ./cython_galaxy_extended/abstand.pxd\n"
     ]
    }
   ],
   "source": [
    "%%file ./cython_galaxy_extended/abstand.pxd\n",
    "cdef void Abstand (double [:, :], double[:], int, int) nogil"
   ]
  },
  {
   "cell_type": "code",
   "execution_count": 4,
   "metadata": {},
   "outputs": [
    {
     "name": "stdout",
     "output_type": "stream",
     "text": [
      "Writing ./cython_galaxy_extended/abstand.pyx\n"
     ]
    }
   ],
   "source": [
    "%%file ./cython_galaxy_extended/abstand.pyx\n",
    "cimport cython\n",
    "#Abstands Funktion\n",
    "#Abstand_Sonne = position[1] - position[0]\n",
    "\n",
    "@cython.boundscheck(False)\n",
    "@cython.cdivision(True)\n",
    "cdef void Abstand (double [:, :] position_view , double[:] result ,int head, int tail) nogil:   \n",
    "    result[0] = position_view[head][0] - position_view[tail][0]\n",
    "    result[1] = position_view[head][1] - position_view[tail][1]\n",
    "    result[2] = position_view[head][2] - position_view[tail][2]"
   ]
  },
  {
   "cell_type": "code",
   "execution_count": 5,
   "metadata": {},
   "outputs": [
    {
     "name": "stdout",
     "output_type": "stream",
     "text": [
      "Writing ./cython_galaxy_extended/betrag.pxd\n"
     ]
    }
   ],
   "source": [
    "%%file ./cython_galaxy_extended/betrag.pxd\n",
    "cdef void Betrag (double [:], double[:]) nogil"
   ]
  },
  {
   "cell_type": "code",
   "execution_count": 6,
   "metadata": {},
   "outputs": [
    {
     "name": "stdout",
     "output_type": "stream",
     "text": [
      "Writing ./cython_galaxy_extended/betrag.pyx\n"
     ]
    }
   ],
   "source": [
    "%%file ./cython_galaxy_extended/betrag.pyx\n",
    "cimport cython\n",
    "from libc.math cimport sqrt\n",
    "\n",
    "\n",
    "#Betrags Funktion\n",
    "#Betrag_Erde  = sqrt( Abstand_Erde**2 + Abstand_Erde**2 + Abstand_Erde**2)\n",
    "@cython.boundscheck(False)\n",
    "@cython.cdivision(True)\n",
    "cdef void Betrag (double [:] abstand_view , double[:] result) nogil:\n",
    "    result[0] = sqrt(abstand_view[0]**2 + abstand_view[1]**2 + abstand_view[2]**2)"
   ]
  },
  {
   "cell_type": "code",
   "execution_count": 7,
   "metadata": {},
   "outputs": [
    {
     "name": "stdout",
     "output_type": "stream",
     "text": [
      "Writing ./cython_galaxy_extended/kraft.pxd\n"
     ]
    }
   ],
   "source": [
    "%%file ./cython_galaxy_extended/kraft.pxd\n",
    "cdef void Kraft (double [:], double [:],  double [:], int, int, double[:]) nogil"
   ]
  },
  {
   "cell_type": "code",
   "execution_count": 8,
   "metadata": {},
   "outputs": [
    {
     "name": "stdout",
     "output_type": "stream",
     "text": [
      "Writing ./cython_galaxy_extended/kraft.pyx\n"
     ]
    }
   ],
   "source": [
    "%%file ./cython_galaxy_extended/kraft.pyx\n",
    "cimport cython\n",
    "\n",
    "#Kraft Funktion\n",
    "#Kraft_Erde = G * (masse_erde * masse_sonne / (Betrag_Erde  ** 3)) * Abstand_Erde\n",
    "@cython.boundscheck(False)\n",
    "@cython.cdivision(True)\n",
    "cdef void Kraft (double [:] masse_view, double [:] abstand_view,  double [:] Betrag, \\\n",
    "                  int head, int tail, double[:] result) nogil:\n",
    "    \n",
    "    cdef double g1 = 6.672\n",
    "    cdef double g2 = 10\n",
    "    cdef double g3 = -11\n",
    "    \n",
    "    cdef double G = g1 * g2 ** g3\n",
    "    cdef double betrag = Betrag[0] ** 3\n",
    "\n",
    "    cdef double masse_multyply = masse_view[head] * masse_view[tail]\n",
    "    \n",
    "    result[0] = G * (masse_multyply / betrag) * abstand_view[0]\n",
    "    result[1] = G * (masse_multyply / betrag) * abstand_view[1]\n",
    "    result[2] = G * (masse_multyply / betrag) * abstand_view[2]"
   ]
  },
  {
   "cell_type": "code",
   "execution_count": 9,
   "metadata": {},
   "outputs": [
    {
     "name": "stdout",
     "output_type": "stream",
     "text": [
      "Writing ./cython_galaxy_extended/beschleunigung.pxd\n"
     ]
    }
   ],
   "source": [
    "%%file ./cython_galaxy_extended/beschleunigung.pxd\n",
    "cdef void Beschleunigung (double [:], double [:], int, double[:]) nogil"
   ]
  },
  {
   "cell_type": "code",
   "execution_count": 10,
   "metadata": {},
   "outputs": [
    {
     "name": "stdout",
     "output_type": "stream",
     "text": [
      "Writing ./cython_galaxy_extended/beschleunigung.pyx\n"
     ]
    }
   ],
   "source": [
    "%%file ./cython_galaxy_extended/beschleunigung.pyx\n",
    "cimport cython\n",
    "\n",
    "#Beschleunigungs Funktion\n",
    "#Beschleunigung_Erde  = Kraft_Erde  / masse\n",
    "@cython.boundscheck(False)\n",
    "@cython.cdivision(True)\n",
    "cdef void Beschleunigung (double [:] kraft_view , double [:] masse_view, int massen_index, double[:] result) nogil:\n",
    "    cdef float G = 6.672 * 10 ** -11\n",
    "    result[0] = kraft_view[0]  / masse_view[massen_index]\n",
    "    result[1] = kraft_view[1]  / masse_view[massen_index]\n",
    "    result[2] = kraft_view[2]  / masse_view[massen_index]"
   ]
  },
  {
   "cell_type": "code",
   "execution_count": 11,
   "metadata": {},
   "outputs": [
    {
     "name": "stdout",
     "output_type": "stream",
     "text": [
      "Writing ./cython_galaxy_extended/update_position.pxd\n"
     ]
    }
   ],
   "source": [
    "%%file ./cython_galaxy_extended/update_position.pxd\n",
    "cdef void update_position (double [:, :], double [:, :], double [:, :],double [:], double, int) nogil"
   ]
  },
  {
   "cell_type": "code",
   "execution_count": 12,
   "metadata": {},
   "outputs": [
    {
     "name": "stdout",
     "output_type": "stream",
     "text": [
      "Writing ./cython_galaxy_extended/update_position.pyx\n"
     ]
    }
   ],
   "source": [
    "%%file ./cython_galaxy_extended/update_position.pyx\n",
    "cimport cython\n",
    "\n",
    "#Positions Aktualliersierung\n",
    "#position = position + dt * geschwindigkeit  + ((dt ** 2) / 2) * Beschleunigung_Erde\n",
    "@cython.boundscheck(False)\n",
    "@cython.cdivision(True)\n",
    "cdef void update_position (double [:, :] position_view , double [:, :] new_postion_view, \\\n",
    "                   double [:, :] speed_view, double [:] beschleunigung_view, \\\n",
    "                        double dt, int planet_index) nogil:\n",
    "    \n",
    "    new_postion_view[planet_index][0] = position_view[planet_index][0]  + dt * speed_view[planet_index][0] \\\n",
    "                                                + ((dt ** 2) / 2) * beschleunigung_view[0]\n",
    "        \n",
    "    new_postion_view[planet_index][1] = position_view[planet_index][1]  + dt * speed_view[planet_index][1] \\\n",
    "                                                + ((dt ** 2) / 2) * beschleunigung_view[1]\n",
    "        \n",
    "    new_postion_view[planet_index][2] = position_view[planet_index][2]  + dt * speed_view[planet_index][2] \\\n",
    "                                                + ((dt ** 2) / 2) * beschleunigung_view[2]"
   ]
  },
  {
   "cell_type": "code",
   "execution_count": 13,
   "metadata": {},
   "outputs": [
    {
     "name": "stdout",
     "output_type": "stream",
     "text": [
      "Writing ./cython_galaxy_extended/update_speed.pxd\n"
     ]
    }
   ],
   "source": [
    "%%file ./cython_galaxy_extended/update_speed.pxd\n",
    "cdef void update_speed (double [:, :], double [:, :], double [:], double, int) nogil"
   ]
  },
  {
   "cell_type": "code",
   "execution_count": 14,
   "metadata": {},
   "outputs": [
    {
     "name": "stdout",
     "output_type": "stream",
     "text": [
      "Writing ./cython_galaxy_extended/update_speed.pyx\n"
     ]
    }
   ],
   "source": [
    "%%file ./cython_galaxy_extended/update_speed.pyx\n",
    "cimport cython\n",
    "\n",
    "#Geschwindigkeits Aktuallisierung\n",
    "#geschwindigkeit[0][0]  += dt * Beschleunigung_Erde[0]\n",
    "@cython.boundscheck(False)\n",
    "@cython.cdivision(True)\n",
    "cdef void update_speed (double [:, :] speed_view, double [:, :] new_speed_view, \\\n",
    "                        double [:] beschleunigung_view, double dt ,int planet_index) nogil:\n",
    "    new_speed_view[planet_index][0] = speed_view[planet_index][0] + dt * beschleunigung_view[0]\n",
    "    new_speed_view[planet_index][1] = speed_view[planet_index][1] + dt * beschleunigung_view[1]\n",
    "    new_speed_view[planet_index][2] = speed_view[planet_index][2] + dt * beschleunigung_view[2]"
   ]
  },
  {
   "cell_type": "code",
   "execution_count": 15,
   "metadata": {},
   "outputs": [
    {
     "name": "stdout",
     "output_type": "stream",
     "text": [
      "Writing ./cython_galaxy_extended/loop.pyx\n"
     ]
    }
   ],
   "source": [
    "%%file ./cython_galaxy_extended/loop.pyx\n",
    "from cython.parallel import prange\n",
    "from abstand cimport Abstand\n",
    "from betrag cimport Betrag\n",
    "from kraft cimport Kraft\n",
    "from beschleunigung cimport Beschleunigung\n",
    "from update_position cimport update_position\n",
    "from update_speed cimport update_speed\n",
    "import numpy as np\n",
    "cimport cython\n",
    "\n",
    "@cython.boundscheck(False)\n",
    "cpdef Loop (args_iteration, python_position, python_speed, python_masse, pos_list):\n",
    "    \n",
    "    #Umwandeln in Numpy Arrays\n",
    "    position = np.array(python_position, dtype=np.float64)\n",
    "    speed = np.array(python_speed,dtype=np.float64)\n",
    "    masse = np.array(python_masse,dtype=np.float64)\n",
    "\n",
    "    #Umwandlung in MemoryView\n",
    "    cdef double [:, :] position_view = position\n",
    "    cdef double [:, :] speed_view = speed\n",
    "    cdef double [:, :] new_position_view = position\n",
    "    cdef double [:, :] new_speed_view = speed \n",
    "    cdef double [:] masse_view = masse\n",
    "\n",
    "    #Statische Variable\n",
    "    cdef int dt = 60\n",
    "    cdef int number_planets = len(python_position)\n",
    "    cdef int i, current_planet, planet\n",
    "    cdef int iteration = args_iteration\n",
    "    cdef int list_index\n",
    "    \n",
    "    #Temporaere MemoryView zum ZwischenSpeichern\n",
    "    cdef double [:] distance = np.array([0,0,0],  dtype=np.float64)\n",
    "    cdef double [:] magnitude = np.array([0],  dtype=np.float64)\n",
    "    cdef double [:] single_force = np.array([0,0,0],  dtype=np.float64)\n",
    "    cdef double [:] all_force = np.array([0,0,0],  dtype=np.float64)\n",
    "    cdef double [:] acceleration = np.array([0,0,0],  dtype=np.float64)\n",
    "    \n",
    "    print(\"finished Memory Allocation\")\n",
    "            \n",
    "    for i in range (iteration): \n",
    "      \n",
    "        for current_planet in prange (number_planets, nogil=True):\n",
    "                                   \n",
    "            all_force[0] = 0\n",
    "            all_force[1] = 0\n",
    "            all_force[2] = 0\n",
    "            \n",
    "            for planet in prange(number_planets):                \n",
    "                if (planet != current_planet):\n",
    "                    Abstand(position_view, distance, planet, current_planet)\n",
    "                    Betrag(distance, magnitude)\n",
    "                    Kraft(masse_view, distance, magnitude, planet, current_planet, single_force)\n",
    "                    all_force[0] += single_force[0]\n",
    "                    all_force[1] += single_force[1]\n",
    "                    all_force[2] += single_force[2]\n",
    "            \n",
    "            Beschleunigung(all_force, masse_view, current_planet, acceleration)\n",
    "            update_position(position_view, new_position_view, speed_view, acceleration, dt, current_planet) \n",
    "            update_speed(speed_view , new_speed_view, acceleration, dt, current_planet)          \n",
    "        \n",
    "        position_view = new_position_view\n",
    "        speed_view = new_speed_view\n",
    "        \n",
    "        pos_list_entry = []\n",
    "        for list_index in range(number_planets):\n",
    "            pos_list_entry.append(np.array((position_view[list_index][0], position_view[list_index][1],\\\n",
    "            position_view[list_index][2]), np.float64))\n",
    "        \n",
    "        pos_list.append(np.array(pos_list_entry, np.float64))\n",
    "            \n",
    "    print(\"Finished Calculation\")"
   ]
  },
  {
   "cell_type": "code",
   "execution_count": 16,
   "metadata": {},
   "outputs": [
    {
     "name": "stdout",
     "output_type": "stream",
     "text": [
      "Writing ./cython_galaxy_extended/setup.py\n"
     ]
    }
   ],
   "source": [
    "%%file ./cython_galaxy_extended/setup.py\n",
    "\n",
    "\n",
    "# Aufruf: python3 setup.py build_ext --inplace\n",
    "# Windows: zusaetzliche Option --compiler=mingw32\n",
    "from distutils.core import setup\n",
    "from distutils.extension import Extension\n",
    "from Cython.Distutils import build_ext\n",
    "import numpy\n",
    "\n",
    "\n",
    "ext_modules=[ Extension(\"abstand\", [\"abstand.pyx\"],\n",
    "        extra_compile_args=['-O3'], libraries=['m']),\n",
    "             Extension(\"betrag\", [\"betrag.pyx\"],\n",
    "        extra_compile_args=['-O3'], libraries=['m']),\n",
    "              Extension(\"kraft\", [\"kraft.pyx\"],\n",
    "        extra_compile_args=['-O3'], libraries=['m']),\n",
    "             Extension(\"beschleunigung\", [\"beschleunigung.pyx\"],\n",
    "        extra_compile_args=['-O3'], libraries=['m']),\n",
    "             Extension(\"update_position\", [\"update_position.pyx\"],\n",
    "        extra_compile_args=['-O3'], libraries=['m']),\n",
    "             Extension(\"update_speed\", [\"update_speed.pyx\"],\n",
    "        extra_compile_args=['-O3'], libraries=['m']),\n",
    "             Extension(\"loop\", [\"loop.pyx\"],\n",
    "        extra_compile_args=['-O3'], libraries=['m'])\n",
    "        \n",
    "        #Maybe needed\n",
    "        #extra_compile_args=['-O3'], libraries=['m'],\n",
    "        #include_dirs=[numpy.get_include()]),\n",
    "]\n",
    "             \n",
    "setup( name = 'cython demo',\n",
    "  cmdclass = {'build_ext': build_ext},\n",
    "  ext_modules = ext_modules,\n",
    "     include_dirs=[numpy.get_include()])\n",
    "\n"
   ]
  },
  {
   "cell_type": "markdown",
   "metadata": {},
   "source": [
    "## Compile Cython"
   ]
  },
  {
   "cell_type": "code",
   "execution_count": 17,
   "metadata": {
    "scrolled": false
   },
   "outputs": [
    {
     "name": "stdout",
     "output_type": "stream",
     "text": [
      "running build_ext\n",
      "cythoning abstand.pyx to abstand.c\n",
      "building 'abstand' extension\n",
      "creating build\n",
      "creating build/temp.linux-x86_64-3.6\n",
      "gcc -pthread -B /opt/anaconda/compiler_compat -Wl,--sysroot=/ -Wsign-compare -DNDEBUG -g -fwrapv -O3 -Wall -Wstrict-prototypes -fPIC -I/opt/anaconda/lib/python3.6/site-packages/numpy/core/include -I/opt/anaconda/include/python3.6m -c abstand.c -o build/temp.linux-x86_64-3.6/abstand.o -O3\n",
      "gcc -pthread -shared -B /opt/anaconda/compiler_compat -L/opt/anaconda/lib -Wl,-rpath=/opt/anaconda/lib -Wl,--no-as-needed -Wl,--sysroot=/ build/temp.linux-x86_64-3.6/abstand.o -L/opt/anaconda/lib -lm -lpython3.6m -o /home/shiroten/Nextcloud/Studium Dokumente/Aktuelles Semester/Rösch - Programmieren 3/Planetary-Python-Project/Source/Shiroten/cython_galaxy_extended/abstand.cpython-36m-x86_64-linux-gnu.so\n",
      "cythoning betrag.pyx to betrag.c\n",
      "building 'betrag' extension\n",
      "gcc -pthread -B /opt/anaconda/compiler_compat -Wl,--sysroot=/ -Wsign-compare -DNDEBUG -g -fwrapv -O3 -Wall -Wstrict-prototypes -fPIC -I/opt/anaconda/lib/python3.6/site-packages/numpy/core/include -I/opt/anaconda/include/python3.6m -c betrag.c -o build/temp.linux-x86_64-3.6/betrag.o -O3\n",
      "gcc -pthread -shared -B /opt/anaconda/compiler_compat -L/opt/anaconda/lib -Wl,-rpath=/opt/anaconda/lib -Wl,--no-as-needed -Wl,--sysroot=/ build/temp.linux-x86_64-3.6/betrag.o -L/opt/anaconda/lib -lm -lpython3.6m -o /home/shiroten/Nextcloud/Studium Dokumente/Aktuelles Semester/Rösch - Programmieren 3/Planetary-Python-Project/Source/Shiroten/cython_galaxy_extended/betrag.cpython-36m-x86_64-linux-gnu.so\n",
      "cythoning kraft.pyx to kraft.c\n",
      "building 'kraft' extension\n",
      "gcc -pthread -B /opt/anaconda/compiler_compat -Wl,--sysroot=/ -Wsign-compare -DNDEBUG -g -fwrapv -O3 -Wall -Wstrict-prototypes -fPIC -I/opt/anaconda/lib/python3.6/site-packages/numpy/core/include -I/opt/anaconda/include/python3.6m -c kraft.c -o build/temp.linux-x86_64-3.6/kraft.o -O3\n",
      "gcc -pthread -shared -B /opt/anaconda/compiler_compat -L/opt/anaconda/lib -Wl,-rpath=/opt/anaconda/lib -Wl,--no-as-needed -Wl,--sysroot=/ build/temp.linux-x86_64-3.6/kraft.o -L/opt/anaconda/lib -lm -lpython3.6m -o /home/shiroten/Nextcloud/Studium Dokumente/Aktuelles Semester/Rösch - Programmieren 3/Planetary-Python-Project/Source/Shiroten/cython_galaxy_extended/kraft.cpython-36m-x86_64-linux-gnu.so\n",
      "cythoning beschleunigung.pyx to beschleunigung.c\n",
      "building 'beschleunigung' extension\n",
      "gcc -pthread -B /opt/anaconda/compiler_compat -Wl,--sysroot=/ -Wsign-compare -DNDEBUG -g -fwrapv -O3 -Wall -Wstrict-prototypes -fPIC -I/opt/anaconda/lib/python3.6/site-packages/numpy/core/include -I/opt/anaconda/include/python3.6m -c beschleunigung.c -o build/temp.linux-x86_64-3.6/beschleunigung.o -O3\n",
      "gcc -pthread -shared -B /opt/anaconda/compiler_compat -L/opt/anaconda/lib -Wl,-rpath=/opt/anaconda/lib -Wl,--no-as-needed -Wl,--sysroot=/ build/temp.linux-x86_64-3.6/beschleunigung.o -L/opt/anaconda/lib -lm -lpython3.6m -o /home/shiroten/Nextcloud/Studium Dokumente/Aktuelles Semester/Rösch - Programmieren 3/Planetary-Python-Project/Source/Shiroten/cython_galaxy_extended/beschleunigung.cpython-36m-x86_64-linux-gnu.so\n",
      "cythoning update_position.pyx to update_position.c\n",
      "building 'update_position' extension\n",
      "gcc -pthread -B /opt/anaconda/compiler_compat -Wl,--sysroot=/ -Wsign-compare -DNDEBUG -g -fwrapv -O3 -Wall -Wstrict-prototypes -fPIC -I/opt/anaconda/lib/python3.6/site-packages/numpy/core/include -I/opt/anaconda/include/python3.6m -c update_position.c -o build/temp.linux-x86_64-3.6/update_position.o -O3\n",
      "gcc -pthread -shared -B /opt/anaconda/compiler_compat -L/opt/anaconda/lib -Wl,-rpath=/opt/anaconda/lib -Wl,--no-as-needed -Wl,--sysroot=/ build/temp.linux-x86_64-3.6/update_position.o -L/opt/anaconda/lib -lm -lpython3.6m -o /home/shiroten/Nextcloud/Studium Dokumente/Aktuelles Semester/Rösch - Programmieren 3/Planetary-Python-Project/Source/Shiroten/cython_galaxy_extended/update_position.cpython-36m-x86_64-linux-gnu.so\n",
      "cythoning update_speed.pyx to update_speed.c\n",
      "building 'update_speed' extension\n",
      "gcc -pthread -B /opt/anaconda/compiler_compat -Wl,--sysroot=/ -Wsign-compare -DNDEBUG -g -fwrapv -O3 -Wall -Wstrict-prototypes -fPIC -I/opt/anaconda/lib/python3.6/site-packages/numpy/core/include -I/opt/anaconda/include/python3.6m -c update_speed.c -o build/temp.linux-x86_64-3.6/update_speed.o -O3\n",
      "gcc -pthread -shared -B /opt/anaconda/compiler_compat -L/opt/anaconda/lib -Wl,-rpath=/opt/anaconda/lib -Wl,--no-as-needed -Wl,--sysroot=/ build/temp.linux-x86_64-3.6/update_speed.o -L/opt/anaconda/lib -lm -lpython3.6m -o /home/shiroten/Nextcloud/Studium Dokumente/Aktuelles Semester/Rösch - Programmieren 3/Planetary-Python-Project/Source/Shiroten/cython_galaxy_extended/update_speed.cpython-36m-x86_64-linux-gnu.so\n",
      "cythoning loop.pyx to loop.c\n",
      "building 'loop' extension\n",
      "gcc -pthread -B /opt/anaconda/compiler_compat -Wl,--sysroot=/ -Wsign-compare -DNDEBUG -g -fwrapv -O3 -Wall -Wstrict-prototypes -fPIC -I/opt/anaconda/lib/python3.6/site-packages/numpy/core/include -I/opt/anaconda/include/python3.6m -c loop.c -o build/temp.linux-x86_64-3.6/loop.o -O3\n",
      "gcc -pthread -shared -B /opt/anaconda/compiler_compat -L/opt/anaconda/lib -Wl,-rpath=/opt/anaconda/lib -Wl,--no-as-needed -Wl,--sysroot=/ build/temp.linux-x86_64-3.6/loop.o -L/opt/anaconda/lib -lm -lpython3.6m -o /home/shiroten/Nextcloud/Studium Dokumente/Aktuelles Semester/Rösch - Programmieren 3/Planetary-Python-Project/Source/Shiroten/cython_galaxy_extended/loop.cpython-36m-x86_64-linux-gnu.so\n"
     ]
    }
   ],
   "source": [
    "%%bash\n",
    "cd ./cython_galaxy_extended\n",
    "#Compilen\n",
    "python3 setup.py build_ext --inplace"
   ]
  },
  {
   "cell_type": "markdown",
   "metadata": {},
   "source": [
    "## Start in Juypter"
   ]
  },
  {
   "cell_type": "code",
   "execution_count": 18,
   "metadata": {},
   "outputs": [],
   "source": [
    "%load_ext Cython"
   ]
  },
  {
   "cell_type": "code",
   "execution_count": 23,
   "metadata": {
    "collapsed": true
   },
   "outputs": [],
   "source": [
    "#Sonnesystem\n",
    "\n",
    "python_position = [\n",
    "    #\"Sun\"\n",
    "    [0, 0, 0],     \n",
    "    #\"Mercury\"\n",
    "    [57_909_175_000, 0, 0], \n",
    "    #\"Venus\"\n",
    "    [108_208_930_000, 0, 0],    \n",
    "    #\"Earth\"\n",
    "    [149_597_890_000, 0, 0],    \n",
    "    #\"Moon\"\n",
    "    [149_597_890_000, 384_400_000, 0],    \n",
    "    #\"Mars\"\n",
    "    [227_936_640_000, 0, 0],    \n",
    "    #\"Jupiter\"\n",
    "    [778_412_020_000, 0, 0],    \n",
    "    #\"Saturn\"\n",
    "    [1_426_725_400_000, 0, 0],    \n",
    "    #\"Uranus\"\n",
    "    [2_870_972_200_000, 0, 0],    \n",
    "    #\"Neptune\"\n",
    "    [4_498_252_900_000, 0, 0]\n",
    "]\n",
    "\n",
    "python_geschwindigkeit = [\n",
    "    #\"Sun\"\n",
    "    [0, 0, 0],     \n",
    "    #\"Mercury\"\n",
    "    [0, 47_872, 0], \n",
    "    #\"Venus\"\n",
    "    [0, 35_021, 0],    \n",
    "    #\"Earth\"\n",
    "    [0, 29_786, 0],    \n",
    "    #\"Moon\"\n",
    "    [-1_022, 0, 0],    \n",
    "    #\"Mars\"\n",
    "    [0, 24_131, 0],    \n",
    "    #\"Jupiter\"\n",
    "    [0, 13_069, 0],    \n",
    "    #\"Saturn\"\n",
    "    [0, 9_672, 0],    \n",
    "    #\"Uranus\"\n",
    "    [0, 6_835, 0],    \n",
    "    #\"Neptune\"\n",
    "    [0, 5_477, 0]\n",
    "]\n",
    "\n",
    "python_masse = [\n",
    "    #\"Sun\"\n",
    "    1.9889 * 10 ** 30,     \n",
    "    #\"Mercury\"\n",
    "    3.3022 * 10 ** 23, \n",
    "    #\"Venus\"\n",
    "    4.8685 * 10 ** 24,    \n",
    "    #\"Earth\"\n",
    "    5.97219 * 10 ** 24,    \n",
    "    #\"Moon\"\n",
    "    7.34767309 * 10 ** 22,    \n",
    "    #\"Mars\"\n",
    "    6.4185 * 10 ** 23,    \n",
    "    #\"Jupiter\"\n",
    "    1.8987 * 10 ** 27,    \n",
    "    #\"Saturn\"\n",
    "    5.6851 * 10 ** 26,    \n",
    "    #\"Uranus\"\n",
    "    8.6849 * 10 ** 25,    \n",
    "    #\"Neptune\"\n",
    "    1.0244 * 10 ** 26\n",
    "]"
   ]
  },
  {
   "cell_type": "code",
   "execution_count": 19,
   "metadata": {
    "collapsed": true
   },
   "outputs": [],
   "source": [
    "#Erde und Sonne alleine\n",
    "\n",
    "python_position = [\n",
    "    #\"Sun\"\n",
    "    [0, 0, 0],       \n",
    "    #\"Earth\"\n",
    "    [149_597_890_000, 0, 0]\n",
    "]\n",
    "\n",
    "python_geschwindigkeit = [\n",
    "    #\"Sun\"\n",
    "    [0, 0, 0],      \n",
    "    #\"Earth\"\n",
    "    [0, 29_786, 0]   \n",
    "]\n",
    "\n",
    "python_masse = [\n",
    "    #\"Sun\"\n",
    "    1.9889 * 10 ** 30,     \n",
    "    #\"Earth\"\n",
    "    5.97219 * 10 ** 24\n",
    "]"
   ]
  },
  {
   "cell_type": "code",
   "execution_count": 24,
   "metadata": {},
   "outputs": [
    {
     "name": "stdout",
     "output_type": "stream",
     "text": [
      "finished Memory Allocation\n",
      "Finished Calculation\n"
     ]
    }
   ],
   "source": [
    "import os\n",
    "import sys\n",
    "module_path = os.path.abspath(os.path.join('..'))\n",
    "if module_path not in sys.path:\n",
    "    sys.path.append(\"./cython_galaxy_extended\")\n",
    "\n",
    "from loop import Loop\n",
    "import matplotlib.pyplot as plt\n",
    "\n",
    "plot_list = []\n",
    "iteration = 60 * 24 * 365 * 2\n",
    "Loop(iteration, python_position, python_geschwindigkeit, python_masse, plot_list)"
   ]
  },
  {
   "cell_type": "code",
   "execution_count": 41,
   "metadata": {},
   "outputs": [
    {
     "data": {
      "image/png": "[encoded data removed]",
      "text/plain": [
       "<matplotlib.figure.Figure at 0x7fdb50d37cc0>"
      ]
     },
     "metadata": {},
     "output_type": "display_data"
    },
    {
     "data": {
      "image/png": "[encoded data removed]",
      "text/plain": [
       "<matplotlib.figure.Figure at 0x7fdb508ff828>"
      ]
     },
     "metadata": {},
     "output_type": "display_data"
    },
    {
     "data": {
      "image/png": "[encoded data removed]",
      "text/plain": [
       "<matplotlib.figure.Figure at 0x7fdb51a7a518>"
      ]
     },
     "metadata": {},
     "output_type": "display_data"
    },
    {
     "data": {
      "image/png": "[encoded data removed]",
      "text/plain": [
       "<matplotlib.figure.Figure at 0x7fdb517f6550>"
      ]
     },
     "metadata": {},
     "output_type": "display_data"
    },
    {
     "data": {
      "image/png": "[encoded data removed]",
      "text/plain": [
       "<matplotlib.figure.Figure at 0x7fdb4752e908>"
      ]
     },
     "metadata": {},
     "output_type": "display_data"
    },
    {
     "data": {
      "image/png": "[encoded data removed]",
      "text/plain": [
       "<matplotlib.figure.Figure at 0x7fdb4758b9e8>"
      ]
     },
     "metadata": {},
     "output_type": "display_data"
    },
    {
     "data": {
      "image/png": "[encoded data removed]",
      "text/plain": [
       "<matplotlib.figure.Figure at 0x7fdb51a09780>"
      ]
     },
     "metadata": {},
     "output_type": "display_data"
    },
    {
     "data": {
      "image/png": "[encoded data removed]",
      "text/plain": [
       "<matplotlib.figure.Figure at 0x7fdb60049f98>"
      ]
     },
     "metadata": {},
     "output_type": "display_data"
    },
    {
     "data": {
      "image/png": "[encoded data removed]",
      "text/plain": [
       "<matplotlib.figure.Figure at 0x7fdb51ef5898>"
      ]
     },
     "metadata": {},
     "output_type": "display_data"
    },
    {
     "data": {
      "image/png": "[encoded data removed]",
      "text/plain": [
       "<matplotlib.figure.Figure at 0x7fdb51a7c0b8>"
      ]
     },
     "metadata": {},
     "output_type": "display_data"
    },
    {
     "name": "stdout",
     "output_type": "stream",
     "text": [
      "plot_list_length 1051200\n",
      "[[  5.07429408e-04   1.01316701e-09   0.00000000e+00]\n",
      " [  5.79091749e+10   2.87232000e+06   0.00000000e+00]\n",
      " [  1.08208930e+11   2.10126000e+06   0.00000000e+00]\n",
      " [  1.49597890e+11   1.78716006e+06   0.00000000e+00]\n",
      " [  1.49597829e+11   3.84399995e+08   0.00000000e+00]\n",
      " [  2.27936640e+11   1.44786000e+06   0.00000000e+00]\n",
      " [  7.78412020e+11   7.84140000e+05   0.00000000e+00]\n",
      " [  1.42672540e+12   5.80320000e+05   0.00000000e+00]\n",
      " [  2.87097220e+12   4.10100000e+05   0.00000000e+00]\n",
      " [  4.49825290e+12   3.28620000e+05   0.00000000e+00]]\n",
      "[[  2.02971763e-03   6.39414847e-09   0.00000000e+00]\n",
      " [  5.79091747e+10   5.74464000e+06   0.00000000e+00]\n",
      " [  1.08208930e+11   4.20252000e+06   0.00000000e+00]\n",
      " [  1.49597890e+11   3.57432024e+06   0.00000000e+00]\n",
      " [  1.49597767e+11   3.84399980e+08   0.00000000e+00]\n",
      " [  2.27936640e+11   2.89572000e+06   0.00000000e+00]\n",
      " [  7.78412020e+11   1.56828000e+06   0.00000000e+00]\n",
      " [  1.42672540e+12   1.16064000e+06   0.00000000e+00]\n",
      " [  2.87097220e+12   8.20200000e+05   0.00000000e+00]\n",
      " [  4.49825290e+12   6.57240000e+05   0.00000000e+00]]\n",
      "[[  4.56686468e-03   2.08259052e-08   0.00000000e+00]\n",
      " [  5.79091744e+10   8.61695998e+06   0.00000000e+00]\n",
      " [  1.08208930e+11   6.30378000e+06   0.00000000e+00]\n",
      " [  1.49597890e+11   5.36148054e+06   0.00000000e+00]\n",
      " [  1.49597706e+11   3.84399955e+08   0.00000000e+00]\n",
      " [  2.27936640e+11   4.34358000e+06   0.00000000e+00]\n",
      " [  7.78412020e+11   2.35242000e+06   0.00000000e+00]\n",
      " [  1.42672540e+12   1.74096000e+06   0.00000000e+00]\n",
      " [  2.87097220e+12   1.23030000e+06   0.00000000e+00]\n",
      " [  4.49825290e+12   9.85860000e+05   0.00000000e+00]]\n",
      "[[  8.11887054e-03   4.89913980e-08   0.00000000e+00]\n",
      " [  5.79091739e+10   1.14892800e+07   0.00000000e+00]\n",
      " [  1.08208930e+11   8.40503999e+06   0.00000000e+00]\n",
      " [  1.49597890e+11   7.14864096e+06   0.00000000e+00]\n",
      " [  1.49597645e+11   3.84399921e+08   0.00000000e+00]\n",
      " [  2.27936640e+11   5.79144000e+06   0.00000000e+00]\n",
      " [  7.78412020e+11   3.13656000e+06   0.00000000e+00]\n",
      " [  1.42672540e+12   2.32128000e+06   0.00000000e+00]\n",
      " [  2.87097220e+12   1.64040000e+06   0.00000000e+00]\n",
      " [  4.49825290e+12   1.31448000e+06   0.00000000e+00]]\n",
      "[[  1.26857352e-02   9.55735877e-08   0.00000000e+00]\n",
      " [  5.79091732e+10   1.43615999e+07   0.00000000e+00]\n",
      " [  1.08208929e+11   1.05063000e+07   0.00000000e+00]\n",
      " [  1.49597890e+11   8.93580151e+06   0.00000000e+00]\n",
      " [  1.49597583e+11   3.84399875e+08   0.00000000e+00]\n",
      " [  2.27936640e+11   7.23930000e+06   0.00000000e+00]\n",
      " [  7.78412020e+11   3.92070000e+06   0.00000000e+00]\n",
      " [  1.42672540e+12   2.90160000e+06   0.00000000e+00]\n",
      " [  2.87097220e+12   2.05050000e+06   0.00000000e+00]\n",
      " [  4.49825290e+12   1.64310000e+06   0.00000000e+00]]\n",
      "[[  1.82674587e-02   1.65255435e-07   0.00000000e+00]\n",
      " [  5.79091724e+10   1.72339198e+07   0.00000000e+00]\n",
      " [  1.08208929e+11   1.26075600e+07   0.00000000e+00]\n",
      " [  1.49597890e+11   1.07229622e+07   0.00000000e+00]\n",
      " [  1.49597522e+11   3.84399820e+08   0.00000000e+00]\n",
      " [  2.27936640e+11   8.68716000e+06   0.00000000e+00]\n",
      " [  7.78412020e+11   4.70484000e+06   0.00000000e+00]\n",
      " [  1.42672540e+12   3.48192000e+06   0.00000000e+00]\n",
      " [  2.87097220e+12   2.46060000e+06   0.00000000e+00]\n",
      " [  4.49825290e+12   1.97172000e+06   0.00000000e+00]]\n",
      "[[  2.48640410e-02   2.62719901e-07   0.00000000e+00]\n",
      " [  5.79091715e+10   2.01062397e+07   0.00000000e+00]\n",
      " [  1.08208929e+11   1.47088200e+07   0.00000000e+00]\n",
      " [  1.49597889e+11   1.25101230e+07   0.00000000e+00]\n",
      " [  1.49597460e+11   3.84399754e+08   0.00000000e+00]\n",
      " [  2.27936640e+11   1.01350200e+07   0.00000000e+00]\n",
      " [  7.78412020e+11   5.48898000e+06   0.00000000e+00]\n",
      " [  1.42672540e+12   4.06224000e+06   0.00000000e+00]\n",
      " [  2.87097220e+12   2.87070000e+06   0.00000000e+00]\n",
      " [  4.49825290e+12   2.30034000e+06   0.00000000e+00]]\n",
      "[[  3.24754822e-02   3.92649946e-07   0.00000000e+00]\n",
      " [  5.79091704e+10   2.29785595e+07   0.00000000e+00]\n",
      " [  1.08208929e+11   1.68100799e+07   0.00000000e+00]\n",
      " [  1.49597889e+11   1.42972839e+07   0.00000000e+00]\n",
      " [  1.49597399e+11   3.84399678e+08   0.00000000e+00]\n",
      " [  2.27936640e+11   1.15828800e+07   0.00000000e+00]\n",
      " [  7.78412020e+11   6.27312000e+06   0.00000000e+00]\n",
      " [  1.42672540e+12   4.64256000e+06   0.00000000e+00]\n",
      " [  2.87097220e+12   3.28080000e+06   0.00000000e+00]\n",
      " [  4.49825290e+12   2.62896000e+06   0.00000000e+00]]\n",
      "[[  4.11017821e-02   5.59728531e-07   0.00000000e+00]\n",
      " [  5.79091692e+10   2.58508793e+07   0.00000000e+00]\n",
      " [  1.08208928e+11   1.89113399e+07   0.00000000e+00]\n",
      " [  1.49597889e+11   1.60844449e+07   0.00000000e+00]\n",
      " [  1.49597337e+11   3.84399591e+08   0.00000000e+00]\n",
      " [  2.27936640e+11   1.30307400e+07   0.00000000e+00]\n",
      " [  7.78412020e+11   7.05726000e+06   0.00000000e+00]\n",
      " [  1.42672540e+12   5.22288000e+06   0.00000000e+00]\n",
      " [  2.87097220e+12   3.69090000e+06   0.00000000e+00]\n",
      " [  4.49825290e+12   2.95758000e+06   0.00000000e+00]]\n",
      "[[  5.07429409e-02   7.68638617e-07   0.00000000e+00]\n",
      " [  5.79091679e+10   2.87231990e+07   0.00000000e+00]\n",
      " [  1.08208928e+11   2.10125999e+07   0.00000000e+00]\n",
      " [  1.49597889e+11   1.78716061e+07   0.00000000e+00]\n",
      " [  1.49597276e+11   3.84399494e+08   0.00000000e+00]\n",
      " [  2.27936640e+11   1.44786000e+07   0.00000000e+00]\n",
      " [  7.78412020e+11   7.84140000e+06   0.00000000e+00]\n",
      " [  1.42672540e+12   5.80320000e+06   0.00000000e+00]\n",
      " [  2.87097220e+12   4.10100000e+06   0.00000000e+00]\n",
      " [  4.49825290e+12   3.28620000e+06   0.00000000e+00]]\n",
      "[[  6.13989585e-02   1.02406316e-06   0.00000000e+00]\n",
      " [  5.79091664e+10   3.15955186e+07   0.00000000e+00]\n",
      " [  1.08208928e+11   2.31138598e+07   0.00000000e+00]\n",
      " [  1.49597889e+11   1.96587674e+07   0.00000000e+00]\n",
      " [  1.49597214e+11   3.84399386e+08   0.00000000e+00]\n",
      " [  2.27936639e+11   1.59264600e+07   0.00000000e+00]\n",
      " [  7.78412020e+11   8.62554000e+06   0.00000000e+00]\n",
      " [  1.42672540e+12   6.38352000e+06   0.00000000e+00]\n",
      " [  2.87097220e+12   4.51110000e+06   0.00000000e+00]\n",
      " [  4.49825290e+12   3.61482000e+06   0.00000000e+00]]\n",
      "[[  7.30698349e-02   1.33068513e-06   0.00000000e+00]\n",
      " [  5.79091647e+10   3.44678382e+07   0.00000000e+00]\n",
      " [  1.08208927e+11   2.52151198e+07   0.00000000e+00]\n",
      " [  1.49597888e+11   2.14459288e+07   0.00000000e+00]\n",
      " [  1.49597153e+11   3.84399266e+08   0.00000000e+00]\n",
      " [  2.27936639e+11   1.73743200e+07   0.00000000e+00]\n",
      " [  7.78412020e+11   9.40968000e+06   0.00000000e+00]\n",
      " [  1.42672540e+12   6.96384000e+06   0.00000000e+00]\n",
      " [  2.87097220e+12   4.92120000e+06   0.00000000e+00]\n",
      " [  4.49825290e+12   3.94344000e+06   0.00000000e+00]]\n",
      "[[  8.57555701e-02   1.69318749e-06   0.00000000e+00]\n",
      " [  5.79091630e+10   3.73401577e+07   0.00000000e+00]\n",
      " [  1.08208927e+11   2.73163797e+07   0.00000000e+00]\n",
      " [  1.49597888e+11   2.32330904e+07   0.00000000e+00]\n",
      " [  1.49597091e+11   3.84399136e+08   0.00000000e+00]\n",
      " [  2.27936639e+11   1.88221800e+07   0.00000000e+00]\n",
      " [  7.78412020e+11   1.01938200e+07   0.00000000e+00]\n",
      " [  1.42672540e+12   7.54416000e+06   0.00000000e+00]\n",
      " [  2.87097220e+12   5.33130000e+06   0.00000000e+00]\n",
      " [  4.49825290e+12   4.27206000e+06   0.00000000e+00]]\n",
      "[[  9.94561641e-02   2.11625318e-06   0.00000000e+00]\n",
      " [  5.79091610e+10   4.02124771e+07   0.00000000e+00]\n",
      " [  1.08208926e+11   2.94176397e+07   0.00000000e+00]\n",
      " [  1.49597888e+11   2.50202521e+07   0.00000000e+00]\n",
      " [  1.49597029e+11   3.84398995e+08   0.00000000e+00]\n",
      " [  2.27936639e+11   2.02700400e+07   0.00000000e+00]\n",
      " [  7.78412020e+11   1.09779600e+07   0.00000000e+00]\n",
      " [  1.42672540e+12   8.12448000e+06   0.00000000e+00]\n",
      " [  2.87097220e+12   5.74140000e+06   0.00000000e+00]\n",
      " [  4.49825290e+12   4.60068000e+06   0.00000000e+00]]\n",
      "[[  1.14171617e-01   2.60456518e-06   0.00000000e+00]\n",
      " [  5.79091590e+10   4.30847964e+07   0.00000000e+00]\n",
      " [  1.08208925e+11   3.15188996e+07   0.00000000e+00]\n",
      " [  1.49597888e+11   2.68074139e+07   0.00000000e+00]\n",
      " [  1.49596968e+11   3.84398843e+08   0.00000000e+00]\n",
      " [  2.27936639e+11   2.17179000e+07   0.00000000e+00]\n",
      " [  7.78412020e+11   1.17621000e+07   0.00000000e+00]\n",
      " [  1.42672540e+12   8.70480000e+06   0.00000000e+00]\n",
      " [  2.87097220e+12   6.15150000e+06   0.00000000e+00]\n",
      " [  4.49825290e+12   4.92930000e+06   0.00000000e+00]]\n",
      "[[  1.29901929e-01   3.16280644e-06   0.00000000e+00]\n",
      " [  5.79091568e+10   4.59571156e+07   0.00000000e+00]\n",
      " [  1.08208925e+11   3.36201595e+07   0.00000000e+00]\n",
      " [  1.49597887e+11   2.85945759e+07   0.00000000e+00]\n",
      " [  1.49596906e+11   3.84398679e+08   0.00000000e+00]\n",
      " [  2.27936639e+11   2.31657600e+07   0.00000000e+00]\n",
      " [  7.78412020e+11   1.25462400e+07   0.00000000e+00]\n",
      " [  1.42672540e+12   9.28512000e+06   0.00000000e+00]\n",
      " [  2.87097220e+12   6.56160000e+06   0.00000000e+00]\n",
      " [  4.49825290e+12   5.25792000e+06   0.00000000e+00]]\n",
      "[[  1.46647099e-01   3.79565993e-06   0.00000000e+00]\n",
      " [  5.79091544e+10   4.88294347e+07   0.00000000e+00]\n",
      " [  1.08208924e+11   3.57214194e+07   0.00000000e+00]\n",
      " [  1.49597887e+11   3.03817379e+07   0.00000000e+00]\n",
      " [  1.49596844e+11   3.84398503e+08   0.00000000e+00]\n",
      " [  2.27936639e+11   2.46136200e+07   0.00000000e+00]\n",
      " [  7.78412020e+11   1.33303800e+07   0.00000000e+00]\n",
      " [  1.42672540e+12   9.86544000e+06   0.00000000e+00]\n",
      " [  2.87097220e+12   6.97170000e+06   0.00000000e+00]\n",
      " [  4.49825290e+12   5.58654000e+06   0.00000000e+00]]\n",
      "[[  1.64407128e-01   4.50780861e-06   0.00000000e+00]\n",
      " [  5.79091519e+10   5.17017537e+07   0.00000000e+00]\n",
      " [  1.08208923e+11   3.78226793e+07   0.00000000e+00]\n",
      " [  1.49597887e+11   3.21689002e+07   0.00000000e+00]\n",
      " [  1.49596783e+11   3.84398317e+08   0.00000000e+00]\n",
      " [  2.27936639e+11   2.60614799e+07   0.00000000e+00]\n",
      " [  7.78412020e+11   1.41145200e+07   0.00000000e+00]\n",
      " [  1.42672540e+12   1.04457600e+07   0.00000000e+00]\n",
      " [  2.87097220e+12   7.38180000e+06   0.00000000e+00]\n",
      " [  4.49825290e+12   5.91516000e+06   0.00000000e+00]]\n",
      "[[  1.83182017e-01   5.30393542e-06   0.00000000e+00]\n",
      " [  5.79091493e+10   5.45740725e+07   0.00000000e+00]\n",
      " [  1.08208923e+11   3.99239392e+07   0.00000000e+00]\n",
      " [  1.49597886e+11   3.39560625e+07   0.00000000e+00]\n",
      " [  1.49596721e+11   3.84398118e+08   0.00000000e+00]\n",
      " [  2.27936638e+11   2.75093399e+07   0.00000000e+00]\n",
      " [  7.78412020e+11   1.48986600e+07   0.00000000e+00]\n",
      " [  1.42672540e+12   1.10260800e+07   0.00000000e+00]\n",
      " [  2.87097220e+12   7.79190000e+06   0.00000000e+00]\n",
      " [  4.49825290e+12   6.24378000e+06   0.00000000e+00]]\n",
      "[[  2.02971763e-01   6.18872335e-06   0.00000000e+00]\n",
      " [  5.79091465e+10   5.74463913e+07   0.00000000e+00]\n",
      " [  1.08208922e+11   4.20251990e+07   0.00000000e+00]\n",
      " [  1.49597886e+11   3.57432250e+07   0.00000000e+00]\n",
      " [  1.49596659e+11   3.84397908e+08   0.00000000e+00]\n",
      " [  2.27936638e+11   2.89571999e+07   0.00000000e+00]\n",
      " [  7.78412020e+11   1.56828000e+07   0.00000000e+00]\n",
      " [  1.42672540e+12   1.16064000e+07   0.00000000e+00]\n",
      " [  2.87097220e+12   8.20200000e+06   0.00000000e+00]\n",
      " [  4.49825290e+12   6.57240000e+06   0.00000000e+00]]\n"
     ]
    }
   ],
   "source": [
    "plt.subplot(111)\n",
    "plt.plot([x[0][0] for x in plot_list], [x[0][1] for x in plot_list], label=\"Sun\")\n",
    "plt.legend(bbox_to_anchor=(1.05, 1), loc=2, borderaxespad=0.)\n",
    "plt.show()\n",
    "\n",
    "plt.subplot(111)\n",
    "plt.plot([x[1][0] for x in plot_list], [x[1][1] for x in plot_list], label=\"Mercury\")\n",
    "plt.legend(bbox_to_anchor=(1.05, 1), loc=2, borderaxespad=0.)\n",
    "plt.show()\n",
    "\n",
    "plt.subplot(111)\n",
    "plt.plot([x[2][0] for x in plot_list], [x[2][1] for x in plot_list], label=\"Venus\")\n",
    "plt.legend(bbox_to_anchor=(1.05, 1), loc=2, borderaxespad=0.)\n",
    "plt.show()\n",
    "\n",
    "plt.subplot(111)\n",
    "plt.plot([x[3][0] for x in plot_list], [x[3][1] for x in plot_list], label=\"Earth\")\n",
    "plt.legend(bbox_to_anchor=(1.05, 1), loc=2, borderaxespad=0.)\n",
    "plt.show()\n",
    "\n",
    "plt.subplot(111)\n",
    "plt.plot([x[4][0] for x in plot_list], [x[4][1] for x in plot_list], label=\"Moon\")\n",
    "plt.legend(bbox_to_anchor=(1.05, 1), loc=2, borderaxespad=0.)\n",
    "plt.show()\n",
    "\n",
    "plt.subplot(111)\n",
    "plt.plot([x[5][0] for x in plot_list], [x[5][1] for x in plot_list], label=\"Mars\")\n",
    "plt.legend(bbox_to_anchor=(1.05, 1), loc=2, borderaxespad=0.)\n",
    "plt.show()\n",
    "\n",
    "plt.subplot(111)\n",
    "plt.plot([x[6][0] for x in plot_list], [x[6][1] for x in plot_list], label=\"Jupiter\")\n",
    "plt.legend(bbox_to_anchor=(1.05, 1), loc=2, borderaxespad=0.)\n",
    "plt.show()\n",
    "\n",
    "plt.subplot(111)\n",
    "plt.plot([x[7][0] for x in plot_list], [x[7][1] for x in plot_list], label=\"Saturn\")\n",
    "plt.legend(bbox_to_anchor=(1.05, 1), loc=2, borderaxespad=0.)\n",
    "plt.show()\n",
    "\n",
    "plt.subplot(111)\n",
    "plt.plot([x[8][0] for x in plot_list], [x[8][1] for x in plot_list], label=\"Uranus\")\n",
    "plt.legend(bbox_to_anchor=(1.05, 1), loc=2, borderaxespad=0.)\n",
    "plt.show()\n",
    "\n",
    "plt.subplot(111)\n",
    "plt.plot([x[9][0] for x in plot_list], [x[9][1] for x in plot_list], label=\"Neptune\")\n",
    "plt.legend(bbox_to_anchor=(1.05, 1), loc=2, borderaxespad=0.)\n",
    "plt.show()\n",
    "\n",
    "print(\"plot_list_length\", len(plot_list))\n",
    "for _ in range (20):\n",
    "    print(plot_list[_])"
   ]
  },
  {
   "cell_type": "markdown",
   "metadata": {},
   "source": [
    "## Start as File"
   ]
  },
  {
   "cell_type": "code",
   "execution_count": 40,
   "metadata": {},
   "outputs": [
    {
     "name": "stdout",
     "output_type": "stream",
     "text": [
      "Overwriting ./cython_galaxy_extended/start.py\n"
     ]
    }
   ],
   "source": [
    "%%file ./cython_galaxy_extended/start.py\n",
    "from loop import Loop\n",
    "import matplotlib.pyplot as plt\n",
    "\n",
    "#Sonnesystem\n",
    "\n",
    "python_position = [\n",
    "    #\"Sun\"\n",
    "    [0, 0, 0],     \n",
    "    #\"Mercury\"\n",
    "    [57_909_175_000, 0, 0], \n",
    "    #\"Venus\"\n",
    "    [108_208_930_000, 0, 0],    \n",
    "    #\"Earth\"\n",
    "    [149_597_890_000, 0, 0],    \n",
    "    #\"Moon\"\n",
    "    [149_597_890_000, 384_400_000, 0],    \n",
    "    #\"Mars\"\n",
    "    [227_936_640_000, 0, 0],    \n",
    "    #\"Jupiter\"\n",
    "    [778_412_020_000, 0, 0],    \n",
    "    #\"Saturn\"\n",
    "    [1_426_725_400_000, 0, 0],    \n",
    "    #\"Uranus\"\n",
    "    [2_870_972_200_000, 0, 0],    \n",
    "    #\"Neptune\"\n",
    "    [4_498_252_900_000, 0, 0]\n",
    "]\n",
    "\n",
    "python_geschwindigkeit = [\n",
    "    #\"Sun\"\n",
    "    [0, 0, 0],     \n",
    "    #\"Mercury\"\n",
    "    [0, 47_872, 0], \n",
    "    #\"Venus\"\n",
    "    [0, 35_021, 0],    \n",
    "    #\"Earth\"\n",
    "    [0, 29_786, 0],    \n",
    "    #\"Moon\"\n",
    "    [-1_022, 0, 0],    \n",
    "    #\"Mars\"\n",
    "    [0, 24_131, 0],    \n",
    "    #\"Jupiter\"\n",
    "    [0, 13_069, 0],    \n",
    "    #\"Saturn\"\n",
    "    [0, 9_672, 0],    \n",
    "    #\"Uranus\"\n",
    "    [0, 6_835, 0],    \n",
    "    #\"Neptune\"\n",
    "    [0, 5_477, 0]\n",
    "]\n",
    "\n",
    "python_masse = [\n",
    "    #\"Sun\"\n",
    "    1.9889 * 10 ** 30,     \n",
    "    #\"Mercury\"\n",
    "    3.3022 * 10 ** 23, \n",
    "    #\"Venus\"\n",
    "    4.8685 * 10 ** 24,    \n",
    "    #\"Earth\"\n",
    "    5.97219 * 10 ** 24,    \n",
    "    #\"Moon\"\n",
    "    7.34767309 * 10 ** 22,    \n",
    "    #\"Mars\"\n",
    "    6.4185 * 10 ** 23,    \n",
    "    #\"Jupiter\"\n",
    "    1.8987 * 10 ** 27,    \n",
    "    #\"Saturn\"\n",
    "    5.6851 * 10 ** 26,    \n",
    "    #\"Uranus\"\n",
    "    8.6849 * 10 ** 25,    \n",
    "    #\"Neptune\"\n",
    "    1.0244 * 10 ** 26\n",
    "]\n",
    "\n",
    "plot_list = []\n",
    "iteration = 60 * 24 * 365 * 2\n",
    "Loop(iteration, python_position, python_geschwindigkeit, python_masse, plot_list)\n",
    "\n",
    "plt.subplot(111)\n",
    "plt.plot([x[0][0] for x in plot_list], [x[0][1] for x in plot_list], label=\"Sun\")\n",
    "plt.legend(bbox_to_anchor=(1.05, 1), loc=2, borderaxespad=0.)\n",
    "plt.show()\n",
    "\n",
    "plt.subplot(111)\n",
    "plt.plot([x[1][0] for x in plot_list], [x[1][1] for x in plot_list], label=\"Mercury\")\n",
    "plt.legend(bbox_to_anchor=(1.05, 1), loc=2, borderaxespad=0.)\n",
    "plt.show()\n",
    "\n",
    "plt.subplot(111)\n",
    "plt.plot([x[2][0] for x in plot_list], [x[2][1] for x in plot_list], label=\"Venus\")\n",
    "plt.legend(bbox_to_anchor=(1.05, 1), loc=2, borderaxespad=0.)\n",
    "plt.show()\n",
    "\n",
    "plt.subplot(111)\n",
    "plt.plot([x[3][0] for x in plot_list], [x[3][1] for x in plot_list], label=\"Earth\")\n",
    "plt.legend(bbox_to_anchor=(1.05, 1), loc=2, borderaxespad=0.)\n",
    "plt.show()\n",
    "\n",
    "plt.subplot(111)\n",
    "plt.plot([x[4][0] for x in plot_list], [x[4][1] for x in plot_list], label=\"Moon\")\n",
    "plt.legend(bbox_to_anchor=(1.05, 1), loc=2, borderaxespad=0.)\n",
    "plt.show()\n",
    "\n",
    "plt.subplot(111)\n",
    "plt.plot([x[5][0] for x in plot_list], [x[5][1] for x in plot_list], label=\"Mars\")\n",
    "plt.legend(bbox_to_anchor=(1.05, 1), loc=2, borderaxespad=0.)\n",
    "plt.show()\n",
    "\n",
    "plt.subplot(111)\n",
    "plt.plot([x[6][0] for x in plot_list], [x[6][1] for x in plot_list], label=\"Jupiter\")\n",
    "plt.legend(bbox_to_anchor=(1.05, 1), loc=2, borderaxespad=0.)\n",
    "plt.show()\n",
    "\n",
    "plt.subplot(111)\n",
    "plt.plot([x[7][0] for x in plot_list], [x[7][1] for x in plot_list], label=\"Saturn\")\n",
    "plt.legend(bbox_to_anchor=(1.05, 1), loc=2, borderaxespad=0.)\n",
    "plt.show()\n",
    "\n",
    "plt.subplot(111)\n",
    "plt.plot([x[8][0] for x in plot_list], [x[8][1] for x in plot_list], label=\"Uranus\")\n",
    "plt.legend(bbox_to_anchor=(1.05, 1), loc=2, borderaxespad=0.)\n",
    "plt.show()\n",
    "\n",
    "plt.subplot(111)\n",
    "plt.plot([x[9][0] for x in plot_list], [x[9][1] for x in plot_list], label=\"Neptune\")\n",
    "plt.legend(bbox_to_anchor=(1.05, 1), loc=2, borderaxespad=0.)\n",
    "plt.show()\n",
    "\n",
    "print(\"plot_list_length\", len(plot_list))\n",
    "for _ in range (40):\n",
    "    print(plot_list[_])"
   ]
  },
  {
   "cell_type": "code",
   "execution_count": null,
   "metadata": {
    "collapsed": true
   },
   "outputs": [],
   "source": [
    "%%bash\n",
    "cd cython_galaxy_extended\n",
    "python3 start.py"
   ]
  }
 ],
 "metadata": {
  "kernelspec": {
   "display_name": "Python 3",
   "language": "python",
   "name": "python3"
  },
  "language_info": {
   "codemirror_mode": {
    "name": "ipython",
    "version": 3
   },
   "file_extension": ".py",
   "mimetype": "text/x-python",
   "name": "python",
   "nbconvert_exporter": "python",
   "pygments_lexer": "ipython3",
   "version": "3.6.3"
  },
  "latex_envs": {
   "LaTeX_envs_menu_present": true,
   "autocomplete": true,
   "bibliofile": "biblio.bib",
   "cite_by": "apalike",
   "current_citInitial": 1,
   "eqLabelWithNumbers": true,
   "eqNumInitial": 1,
   "hotkeys": {
    "equation": "Ctrl-E",
    "itemize": "Ctrl-I"
   },
   "labels_anchors": false,
   "latex_user_defs": false,
   "report_style_numbering": false,
   "user_envs_cfg": false
  }
 },
 "nbformat": 4,
 "nbformat_minor": 2
}
