{
 "cells": [
  {
   "cell_type": "code",
   "execution_count": 1,
   "metadata": {},
   "outputs": [
    {
     "ename": "FileExistsError",
     "evalue": "[Errno 17] File exists: './pubyc_renderer'",
     "output_type": "error",
     "traceback": [
      "\u001b[0;31m---------------------------------------------------------------------------\u001b[0m",
      "\u001b[0;31mFileExistsError\u001b[0m                           Traceback (most recent call last)",
      "\u001b[0;32m<ipython-input-1-a1693338c74c>\u001b[0m in \u001b[0;36m<module>\u001b[0;34m()\u001b[0m\n\u001b[1;32m      1\u001b[0m \u001b[0;32mimport\u001b[0m \u001b[0mos\u001b[0m\u001b[0;34m\u001b[0m\u001b[0m\n\u001b[0;32m----> 2\u001b[0;31m \u001b[0mos\u001b[0m\u001b[0;34m.\u001b[0m\u001b[0mmkdir\u001b[0m\u001b[0;34m(\u001b[0m\u001b[0;34m'./pubyc_renderer'\u001b[0m\u001b[0;34m)\u001b[0m\u001b[0;34m\u001b[0m\u001b[0m\n\u001b[0m",
      "\u001b[0;31mFileExistsError\u001b[0m: [Errno 17] File exists: './pubyc_renderer'"
     ]
    }
   ],
   "source": [
    "import os\n",
    "os.mkdir('./pubyc_renderer')"
   ]
  },
  {
   "cell_type": "code",
   "execution_count": 2,
   "metadata": {},
   "outputs": [
    {
     "name": "stdout",
     "output_type": "stream",
     "text": [
      "Overwriting ./pubyc_renderer/abstand.pxd\n"
     ]
    }
   ],
   "source": [
    "%%file ./pubyc_renderer/abstand.pxd\n",
    "cdef void Abstand (double [:, :], double[:], int, int) nogil"
   ]
  },
  {
   "cell_type": "code",
   "execution_count": 3,
   "metadata": {},
   "outputs": [
    {
     "name": "stdout",
     "output_type": "stream",
     "text": [
      "Overwriting ./pubyc_renderer/abstand.pyx\n"
     ]
    }
   ],
   "source": [
    "%%file ./pubyc_renderer/abstand.pyx\n",
    "cimport cython\n",
    "#Abstands Funktion\n",
    "#Abstand_Sonne = position[1] - position[0]\n",
    "\n",
    "@cython.boundscheck(False)\n",
    "@cython.cdivision(True)\n",
    "cdef void Abstand (double [:, :] position_view , double[:] result ,int head, int tail) nogil:   \n",
    "    result[0] = position_view[head][0] - position_view[tail][0]\n",
    "    result[1] = position_view[head][1] - position_view[tail][1]\n",
    "    result[2] = position_view[head][2] - position_view[tail][2]"
   ]
  },
  {
   "cell_type": "code",
   "execution_count": 4,
   "metadata": {},
   "outputs": [
    {
     "name": "stdout",
     "output_type": "stream",
     "text": [
      "Overwriting ./pubyc_renderer/betrag.pxd\n"
     ]
    }
   ],
   "source": [
    "%%file ./pubyc_renderer/betrag.pxd\n",
    "cdef void Betrag (double [:], double[:]) nogil"
   ]
  },
  {
   "cell_type": "code",
   "execution_count": 5,
   "metadata": {},
   "outputs": [
    {
     "name": "stdout",
     "output_type": "stream",
     "text": [
      "Overwriting ./pubyc_renderer/betrag.pyx\n"
     ]
    }
   ],
   "source": [
    "%%file ./pubyc_renderer/betrag.pyx\n",
    "cimport cython\n",
    "from libc.math cimport sqrt\n",
    "\n",
    "\n",
    "#Betrags Funktion\n",
    "#Betrag_Erde  = sqrt( Abstand_Erde**2 + Abstand_Erde**2 + Abstand_Erde**2)\n",
    "@cython.boundscheck(False)\n",
    "@cython.cdivision(True)\n",
    "cdef void Betrag (double [:] abstand_view , double[:] result) nogil:\n",
    "    result[0] = sqrt(abstand_view[0]**2 + abstand_view[1]**2 + abstand_view[2]**2)"
   ]
  },
  {
   "cell_type": "code",
   "execution_count": 6,
   "metadata": {},
   "outputs": [
    {
     "name": "stdout",
     "output_type": "stream",
     "text": [
      "Overwriting ./pubyc_renderer/kraft.pxd\n"
     ]
    }
   ],
   "source": [
    "%%file ./pubyc_renderer/kraft.pxd\n",
    "cdef void Kraft (double [:], double [:],  double [:], int, int, double[:]) nogil"
   ]
  },
  {
   "cell_type": "code",
   "execution_count": 7,
   "metadata": {},
   "outputs": [
    {
     "name": "stdout",
     "output_type": "stream",
     "text": [
      "Overwriting ./pubyc_renderer/kraft.pyx\n"
     ]
    }
   ],
   "source": [
    "%%file ./pubyc_renderer/kraft.pyx\n",
    "cimport cython\n",
    "\n",
    "#Kraft Funktion\n",
    "#Kraft_Erde = G * (masse_erde * masse_sonne / (Betrag_Erde  ** 3)) * Abstand_Erde\n",
    "@cython.boundscheck(False)\n",
    "@cython.cdivision(True)\n",
    "cdef void Kraft (double [:] masse_view, double [:] abstand_view,  double [:] Betrag, \\\n",
    "                  int head, int tail, double[:] result) nogil:\n",
    "    \n",
    "    cdef double g1 = 6.672\n",
    "    cdef double g2 = 10\n",
    "    cdef double g3 = -11\n",
    "    \n",
    "    cdef double G = g1 * g2 ** g3\n",
    "    cdef double betrag = Betrag[0] ** 3\n",
    "\n",
    "    cdef double masse_multyply = masse_view[head] * masse_view[tail]\n",
    "    \n",
    "    result[0] = G * (masse_multyply / betrag) * abstand_view[0]\n",
    "    result[1] = G * (masse_multyply / betrag) * abstand_view[1]\n",
    "    result[2] = G * (masse_multyply / betrag) * abstand_view[2]"
   ]
  },
  {
   "cell_type": "code",
   "execution_count": 8,
   "metadata": {},
   "outputs": [
    {
     "name": "stdout",
     "output_type": "stream",
     "text": [
      "Overwriting ./pubyc_renderer/beschleunigung.pxd\n"
     ]
    }
   ],
   "source": [
    "%%file ./pubyc_renderer/beschleunigung.pxd\n",
    "cdef void Beschleunigung (double [:], double [:], int, double[:]) nogil"
   ]
  },
  {
   "cell_type": "code",
   "execution_count": 9,
   "metadata": {},
   "outputs": [
    {
     "name": "stdout",
     "output_type": "stream",
     "text": [
      "Overwriting ./pubyc_renderer/beschleunigung.pyx\n"
     ]
    }
   ],
   "source": [
    "%%file ./pubyc_renderer/beschleunigung.pyx\n",
    "cimport cython\n",
    "\n",
    "#Beschleunigungs Funktion\n",
    "#Beschleunigung_Erde  = Kraft_Erde  / masse\n",
    "@cython.boundscheck(False)\n",
    "@cython.cdivision(True)\n",
    "cdef void Beschleunigung (double [:] kraft_view , double [:] masse_view, int massen_index, double[:] result) nogil:\n",
    "    cdef float G = 6.672 * 10 ** -11\n",
    "    result[0] = kraft_view[0]  / masse_view[massen_index]\n",
    "    result[1] = kraft_view[1]  / masse_view[massen_index]\n",
    "    result[2] = kraft_view[2]  / masse_view[massen_index]"
   ]
  },
  {
   "cell_type": "code",
   "execution_count": 10,
   "metadata": {},
   "outputs": [
    {
     "name": "stdout",
     "output_type": "stream",
     "text": [
      "Overwriting ./pubyc_renderer/update_position.pxd\n"
     ]
    }
   ],
   "source": [
    "%%file ./pubyc_renderer/update_position.pxd\n",
    "cdef void update_position (double [:, :], double [:, :], double [:, :],double [:], double, int) nogil"
   ]
  },
  {
   "cell_type": "code",
   "execution_count": 11,
   "metadata": {},
   "outputs": [
    {
     "name": "stdout",
     "output_type": "stream",
     "text": [
      "Overwriting ./pubyc_renderer/update_position.pyx\n"
     ]
    }
   ],
   "source": [
    "%%file ./pubyc_renderer/update_position.pyx\n",
    "cimport cython\n",
    "\n",
    "#Positions Aktualliersierung\n",
    "#position = position + dt * geschwindigkeit  + ((dt ** 2) / 2) * Beschleunigung_Erde\n",
    "@cython.boundscheck(False)\n",
    "@cython.cdivision(True)\n",
    "cdef void update_position (double [:, :] position_view , double [:, :] new_postion_view, \\\n",
    "                   double [:, :] speed_view, double [:] beschleunigung_view, \\\n",
    "                        double dt, int planet_index) nogil:\n",
    "    \n",
    "    new_postion_view[planet_index][0] = position_view[planet_index][0]  + dt * speed_view[planet_index][0] \\\n",
    "                                                + ((dt ** 2) / 2) * beschleunigung_view[0]\n",
    "        \n",
    "    new_postion_view[planet_index][1] = position_view[planet_index][1]  + dt * speed_view[planet_index][1] \\\n",
    "                                                + ((dt ** 2) / 2) * beschleunigung_view[1]\n",
    "        \n",
    "    new_postion_view[planet_index][2] = position_view[planet_index][2]  + dt * speed_view[planet_index][2] \\\n",
    "                                                + ((dt ** 2) / 2) * beschleunigung_view[2]"
   ]
  },
  {
   "cell_type": "code",
   "execution_count": 12,
   "metadata": {},
   "outputs": [
    {
     "name": "stdout",
     "output_type": "stream",
     "text": [
      "Overwriting ./pubyc_renderer/update_speed.pxd\n"
     ]
    }
   ],
   "source": [
    "%%file ./pubyc_renderer/update_speed.pxd\n",
    "cdef void update_speed (double [:, :], double [:, :], double [:], double, int) nogil"
   ]
  },
  {
   "cell_type": "code",
   "execution_count": 13,
   "metadata": {},
   "outputs": [
    {
     "name": "stdout",
     "output_type": "stream",
     "text": [
      "Overwriting ./pubyc_renderer/update_speed.pyx\n"
     ]
    }
   ],
   "source": [
    "%%file ./pubyc_renderer/update_speed.pyx\n",
    "cimport cython\n",
    "\n",
    "#Geschwindigkeits Aktuallisierung\n",
    "#geschwindigkeit[0][0]  += dt * Beschleunigung_Erde[0]\n",
    "@cython.boundscheck(False)\n",
    "@cython.cdivision(True)\n",
    "cdef void update_speed (double [:, :] speed_view, double [:, :] new_speed_view, \\\n",
    "                        double [:] beschleunigung_view, double dt ,int planet_index) nogil:\n",
    "    new_speed_view[planet_index][0] = speed_view[planet_index][0] + dt * beschleunigung_view[0]\n",
    "    new_speed_view[planet_index][1] = speed_view[planet_index][1] + dt * beschleunigung_view[1]\n",
    "    new_speed_view[planet_index][2] = speed_view[planet_index][2] + dt * beschleunigung_view[2]"
   ]
  },
  {
   "cell_type": "code",
   "execution_count": 14,
   "metadata": {},
   "outputs": [
    {
     "name": "stdout",
     "output_type": "stream",
     "text": [
      "Overwriting ./pubyc_renderer/loop.pyx\n"
     ]
    }
   ],
   "source": [
    "%%file ./pubyc_renderer/loop.pyx\n",
    "from cython.parallel import prange\n",
    "from abstand cimport Abstand\n",
    "from betrag cimport Betrag\n",
    "from kraft cimport Kraft\n",
    "from beschleunigung cimport Beschleunigung\n",
    "from update_position cimport update_position\n",
    "from update_speed cimport update_speed\n",
    "import numpy as np\n",
    "cimport cython\n",
    "\n",
    "@cython.boundscheck(False)\n",
    "cpdef Loop (position, speed, masse, args_dt):\n",
    "\n",
    "    #Umwandlung in MemoryView\n",
    "    cdef double [:, :] position_view = position\n",
    "    cdef double [:, :] speed_view = speed\n",
    "    cdef double [:, :] new_position_view = position\n",
    "    cdef double [:, :] new_speed_view = speed \n",
    "    cdef double [:] masse_view = masse\n",
    "\n",
    "    #Statische Variable\n",
    "    cdef int dt = args_dt\n",
    "    cdef int number_planets = len(position)\n",
    "    cdef int i, current_planet, planet\n",
    "    cdef int list_index\n",
    "    \n",
    "    #Temporaere MemoryView zum ZwischenSpeichern\n",
    "    cdef double [:] distance = np.array([0,0,0],  dtype=np.float64)\n",
    "    cdef double [:] magnitude = np.array([0],  dtype=np.float64)\n",
    "    cdef double [:] single_force = np.array([0,0,0],  dtype=np.float64)\n",
    "    cdef double [:] all_force = np.array([0,0,0],  dtype=np.float64)\n",
    "    cdef double [:] acceleration = np.array([0,0,0],  dtype=np.float64)\n",
    "      \n",
    "    for current_planet in prange (number_planets, nogil=True):\n",
    "        all_force[0] = 0\n",
    "        all_force[1] = 0\n",
    "        all_force[2] = 0\n",
    "\n",
    "        for planet in prange(number_planets):\n",
    "            if (planet != current_planet):\n",
    "                Abstand(position_view, distance, planet, current_planet)\n",
    "                Betrag(distance, magnitude)\n",
    "                Kraft(masse_view, distance, magnitude, planet, current_planet, single_force)\n",
    "                all_force[0] += single_force[0]\n",
    "                all_force[1] += single_force[1]\n",
    "                all_force[2] += single_force[2]\n",
    "\n",
    "        Beschleunigung(all_force, masse_view, current_planet, acceleration)\n",
    "        update_position(position_view, new_position_view, speed_view, acceleration, dt, current_planet) \n",
    "        update_speed(speed_view , new_speed_view, acceleration, dt, current_planet)          \n",
    "    \n",
    "    #position = np.asarray(new_position_view)\n",
    "    #speed = np.asarray(new_speed_view)\n",
    "    \n",
    "    #print(position)"
   ]
  },
  {
   "cell_type": "code",
   "execution_count": 15,
   "metadata": {},
   "outputs": [
    {
     "name": "stdout",
     "output_type": "stream",
     "text": [
      "Overwriting ./pubyc_renderer/setup.py\n"
     ]
    }
   ],
   "source": [
    "%%file ./pubyc_renderer/setup.py\n",
    "\n",
    "\n",
    "# Aufruf: python3 setup.py build_ext --inplace\n",
    "# Windows: zusaetzliche Option --compiler=mingw32\n",
    "from distutils.core import setup\n",
    "from distutils.extension import Extension\n",
    "from Cython.Distutils import build_ext\n",
    "import numpy\n",
    "\n",
    "\n",
    "ext_modules=[ Extension(\"abstand\", [\"abstand.pyx\"],\n",
    "        extra_compile_args=['-O3'], libraries=['m']),\n",
    "             Extension(\"betrag\", [\"betrag.pyx\"],\n",
    "        extra_compile_args=['-O3'], libraries=['m']),\n",
    "              Extension(\"kraft\", [\"kraft.pyx\"],\n",
    "        extra_compile_args=['-O3'], libraries=['m']),\n",
    "             Extension(\"beschleunigung\", [\"beschleunigung.pyx\"],\n",
    "        extra_compile_args=['-O3'], libraries=['m']),\n",
    "             Extension(\"update_position\", [\"update_position.pyx\"],\n",
    "        extra_compile_args=['-O3'], libraries=['m']),\n",
    "             Extension(\"update_speed\", [\"update_speed.pyx\"],\n",
    "        extra_compile_args=['-O3'], libraries=['m']),\n",
    "             Extension(\"loop\", [\"loop.pyx\"],\n",
    "       extra_compile_args=['-O3', '-fopenmp'], libraries=['m'],\n",
    "                extra_link_args=['-fopenmp'],)\n",
    "        \n",
    "        #Maybe needed\n",
    "        #extra_compile_args=['-O3'], libraries=['m'],\n",
    "        #include_dirs=[numpy.get_include()]),\n",
    "]\n",
    "             \n",
    "setup( name = 'cython demo',\n",
    "  cmdclass = {'build_ext': build_ext},\n",
    "  ext_modules = ext_modules,\n",
    "     include_dirs=[numpy.get_include()])\n",
    "\n"
   ]
  },
  {
   "cell_type": "markdown",
   "metadata": {},
   "source": [
    "## Compile Cython"
   ]
  },
  {
   "cell_type": "code",
   "execution_count": 16,
   "metadata": {
    "scrolled": false
   },
   "outputs": [
    {
     "name": "stdout",
     "output_type": "stream",
     "text": [
      "running build_ext\n",
      "cythoning abstand.pyx to abstand.c\n",
      "building 'abstand' extension\n",
      "gcc -pthread -B /opt/anaconda/compiler_compat -Wl,--sysroot=/ -Wsign-compare -DNDEBUG -g -fwrapv -O3 -Wall -Wstrict-prototypes -fPIC -I/opt/anaconda/lib/python3.6/site-packages/numpy/core/include -I/opt/anaconda/include/python3.6m -c abstand.c -o build/temp.linux-x86_64-3.6/abstand.o -O3\n",
      "gcc -pthread -shared -B /opt/anaconda/compiler_compat -L/opt/anaconda/lib -Wl,-rpath=/opt/anaconda/lib -Wl,--no-as-needed -Wl,--sysroot=/ build/temp.linux-x86_64-3.6/abstand.o -L/opt/anaconda/lib -lm -lpython3.6m -o /home/shiroten/Nextcloud/Studium Dokumente/Aktuelles Semester/Rösch - Programmieren 3/Planetary-Python-Project/Source/Shiroten/pubyc_renderer/abstand.cpython-36m-x86_64-linux-gnu.so\n",
      "cythoning betrag.pyx to betrag.c\n",
      "building 'betrag' extension\n",
      "gcc -pthread -B /opt/anaconda/compiler_compat -Wl,--sysroot=/ -Wsign-compare -DNDEBUG -g -fwrapv -O3 -Wall -Wstrict-prototypes -fPIC -I/opt/anaconda/lib/python3.6/site-packages/numpy/core/include -I/opt/anaconda/include/python3.6m -c betrag.c -o build/temp.linux-x86_64-3.6/betrag.o -O3\n",
      "gcc -pthread -shared -B /opt/anaconda/compiler_compat -L/opt/anaconda/lib -Wl,-rpath=/opt/anaconda/lib -Wl,--no-as-needed -Wl,--sysroot=/ build/temp.linux-x86_64-3.6/betrag.o -L/opt/anaconda/lib -lm -lpython3.6m -o /home/shiroten/Nextcloud/Studium Dokumente/Aktuelles Semester/Rösch - Programmieren 3/Planetary-Python-Project/Source/Shiroten/pubyc_renderer/betrag.cpython-36m-x86_64-linux-gnu.so\n",
      "cythoning kraft.pyx to kraft.c\n",
      "building 'kraft' extension\n",
      "gcc -pthread -B /opt/anaconda/compiler_compat -Wl,--sysroot=/ -Wsign-compare -DNDEBUG -g -fwrapv -O3 -Wall -Wstrict-prototypes -fPIC -I/opt/anaconda/lib/python3.6/site-packages/numpy/core/include -I/opt/anaconda/include/python3.6m -c kraft.c -o build/temp.linux-x86_64-3.6/kraft.o -O3\n",
      "gcc -pthread -shared -B /opt/anaconda/compiler_compat -L/opt/anaconda/lib -Wl,-rpath=/opt/anaconda/lib -Wl,--no-as-needed -Wl,--sysroot=/ build/temp.linux-x86_64-3.6/kraft.o -L/opt/anaconda/lib -lm -lpython3.6m -o /home/shiroten/Nextcloud/Studium Dokumente/Aktuelles Semester/Rösch - Programmieren 3/Planetary-Python-Project/Source/Shiroten/pubyc_renderer/kraft.cpython-36m-x86_64-linux-gnu.so\n",
      "cythoning beschleunigung.pyx to beschleunigung.c\n",
      "building 'beschleunigung' extension\n",
      "gcc -pthread -B /opt/anaconda/compiler_compat -Wl,--sysroot=/ -Wsign-compare -DNDEBUG -g -fwrapv -O3 -Wall -Wstrict-prototypes -fPIC -I/opt/anaconda/lib/python3.6/site-packages/numpy/core/include -I/opt/anaconda/include/python3.6m -c beschleunigung.c -o build/temp.linux-x86_64-3.6/beschleunigung.o -O3\n",
      "gcc -pthread -shared -B /opt/anaconda/compiler_compat -L/opt/anaconda/lib -Wl,-rpath=/opt/anaconda/lib -Wl,--no-as-needed -Wl,--sysroot=/ build/temp.linux-x86_64-3.6/beschleunigung.o -L/opt/anaconda/lib -lm -lpython3.6m -o /home/shiroten/Nextcloud/Studium Dokumente/Aktuelles Semester/Rösch - Programmieren 3/Planetary-Python-Project/Source/Shiroten/pubyc_renderer/beschleunigung.cpython-36m-x86_64-linux-gnu.so\n",
      "cythoning update_position.pyx to update_position.c\n",
      "building 'update_position' extension\n",
      "gcc -pthread -B /opt/anaconda/compiler_compat -Wl,--sysroot=/ -Wsign-compare -DNDEBUG -g -fwrapv -O3 -Wall -Wstrict-prototypes -fPIC -I/opt/anaconda/lib/python3.6/site-packages/numpy/core/include -I/opt/anaconda/include/python3.6m -c update_position.c -o build/temp.linux-x86_64-3.6/update_position.o -O3\n",
      "gcc -pthread -shared -B /opt/anaconda/compiler_compat -L/opt/anaconda/lib -Wl,-rpath=/opt/anaconda/lib -Wl,--no-as-needed -Wl,--sysroot=/ build/temp.linux-x86_64-3.6/update_position.o -L/opt/anaconda/lib -lm -lpython3.6m -o /home/shiroten/Nextcloud/Studium Dokumente/Aktuelles Semester/Rösch - Programmieren 3/Planetary-Python-Project/Source/Shiroten/pubyc_renderer/update_position.cpython-36m-x86_64-linux-gnu.so\n",
      "cythoning update_speed.pyx to update_speed.c\n",
      "building 'update_speed' extension\n",
      "gcc -pthread -B /opt/anaconda/compiler_compat -Wl,--sysroot=/ -Wsign-compare -DNDEBUG -g -fwrapv -O3 -Wall -Wstrict-prototypes -fPIC -I/opt/anaconda/lib/python3.6/site-packages/numpy/core/include -I/opt/anaconda/include/python3.6m -c update_speed.c -o build/temp.linux-x86_64-3.6/update_speed.o -O3\n",
      "gcc -pthread -shared -B /opt/anaconda/compiler_compat -L/opt/anaconda/lib -Wl,-rpath=/opt/anaconda/lib -Wl,--no-as-needed -Wl,--sysroot=/ build/temp.linux-x86_64-3.6/update_speed.o -L/opt/anaconda/lib -lm -lpython3.6m -o /home/shiroten/Nextcloud/Studium Dokumente/Aktuelles Semester/Rösch - Programmieren 3/Planetary-Python-Project/Source/Shiroten/pubyc_renderer/update_speed.cpython-36m-x86_64-linux-gnu.so\n",
      "cythoning loop.pyx to loop.c\n",
      "building 'loop' extension\n",
      "gcc -pthread -B /opt/anaconda/compiler_compat -Wl,--sysroot=/ -Wsign-compare -DNDEBUG -g -fwrapv -O3 -Wall -Wstrict-prototypes -fPIC -I/opt/anaconda/lib/python3.6/site-packages/numpy/core/include -I/opt/anaconda/include/python3.6m -c loop.c -o build/temp.linux-x86_64-3.6/loop.o -O3 -fopenmp\n",
      "gcc -pthread -shared -B /opt/anaconda/compiler_compat -L/opt/anaconda/lib -Wl,-rpath=/opt/anaconda/lib -Wl,--no-as-needed -Wl,--sysroot=/ build/temp.linux-x86_64-3.6/loop.o -L/opt/anaconda/lib -lm -lpython3.6m -o /home/shiroten/Nextcloud/Studium Dokumente/Aktuelles Semester/Rösch - Programmieren 3/Planetary-Python-Project/Source/Shiroten/pubyc_renderer/loop.cpython-36m-x86_64-linux-gnu.so -fopenmp\n"
     ]
    }
   ],
   "source": [
    "%%bash\n",
    "cd ./pubyc_renderer\n",
    "#Compilen\n",
    "python3 setup.py build_ext --inplace"
   ]
  },
  {
   "cell_type": "markdown",
   "metadata": {},
   "source": [
    "## Jupyter Test"
   ]
  },
  {
   "cell_type": "code",
   "execution_count": 43,
   "metadata": {},
   "outputs": [],
   "source": [
    "import os\n",
    "import sys\n",
    "module_path = os.path.abspath(os.path.join('..'))\n",
    "if module_path not in sys.path:\n",
    "    sys.path.append(\"./pubyc_renderer\")\n",
    "\n",
    "from loop import Loop\n",
    "import numpy as np\n",
    "import matplotlib.pyplot as plt\n",
    "\n",
    "python_position = [\n",
    "    #\"Sun\"\n",
    "    [0, 0, 0],     \n",
    "    #\"Mercury\"\n",
    "    [57_909_175_000, 0, 0], \n",
    "    #\"Venus\"\n",
    "    [108_208_930_000, 0, 0],    \n",
    "    #\"Earth\"\n",
    "    [149_597_890_000, 0, 0],    \n",
    "    #\"Moon\"\n",
    "    [149_597_890_000, 384_400_000, 0],    \n",
    "    #\"Mars\"\n",
    "    [227_936_640_000, 0, 0],    \n",
    "    #\"Jupiter\"\n",
    "    [778_412_020_000, 0, 0],    \n",
    "    #\"Saturn\"\n",
    "    [1_426_725_400_000, 0, 0],    \n",
    "    #\"Uranus\"\n",
    "    [2_870_972_200_000, 0, 0],    \n",
    "    #\"Neptune\"\n",
    "    [4_498_252_900_000, 0, 0]\n",
    "]\n",
    "\n",
    "python_speed = [\n",
    "    #\"Sun\"\n",
    "    [0, 0, 0],     \n",
    "    #\"Mercury\"\n",
    "    [0, 47_872, 0], \n",
    "    #\"Venus\"\n",
    "    [0, 35_021, 0],    \n",
    "    #\"Earth\"\n",
    "    [0, 29_786, 0],    \n",
    "    #\"Moon\"\n",
    "    [-1_022, 0, 0],    \n",
    "    #\"Mars\"\n",
    "    [0, 24_131, 0],    \n",
    "    #\"Jupiter\"\n",
    "    [0, 13_069, 0],    \n",
    "    #\"Saturn\"\n",
    "    [0, 9_672, 0],    \n",
    "    #\"Uranus\"\n",
    "    [0, 6_835, 0],    \n",
    "    #\"Neptune\"\n",
    "    [0, 5_477, 0]\n",
    "]\n",
    "\n",
    "python_masse = [\n",
    "    #\"Sun\"\n",
    "    1.9889 * 10 ** 30,     \n",
    "    #\"Mercury\"\n",
    "    3.3022 * 10 ** 23, \n",
    "    #\"Venus\"\n",
    "    4.8685 * 10 ** 24,    \n",
    "    #\"Earth\"\n",
    "    5.97219 * 10 ** 24,    \n",
    "    #\"Moon\"\n",
    "    7.34767309 * 10 ** 22,    \n",
    "    #\"Mars\"\n",
    "    6.4185 * 10 ** 23,    \n",
    "    #\"Jupiter\"\n",
    "    1.8987 * 10 ** 27,    \n",
    "    #\"Saturn\"\n",
    "    5.6851 * 10 ** 26,    \n",
    "    #\"Uranus\"\n",
    "    8.6849 * 10 ** 25,    \n",
    "    #\"Neptune\"\n",
    "    1.0244 * 10 ** 26\n",
    "]\n",
    "\n",
    "FACTOR = 5\n",
    "radius =  [\n",
    "    0.25 * FACTOR,\n",
    "    0.02 * FACTOR,\n",
    "    0.06 * FACTOR,\n",
    "    0.06 * FACTOR,\n",
    "    0.01 * FACTOR,\n",
    "    0.03 * FACTOR,\n",
    "    0.18 * FACTOR,\n",
    "    0.15 * FACTOR,\n",
    "    0.1 * FACTOR,\n",
    "    0.1 * FACTOR\n",
    "]\n",
    "position = np.array(python_position, dtype=np.float64)\n",
    "speed = np.array(python_speed, dtype=np.float64)\n",
    "masse = np.array(python_masse, dtype=np.float64)\n",
    "\n",
    "dt = 60 * 60 * 24\n",
    "year = 60 * 60 * 24 * 365 * 2\n",
    "iteration = int(year / dt)\n",
    "plot_list = []\n",
    "\n",
    "for i in range(iteration): \n",
    "    pos_list_entry = []\n",
    "    for list_index in range(len(position)):\n",
    "        \n",
    "        pos_list_entry.append(np.array((position[list_index][0], position[list_index][1],\\\n",
    "        position[list_index][2]), np.float64))\n",
    "        \n",
    "    plot_list.append(np.array(pos_list_entry, np.float64))\n",
    "    Loop(position, speed, masse, dt)"
   ]
  },
  {
   "cell_type": "code",
   "execution_count": 44,
   "metadata": {},
   "outputs": [
    {
     "data": {
      "image/png": "[encoded data removed]",
      "text/plain": [
       "<matplotlib.figure.Figure at 0x7f3e807f25c0>"
      ]
     },
     "metadata": {},
     "output_type": "display_data"
    },
    {
     "data": {
      "image/png": "[encoded data removed]",
      "text/plain": [
       "<matplotlib.figure.Figure at 0x7f3e806bf470>"
      ]
     },
     "metadata": {},
     "output_type": "display_data"
    },
    {
     "data": {
      "image/png": "[encoded data removed]",
      "text/plain": [
       "<matplotlib.figure.Figure at 0x7f3e805b5b70>"
      ]
     },
     "metadata": {},
     "output_type": "display_data"
    },
    {
     "data": {
      "image/png": "[encoded data removed]",
      "text/plain": [
       "<matplotlib.figure.Figure at 0x7f3e805a5240>"
      ]
     },
     "metadata": {},
     "output_type": "display_data"
    },
    {
     "data": {
      "image/png": "[encoded data removed]",
      "text/plain": [
       "<matplotlib.figure.Figure at 0x7f3e805b51d0>"
      ]
     },
     "metadata": {},
     "output_type": "display_data"
    },
    {
     "data": {
      "image/png": "[encoded data removed]",
      "text/plain": [
       "<matplotlib.figure.Figure at 0x7f3e804dbbe0>"
      ]
     },
     "metadata": {},
     "output_type": "display_data"
    },
    {
     "data": {
      "image/png": "[encoded data removed]",
      "text/plain": [
       "<matplotlib.figure.Figure at 0x7f3e80720400>"
      ]
     },
     "metadata": {},
     "output_type": "display_data"
    },
    {
     "data": {
      "image/png": "[encoded data removed]",
      "text/plain": [
       "<matplotlib.figure.Figure at 0x7f3e80950208>"
      ]
     },
     "metadata": {},
     "output_type": "display_data"
    },
    {
     "data": {
      "image/png": "[encoded data removed]",
      "text/plain": [
       "<matplotlib.figure.Figure at 0x7f3e80573828>"
      ]
     },
     "metadata": {},
     "output_type": "display_data"
    },
    {
     "data": {
      "image/png": "[encoded data removed]",
      "text/plain": [
       "<matplotlib.figure.Figure at 0x7f3e806660f0>"
      ]
     },
     "metadata": {},
     "output_type": "display_data"
    },
    {
     "name": "stdout",
     "output_type": "stream",
     "text": [
      "plot_list_length 730\n",
      "[[  0.00000000e+00   0.00000000e+00   0.00000000e+00]\n",
      " [  5.79091750e+10   0.00000000e+00   0.00000000e+00]\n",
      " [  1.08208930e+11   0.00000000e+00   0.00000000e+00]\n",
      " [  1.49597890e+11   0.00000000e+00   0.00000000e+00]\n",
      " [  1.49597890e+11   3.84400000e+08   0.00000000e+00]\n",
      " [  2.27936640e+11   0.00000000e+00   0.00000000e+00]\n",
      " [  7.78412020e+11   0.00000000e+00   0.00000000e+00]\n",
      " [  1.42672540e+12   0.00000000e+00   0.00000000e+00]\n",
      " [  2.87097220e+12   0.00000000e+00   0.00000000e+00]\n",
      " [  4.49825290e+12   0.00000000e+00   0.00000000e+00]]\n",
      "[[  1.05225607e+03   2.34841627e+00   0.00000000e+00]\n",
      " [  5.77614796e+10   4.13614081e+09   0.00000000e+00]\n",
      " [  1.08166632e+11   3.02581446e+09   0.00000000e+00]\n",
      " [  1.49508393e+11   2.57351040e+09   0.00000000e+00]\n",
      " [  1.49487442e+11   3.84343091e+08   0.00000000e+00]\n",
      " [  2.27927108e+11   2.08491841e+09   0.00000000e+00]\n",
      " [  7.78411203e+11   1.12916160e+09   0.00000000e+00]\n",
      " [  1.42672516e+12   8.35660802e+08   0.00000000e+00]\n",
      " [  2.87088270e+12   5.90544000e+08   0.00000000e+00]\n",
      " [  4.49823075e+12   4.73155891e+08   0.00000000e+00]]\n",
      "[[  3.62702592e+03   6.04227112e+01   0.00000000e+00]\n",
      " [  5.74439224e+10   8.27223293e+09   0.00000000e+00]\n",
      " [  1.08014799e+11   6.05403102e+09   0.00000000e+00]\n",
      " [  1.49329398e+11   5.14702085e+09   0.00000000e+00]\n",
      " [  1.49332680e+11   3.84180580e+08   0.00000000e+00]\n",
      " [  2.27398046e+11   4.18805657e+09   0.00000000e+00]\n",
      " [  7.78408752e+11   2.25832201e+09   0.00000000e+00]\n",
      " [  1.42672442e+12   1.67132147e+09   0.00000000e+00]\n",
      " [  2.87070371e+12   1.18108805e+09   0.00000000e+00]\n",
      " [  4.49816429e+12   9.46206180e+08   0.00000000e+00]]\n",
      "[[ -2.60551285e+07  -6.81854943e+05   0.00000000e+00]\n",
      " [  5.71041988e+10   1.24082764e+10   0.00000000e+00]\n",
      " [  1.07749063e+11   9.08228278e+09   0.00000000e+00]\n",
      " [  1.49124342e+11   7.71984933e+09   0.00000000e+00]\n",
      " [  1.47272460e+11   3.83164368e+08   0.00000000e+00]\n",
      " [  2.26005015e+11   6.29146177e+09   0.00000000e+00]\n",
      " [  7.78379422e+11   3.38679922e+09   0.00000000e+00]\n",
      " [  1.42672344e+12   2.50698199e+09   0.00000000e+00]\n",
      " [  2.87049865e+12   1.77095013e+09   0.00000000e+00]\n",
      " [  4.49807431e+12   1.41920720e+09   0.00000000e+00]]\n",
      "[[ -7.81770241e+07  -2.04579440e+06   0.00000000e+00]\n",
      " [  5.67516569e+10   1.65652111e+10   0.00000000e+00]\n",
      " [  1.07347994e+11   1.21057498e+10   0.00000000e+00]\n",
      " [  1.48447087e+11   1.02929031e+10   0.00000000e+00]\n",
      " [  1.43316132e+11   4.02234431e+08   0.00000000e+00]\n",
      " [  2.23585467e+11   8.35857410e+09   0.00000000e+00]\n",
      " [  7.78324028e+11   4.51459439e+09   0.00000000e+00]\n",
      " [  1.42672246e+12   3.34265465e+09   0.00000000e+00]\n",
      " [  2.86982140e+12   2.36103747e+09   0.00000000e+00]\n",
      " [  4.49797016e+12   1.91309892e+09   0.00000000e+00]]\n",
      "[[ -1.30300259e+08  -3.40973114e+06   0.00000000e+00]\n",
      " [  5.67929747e+10   2.07000622e+10   0.00000000e+00]\n",
      " [  1.06825482e+11   1.51236831e+10   0.00000000e+00]\n",
      " [  7.87291701e+10   2.37290446e+10   0.00000000e+00]\n",
      " [  1.39854775e+11   3.99325382e+08   0.00000000e+00]\n",
      " [  2.20244760e+11   1.03837131e+10   0.00000000e+00]\n",
      " [  7.78268634e+11   5.64238957e+09   0.00000000e+00]\n",
      " [  1.42710252e+12   4.17712288e+09   0.00000000e+00]\n",
      " [  2.86481200e+12   3.69728247e+09   0.00000000e+00]\n",
      " [  4.49787915e+12   2.38612285e+09   0.00000000e+00]]\n",
      "[[ -2.82286470e+08  -1.39981678e+07   0.00000000e+00]\n",
      " [  5.71717118e+10   2.48340364e+10   0.00000000e+00]\n",
      " [  1.06205733e+11   1.81440922e+10   0.00000000e+00]\n",
      " [  3.71922873e+10   2.48626347e+10   0.00000000e+00]\n",
      " [  1.35715797e+11   3.99053070e+08   0.00000000e+00]\n",
      " [  2.16166485e+11   1.24276309e+10   0.00000000e+00]\n",
      " [  7.78113376e+11   6.76096025e+09   0.00000000e+00]\n",
      " [  1.42782001e+12   5.01071414e+09   0.00000000e+00]\n",
      " [  2.82327512e+12   2.84790617e+09   0.00000000e+00]\n",
      " [  4.49759235e+12   2.86067220e+09   0.00000000e+00]]\n",
      "[[ -5.39465693e+08  -3.37684348e+07   0.00000000e+00]\n",
      " [  5.74372431e+10   1.03487982e+11   0.00000000e+00]\n",
      " [  1.05458919e+11   2.12055379e+10   0.00000000e+00]\n",
      " [ -1.58155223e+11   2.98876239e+10   0.00000000e+00]\n",
      " [  1.31311137e+11   7.49175657e+10   0.00000000e+00]\n",
      " [  2.11124408e+11   1.47828154e+10   0.00000000e+00]\n",
      " [  7.77852925e+11   7.87034910e+09   0.00000000e+00]\n",
      " [  1.42842428e+12   8.03642769e+10   0.00000000e+00]\n",
      " [  2.62792761e+12   5.88992897e+09   0.00000000e+00]\n",
      " [  4.49672336e+12   3.57459195e+09   0.00000000e+00]]\n",
      "[[ -7.35422647e+08  -3.01301819e+07   0.00000000e+00]\n",
      " [  5.76302106e+10   2.56661108e+11   0.00000000e+00]\n",
      " [  1.04607368e+11   2.42940028e+10   0.00000000e+00]\n",
      " [ -2.10294047e+11   4.13640912e+10   0.00000000e+00]\n",
      " [  1.26836898e+11   2.23955259e+11   0.00000000e+00]\n",
      " [  2.06389839e+11   1.69316097e+10   0.00000000e+00]\n",
      " [  7.77653697e+11   9.00314647e+09   0.00000000e+00]\n",
      " [  1.42895600e+12   2.30237020e+11   0.00000000e+00]\n",
      " [  2.57578878e+12   1.53834299e+10   0.00000000e+00]\n",
      " [  3.41969256e+12   6.73861879e+11   0.00000000e+00]]\n",
      "[[ -8.64827295e+08  -3.12607884e+06   0.00000000e+00]\n",
      " [  5.78201830e+10   4.09833782e+11   0.00000000e+00]\n",
      " [  1.03673923e+11   2.73769179e+10   0.00000000e+00]\n",
      " [ -2.83292648e+11   4.61018651e+10   0.00000000e+00]\n",
      " [  1.22354403e+11   3.72983065e+11   0.00000000e+00]\n",
      " [  2.01311559e+11   1.90937934e+10   0.00000000e+00]\n",
      " [  7.77521540e+11   1.01613326e+10   0.00000000e+00]\n",
      " [  1.42948430e+12   3.80107611e+11   0.00000000e+00]\n",
      " [  2.50279018e+12   1.81382374e+10   0.00000000e+00]\n",
      " [  2.34265351e+12   1.34414701e+12   0.00000000e+00]]\n",
      "[[ -9.94233003e+08   2.38849073e+07   0.00000000e+00]\n",
      " [  5.80101555e+10   5.63006457e+11   0.00000000e+00]\n",
      " [  1.02700720e+11   3.04627092e+10   0.00000000e+00]\n",
      " [ -3.56478138e+11   5.37744924e+10   0.00000000e+00]\n",
      " [  1.17441051e+11   5.22263686e+11   0.00000000e+00]\n",
      " [  1.95931702e+11   2.12777922e+10   0.00000000e+00]\n",
      " [  7.77388863e+11   1.13175027e+10   0.00000000e+00]\n",
      " [  1.43001220e+12   5.29976502e+11   0.00000000e+00]\n",
      " [  2.42960469e+12   2.38278983e+10   0.00000000e+00]\n",
      " [  1.26518360e+12   2.01467723e+12   0.00000000e+00]]\n",
      "[[ -1.12363977e+09   5.09027767e+07   0.00000000e+00]\n",
      " [  5.82001279e+10   7.16179131e+11   0.00000000e+00]\n",
      " [  1.01691051e+11   3.35520945e+10   0.00000000e+00]\n",
      " [ -4.29903898e+11   6.05408330e+10   0.00000000e+00]\n",
      " [  1.12095315e+11   6.71789347e+11   0.00000000e+00]\n",
      " [  1.90275246e+11   2.34890525e+10   0.00000000e+00]\n",
      " [  7.77261297e+11   1.25370508e+10   0.00000000e+00]\n",
      " [  1.43054009e+12   6.79845080e+11   0.00000000e+00]\n",
      " [  2.35617893e+12   3.31947065e+10   0.00000000e+00]\n",
      " [  1.87281304e+11   2.68545249e+12   0.00000000e+00]]\n",
      "[[ -1.25304528e+09   7.79216586e+07   0.00000000e+00]\n",
      " [  5.80943473e+10   8.69453695e+11   0.00000000e+00]\n",
      " [  1.00592370e+11   3.69750933e+10   0.00000000e+00]\n",
      " [ -5.03015777e+11   6.63845057e+10   0.00000000e+00]\n",
      " [  1.06748670e+11   8.21316451e+11   0.00000000e+00]\n",
      " [  1.83943623e+11   2.82308060e+10   0.00000000e+00]\n",
      " [  7.77128620e+11   1.36932288e+10   0.00000000e+00]\n",
      " [  1.43077221e+12   8.29815860e+11   0.00000000e+00]\n",
      " [  2.28306705e+12   4.16388469e+10   0.00000000e+00]\n",
      " [ -8.90621898e+11   3.35622918e+12   0.00000000e+00]]\n",
      "[[ -1.38245244e+09   1.04942236e+08   0.00000000e+00]\n",
      " [  5.76927582e+10   1.02282922e+12   0.00000000e+00]\n",
      " [  9.93910896e+10   4.11141134e+10   0.00000000e+00]\n",
      " [ -5.76542985e+11   7.18921678e+10   0.00000000e+00]\n",
      " [  1.00811166e+11   9.71046075e+11   0.00000000e+00]\n",
      " [  1.76833778e+11   3.58617933e+10   0.00000000e+00]\n",
      " [  7.76995941e+11   1.48494085e+10   0.00000000e+00]\n",
      " [  1.43070852e+12   9.79887601e+11   0.00000000e+00]\n",
      " [  2.20953985e+12   4.97469767e+10   0.00000000e+00]\n",
      " [ -1.96911596e+12   4.02720840e+12   0.00000000e+00]]\n",
      "[[ -1.51186436e+09   1.31964361e+08   0.00000000e+00]\n",
      " [  5.72521119e+10   1.17348624e+12   0.00000000e+00]\n",
      " [  9.81085005e+10   4.59176991e+10   0.00000000e+00]\n",
      " [ -6.50113129e+11   7.74196112e+10   0.00000000e+00]\n",
      " [  9.48737326e+10   1.12076601e+12   0.00000000e+00]\n",
      " [  1.69766402e+11   4.59917162e+10   0.00000000e+00]\n",
      " [  7.76863258e+11   1.60055898e+10   0.00000000e+00]\n",
      " [  1.43060577e+12   1.12724084e+12   0.00000000e+00]\n",
      " [  2.13596970e+12   5.78551080e+10   0.00000000e+00]\n",
      " [ -3.04760995e+12   4.69817793e+12   0.00000000e+00]]\n",
      "[[ -1.64127383e+09   1.58989652e+08   0.00000000e+00]\n",
      " [  5.67736182e+10   1.32142553e+12   0.00000000e+00]\n",
      " [  9.67523507e+10   5.09804424e+10   0.00000000e+00]\n",
      " [ -7.22200981e+11   8.36936335e+10   0.00000000e+00]\n",
      " [  8.88595755e+10   1.26505940e+12   0.00000000e+00]\n",
      " [  1.62141060e+11   5.80873772e+10   0.00000000e+00]\n",
      " [  7.76730577e+11   1.71617742e+10   0.00000000e+00]\n",
      " [  1.43046518e+12   1.27187634e+12   0.00000000e+00]\n",
      " [  2.06388185e+12   6.67295980e+10   0.00000000e+00]\n",
      " [ -4.12618067e+12   5.36372092e+12   0.00000000e+00]]\n",
      "[[ -1.77068149e+09   1.86017332e+08   0.00000000e+00]\n",
      " [  5.62962433e+10   1.46936248e+12   0.00000000e+00]\n",
      " [  9.53518557e+10   5.60233082e+10   0.00000000e+00]\n",
      " [ -7.95785618e+11   8.92033110e+10   0.00000000e+00]\n",
      " [  8.28465727e+10   1.40935263e+12   0.00000000e+00]\n",
      " [  1.54736517e+11   7.02878450e+10   0.00000000e+00]\n",
      " [  7.76597898e+11   1.83179610e+10   0.00000000e+00]\n",
      " [  1.43032571e+12   1.41650951e+12   0.00000000e+00]\n",
      " [  1.99029721e+12   7.48397432e+10   0.00000000e+00]\n",
      " [ -5.20475023e+12   6.02926374e+12   0.00000000e+00]]\n",
      "[[ -1.90009431e+09   2.13047685e+08   0.00000000e+00]\n",
      " [  5.58452073e+10   1.61719454e+12   0.00000000e+00]\n",
      " [  9.39125692e+10   6.16082842e+10   0.00000000e+00]\n",
      " [ -8.70308956e+11   9.47136877e+10   0.00000000e+00]\n",
      " [  7.69521018e+10   1.55318429e+12   0.00000000e+00]\n",
      " [  1.47037735e+11   8.66002759e+10   0.00000000e+00]\n",
      " [  7.76465214e+11   1.94741504e+10   0.00000000e+00]\n",
      " [  1.43021257e+12   1.56103779e+12   0.00000000e+00]\n",
      " [  1.91577388e+12   8.29478827e+10   0.00000000e+00]\n",
      " [ -6.28320125e+12   6.69434499e+12   0.00000000e+00]]\n",
      "[[ -2.02950975e+09   2.40080905e+08   0.00000000e+00]\n",
      " [  5.59570922e+10   1.76492856e+12   0.00000000e+00]\n",
      " [  9.24047705e+10   6.82974535e+10   0.00000000e+00]\n",
      " [ -9.43944465e+11   1.00315578e+11   0.00000000e+00]\n",
      " [  7.09935772e+10   1.69727212e+12   0.00000000e+00]\n",
      " [  1.38819282e+11   1.11288130e+11   0.00000000e+00]\n",
      " [  7.76332527e+11   2.06303428e+10   0.00000000e+00]\n",
      " [  1.43066236e+12   1.70546803e+12   0.00000000e+00]\n",
      " [  1.84213837e+12   9.11502404e+10   0.00000000e+00]\n",
      " [ -7.36171634e+12   7.35968242e+12   0.00000000e+00]]\n",
      "[[ -2.15893060e+09   2.67117761e+08   0.00000000e+00]\n",
      " [  5.66055251e+10   1.91266711e+12   0.00000000e+00]\n",
      " [  9.08383839e+10   7.61113731e+10   0.00000000e+00]\n",
      " [ -1.01771084e+12   1.05900020e+11   0.00000000e+00]\n",
      " [  6.61064257e+10   1.84136867e+12   0.00000000e+00]\n",
      " [  1.30574734e+11   1.37110790e+11   0.00000000e+00]\n",
      " [  7.76199835e+11   2.17865387e+10   0.00000000e+00]\n",
      " [  1.43164869e+12   1.84990280e+12   0.00000000e+00]\n",
      " [  1.76837199e+12   9.93351509e+10   0.00000000e+00]\n",
      " [ -8.43916005e+12   8.02502857e+12   0.00000000e+00]]\n"
     ]
    }
   ],
   "source": [
    "plt.subplot(111)\n",
    "plt.plot([x[0][0] for x in plot_list], [x[0][1] for x in plot_list], label=\"Sun\")\n",
    "plt.legend(bbox_to_anchor=(1.05, 1), loc=2, borderaxespad=0.)\n",
    "plt.show()\n",
    "\n",
    "plt.subplot(111)\n",
    "plt.plot([x[1][0] for x in plot_list], [x[1][1] for x in plot_list], label=\"Mercury\")\n",
    "plt.legend(bbox_to_anchor=(1.05, 1), loc=2, borderaxespad=0.)\n",
    "plt.show()\n",
    "\n",
    "plt.subplot(111)\n",
    "plt.plot([x[2][0] for x in plot_list], [x[2][1] for x in plot_list], label=\"Venus\")\n",
    "plt.legend(bbox_to_anchor=(1.05, 1), loc=2, borderaxespad=0.)\n",
    "plt.show()\n",
    "\n",
    "plt.subplot(111)\n",
    "plt.plot([x[3][0] for x in plot_list], [x[3][1] for x in plot_list], label=\"Earth\")\n",
    "plt.legend(bbox_to_anchor=(1.05, 1), loc=2, borderaxespad=0.)\n",
    "plt.show()\n",
    "\n",
    "plt.subplot(111)\n",
    "plt.plot([x[4][0] for x in plot_list], [x[4][1] for x in plot_list], label=\"Moon\")\n",
    "plt.legend(bbox_to_anchor=(1.05, 1), loc=2, borderaxespad=0.)\n",
    "plt.show()\n",
    "\n",
    "plt.subplot(111)\n",
    "plt.plot([x[5][0] for x in plot_list], [x[5][1] for x in plot_list], label=\"Mars\")\n",
    "plt.legend(bbox_to_anchor=(1.05, 1), loc=2, borderaxespad=0.)\n",
    "plt.show()\n",
    "\n",
    "plt.subplot(111)\n",
    "plt.plot([x[6][0] for x in plot_list], [x[6][1] for x in plot_list], label=\"Jupiter\")\n",
    "plt.legend(bbox_to_anchor=(1.05, 1), loc=2, borderaxespad=0.)\n",
    "plt.show()\n",
    "\n",
    "plt.subplot(111)\n",
    "plt.plot([x[7][0] for x in plot_list], [x[7][1] for x in plot_list], label=\"Saturn\")\n",
    "plt.legend(bbox_to_anchor=(1.05, 1), loc=2, borderaxespad=0.)\n",
    "plt.show()\n",
    "\n",
    "plt.subplot(111)\n",
    "plt.plot([x[8][0] for x in plot_list], [x[8][1] for x in plot_list], label=\"Uranus\")\n",
    "plt.legend(bbox_to_anchor=(1.05, 1), loc=2, borderaxespad=0.)\n",
    "plt.show()\n",
    "\n",
    "plt.subplot(111)\n",
    "plt.plot([x[9][0] for x in plot_list], [x[9][1] for x in plot_list], label=\"Neptune\")\n",
    "plt.legend(bbox_to_anchor=(1.05, 1), loc=2, borderaxespad=0.)\n",
    "plt.show()\n",
    "\n",
    "print(\"plot_list_length\", len(plot_list))\n",
    "for _ in range (20):\n",
    "    print(plot_list[_])"
   ]
  },
  {
   "cell_type": "markdown",
   "metadata": {},
   "source": [
    "## Simulation Starter"
   ]
  },
  {
   "cell_type": "code",
   "execution_count": null,
   "metadata": {},
   "outputs": [],
   "source": [
    "%%file ./pubyc_renderer/galaxy_renderer.py\n",
    "\"\"\"\n",
    "OpenGL output for gravity simulation\n",
    "\"\"\"\n",
    "#\n",
    "# Copyright (C) 2017  \"Peter Roesch\" <Peter.Roesch@fh-augsburg.de>\n",
    "#\n",
    "# This program is free software; you can redistribute it and/or\n",
    "# modify it under the terms of the GNU General Public License\n",
    "# as published by the Free Software Foundation; either version 3\n",
    "# of the License, or (at your option) any later version.\n",
    "#\n",
    "# This program is distributed in the hope that it will be useful,\n",
    "# but WITHOUT ANY WARRANTY; without even the implied warranty of\n",
    "# MERCHANTABILITY or FITNESS FOR A PARTICULAR PURPOSE.  See the\n",
    "# GNU General Public License for more details.\n",
    "#\n",
    "# You should have received a copy of the GNU General Public License\n",
    "# along with this program; if not, write to the Free Software\n",
    "# Foundation, Inc., 59 Temple Place - Suite 330, Boston, MA  02111-1307, USA.\n",
    "# or open http://www.fsf.org/licensing/licenses/gpl.html\n",
    "#\n",
    "import sys\n",
    "import time\n",
    "\n",
    "try:\n",
    "    from OpenGL import GLUT\n",
    "    from OpenGL import GL\n",
    "    from OpenGL import GLU\n",
    "except ImportError:\n",
    "    print(' Error: Software not installed properly !!')\n",
    "    sys.exit()\n",
    "\n",
    "from mouse_interactor import MouseInteractor\n",
    "from simulation_constants import END_MESSAGE\n",
    "\n",
    "# initial window parameters\n",
    "_WINDOW_SIZE = (512, 512)\n",
    "_WINDOW_POSITION = (100, 100)\n",
    "_LIGHT_POSITION = (2, 2, 3)\n",
    "_CAMERA_POSITION = (0, 0, 22)\n",
    "\n",
    "\n",
    "class GalaxyRenderer:\n",
    "    \"\"\"\n",
    "        Class containing OpenGL code\n",
    "    \"\"\"\n",
    "\n",
    "    def __init__(self, render_pipe, fps):\n",
    "        self.render_pipe = render_pipe\n",
    "        self.fps = fps\n",
    "        self.bodies = None\n",
    "        self.do_exit = False\n",
    "        self.sphere = None\n",
    "        self.init_glut()\n",
    "        self.init_gl()\n",
    "        self.mouse_interactor = MouseInteractor(0.01, 1)\n",
    "        self.mouse_interactor.register_callbacks()\n",
    "\n",
    "    def init_glut(self):\n",
    "        \"\"\"\n",
    "            Set up window and main callback functions\n",
    "        \"\"\"\n",
    "        GLUT.glutInit(['Galaxy Renderer'])\n",
    "        GLUT.glutInitDisplayMode(GLUT.GLUT_DOUBLE | GLUT.GLUT_RGB)\n",
    "        GLUT.glutInitWindowSize(_WINDOW_SIZE[0], _WINDOW_SIZE[1])\n",
    "        GLUT.glutInitWindowPosition(_WINDOW_POSITION[0], _WINDOW_POSITION[1])\n",
    "        GLUT.glutCreateWindow(str.encode(\"Galaxy Renderer\"))\n",
    "        GLUT.glutDisplayFunc(self.render)\n",
    "        GLUT.glutIdleFunc(self.update_positions)\n",
    "\n",
    "    def init_gl(self):\n",
    "        \"\"\"\n",
    "            Initialise OpenGL settings\n",
    "        \"\"\"\n",
    "        self.sphere = GL.glGenLists(1)\n",
    "        GL.glNewList(self.sphere, GL.GL_COMPILE)\n",
    "        quad_obj = GLU.gluNewQuadric()\n",
    "        GLU.gluQuadricDrawStyle(quad_obj, GLU.GLU_FILL)\n",
    "        GLU.gluQuadricNormals(quad_obj, GLU.GLU_SMOOTH)\n",
    "        GLU.gluSphere(quad_obj, 1, 32, 32)\n",
    "        GL.glEndList()\n",
    "        GL.glShadeModel(GL.GL_SMOOTH)\n",
    "        GL.glEnable(GL.GL_DEPTH_TEST)\n",
    "        GL.glEnable(GL.GL_CULL_FACE)\n",
    "        GL.glEnable(GL.GL_LIGHTING)\n",
    "        # make sure normal vectors of scaled spheres are normalised\n",
    "        GL.glEnable(GL.GL_NORMALIZE)\n",
    "        GL.glEnable(GL.GL_LIGHT0)\n",
    "        light_pos = list(_LIGHT_POSITION) + [1]\n",
    "        GL.glLightfv(GL.GL_LIGHT0, GL.GL_POSITION, light_pos)\n",
    "        GL.glLightfv(GL.GL_LIGHT0, GL.GL_AMBIENT, [0.0, 0.0, 1.0, 1.0])\n",
    "        GL.glLightfv(GL.GL_LIGHT0, GL.GL_DIFFUSE, [1.0, 0.0, 0.0, 1.0])\n",
    "        GL.glLightfv(GL.GL_LIGHT0, GL.GL_SPECULAR, [1.0, 1.0, 1.0, 1.0])\n",
    "        GL.glMaterialfv(GL.GL_FRONT, GL.GL_AMBIENT, [0.5, .2, .2, 1])\n",
    "        GL.glMaterialfv(GL.GL_FRONT, GL.GL_DIFFUSE, [0.7, 0.7, 0.7, 1])\n",
    "        GL.glMaterialfv(GL.GL_FRONT, GL.GL_SPECULAR, [0.1, 0.1, 0.1, 1])\n",
    "        GL.glMaterialf(GL.GL_FRONT, GL.GL_SHININESS, 2)\n",
    "        GL.glMatrixMode(GL.GL_PROJECTION)\n",
    "        GL.glLoadIdentity()\n",
    "        GLU.gluPerspective(60, 1, .01, 100)\n",
    "        GL.glMatrixMode(GL.GL_MODELVIEW)\n",
    "\n",
    "    def render(self):\n",
    "        \"\"\"\n",
    "            Render the scene using the sphere display list\n",
    "        \"\"\"\n",
    "        if self.do_exit:\n",
    "            print('renderer exiting ...')\n",
    "            # glut event loop needs hard exit ...\n",
    "            sys.exit(0)\n",
    "        if self.bodies is None:\n",
    "            time.sleep(1 / self.fps)\n",
    "            return\n",
    "        GL.glClear(GL.GL_COLOR_BUFFER_BIT | GL.GL_DEPTH_BUFFER_BIT)\n",
    "        GL.glMatrixMode(GL.GL_PROJECTION)\n",
    "        GL.glLoadIdentity()\n",
    "        x_size = GLUT.glutGet(GLUT.GLUT_WINDOW_WIDTH)\n",
    "        y_size = GLUT.glutGet(GLUT.GLUT_WINDOW_HEIGHT)\n",
    "        GLU.gluPerspective(60, float(x_size) / float(y_size), 0.01, 100)\n",
    "        GL.glMatrixMode(GL.GL_MODELVIEW)\n",
    "        GL.glLoadIdentity()\n",
    "        GL.glTranslatef(-_CAMERA_POSITION[0],\n",
    "                        -_CAMERA_POSITION[1],\n",
    "                        -_CAMERA_POSITION[2])\n",
    "        self.mouse_interactor.apply_transformation()\n",
    "        for body_index in range(self.bodies.shape[0]):\n",
    "            body = self.bodies[body_index, :]\n",
    "            GL.glPushMatrix()\n",
    "            GL.glTranslatef(body[0], body[1], body[2])\n",
    "            GL.glScalef(body[3], body[3], body[3])\n",
    "            GL.glCallList(self.sphere)\n",
    "            GL.glPopMatrix()\n",
    "        GLUT.glutSwapBuffers()\n",
    "\n",
    "    @staticmethod\n",
    "    def start():\n",
    "        \"\"\"\n",
    "            Start the GLUT event loop.\n",
    "        \"\"\"\n",
    "        GLUT.glutMainLoop()\n",
    "\n",
    "    def update_positions(self):\n",
    "        \"\"\"\n",
    "            Read new object positions from pipe.\n",
    "        \"\"\"\n",
    "        if self.render_pipe.poll():\n",
    "            pipe_input = self.render_pipe.recv()\n",
    "            if isinstance(pipe_input, str) and pipe_input == END_MESSAGE:\n",
    "                self.do_exit = True\n",
    "            else:\n",
    "                self.bodies = pipe_input\n",
    "                GLUT.glutPostRedisplay()\n",
    "        else:\n",
    "            time.sleep(1 / self.fps)\n",
    "\n",
    "\n",
    "def startup(render_pipe, fps):\n",
    "    \"\"\"\n",
    "        Create GalaxyRenderer instance and start rendering\n",
    "\n",
    "        Args:\n",
    "            render_pipe (multiprocessing.Pipe): Pipe to read positions from\n",
    "            fps (float): Number of frames per second\n",
    "    \"\"\"\n",
    "    print('creating renderer')\n",
    "    galaxy_renderer = GalaxyRenderer(render_pipe, fps)\n",
    "    print('starting renderer')\n",
    "    galaxy_renderer.start()\n",
    "    print('done')"
   ]
  },
  {
   "cell_type": "code",
   "execution_count": null,
   "metadata": {},
   "outputs": [],
   "source": [
    "%%file ./pubyc_renderer/simulation.py\n",
    "\n",
    "import sys\n",
    "from loop import Loop\n",
    "from simulation_constants import END_MESSAGE\n",
    "import numpy as np\n",
    "import math\n",
    "import time\n",
    "\n",
    "def startup(sim_pipe):\n",
    "    python_position = [\n",
    "        #\"Sun\"\n",
    "        [0, 0, 0],     \n",
    "        #\"Mercury\"\n",
    "        [57_909_175_000, 0, 0], \n",
    "        #\"Venus\"\n",
    "        [108_208_930_000, 0, 0],    \n",
    "        #\"Earth\"\n",
    "        [149_597_890_000, 0, 0],    \n",
    "        #\"Moon\"\n",
    "        [149_597_890_000, 384_400_000, 0],    \n",
    "        #\"Mars\"\n",
    "        [227_936_640_000, 0, 0],    \n",
    "        #\"Jupiter\"\n",
    "        [778_412_020_000, 0, 0],    \n",
    "        #\"Saturn\"\n",
    "        [1_426_725_400_000, 0, 0],    \n",
    "        #\"Uranus\"\n",
    "        [2_870_972_200_000, 0, 0],    \n",
    "        #\"Neptune\"\n",
    "        [4_498_252_900_000, 0, 0]\n",
    "    ]\n",
    "\n",
    "    python_speed = [\n",
    "        #\"Sun\"\n",
    "        [0, 0, 0],     \n",
    "        #\"Mercury\"\n",
    "        [0, 47_872, 0], \n",
    "        #\"Venus\"\n",
    "        [0, 35_021, 0],    \n",
    "        #\"Earth\"\n",
    "        [0, 29_786, 0],    \n",
    "        #\"Moon\"\n",
    "        [-1_022, 0, 0],    \n",
    "        #\"Mars\"\n",
    "        [0, 24_131, 0],    \n",
    "        #\"Jupiter\"\n",
    "        [0, 13_069, 0],    \n",
    "        #\"Saturn\"\n",
    "        [0, 9_672, 0],    \n",
    "        #\"Uranus\"\n",
    "        [0, 6_835, 0],    \n",
    "        #\"Neptune\"\n",
    "        [0, 5_477, 0]\n",
    "    ]\n",
    "\n",
    "    python_masse = [\n",
    "        #\"Sun\"\n",
    "        1.9889 * 10 ** 30,     \n",
    "        #\"Mercury\"\n",
    "        3.3022 * 10 ** 23, \n",
    "        #\"Venus\"\n",
    "        4.8685 * 10 ** 24,    \n",
    "        #\"Earth\"\n",
    "        5.97219 * 10 ** 24,    \n",
    "        #\"Moon\"\n",
    "        7.34767309 * 10 ** 22,    \n",
    "        #\"Mars\"\n",
    "        6.4185 * 10 ** 23,    \n",
    "        #\"Jupiter\"\n",
    "        1.8987 * 10 ** 27,    \n",
    "        #\"Saturn\"\n",
    "        5.6851 * 10 ** 26,    \n",
    "        #\"Uranus\"\n",
    "        8.6849 * 10 ** 25,    \n",
    "        #\"Neptune\"\n",
    "        1.0244 * 10 ** 26\n",
    "    ]\n",
    "\n",
    "    FACTOR = 5\n",
    "    radius =  [\n",
    "        0.25 * FACTOR,\n",
    "        0.02 * FACTOR,\n",
    "        0.06 * FACTOR,\n",
    "        0.06 * FACTOR,\n",
    "        0.01 * FACTOR,\n",
    "        0.03 * FACTOR,\n",
    "        0.18 * FACTOR,\n",
    "        0.15 * FACTOR,\n",
    "        0.1 * FACTOR,\n",
    "        0.1 * FACTOR\n",
    "    ]\n",
    "    position = np.array(python_position, dtype=np.float64)\n",
    "    speed = np.array(python_speed, dtype=np.float64)\n",
    "    masse = np.array(python_masse, dtype=np.float64)\n",
    "    dt = 60\n",
    "\n",
    "    while True:\n",
    "        if sim_pipe.poll():\n",
    "            message = sim_pipe.recv()\n",
    "            if isinstance(message, str) and message == END_MESSAGE:\n",
    "                print('simulation exiting ...')\n",
    "                sys.exit(0)\n",
    "\n",
    "\n",
    "        Loop(position, speed, masse, dt)\n",
    "\n",
    "        body_array = np.zeros((len(python_position), 4), dtype=np.float64)\n",
    "        normalization = -11\n",
    "        \n",
    "        for body_index in range(len(python_position)):\n",
    "            body_array[body_index][0] = position[body_index][0] / 4_498_252_900_000\n",
    "            body_array[body_index][1] = position[body_index][1] / 4_498_252_900_000\n",
    "            body_array[body_index][2] = position[body_index][2] / 4_498_252_900_000\n",
    "            body_array[body_index][3] = radius[body_index]\n",
    "            \n",
    "        #for body_index in range(len(python_position)):\n",
    "            #body_array[body_index][0] = position[body_index][0] * math.pow(10, normalization)\n",
    "            #body_array[body_index][1] = position[body_index][1] * math.pow(10, normalization)\n",
    "            #body_array[body_index][2] = position[body_index][2] * math.pow(10, normalization)\n",
    "            #body_array[body_index][3] = radius[body_index]\n",
    "            \n",
    "        print(position)    \n",
    "        print(body_array)\n",
    "        \n",
    "        time.sleep(20)\n",
    "\n",
    "        sim_pipe.send(body_array)"
   ]
  },
  {
   "cell_type": "code",
   "execution_count": null,
   "metadata": {
    "collapsed": true
   },
   "outputs": [],
   "source": []
  }
 ],
 "metadata": {
  "kernelspec": {
   "display_name": "Python 3",
   "language": "python",
   "name": "python3"
  },
  "language_info": {
   "codemirror_mode": {
    "name": "ipython",
    "version": 3
   },
   "file_extension": ".py",
   "mimetype": "text/x-python",
   "name": "python",
   "nbconvert_exporter": "python",
   "pygments_lexer": "ipython3",
   "version": "3.6.3"
  },
  "latex_envs": {
   "LaTeX_envs_menu_present": true,
   "autocomplete": true,
   "bibliofile": "biblio.bib",
   "cite_by": "apalike",
   "current_citInitial": 1,
   "eqLabelWithNumbers": true,
   "eqNumInitial": 1,
   "hotkeys": {
    "equation": "Ctrl-E",
    "itemize": "Ctrl-I"
   },
   "labels_anchors": false,
   "latex_user_defs": false,
   "report_style_numbering": false,
   "user_envs_cfg": false
  }
 },
 "nbformat": 4,
 "nbformat_minor": 2
}
