{
 "cells": [
  {
   "cell_type": "markdown",
   "metadata": {},
   "source": [
    "## Einzelne Cython Module"
   ]
  },
  {
   "cell_type": "code",
   "execution_count": 2,
   "metadata": {
    "collapsed": true
   },
   "outputs": [],
   "source": [
    "import os\n",
    "os.mkdir('/tmp/cython_galaxy')"
   ]
  },
  {
   "cell_type": "code",
   "execution_count": 3,
   "metadata": {},
   "outputs": [
    {
     "name": "stdout",
     "output_type": "stream",
     "text": [
      "Writing /tmp/cython_galaxy/abstand.pyx\n"
     ]
    }
   ],
   "source": [
    "%%file /tmp/cython_galaxy/abstand.pyx\n",
    "cimport cython\n",
    "#Abstands Funktion\n",
    "#Abstand_Sonne = position[1] - position[0]\n",
    "\n",
    "@cython.boundscheck(False)\n",
    "@cython.cdivision(True)\n",
    "cpdef void Abstand (double [:, :] position_view , double[:] result ,int first, int second) nogil:   \n",
    "    result[0] = position_view[second][0] - position_view[first][0]\n",
    "    result[1] = position_view[second][1] - position_view[first][1]\n",
    "    result[2] = position_view[second][2] - position_view[first][2]"
   ]
  },
  {
   "cell_type": "code",
   "execution_count": 4,
   "metadata": {},
   "outputs": [
    {
     "name": "stdout",
     "output_type": "stream",
     "text": [
      "Writing /tmp/cython_galaxy/betrag.pyx\n"
     ]
    }
   ],
   "source": [
    "%%file /tmp/cython_galaxy/betrag.pyx\n",
    "cimport cython\n",
    "from libc.math cimport sqrt\n",
    "\n",
    "\n",
    "#Betrags Funktion\n",
    "#Betrag_Erde  = sqrt( Abstand_Erde**2 + Abstand_Erde**2 + Abstand_Erde**2)\n",
    "@cython.boundscheck(False)\n",
    "@cython.cdivision(True)\n",
    "cpdef void Betrag (double [:] abstand_view , double[:] result) nogil:\n",
    "    result[0] = sqrt(abstand_view[0]**2 + abstand_view[1]**2 + abstand_view[2]**2)"
   ]
  },
  {
   "cell_type": "markdown",
   "metadata": {},
   "source": [
    "## Extrem komisches Verhalten"
   ]
  },
  {
   "cell_type": "code",
   "execution_count": 5,
   "metadata": {
    "collapsed": true
   },
   "outputs": [],
   "source": [
    "%load_ext Cython"
   ]
  },
  {
   "cell_type": "code",
   "execution_count": 6,
   "metadata": {},
   "outputs": [
    {
     "name": "stdout",
     "output_type": "stream",
     "text": [
      "6.671999931335449\n",
      "10.0\n",
      "-11.0\n",
      "6.671999758234293e-11\n",
      "0.0\n"
     ]
    }
   ],
   "source": [
    "%%cython\n",
    "\n",
    "#6.671999931335449\n",
    "#10.0\n",
    "#-11.0\n",
    "#6.671999758234293e-11\n",
    "#0.0\n",
    "#WTF?????\n",
    "cdef float g1 = 6.672\n",
    "cdef float g2 = 10\n",
    "cdef float g3 = -11\n",
    "cdef float g = g1 * g2 ** g3\n",
    "cdef float G = 6.672 * 10 ** -11\n",
    "\n",
    "print(g1)\n",
    "print(g2)\n",
    "print(g3)\n",
    "print(g)\n",
    "print(G)"
   ]
  },
  {
   "cell_type": "code",
   "execution_count": 7,
   "metadata": {},
   "outputs": [
    {
     "name": "stdout",
     "output_type": "stream",
     "text": [
      "3.541209210039036e+22\n"
     ]
    }
   ],
   "source": [
    "%%cython\n",
    "\n",
    "#('G', 6.671999758234293e-11)\n",
    "#('betrag', 3.347930846024836e+33)\n",
    "#('masse_view[first_planet]', 5.972189887017193e+24)\n",
    "#('masse_view[second_planet]', 1.9888999754506858e+30)\n",
    "#('abstand_view[0]', 149597896704.0)\n",
    "#('abstand_view[1]', 0.0)\n",
    "#('abstand_view[2]', 0.0)\n",
    "#('result[0]', inf)\n",
    "#('result[0]', inf)\n",
    "#('result[0]', inf)\n",
    "\n",
    "#result[1] = G * (masse_view[first_planet] * masse_view[second_planet] / betrag) * abstand_view[1]\n",
    "#result[2] = G * (masse_view[first_planet] * masse_view[second_planet] / betrag) * abstand_view[2]\n",
    "cdef float g1 = 6.672\n",
    "cdef float g2 = 10\n",
    "cdef float g3 = -11\n",
    "\n",
    "cdef float G = g1 * g2 ** g3\n",
    "cdef float betrag = 3.347930846024836e+33\n",
    "cdef float result\n",
    "\n",
    "result = G * (5.972189887017193e+24 * 1.9888999754506858e+30 / betrag) * 149597896704.0\n",
    "print(result)"
   ]
  },
  {
   "cell_type": "code",
   "execution_count": 8,
   "metadata": {},
   "outputs": [
    {
     "name": "stdout",
     "output_type": "stream",
     "text": [
      "Writing /tmp/cython_galaxy/kraft.pyx\n"
     ]
    }
   ],
   "source": [
    "%%file /tmp/cython_galaxy/kraft.pyx\n",
    "cimport cython\n",
    "\n",
    "#Kraft Funktion\n",
    "#Kraft_Erde = G * (masse_erde * masse_sonne / (Betrag_Erde  ** 3)) * Abstand_Erde\n",
    "@cython.boundscheck(False)\n",
    "@cython.cdivision(True)\n",
    "cpdef void Kraft (double [:] masse_view, double [:] abstand_view,  double [:] Betrag, \\\n",
    "                  int first_planet, int second_planet, double[:] result) nogil:\n",
    "    \n",
    "    cdef double g1 = 6.672\n",
    "    cdef double g2 = 10\n",
    "    cdef double g3 = -11\n",
    "    \n",
    "    cdef double G = g1 * g2 ** g3\n",
    "    cdef double betrag = Betrag[0] ** 3\n",
    "\n",
    "    cdef double masse_multyply = masse_view[first_planet] * masse_view[second_planet]\n",
    "    \n",
    "    result[0] = G * (masse_multyply / betrag) * abstand_view[0]\n",
    "    result[1] = G * (masse_multyply / betrag) * abstand_view[1]\n",
    "    result[2] = G * (masse_multyply / betrag) * abstand_view[2]"
   ]
  },
  {
   "cell_type": "code",
   "execution_count": 9,
   "metadata": {},
   "outputs": [
    {
     "name": "stdout",
     "output_type": "stream",
     "text": [
      "Writing /tmp/cython_galaxy/beschleunigung.pyx\n"
     ]
    }
   ],
   "source": [
    "%%file /tmp/cython_galaxy/beschleunigung.pyx\n",
    "cimport cython\n",
    "\n",
    "#Beschleunigungs Funktion\n",
    "#Beschleunigung_Erde  = Kraft_Erde  / masse\n",
    "@cython.boundscheck(False)\n",
    "@cython.cdivision(True)\n",
    "cpdef void Beschleunigung (double [:] kraft_view , double [:] masse_view, int massen_index, double[:] result) nogil:\n",
    "    cdef float G = 6.672 * 10 ** -11\n",
    "    result[0] = kraft_view[0]  / masse_view[massen_index]\n",
    "    result[1] = kraft_view[1]  / masse_view[massen_index]\n",
    "    result[2] = kraft_view[2]  / masse_view[massen_index]"
   ]
  },
  {
   "cell_type": "code",
   "execution_count": 10,
   "metadata": {},
   "outputs": [
    {
     "name": "stdout",
     "output_type": "stream",
     "text": [
      "Writing /tmp/cython_galaxy/positions_aktualliersierung.pyx\n"
     ]
    }
   ],
   "source": [
    "%%file /tmp/cython_galaxy/positions_aktualliersierung.pyx\n",
    "cimport cython\n",
    "\n",
    "#Positions Aktualliersierung\n",
    "#position = position + dt * geschwindigkeit  + ((dt ** 2) / 2) * Beschleunigung_Erde\n",
    "@cython.boundscheck(False)\n",
    "@cython.cdivision(True)\n",
    "cpdef void Positions_aktualliersierung (double [:, :] position_view , double [:, :] geschwindigkeit_view, \\\n",
    "                   double [:] beschleunigung_view, double dt, int planet_index) nogil:\n",
    "    \n",
    "    position_view[planet_index][0] = position_view[planet_index][0]  + dt * geschwindigkeit_view[planet_index][0] \\\n",
    "                                                + ((dt ** 2) / 2) * beschleunigung_view[0]\n",
    "        \n",
    "    position_view[planet_index][1] = position_view[planet_index][1]  + dt * geschwindigkeit_view[planet_index][1] \\\n",
    "                                                + ((dt ** 2) / 2) * beschleunigung_view[1]\n",
    "        \n",
    "    position_view[planet_index][2] = position_view[planet_index][2]  + dt * geschwindigkeit_view[planet_index][2] \\\n",
    "                                                + ((dt ** 2) / 2) * beschleunigung_view[2]"
   ]
  },
  {
   "cell_type": "code",
   "execution_count": 11,
   "metadata": {},
   "outputs": [
    {
     "name": "stdout",
     "output_type": "stream",
     "text": [
      "Writing /tmp/cython_galaxy/geschwindigkeit_aktualliersierung.pyx\n"
     ]
    }
   ],
   "source": [
    "%%file /tmp/cython_galaxy/geschwindigkeit_aktualliersierung.pyx\n",
    "cimport cython\n",
    "\n",
    "#Geschwindigkeits Aktuallisierung\n",
    "#geschwindigkeit[0][0]  += dt * Beschleunigung_Erde[0]\n",
    "@cython.boundscheck(False)\n",
    "@cython.cdivision(True)\n",
    "cpdef void Geschwindigkeit_aktualliersierung (double [:, :] geschwindigkeit_view , double [:] beschleunigung_view, \\\n",
    "                   double dt ,int planet_index) nogil:\n",
    "    geschwindigkeit_view[planet_index][0] = geschwindigkeit_view[planet_index][0] + dt * beschleunigung_view[0]\n",
    "    geschwindigkeit_view[planet_index][1] = geschwindigkeit_view[planet_index][1] + dt * beschleunigung_view[1]\n",
    "    geschwindigkeit_view[planet_index][2] = geschwindigkeit_view[planet_index][2] + dt * beschleunigung_view[2]"
   ]
  },
  {
   "cell_type": "markdown",
   "metadata": {},
   "source": [
    "## Gil Version Finished and Debuged"
   ]
  },
  {
   "cell_type": "code",
   "execution_count": 12,
   "metadata": {},
   "outputs": [
    {
     "name": "stdout",
     "output_type": "stream",
     "text": [
      "Writing /tmp/cython_galaxy/loop.pyx\n"
     ]
    }
   ],
   "source": [
    "%%file /tmp/cython_galaxy/loop.pyx\n",
    "from cython.parallel import prange\n",
    "from abstand import Abstand\n",
    "from betrag import Betrag\n",
    "from kraft import Kraft\n",
    "from beschleunigung import Beschleunigung\n",
    "from positions_aktualliersierung import Positions_aktualliersierung\n",
    "from geschwindigkeit_aktualliersierung import Geschwindigkeit_aktualliersierung\n",
    "import numpy as np\n",
    "cimport cython\n",
    "\n",
    "def Loop (pos_list):\n",
    "    #Erstellen der Python Listen\n",
    "    python_position = [[149_597_890_000, 0,0], [0,0,0]]\n",
    "    python_geschwindigkeit = [[0, 29.786 * 10**3,0], [0,0,0]]\n",
    "    python_masse = [5.97219 * 10 ** 24, 1.9889 * 10 ** 30]\n",
    "    python_position_neu = []\n",
    "    python_geschwindigkeit_neu = []\n",
    "    python_position_list = []\n",
    "\n",
    "    #Umwandeln in Numpy Arrays\n",
    "    position = np.array(python_position, dtype=np.float64)\n",
    "    geschwindigkeit = np.array(python_geschwindigkeit,dtype=np.float64)\n",
    "    masse = np.array(python_masse,dtype=np.float64)\n",
    "    position_neu = np.array(python_position_neu ,dtype=np.float64)\n",
    "    geschwindigkeit_neu = np.ndarray(python_geschwindigkeit_neu ,dtype=np.float64)\n",
    "    \n",
    "    #Umwandlung in MemoryView\n",
    "    cdef double [:, :] position_view = position\n",
    "    cdef double [:, :] geschwindigkeit_view = geschwindigkeit\n",
    "    cdef double [:] masse_view = masse\n",
    "    \n",
    "    #Statische Variable\n",
    "    cdef int dt = 60\n",
    "    cdef long Jahr = 360 * 24 * 60 * 2\n",
    "    cdef int i\n",
    "    cdef int debug = 1\n",
    "    \n",
    "    #Temporaere MemoryView zum ZwischenSpeichern\n",
    "    cdef double [:] Abstand_Erde = np.array([0,0,0],  dtype=np.float64)\n",
    "    cdef double [:] Abstand_Sonne = np.array([0,0,0],  dtype=np.float64)\n",
    "    cdef double [:] Betrag_Erde = np.array([0],  dtype=np.float64)\n",
    "    cdef double [:] Betrag_Sonne = np.array([0],  dtype=np.float64) \n",
    "    cdef double [:] Kraft_Erde = np.array([0,0,0],  dtype=np.float64)\n",
    "    cdef double [:] Kraft_Sonne = np.array([0,0,0],  dtype=np.float64)  \n",
    "    cdef double [:] Beschleunigung_Erde = np.array([0,0,0],  dtype=np.float64)\n",
    "    cdef double [:] Beschleunigung_Sonne = np.array([0,0,0],  dtype=np.float64)\n",
    "    \n",
    "    cpdef int Erde_index = 0\n",
    "    cpdef int Sonne_index = 1\n",
    "\n",
    "    #for i in prange (Jahr, nogil=True): \n",
    "    for i in range (Jahr): \n",
    "\n",
    "        ## Ausrechnen\n",
    "        # Erde = 0, Sonne = 1\n",
    "        if (i > 1 and i <20):\n",
    "            print(\"position_view[Erde_index]\", position_view[Erde_index][0],\\\n",
    "                 position_view[Erde_index][1], position_view[Erde_index][2])\n",
    "        \n",
    "        Abstand(position_view, Abstand_Erde, Erde_index, Sonne_index)\n",
    "        Abstand(position_view, Abstand_Sonne, Sonne_index, Erde_index)\n",
    "        \n",
    "        if (i == 0 and debug):\n",
    "            print(\"Abstand\", Abstand_Erde[0], Abstand_Erde[1], Abstand_Erde[2])\n",
    "  \n",
    "        Betrag(Abstand_Erde, Betrag_Erde)\n",
    "        Betrag(Abstand_Sonne, Betrag_Sonne)\n",
    "        \n",
    "        if (i == 0 and debug):\n",
    "            print(\"Betrag\", Betrag_Erde[0])\n",
    "\n",
    "        Kraft(masse_view, Abstand_Erde, Betrag_Erde, Erde_index, Sonne_index, Kraft_Erde)\n",
    "        Kraft(masse_view, Abstand_Sonne, Betrag_Sonne, Erde_index, Sonne_index, Kraft_Sonne)\n",
    "        \n",
    "        if (i == 0 and debug):\n",
    "\n",
    "            print(\"Kraft\", Kraft_Erde[0],Kraft_Erde[1], Kraft_Erde[2])\n",
    "\n",
    "        Beschleunigung(Kraft_Erde, masse_view, Erde_index, Beschleunigung_Erde)\n",
    "        Beschleunigung(Kraft_Sonne, masse_view, Sonne_index, Beschleunigung_Sonne)\n",
    "        \n",
    "        if (i == 0 and debug):\n",
    "            print(\"Beschleunigung\", Beschleunigung_Erde[0], \\\n",
    "                 Beschleunigung_Erde[1], Beschleunigung_Erde[2])\n",
    "\n",
    "        ## Aktualisieren\n",
    "        if (i == 0 and debug):\n",
    "            print(\"position_view_first\", position_view[0][0], \\\n",
    "                    position_view[0][1], position_view[0][2])\n",
    "        \n",
    "        Positions_aktualliersierung(position_view, geschwindigkeit_view, Beschleunigung_Erde,\\\n",
    "                                     dt, Erde_index)\n",
    "        Geschwindigkeit_aktualliersierung (geschwindigkeit_view ,Beschleunigung_Erde, \\\n",
    "                       dt ,Erde_index)\n",
    "        if (i == 0 and debug):\n",
    "            print(\"position_view\", position_view[0][0], \n",
    "                  position_view[0][1], position_view[0][2])\n",
    "        \n",
    "        Positions_aktualliersierung(position_view, geschwindigkeit_view, Beschleunigung_Sonne,\\\n",
    "                                     dt, Sonne_index)\n",
    "        Geschwindigkeit_aktualliersierung (geschwindigkeit_view ,Beschleunigung_Sonne, \\\n",
    "                       dt ,Sonne_index)\n",
    "        if (i == 0 and debug):\n",
    "            print(\"geschwindigkeit_view\", geschwindigkeit_view[0][0],\n",
    "                 geschwindigkeit_view[0][1], geschwindigkeit_view[0][2])\n",
    "\n",
    "        pos_list.append(np.array((position_view[Erde_index][0], position_view[Erde_index][1],\\\n",
    "                 position_view[Erde_index][2]), np.float32))"
   ]
  },
  {
   "cell_type": "code",
   "execution_count": 13,
   "metadata": {},
   "outputs": [
    {
     "name": "stdout",
     "output_type": "stream",
     "text": [
      "Writing /tmp/cython_galaxy/setup.py\n"
     ]
    }
   ],
   "source": [
    "%%file /tmp/cython_galaxy/setup.py\n",
    "\n",
    "\n",
    "# Aufruf: python3 setup.py build_ext --inplace\n",
    "# Windows: zusaetzliche Option --compiler=mingw32\n",
    "from distutils.core import setup\n",
    "from distutils.extension import Extension\n",
    "from Cython.Distutils import build_ext\n",
    "import numpy\n",
    "\n",
    "ext_modules=[ Extension(\"abstand\", [\"abstand.pyx\"],\n",
    "        extra_compile_args=['-O3'], libraries=['m']),\n",
    "             Extension(\"kraft\", [\"kraft.pyx\"],\n",
    "        extra_compile_args=['-O3'], libraries=['m']),\n",
    "              Extension(\"betrag\", [\"betrag.pyx\"],\n",
    "        #extra_compile_args=['-O3'], libraries=['m'],\n",
    "        extra_compile_args=['-O3'], libraries=['m']),\n",
    "            #include_dirs=[numpy.get_include()]),\n",
    "             Extension(\"beschleunigung\", [\"beschleunigung.pyx\"],\n",
    "        extra_compile_args=['-O3'], libraries=['m']),\n",
    "             Extension(\"positions_aktualliersierung\", [\"positions_aktualliersierung.pyx\"],\n",
    "        extra_compile_args=['-O3'], libraries=['m']),\n",
    "             Extension(\"geschwindigkeit_aktualliersierung\", [\"geschwindigkeit_aktualliersierung.pyx\"],\n",
    "        extra_compile_args=['-O3'], libraries=['m']),\n",
    "             Extension(\"loop\", [\"loop.pyx\"],\n",
    "        extra_compile_args=['-O3'], libraries=['m'])\n",
    "]\n",
    "             \n",
    "setup( name = 'cython demo',\n",
    "  cmdclass = {'build_ext': build_ext},\n",
    "  ext_modules = ext_modules)\n",
    "\n"
   ]
  },
  {
   "cell_type": "code",
   "execution_count": 14,
   "metadata": {},
   "outputs": [
    {
     "name": "stdout",
     "output_type": "stream",
     "text": [
      "running build_ext\n",
      "cythoning abstand.pyx to abstand.c\n",
      "building 'abstand' extension\n",
      "creating build\n",
      "creating build/temp.linux-x86_64-3.6\n",
      "gcc -pthread -B /opt/anaconda/compiler_compat -Wl,--sysroot=/ -Wsign-compare -DNDEBUG -g -fwrapv -O3 -Wall -Wstrict-prototypes -fPIC -I/opt/anaconda/include/python3.6m -c abstand.c -o build/temp.linux-x86_64-3.6/abstand.o -O3\n",
      "gcc -pthread -shared -B /opt/anaconda/compiler_compat -L/opt/anaconda/lib -Wl,-rpath=/opt/anaconda/lib -Wl,--no-as-needed -Wl,--sysroot=/ build/temp.linux-x86_64-3.6/abstand.o -L/opt/anaconda/lib -lm -lpython3.6m -o /tmp/cython_galaxy/abstand.cpython-36m-x86_64-linux-gnu.so\n",
      "cythoning kraft.pyx to kraft.c\n",
      "building 'kraft' extension\n",
      "gcc -pthread -B /opt/anaconda/compiler_compat -Wl,--sysroot=/ -Wsign-compare -DNDEBUG -g -fwrapv -O3 -Wall -Wstrict-prototypes -fPIC -I/opt/anaconda/include/python3.6m -c kraft.c -o build/temp.linux-x86_64-3.6/kraft.o -O3\n",
      "gcc -pthread -shared -B /opt/anaconda/compiler_compat -L/opt/anaconda/lib -Wl,-rpath=/opt/anaconda/lib -Wl,--no-as-needed -Wl,--sysroot=/ build/temp.linux-x86_64-3.6/kraft.o -L/opt/anaconda/lib -lm -lpython3.6m -o /tmp/cython_galaxy/kraft.cpython-36m-x86_64-linux-gnu.so\n",
      "cythoning betrag.pyx to betrag.c\n",
      "building 'betrag' extension\n",
      "gcc -pthread -B /opt/anaconda/compiler_compat -Wl,--sysroot=/ -Wsign-compare -DNDEBUG -g -fwrapv -O3 -Wall -Wstrict-prototypes -fPIC -I/opt/anaconda/include/python3.6m -c betrag.c -o build/temp.linux-x86_64-3.6/betrag.o -O3\n",
      "gcc -pthread -shared -B /opt/anaconda/compiler_compat -L/opt/anaconda/lib -Wl,-rpath=/opt/anaconda/lib -Wl,--no-as-needed -Wl,--sysroot=/ build/temp.linux-x86_64-3.6/betrag.o -L/opt/anaconda/lib -lm -lpython3.6m -o /tmp/cython_galaxy/betrag.cpython-36m-x86_64-linux-gnu.so\n",
      "cythoning beschleunigung.pyx to beschleunigung.c\n",
      "building 'beschleunigung' extension\n",
      "gcc -pthread -B /opt/anaconda/compiler_compat -Wl,--sysroot=/ -Wsign-compare -DNDEBUG -g -fwrapv -O3 -Wall -Wstrict-prototypes -fPIC -I/opt/anaconda/include/python3.6m -c beschleunigung.c -o build/temp.linux-x86_64-3.6/beschleunigung.o -O3\n",
      "gcc -pthread -shared -B /opt/anaconda/compiler_compat -L/opt/anaconda/lib -Wl,-rpath=/opt/anaconda/lib -Wl,--no-as-needed -Wl,--sysroot=/ build/temp.linux-x86_64-3.6/beschleunigung.o -L/opt/anaconda/lib -lm -lpython3.6m -o /tmp/cython_galaxy/beschleunigung.cpython-36m-x86_64-linux-gnu.so\n",
      "cythoning positions_aktualliersierung.pyx to positions_aktualliersierung.c\n",
      "building 'positions_aktualliersierung' extension\n",
      "gcc -pthread -B /opt/anaconda/compiler_compat -Wl,--sysroot=/ -Wsign-compare -DNDEBUG -g -fwrapv -O3 -Wall -Wstrict-prototypes -fPIC -I/opt/anaconda/include/python3.6m -c positions_aktualliersierung.c -o build/temp.linux-x86_64-3.6/positions_aktualliersierung.o -O3\n",
      "gcc -pthread -shared -B /opt/anaconda/compiler_compat -L/opt/anaconda/lib -Wl,-rpath=/opt/anaconda/lib -Wl,--no-as-needed -Wl,--sysroot=/ build/temp.linux-x86_64-3.6/positions_aktualliersierung.o -L/opt/anaconda/lib -lm -lpython3.6m -o /tmp/cython_galaxy/positions_aktualliersierung.cpython-36m-x86_64-linux-gnu.so\n",
      "cythoning geschwindigkeit_aktualliersierung.pyx to geschwindigkeit_aktualliersierung.c\n",
      "building 'geschwindigkeit_aktualliersierung' extension\n",
      "gcc -pthread -B /opt/anaconda/compiler_compat -Wl,--sysroot=/ -Wsign-compare -DNDEBUG -g -fwrapv -O3 -Wall -Wstrict-prototypes -fPIC -I/opt/anaconda/include/python3.6m -c geschwindigkeit_aktualliersierung.c -o build/temp.linux-x86_64-3.6/geschwindigkeit_aktualliersierung.o -O3\n",
      "gcc -pthread -shared -B /opt/anaconda/compiler_compat -L/opt/anaconda/lib -Wl,-rpath=/opt/anaconda/lib -Wl,--no-as-needed -Wl,--sysroot=/ build/temp.linux-x86_64-3.6/geschwindigkeit_aktualliersierung.o -L/opt/anaconda/lib -lm -lpython3.6m -o /tmp/cython_galaxy/geschwindigkeit_aktualliersierung.cpython-36m-x86_64-linux-gnu.so\n",
      "cythoning loop.pyx to loop.c\n",
      "building 'loop' extension\n",
      "gcc -pthread -B /opt/anaconda/compiler_compat -Wl,--sysroot=/ -Wsign-compare -DNDEBUG -g -fwrapv -O3 -Wall -Wstrict-prototypes -fPIC -I/opt/anaconda/include/python3.6m -c loop.c -o build/temp.linux-x86_64-3.6/loop.o -O3\n",
      "gcc -pthread -shared -B /opt/anaconda/compiler_compat -L/opt/anaconda/lib -Wl,-rpath=/opt/anaconda/lib -Wl,--no-as-needed -Wl,--sysroot=/ build/temp.linux-x86_64-3.6/loop.o -L/opt/anaconda/lib -lm -lpython3.6m -o /tmp/cython_galaxy/loop.cpython-36m-x86_64-linux-gnu.so\n"
     ]
    }
   ],
   "source": [
    "%%bash\n",
    "cd /tmp/cython_galaxy\n",
    "python3 setup.py build_ext --inplace"
   ]
  },
  {
   "cell_type": "code",
   "execution_count": 15,
   "metadata": {},
   "outputs": [
    {
     "name": "stdout",
     "output_type": "stream",
     "text": [
      "Writing /tmp/cython_galaxy/start.py\n"
     ]
    }
   ],
   "source": [
    "%%file /tmp/cython_galaxy/start.py\n",
    "from loop import Loop\n",
    "import matplotlib.pyplot as plt\n",
    "\n",
    "python_position_list = []\n",
    "Loop(python_position_list)\n",
    "plt.plot([x[0] for x in python_position_list], [x[1] for x in python_position_list])\n",
    "plt.show()\n",
    "\n",
    "for _ in range (20):\n",
    "    print(python_position_list[_])"
   ]
  },
  {
   "cell_type": "code",
   "execution_count": 16,
   "metadata": {},
   "outputs": [
    {
     "name": "stdout",
     "output_type": "stream",
     "text": [
      "('Abstand', -149597890000.0, 0.0, 0.0)\n",
      "('Betrag', 149597890000.0)\n",
      "('Kraft', -3.541209863507121e+22, 0.0, 0.0)\n",
      "('Beschleunigung', -0.005929499670149678, 0.0, 0.0)\n",
      "('position_view_first', 149597890000.0, 0.0, 0.0)\n",
      "('position_view', 149597889989.3269, 1787160.0, 0.0)\n",
      "('geschwindigkeit_view', -0.3557699802089807, 29786.0, 0.0)\n",
      "('position_view[Erde_index]', 149597889957.30762, 3574319.9998724945, 0.0)\n",
      "('position_view[Erde_index]', 149597889903.94214, 5361479.999362472, 0.0)\n",
      "('position_view[Erde_index]', 149597889829.23044, 7148639.998214924, 0.0)\n",
      "('position_view[Erde_index]', 149597889733.17255, 8935799.996174837, 0.0)\n",
      "('position_view[Erde_index]', 149597889615.76846, 10722959.9929872, 0.0)\n",
      "('position_view[Erde_index]', 149597889477.0182, 12510119.988397006, 0.0)\n",
      "('position_view[Erde_index]', 149597889316.9217, 14297279.982149241, 0.0)\n",
      "('position_view[Erde_index]', 149597889135.479, 16084439.973988898, 0.0)\n",
      "('position_view[Erde_index]', 149597888932.69012, 17871599.96366096, 0.0)\n",
      "('position_view[Erde_index]', 149597888708.55505, 19658759.95091042, 0.0)\n",
      "('position_view[Erde_index]', 149597888463.07376, 21445919.935482267, 0.0)\n",
      "('position_view[Erde_index]', 149597888196.24628, 23233079.917121492, 0.0)\n",
      "('position_view[Erde_index]', 149597887908.0726, 25020239.89557308, 0.0)\n",
      "('position_view[Erde_index]', 149597887598.55273, 26807399.87058202, 0.0)\n",
      "('position_view[Erde_index]', 149597887267.68665, 28594559.84189331, 0.0)\n",
      "('position_view[Erde_index]', 149597886915.47437, 30381719.809251934, 0.0)\n",
      "('position_view[Erde_index]', 149597886541.9159, 32168879.77240288, 0.0)\n",
      "('position_view[Erde_index]', 149597886147.01123, 33956039.731091134, 0.0)\n",
      "<matplotlib.figure.Figure at 0x7fa852475e10>\n",
      "[  1.49597897e+11   1.78716000e+06   0.00000000e+00]\n",
      "[  1.49597897e+11   3.57432000e+06   0.00000000e+00]\n",
      "[  1.49597897e+11   5.36148000e+06   0.00000000e+00]\n",
      "[  1.49597897e+11   7.14864000e+06   0.00000000e+00]\n",
      "[  1.49597897e+11   8.93580000e+06   0.00000000e+00]\n",
      "[  1.49597897e+11   1.07229600e+07   0.00000000e+00]\n",
      "[  1.49597897e+11   1.25101200e+07   0.00000000e+00]\n",
      "[  1.49597897e+11   1.42972800e+07   0.00000000e+00]\n",
      "[  1.49597897e+11   1.60844400e+07   0.00000000e+00]\n",
      "[  1.49597897e+11   1.78716000e+07   0.00000000e+00]\n",
      "[  1.49597897e+11   1.96587600e+07   0.00000000e+00]\n",
      "[  1.49597880e+11   2.14459200e+07   0.00000000e+00]\n",
      "[  1.49597880e+11   2.32330800e+07   0.00000000e+00]\n",
      "[  1.49597880e+11   2.50202400e+07   0.00000000e+00]\n",
      "[  1.49597880e+11   2.68074000e+07   0.00000000e+00]\n",
      "[  1.49597880e+11   2.85945600e+07   0.00000000e+00]\n",
      "[  1.49597880e+11   3.03817200e+07   0.00000000e+00]\n",
      "[  1.49597880e+11   3.21688800e+07   0.00000000e+00]\n",
      "[  1.49597880e+11   3.39560400e+07   0.00000000e+00]\n",
      "[  1.49597880e+11   3.57432000e+07   0.00000000e+00]\n"
     ]
    }
   ],
   "source": [
    "%%bash\n",
    "cd /tmp/cython_galaxy\n",
    "python3 start.py"
   ]
  },
  {
   "cell_type": "markdown",
   "metadata": {
    "collapsed": true
   },
   "source": [
    "~~~~\n",
    "#Vergleich Werte vom alten Prototypen\n",
    "Abstand_Erde [ -1.49597890e+11   0.00000000e+00]\n",
    "Betrag_Erde 149597890000.0\n",
    "Kraft_Erde [ -3.54120986e+22   0.00000000e+00]\n",
    "Beschleunigung_Erde [-0.0059295  0.       ]\n",
    "Position_Erde [  1.49597890e+11   1.78716000e+06]\n",
    "Geschwindigkeit_Erde [ -3.55769980e-01   2.97860000e+04]\n",
    "~~~~\n",
    "\n",
    "~~~~\n",
    "#Neue Werte von cython_galaxy\n",
    "Abstand -149597890000.0 0.0 0.0\n",
    "Betrag 149597890000.0\n",
    "Kraft -3.541209863507121e+22 0.0 0.0\n",
    "Beschleunigung -0.005929499670149678 0.0 0.0\n",
    "position_view 149597889989.3269 1787160.0 0.0\n",
    "geschwindigkeit_view -0.3557699802089807 29786.0 0.0\n",
    "~~~~\n"
   ]
  },
  {
   "cell_type": "markdown",
   "metadata": {},
   "source": [
    "## TimeIt"
   ]
  },
  {
   "cell_type": "code",
   "execution_count": 14,
   "metadata": {},
   "outputs": [
    {
     "name": "stdout",
     "output_type": "stream",
     "text": [
      "('Abstand', -149597890000.0, 0.0, 0.0)\n",
      "('Betrag', 149597890000.0)\n",
      "('Kraft', -3.541209863507121e+22, 0.0, 0.0)\n",
      "('Beschleunigung', -0.005929499670149678, 0.0, 0.0)\n",
      "('position_view_first', 149597890000.0, 0.0, 0.0)\n",
      "('position_view', 149597889989.3269, 1787160.0, 0.0)\n",
      "('geschwindigkeit_view', -0.3557699802089807, 29786.0, 0.0)\n",
      "('position_view[Erde_index]', 149597889957.30762, 3574319.9998724945, 0.0)\n",
      "('position_view[Erde_index]', 149597889903.94214, 5361479.999362472, 0.0)\n",
      "('position_view[Erde_index]', 149597889829.23044, 7148639.998214924, 0.0)\n",
      "('position_view[Erde_index]', 149597889733.17255, 8935799.996174837, 0.0)\n",
      "('position_view[Erde_index]', 149597889615.76846, 10722959.9929872, 0.0)\n",
      "('position_view[Erde_index]', 149597889477.0182, 12510119.988397006, 0.0)\n",
      "('position_view[Erde_index]', 149597889316.9217, 14297279.982149241, 0.0)\n",
      "('position_view[Erde_index]', 149597889135.479, 16084439.973988898, 0.0)\n",
      "('position_view[Erde_index]', 149597888932.69012, 17871599.96366096, 0.0)\n",
      "('position_view[Erde_index]', 149597888708.55505, 19658759.95091042, 0.0)\n",
      "('position_view[Erde_index]', 149597888463.07376, 21445919.935482267, 0.0)\n",
      "('position_view[Erde_index]', 149597888196.24628, 23233079.917121492, 0.0)\n",
      "('position_view[Erde_index]', 149597887908.0726, 25020239.89557308, 0.0)\n",
      "('position_view[Erde_index]', 149597887598.55273, 26807399.87058202, 0.0)\n",
      "('position_view[Erde_index]', 149597887267.68665, 28594559.84189331, 0.0)\n",
      "('position_view[Erde_index]', 149597886915.47437, 30381719.809251934, 0.0)\n",
      "('position_view[Erde_index]', 149597886541.9159, 32168879.77240288, 0.0)\n",
      "('position_view[Erde_index]', 149597886147.01123, 33956039.731091134, 0.0)\n",
      "('Abstand', -149597890000.0, 0.0, 0.0)\n",
      "('Betrag', 149597890000.0)\n",
      "('Kraft', -3.541209863507121e+22, 0.0, 0.0)\n",
      "('Beschleunigung', -0.005929499670149678, 0.0, 0.0)\n",
      "('position_view_first', 149597890000.0, 0.0, 0.0)\n",
      "('position_view', 149597889989.3269, 1787160.0, 0.0)\n",
      "('geschwindigkeit_view', -0.3557699802089807, 29786.0, 0.0)\n",
      "('position_view[Erde_index]', 149597889957.30762, 3574319.9998724945, 0.0)\n",
      "('position_view[Erde_index]', 149597889903.94214, 5361479.999362472, 0.0)\n",
      "('position_view[Erde_index]', 149597889829.23044, 7148639.998214924, 0.0)\n",
      "('position_view[Erde_index]', 149597889733.17255, 8935799.996174837, 0.0)\n",
      "('position_view[Erde_index]', 149597889615.76846, 10722959.9929872, 0.0)\n",
      "('position_view[Erde_index]', 149597889477.0182, 12510119.988397006, 0.0)\n",
      "('position_view[Erde_index]', 149597889316.9217, 14297279.982149241, 0.0)\n",
      "('position_view[Erde_index]', 149597889135.479, 16084439.973988898, 0.0)\n",
      "('position_view[Erde_index]', 149597888932.69012, 17871599.96366096, 0.0)\n",
      "('position_view[Erde_index]', 149597888708.55505, 19658759.95091042, 0.0)\n",
      "('position_view[Erde_index]', 149597888463.07376, 21445919.935482267, 0.0)\n",
      "('position_view[Erde_index]', 149597888196.24628, 23233079.917121492, 0.0)\n",
      "('position_view[Erde_index]', 149597887908.0726, 25020239.89557308, 0.0)\n",
      "('position_view[Erde_index]', 149597887598.55273, 26807399.87058202, 0.0)\n",
      "('position_view[Erde_index]', 149597887267.68665, 28594559.84189331, 0.0)\n",
      "('position_view[Erde_index]', 149597886915.47437, 30381719.809251934, 0.0)\n",
      "('position_view[Erde_index]', 149597886541.9159, 32168879.77240288, 0.0)\n",
      "('position_view[Erde_index]', 149597886147.01123, 33956039.731091134, 0.0)\n",
      "('Abstand', -149597890000.0, 0.0, 0.0)\n",
      "('Betrag', 149597890000.0)\n",
      "('Kraft', -3.541209863507121e+22, 0.0, 0.0)\n",
      "('Beschleunigung', -0.005929499670149678, 0.0, 0.0)\n",
      "('position_view_first', 149597890000.0, 0.0, 0.0)\n",
      "('position_view', 149597889989.3269, 1787160.0, 0.0)\n",
      "('geschwindigkeit_view', -0.3557699802089807, 29786.0, 0.0)\n",
      "('position_view[Erde_index]', 149597889957.30762, 3574319.9998724945, 0.0)\n",
      "('position_view[Erde_index]', 149597889903.94214, 5361479.999362472, 0.0)\n",
      "('position_view[Erde_index]', 149597889829.23044, 7148639.998214924, 0.0)\n",
      "('position_view[Erde_index]', 149597889733.17255, 8935799.996174837, 0.0)\n",
      "('position_view[Erde_index]', 149597889615.76846, 10722959.9929872, 0.0)\n",
      "('position_view[Erde_index]', 149597889477.0182, 12510119.988397006, 0.0)\n",
      "('position_view[Erde_index]', 149597889316.9217, 14297279.982149241, 0.0)\n",
      "('position_view[Erde_index]', 149597889135.479, 16084439.973988898, 0.0)\n",
      "('position_view[Erde_index]', 149597888932.69012, 17871599.96366096, 0.0)\n",
      "('position_view[Erde_index]', 149597888708.55505, 19658759.95091042, 0.0)\n",
      "('position_view[Erde_index]', 149597888463.07376, 21445919.935482267, 0.0)\n",
      "('position_view[Erde_index]', 149597888196.24628, 23233079.917121492, 0.0)\n",
      "('position_view[Erde_index]', 149597887908.0726, 25020239.89557308, 0.0)\n",
      "('position_view[Erde_index]', 149597887598.55273, 26807399.87058202, 0.0)\n",
      "('position_view[Erde_index]', 149597887267.68665, 28594559.84189331, 0.0)\n",
      "('position_view[Erde_index]', 149597886915.47437, 30381719.809251934, 0.0)\n",
      "('position_view[Erde_index]', 149597886541.9159, 32168879.77240288, 0.0)\n",
      "('position_view[Erde_index]', 149597886147.01123, 33956039.731091134, 0.0)\n",
      "('Abstand', -149597890000.0, 0.0, 0.0)\n",
      "('Betrag', 149597890000.0)\n",
      "('Kraft', -3.541209863507121e+22, 0.0, 0.0)\n",
      "('Beschleunigung', -0.005929499670149678, 0.0, 0.0)\n",
      "('position_view_first', 149597890000.0, 0.0, 0.0)\n",
      "('position_view', 149597889989.3269, 1787160.0, 0.0)\n",
      "('geschwindigkeit_view', -0.3557699802089807, 29786.0, 0.0)\n",
      "('position_view[Erde_index]', 149597889957.30762, 3574319.9998724945, 0.0)\n",
      "('position_view[Erde_index]', 149597889903.94214, 5361479.999362472, 0.0)\n",
      "('position_view[Erde_index]', 149597889829.23044, 7148639.998214924, 0.0)\n",
      "('position_view[Erde_index]', 149597889733.17255, 8935799.996174837, 0.0)\n",
      "('position_view[Erde_index]', 149597889615.76846, 10722959.9929872, 0.0)\n",
      "('position_view[Erde_index]', 149597889477.0182, 12510119.988397006, 0.0)\n",
      "('position_view[Erde_index]', 149597889316.9217, 14297279.982149241, 0.0)\n",
      "('position_view[Erde_index]', 149597889135.479, 16084439.973988898, 0.0)\n",
      "('position_view[Erde_index]', 149597888932.69012, 17871599.96366096, 0.0)\n",
      "('position_view[Erde_index]', 149597888708.55505, 19658759.95091042, 0.0)\n",
      "('position_view[Erde_index]', 149597888463.07376, 21445919.935482267, 0.0)\n",
      "('position_view[Erde_index]', 149597888196.24628, 23233079.917121492, 0.0)\n",
      "('position_view[Erde_index]', 149597887908.0726, 25020239.89557308, 0.0)\n",
      "('position_view[Erde_index]', 149597887598.55273, 26807399.87058202, 0.0)\n",
      "('position_view[Erde_index]', 149597887267.68665, 28594559.84189331, 0.0)\n",
      "('position_view[Erde_index]', 149597886915.47437, 30381719.809251934, 0.0)\n",
      "('position_view[Erde_index]', 149597886541.9159, 32168879.77240288, 0.0)\n",
      "('position_view[Erde_index]', 149597886147.01123, 33956039.731091134, 0.0)\n",
      "('Abstand', -149597890000.0, 0.0, 0.0)\n",
      "('Betrag', 149597890000.0)\n",
      "('Kraft', -3.541209863507121e+22, 0.0, 0.0)\n",
      "('Beschleunigung', -0.005929499670149678, 0.0, 0.0)\n",
      "('position_view_first', 149597890000.0, 0.0, 0.0)\n",
      "('position_view', 149597889989.3269, 1787160.0, 0.0)\n",
      "('geschwindigkeit_view', -0.3557699802089807, 29786.0, 0.0)\n",
      "('position_view[Erde_index]', 149597889957.30762, 3574319.9998724945, 0.0)\n",
      "('position_view[Erde_index]', 149597889903.94214, 5361479.999362472, 0.0)\n",
      "('position_view[Erde_index]', 149597889829.23044, 7148639.998214924, 0.0)\n",
      "('position_view[Erde_index]', 149597889733.17255, 8935799.996174837, 0.0)\n",
      "('position_view[Erde_index]', 149597889615.76846, 10722959.9929872, 0.0)\n",
      "('position_view[Erde_index]', 149597889477.0182, 12510119.988397006, 0.0)\n",
      "('position_view[Erde_index]', 149597889316.9217, 14297279.982149241, 0.0)\n",
      "('position_view[Erde_index]', 149597889135.479, 16084439.973988898, 0.0)\n",
      "('position_view[Erde_index]', 149597888932.69012, 17871599.96366096, 0.0)\n",
      "('position_view[Erde_index]', 149597888708.55505, 19658759.95091042, 0.0)\n",
      "('position_view[Erde_index]', 149597888463.07376, 21445919.935482267, 0.0)\n",
      "('position_view[Erde_index]', 149597888196.24628, 23233079.917121492, 0.0)\n",
      "('position_view[Erde_index]', 149597887908.0726, 25020239.89557308, 0.0)\n",
      "('position_view[Erde_index]', 149597887598.55273, 26807399.87058202, 0.0)\n",
      "('position_view[Erde_index]', 149597887267.68665, 28594559.84189331, 0.0)\n",
      "('position_view[Erde_index]', 149597886915.47437, 30381719.809251934, 0.0)\n",
      "('position_view[Erde_index]', 149597886541.9159, 32168879.77240288, 0.0)\n",
      "('position_view[Erde_index]', 149597886147.01123, 33956039.731091134, 0.0)\n",
      "('Abstand', -149597890000.0, 0.0, 0.0)\n",
      "('Betrag', 149597890000.0)\n",
      "('Kraft', -3.541209863507121e+22, 0.0, 0.0)\n",
      "('Beschleunigung', -0.005929499670149678, 0.0, 0.0)\n",
      "('position_view_first', 149597890000.0, 0.0, 0.0)\n",
      "('position_view', 149597889989.3269, 1787160.0, 0.0)\n",
      "('geschwindigkeit_view', -0.3557699802089807, 29786.0, 0.0)\n",
      "('position_view[Erde_index]', 149597889957.30762, 3574319.9998724945, 0.0)\n",
      "('position_view[Erde_index]', 149597889903.94214, 5361479.999362472, 0.0)\n",
      "('position_view[Erde_index]', 149597889829.23044, 7148639.998214924, 0.0)\n",
      "('position_view[Erde_index]', 149597889733.17255, 8935799.996174837, 0.0)\n",
      "('position_view[Erde_index]', 149597889615.76846, 10722959.9929872, 0.0)\n",
      "('position_view[Erde_index]', 149597889477.0182, 12510119.988397006, 0.0)\n",
      "('position_view[Erde_index]', 149597889316.9217, 14297279.982149241, 0.0)\n",
      "('position_view[Erde_index]', 149597889135.479, 16084439.973988898, 0.0)\n",
      "('position_view[Erde_index]', 149597888932.69012, 17871599.96366096, 0.0)\n",
      "('position_view[Erde_index]', 149597888708.55505, 19658759.95091042, 0.0)\n",
      "('position_view[Erde_index]', 149597888463.07376, 21445919.935482267, 0.0)\n",
      "('position_view[Erde_index]', 149597888196.24628, 23233079.917121492, 0.0)\n",
      "('position_view[Erde_index]', 149597887908.0726, 25020239.89557308, 0.0)\n",
      "('position_view[Erde_index]', 149597887598.55273, 26807399.87058202, 0.0)\n",
      "('position_view[Erde_index]', 149597887267.68665, 28594559.84189331, 0.0)\n",
      "('position_view[Erde_index]', 149597886915.47437, 30381719.809251934, 0.0)\n",
      "('position_view[Erde_index]', 149597886541.9159, 32168879.77240288, 0.0)\n",
      "('position_view[Erde_index]', 149597886147.01123, 33956039.731091134, 0.0)\n",
      "('Abstand', -149597890000.0, 0.0, 0.0)\n",
      "('Betrag', 149597890000.0)\n",
      "('Kraft', -3.541209863507121e+22, 0.0, 0.0)\n",
      "('Beschleunigung', -0.005929499670149678, 0.0, 0.0)\n",
      "('position_view_first', 149597890000.0, 0.0, 0.0)\n",
      "('position_view', 149597889989.3269, 1787160.0, 0.0)\n",
      "('geschwindigkeit_view', -0.3557699802089807, 29786.0, 0.0)\n",
      "('position_view[Erde_index]', 149597889957.30762, 3574319.9998724945, 0.0)\n",
      "('position_view[Erde_index]', 149597889903.94214, 5361479.999362472, 0.0)\n",
      "('position_view[Erde_index]', 149597889829.23044, 7148639.998214924, 0.0)\n",
      "('position_view[Erde_index]', 149597889733.17255, 8935799.996174837, 0.0)\n",
      "('position_view[Erde_index]', 149597889615.76846, 10722959.9929872, 0.0)\n",
      "('position_view[Erde_index]', 149597889477.0182, 12510119.988397006, 0.0)\n",
      "('position_view[Erde_index]', 149597889316.9217, 14297279.982149241, 0.0)\n",
      "('position_view[Erde_index]', 149597889135.479, 16084439.973988898, 0.0)\n",
      "('position_view[Erde_index]', 149597888932.69012, 17871599.96366096, 0.0)\n",
      "('position_view[Erde_index]', 149597888708.55505, 19658759.95091042, 0.0)\n",
      "('position_view[Erde_index]', 149597888463.07376, 21445919.935482267, 0.0)\n",
      "('position_view[Erde_index]', 149597888196.24628, 23233079.917121492, 0.0)\n",
      "('position_view[Erde_index]', 149597887908.0726, 25020239.89557308, 0.0)\n",
      "('position_view[Erde_index]', 149597887598.55273, 26807399.87058202, 0.0)\n",
      "('position_view[Erde_index]', 149597887267.68665, 28594559.84189331, 0.0)\n",
      "('position_view[Erde_index]', 149597886915.47437, 30381719.809251934, 0.0)\n",
      "('position_view[Erde_index]', 149597886541.9159, 32168879.77240288, 0.0)\n",
      "('position_view[Erde_index]', 149597886147.01123, 33956039.731091134, 0.0)\n",
      "('Abstand', -149597890000.0, 0.0, 0.0)\n",
      "('Betrag', 149597890000.0)\n",
      "('Kraft', -3.541209863507121e+22, 0.0, 0.0)\n",
      "('Beschleunigung', -0.005929499670149678, 0.0, 0.0)\n",
      "('position_view_first', 149597890000.0, 0.0, 0.0)\n",
      "('position_view', 149597889989.3269, 1787160.0, 0.0)\n",
      "('geschwindigkeit_view', -0.3557699802089807, 29786.0, 0.0)\n",
      "('position_view[Erde_index]', 149597889957.30762, 3574319.9998724945, 0.0)\n",
      "('position_view[Erde_index]', 149597889903.94214, 5361479.999362472, 0.0)\n",
      "('position_view[Erde_index]', 149597889829.23044, 7148639.998214924, 0.0)\n",
      "('position_view[Erde_index]', 149597889733.17255, 8935799.996174837, 0.0)\n",
      "('position_view[Erde_index]', 149597889615.76846, 10722959.9929872, 0.0)\n",
      "('position_view[Erde_index]', 149597889477.0182, 12510119.988397006, 0.0)\n",
      "('position_view[Erde_index]', 149597889316.9217, 14297279.982149241, 0.0)\n",
      "('position_view[Erde_index]', 149597889135.479, 16084439.973988898, 0.0)\n",
      "('position_view[Erde_index]', 149597888932.69012, 17871599.96366096, 0.0)\n",
      "('position_view[Erde_index]', 149597888708.55505, 19658759.95091042, 0.0)\n",
      "('position_view[Erde_index]', 149597888463.07376, 21445919.935482267, 0.0)\n",
      "('position_view[Erde_index]', 149597888196.24628, 23233079.917121492, 0.0)\n",
      "('position_view[Erde_index]', 149597887908.0726, 25020239.89557308, 0.0)\n",
      "('position_view[Erde_index]', 149597887598.55273, 26807399.87058202, 0.0)\n",
      "('position_view[Erde_index]', 149597887267.68665, 28594559.84189331, 0.0)\n",
      "('position_view[Erde_index]', 149597886915.47437, 30381719.809251934, 0.0)\n",
      "('position_view[Erde_index]', 149597886541.9159, 32168879.77240288, 0.0)\n",
      "('position_view[Erde_index]', 149597886147.01123, 33956039.731091134, 0.0)\n",
      "52.6 s ± 3.99 s per loop (mean ± std. dev. of 7 runs, 1 loop each)\n"
     ]
    }
   ],
   "source": [
    "import os\n",
    "import sys\n",
    "module_path = os.path.abspath(os.path.join('..'))\n",
    "if module_path not in sys.path:\n",
    "    sys.path.append(\"/tmp/cython_galaxy\")\n",
    "\n",
    "from loop import Loop\n",
    "\n",
    "python_position_list = []\n",
    "%timeit Loop(python_position_list)\n",
    "\n",
    "#52.6 s ± 3.99 s per loop (mean ± std. dev. of 7 runs, 1 loop each)"
   ]
  }
 ],
 "metadata": {
  "kernelspec": {
   "display_name": "Python 3",
   "language": "python",
   "name": "python3"
  },
  "language_info": {
   "codemirror_mode": {
    "name": "ipython",
    "version": 3
   },
   "file_extension": ".py",
   "mimetype": "text/x-python",
   "name": "python",
   "nbconvert_exporter": "python",
   "pygments_lexer": "ipython3",
   "version": "3.6.3"
  },
  "latex_envs": {
   "LaTeX_envs_menu_present": true,
   "autocomplete": true,
   "bibliofile": "biblio.bib",
   "cite_by": "apalike",
   "current_citInitial": 1.0,
   "eqLabelWithNumbers": true,
   "eqNumInitial": 1.0,
   "hotkeys": {
    "equation": "Ctrl-E",
    "itemize": "Ctrl-I"
   },
   "labels_anchors": false,
   "latex_user_defs": false,
   "report_style_numbering": false,
   "user_envs_cfg": false
  }
 },
 "nbformat": 4,
 "nbformat_minor": 2
}
