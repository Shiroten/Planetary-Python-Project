{
 "cells": [
  {
   "cell_type": "markdown",
   "metadata": {},
   "source": [
    "## Erster Numpy Test mit Listen als numpy Array"
   ]
  },
  {
   "cell_type": "code",
   "execution_count": 1,
   "metadata": {},
   "outputs": [
    {
     "name": "stdout",
     "output_type": "stream",
     "text": [
      "[[  1.49597897e+11   0.00000000e+00   0.00000000e+00]\n",
      " [  0.00000000e+00   0.00000000e+00   0.00000000e+00]\n",
      " [  1.00000000e+00   1.00000000e+00   1.00000000e+00]]\n",
      "\n",
      "1.49598e+11\n"
     ]
    }
   ],
   "source": [
    "import numpy as np\n",
    "planet_position = [[149_597_890_000, 0,0], [0,0,0], [1,1,1]]\n",
    "position = np.array(planet_position,  dtype=np.float32)\n",
    "\n",
    "print (position)\n",
    "print()\n",
    "print(position[0][0])\n"
   ]
  },
  {
   "cell_type": "markdown",
   "metadata": {},
   "source": [
    "## Memory View Beispiel"
   ]
  },
  {
   "cell_type": "code",
   "execution_count": 2,
   "metadata": {
    "collapsed": true
   },
   "outputs": [],
   "source": [
    "%load_ext Cython"
   ]
  },
  {
   "cell_type": "code",
   "execution_count": 6,
   "metadata": {},
   "outputs": [
    {
     "name": "stdout",
     "output_type": "stream",
     "text": [
      "[[  0.00000000e+00   1.00000000e+00   2.00000000e+00]\n",
      " [  3.00000000e+00   4.00000000e+00   5.00000000e+00]\n",
      " [  6.00000000e+00   7.00000000e+00   4.12874129e+09]\n",
      " [  9.00000000e+00   1.00000000e+01   1.10000000e+01]]\n",
      "<MemoryView of 'ndarray' object>\n",
      "4128741294.3634653\n"
     ]
    }
   ],
   "source": [
    "%%cython -f -c-fopenmp --link-args=-fopenmp\n",
    "\n",
    "import numpy as np\n",
    "\n",
    "narr = np.arange(12, dtype=np.dtype(\"d\")).reshape((4, 3))\n",
    "cdef double [:, :] narr_view = narr\n",
    "\n",
    "narr_view[2][2] = 4128741294.36346534\n",
    "\n",
    "print (narr)\n",
    "print (narr_view)\n",
    "print (narr_view[2][2])"
   ]
  },
  {
   "cell_type": "markdown",
   "metadata": {},
   "source": [
    "## Memory View Beispiel Test Umbau"
   ]
  },
  {
   "cell_type": "code",
   "execution_count": null,
   "metadata": {
    "collapsed": true
   },
   "outputs": [],
   "source": [
    "%%cython -f -c-fopenmp --link-args=-fopenmp\n",
    "\n",
    "import numpy as np\n",
    "\n",
    "planet_position = [[149_597_890_000, 0,0], [0,0,0], [1,1,1]]\n",
    "position = np.array(planet_position,  dtype=np.float32)\n",
    "cdef float [:, :] position_view = position\n",
    "print (position)\n",
    "print (position_view)\n",
    "print (position_view[0][0])\n",
    "print (position_view[2][2])\n",
    "\n",
    "position_view[2][2] = 5\n",
    "print (position_view[2][2])"
   ]
  },
  {
   "cell_type": "markdown",
   "metadata": {},
   "source": [
    "## Erfolgreicher NoGil Test mit Memory View"
   ]
  },
  {
   "cell_type": "code",
   "execution_count": null,
   "metadata": {
    "collapsed": true,
    "scrolled": true
   },
   "outputs": [],
   "source": [
    "%%cython -f -c-fopenmp --link-args=-fopenmp\n",
    "\n",
    "import numpy as np\n",
    "cimport numpy as cnp\n",
    "cimport cython\n",
    "ctypedef cnp.float32_t dtype_t\n",
    "\n",
    "@cython.boundscheck(False)\n",
    "@cython.cdivision(True)\n",
    "cpdef void Abstand (float [:, :] position_view , float[:] result ,int first, int second) nogil:   \n",
    "    result[0] = position_view[first][0] - position_view[second][0]\n",
    "    result[1] = position_view[first][1] - position_view[second][1]\n",
    "    result[2] = position_view[first][2] - position_view[second][2]\n",
    "\n",
    "planet_position = [[149_597_890_000, 0,0], [0,0,0], [1,1,1]]\n",
    "position = np.array(planet_position,  dtype=np.float32)\n",
    "cdef float [:, :] position_view = position\n",
    "cdef float [:] result1 = np.array([0,0,0],  dtype=np.float32)\n",
    "cdef float [:] result2 = np.array([0,0,0],  dtype=np.float32)\n",
    "\n",
    "Abstand(position_view, result1, 0, 1)\n",
    "position_view_result1 = np.asarray(result1)\n",
    "\n",
    "Abstand(position_view, result2, 1, 0)\n",
    "position_view_result2 = np.asarray(result2)\n",
    "\n",
    "print (position_view_result1)\n",
    "print (position_view_result2)"
   ]
  },
  {
   "cell_type": "markdown",
   "metadata": {},
   "source": [
    "## Build Test"
   ]
  },
  {
   "cell_type": "code",
   "execution_count": null,
   "metadata": {
    "collapsed": true
   },
   "outputs": [],
   "source": [
    "import os\n",
    "os.mkdir('/tmp/cython_galaxy_einzel_build')"
   ]
  },
  {
   "cell_type": "code",
   "execution_count": null,
   "metadata": {
    "collapsed": true
   },
   "outputs": [],
   "source": [
    "%%file /tmp/cython_galaxy_einzel_build/abstand.pyx\n",
    "#Abstands Funktion\n",
    "#Abstand_Sonne[0] = position[1][0] - position[0][0]\n",
    "cimport cython\n",
    "\n",
    "@cython.boundscheck(False)\n",
    "@cython.cdivision(True)\n",
    "cpdef void Abstand (float [:, :] position_view , float[:] result ,int first, int second) nogil:   \n",
    "    result[0] = position_view[first][0] - position_view[second][0]\n",
    "    result[1] = position_view[first][1] - position_view[second][1]\n",
    "    result[2] = position_view[first][2] - position_view[second][2]"
   ]
  },
  {
   "cell_type": "code",
   "execution_count": null,
   "metadata": {
    "collapsed": true
   },
   "outputs": [],
   "source": [
    "%%file /tmp/cython_galaxy_einzel_build/abstand_test.pyx\n",
    "\n",
    "import numpy as np\n",
    "from abstand import Abstand \n",
    "cimport numpy as cnp\n",
    "cimport cython\n",
    "ctypedef cnp.float32_t dtype_t\n",
    "\n",
    "def test():\n",
    "    planet_position = [[149_597_890_000, 0,0], [0,0,0], [1,1,1]]\n",
    "    position = np.array(planet_position,  dtype=np.float32)\n",
    "    cdef float [:, :] position_view = position\n",
    "    cdef float [:] result1 = np.array([0,0,0],  dtype=np.float32)\n",
    "    cdef float [:] result2 = np.array([0,0,0],  dtype=np.float32)\n",
    "\n",
    "    Abstand(position_view, result1, 0, 1)\n",
    "    position_view_result1 = np.asarray(result1)\n",
    "\n",
    "    Abstand(position_view, result2, 1, 0)\n",
    "    position_view_result2 = np.asarray(result2)\n",
    "\n",
    "    print (position_view_result1)\n",
    "    print (position_view_result2)"
   ]
  },
  {
   "cell_type": "code",
   "execution_count": null,
   "metadata": {
    "collapsed": true
   },
   "outputs": [],
   "source": [
    "%%file /tmp/cython_galaxy_einzel_build/start.py\n",
    "\n",
    "from abstand_test import test\n",
    "test()"
   ]
  },
  {
   "cell_type": "code",
   "execution_count": null,
   "metadata": {
    "collapsed": true
   },
   "outputs": [],
   "source": [
    "%%file /tmp/cython_galaxy_einzel_build/setup.py\n",
    "\n",
    "\n",
    "# Aufruf: python3 setup.py build_ext --inplace\n",
    "# Windows: zusaetzliche Option --compiler=mingw32\n",
    "from distutils.core import setup\n",
    "from distutils.extension import Extension\n",
    "from Cython.Distutils import build_ext\n",
    "import numpy\n",
    "\n",
    "ext_modules=[ Extension(\"abstand\", [\"abstand.pyx\"],\n",
    "        extra_compile_args=['-O3'], libraries=['m']),\n",
    "              Extension(\"abstand_test\", [\"abstand_test.pyx\"],\n",
    "        extra_compile_args=['-O3'], libraries=['m'],\n",
    "            include_dirs=[numpy.get_include()])\n",
    "            ]\n",
    "             \n",
    "setup( name = 'cython demo',\n",
    "  cmdclass = {'build_ext': build_ext},\n",
    "  ext_modules = ext_modules)\n"
   ]
  },
  {
   "cell_type": "markdown",
   "metadata": {},
   "source": [
    "## Build Script"
   ]
  },
  {
   "cell_type": "code",
   "execution_count": null,
   "metadata": {
    "collapsed": true,
    "scrolled": true
   },
   "outputs": [],
   "source": [
    "%%bash\n",
    "cd /tmp/cython_galaxy_einzel_build\n",
    "python3 setup.py build_ext --inplace"
   ]
  },
  {
   "cell_type": "code",
   "execution_count": null,
   "metadata": {
    "collapsed": true
   },
   "outputs": [],
   "source": [
    "%%bash\n",
    "cd /tmp/cython_galaxy_einzel_build\n",
    "python3 start.py"
   ]
  },
  {
   "cell_type": "code",
   "execution_count": null,
   "metadata": {
    "collapsed": true
   },
   "outputs": [],
   "source": []
  }
 ],
 "metadata": {
  "kernelspec": {
   "display_name": "Python 3",
   "language": "python",
   "name": "python3"
  },
  "language_info": {
   "codemirror_mode": {
    "name": "ipython",
    "version": 3
   },
   "file_extension": ".py",
   "mimetype": "text/x-python",
   "name": "python",
   "nbconvert_exporter": "python",
   "pygments_lexer": "ipython3",
   "version": "3.6.3"
  },
  "latex_envs": {
   "LaTeX_envs_menu_present": true,
   "autocomplete": true,
   "bibliofile": "biblio.bib",
   "cite_by": "apalike",
   "current_citInitial": 1,
   "eqLabelWithNumbers": true,
   "eqNumInitial": 1,
   "hotkeys": {
    "equation": "Ctrl-E",
    "itemize": "Ctrl-I"
   },
   "labels_anchors": false,
   "latex_user_defs": false,
   "report_style_numbering": false,
   "user_envs_cfg": false
  }
 },
 "nbformat": 4,
 "nbformat_minor": 2
}
