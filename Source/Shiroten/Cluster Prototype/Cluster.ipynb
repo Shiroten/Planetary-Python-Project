{
 "cells": [
  {
   "cell_type": "code",
   "execution_count": 11,
   "metadata": {
    "collapsed": true
   },
   "outputs": [],
   "source": [
    "from ipyparallel import Client"
   ]
  },
  {
   "cell_type": "code",
   "execution_count": 12,
   "metadata": {
    "collapsed": true
   },
   "outputs": [],
   "source": [
    "c = None\n",
    "def setup_client(client_arg = None):\n",
    "    global c\n",
    "    if client_arg:\n",
    "        c = Client(client_arg)\n",
    "    else:\n",
    "        c = Client()\n",
    "    print('Nr of Engines:', len(c))"
   ]
  },
  {
   "cell_type": "code",
   "execution_count": 46,
   "metadata": {
    "collapsed": true
   },
   "outputs": [],
   "source": [
    "%px %load_ext cython"
   ]
  },
  {
   "cell_type": "code",
   "execution_count": 51,
   "metadata": {},
   "outputs": [],
   "source": [
    "%%px \n",
    "%%cython\n",
    "\n",
    "def loop(start_number, times):\n",
    "    for i in range (times):\n",
    "        start_number += 1\n",
    "    return start_number"
   ]
  },
  {
   "cell_type": "code",
   "execution_count": 52,
   "metadata": {},
   "outputs": [],
   "source": [
    "def IPython_cluster():\n",
    "    def call(start_number, times):\n",
    "        return loop(start_number, times)\n",
    "    \n",
    "    l_in_args1 = [1,1,10,1]\n",
    "    l_in_args2 = [100,100,200,2000]\n",
    "    lview = c.load_balanced_view()\n",
    "    lOut = lview.map_sync(call, l_in_args1, l_in_args2)\n",
    "    return lOut"
   ]
  },
  {
   "cell_type": "code",
   "execution_count": 53,
   "metadata": {},
   "outputs": [
    {
     "name": "stdout",
     "output_type": "stream",
     "text": [
      "Nr of Engines: 16\n"
     ]
    }
   ],
   "source": [
    "setup_client(\"/home/shiroten/.ipython/profile_default/security/ipcontroller-client.json\")"
   ]
  },
  {
   "cell_type": "code",
   "execution_count": 54,
   "metadata": {},
   "outputs": [
    {
     "name": "stdout",
     "output_type": "stream",
     "text": [
      "[101, 101, 210, 2001]\n"
     ]
    }
   ],
   "source": [
    "to_print = IPython_cluster()\n",
    "print(to_print)"
   ]
  },
  {
   "cell_type": "code",
   "execution_count": null,
   "metadata": {
    "collapsed": true
   },
   "outputs": [],
   "source": []
  }
 ],
 "metadata": {
  "kernelspec": {
   "display_name": "Python 3",
   "language": "python",
   "name": "python3"
  },
  "language_info": {
   "codemirror_mode": {
    "name": "ipython",
    "version": 3
   },
   "file_extension": ".py",
   "mimetype": "text/x-python",
   "name": "python",
   "nbconvert_exporter": "python",
   "pygments_lexer": "ipython3",
   "version": "3.6.3"
  },
  "latex_envs": {
   "LaTeX_envs_menu_present": true,
   "autocomplete": true,
   "bibliofile": "biblio.bib",
   "cite_by": "apalike",
   "current_citInitial": 1,
   "eqLabelWithNumbers": true,
   "eqNumInitial": 1,
   "hotkeys": {
    "equation": "Ctrl-E",
    "itemize": "Ctrl-I"
   },
   "labels_anchors": false,
   "latex_user_defs": false,
   "report_style_numbering": false,
   "user_envs_cfg": false
  }
 },
 "nbformat": 4,
 "nbformat_minor": 2
}
