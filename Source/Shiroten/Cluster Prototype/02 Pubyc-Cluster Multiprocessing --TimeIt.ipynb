{
 "cells": [
  {
   "cell_type": "code",
   "execution_count": null,
   "metadata": {
    "nbpresent": {
     "id": "892a24c1-605a-47de-b10e-11504d7b0120"
    }
   },
   "outputs": [],
   "source": [
    "import os\n",
    "os.mkdir('./Pubyc-Cluster')"
   ]
  },
  {
   "cell_type": "markdown",
   "metadata": {
    "nbpresent": {
     "id": "19741584-0101-413d-a478-6918d5315f93"
    }
   },
   "source": [
    "## Test"
   ]
  },
  {
   "cell_type": "code",
   "execution_count": null,
   "metadata": {},
   "outputs": [],
   "source": [
    "print(python_position)\n",
    "print(python_speed)\n",
    "print(python_mass)"
   ]
  },
  {
   "cell_type": "code",
   "execution_count": 31,
   "metadata": {
    "collapsed": true,
    "nbpresent": {
     "id": "32c8ac7b-4f79-4b42-980c-56ffa03a25b9"
    }
   },
   "outputs": [],
   "source": [
    "from random import random\n",
    "\n",
    "number_of_bodys = 10000\n",
    "\n",
    "python_position = []\n",
    "python_speed = []\n",
    "python_mass = []\n",
    "\n",
    "for i in range(number_of_bodys):\n",
    "    \n",
    "    python_position.append((random() * 10 ** 12, random() * 10 ** 12, random()* 10 ** 12))\n",
    "    python_speed.append((random()* 10 ** 5, random()* 10 ** 5, random()* 10 ** 5))\n",
    "    python_mass.append(random()* 10 ** 30)"
   ]
  },
  {
   "cell_type": "code",
   "execution_count": 32,
   "metadata": {
    "nbpresent": {
     "id": "56f9536f-ae11-4c33-9578-d4200629eaae"
    }
   },
   "outputs": [],
   "source": [
    "import os\n",
    "import sys\n",
    "module_path = os.path.abspath(os.path.join('..'))\n",
    "if module_path not in sys.path:\n",
    "    sys.path.append(\"./Pubyc-Cluster\")\n",
    "\n",
    "from PubycMaster import single_step\n",
    "from PubycTaskManager import TaskManager\n",
    "import numpy as np\n",
    "\n",
    "plot_list = []\n",
    "dt = 60 * 60 * 24\n",
    "year = 60 * 60 * 24 * 365\n",
    "iteration = (int)(year / dt)\n",
    "\n",
    "position = np.array(python_position, dtype=np.float64)\n",
    "speed = np.array(python_speed,dtype=np.float64)\n",
    "mass = np.array(python_mass,dtype=np.float64)\n",
    "\n",
    "TaskManager.register('get_job_queue')\n",
    "TaskManager.register('get_result_queue')\n",
    "server_ip = \"192.168.178.203\"\n",
    "server_socket = 12345\n",
    "taskmanager = TaskManager(address=(server_ip, server_socket), authkey = b'secret')\n",
    "taskmanager.connect()\n",
    "partsize = 250"
   ]
  },
  {
   "cell_type": "code",
   "execution_count": 33,
   "metadata": {},
   "outputs": [
    {
     "name": "stdout",
     "output_type": "stream",
     "text": [
      "11.5 s ± 338 ms per loop (mean ± std. dev. of 7 runs, 1 loop each)\n"
     ]
    }
   ],
   "source": [
    "%%timeit\n",
    "import os\n",
    "import sys\n",
    "module_path = os.path.abspath(os.path.join('..'))\n",
    "if module_path not in sys.path:\n",
    "    sys.path.append(\"./Pubyc-Cluster\")\n",
    "\n",
    "from PubycMaster import single_step\n",
    "from PubycTaskManager import TaskManager\n",
    "\n",
    "single_step(taskmanager, partsize, dt, position, speed, mass)"
   ]
  },
  {
   "cell_type": "code",
   "execution_count": null,
   "metadata": {
    "collapsed": true
   },
   "outputs": [],
   "source": []
  }
 ],
 "metadata": {
  "kernelspec": {
   "display_name": "Python 3",
   "language": "python",
   "name": "python3"
  },
  "language_info": {
   "codemirror_mode": {
    "name": "ipython",
    "version": 3
   },
   "file_extension": ".py",
   "mimetype": "text/x-python",
   "name": "python",
   "nbconvert_exporter": "python",
   "pygments_lexer": "ipython3",
   "version": "3.6.3"
  },
  "latex_envs": {
   "LaTeX_envs_menu_present": true,
   "autocomplete": true,
   "bibliofile": "biblio.bib",
   "cite_by": "apalike",
   "current_citInitial": 1,
   "eqLabelWithNumbers": true,
   "eqNumInitial": 1,
   "hotkeys": {
    "equation": "Ctrl-E",
    "itemize": "Ctrl-I"
   },
   "labels_anchors": false,
   "latex_user_defs": false,
   "report_style_numbering": false,
   "user_envs_cfg": false
  }
 },
 "nbformat": 4,
 "nbformat_minor": 2
}
