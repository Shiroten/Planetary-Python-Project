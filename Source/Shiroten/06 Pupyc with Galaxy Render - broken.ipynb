{
 "cells": [
  {
   "cell_type": "code",
   "execution_count": null,
   "metadata": {
    "collapsed": true
   },
   "outputs": [],
   "source": [
    "import os\n",
    "os.mkdir('./pubyc_renderer')"
   ]
  },
  {
   "cell_type": "code",
   "execution_count": 2,
   "metadata": {},
   "outputs": [
    {
     "name": "stdout",
     "output_type": "stream",
     "text": [
      "Overwriting ./pubyc_renderer/abstand.pxd\n"
     ]
    }
   ],
   "source": [
    "%%file ./pubyc_renderer/abstand.pxd\n",
    "cdef void Abstand (double [:, :], double[:], int, int) nogil"
   ]
  },
  {
   "cell_type": "code",
   "execution_count": 3,
   "metadata": {},
   "outputs": [
    {
     "name": "stdout",
     "output_type": "stream",
     "text": [
      "Overwriting ./pubyc_renderer/abstand.pyx\n"
     ]
    }
   ],
   "source": [
    "%%file ./pubyc_renderer/abstand.pyx\n",
    "cimport cython\n",
    "#Abstands Funktion\n",
    "#Abstand_Sonne = position[1] - position[0]\n",
    "\n",
    "@cython.boundscheck(False)\n",
    "@cython.cdivision(True)\n",
    "cdef void Abstand (double [:, :] position_view , double[:] result ,int head, int tail) nogil:   \n",
    "    result[0] = position_view[head][0] - position_view[tail][0]\n",
    "    result[1] = position_view[head][1] - position_view[tail][1]\n",
    "    result[2] = position_view[head][2] - position_view[tail][2]"
   ]
  },
  {
   "cell_type": "code",
   "execution_count": 4,
   "metadata": {},
   "outputs": [
    {
     "name": "stdout",
     "output_type": "stream",
     "text": [
      "Overwriting ./pubyc_renderer/betrag.pxd\n"
     ]
    }
   ],
   "source": [
    "%%file ./pubyc_renderer/betrag.pxd\n",
    "cdef void Betrag (double [:], double[:]) nogil"
   ]
  },
  {
   "cell_type": "code",
   "execution_count": 5,
   "metadata": {},
   "outputs": [
    {
     "name": "stdout",
     "output_type": "stream",
     "text": [
      "Overwriting ./pubyc_renderer/betrag.pyx\n"
     ]
    }
   ],
   "source": [
    "%%file ./pubyc_renderer/betrag.pyx\n",
    "cimport cython\n",
    "from libc.math cimport sqrt\n",
    "\n",
    "\n",
    "#Betrags Funktion\n",
    "#Betrag_Erde  = sqrt( Abstand_Erde**2 + Abstand_Erde**2 + Abstand_Erde**2)\n",
    "@cython.boundscheck(False)\n",
    "@cython.cdivision(True)\n",
    "cdef void Betrag (double [:] abstand_view , double[:] result) nogil:\n",
    "    result[0] = sqrt(abstand_view[0]**2 + abstand_view[1]**2 + abstand_view[2]**2)"
   ]
  },
  {
   "cell_type": "code",
   "execution_count": 6,
   "metadata": {},
   "outputs": [
    {
     "name": "stdout",
     "output_type": "stream",
     "text": [
      "Overwriting ./pubyc_renderer/kraft.pxd\n"
     ]
    }
   ],
   "source": [
    "%%file ./pubyc_renderer/kraft.pxd\n",
    "cdef void Kraft (double [:], double [:],  double [:], int, int, double[:]) nogil"
   ]
  },
  {
   "cell_type": "code",
   "execution_count": 7,
   "metadata": {},
   "outputs": [
    {
     "name": "stdout",
     "output_type": "stream",
     "text": [
      "Overwriting ./pubyc_renderer/kraft.pyx\n"
     ]
    }
   ],
   "source": [
    "%%file ./pubyc_renderer/kraft.pyx\n",
    "cimport cython\n",
    "\n",
    "#Kraft Funktion\n",
    "#Kraft_Erde = G * (masse_erde * masse_sonne / (Betrag_Erde  ** 3)) * Abstand_Erde\n",
    "@cython.boundscheck(False)\n",
    "@cython.cdivision(True)\n",
    "cdef void Kraft (double [:] masse_view, double [:] abstand_view,  double [:] Betrag, \\\n",
    "                  int head, int tail, double[:] result) nogil:\n",
    "    \n",
    "    cdef double g1 = 6.672\n",
    "    cdef double g2 = 10\n",
    "    cdef double g3 = -11\n",
    "    \n",
    "    cdef double G = g1 * g2 ** g3\n",
    "    cdef double betrag = Betrag[0] ** 3\n",
    "\n",
    "    cdef double masse_multyply = masse_view[head] * masse_view[tail]\n",
    "    \n",
    "    result[0] = G * (masse_multyply / betrag) * abstand_view[0]\n",
    "    result[1] = G * (masse_multyply / betrag) * abstand_view[1]\n",
    "    result[2] = G * (masse_multyply / betrag) * abstand_view[2]"
   ]
  },
  {
   "cell_type": "code",
   "execution_count": 8,
   "metadata": {},
   "outputs": [
    {
     "name": "stdout",
     "output_type": "stream",
     "text": [
      "Overwriting ./pubyc_renderer/beschleunigung.pxd\n"
     ]
    }
   ],
   "source": [
    "%%file ./pubyc_renderer/beschleunigung.pxd\n",
    "cdef void Beschleunigung (double [:], double [:], int, double[:]) nogil"
   ]
  },
  {
   "cell_type": "code",
   "execution_count": 9,
   "metadata": {},
   "outputs": [
    {
     "name": "stdout",
     "output_type": "stream",
     "text": [
      "Overwriting ./pubyc_renderer/beschleunigung.pyx\n"
     ]
    }
   ],
   "source": [
    "%%file ./pubyc_renderer/beschleunigung.pyx\n",
    "cimport cython\n",
    "\n",
    "#Beschleunigungs Funktion\n",
    "#Beschleunigung_Erde  = Kraft_Erde  / masse\n",
    "@cython.boundscheck(False)\n",
    "@cython.cdivision(True)\n",
    "cdef void Beschleunigung (double [:] kraft_view , double [:] masse_view, int massen_index, double[:] result) nogil:\n",
    "    cdef float G = 6.672 * 10 ** -11\n",
    "    result[0] = kraft_view[0]  / masse_view[massen_index]\n",
    "    result[1] = kraft_view[1]  / masse_view[massen_index]\n",
    "    result[2] = kraft_view[2]  / masse_view[massen_index]"
   ]
  },
  {
   "cell_type": "code",
   "execution_count": 10,
   "metadata": {},
   "outputs": [
    {
     "name": "stdout",
     "output_type": "stream",
     "text": [
      "Overwriting ./pubyc_renderer/update_position.pxd\n"
     ]
    }
   ],
   "source": [
    "%%file ./pubyc_renderer/update_position.pxd\n",
    "cdef void update_position (double [:, :], double [:, :], double [:, :],double [:], double, int) nogil"
   ]
  },
  {
   "cell_type": "code",
   "execution_count": 11,
   "metadata": {},
   "outputs": [
    {
     "name": "stdout",
     "output_type": "stream",
     "text": [
      "Overwriting ./pubyc_renderer/update_position.pyx\n"
     ]
    }
   ],
   "source": [
    "%%file ./pubyc_renderer/update_position.pyx\n",
    "cimport cython\n",
    "\n",
    "#Positions Aktualliersierung\n",
    "#position = position + dt * geschwindigkeit  + ((dt ** 2) / 2) * Beschleunigung_Erde\n",
    "@cython.boundscheck(False)\n",
    "@cython.cdivision(True)\n",
    "cdef void update_position (double [:, :] position_view , double [:, :] new_postion_view, \\\n",
    "                   double [:, :] speed_view, double [:] beschleunigung_view, \\\n",
    "                        double dt, int planet_index) nogil:\n",
    "    \n",
    "    new_postion_view[planet_index][0] = position_view[planet_index][0]  + dt * speed_view[planet_index][0] \\\n",
    "                                                + ((dt ** 2) / 2) * beschleunigung_view[0]\n",
    "        \n",
    "    new_postion_view[planet_index][1] = position_view[planet_index][1]  + dt * speed_view[planet_index][1] \\\n",
    "                                                + ((dt ** 2) / 2) * beschleunigung_view[1]\n",
    "        \n",
    "    new_postion_view[planet_index][2] = position_view[planet_index][2]  + dt * speed_view[planet_index][2] \\\n",
    "                                                + ((dt ** 2) / 2) * beschleunigung_view[2]"
   ]
  },
  {
   "cell_type": "code",
   "execution_count": 12,
   "metadata": {},
   "outputs": [
    {
     "name": "stdout",
     "output_type": "stream",
     "text": [
      "Overwriting ./pubyc_renderer/update_speed.pxd\n"
     ]
    }
   ],
   "source": [
    "%%file ./pubyc_renderer/update_speed.pxd\n",
    "cdef void update_speed (double [:, :], double [:, :], double [:], double, int) nogil"
   ]
  },
  {
   "cell_type": "code",
   "execution_count": 13,
   "metadata": {},
   "outputs": [
    {
     "name": "stdout",
     "output_type": "stream",
     "text": [
      "Overwriting ./pubyc_renderer/update_speed.pyx\n"
     ]
    }
   ],
   "source": [
    "%%file ./pubyc_renderer/update_speed.pyx\n",
    "cimport cython\n",
    "\n",
    "#Geschwindigkeits Aktuallisierung\n",
    "#geschwindigkeit[0][0]  += dt * Beschleunigung_Erde[0]\n",
    "@cython.boundscheck(False)\n",
    "@cython.cdivision(True)\n",
    "cdef void update_speed (double [:, :] speed_view, double [:, :] new_speed_view, \\\n",
    "                        double [:] beschleunigung_view, double dt ,int planet_index) nogil:\n",
    "    new_speed_view[planet_index][0] = speed_view[planet_index][0] + dt * beschleunigung_view[0]\n",
    "    new_speed_view[planet_index][1] = speed_view[planet_index][1] + dt * beschleunigung_view[1]\n",
    "    new_speed_view[planet_index][2] = speed_view[planet_index][2] + dt * beschleunigung_view[2]"
   ]
  },
  {
   "cell_type": "code",
   "execution_count": 14,
   "metadata": {},
   "outputs": [
    {
     "name": "stdout",
     "output_type": "stream",
     "text": [
      "Overwriting ./pubyc_renderer/loop.pyx\n"
     ]
    }
   ],
   "source": [
    "%%file ./pubyc_renderer/loop.pyx\n",
    "from cython.parallel import prange\n",
    "from abstand cimport Abstand\n",
    "from betrag cimport Betrag\n",
    "from kraft cimport Kraft\n",
    "from beschleunigung cimport Beschleunigung\n",
    "from update_position cimport update_position\n",
    "from update_speed cimport update_speed\n",
    "import numpy as np\n",
    "cimport cython\n",
    "\n",
    "@cython.boundscheck(False)\n",
    "cpdef Loop (position, speed, masse, args_dt):\n",
    "\n",
    "    #Umwandlung in MemoryView\n",
    "    cdef double [:, :] position_view = position\n",
    "    cdef double [:, :] speed_view = speed\n",
    "    cdef double [:, :] new_position_view = position\n",
    "    cdef double [:, :] new_speed_view = speed \n",
    "    cdef double [:] masse_view = masse\n",
    "\n",
    "    #Statische Variable\n",
    "    cdef int dt = args_dt\n",
    "    cdef int number_planets = len(position)\n",
    "    cdef int i, current_planet, planet\n",
    "    \n",
    "    #Temporaere MemoryView zum ZwischenSpeichern\n",
    "    cdef double [:] distance = np.array([0,0,0],  dtype=np.float64)\n",
    "    cdef double [:] magnitude = np.array([0],  dtype=np.float64)\n",
    "    cdef double [:] single_force = np.array([0,0,0],  dtype=np.float64)\n",
    "    cdef double [:] all_force = np.array([0,0,0],  dtype=np.float64)\n",
    "    cdef double [:] acceleration = np.array([0,0,0],  dtype=np.float64)\n",
    "      \n",
    "    for current_planet in prange (number_planets, nogil=True):                    \n",
    "        all_force[0] = 0\n",
    "        all_force[1] = 0\n",
    "        all_force[2] = 0\n",
    "\n",
    "        for planet in prange(number_planets):                \n",
    "            if (planet != current_planet):\n",
    "                Abstand(position_view, distance, planet, current_planet)\n",
    "                Betrag(distance, magnitude)\n",
    "                Kraft(masse_view, distance, magnitude, planet, current_planet, single_force)\n",
    "                all_force[0] += single_force[0]\n",
    "                all_force[1] += single_force[1]\n",
    "                all_force[2] += single_force[2]\n",
    "\n",
    "        Beschleunigung(all_force, masse_view, current_planet, acceleration)\n",
    "        update_position(position_view, new_position_view, speed_view, acceleration, dt, current_planet) \n",
    "        update_speed(speed_view , new_speed_view, acceleration, dt, current_planet)          \n",
    "        \n",
    "    position_view = new_position_view\n",
    "    speed_view = new_speed_view          \n",
    "    \n",
    "    #position = np.asarray(new_position_view)\n",
    "    #speed = np.asarray(new_speed_view)\n",
    "    \n",
    "    #print(position)"
   ]
  },
  {
   "cell_type": "code",
   "execution_count": 15,
   "metadata": {},
   "outputs": [
    {
     "name": "stdout",
     "output_type": "stream",
     "text": [
      "Overwriting ./pubyc_renderer/setup.py\n"
     ]
    }
   ],
   "source": [
    "%%file ./pubyc_renderer/setup.py\n",
    "\n",
    "\n",
    "# Aufruf: python3 setup.py build_ext --inplace\n",
    "# Windows: zusaetzliche Option --compiler=mingw32\n",
    "from distutils.core import setup\n",
    "from distutils.extension import Extension\n",
    "from Cython.Distutils import build_ext\n",
    "import numpy\n",
    "\n",
    "\n",
    "ext_modules=[ Extension(\"abstand\", [\"abstand.pyx\"],\n",
    "        extra_compile_args=['-O3'], libraries=['m']),\n",
    "             Extension(\"betrag\", [\"betrag.pyx\"],\n",
    "        extra_compile_args=['-O3'], libraries=['m']),\n",
    "              Extension(\"kraft\", [\"kraft.pyx\"],\n",
    "        extra_compile_args=['-O3'], libraries=['m']),\n",
    "             Extension(\"beschleunigung\", [\"beschleunigung.pyx\"],\n",
    "        extra_compile_args=['-O3'], libraries=['m']),\n",
    "             Extension(\"update_position\", [\"update_position.pyx\"],\n",
    "        extra_compile_args=['-O3'], libraries=['m']),\n",
    "             Extension(\"update_speed\", [\"update_speed.pyx\"],\n",
    "        extra_compile_args=['-O3'], libraries=['m']),\n",
    "             Extension(\"loop\", [\"loop.pyx\"],\n",
    "       extra_compile_args=['-O3', '-fopenmp'], libraries=['m'],\n",
    "                extra_link_args=['-fopenmp'],)\n",
    "        \n",
    "        #Maybe needed\n",
    "        #extra_compile_args=['-O3'], libraries=['m'],\n",
    "        #include_dirs=[numpy.get_include()]),\n",
    "]\n",
    "             \n",
    "setup( name = 'cython demo',\n",
    "  cmdclass = {'build_ext': build_ext},\n",
    "  ext_modules = ext_modules,\n",
    "     include_dirs=[numpy.get_include()])\n",
    "\n"
   ]
  },
  {
   "cell_type": "markdown",
   "metadata": {},
   "source": [
    "## Compile Cython"
   ]
  },
  {
   "cell_type": "code",
   "execution_count": 16,
   "metadata": {
    "scrolled": false
   },
   "outputs": [
    {
     "name": "stdout",
     "output_type": "stream",
     "text": [
      "running build_ext\n",
      "cythoning abstand.pyx to abstand.c\n",
      "building 'abstand' extension\n",
      "gcc -pthread -B /opt/anaconda/compiler_compat -Wl,--sysroot=/ -Wsign-compare -DNDEBUG -g -fwrapv -O3 -Wall -Wstrict-prototypes -fPIC -I/opt/anaconda/lib/python3.6/site-packages/numpy/core/include -I/opt/anaconda/include/python3.6m -c abstand.c -o build/temp.linux-x86_64-3.6/abstand.o -O3\n",
      "gcc -pthread -shared -B /opt/anaconda/compiler_compat -L/opt/anaconda/lib -Wl,-rpath=/opt/anaconda/lib -Wl,--no-as-needed -Wl,--sysroot=/ build/temp.linux-x86_64-3.6/abstand.o -L/opt/anaconda/lib -lm -lpython3.6m -o /home/shiroten/Nextcloud/Studium Dokumente/Aktuelles Semester/Rösch - Programmieren 3/Planetary-Python-Project/Source/Shiroten/pubyc_renderer/abstand.cpython-36m-x86_64-linux-gnu.so\n",
      "cythoning betrag.pyx to betrag.c\n",
      "building 'betrag' extension\n",
      "gcc -pthread -B /opt/anaconda/compiler_compat -Wl,--sysroot=/ -Wsign-compare -DNDEBUG -g -fwrapv -O3 -Wall -Wstrict-prototypes -fPIC -I/opt/anaconda/lib/python3.6/site-packages/numpy/core/include -I/opt/anaconda/include/python3.6m -c betrag.c -o build/temp.linux-x86_64-3.6/betrag.o -O3\n",
      "gcc -pthread -shared -B /opt/anaconda/compiler_compat -L/opt/anaconda/lib -Wl,-rpath=/opt/anaconda/lib -Wl,--no-as-needed -Wl,--sysroot=/ build/temp.linux-x86_64-3.6/betrag.o -L/opt/anaconda/lib -lm -lpython3.6m -o /home/shiroten/Nextcloud/Studium Dokumente/Aktuelles Semester/Rösch - Programmieren 3/Planetary-Python-Project/Source/Shiroten/pubyc_renderer/betrag.cpython-36m-x86_64-linux-gnu.so\n",
      "cythoning kraft.pyx to kraft.c\n",
      "building 'kraft' extension\n",
      "gcc -pthread -B /opt/anaconda/compiler_compat -Wl,--sysroot=/ -Wsign-compare -DNDEBUG -g -fwrapv -O3 -Wall -Wstrict-prototypes -fPIC -I/opt/anaconda/lib/python3.6/site-packages/numpy/core/include -I/opt/anaconda/include/python3.6m -c kraft.c -o build/temp.linux-x86_64-3.6/kraft.o -O3\n",
      "gcc -pthread -shared -B /opt/anaconda/compiler_compat -L/opt/anaconda/lib -Wl,-rpath=/opt/anaconda/lib -Wl,--no-as-needed -Wl,--sysroot=/ build/temp.linux-x86_64-3.6/kraft.o -L/opt/anaconda/lib -lm -lpython3.6m -o /home/shiroten/Nextcloud/Studium Dokumente/Aktuelles Semester/Rösch - Programmieren 3/Planetary-Python-Project/Source/Shiroten/pubyc_renderer/kraft.cpython-36m-x86_64-linux-gnu.so\n",
      "cythoning beschleunigung.pyx to beschleunigung.c\n",
      "building 'beschleunigung' extension\n",
      "gcc -pthread -B /opt/anaconda/compiler_compat -Wl,--sysroot=/ -Wsign-compare -DNDEBUG -g -fwrapv -O3 -Wall -Wstrict-prototypes -fPIC -I/opt/anaconda/lib/python3.6/site-packages/numpy/core/include -I/opt/anaconda/include/python3.6m -c beschleunigung.c -o build/temp.linux-x86_64-3.6/beschleunigung.o -O3\n",
      "gcc -pthread -shared -B /opt/anaconda/compiler_compat -L/opt/anaconda/lib -Wl,-rpath=/opt/anaconda/lib -Wl,--no-as-needed -Wl,--sysroot=/ build/temp.linux-x86_64-3.6/beschleunigung.o -L/opt/anaconda/lib -lm -lpython3.6m -o /home/shiroten/Nextcloud/Studium Dokumente/Aktuelles Semester/Rösch - Programmieren 3/Planetary-Python-Project/Source/Shiroten/pubyc_renderer/beschleunigung.cpython-36m-x86_64-linux-gnu.so\n",
      "cythoning update_position.pyx to update_position.c\n",
      "building 'update_position' extension\n",
      "gcc -pthread -B /opt/anaconda/compiler_compat -Wl,--sysroot=/ -Wsign-compare -DNDEBUG -g -fwrapv -O3 -Wall -Wstrict-prototypes -fPIC -I/opt/anaconda/lib/python3.6/site-packages/numpy/core/include -I/opt/anaconda/include/python3.6m -c update_position.c -o build/temp.linux-x86_64-3.6/update_position.o -O3\n",
      "gcc -pthread -shared -B /opt/anaconda/compiler_compat -L/opt/anaconda/lib -Wl,-rpath=/opt/anaconda/lib -Wl,--no-as-needed -Wl,--sysroot=/ build/temp.linux-x86_64-3.6/update_position.o -L/opt/anaconda/lib -lm -lpython3.6m -o /home/shiroten/Nextcloud/Studium Dokumente/Aktuelles Semester/Rösch - Programmieren 3/Planetary-Python-Project/Source/Shiroten/pubyc_renderer/update_position.cpython-36m-x86_64-linux-gnu.so\n",
      "cythoning update_speed.pyx to update_speed.c\n",
      "building 'update_speed' extension\n",
      "gcc -pthread -B /opt/anaconda/compiler_compat -Wl,--sysroot=/ -Wsign-compare -DNDEBUG -g -fwrapv -O3 -Wall -Wstrict-prototypes -fPIC -I/opt/anaconda/lib/python3.6/site-packages/numpy/core/include -I/opt/anaconda/include/python3.6m -c update_speed.c -o build/temp.linux-x86_64-3.6/update_speed.o -O3\n",
      "gcc -pthread -shared -B /opt/anaconda/compiler_compat -L/opt/anaconda/lib -Wl,-rpath=/opt/anaconda/lib -Wl,--no-as-needed -Wl,--sysroot=/ build/temp.linux-x86_64-3.6/update_speed.o -L/opt/anaconda/lib -lm -lpython3.6m -o /home/shiroten/Nextcloud/Studium Dokumente/Aktuelles Semester/Rösch - Programmieren 3/Planetary-Python-Project/Source/Shiroten/pubyc_renderer/update_speed.cpython-36m-x86_64-linux-gnu.so\n",
      "cythoning loop.pyx to loop.c\n",
      "building 'loop' extension\n",
      "gcc -pthread -B /opt/anaconda/compiler_compat -Wl,--sysroot=/ -Wsign-compare -DNDEBUG -g -fwrapv -O3 -Wall -Wstrict-prototypes -fPIC -I/opt/anaconda/lib/python3.6/site-packages/numpy/core/include -I/opt/anaconda/include/python3.6m -c loop.c -o build/temp.linux-x86_64-3.6/loop.o -O3 -fopenmp\n",
      "gcc -pthread -shared -B /opt/anaconda/compiler_compat -L/opt/anaconda/lib -Wl,-rpath=/opt/anaconda/lib -Wl,--no-as-needed -Wl,--sysroot=/ build/temp.linux-x86_64-3.6/loop.o -L/opt/anaconda/lib -lm -lpython3.6m -o /home/shiroten/Nextcloud/Studium Dokumente/Aktuelles Semester/Rösch - Programmieren 3/Planetary-Python-Project/Source/Shiroten/pubyc_renderer/loop.cpython-36m-x86_64-linux-gnu.so -fopenmp\n"
     ]
    }
   ],
   "source": [
    "%%bash\n",
    "cd ./pubyc_renderer\n",
    "#Compilen\n",
    "python3 setup.py build_ext --inplace"
   ]
  },
  {
   "cell_type": "markdown",
   "metadata": {},
   "source": [
    "## Jupyter Test"
   ]
  },
  {
   "cell_type": "code",
   "execution_count": 17,
   "metadata": {
    "collapsed": true
   },
   "outputs": [],
   "source": [
    "import os\n",
    "import sys\n",
    "module_path = os.path.abspath(os.path.join('..'))\n",
    "if module_path not in sys.path:\n",
    "    sys.path.append(\"./pubyc_renderer\")\n",
    "\n",
    "from loop import Loop\n",
    "import numpy as np\n",
    "import matplotlib.pyplot as plt\n",
    "\n",
    "python_position = [\n",
    "    #\"Sun\"\n",
    "    [0, 0, 0],     \n",
    "    #\"Mercury\"\n",
    "    [57_909_175_000, 0, 0], \n",
    "    #\"Venus\"\n",
    "    [108_208_930_000, 0, 0],    \n",
    "    #\"Earth\"\n",
    "    [149_597_890_000, 0, 0],    \n",
    "    #\"Moon\"\n",
    "    [149_597_890_000, 384_400_000, 0],    \n",
    "    #\"Mars\"\n",
    "    [227_936_640_000, 0, 0],    \n",
    "    #\"Jupiter\"\n",
    "    [778_412_020_000, 0, 0],    \n",
    "    #\"Saturn\"\n",
    "    [1_426_725_400_000, 0, 0],    \n",
    "    #\"Uranus\"\n",
    "    [2_870_972_200_000, 0, 0],    \n",
    "    #\"Neptune\"\n",
    "    [4_498_252_900_000, 0, 0]\n",
    "]\n",
    "\n",
    "python_speed = [\n",
    "    #\"Sun\"\n",
    "    [0, 0, 0],     \n",
    "    #\"Mercury\"\n",
    "    [0, 47_872, 0], \n",
    "    #\"Venus\"\n",
    "    [0, 35_021, 0],    \n",
    "    #\"Earth\"\n",
    "    [0, 29_786, 0],    \n",
    "    #\"Moon\"\n",
    "    [-1_022, 0, 0],    \n",
    "    #\"Mars\"\n",
    "    [0, 24_131, 0],    \n",
    "    #\"Jupiter\"\n",
    "    [0, 13_069, 0],    \n",
    "    #\"Saturn\"\n",
    "    [0, 9_672, 0],    \n",
    "    #\"Uranus\"\n",
    "    [0, 6_835, 0],    \n",
    "    #\"Neptune\"\n",
    "    [0, 5_477, 0]\n",
    "]\n",
    "\n",
    "python_masse = [\n",
    "    #\"Sun\"\n",
    "    1.9889 * 10 ** 30,     \n",
    "    #\"Mercury\"\n",
    "    3.3022 * 10 ** 23, \n",
    "    #\"Venus\"\n",
    "    4.8685 * 10 ** 24,    \n",
    "    #\"Earth\"\n",
    "    5.97219 * 10 ** 24,    \n",
    "    #\"Moon\"\n",
    "    7.34767309 * 10 ** 22,    \n",
    "    #\"Mars\"\n",
    "    6.4185 * 10 ** 23,    \n",
    "    #\"Jupiter\"\n",
    "    1.8987 * 10 ** 27,    \n",
    "    #\"Saturn\"\n",
    "    5.6851 * 10 ** 26,    \n",
    "    #\"Uranus\"\n",
    "    8.6849 * 10 ** 25,    \n",
    "    #\"Neptune\"\n",
    "    1.0244 * 10 ** 26\n",
    "]\n",
    "\n",
    "FACTOR = 5\n",
    "radius =  [\n",
    "    0.25 * FACTOR,\n",
    "    0.02 * FACTOR,\n",
    "    0.06 * FACTOR,\n",
    "    0.06 * FACTOR,\n",
    "    0.01 * FACTOR,\n",
    "    0.03 * FACTOR,\n",
    "    0.18 * FACTOR,\n",
    "    0.15 * FACTOR,\n",
    "    0.1 * FACTOR,\n",
    "    0.1 * FACTOR\n",
    "]\n",
    "position = np.array(python_position, dtype=np.float64)\n",
    "speed = np.array(python_speed, dtype=np.float64)\n",
    "masse = np.array(python_masse, dtype=np.float64)\n",
    "\n",
    "dt = 60 * 60 * 24\n",
    "year = 60 * 60 * 24 * 365 \n",
    "iteration = int(165 *year / dt)\n",
    "plot_list = []\n",
    "\n",
    "for i in range(iteration): \n",
    "    pos_list_entry = []\n",
    "    for list_index in range(len(position)):\n",
    "        \n",
    "        pos_list_entry.append(np.array((position[list_index][0], position[list_index][1],\\\n",
    "        position[list_index][2]), np.float64))\n",
    "        \n",
    "    plot_list.append(np.array(pos_list_entry, np.float64))\n",
    "    \n",
    "    Loop(position, speed, masse, dt)"
   ]
  },
  {
   "cell_type": "code",
   "execution_count": 18,
   "metadata": {},
   "outputs": [
    {
     "data": {
      "image/png": "[encoded data removed]",
      "text/plain": [
       "<matplotlib.figure.Figure at 0x7f817c12fb38>"
      ]
     },
     "metadata": {},
     "output_type": "display_data"
    },
    {
     "data": {
      "image/png": "[encoded data removed]",
      "text/plain": [
       "<matplotlib.figure.Figure at 0x7f8174f7ef98>"
      ]
     },
     "metadata": {},
     "output_type": "display_data"
    },
    {
     "data": {
      "image/png": "[encoded data removed]",
      "text/plain": [
       "<matplotlib.figure.Figure at 0x7f8174f3e588>"
      ]
     },
     "metadata": {},
     "output_type": "display_data"
    },
    {
     "data": {
      "image/png": "[encoded data removed]",
      "text/plain": [
       "<matplotlib.figure.Figure at 0x7f8174eda5f8>"
      ]
     },
     "metadata": {},
     "output_type": "display_data"
    },
    {
     "data": {
      "image/png": "[encoded data removed]",
      "text/plain": [
       "<matplotlib.figure.Figure at 0x7f8174e5ddd8>"
      ]
     },
     "metadata": {},
     "output_type": "display_data"
    },
    {
     "data": {
      "image/png": "[encoded data removed]",
      "text/plain": [
       "<matplotlib.figure.Figure at 0x7f8174e622b0>"
      ]
     },
     "metadata": {},
     "output_type": "display_data"
    },
    {
     "data": {
      "image/png": "[encoded data removed]",
      "text/plain": [
       "<matplotlib.figure.Figure at 0x7f817c12fd68>"
      ]
     },
     "metadata": {},
     "output_type": "display_data"
    },
    {
     "data": {
      "image/png": "[encoded data removed]",
      "text/plain": [
       "<matplotlib.figure.Figure at 0x7f8174fe0630>"
      ]
     },
     "metadata": {},
     "output_type": "display_data"
    },
    {
     "data": {
      "image/png": "[encoded data removed]",
      "text/plain": [
       "<matplotlib.figure.Figure at 0x7f8174ef0588>"
      ]
     },
     "metadata": {},
     "output_type": "display_data"
    },
    {
     "data": {
      "image/png": "[encoded data removed]",
      "text/plain": [
       "<matplotlib.figure.Figure at 0x7f8174e29ef0>"
      ]
     },
     "metadata": {},
     "output_type": "display_data"
    },
    {
     "name": "stdout",
     "output_type": "stream",
     "text": [
      "plot_list_length 730\n",
      "[[  0.00000000e+00   0.00000000e+00   0.00000000e+00]\n",
      " [  5.79091750e+10   0.00000000e+00   0.00000000e+00]\n",
      " [  1.08208930e+11   0.00000000e+00   0.00000000e+00]\n",
      " [  1.49597890e+11   0.00000000e+00   0.00000000e+00]\n",
      " [  1.49597890e+11   3.84400000e+08   0.00000000e+00]\n",
      " [  2.27936640e+11   0.00000000e+00   0.00000000e+00]\n",
      " [  7.78412020e+11   0.00000000e+00   0.00000000e+00]\n",
      " [  1.42672540e+12   0.00000000e+00   0.00000000e+00]\n",
      " [  2.87097220e+12   0.00000000e+00   0.00000000e+00]\n",
      " [  4.49825290e+12   0.00000000e+00   0.00000000e+00]]\n",
      "[[  4.64818215e+05   4.94435616e-04   0.00000000e+00]\n",
      " [  5.70893836e+10   4.13614080e+09   0.00000000e+00]\n",
      " [  1.08119543e+11   3.02583721e+09   0.00000000e+00]\n",
      " [  1.49598355e+11   2.57351040e+09   0.00000000e+00]\n",
      " [  1.49361871e+11   3.84400000e+08   0.00000000e+00]\n",
      " [  2.27847253e+11   2.08494121e+09   0.00000000e+00]\n",
      " [  7.78412485e+11   1.12916160e+09   0.00000000e+00]\n",
      " [  1.42657768e+12   8.35660800e+08   0.00000000e+00]\n",
      " [  2.87097266e+12   5.90544000e+08   0.00000000e+00]\n",
      " [  4.49743311e+12   4.73212800e+08   0.00000000e+00]]\n",
      "[[  1.39443762e+06   1.93935269e+00   0.00000000e+00]\n",
      " [  5.89722443e+10   8.38266405e+09   0.00000000e+00]\n",
      " [  1.07874070e+11   6.05049616e+09   0.00000000e+00]\n",
      " [  1.49599284e+11   5.14702080e+09   0.00000000e+00]\n",
      " [  1.48979398e+11   4.94782453e+08   0.00000000e+00]\n",
      " [  2.27601780e+11   4.16870416e+09   0.00000000e+00]\n",
      " [  7.78413414e+11   2.25832320e+09   0.00000000e+00]\n",
      " [  1.42628351e+12   1.78170405e+09   0.00000000e+00]\n",
      " [  2.87097359e+12   1.18108800e+09   0.00000000e+00]\n",
      " [  4.49931597e+12   1.05680805e+09   0.00000000e+00]]\n",
      "[[  1.55247270e+08   2.13410397e+07   0.00000000e+00]\n",
      " [  6.30331915e+10   1.27395697e+10   0.00000000e+00]\n",
      " [  1.07496392e+11   9.07730111e+09   0.00000000e+00]\n",
      " [  1.49607199e+11   7.72150737e+09   0.00000000e+00]\n",
      " [  1.52951307e+11   7.15547349e+08   0.00000000e+00]\n",
      " [  2.27224102e+11   6.25461311e+09   0.00000000e+00]\n",
      " [  7.78421329e+11   3.38846097e+09   0.00000000e+00]\n",
      " [  1.43034372e+12   2.83812975e+09   0.00000000e+00]\n",
      " [  2.87112745e+12   1.79297304e+09   0.00000000e+00]\n",
      " [  4.50337692e+12   1.75078575e+09   0.00000000e+00]]\n",
      "[[  4.60438171e+08   6.40199895e+07   0.00000000e+00]\n",
      " [  6.74768242e+10   1.70955279e+10   0.00000000e+00]\n",
      " [  1.07018683e+11   1.21082671e+10   0.00000000e+00]\n",
      " [  1.49913975e+11   1.03376998e+10   0.00000000e+00]\n",
      " [ -3.23280230e+12  -1.03314458e+10   0.00000000e+00]\n",
      " [  2.26519053e+11   8.35004283e+09   0.00000000e+00]\n",
      " [  7.78846200e+11   4.58414931e+09   0.00000000e+00]\n",
      " [  1.43396635e+12   3.89309914e+09   0.00000000e+00]\n",
      " [  2.87143264e+12   2.42619599e+09   0.00000000e+00]\n",
      " [  4.50743765e+12   2.44476343e+09   0.00000000e+00]]\n",
      "[[  2.84317467e+09   6.91824545e+08   0.00000000e+00]\n",
      " [  7.23032108e+10   2.14505373e+10   0.00000000e+00]\n",
      " [  1.06409993e+11   1.51368059e+10   0.00000000e+00]\n",
      " [  1.50315843e+11   1.35390210e+10   0.00000000e+00]\n",
      " [ -1.00084812e+13  -3.26461982e+10   0.00000000e+00]\n",
      " [  2.25455684e+11   1.04484053e+10   0.00000000e+00]\n",
      " [  7.79484258e+11   6.38881105e+09   0.00000000e+00]\n",
      " [  1.43695163e+12   4.94661116e+09   0.00000000e+00]\n",
      " [  2.87381537e+12   3.64454455e+09   0.00000000e+00]\n",
      " [  4.51129914e+12   3.13874004e+09   0.00000000e+00]]\n",
      "[[  7.30504522e+09   1.90475905e+09   0.00000000e+00]\n",
      " [  7.67475394e+10   2.58055417e+10   0.00000000e+00]\n",
      " [  1.05598848e+11   1.81616638e+10   0.00000000e+00]\n",
      " [  1.54780883e+11   1.73254710e+10   0.00000000e+00]\n",
      " [ -1.67843598e+13  -5.49610077e+10   0.00000000e+00]\n",
      " [  2.23491853e+11   1.25401893e+10   0.00000000e+00]\n",
      " [  7.84185488e+11   8.77860152e+09   0.00000000e+00]\n",
      " [  1.43973723e+12   6.00006595e+09   0.00000000e+00]\n",
      " [  2.87835240e+12   5.47605185e+09   0.00000000e+00]\n",
      " [  4.51496138e+12   3.83271573e+09   0.00000000e+00]]\n",
      "[[  1.37670983e+10   3.80124345e+09   0.00000000e+00]\n",
      " [  8.12081701e+10   3.01605422e+10   0.00000000e+00]\n",
      " [  1.04625063e+11   2.11683666e+10   0.00000000e+00]\n",
      " [  1.59337405e+11   2.17954696e+10   0.00000000e+00]\n",
      " [ -2.35661877e+13  -7.73340309e+10   0.00000000e+00]\n",
      " [  2.20294378e+11   1.44942648e+10   0.00000000e+00]\n",
      " [  7.88978201e+11   1.11996584e+10   0.00000000e+00]\n",
      " [  1.44252165e+12   7.05345707e+09   0.00000000e+00]\n",
      " [  2.88481446e+12   7.96308024e+09   0.00000000e+00]\n",
      " [  4.51865622e+12   4.52668336e+09   0.00000000e+00]]\n",
      "[[  2.41503088e+10   7.13327615e+09   0.00000000e+00]\n",
      " [  1.48537434e+11   3.45294566e+10   0.00000000e+00]\n",
      " [  1.03520784e+11   2.41444808e+10   0.00000000e+00]\n",
      " [  1.69723783e+11   2.77010164e+10   0.00000000e+00]\n",
      " [ -3.00595233e+13  -9.95863794e+10   0.00000000e+00]\n",
      " [  2.16107090e+11   1.62163227e+10   0.00000000e+00]\n",
      " [  7.99600769e+11   1.57085458e+10   0.00000000e+00]\n",
      " [  1.72785028e+12   8.16937299e+09   0.00000000e+00]\n",
      " [  2.89519767e+12   1.18856569e+10   0.00000000e+00]\n",
      " [  4.58521969e+12   5.23456488e+09   0.00000000e+00]]\n",
      "[[  3.64545262e+10   1.12173214e+10   0.00000000e+00]\n",
      " [  2.78735497e+11   3.89122852e+10   0.00000000e+00]\n",
      " [  1.02445572e+11   2.71456946e+10   0.00000000e+00]\n",
      " [  1.82031168e+11   3.43585759e+10   0.00000000e+00]\n",
      " [ -3.67096665e+13  -1.21873432e+11   0.00000000e+00]\n",
      " [  2.13112931e+11   1.82983106e+10   0.00000000e+00]\n",
      " [  8.12144344e+11   2.09694458e+10   0.00000000e+00]\n",
      " [  1.85637122e+12   9.25058444e+09   0.00000000e+00]\n",
      " [  2.90750188e+12   1.65602462e+10   0.00000000e+00]\n",
      " [  4.71465196e+12   5.95636067e+09   0.00000000e+00]]\n",
      "[[  4.87587808e+10   1.53013788e+10   0.00000000e+00]\n",
      " [  4.08843541e+11   4.32910094e+10   0.00000000e+00]\n",
      " [  1.01313264e+11   3.01142752e+10   0.00000000e+00]\n",
      " [  1.94347697e+11   4.10153780e+10   0.00000000e+00]\n",
      " [ -4.33598996e+13  -1.44164589e+11   0.00000000e+00]\n",
      " [  2.09685690e+11   2.01327717e+10   0.00000000e+00]\n",
      " [  8.24697063e+11   2.62295885e+10   0.00000000e+00]\n",
      " [  1.98480228e+12   1.03276918e+10   0.00000000e+00]\n",
      " [  2.91981525e+12   2.12340782e+10   0.00000000e+00]\n",
      " [  4.84408410e+12   6.67814360e+09   0.00000000e+00]]\n",
      "[[  6.10962676e+10   1.93840987e+10   0.00000000e+00]\n",
      " [  5.38861402e+11   4.76656289e+10   0.00000000e+00]\n",
      " [  1.02280976e+11   3.32011354e+10   0.00000000e+00]\n",
      " [  2.07137902e+11   4.76716121e+10   0.00000000e+00]\n",
      " [ -5.00102216e+13  -1.66459848e+11   0.00000000e+00]\n",
      " [  2.24294773e+11   2.37942971e+10   0.00000000e+00]\n",
      " [  8.37723459e+11   3.14710599e+10   0.00000000e+00]\n",
      " [  2.11314451e+12   1.14006975e+10   0.00000000e+00]\n",
      " [  2.93215273e+12   2.59073420e+10   0.00000000e+00]\n",
      " [  4.97351595e+12   7.39991331e+09   0.00000000e+00]]\n",
      "[[  7.34669764e+10   2.34654816e+10   0.00000000e+00]\n",
      " [  6.64986100e+11   5.27139174e+10   0.00000000e+00]\n",
      " [  1.13266497e+11   3.69858227e+10   0.00000000e+00]\n",
      " [  2.19511779e+11   5.43265092e+10   0.00000000e+00]\n",
      " [ -5.66605445e+13  -1.88754717e+11   0.00000000e+00]\n",
      " [  3.14889994e+11   3.27489152e+10   0.00000000e+00]\n",
      " [  8.50333525e+11   3.67292976e+10   0.00000000e+00]\n",
      " [  2.24148581e+12   1.24740927e+10   0.00000000e+00]\n",
      " [  2.94448931e+12   3.05775553e+10   0.00000000e+00]\n",
      " [  5.10294554e+12   8.12207432e+09   0.00000000e+00]]\n",
      "[[  8.56600861e+10   2.75453523e+10   0.00000000e+00]\n",
      " [  7.87217436e+11   5.84359046e+10   0.00000000e+00]\n",
      " [  1.32010762e+11   4.12795432e+10   0.00000000e+00]\n",
      " [  2.29301163e+11   6.09594301e+10   0.00000000e+00]\n",
      " [ -6.33186514e+13  -2.09702634e+11   0.00000000e+00]\n",
      " [  3.62164603e+11   3.88617411e+10   0.00000000e+00]\n",
      " [  8.60359100e+11   4.19655591e+10   0.00000000e+00]\n",
      " [  2.36204302e+12   1.48944400e+10   0.00000000e+00]\n",
      " [  2.95668242e+12   3.52479700e+10   0.00000000e+00]\n",
      " [  5.22459087e+12   1.01912117e+10   0.00000000e+00]]\n",
      "[[  9.76755982e+10   3.16237110e+10   0.00000000e+00]\n",
      " [  9.09477155e+11   6.41589389e+10   0.00000000e+00]\n",
      " [  1.50331782e+11   4.54540563e+10   0.00000000e+00]\n",
      " [  2.36522695e+11   6.75703751e+10   0.00000000e+00]\n",
      " [ -6.99767302e+13  -2.30649480e+11   0.00000000e+00]\n",
      " [  4.09022363e+11   4.48559655e+10   0.00000000e+00]\n",
      " [  8.67816822e+11   4.72207725e+10   0.00000000e+00]\n",
      " [  2.48262844e+12   1.73158587e+10   0.00000000e+00]\n",
      " [  2.96869907e+12   3.99175281e+10   0.00000000e+00]\n",
      " [  5.34623609e+12   1.22603820e+10   0.00000000e+00]]\n",
      "[[  1.09691104e+11   3.57020695e+10   0.00000000e+00]\n",
      " [  1.03176640e+12   6.98829916e+10   0.00000000e+00]\n",
      " [  1.68229764e+11   4.95092990e+10   0.00000000e+00]\n",
      " [  2.43727584e+11   7.41813200e+10   0.00000000e+00]\n",
      " [ -7.66347761e+13  -2.51595304e+11   0.00000000e+00]\n",
      " [  4.55464842e+11   5.07311112e+10   0.00000000e+00]\n",
      " [  8.75257907e+11   5.24759859e+10   0.00000000e+00]\n",
      " [  2.60324245e+12   1.97382950e+10   0.00000000e+00]\n",
      " [  2.98057324e+12   4.45835480e+10   0.00000000e+00]\n",
      " [  5.46788141e+12   1.43295555e+10   0.00000000e+00]]\n",
      "[[  1.21707844e+11   3.97805555e+10   0.00000000e+00]\n",
      " [  1.15350381e+12   7.56070774e+10   0.00000000e+00]\n",
      " [  1.74445596e+11   5.31812410e+10   0.00000000e+00]\n",
      " [  2.50933706e+11   8.07923922e+10   0.00000000e+00]\n",
      " [ -8.32928247e+13  -2.72541096e+11   0.00000000e+00]\n",
      " [  4.90232929e+11   5.62231478e+10   0.00000000e+00]\n",
      " [  8.82700220e+11   5.77313266e+10   0.00000000e+00]\n",
      " [  2.72385613e+12   2.21607651e+10   0.00000000e+00]\n",
      " [  2.99258997e+12   4.92525777e+10   0.00000000e+00]\n",
      " [  5.58897773e+12   1.63987647e+10   0.00000000e+00]]\n",
      "[[  1.33725812e+11   4.38591687e+10   0.00000000e+00]\n",
      " [  1.27587044e+12   8.13312237e+10   0.00000000e+00]\n",
      " [  1.68944712e+11   5.64686951e+10   0.00000000e+00]\n",
      " [  2.58141057e+11   8.74035918e+10   0.00000000e+00]\n",
      " [ -8.99507947e+13  -2.93486828e+11   0.00000000e+00]\n",
      " [  5.13284300e+11   6.13306965e+10   0.00000000e+00]\n",
      " [  8.90143761e+11   6.29867946e+10   0.00000000e+00]\n",
      " [  2.84454846e+12   2.45832958e+10   0.00000000e+00]\n",
      " [  3.00462709e+12   5.39226342e+10   0.00000000e+00]\n",
      " [  5.71062454e+12   1.84680079e+10   0.00000000e+00]]\n",
      "[[  1.45747248e+11   4.79377205e+10   0.00000000e+00]\n",
      " [  1.40801549e+12   8.70953788e+10   0.00000000e+00]\n",
      " [  1.62649468e+11   5.94751398e+10   0.00000000e+00]\n",
      " [  2.65398546e+11   9.40138993e+10   0.00000000e+00]\n",
      " [ -9.65989862e+13  -3.14392551e+11   0.00000000e+00]\n",
      " [  5.35541312e+11   6.61572359e+10   0.00000000e+00]\n",
      " [  8.97637440e+11   6.82413705e+10   0.00000000e+00]\n",
      " [  2.97501922e+12   2.70458353e+10   0.00000000e+00]\n",
      " [  3.01720608e+12   5.85917297e+10   0.00000000e+00]\n",
      " [  5.84197108e+12   2.05772333e+10   0.00000000e+00]]\n",
      "[[  1.57784380e+11   5.20163167e+10   0.00000000e+00]\n",
      " [  1.54986000e+12   9.28995278e+10   0.00000000e+00]\n",
      " [  8.66979461e+11   8.09572673e+10   0.00000000e+00]\n",
      " [  2.72790685e+11   1.00626519e+11   0.00000000e+00]\n",
      " [ -1.03237501e+14  -3.35241953e+11   0.00000000e+00]\n",
      " [  1.26842356e+12   8.94594580e+10   0.00000000e+00]\n",
      " [  9.05265769e+11   7.34968215e+10   0.00000000e+00]\n",
      " [  3.11516624e+12   2.95483687e+10   0.00000000e+00]\n",
      " [  3.02980076e+12   6.32608697e+10   0.00000000e+00]\n",
      " [  5.98301706e+12   2.27264525e+10   0.00000000e+00]]\n"
     ]
    }
   ],
   "source": [
    "plt.subplot(111)\n",
    "plt.plot([x[0][0] for x in plot_list], [x[0][1] for x in plot_list], label=\"Sun\")\n",
    "plt.legend(bbox_to_anchor=(1.05, 1), loc=2, borderaxespad=0.)\n",
    "plt.show()\n",
    "\n",
    "plt.subplot(111)\n",
    "plt.plot([x[1][0] for x in plot_list], [x[1][1] for x in plot_list], label=\"Mercury\")\n",
    "plt.legend(bbox_to_anchor=(1.05, 1), loc=2, borderaxespad=0.)\n",
    "plt.show()\n",
    "\n",
    "plt.subplot(111)\n",
    "plt.plot([x[2][0] for x in plot_list], [x[2][1] for x in plot_list], label=\"Venus\")\n",
    "plt.legend(bbox_to_anchor=(1.05, 1), loc=2, borderaxespad=0.)\n",
    "plt.show()\n",
    "\n",
    "plt.subplot(111)\n",
    "plt.plot([x[3][0] for x in plot_list], [x[3][1] for x in plot_list], label=\"Earth\")\n",
    "plt.legend(bbox_to_anchor=(1.05, 1), loc=2, borderaxespad=0.)\n",
    "plt.show()\n",
    "\n",
    "plt.subplot(111)\n",
    "plt.plot([x[4][0] for x in plot_list], [x[4][1] for x in plot_list], label=\"Moon\")\n",
    "plt.legend(bbox_to_anchor=(1.05, 1), loc=2, borderaxespad=0.)\n",
    "plt.show()\n",
    "\n",
    "plt.subplot(111)\n",
    "plt.plot([x[5][0] for x in plot_list], [x[5][1] for x in plot_list], label=\"Mars\")\n",
    "plt.legend(bbox_to_anchor=(1.05, 1), loc=2, borderaxespad=0.)\n",
    "plt.show()\n",
    "\n",
    "plt.subplot(111)\n",
    "plt.plot([x[6][0] for x in plot_list], [x[6][1] for x in plot_list], label=\"Jupiter\")\n",
    "plt.legend(bbox_to_anchor=(1.05, 1), loc=2, borderaxespad=0.)\n",
    "plt.show()\n",
    "\n",
    "plt.subplot(111)\n",
    "plt.plot([x[7][0] for x in plot_list], [x[7][1] for x in plot_list], label=\"Saturn\")\n",
    "plt.legend(bbox_to_anchor=(1.05, 1), loc=2, borderaxespad=0.)\n",
    "plt.show()\n",
    "\n",
    "plt.subplot(111)\n",
    "plt.plot([x[8][0] for x in plot_list], [x[8][1] for x in plot_list], label=\"Uranus\")\n",
    "plt.legend(bbox_to_anchor=(1.05, 1), loc=2, borderaxespad=0.)\n",
    "plt.show()\n",
    "\n",
    "plt.subplot(111)\n",
    "plt.plot([x[9][0] for x in plot_list], [x[9][1] for x in plot_list], label=\"Neptune\")\n",
    "plt.legend(bbox_to_anchor=(1.05, 1), loc=2, borderaxespad=0.)\n",
    "plt.show()\n",
    "\n",
    "print(\"plot_list_length\", len(plot_list))\n",
    "for _ in range (20):\n",
    "    print(plot_list[_])"
   ]
  },
  {
   "cell_type": "markdown",
   "metadata": {},
   "source": [
    "## Simulation Starter"
   ]
  },
  {
   "cell_type": "code",
   "execution_count": null,
   "metadata": {
    "collapsed": true
   },
   "outputs": [],
   "source": [
    "%%file ./pubyc_renderer/galaxy_renderer.py\n",
    "\"\"\"\n",
    "OpenGL output for gravity simulation\n",
    "\"\"\"\n",
    "#\n",
    "# Copyright (C) 2017  \"Peter Roesch\" <Peter.Roesch@fh-augsburg.de>\n",
    "#\n",
    "# This program is free software; you can redistribute it and/or\n",
    "# modify it under the terms of the GNU General Public License\n",
    "# as published by the Free Software Foundation; either version 3\n",
    "# of the License, or (at your option) any later version.\n",
    "#\n",
    "# This program is distributed in the hope that it will be useful,\n",
    "# but WITHOUT ANY WARRANTY; without even the implied warranty of\n",
    "# MERCHANTABILITY or FITNESS FOR A PARTICULAR PURPOSE.  See the\n",
    "# GNU General Public License for more details.\n",
    "#\n",
    "# You should have received a copy of the GNU General Public License\n",
    "# along with this program; if not, write to the Free Software\n",
    "# Foundation, Inc., 59 Temple Place - Suite 330, Boston, MA  02111-1307, USA.\n",
    "# or open http://www.fsf.org/licensing/licenses/gpl.html\n",
    "#\n",
    "import sys\n",
    "import time\n",
    "\n",
    "try:\n",
    "    from OpenGL import GLUT\n",
    "    from OpenGL import GL\n",
    "    from OpenGL import GLU\n",
    "except ImportError:\n",
    "    print(' Error: Software not installed properly !!')\n",
    "    sys.exit()\n",
    "\n",
    "from mouse_interactor import MouseInteractor\n",
    "from simulation_constants import END_MESSAGE\n",
    "\n",
    "# initial window parameters\n",
    "_WINDOW_SIZE = (512, 512)\n",
    "_WINDOW_POSITION = (100, 100)\n",
    "_LIGHT_POSITION = (2, 2, 3)\n",
    "_CAMERA_POSITION = (0, 0, 22)\n",
    "\n",
    "\n",
    "class GalaxyRenderer:\n",
    "    \"\"\"\n",
    "        Class containing OpenGL code\n",
    "    \"\"\"\n",
    "\n",
    "    def __init__(self, render_pipe, fps):\n",
    "        self.render_pipe = render_pipe\n",
    "        self.fps = fps\n",
    "        self.bodies = None\n",
    "        self.do_exit = False\n",
    "        self.sphere = None\n",
    "        self.init_glut()\n",
    "        self.init_gl()\n",
    "        self.mouse_interactor = MouseInteractor(0.01, 1)\n",
    "        self.mouse_interactor.register_callbacks()\n",
    "\n",
    "    def init_glut(self):\n",
    "        \"\"\"\n",
    "            Set up window and main callback functions\n",
    "        \"\"\"\n",
    "        GLUT.glutInit(['Galaxy Renderer'])\n",
    "        GLUT.glutInitDisplayMode(GLUT.GLUT_DOUBLE | GLUT.GLUT_RGB)\n",
    "        GLUT.glutInitWindowSize(_WINDOW_SIZE[0], _WINDOW_SIZE[1])\n",
    "        GLUT.glutInitWindowPosition(_WINDOW_POSITION[0], _WINDOW_POSITION[1])\n",
    "        GLUT.glutCreateWindow(str.encode(\"Galaxy Renderer\"))\n",
    "        GLUT.glutDisplayFunc(self.render)\n",
    "        GLUT.glutIdleFunc(self.update_positions)\n",
    "\n",
    "    def init_gl(self):\n",
    "        \"\"\"\n",
    "            Initialise OpenGL settings\n",
    "        \"\"\"\n",
    "        self.sphere = GL.glGenLists(1)\n",
    "        GL.glNewList(self.sphere, GL.GL_COMPILE)\n",
    "        quad_obj = GLU.gluNewQuadric()\n",
    "        GLU.gluQuadricDrawStyle(quad_obj, GLU.GLU_FILL)\n",
    "        GLU.gluQuadricNormals(quad_obj, GLU.GLU_SMOOTH)\n",
    "        GLU.gluSphere(quad_obj, 1, 32, 32)\n",
    "        GL.glEndList()\n",
    "        GL.glShadeModel(GL.GL_SMOOTH)\n",
    "        GL.glEnable(GL.GL_DEPTH_TEST)\n",
    "        GL.glEnable(GL.GL_CULL_FACE)\n",
    "        GL.glEnable(GL.GL_LIGHTING)\n",
    "        # make sure normal vectors of scaled spheres are normalised\n",
    "        GL.glEnable(GL.GL_NORMALIZE)\n",
    "        GL.glEnable(GL.GL_LIGHT0)\n",
    "        light_pos = list(_LIGHT_POSITION) + [1]\n",
    "        GL.glLightfv(GL.GL_LIGHT0, GL.GL_POSITION, light_pos)\n",
    "        GL.glLightfv(GL.GL_LIGHT0, GL.GL_AMBIENT, [0.0, 0.0, 1.0, 1.0])\n",
    "        GL.glLightfv(GL.GL_LIGHT0, GL.GL_DIFFUSE, [1.0, 0.0, 0.0, 1.0])\n",
    "        GL.glLightfv(GL.GL_LIGHT0, GL.GL_SPECULAR, [1.0, 1.0, 1.0, 1.0])\n",
    "        GL.glMaterialfv(GL.GL_FRONT, GL.GL_AMBIENT, [0.5, .2, .2, 1])\n",
    "        GL.glMaterialfv(GL.GL_FRONT, GL.GL_DIFFUSE, [0.7, 0.7, 0.7, 1])\n",
    "        GL.glMaterialfv(GL.GL_FRONT, GL.GL_SPECULAR, [0.1, 0.1, 0.1, 1])\n",
    "        GL.glMaterialf(GL.GL_FRONT, GL.GL_SHININESS, 2)\n",
    "        GL.glMatrixMode(GL.GL_PROJECTION)\n",
    "        GL.glLoadIdentity()\n",
    "        GLU.gluPerspective(60, 1, .01, 100)\n",
    "        GL.glMatrixMode(GL.GL_MODELVIEW)\n",
    "\n",
    "    def render(self):\n",
    "        \"\"\"\n",
    "            Render the scene using the sphere display list\n",
    "        \"\"\"\n",
    "        if self.do_exit:\n",
    "            print('renderer exiting ...')\n",
    "            # glut event loop needs hard exit ...\n",
    "            sys.exit(0)\n",
    "        if self.bodies is None:\n",
    "            time.sleep(1 / self.fps)\n",
    "            return\n",
    "        GL.glClear(GL.GL_COLOR_BUFFER_BIT | GL.GL_DEPTH_BUFFER_BIT)\n",
    "        GL.glMatrixMode(GL.GL_PROJECTION)\n",
    "        GL.glLoadIdentity()\n",
    "        x_size = GLUT.glutGet(GLUT.GLUT_WINDOW_WIDTH)\n",
    "        y_size = GLUT.glutGet(GLUT.GLUT_WINDOW_HEIGHT)\n",
    "        GLU.gluPerspective(60, float(x_size) / float(y_size), 0.01, 100)\n",
    "        GL.glMatrixMode(GL.GL_MODELVIEW)\n",
    "        GL.glLoadIdentity()\n",
    "        GL.glTranslatef(-_CAMERA_POSITION[0],\n",
    "                        -_CAMERA_POSITION[1],\n",
    "                        -_CAMERA_POSITION[2])\n",
    "        self.mouse_interactor.apply_transformation()\n",
    "        for body_index in range(self.bodies.shape[0]):\n",
    "            body = self.bodies[body_index, :]\n",
    "            GL.glPushMatrix()\n",
    "            GL.glTranslatef(body[0], body[1], body[2])\n",
    "            GL.glScalef(body[3], body[3], body[3])\n",
    "            GL.glCallList(self.sphere)\n",
    "            GL.glPopMatrix()\n",
    "        GLUT.glutSwapBuffers()\n",
    "\n",
    "    @staticmethod\n",
    "    def start():\n",
    "        \"\"\"\n",
    "            Start the GLUT event loop.\n",
    "        \"\"\"\n",
    "        GLUT.glutMainLoop()\n",
    "\n",
    "    def update_positions(self):\n",
    "        \"\"\"\n",
    "            Read new object positions from pipe.\n",
    "        \"\"\"\n",
    "        if self.render_pipe.poll():\n",
    "            pipe_input = self.render_pipe.recv()\n",
    "            if isinstance(pipe_input, str) and pipe_input == END_MESSAGE:\n",
    "                self.do_exit = True\n",
    "            else:\n",
    "                self.bodies = pipe_input\n",
    "                GLUT.glutPostRedisplay()\n",
    "        else:\n",
    "            time.sleep(1 / self.fps)\n",
    "\n",
    "\n",
    "def startup(render_pipe, fps):\n",
    "    \"\"\"\n",
    "        Create GalaxyRenderer instance and start rendering\n",
    "\n",
    "        Args:\n",
    "            render_pipe (multiprocessing.Pipe): Pipe to read positions from\n",
    "            fps (float): Number of frames per second\n",
    "    \"\"\"\n",
    "    print('creating renderer')\n",
    "    galaxy_renderer = GalaxyRenderer(render_pipe, fps)\n",
    "    print('starting renderer')\n",
    "    galaxy_renderer.start()\n",
    "    print('done')"
   ]
  },
  {
   "cell_type": "code",
   "execution_count": null,
   "metadata": {
    "collapsed": true
   },
   "outputs": [],
   "source": [
    "%%file ./pubyc_renderer/simulation.py\n",
    "\n",
    "import sys\n",
    "from loop import Loop\n",
    "from simulation_constants import END_MESSAGE\n",
    "import numpy as np\n",
    "import math\n",
    "import time\n",
    "\n",
    "def startup(sim_pipe):\n",
    "    python_position = [\n",
    "        #\"Sun\"\n",
    "        [0, 0, 0],     \n",
    "        #\"Mercury\"\n",
    "        [57_909_175_000, 0, 0], \n",
    "        #\"Venus\"\n",
    "        [108_208_930_000, 0, 0],    \n",
    "        #\"Earth\"\n",
    "        [149_597_890_000, 0, 0],    \n",
    "        #\"Moon\"\n",
    "        [149_597_890_000, 384_400_000, 0],    \n",
    "        #\"Mars\"\n",
    "        [227_936_640_000, 0, 0],    \n",
    "        #\"Jupiter\"\n",
    "        [778_412_020_000, 0, 0],    \n",
    "        #\"Saturn\"\n",
    "        [1_426_725_400_000, 0, 0],    \n",
    "        #\"Uranus\"\n",
    "        [2_870_972_200_000, 0, 0],    \n",
    "        #\"Neptune\"\n",
    "        [4_498_252_900_000, 0, 0]\n",
    "    ]\n",
    "\n",
    "    python_speed = [\n",
    "        #\"Sun\"\n",
    "        [0, 0, 0],     \n",
    "        #\"Mercury\"\n",
    "        [0, 47_872, 0], \n",
    "        #\"Venus\"\n",
    "        [0, 35_021, 0],    \n",
    "        #\"Earth\"\n",
    "        [0, 29_786, 0],    \n",
    "        #\"Moon\"\n",
    "        [-1_022, 0, 0],    \n",
    "        #\"Mars\"\n",
    "        [0, 24_131, 0],    \n",
    "        #\"Jupiter\"\n",
    "        [0, 13_069, 0],    \n",
    "        #\"Saturn\"\n",
    "        [0, 9_672, 0],    \n",
    "        #\"Uranus\"\n",
    "        [0, 6_835, 0],    \n",
    "        #\"Neptune\"\n",
    "        [0, 5_477, 0]\n",
    "    ]\n",
    "\n",
    "    python_masse = [\n",
    "        #\"Sun\"\n",
    "        1.9889 * 10 ** 30,     \n",
    "        #\"Mercury\"\n",
    "        3.3022 * 10 ** 23, \n",
    "        #\"Venus\"\n",
    "        4.8685 * 10 ** 24,    \n",
    "        #\"Earth\"\n",
    "        5.97219 * 10 ** 24,    \n",
    "        #\"Moon\"\n",
    "        7.34767309 * 10 ** 22,    \n",
    "        #\"Mars\"\n",
    "        6.4185 * 10 ** 23,    \n",
    "        #\"Jupiter\"\n",
    "        1.8987 * 10 ** 27,    \n",
    "        #\"Saturn\"\n",
    "        5.6851 * 10 ** 26,    \n",
    "        #\"Uranus\"\n",
    "        8.6849 * 10 ** 25,    \n",
    "        #\"Neptune\"\n",
    "        1.0244 * 10 ** 26\n",
    "    ]\n",
    "\n",
    "    FACTOR = 5\n",
    "    radius =  [\n",
    "        0.25 * FACTOR,\n",
    "        0.02 * FACTOR,\n",
    "        0.06 * FACTOR,\n",
    "        0.06 * FACTOR,\n",
    "        0.01 * FACTOR,\n",
    "        0.03 * FACTOR,\n",
    "        0.18 * FACTOR,\n",
    "        0.15 * FACTOR,\n",
    "        0.1 * FACTOR,\n",
    "        0.1 * FACTOR\n",
    "    ]\n",
    "    position = np.array(python_position, dtype=np.float64)\n",
    "    speed = np.array(python_speed, dtype=np.float64)\n",
    "    masse = np.array(python_masse, dtype=np.float64)\n",
    "    dt = 60\n",
    "\n",
    "    while True:\n",
    "        if sim_pipe.poll():\n",
    "            message = sim_pipe.recv()\n",
    "            if isinstance(message, str) and message == END_MESSAGE:\n",
    "                print('simulation exiting ...')\n",
    "                sys.exit(0)\n",
    "\n",
    "\n",
    "        Loop(position, speed, masse, dt)\n",
    "\n",
    "        body_array = np.zeros((len(python_position), 4), dtype=np.float64)\n",
    "        normalization = -11\n",
    "        \n",
    "        for body_index in range(len(python_position)):\n",
    "            body_array[body_index][0] = position[body_index][0] / 4_498_252_900_000\n",
    "            body_array[body_index][1] = position[body_index][1] / 4_498_252_900_000\n",
    "            body_array[body_index][2] = position[body_index][2] / 4_498_252_900_000\n",
    "            body_array[body_index][3] = radius[body_index]\n",
    "            \n",
    "        print(position)            \n",
    "        time.sleep(0.1)\n",
    "\n",
    "        sim_pipe.send(body_array)"
   ]
  },
  {
   "cell_type": "code",
   "execution_count": null,
   "metadata": {
    "collapsed": true
   },
   "outputs": [],
   "source": []
  }
 ],
 "metadata": {
  "kernelspec": {
   "display_name": "Python 3",
   "language": "python",
   "name": "python3"
  },
  "language_info": {
   "codemirror_mode": {
    "name": "ipython",
    "version": 3
   },
   "file_extension": ".py",
   "mimetype": "text/x-python",
   "name": "python",
   "nbconvert_exporter": "python",
   "pygments_lexer": "ipython3",
   "version": "3.6.3"
  },
  "latex_envs": {
   "LaTeX_envs_menu_present": true,
   "autocomplete": true,
   "bibliofile": "biblio.bib",
   "cite_by": "apalike",
   "current_citInitial": 1,
   "eqLabelWithNumbers": true,
   "eqNumInitial": 1,
   "hotkeys": {
    "equation": "Ctrl-E",
    "itemize": "Ctrl-I"
   },
   "labels_anchors": false,
   "latex_user_defs": false,
   "report_style_numbering": false,
   "user_envs_cfg": false
  }
 },
 "nbformat": 4,
 "nbformat_minor": 2
}
