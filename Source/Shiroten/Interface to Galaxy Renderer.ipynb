{
 "cells": [
  {
   "cell_type": "code",
   "execution_count": null,
   "metadata": {
    "collapsed": true
   },
   "outputs": [],
   "source": [
    "    def render_list(self):\n",
    "        array = np.zeros(4, dtype=np.float64)\n",
    "        normalization = -11\n",
    "        array[0] = self.position[0] * pow(10, normalization)\n",
    "        array[1] = self.position[1] * pow(10, normalization)\n",
    "        array[2] = self.position[2] * pow(10, normalization)\n",
    "        array[3] = self.radius\n",
    "        return array\n",
    "    \n",
    "        def listify_oschis(self):\n",
    "        body_array = np.zeros((len(self.oschis), 4), dtype=np.float64)\n",
    "        i = 0\n",
    "        for o in self.oschis:\n",
    "            body_array[i] = o.render_list()\n",
    "            i += 1\n",
    "        return body_array\n",
    "    \n",
    "        return body_array    "
   ]
  }
 ],
 "metadata": {
  "kernelspec": {
   "display_name": "Python 3",
   "language": "python",
   "name": "python3"
  },
  "language_info": {
   "codemirror_mode": {
    "name": "ipython",
    "version": 3
   },
   "file_extension": ".py",
   "mimetype": "text/x-python",
   "name": "python",
   "nbconvert_exporter": "python",
   "pygments_lexer": "ipython3",
   "version": "3.6.3"
  },
  "latex_envs": {
   "LaTeX_envs_menu_present": true,
   "autocomplete": true,
   "bibliofile": "biblio.bib",
   "cite_by": "apalike",
   "current_citInitial": 1,
   "eqLabelWithNumbers": true,
   "eqNumInitial": 1,
   "hotkeys": {
    "equation": "Ctrl-E",
    "itemize": "Ctrl-I"
   },
   "labels_anchors": false,
   "latex_user_defs": false,
   "report_style_numbering": false,
   "user_envs_cfg": false
  }
 },
 "nbformat": 4,
 "nbformat_minor": 2
}
